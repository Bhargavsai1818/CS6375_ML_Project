{
 "cells": [
  {
   "cell_type": "code",
   "execution_count": 3,
   "id": "7a084bc2-bcb3-47c1-ac84-b6df4d15b7cb",
   "metadata": {},
   "outputs": [
    {
     "name": "stderr",
     "output_type": "stream",
     "text": [
      "2025-05-12 21:43:33,930 - __main__ - INFO - Loaded dataset with 115 rows and 5 columns\n",
      "[nltk_data] Error loading punkt: <urlopen error [SSL:\n",
      "[nltk_data]     CERTIFICATE_VERIFY_FAILED] certificate verify failed:\n",
      "[nltk_data]     unable to get local issuer certificate (_ssl.c:1028)>\n",
      "[nltk_data] Error loading stopwords: <urlopen error [SSL:\n",
      "[nltk_data]     CERTIFICATE_VERIFY_FAILED] certificate verify failed:\n",
      "[nltk_data]     unable to get local issuer certificate (_ssl.c:1028)>\n",
      "[nltk_data] Error loading wordnet: <urlopen error [SSL:\n",
      "[nltk_data]     CERTIFICATE_VERIFY_FAILED] certificate verify failed:\n",
      "[nltk_data]     unable to get local issuer certificate (_ssl.c:1028)>\n",
      "2025-05-12 21:43:34,083 - __main__ - WARNING - Error initializing NLTK resources: \n",
      "**********************************************************************\n",
      "  Resource \u001b[93mstopwords\u001b[0m not found.\n",
      "  Please use the NLTK Downloader to obtain the resource:\n",
      "\n",
      "  \u001b[31m>>> import nltk\n",
      "  >>> nltk.download('stopwords')\n",
      "  \u001b[0m\n",
      "  For more information see: https://www.nltk.org/data.html\n",
      "\n",
      "  Attempted to load \u001b[93mcorpora/stopwords\u001b[0m\n",
      "\n",
      "  Searched in:\n",
      "    - '/Users/bhargav/nltk_data'\n",
      "    - '/Library/Frameworks/Python.framework/Versions/3.13/nltk_data'\n",
      "    - '/Library/Frameworks/Python.framework/Versions/3.13/share/nltk_data'\n",
      "    - '/Library/Frameworks/Python.framework/Versions/3.13/lib/nltk_data'\n",
      "    - '/usr/share/nltk_data'\n",
      "    - '/usr/local/share/nltk_data'\n",
      "    - '/usr/lib/nltk_data'\n",
      "    - '/usr/local/lib/nltk_data'\n",
      "**********************************************************************\n",
      "\n",
      "2025-05-12 21:43:34,083 - __main__ - WARNING - Proceeding with basic preprocessing (no NLTK-dependent features)\n",
      "2025-05-12 21:43:34,084 - __main__ - INFO - Applying full cleaning to create column text_clean_full\n",
      "2025-05-12 21:43:34,096 - __main__ - INFO - Applying basic cleaning to create column text_clean_basic\n",
      "2025-05-12 21:43:34,118 - __main__ - INFO - Applying no_lemma cleaning to create column text_clean_no_lemma\n",
      "2025-05-12 21:43:34,125 - __main__ - INFO - Preprocessed dataset with columns: ['text', 'source', 'label', 'topic', 'regeneration_mistral', 'text_clean_full', 'text_clean_basic', 'text_clean_no_lemma']\n",
      "2025-05-12 21:43:34,127 - __main__ - INFO - Removed 0 outliers (0.00% of data)\n",
      "2025-05-12 21:43:34,129 - __main__ - INFO - Text length distribution after filtering: Min=70, Max=324, Mean=139.17\n",
      "2025-05-12 21:43:34,133 - __main__ - INFO - Cleaned regeneration column: regeneration_mistral -> regeneration_mistral_clean\n",
      "2025-05-12 21:43:34,142 - __main__ - INFO - Preprocessed data saved to data/processed/preprocessed_dataset.csv\n"
     ]
    },
    {
     "name": "stdout",
     "output_type": "stream",
     "text": [
      "\n",
      "Sample of preprocessed data:\n",
      "                                    text_clean_basic  \\\n",
      "0  although all of germany's stated demands had b...   \n",
      "1  the renaissance began in times of religious tu...   \n",
      "\n",
      "  regeneration_mistral_clean  \n",
      "0                       None  \n",
      "1                       None  \n"
     ]
    }
   ],
   "source": [
    "import pandas as pd\n",
    "import re\n",
    "import nltk\n",
    "import os\n",
    "import ssl\n",
    "import string\n",
    "import unicodedata\n",
    "import logging\n",
    "\n",
    "# Set up logging\n",
    "logging.basicConfig(\n",
    "    level=logging.INFO,\n",
    "    format='%(asctime)s - %(name)s - %(levelname)s - %(message)s'\n",
    ")\n",
    "logger = logging.getLogger(__name__)\n",
    "\n",
    "class TextPreprocessor:\n",
    "    \"\"\"Class for preprocessing text data for AI detection.\"\"\"\n",
    "    \n",
    "    def __init__(self, use_nltk=True):\n",
    "        \"\"\"Initialize the text preprocessor with required NLTK resources.\"\"\"\n",
    "        self.use_nltk = use_nltk\n",
    "        \n",
    "        # Default empty sets in case NLTK fails\n",
    "        self.stop_words = set()\n",
    "        self.lemmatizer = None\n",
    "        \n",
    "        if use_nltk:\n",
    "            try:\n",
    "                # Fix SSL certificate verification issue\n",
    "                try:\n",
    "                    _create_unverified_https_context = ssl._create_unverified_context\n",
    "                except AttributeError:\n",
    "                    pass\n",
    "                else:\n",
    "                    ssl._create_default_https_context = _create_unverified_https_context\n",
    "                \n",
    "                # Create NLTK data directory if it doesn't exist\n",
    "                nltk_data_dir = os.path.expanduser('~/nltk_data')\n",
    "                os.makedirs(nltk_data_dir, exist_ok=True)\n",
    "                \n",
    "                # Download necessary NLTK resources\n",
    "                nltk.download('punkt', quiet=True, download_dir=nltk_data_dir)\n",
    "                nltk.download('stopwords', quiet=True, download_dir=nltk_data_dir)\n",
    "                nltk.download('wordnet', quiet=True, download_dir=nltk_data_dir)\n",
    "                \n",
    "                # Import resources after download\n",
    "                from nltk.corpus import stopwords\n",
    "                from nltk.stem import WordNetLemmatizer\n",
    "                \n",
    "                self.stop_words = set(stopwords.words('english'))\n",
    "                self.lemmatizer = WordNetLemmatizer()\n",
    "                logger.info(\"NLTK resources loaded successfully\")\n",
    "            except Exception as e:\n",
    "                logger.warning(f\"Error initializing NLTK resources: {e}\")\n",
    "                logger.warning(\"Proceeding with basic preprocessing (no NLTK-dependent features)\")\n",
    "                self.use_nltk = False\n",
    "    \n",
    "    def normalize_text(self, text):\n",
    "        \"\"\"Normalize text by removing unusual characters and standardizing format.\"\"\"\n",
    "        if not isinstance(text, str):\n",
    "            return \"\"\n",
    "        \n",
    "        # Convert to lowercase\n",
    "        text = text.lower()\n",
    "        \n",
    "        # Normalize unicode characters\n",
    "        text = unicodedata.normalize('NFKD', text).encode('ascii', 'ignore').decode('utf-8', 'ignore')\n",
    "        \n",
    "        # Remove URLs\n",
    "        text = re.sub(r'https?://\\S+|www\\.\\S+', '', text)\n",
    "        \n",
    "        # Remove HTML tags\n",
    "        text = re.sub(r'<.*?>', '', text)\n",
    "        \n",
    "        # Replace multiple spaces with single space\n",
    "        text = re.sub(r'\\s+', ' ', text)\n",
    "        \n",
    "        return text.strip()\n",
    "    \n",
    "    def remove_punctuation(self, text):\n",
    "        \"\"\"Remove punctuation from text.\"\"\"\n",
    "        translator = str.maketrans('', '', string.punctuation)\n",
    "        return text.translate(translator)\n",
    "    \n",
    "    def remove_stopwords(self, text):\n",
    "        \"\"\"Remove stopwords from text.\"\"\"\n",
    "        if not self.use_nltk or not self.stop_words:\n",
    "            # Basic stopword removal without NLTK\n",
    "            basic_stopwords = {'a', 'an', 'the', 'and', 'or', 'but', 'if', 'because', \n",
    "                              'as', 'what', 'when', 'where', 'how', 'is', 'are', 'was', \n",
    "                              'were', 'be', 'been', 'being', 'have', 'has', 'had', 'do', \n",
    "                              'does', 'did', 'to', 'at', 'in', 'on', 'by', 'for', 'with', \n",
    "                              'about', 'against', 'between', 'into', 'through', 'during', \n",
    "                              'before', 'after', 'above', 'below', 'from', 'up', 'down', \n",
    "                              'of', 'off', 'over', 'under', 'again', 'further', 'then', \n",
    "                              'once', 'here', 'there', 'all', 'any', 'both', 'each', 'few', \n",
    "                              'more', 'most', 'other', 'some', 'such', 'no', 'nor', 'not', \n",
    "                              'only', 'own', 'same', 'so', 'than', 'too', 'very', 'can', \n",
    "                              'will', 'just', 'should', 'now'}\n",
    "            words = text.split()\n",
    "            filtered_text = [word for word in words if word.lower() not in basic_stopwords]\n",
    "            return ' '.join(filtered_text)\n",
    "        \n",
    "        try:\n",
    "            from nltk.tokenize import word_tokenize\n",
    "            word_tokens = word_tokenize(text)\n",
    "            filtered_text = [word for word in word_tokens if word.lower() not in self.stop_words]\n",
    "            return ' '.join(filtered_text)\n",
    "        except Exception as e:\n",
    "            logger.warning(f\"Error in stopword removal: {e}. Using basic split instead.\")\n",
    "            words = text.split()\n",
    "            filtered_text = [word for word in words if word.lower() not in self.stop_words]\n",
    "            return ' '.join(filtered_text)\n",
    "    \n",
    "    def lemmatize_text(self, text):\n",
    "        \"\"\"Lemmatize text to reduce words to their base form.\"\"\"\n",
    "        if not self.use_nltk or not self.lemmatizer:\n",
    "            # Skip lemmatization if NLTK not available\n",
    "            return text\n",
    "        \n",
    "        try:\n",
    "            from nltk.tokenize import word_tokenize\n",
    "            word_tokens = word_tokenize(text)\n",
    "            lemmatized_text = [self.lemmatizer.lemmatize(word) for word in word_tokens]\n",
    "            return ' '.join(lemmatized_text)\n",
    "        except Exception as e:\n",
    "            logger.warning(f\"Error in lemmatization: {e}. Skipping lemmatization.\")\n",
    "            return text\n",
    "    \n",
    "    def clean_text(self, text, remove_stop=True, lemmatize=True, remove_punct=True):\n",
    "        \"\"\"Apply full text cleaning pipeline with configurable steps.\"\"\"\n",
    "        if not text:\n",
    "            return \"\"\n",
    "        \n",
    "        # Normalize text (always applied)\n",
    "        cleaned_text = self.normalize_text(text)\n",
    "        \n",
    "        # Apply optional cleaning steps\n",
    "        if remove_punct:\n",
    "            cleaned_text = self.remove_punctuation(cleaned_text)\n",
    "        \n",
    "        if remove_stop:\n",
    "            cleaned_text = self.remove_stopwords(cleaned_text)\n",
    "        \n",
    "        if lemmatize and self.use_nltk:\n",
    "            cleaned_text = self.lemmatize_text(cleaned_text)\n",
    "        \n",
    "        return cleaned_text\n",
    "    \n",
    "    def preprocess_dataset(self, df, text_column='text', clean_columns=None, keep_original=True):\n",
    "        \"\"\"\n",
    "        Preprocess text data in a DataFrame.\n",
    "        \n",
    "        Args:\n",
    "            df (pd.DataFrame): DataFrame containing text data\n",
    "            text_column (str): Name of column containing raw text\n",
    "            clean_columns (dict): Dictionary mapping cleaning options to new column names\n",
    "                                 e.g., {'full': 'text_clean', 'no_lemma': 'text_no_lemma'}\n",
    "            keep_original (bool): Whether to keep the original text column\n",
    "            \n",
    "        Returns:\n",
    "            pd.DataFrame: DataFrame with preprocessed text columns\n",
    "        \"\"\"\n",
    "        # Create a copy to avoid modifying the original DataFrame\n",
    "        result_df = df.copy()\n",
    "        \n",
    "        if clean_columns is None:\n",
    "            # Default: Add a single fully cleaned text column\n",
    "            clean_columns = {'full': 'text_clean'}\n",
    "        \n",
    "        for clean_type, col_name in clean_columns.items():\n",
    "            logger.info(f\"Applying {clean_type} cleaning to create column {col_name}\")\n",
    "            \n",
    "            if clean_type == 'full':\n",
    "                result_df[col_name] = result_df[text_column].apply(\n",
    "                    lambda x: self.clean_text(x, remove_stop=True, lemmatize=True, remove_punct=True)\n",
    "                )\n",
    "            elif clean_type == 'no_lemma':\n",
    "                result_df[col_name] = result_df[text_column].apply(\n",
    "                    lambda x: self.clean_text(x, remove_stop=True, lemmatize=False, remove_punct=True)\n",
    "                )\n",
    "            elif clean_type == 'no_stop':\n",
    "                result_df[col_name] = result_df[text_column].apply(\n",
    "                    lambda x: self.clean_text(x, remove_stop=False, lemmatize=True, remove_punct=True)\n",
    "                )\n",
    "            elif clean_type == 'basic':\n",
    "                result_df[col_name] = result_df[text_column].apply(\n",
    "                    lambda x: self.normalize_text(x)\n",
    "                )\n",
    "            else:\n",
    "                logger.warning(f\"Unknown cleaning type '{clean_type}', skipping\")\n",
    "                continue\n",
    "        \n",
    "        # Drop original text column if not keeping it\n",
    "        if not keep_original and text_column not in clean_columns.values():\n",
    "            result_df = result_df.drop(columns=[text_column])\n",
    "        \n",
    "        return result_df\n",
    "    \n",
    "    def handle_outliers(self, df, text_column='text', min_length=50, max_length=10000):\n",
    "        \"\"\"\n",
    "        Handle text outliers by filtering out very short or long texts.\n",
    "        \n",
    "        Args:\n",
    "            df (pd.DataFrame): DataFrame containing text data\n",
    "            text_column (str): Name of column containing text\n",
    "            min_length (int): Minimum acceptable text length\n",
    "            max_length (int): Maximum acceptable text length\n",
    "            \n",
    "        Returns:\n",
    "            pd.DataFrame: DataFrame with outliers removed\n",
    "        \"\"\"\n",
    "        original_count = len(df)\n",
    "        \n",
    "        # Calculate text lengths\n",
    "        df['text_length'] = df[text_column].apply(lambda x: len(str(x).split()))\n",
    "        \n",
    "        # Filter by length\n",
    "        filtered_df = df[(df['text_length'] >= min_length) & (df['text_length'] <= max_length)]\n",
    "        \n",
    "        filtered_count = len(filtered_df)\n",
    "        removed_count = original_count - filtered_count\n",
    "        \n",
    "        logger.info(f\"Removed {removed_count} outliers ({removed_count/original_count:.2%} of data)\")\n",
    "        logger.info(f\"Text length distribution after filtering: Min={filtered_df['text_length'].min()}, Max={filtered_df['text_length'].max()}, Mean={filtered_df['text_length'].mean():.2f}\")\n",
    "        \n",
    "        return filtered_df\n",
    "    \n",
    "    def preprocess_dataset_with_regenerations(self, df, text_column='text', regen_columns=None, clean_type='basic'):\n",
    "        \"\"\"\n",
    "        Preprocess both original and regenerated texts in a dataset.\n",
    "        \n",
    "        Args:\n",
    "            df (pd.DataFrame): DataFrame with text data\n",
    "            text_column (str): Name of column containing original text\n",
    "            regen_columns (list): List of column names containing regenerated texts\n",
    "            clean_type (str): Type of cleaning to apply ('full', 'basic', etc.)\n",
    "            \n",
    "        Returns:\n",
    "            pd.DataFrame: DataFrame with preprocessed columns\n",
    "        \"\"\"\n",
    "        result_df = df.copy()\n",
    "        \n",
    "        # If no regeneration columns specified, try to find columns starting with 'regeneration_'\n",
    "        if regen_columns is None:\n",
    "            regen_columns = [col for col in df.columns if col.startswith('regeneration_')]\n",
    "        \n",
    "        # Define cleaning function based on clean_type\n",
    "        if clean_type == 'full':\n",
    "            clean_func = lambda x: self.clean_text(x, remove_stop=True, lemmatize=True, remove_punct=True)\n",
    "        elif clean_type == 'no_lemma':\n",
    "            clean_func = lambda x: self.clean_text(x, remove_stop=True, lemmatize=False, remove_punct=True)\n",
    "        elif clean_type == 'basic':\n",
    "            clean_func = lambda x: self.normalize_text(x)\n",
    "        else:\n",
    "            logger.warning(f\"Unknown clean_type '{clean_type}', defaulting to 'basic'\")\n",
    "            clean_func = lambda x: self.normalize_text(x)\n",
    "        \n",
    "        # Clean original text\n",
    "        orig_clean_col = f\"{text_column}_clean\"\n",
    "        result_df[orig_clean_col] = result_df[text_column].apply(clean_func)\n",
    "        \n",
    "        # Clean each regeneration column\n",
    "        for regen_col in regen_columns:\n",
    "            if regen_col in df.columns:\n",
    "                regen_clean_col = f\"{regen_col}_clean\"\n",
    "                result_df[regen_clean_col] = result_df[regen_col].apply(\n",
    "                    lambda x: clean_func(x) if pd.notna(x) and x != \"ERROR\" else None\n",
    "                )\n",
    "                logger.info(f\"Cleaned regeneration column: {regen_col} -> {regen_clean_col}\")\n",
    "            else:\n",
    "                logger.warning(f\"Regeneration column '{regen_col}' not found in DataFrame\")\n",
    "        \n",
    "        return result_df\n",
    "\n",
    "def main():\n",
    "    \"\"\"Demonstrate the text preprocessing functionality.\"\"\"\n",
    "    # Create output directory\n",
    "    os.makedirs('data/processed', exist_ok=True)\n",
    "    \n",
    "    # Load sample data\n",
    "    try:\n",
    "        df = pd.read_csv('ai_text_detection_dataset.csv')\n",
    "        logger.info(f\"Loaded dataset with {len(df)} rows and {len(df.columns)} columns\")\n",
    "        \n",
    "        # Initialize preprocessor with fallback option if NLTK fails\n",
    "        try:\n",
    "            preprocessor = TextPreprocessor(use_nltk=True)\n",
    "        except Exception as e:\n",
    "            logger.warning(f\"Error initializing with NLTK: {e}\")\n",
    "            logger.info(\"Falling back to basic preprocessor without NLTK\")\n",
    "            preprocessor = TextPreprocessor(use_nltk=False)\n",
    "        \n",
    "        # Preprocess dataset with various cleaning options\n",
    "        clean_columns = {\n",
    "            'full': 'text_clean_full',\n",
    "            'basic': 'text_clean_basic',\n",
    "            'no_lemma': 'text_clean_no_lemma'\n",
    "        }\n",
    "        \n",
    "        processed_df = preprocessor.preprocess_dataset(df, text_column='text', clean_columns=clean_columns)\n",
    "        logger.info(f\"Preprocessed dataset with columns: {processed_df.columns.tolist()}\")\n",
    "        \n",
    "        # Handle outliers\n",
    "        filtered_df = preprocessor.handle_outliers(processed_df, text_column='text')\n",
    "        \n",
    "        # Preprocess regenerations\n",
    "        final_df = preprocessor.preprocess_dataset_with_regenerations(\n",
    "            filtered_df, \n",
    "            text_column='text',\n",
    "            clean_type='basic'\n",
    "        )\n",
    "        \n",
    "        # Save preprocessed data\n",
    "        output_file = 'data/processed/preprocessed_dataset.csv'\n",
    "        final_df.to_csv(output_file, index=False)\n",
    "        logger.info(f\"Preprocessed data saved to {output_file}\")\n",
    "        \n",
    "        # Display sample of preprocessed data\n",
    "        print(\"\\nSample of preprocessed data:\")\n",
    "        sample_cols = ['text_clean_basic']\n",
    "        regen_cols = [col for col in final_df.columns if 'regeneration' in col and 'clean' in col]\n",
    "        if regen_cols:\n",
    "            sample_cols.append(regen_cols[0])\n",
    "        print(final_df[sample_cols].head(2))\n",
    "        \n",
    "    except Exception as e:\n",
    "        logger.error(f\"Error in preprocessing demonstration: {e}\")\n",
    "        logger.exception(\"Detailed error:\")\n",
    "\n",
    "if __name__ == \"__main__\":\n",
    "    main()"
   ]
  },
  {
   "cell_type": "code",
   "execution_count": 7,
   "id": "a3916b30-209e-45b9-8210-43775723ed58",
   "metadata": {},
   "outputs": [
    {
     "name": "stderr",
     "output_type": "stream",
     "text": [
      "2025-05-12 21:52:22,002 - __main__ - INFO - Loaded preprocessed dataset with 115 rows\n",
      "[nltk_data] Error loading punkt: <urlopen error [SSL:\n",
      "[nltk_data]     CERTIFICATE_VERIFY_FAILED] certificate verify failed:\n",
      "[nltk_data]     unable to get local issuer certificate (_ssl.c:1028)>\n",
      "[nltk_data] Error loading wordnet: <urlopen error [SSL:\n",
      "[nltk_data]     CERTIFICATE_VERIFY_FAILED] certificate verify failed:\n",
      "[nltk_data]     unable to get local issuer certificate (_ssl.c:1028)>\n",
      "[nltk_data] Error loading omw-1.4: <urlopen error [SSL:\n",
      "[nltk_data]     CERTIFICATE_VERIFY_FAILED] certificate verify failed:\n",
      "[nltk_data]     unable to get local issuer certificate (_ssl.c:1028)>\n",
      "2025-05-12 21:52:22,263 - sentence_transformers.SentenceTransformer - INFO - Use pytorch device_name: mps\n",
      "2025-05-12 21:52:22,263 - sentence_transformers.SentenceTransformer - INFO - Load pretrained SentenceTransformer: all-MiniLM-L6-v2\n"
     ]
    },
    {
     "data": {
      "application/vnd.jupyter.widget-view+json": {
       "model_id": "862b793a7df7442cb172f7aeadc2f247",
       "version_major": 2,
       "version_minor": 0
      },
      "text/plain": [
       "modules.json:   0%|          | 0.00/349 [00:00<?, ?B/s]"
      ]
     },
     "metadata": {},
     "output_type": "display_data"
    },
    {
     "data": {
      "application/vnd.jupyter.widget-view+json": {
       "model_id": "87ee64f9270842bb8162627f2e6602c7",
       "version_major": 2,
       "version_minor": 0
      },
      "text/plain": [
       "config_sentence_transformers.json:   0%|          | 0.00/116 [00:00<?, ?B/s]"
      ]
     },
     "metadata": {},
     "output_type": "display_data"
    },
    {
     "data": {
      "application/vnd.jupyter.widget-view+json": {
       "model_id": "6f7ef735c4884a25a8ac4ae82eda962e",
       "version_major": 2,
       "version_minor": 0
      },
      "text/plain": [
       "README.md:   0%|          | 0.00/10.5k [00:00<?, ?B/s]"
      ]
     },
     "metadata": {},
     "output_type": "display_data"
    },
    {
     "data": {
      "application/vnd.jupyter.widget-view+json": {
       "model_id": "b0a53b632a15476db3d8b9e2c162aab5",
       "version_major": 2,
       "version_minor": 0
      },
      "text/plain": [
       "sentence_bert_config.json:   0%|          | 0.00/53.0 [00:00<?, ?B/s]"
      ]
     },
     "metadata": {},
     "output_type": "display_data"
    },
    {
     "data": {
      "application/vnd.jupyter.widget-view+json": {
       "model_id": "6c4c8a6793264a0584c778ea89ec1599",
       "version_major": 2,
       "version_minor": 0
      },
      "text/plain": [
       "config.json:   0%|          | 0.00/612 [00:00<?, ?B/s]"
      ]
     },
     "metadata": {},
     "output_type": "display_data"
    },
    {
     "data": {
      "application/vnd.jupyter.widget-view+json": {
       "model_id": "6683e80ec12749b0ae1bd4d23448dd7f",
       "version_major": 2,
       "version_minor": 0
      },
      "text/plain": [
       "model.safetensors:   0%|          | 0.00/90.9M [00:00<?, ?B/s]"
      ]
     },
     "metadata": {},
     "output_type": "display_data"
    },
    {
     "data": {
      "application/vnd.jupyter.widget-view+json": {
       "model_id": "4eebd629b0be4ba3bfa15dac42d63ed6",
       "version_major": 2,
       "version_minor": 0
      },
      "text/plain": [
       "tokenizer_config.json:   0%|          | 0.00/350 [00:00<?, ?B/s]"
      ]
     },
     "metadata": {},
     "output_type": "display_data"
    },
    {
     "data": {
      "application/vnd.jupyter.widget-view+json": {
       "model_id": "a467adc4644040eba4490ca069fc0845",
       "version_major": 2,
       "version_minor": 0
      },
      "text/plain": [
       "vocab.txt:   0%|          | 0.00/232k [00:00<?, ?B/s]"
      ]
     },
     "metadata": {},
     "output_type": "display_data"
    },
    {
     "data": {
      "application/vnd.jupyter.widget-view+json": {
       "model_id": "c336bd878e8f4e33b983618f1ac552e4",
       "version_major": 2,
       "version_minor": 0
      },
      "text/plain": [
       "tokenizer.json:   0%|          | 0.00/466k [00:00<?, ?B/s]"
      ]
     },
     "metadata": {},
     "output_type": "display_data"
    },
    {
     "data": {
      "application/vnd.jupyter.widget-view+json": {
       "model_id": "5458e03c7f7b47168808afc83c3369e2",
       "version_major": 2,
       "version_minor": 0
      },
      "text/plain": [
       "special_tokens_map.json:   0%|          | 0.00/112 [00:00<?, ?B/s]"
      ]
     },
     "metadata": {},
     "output_type": "display_data"
    },
    {
     "data": {
      "application/vnd.jupyter.widget-view+json": {
       "model_id": "50e2b4e932a6425690ab9e33a7ba7f6e",
       "version_major": 2,
       "version_minor": 0
      },
      "text/plain": [
       "config.json:   0%|          | 0.00/190 [00:00<?, ?B/s]"
      ]
     },
     "metadata": {},
     "output_type": "display_data"
    },
    {
     "name": "stderr",
     "output_type": "stream",
     "text": [
      "2025-05-12 21:52:34,158 - __main__ - INFO - Using CPU for embeddings\n",
      "2025-05-12 21:52:34,165 - __main__ - WARNING - Clean regeneration column 'regeneration_mistral_clean_basic' not found. Using original column.\n",
      "2025-05-12 21:52:34,165 - __main__ - INFO - Computing similarities between 'text_clean_basic' and 'regeneration_mistral'\n",
      "Computing mistral_similarities:   0%|                   | 0/115 [00:00<?, ?it/s]2025-05-12 21:52:34,169 - __main__ - ERROR - Error computing BLEU score: \n",
      "**********************************************************************\n",
      "  Resource \u001b[93mpunkt_tab\u001b[0m not found.\n",
      "  Please use the NLTK Downloader to obtain the resource:\n",
      "\n",
      "  \u001b[31m>>> import nltk\n",
      "  >>> nltk.download('punkt_tab')\n",
      "  \u001b[0m\n",
      "  For more information see: https://www.nltk.org/data.html\n",
      "\n",
      "  Attempted to load \u001b[93mtokenizers/punkt_tab/english/\u001b[0m\n",
      "\n",
      "  Searched in:\n",
      "    - '/Users/bhargav/nltk_data'\n",
      "    - '/Library/Frameworks/Python.framework/Versions/3.13/nltk_data'\n",
      "    - '/Library/Frameworks/Python.framework/Versions/3.13/share/nltk_data'\n",
      "    - '/Library/Frameworks/Python.framework/Versions/3.13/lib/nltk_data'\n",
      "    - '/usr/share/nltk_data'\n",
      "    - '/usr/local/share/nltk_data'\n",
      "    - '/usr/lib/nltk_data'\n",
      "    - '/usr/local/lib/nltk_data'\n",
      "**********************************************************************\n",
      "\n",
      "2025-05-12 21:52:34,170 - __main__ - ERROR - Error computing ROUGE scores: \n",
      "2025-05-12 21:52:34,172 - __main__ - ERROR - Error computing Levenshtein similarity: object of type 'float' has no len()\n",
      "2025-05-12 21:52:34,172 - __main__ - ERROR - Error computing Jaccard similarity: \n",
      "**********************************************************************\n",
      "  Resource \u001b[93mpunkt_tab\u001b[0m not found.\n",
      "  Please use the NLTK Downloader to obtain the resource:\n",
      "\n",
      "  \u001b[31m>>> import nltk\n",
      "  >>> nltk.download('punkt_tab')\n",
      "  \u001b[0m\n",
      "  For more information see: https://www.nltk.org/data.html\n",
      "\n",
      "  Attempted to load \u001b[93mtokenizers/punkt_tab/english/\u001b[0m\n",
      "\n",
      "  Searched in:\n",
      "    - '/Users/bhargav/nltk_data'\n",
      "    - '/Library/Frameworks/Python.framework/Versions/3.13/nltk_data'\n",
      "    - '/Library/Frameworks/Python.framework/Versions/3.13/share/nltk_data'\n",
      "    - '/Library/Frameworks/Python.framework/Versions/3.13/lib/nltk_data'\n",
      "    - '/usr/share/nltk_data'\n",
      "    - '/usr/local/share/nltk_data'\n",
      "    - '/usr/lib/nltk_data'\n",
      "    - '/usr/local/lib/nltk_data'\n",
      "**********************************************************************\n",
      "\n"
     ]
    },
    {
     "data": {
      "application/vnd.jupyter.widget-view+json": {
       "model_id": "d4de1aae0db846b98ea0433ec3d51dc8",
       "version_major": 2,
       "version_minor": 0
      },
      "text/plain": [
       "Batches:   0%|          | 0/1 [00:00<?, ?it/s]"
      ]
     },
     "metadata": {},
     "output_type": "display_data"
    },
    {
     "data": {
      "application/vnd.jupyter.widget-view+json": {
       "model_id": "9c233ac2550843d0ae72283e4e9b0856",
       "version_major": 2,
       "version_minor": 0
      },
      "text/plain": [
       "Batches:   0%|          | 0/1 [00:00<?, ?it/s]"
      ]
     },
     "metadata": {},
     "output_type": "display_data"
    },
    {
     "name": "stderr",
     "output_type": "stream",
     "text": [
      "2025-05-12 21:52:35,961 - __main__ - ERROR - Error computing BERT similarity: 'float' object is not subscriptable\n",
      "Computing mistral_similarities:   1%|           | 1/115 [00:01<03:24,  1.79s/it]2025-05-12 21:52:35,962 - __main__ - ERROR - Error computing BLEU score: \n",
      "**********************************************************************\n",
      "  Resource \u001b[93mpunkt_tab\u001b[0m not found.\n",
      "  Please use the NLTK Downloader to obtain the resource:\n",
      "\n",
      "  \u001b[31m>>> import nltk\n",
      "  >>> nltk.download('punkt_tab')\n",
      "  \u001b[0m\n",
      "  For more information see: https://www.nltk.org/data.html\n",
      "\n",
      "  Attempted to load \u001b[93mtokenizers/punkt_tab/english/\u001b[0m\n",
      "\n",
      "  Searched in:\n",
      "    - '/Users/bhargav/nltk_data'\n",
      "    - '/Library/Frameworks/Python.framework/Versions/3.13/nltk_data'\n",
      "    - '/Library/Frameworks/Python.framework/Versions/3.13/share/nltk_data'\n",
      "    - '/Library/Frameworks/Python.framework/Versions/3.13/lib/nltk_data'\n",
      "    - '/usr/share/nltk_data'\n",
      "    - '/usr/local/share/nltk_data'\n",
      "    - '/usr/lib/nltk_data'\n",
      "    - '/usr/local/lib/nltk_data'\n",
      "**********************************************************************\n",
      "\n",
      "2025-05-12 21:52:35,962 - __main__ - ERROR - Error computing ROUGE scores: \n",
      "2025-05-12 21:52:35,963 - __main__ - ERROR - Error computing Levenshtein similarity: object of type 'float' has no len()\n",
      "2025-05-12 21:52:35,963 - __main__ - ERROR - Error computing Jaccard similarity: \n",
      "**********************************************************************\n",
      "  Resource \u001b[93mpunkt_tab\u001b[0m not found.\n",
      "  Please use the NLTK Downloader to obtain the resource:\n",
      "\n",
      "  \u001b[31m>>> import nltk\n",
      "  >>> nltk.download('punkt_tab')\n",
      "  \u001b[0m\n",
      "  For more information see: https://www.nltk.org/data.html\n",
      "\n",
      "  Attempted to load \u001b[93mtokenizers/punkt_tab/english/\u001b[0m\n",
      "\n",
      "  Searched in:\n",
      "    - '/Users/bhargav/nltk_data'\n",
      "    - '/Library/Frameworks/Python.framework/Versions/3.13/nltk_data'\n",
      "    - '/Library/Frameworks/Python.framework/Versions/3.13/share/nltk_data'\n",
      "    - '/Library/Frameworks/Python.framework/Versions/3.13/lib/nltk_data'\n",
      "    - '/usr/share/nltk_data'\n",
      "    - '/usr/local/share/nltk_data'\n",
      "    - '/usr/lib/nltk_data'\n",
      "    - '/usr/local/lib/nltk_data'\n",
      "**********************************************************************\n",
      "\n"
     ]
    },
    {
     "data": {
      "application/vnd.jupyter.widget-view+json": {
       "model_id": "3726e710e9c449008f299e4e6c15d034",
       "version_major": 2,
       "version_minor": 0
      },
      "text/plain": [
       "Batches:   0%|          | 0/1 [00:00<?, ?it/s]"
      ]
     },
     "metadata": {},
     "output_type": "display_data"
    },
    {
     "data": {
      "application/vnd.jupyter.widget-view+json": {
       "model_id": "f1f5a1b0eec348afa9ca7a5ff5cf669b",
       "version_major": 2,
       "version_minor": 0
      },
      "text/plain": [
       "Batches:   0%|          | 0/1 [00:00<?, ?it/s]"
      ]
     },
     "metadata": {},
     "output_type": "display_data"
    },
    {
     "name": "stderr",
     "output_type": "stream",
     "text": [
      "2025-05-12 21:52:36,228 - __main__ - ERROR - Error computing BERT similarity: 'float' object is not subscriptable\n",
      "Computing mistral_similarities:   2%|▏          | 2/115 [00:02<01:41,  1.12it/s]2025-05-12 21:52:36,229 - __main__ - ERROR - Error computing BLEU score: \n",
      "**********************************************************************\n",
      "  Resource \u001b[93mpunkt_tab\u001b[0m not found.\n",
      "  Please use the NLTK Downloader to obtain the resource:\n",
      "\n",
      "  \u001b[31m>>> import nltk\n",
      "  >>> nltk.download('punkt_tab')\n",
      "  \u001b[0m\n",
      "  For more information see: https://www.nltk.org/data.html\n",
      "\n",
      "  Attempted to load \u001b[93mtokenizers/punkt_tab/english/\u001b[0m\n",
      "\n",
      "  Searched in:\n",
      "    - '/Users/bhargav/nltk_data'\n",
      "    - '/Library/Frameworks/Python.framework/Versions/3.13/nltk_data'\n",
      "    - '/Library/Frameworks/Python.framework/Versions/3.13/share/nltk_data'\n",
      "    - '/Library/Frameworks/Python.framework/Versions/3.13/lib/nltk_data'\n",
      "    - '/usr/share/nltk_data'\n",
      "    - '/usr/local/share/nltk_data'\n",
      "    - '/usr/lib/nltk_data'\n",
      "    - '/usr/local/lib/nltk_data'\n",
      "**********************************************************************\n",
      "\n",
      "2025-05-12 21:52:36,230 - __main__ - ERROR - Error computing ROUGE scores: \n",
      "2025-05-12 21:52:36,230 - __main__ - ERROR - Error computing Levenshtein similarity: object of type 'float' has no len()\n",
      "2025-05-12 21:52:36,230 - __main__ - ERROR - Error computing Jaccard similarity: \n",
      "**********************************************************************\n",
      "  Resource \u001b[93mpunkt_tab\u001b[0m not found.\n",
      "  Please use the NLTK Downloader to obtain the resource:\n",
      "\n",
      "  \u001b[31m>>> import nltk\n",
      "  >>> nltk.download('punkt_tab')\n",
      "  \u001b[0m\n",
      "  For more information see: https://www.nltk.org/data.html\n",
      "\n",
      "  Attempted to load \u001b[93mtokenizers/punkt_tab/english/\u001b[0m\n",
      "\n",
      "  Searched in:\n",
      "    - '/Users/bhargav/nltk_data'\n",
      "    - '/Library/Frameworks/Python.framework/Versions/3.13/nltk_data'\n",
      "    - '/Library/Frameworks/Python.framework/Versions/3.13/share/nltk_data'\n",
      "    - '/Library/Frameworks/Python.framework/Versions/3.13/lib/nltk_data'\n",
      "    - '/usr/share/nltk_data'\n",
      "    - '/usr/local/share/nltk_data'\n",
      "    - '/usr/lib/nltk_data'\n",
      "    - '/usr/local/lib/nltk_data'\n",
      "**********************************************************************\n",
      "\n"
     ]
    },
    {
     "data": {
      "application/vnd.jupyter.widget-view+json": {
       "model_id": "975cfc0a20874a7699bf1a2a4d78b724",
       "version_major": 2,
       "version_minor": 0
      },
      "text/plain": [
       "Batches:   0%|          | 0/1 [00:00<?, ?it/s]"
      ]
     },
     "metadata": {},
     "output_type": "display_data"
    },
    {
     "data": {
      "application/vnd.jupyter.widget-view+json": {
       "model_id": "8e9fa2830952428887399015a8646e35",
       "version_major": 2,
       "version_minor": 0
      },
      "text/plain": [
       "Batches:   0%|          | 0/1 [00:00<?, ?it/s]"
      ]
     },
     "metadata": {},
     "output_type": "display_data"
    },
    {
     "name": "stderr",
     "output_type": "stream",
     "text": [
      "2025-05-12 21:52:36,264 - __main__ - ERROR - Error computing BERT similarity: 'float' object is not subscriptable\n",
      "2025-05-12 21:52:36,265 - __main__ - ERROR - Error computing BLEU score: \n",
      "**********************************************************************\n",
      "  Resource \u001b[93mpunkt_tab\u001b[0m not found.\n",
      "  Please use the NLTK Downloader to obtain the resource:\n",
      "\n",
      "  \u001b[31m>>> import nltk\n",
      "  >>> nltk.download('punkt_tab')\n",
      "  \u001b[0m\n",
      "  For more information see: https://www.nltk.org/data.html\n",
      "\n",
      "  Attempted to load \u001b[93mtokenizers/punkt_tab/english/\u001b[0m\n",
      "\n",
      "  Searched in:\n",
      "    - '/Users/bhargav/nltk_data'\n",
      "    - '/Library/Frameworks/Python.framework/Versions/3.13/nltk_data'\n",
      "    - '/Library/Frameworks/Python.framework/Versions/3.13/share/nltk_data'\n",
      "    - '/Library/Frameworks/Python.framework/Versions/3.13/lib/nltk_data'\n",
      "    - '/usr/share/nltk_data'\n",
      "    - '/usr/local/share/nltk_data'\n",
      "    - '/usr/lib/nltk_data'\n",
      "    - '/usr/local/lib/nltk_data'\n",
      "**********************************************************************\n",
      "\n",
      "2025-05-12 21:52:36,265 - __main__ - ERROR - Error computing ROUGE scores: \n",
      "2025-05-12 21:52:36,265 - __main__ - ERROR - Error computing Levenshtein similarity: object of type 'float' has no len()\n",
      "2025-05-12 21:52:36,266 - __main__ - ERROR - Error computing Jaccard similarity: \n",
      "**********************************************************************\n",
      "  Resource \u001b[93mpunkt_tab\u001b[0m not found.\n",
      "  Please use the NLTK Downloader to obtain the resource:\n",
      "\n",
      "  \u001b[31m>>> import nltk\n",
      "  >>> nltk.download('punkt_tab')\n",
      "  \u001b[0m\n",
      "  For more information see: https://www.nltk.org/data.html\n",
      "\n",
      "  Attempted to load \u001b[93mtokenizers/punkt_tab/english/\u001b[0m\n",
      "\n",
      "  Searched in:\n",
      "    - '/Users/bhargav/nltk_data'\n",
      "    - '/Library/Frameworks/Python.framework/Versions/3.13/nltk_data'\n",
      "    - '/Library/Frameworks/Python.framework/Versions/3.13/share/nltk_data'\n",
      "    - '/Library/Frameworks/Python.framework/Versions/3.13/lib/nltk_data'\n",
      "    - '/usr/share/nltk_data'\n",
      "    - '/usr/local/share/nltk_data'\n",
      "    - '/usr/lib/nltk_data'\n",
      "    - '/usr/local/lib/nltk_data'\n",
      "**********************************************************************\n",
      "\n"
     ]
    },
    {
     "data": {
      "application/vnd.jupyter.widget-view+json": {
       "model_id": "1e98fb081f284a12880e7d3402f2bbcb",
       "version_major": 2,
       "version_minor": 0
      },
      "text/plain": [
       "Batches:   0%|          | 0/1 [00:00<?, ?it/s]"
      ]
     },
     "metadata": {},
     "output_type": "display_data"
    },
    {
     "data": {
      "application/vnd.jupyter.widget-view+json": {
       "model_id": "b2e50496db324517811077f52397d3c4",
       "version_major": 2,
       "version_minor": 0
      },
      "text/plain": [
       "Batches:   0%|          | 0/1 [00:00<?, ?it/s]"
      ]
     },
     "metadata": {},
     "output_type": "display_data"
    },
    {
     "name": "stderr",
     "output_type": "stream",
     "text": [
      "2025-05-12 21:52:36,460 - __main__ - ERROR - Error computing BERT similarity: 'float' object is not subscriptable\n",
      "Computing mistral_similarities:   3%|▍          | 4/115 [00:02<00:45,  2.46it/s]2025-05-12 21:52:36,461 - __main__ - ERROR - Error computing BLEU score: \n",
      "**********************************************************************\n",
      "  Resource \u001b[93mpunkt_tab\u001b[0m not found.\n",
      "  Please use the NLTK Downloader to obtain the resource:\n",
      "\n",
      "  \u001b[31m>>> import nltk\n",
      "  >>> nltk.download('punkt_tab')\n",
      "  \u001b[0m\n",
      "  For more information see: https://www.nltk.org/data.html\n",
      "\n",
      "  Attempted to load \u001b[93mtokenizers/punkt_tab/english/\u001b[0m\n",
      "\n",
      "  Searched in:\n",
      "    - '/Users/bhargav/nltk_data'\n",
      "    - '/Library/Frameworks/Python.framework/Versions/3.13/nltk_data'\n",
      "    - '/Library/Frameworks/Python.framework/Versions/3.13/share/nltk_data'\n",
      "    - '/Library/Frameworks/Python.framework/Versions/3.13/lib/nltk_data'\n",
      "    - '/usr/share/nltk_data'\n",
      "    - '/usr/local/share/nltk_data'\n",
      "    - '/usr/lib/nltk_data'\n",
      "    - '/usr/local/lib/nltk_data'\n",
      "**********************************************************************\n",
      "\n",
      "2025-05-12 21:52:36,462 - __main__ - ERROR - Error computing ROUGE scores: \n",
      "2025-05-12 21:52:36,462 - __main__ - ERROR - Error computing Levenshtein similarity: object of type 'float' has no len()\n",
      "2025-05-12 21:52:36,462 - __main__ - ERROR - Error computing Jaccard similarity: \n",
      "**********************************************************************\n",
      "  Resource \u001b[93mpunkt_tab\u001b[0m not found.\n",
      "  Please use the NLTK Downloader to obtain the resource:\n",
      "\n",
      "  \u001b[31m>>> import nltk\n",
      "  >>> nltk.download('punkt_tab')\n",
      "  \u001b[0m\n",
      "  For more information see: https://www.nltk.org/data.html\n",
      "\n",
      "  Attempted to load \u001b[93mtokenizers/punkt_tab/english/\u001b[0m\n",
      "\n",
      "  Searched in:\n",
      "    - '/Users/bhargav/nltk_data'\n",
      "    - '/Library/Frameworks/Python.framework/Versions/3.13/nltk_data'\n",
      "    - '/Library/Frameworks/Python.framework/Versions/3.13/share/nltk_data'\n",
      "    - '/Library/Frameworks/Python.framework/Versions/3.13/lib/nltk_data'\n",
      "    - '/usr/share/nltk_data'\n",
      "    - '/usr/local/share/nltk_data'\n",
      "    - '/usr/lib/nltk_data'\n",
      "    - '/usr/local/lib/nltk_data'\n",
      "**********************************************************************\n",
      "\n"
     ]
    },
    {
     "data": {
      "application/vnd.jupyter.widget-view+json": {
       "model_id": "0cc842a381f1454eaa80597af9b843a0",
       "version_major": 2,
       "version_minor": 0
      },
      "text/plain": [
       "Batches:   0%|          | 0/1 [00:00<?, ?it/s]"
      ]
     },
     "metadata": {},
     "output_type": "display_data"
    },
    {
     "data": {
      "application/vnd.jupyter.widget-view+json": {
       "model_id": "ab64c36ac54c43ef97cb6bd4c2e88542",
       "version_major": 2,
       "version_minor": 0
      },
      "text/plain": [
       "Batches:   0%|          | 0/1 [00:00<?, ?it/s]"
      ]
     },
     "metadata": {},
     "output_type": "display_data"
    },
    {
     "name": "stderr",
     "output_type": "stream",
     "text": [
      "2025-05-12 21:52:36,496 - __main__ - ERROR - Error computing BERT similarity: 'float' object is not subscriptable\n",
      "2025-05-12 21:52:36,497 - __main__ - ERROR - Error computing BLEU score: \n",
      "**********************************************************************\n",
      "  Resource \u001b[93mpunkt_tab\u001b[0m not found.\n",
      "  Please use the NLTK Downloader to obtain the resource:\n",
      "\n",
      "  \u001b[31m>>> import nltk\n",
      "  >>> nltk.download('punkt_tab')\n",
      "  \u001b[0m\n",
      "  For more information see: https://www.nltk.org/data.html\n",
      "\n",
      "  Attempted to load \u001b[93mtokenizers/punkt_tab/english/\u001b[0m\n",
      "\n",
      "  Searched in:\n",
      "    - '/Users/bhargav/nltk_data'\n",
      "    - '/Library/Frameworks/Python.framework/Versions/3.13/nltk_data'\n",
      "    - '/Library/Frameworks/Python.framework/Versions/3.13/share/nltk_data'\n",
      "    - '/Library/Frameworks/Python.framework/Versions/3.13/lib/nltk_data'\n",
      "    - '/usr/share/nltk_data'\n",
      "    - '/usr/local/share/nltk_data'\n",
      "    - '/usr/lib/nltk_data'\n",
      "    - '/usr/local/lib/nltk_data'\n",
      "**********************************************************************\n",
      "\n",
      "2025-05-12 21:52:36,497 - __main__ - ERROR - Error computing ROUGE scores: \n",
      "2025-05-12 21:52:36,497 - __main__ - ERROR - Error computing Levenshtein similarity: object of type 'float' has no len()\n",
      "2025-05-12 21:52:36,498 - __main__ - ERROR - Error computing Jaccard similarity: \n",
      "**********************************************************************\n",
      "  Resource \u001b[93mpunkt_tab\u001b[0m not found.\n",
      "  Please use the NLTK Downloader to obtain the resource:\n",
      "\n",
      "  \u001b[31m>>> import nltk\n",
      "  >>> nltk.download('punkt_tab')\n",
      "  \u001b[0m\n",
      "  For more information see: https://www.nltk.org/data.html\n",
      "\n",
      "  Attempted to load \u001b[93mtokenizers/punkt_tab/english/\u001b[0m\n",
      "\n",
      "  Searched in:\n",
      "    - '/Users/bhargav/nltk_data'\n",
      "    - '/Library/Frameworks/Python.framework/Versions/3.13/nltk_data'\n",
      "    - '/Library/Frameworks/Python.framework/Versions/3.13/share/nltk_data'\n",
      "    - '/Library/Frameworks/Python.framework/Versions/3.13/lib/nltk_data'\n",
      "    - '/usr/share/nltk_data'\n",
      "    - '/usr/local/share/nltk_data'\n",
      "    - '/usr/lib/nltk_data'\n",
      "    - '/usr/local/lib/nltk_data'\n",
      "**********************************************************************\n",
      "\n"
     ]
    },
    {
     "data": {
      "application/vnd.jupyter.widget-view+json": {
       "model_id": "8d6ddb8207224253a4d376ac4d96bf60",
       "version_major": 2,
       "version_minor": 0
      },
      "text/plain": [
       "Batches:   0%|          | 0/1 [00:00<?, ?it/s]"
      ]
     },
     "metadata": {},
     "output_type": "display_data"
    },
    {
     "data": {
      "application/vnd.jupyter.widget-view+json": {
       "model_id": "5b9518de2013473ebec7b6b6d6f29b84",
       "version_major": 2,
       "version_minor": 0
      },
      "text/plain": [
       "Batches:   0%|          | 0/1 [00:00<?, ?it/s]"
      ]
     },
     "metadata": {},
     "output_type": "display_data"
    },
    {
     "name": "stderr",
     "output_type": "stream",
     "text": [
      "2025-05-12 21:52:36,637 - __main__ - ERROR - Error computing BERT similarity: 'float' object is not subscriptable\n",
      "Computing mistral_similarities:   5%|▌          | 6/115 [00:02<00:27,  3.90it/s]2025-05-12 21:52:36,638 - __main__ - ERROR - Error computing BLEU score: \n",
      "**********************************************************************\n",
      "  Resource \u001b[93mpunkt_tab\u001b[0m not found.\n",
      "  Please use the NLTK Downloader to obtain the resource:\n",
      "\n",
      "  \u001b[31m>>> import nltk\n",
      "  >>> nltk.download('punkt_tab')\n",
      "  \u001b[0m\n",
      "  For more information see: https://www.nltk.org/data.html\n",
      "\n",
      "  Attempted to load \u001b[93mtokenizers/punkt_tab/english/\u001b[0m\n",
      "\n",
      "  Searched in:\n",
      "    - '/Users/bhargav/nltk_data'\n",
      "    - '/Library/Frameworks/Python.framework/Versions/3.13/nltk_data'\n",
      "    - '/Library/Frameworks/Python.framework/Versions/3.13/share/nltk_data'\n",
      "    - '/Library/Frameworks/Python.framework/Versions/3.13/lib/nltk_data'\n",
      "    - '/usr/share/nltk_data'\n",
      "    - '/usr/local/share/nltk_data'\n",
      "    - '/usr/lib/nltk_data'\n",
      "    - '/usr/local/lib/nltk_data'\n",
      "**********************************************************************\n",
      "\n",
      "2025-05-12 21:52:36,638 - __main__ - ERROR - Error computing ROUGE scores: \n",
      "2025-05-12 21:52:36,638 - __main__ - ERROR - Error computing Levenshtein similarity: object of type 'float' has no len()\n",
      "2025-05-12 21:52:36,639 - __main__ - ERROR - Error computing Jaccard similarity: \n",
      "**********************************************************************\n",
      "  Resource \u001b[93mpunkt_tab\u001b[0m not found.\n",
      "  Please use the NLTK Downloader to obtain the resource:\n",
      "\n",
      "  \u001b[31m>>> import nltk\n",
      "  >>> nltk.download('punkt_tab')\n",
      "  \u001b[0m\n",
      "  For more information see: https://www.nltk.org/data.html\n",
      "\n",
      "  Attempted to load \u001b[93mtokenizers/punkt_tab/english/\u001b[0m\n",
      "\n",
      "  Searched in:\n",
      "    - '/Users/bhargav/nltk_data'\n",
      "    - '/Library/Frameworks/Python.framework/Versions/3.13/nltk_data'\n",
      "    - '/Library/Frameworks/Python.framework/Versions/3.13/share/nltk_data'\n",
      "    - '/Library/Frameworks/Python.framework/Versions/3.13/lib/nltk_data'\n",
      "    - '/usr/share/nltk_data'\n",
      "    - '/usr/local/share/nltk_data'\n",
      "    - '/usr/lib/nltk_data'\n",
      "    - '/usr/local/lib/nltk_data'\n",
      "**********************************************************************\n",
      "\n"
     ]
    },
    {
     "data": {
      "application/vnd.jupyter.widget-view+json": {
       "model_id": "8ae3b06f5b7749c0813e8417b38bae5e",
       "version_major": 2,
       "version_minor": 0
      },
      "text/plain": [
       "Batches:   0%|          | 0/1 [00:00<?, ?it/s]"
      ]
     },
     "metadata": {},
     "output_type": "display_data"
    },
    {
     "data": {
      "application/vnd.jupyter.widget-view+json": {
       "model_id": "c7d01a9c113146e4b513fa9cb1d5cb43",
       "version_major": 2,
       "version_minor": 0
      },
      "text/plain": [
       "Batches:   0%|          | 0/1 [00:00<?, ?it/s]"
      ]
     },
     "metadata": {},
     "output_type": "display_data"
    },
    {
     "name": "stderr",
     "output_type": "stream",
     "text": [
      "2025-05-12 21:52:36,653 - __main__ - ERROR - Error computing BERT similarity: 'float' object is not subscriptable\n",
      "2025-05-12 21:52:36,654 - __main__ - ERROR - Error computing BLEU score: \n",
      "**********************************************************************\n",
      "  Resource \u001b[93mpunkt_tab\u001b[0m not found.\n",
      "  Please use the NLTK Downloader to obtain the resource:\n",
      "\n",
      "  \u001b[31m>>> import nltk\n",
      "  >>> nltk.download('punkt_tab')\n",
      "  \u001b[0m\n",
      "  For more information see: https://www.nltk.org/data.html\n",
      "\n",
      "  Attempted to load \u001b[93mtokenizers/punkt_tab/english/\u001b[0m\n",
      "\n",
      "  Searched in:\n",
      "    - '/Users/bhargav/nltk_data'\n",
      "    - '/Library/Frameworks/Python.framework/Versions/3.13/nltk_data'\n",
      "    - '/Library/Frameworks/Python.framework/Versions/3.13/share/nltk_data'\n",
      "    - '/Library/Frameworks/Python.framework/Versions/3.13/lib/nltk_data'\n",
      "    - '/usr/share/nltk_data'\n",
      "    - '/usr/local/share/nltk_data'\n",
      "    - '/usr/lib/nltk_data'\n",
      "    - '/usr/local/lib/nltk_data'\n",
      "**********************************************************************\n",
      "\n",
      "2025-05-12 21:52:36,654 - __main__ - ERROR - Error computing ROUGE scores: \n",
      "2025-05-12 21:52:36,654 - __main__ - ERROR - Error computing Levenshtein similarity: object of type 'float' has no len()\n",
      "2025-05-12 21:52:36,655 - __main__ - ERROR - Error computing Jaccard similarity: \n",
      "**********************************************************************\n",
      "  Resource \u001b[93mpunkt_tab\u001b[0m not found.\n",
      "  Please use the NLTK Downloader to obtain the resource:\n",
      "\n",
      "  \u001b[31m>>> import nltk\n",
      "  >>> nltk.download('punkt_tab')\n",
      "  \u001b[0m\n",
      "  For more information see: https://www.nltk.org/data.html\n",
      "\n",
      "  Attempted to load \u001b[93mtokenizers/punkt_tab/english/\u001b[0m\n",
      "\n",
      "  Searched in:\n",
      "    - '/Users/bhargav/nltk_data'\n",
      "    - '/Library/Frameworks/Python.framework/Versions/3.13/nltk_data'\n",
      "    - '/Library/Frameworks/Python.framework/Versions/3.13/share/nltk_data'\n",
      "    - '/Library/Frameworks/Python.framework/Versions/3.13/lib/nltk_data'\n",
      "    - '/usr/share/nltk_data'\n",
      "    - '/usr/local/share/nltk_data'\n",
      "    - '/usr/lib/nltk_data'\n",
      "    - '/usr/local/lib/nltk_data'\n",
      "**********************************************************************\n",
      "\n"
     ]
    },
    {
     "data": {
      "application/vnd.jupyter.widget-view+json": {
       "model_id": "25502731cdfc417eafb8676e20462a2a",
       "version_major": 2,
       "version_minor": 0
      },
      "text/plain": [
       "Batches:   0%|          | 0/1 [00:00<?, ?it/s]"
      ]
     },
     "metadata": {},
     "output_type": "display_data"
    },
    {
     "data": {
      "application/vnd.jupyter.widget-view+json": {
       "model_id": "eb3e0781ef6e4028ac03681786593e23",
       "version_major": 2,
       "version_minor": 0
      },
      "text/plain": [
       "Batches:   0%|          | 0/1 [00:00<?, ?it/s]"
      ]
     },
     "metadata": {},
     "output_type": "display_data"
    },
    {
     "name": "stderr",
     "output_type": "stream",
     "text": [
      "2025-05-12 21:52:36,859 - __main__ - ERROR - Error computing BERT similarity: 'float' object is not subscriptable\n",
      "Computing mistral_similarities:   7%|▊          | 8/115 [00:02<00:21,  5.05it/s]2025-05-12 21:52:36,860 - __main__ - ERROR - Error computing BLEU score: \n",
      "**********************************************************************\n",
      "  Resource \u001b[93mpunkt_tab\u001b[0m not found.\n",
      "  Please use the NLTK Downloader to obtain the resource:\n",
      "\n",
      "  \u001b[31m>>> import nltk\n",
      "  >>> nltk.download('punkt_tab')\n",
      "  \u001b[0m\n",
      "  For more information see: https://www.nltk.org/data.html\n",
      "\n",
      "  Attempted to load \u001b[93mtokenizers/punkt_tab/english/\u001b[0m\n",
      "\n",
      "  Searched in:\n",
      "    - '/Users/bhargav/nltk_data'\n",
      "    - '/Library/Frameworks/Python.framework/Versions/3.13/nltk_data'\n",
      "    - '/Library/Frameworks/Python.framework/Versions/3.13/share/nltk_data'\n",
      "    - '/Library/Frameworks/Python.framework/Versions/3.13/lib/nltk_data'\n",
      "    - '/usr/share/nltk_data'\n",
      "    - '/usr/local/share/nltk_data'\n",
      "    - '/usr/lib/nltk_data'\n",
      "    - '/usr/local/lib/nltk_data'\n",
      "**********************************************************************\n",
      "\n",
      "2025-05-12 21:52:36,861 - __main__ - ERROR - Error computing ROUGE scores: \n",
      "2025-05-12 21:52:36,861 - __main__ - ERROR - Error computing Levenshtein similarity: object of type 'float' has no len()\n",
      "2025-05-12 21:52:36,862 - __main__ - ERROR - Error computing Jaccard similarity: \n",
      "**********************************************************************\n",
      "  Resource \u001b[93mpunkt_tab\u001b[0m not found.\n",
      "  Please use the NLTK Downloader to obtain the resource:\n",
      "\n",
      "  \u001b[31m>>> import nltk\n",
      "  >>> nltk.download('punkt_tab')\n",
      "  \u001b[0m\n",
      "  For more information see: https://www.nltk.org/data.html\n",
      "\n",
      "  Attempted to load \u001b[93mtokenizers/punkt_tab/english/\u001b[0m\n",
      "\n",
      "  Searched in:\n",
      "    - '/Users/bhargav/nltk_data'\n",
      "    - '/Library/Frameworks/Python.framework/Versions/3.13/nltk_data'\n",
      "    - '/Library/Frameworks/Python.framework/Versions/3.13/share/nltk_data'\n",
      "    - '/Library/Frameworks/Python.framework/Versions/3.13/lib/nltk_data'\n",
      "    - '/usr/share/nltk_data'\n",
      "    - '/usr/local/share/nltk_data'\n",
      "    - '/usr/lib/nltk_data'\n",
      "    - '/usr/local/lib/nltk_data'\n",
      "**********************************************************************\n",
      "\n"
     ]
    },
    {
     "data": {
      "application/vnd.jupyter.widget-view+json": {
       "model_id": "576e9f7ddd2a43a2bbbc087b8d720177",
       "version_major": 2,
       "version_minor": 0
      },
      "text/plain": [
       "Batches:   0%|          | 0/1 [00:00<?, ?it/s]"
      ]
     },
     "metadata": {},
     "output_type": "display_data"
    },
    {
     "data": {
      "application/vnd.jupyter.widget-view+json": {
       "model_id": "caa2caff8d984f29998f1002672d076e",
       "version_major": 2,
       "version_minor": 0
      },
      "text/plain": [
       "Batches:   0%|          | 0/1 [00:00<?, ?it/s]"
      ]
     },
     "metadata": {},
     "output_type": "display_data"
    },
    {
     "name": "stderr",
     "output_type": "stream",
     "text": [
      "2025-05-12 21:52:37,020 - __main__ - ERROR - Error computing BERT similarity: 'float' object is not subscriptable\n",
      "Computing mistral_similarities:   8%|▊          | 9/115 [00:02<00:20,  5.27it/s]2025-05-12 21:52:37,022 - __main__ - ERROR - Error computing BLEU score: \n",
      "**********************************************************************\n",
      "  Resource \u001b[93mpunkt_tab\u001b[0m not found.\n",
      "  Please use the NLTK Downloader to obtain the resource:\n",
      "\n",
      "  \u001b[31m>>> import nltk\n",
      "  >>> nltk.download('punkt_tab')\n",
      "  \u001b[0m\n",
      "  For more information see: https://www.nltk.org/data.html\n",
      "\n",
      "  Attempted to load \u001b[93mtokenizers/punkt_tab/english/\u001b[0m\n",
      "\n",
      "  Searched in:\n",
      "    - '/Users/bhargav/nltk_data'\n",
      "    - '/Library/Frameworks/Python.framework/Versions/3.13/nltk_data'\n",
      "    - '/Library/Frameworks/Python.framework/Versions/3.13/share/nltk_data'\n",
      "    - '/Library/Frameworks/Python.framework/Versions/3.13/lib/nltk_data'\n",
      "    - '/usr/share/nltk_data'\n",
      "    - '/usr/local/share/nltk_data'\n",
      "    - '/usr/lib/nltk_data'\n",
      "    - '/usr/local/lib/nltk_data'\n",
      "**********************************************************************\n",
      "\n",
      "2025-05-12 21:52:37,022 - __main__ - ERROR - Error computing ROUGE scores: \n",
      "2025-05-12 21:52:37,022 - __main__ - ERROR - Error computing Levenshtein similarity: object of type 'float' has no len()\n",
      "2025-05-12 21:52:37,023 - __main__ - ERROR - Error computing Jaccard similarity: \n",
      "**********************************************************************\n",
      "  Resource \u001b[93mpunkt_tab\u001b[0m not found.\n",
      "  Please use the NLTK Downloader to obtain the resource:\n",
      "\n",
      "  \u001b[31m>>> import nltk\n",
      "  >>> nltk.download('punkt_tab')\n",
      "  \u001b[0m\n",
      "  For more information see: https://www.nltk.org/data.html\n",
      "\n",
      "  Attempted to load \u001b[93mtokenizers/punkt_tab/english/\u001b[0m\n",
      "\n",
      "  Searched in:\n",
      "    - '/Users/bhargav/nltk_data'\n",
      "    - '/Library/Frameworks/Python.framework/Versions/3.13/nltk_data'\n",
      "    - '/Library/Frameworks/Python.framework/Versions/3.13/share/nltk_data'\n",
      "    - '/Library/Frameworks/Python.framework/Versions/3.13/lib/nltk_data'\n",
      "    - '/usr/share/nltk_data'\n",
      "    - '/usr/local/share/nltk_data'\n",
      "    - '/usr/lib/nltk_data'\n",
      "    - '/usr/local/lib/nltk_data'\n",
      "**********************************************************************\n",
      "\n"
     ]
    },
    {
     "data": {
      "application/vnd.jupyter.widget-view+json": {
       "model_id": "bbc3e41fc5694e21937d1fcf862e2b6d",
       "version_major": 2,
       "version_minor": 0
      },
      "text/plain": [
       "Batches:   0%|          | 0/1 [00:00<?, ?it/s]"
      ]
     },
     "metadata": {},
     "output_type": "display_data"
    },
    {
     "data": {
      "application/vnd.jupyter.widget-view+json": {
       "model_id": "50da413c42a647448382acc00ef89856",
       "version_major": 2,
       "version_minor": 0
      },
      "text/plain": [
       "Batches:   0%|          | 0/1 [00:00<?, ?it/s]"
      ]
     },
     "metadata": {},
     "output_type": "display_data"
    },
    {
     "name": "stderr",
     "output_type": "stream",
     "text": [
      "2025-05-12 21:52:37,058 - __main__ - ERROR - Error computing BERT similarity: 'float' object is not subscriptable\n",
      "2025-05-12 21:52:37,059 - __main__ - ERROR - Error computing BLEU score: \n",
      "**********************************************************************\n",
      "  Resource \u001b[93mpunkt_tab\u001b[0m not found.\n",
      "  Please use the NLTK Downloader to obtain the resource:\n",
      "\n",
      "  \u001b[31m>>> import nltk\n",
      "  >>> nltk.download('punkt_tab')\n",
      "  \u001b[0m\n",
      "  For more information see: https://www.nltk.org/data.html\n",
      "\n",
      "  Attempted to load \u001b[93mtokenizers/punkt_tab/english/\u001b[0m\n",
      "\n",
      "  Searched in:\n",
      "    - '/Users/bhargav/nltk_data'\n",
      "    - '/Library/Frameworks/Python.framework/Versions/3.13/nltk_data'\n",
      "    - '/Library/Frameworks/Python.framework/Versions/3.13/share/nltk_data'\n",
      "    - '/Library/Frameworks/Python.framework/Versions/3.13/lib/nltk_data'\n",
      "    - '/usr/share/nltk_data'\n",
      "    - '/usr/local/share/nltk_data'\n",
      "    - '/usr/lib/nltk_data'\n",
      "    - '/usr/local/lib/nltk_data'\n",
      "**********************************************************************\n",
      "\n",
      "2025-05-12 21:52:37,059 - __main__ - ERROR - Error computing ROUGE scores: \n",
      "2025-05-12 21:52:37,060 - __main__ - ERROR - Error computing Levenshtein similarity: object of type 'float' has no len()\n",
      "2025-05-12 21:52:37,060 - __main__ - ERROR - Error computing Jaccard similarity: \n",
      "**********************************************************************\n",
      "  Resource \u001b[93mpunkt_tab\u001b[0m not found.\n",
      "  Please use the NLTK Downloader to obtain the resource:\n",
      "\n",
      "  \u001b[31m>>> import nltk\n",
      "  >>> nltk.download('punkt_tab')\n",
      "  \u001b[0m\n",
      "  For more information see: https://www.nltk.org/data.html\n",
      "\n",
      "  Attempted to load \u001b[93mtokenizers/punkt_tab/english/\u001b[0m\n",
      "\n",
      "  Searched in:\n",
      "    - '/Users/bhargav/nltk_data'\n",
      "    - '/Library/Frameworks/Python.framework/Versions/3.13/nltk_data'\n",
      "    - '/Library/Frameworks/Python.framework/Versions/3.13/share/nltk_data'\n",
      "    - '/Library/Frameworks/Python.framework/Versions/3.13/lib/nltk_data'\n",
      "    - '/usr/share/nltk_data'\n",
      "    - '/usr/local/share/nltk_data'\n",
      "    - '/usr/lib/nltk_data'\n",
      "    - '/usr/local/lib/nltk_data'\n",
      "**********************************************************************\n",
      "\n"
     ]
    },
    {
     "data": {
      "application/vnd.jupyter.widget-view+json": {
       "model_id": "f272a52c663b40829cea2b314915b231",
       "version_major": 2,
       "version_minor": 0
      },
      "text/plain": [
       "Batches:   0%|          | 0/1 [00:00<?, ?it/s]"
      ]
     },
     "metadata": {},
     "output_type": "display_data"
    },
    {
     "data": {
      "application/vnd.jupyter.widget-view+json": {
       "model_id": "4ea4767f48a04a75a5e901a30249f7d7",
       "version_major": 2,
       "version_minor": 0
      },
      "text/plain": [
       "Batches:   0%|          | 0/1 [00:00<?, ?it/s]"
      ]
     },
     "metadata": {},
     "output_type": "display_data"
    },
    {
     "name": "stderr",
     "output_type": "stream",
     "text": [
      "2025-05-12 21:52:37,204 - __main__ - ERROR - Error computing BERT similarity: 'float' object is not subscriptable\n",
      "Computing mistral_similarities:  10%|▉         | 11/115 [00:03<00:15,  6.59it/s]2025-05-12 21:52:37,206 - __main__ - ERROR - Error computing BLEU score: \n",
      "**********************************************************************\n",
      "  Resource \u001b[93mpunkt_tab\u001b[0m not found.\n",
      "  Please use the NLTK Downloader to obtain the resource:\n",
      "\n",
      "  \u001b[31m>>> import nltk\n",
      "  >>> nltk.download('punkt_tab')\n",
      "  \u001b[0m\n",
      "  For more information see: https://www.nltk.org/data.html\n",
      "\n",
      "  Attempted to load \u001b[93mtokenizers/punkt_tab/english/\u001b[0m\n",
      "\n",
      "  Searched in:\n",
      "    - '/Users/bhargav/nltk_data'\n",
      "    - '/Library/Frameworks/Python.framework/Versions/3.13/nltk_data'\n",
      "    - '/Library/Frameworks/Python.framework/Versions/3.13/share/nltk_data'\n",
      "    - '/Library/Frameworks/Python.framework/Versions/3.13/lib/nltk_data'\n",
      "    - '/usr/share/nltk_data'\n",
      "    - '/usr/local/share/nltk_data'\n",
      "    - '/usr/lib/nltk_data'\n",
      "    - '/usr/local/lib/nltk_data'\n",
      "**********************************************************************\n",
      "\n",
      "2025-05-12 21:52:37,210 - __main__ - ERROR - Error computing Jaccard similarity: \n",
      "**********************************************************************\n",
      "  Resource \u001b[93mpunkt_tab\u001b[0m not found.\n",
      "  Please use the NLTK Downloader to obtain the resource:\n",
      "\n",
      "  \u001b[31m>>> import nltk\n",
      "  >>> nltk.download('punkt_tab')\n",
      "  \u001b[0m\n",
      "  For more information see: https://www.nltk.org/data.html\n",
      "\n",
      "  Attempted to load \u001b[93mtokenizers/punkt_tab/english/\u001b[0m\n",
      "\n",
      "  Searched in:\n",
      "    - '/Users/bhargav/nltk_data'\n",
      "    - '/Library/Frameworks/Python.framework/Versions/3.13/nltk_data'\n",
      "    - '/Library/Frameworks/Python.framework/Versions/3.13/share/nltk_data'\n",
      "    - '/Library/Frameworks/Python.framework/Versions/3.13/lib/nltk_data'\n",
      "    - '/usr/share/nltk_data'\n",
      "    - '/usr/local/share/nltk_data'\n",
      "    - '/usr/lib/nltk_data'\n",
      "    - '/usr/local/lib/nltk_data'\n",
      "**********************************************************************\n",
      "\n"
     ]
    },
    {
     "data": {
      "application/vnd.jupyter.widget-view+json": {
       "model_id": "7f397120ec184e3fbb4eee076072e922",
       "version_major": 2,
       "version_minor": 0
      },
      "text/plain": [
       "Batches:   0%|          | 0/1 [00:00<?, ?it/s]"
      ]
     },
     "metadata": {},
     "output_type": "display_data"
    },
    {
     "data": {
      "application/vnd.jupyter.widget-view+json": {
       "model_id": "b9016901409f494aaef5608a32ba3e17",
       "version_major": 2,
       "version_minor": 0
      },
      "text/plain": [
       "Batches:   0%|          | 0/1 [00:00<?, ?it/s]"
      ]
     },
     "metadata": {},
     "output_type": "display_data"
    },
    {
     "name": "stderr",
     "output_type": "stream",
     "text": [
      "Computing mistral_similarities:  10%|█         | 12/115 [00:03<00:19,  5.32it/s]2025-05-12 21:52:37,523 - __main__ - ERROR - Error computing BLEU score: \n",
      "**********************************************************************\n",
      "  Resource \u001b[93mpunkt_tab\u001b[0m not found.\n",
      "  Please use the NLTK Downloader to obtain the resource:\n",
      "\n",
      "  \u001b[31m>>> import nltk\n",
      "  >>> nltk.download('punkt_tab')\n",
      "  \u001b[0m\n",
      "  For more information see: https://www.nltk.org/data.html\n",
      "\n",
      "  Attempted to load \u001b[93mtokenizers/punkt_tab/english/\u001b[0m\n",
      "\n",
      "  Searched in:\n",
      "    - '/Users/bhargav/nltk_data'\n",
      "    - '/Library/Frameworks/Python.framework/Versions/3.13/nltk_data'\n",
      "    - '/Library/Frameworks/Python.framework/Versions/3.13/share/nltk_data'\n",
      "    - '/Library/Frameworks/Python.framework/Versions/3.13/lib/nltk_data'\n",
      "    - '/usr/share/nltk_data'\n",
      "    - '/usr/local/share/nltk_data'\n",
      "    - '/usr/lib/nltk_data'\n",
      "    - '/usr/local/lib/nltk_data'\n",
      "**********************************************************************\n",
      "\n",
      "2025-05-12 21:52:37,531 - __main__ - ERROR - Error computing Jaccard similarity: \n",
      "**********************************************************************\n",
      "  Resource \u001b[93mpunkt_tab\u001b[0m not found.\n",
      "  Please use the NLTK Downloader to obtain the resource:\n",
      "\n",
      "  \u001b[31m>>> import nltk\n",
      "  >>> nltk.download('punkt_tab')\n",
      "  \u001b[0m\n",
      "  For more information see: https://www.nltk.org/data.html\n",
      "\n",
      "  Attempted to load \u001b[93mtokenizers/punkt_tab/english/\u001b[0m\n",
      "\n",
      "  Searched in:\n",
      "    - '/Users/bhargav/nltk_data'\n",
      "    - '/Library/Frameworks/Python.framework/Versions/3.13/nltk_data'\n",
      "    - '/Library/Frameworks/Python.framework/Versions/3.13/share/nltk_data'\n",
      "    - '/Library/Frameworks/Python.framework/Versions/3.13/lib/nltk_data'\n",
      "    - '/usr/share/nltk_data'\n",
      "    - '/usr/local/share/nltk_data'\n",
      "    - '/usr/lib/nltk_data'\n",
      "    - '/usr/local/lib/nltk_data'\n",
      "**********************************************************************\n",
      "\n"
     ]
    },
    {
     "data": {
      "application/vnd.jupyter.widget-view+json": {
       "model_id": "79f5e804beda4af1afb4b60cb3946c42",
       "version_major": 2,
       "version_minor": 0
      },
      "text/plain": [
       "Batches:   0%|          | 0/1 [00:00<?, ?it/s]"
      ]
     },
     "metadata": {},
     "output_type": "display_data"
    },
    {
     "data": {
      "application/vnd.jupyter.widget-view+json": {
       "model_id": "b63457dd278c4c1fae34606529471a80",
       "version_major": 2,
       "version_minor": 0
      },
      "text/plain": [
       "Batches:   0%|          | 0/1 [00:00<?, ?it/s]"
      ]
     },
     "metadata": {},
     "output_type": "display_data"
    },
    {
     "name": "stderr",
     "output_type": "stream",
     "text": [
      "Computing mistral_similarities:  11%|█▏        | 13/115 [00:03<00:18,  5.66it/s]2025-05-12 21:52:37,665 - __main__ - ERROR - Error computing BLEU score: \n",
      "**********************************************************************\n",
      "  Resource \u001b[93mpunkt_tab\u001b[0m not found.\n",
      "  Please use the NLTK Downloader to obtain the resource:\n",
      "\n",
      "  \u001b[31m>>> import nltk\n",
      "  >>> nltk.download('punkt_tab')\n",
      "  \u001b[0m\n",
      "  For more information see: https://www.nltk.org/data.html\n",
      "\n",
      "  Attempted to load \u001b[93mtokenizers/punkt_tab/english/\u001b[0m\n",
      "\n",
      "  Searched in:\n",
      "    - '/Users/bhargav/nltk_data'\n",
      "    - '/Library/Frameworks/Python.framework/Versions/3.13/nltk_data'\n",
      "    - '/Library/Frameworks/Python.framework/Versions/3.13/share/nltk_data'\n",
      "    - '/Library/Frameworks/Python.framework/Versions/3.13/lib/nltk_data'\n",
      "    - '/usr/share/nltk_data'\n",
      "    - '/usr/local/share/nltk_data'\n",
      "    - '/usr/lib/nltk_data'\n",
      "    - '/usr/local/lib/nltk_data'\n",
      "**********************************************************************\n",
      "\n",
      "2025-05-12 21:52:37,665 - __main__ - ERROR - Error computing ROUGE scores: \n",
      "2025-05-12 21:52:37,665 - __main__ - ERROR - Error computing Levenshtein similarity: object of type 'float' has no len()\n",
      "2025-05-12 21:52:37,666 - __main__ - ERROR - Error computing Jaccard similarity: \n",
      "**********************************************************************\n",
      "  Resource \u001b[93mpunkt_tab\u001b[0m not found.\n",
      "  Please use the NLTK Downloader to obtain the resource:\n",
      "\n",
      "  \u001b[31m>>> import nltk\n",
      "  >>> nltk.download('punkt_tab')\n",
      "  \u001b[0m\n",
      "  For more information see: https://www.nltk.org/data.html\n",
      "\n",
      "  Attempted to load \u001b[93mtokenizers/punkt_tab/english/\u001b[0m\n",
      "\n",
      "  Searched in:\n",
      "    - '/Users/bhargav/nltk_data'\n",
      "    - '/Library/Frameworks/Python.framework/Versions/3.13/nltk_data'\n",
      "    - '/Library/Frameworks/Python.framework/Versions/3.13/share/nltk_data'\n",
      "    - '/Library/Frameworks/Python.framework/Versions/3.13/lib/nltk_data'\n",
      "    - '/usr/share/nltk_data'\n",
      "    - '/usr/local/share/nltk_data'\n",
      "    - '/usr/lib/nltk_data'\n",
      "    - '/usr/local/lib/nltk_data'\n",
      "**********************************************************************\n",
      "\n"
     ]
    },
    {
     "data": {
      "application/vnd.jupyter.widget-view+json": {
       "model_id": "ea84053021b846f4aafee09cf02e9a7b",
       "version_major": 2,
       "version_minor": 0
      },
      "text/plain": [
       "Batches:   0%|          | 0/1 [00:00<?, ?it/s]"
      ]
     },
     "metadata": {},
     "output_type": "display_data"
    },
    {
     "data": {
      "application/vnd.jupyter.widget-view+json": {
       "model_id": "3458df27fcc94804aff9e2ad261eb7f9",
       "version_major": 2,
       "version_minor": 0
      },
      "text/plain": [
       "Batches:   0%|          | 0/1 [00:00<?, ?it/s]"
      ]
     },
     "metadata": {},
     "output_type": "display_data"
    },
    {
     "name": "stderr",
     "output_type": "stream",
     "text": [
      "2025-05-12 21:52:37,697 - __main__ - ERROR - Error computing BERT similarity: 'float' object is not subscriptable\n",
      "2025-05-12 21:52:37,698 - __main__ - ERROR - Error computing BLEU score: \n",
      "**********************************************************************\n",
      "  Resource \u001b[93mpunkt_tab\u001b[0m not found.\n",
      "  Please use the NLTK Downloader to obtain the resource:\n",
      "\n",
      "  \u001b[31m>>> import nltk\n",
      "  >>> nltk.download('punkt_tab')\n",
      "  \u001b[0m\n",
      "  For more information see: https://www.nltk.org/data.html\n",
      "\n",
      "  Attempted to load \u001b[93mtokenizers/punkt_tab/english/\u001b[0m\n",
      "\n",
      "  Searched in:\n",
      "    - '/Users/bhargav/nltk_data'\n",
      "    - '/Library/Frameworks/Python.framework/Versions/3.13/nltk_data'\n",
      "    - '/Library/Frameworks/Python.framework/Versions/3.13/share/nltk_data'\n",
      "    - '/Library/Frameworks/Python.framework/Versions/3.13/lib/nltk_data'\n",
      "    - '/usr/share/nltk_data'\n",
      "    - '/usr/local/share/nltk_data'\n",
      "    - '/usr/lib/nltk_data'\n",
      "    - '/usr/local/lib/nltk_data'\n",
      "**********************************************************************\n",
      "\n",
      "2025-05-12 21:52:37,701 - __main__ - ERROR - Error computing Jaccard similarity: \n",
      "**********************************************************************\n",
      "  Resource \u001b[93mpunkt_tab\u001b[0m not found.\n",
      "  Please use the NLTK Downloader to obtain the resource:\n",
      "\n",
      "  \u001b[31m>>> import nltk\n",
      "  >>> nltk.download('punkt_tab')\n",
      "  \u001b[0m\n",
      "  For more information see: https://www.nltk.org/data.html\n",
      "\n",
      "  Attempted to load \u001b[93mtokenizers/punkt_tab/english/\u001b[0m\n",
      "\n",
      "  Searched in:\n",
      "    - '/Users/bhargav/nltk_data'\n",
      "    - '/Library/Frameworks/Python.framework/Versions/3.13/nltk_data'\n",
      "    - '/Library/Frameworks/Python.framework/Versions/3.13/share/nltk_data'\n",
      "    - '/Library/Frameworks/Python.framework/Versions/3.13/lib/nltk_data'\n",
      "    - '/usr/share/nltk_data'\n",
      "    - '/usr/local/share/nltk_data'\n",
      "    - '/usr/lib/nltk_data'\n",
      "    - '/usr/local/lib/nltk_data'\n",
      "**********************************************************************\n",
      "\n"
     ]
    },
    {
     "data": {
      "application/vnd.jupyter.widget-view+json": {
       "model_id": "58e9b076dce543bdb4b2aa9f53d88e3f",
       "version_major": 2,
       "version_minor": 0
      },
      "text/plain": [
       "Batches:   0%|          | 0/1 [00:00<?, ?it/s]"
      ]
     },
     "metadata": {},
     "output_type": "display_data"
    },
    {
     "data": {
      "application/vnd.jupyter.widget-view+json": {
       "model_id": "9717fdc542474e32b1c3e3620e9e552c",
       "version_major": 2,
       "version_minor": 0
      },
      "text/plain": [
       "Batches:   0%|          | 0/1 [00:00<?, ?it/s]"
      ]
     },
     "metadata": {},
     "output_type": "display_data"
    },
    {
     "name": "stderr",
     "output_type": "stream",
     "text": [
      "Computing mistral_similarities:  13%|█▎        | 15/115 [00:03<00:13,  7.29it/s]2025-05-12 21:52:37,822 - __main__ - ERROR - Error computing BLEU score: \n",
      "**********************************************************************\n",
      "  Resource \u001b[93mpunkt_tab\u001b[0m not found.\n",
      "  Please use the NLTK Downloader to obtain the resource:\n",
      "\n",
      "  \u001b[31m>>> import nltk\n",
      "  >>> nltk.download('punkt_tab')\n",
      "  \u001b[0m\n",
      "  For more information see: https://www.nltk.org/data.html\n",
      "\n",
      "  Attempted to load \u001b[93mtokenizers/punkt_tab/english/\u001b[0m\n",
      "\n",
      "  Searched in:\n",
      "    - '/Users/bhargav/nltk_data'\n",
      "    - '/Library/Frameworks/Python.framework/Versions/3.13/nltk_data'\n",
      "    - '/Library/Frameworks/Python.framework/Versions/3.13/share/nltk_data'\n",
      "    - '/Library/Frameworks/Python.framework/Versions/3.13/lib/nltk_data'\n",
      "    - '/usr/share/nltk_data'\n",
      "    - '/usr/local/share/nltk_data'\n",
      "    - '/usr/lib/nltk_data'\n",
      "    - '/usr/local/lib/nltk_data'\n",
      "**********************************************************************\n",
      "\n",
      "2025-05-12 21:52:37,822 - __main__ - ERROR - Error computing ROUGE scores: \n",
      "2025-05-12 21:52:37,823 - __main__ - ERROR - Error computing Levenshtein similarity: object of type 'float' has no len()\n",
      "2025-05-12 21:52:37,823 - __main__ - ERROR - Error computing Jaccard similarity: \n",
      "**********************************************************************\n",
      "  Resource \u001b[93mpunkt_tab\u001b[0m not found.\n",
      "  Please use the NLTK Downloader to obtain the resource:\n",
      "\n",
      "  \u001b[31m>>> import nltk\n",
      "  >>> nltk.download('punkt_tab')\n",
      "  \u001b[0m\n",
      "  For more information see: https://www.nltk.org/data.html\n",
      "\n",
      "  Attempted to load \u001b[93mtokenizers/punkt_tab/english/\u001b[0m\n",
      "\n",
      "  Searched in:\n",
      "    - '/Users/bhargav/nltk_data'\n",
      "    - '/Library/Frameworks/Python.framework/Versions/3.13/nltk_data'\n",
      "    - '/Library/Frameworks/Python.framework/Versions/3.13/share/nltk_data'\n",
      "    - '/Library/Frameworks/Python.framework/Versions/3.13/lib/nltk_data'\n",
      "    - '/usr/share/nltk_data'\n",
      "    - '/usr/local/share/nltk_data'\n",
      "    - '/usr/lib/nltk_data'\n",
      "    - '/usr/local/lib/nltk_data'\n",
      "**********************************************************************\n",
      "\n"
     ]
    },
    {
     "data": {
      "application/vnd.jupyter.widget-view+json": {
       "model_id": "71007f2cbae74d56a092525891e6a769",
       "version_major": 2,
       "version_minor": 0
      },
      "text/plain": [
       "Batches:   0%|          | 0/1 [00:00<?, ?it/s]"
      ]
     },
     "metadata": {},
     "output_type": "display_data"
    },
    {
     "data": {
      "application/vnd.jupyter.widget-view+json": {
       "model_id": "8daf94acdb0440279b925d340b8c7b9a",
       "version_major": 2,
       "version_minor": 0
      },
      "text/plain": [
       "Batches:   0%|          | 0/1 [00:00<?, ?it/s]"
      ]
     },
     "metadata": {},
     "output_type": "display_data"
    },
    {
     "name": "stderr",
     "output_type": "stream",
     "text": [
      "2025-05-12 21:52:37,855 - __main__ - ERROR - Error computing BERT similarity: 'float' object is not subscriptable\n",
      "2025-05-12 21:52:37,857 - __main__ - ERROR - Error computing BLEU score: \n",
      "**********************************************************************\n",
      "  Resource \u001b[93mpunkt_tab\u001b[0m not found.\n",
      "  Please use the NLTK Downloader to obtain the resource:\n",
      "\n",
      "  \u001b[31m>>> import nltk\n",
      "  >>> nltk.download('punkt_tab')\n",
      "  \u001b[0m\n",
      "  For more information see: https://www.nltk.org/data.html\n",
      "\n",
      "  Attempted to load \u001b[93mtokenizers/punkt_tab/english/\u001b[0m\n",
      "\n",
      "  Searched in:\n",
      "    - '/Users/bhargav/nltk_data'\n",
      "    - '/Library/Frameworks/Python.framework/Versions/3.13/nltk_data'\n",
      "    - '/Library/Frameworks/Python.framework/Versions/3.13/share/nltk_data'\n",
      "    - '/Library/Frameworks/Python.framework/Versions/3.13/lib/nltk_data'\n",
      "    - '/usr/share/nltk_data'\n",
      "    - '/usr/local/share/nltk_data'\n",
      "    - '/usr/lib/nltk_data'\n",
      "    - '/usr/local/lib/nltk_data'\n",
      "**********************************************************************\n",
      "\n",
      "2025-05-12 21:52:37,857 - __main__ - ERROR - Error computing ROUGE scores: \n",
      "2025-05-12 21:52:37,857 - __main__ - ERROR - Error computing Levenshtein similarity: object of type 'float' has no len()\n",
      "2025-05-12 21:52:37,858 - __main__ - ERROR - Error computing Jaccard similarity: \n",
      "**********************************************************************\n",
      "  Resource \u001b[93mpunkt_tab\u001b[0m not found.\n",
      "  Please use the NLTK Downloader to obtain the resource:\n",
      "\n",
      "  \u001b[31m>>> import nltk\n",
      "  >>> nltk.download('punkt_tab')\n",
      "  \u001b[0m\n",
      "  For more information see: https://www.nltk.org/data.html\n",
      "\n",
      "  Attempted to load \u001b[93mtokenizers/punkt_tab/english/\u001b[0m\n",
      "\n",
      "  Searched in:\n",
      "    - '/Users/bhargav/nltk_data'\n",
      "    - '/Library/Frameworks/Python.framework/Versions/3.13/nltk_data'\n",
      "    - '/Library/Frameworks/Python.framework/Versions/3.13/share/nltk_data'\n",
      "    - '/Library/Frameworks/Python.framework/Versions/3.13/lib/nltk_data'\n",
      "    - '/usr/share/nltk_data'\n",
      "    - '/usr/local/share/nltk_data'\n",
      "    - '/usr/lib/nltk_data'\n",
      "    - '/usr/local/lib/nltk_data'\n",
      "**********************************************************************\n",
      "\n"
     ]
    },
    {
     "data": {
      "application/vnd.jupyter.widget-view+json": {
       "model_id": "4354565f8652426aba611c0029c79dc9",
       "version_major": 2,
       "version_minor": 0
      },
      "text/plain": [
       "Batches:   0%|          | 0/1 [00:00<?, ?it/s]"
      ]
     },
     "metadata": {},
     "output_type": "display_data"
    },
    {
     "data": {
      "application/vnd.jupyter.widget-view+json": {
       "model_id": "653aa5e0b43044a88368f35b73436343",
       "version_major": 2,
       "version_minor": 0
      },
      "text/plain": [
       "Batches:   0%|          | 0/1 [00:00<?, ?it/s]"
      ]
     },
     "metadata": {},
     "output_type": "display_data"
    },
    {
     "name": "stderr",
     "output_type": "stream",
     "text": [
      "2025-05-12 21:52:37,891 - __main__ - ERROR - Error computing BERT similarity: 'float' object is not subscriptable\n",
      "2025-05-12 21:52:37,892 - __main__ - ERROR - Error computing BLEU score: \n",
      "**********************************************************************\n",
      "  Resource \u001b[93mpunkt_tab\u001b[0m not found.\n",
      "  Please use the NLTK Downloader to obtain the resource:\n",
      "\n",
      "  \u001b[31m>>> import nltk\n",
      "  >>> nltk.download('punkt_tab')\n",
      "  \u001b[0m\n",
      "  For more information see: https://www.nltk.org/data.html\n",
      "\n",
      "  Attempted to load \u001b[93mtokenizers/punkt_tab/english/\u001b[0m\n",
      "\n",
      "  Searched in:\n",
      "    - '/Users/bhargav/nltk_data'\n",
      "    - '/Library/Frameworks/Python.framework/Versions/3.13/nltk_data'\n",
      "    - '/Library/Frameworks/Python.framework/Versions/3.13/share/nltk_data'\n",
      "    - '/Library/Frameworks/Python.framework/Versions/3.13/lib/nltk_data'\n",
      "    - '/usr/share/nltk_data'\n",
      "    - '/usr/local/share/nltk_data'\n",
      "    - '/usr/lib/nltk_data'\n",
      "    - '/usr/local/lib/nltk_data'\n",
      "**********************************************************************\n",
      "\n",
      "2025-05-12 21:52:37,892 - __main__ - ERROR - Error computing ROUGE scores: \n",
      "2025-05-12 21:52:37,892 - __main__ - ERROR - Error computing Levenshtein similarity: object of type 'float' has no len()\n",
      "2025-05-12 21:52:37,893 - __main__ - ERROR - Error computing Jaccard similarity: \n",
      "**********************************************************************\n",
      "  Resource \u001b[93mpunkt_tab\u001b[0m not found.\n",
      "  Please use the NLTK Downloader to obtain the resource:\n",
      "\n",
      "  \u001b[31m>>> import nltk\n",
      "  >>> nltk.download('punkt_tab')\n",
      "  \u001b[0m\n",
      "  For more information see: https://www.nltk.org/data.html\n",
      "\n",
      "  Attempted to load \u001b[93mtokenizers/punkt_tab/english/\u001b[0m\n",
      "\n",
      "  Searched in:\n",
      "    - '/Users/bhargav/nltk_data'\n",
      "    - '/Library/Frameworks/Python.framework/Versions/3.13/nltk_data'\n",
      "    - '/Library/Frameworks/Python.framework/Versions/3.13/share/nltk_data'\n",
      "    - '/Library/Frameworks/Python.framework/Versions/3.13/lib/nltk_data'\n",
      "    - '/usr/share/nltk_data'\n",
      "    - '/usr/local/share/nltk_data'\n",
      "    - '/usr/lib/nltk_data'\n",
      "    - '/usr/local/lib/nltk_data'\n",
      "**********************************************************************\n",
      "\n"
     ]
    },
    {
     "data": {
      "application/vnd.jupyter.widget-view+json": {
       "model_id": "0f1036c59b9344c4b3522e9dcb12b2d8",
       "version_major": 2,
       "version_minor": 0
      },
      "text/plain": [
       "Batches:   0%|          | 0/1 [00:00<?, ?it/s]"
      ]
     },
     "metadata": {},
     "output_type": "display_data"
    },
    {
     "data": {
      "application/vnd.jupyter.widget-view+json": {
       "model_id": "3d8b187beec041bdbb6168a3d0937da4",
       "version_major": 2,
       "version_minor": 0
      },
      "text/plain": [
       "Batches:   0%|          | 0/1 [00:00<?, ?it/s]"
      ]
     },
     "metadata": {},
     "output_type": "display_data"
    },
    {
     "name": "stderr",
     "output_type": "stream",
     "text": [
      "2025-05-12 21:52:37,929 - __main__ - ERROR - Error computing BERT similarity: 'float' object is not subscriptable\n",
      "Computing mistral_similarities:  16%|█▌        | 18/115 [00:03<00:08, 11.08it/s]2025-05-12 21:52:37,930 - __main__ - ERROR - Error computing BLEU score: \n",
      "**********************************************************************\n",
      "  Resource \u001b[93mpunkt_tab\u001b[0m not found.\n",
      "  Please use the NLTK Downloader to obtain the resource:\n",
      "\n",
      "  \u001b[31m>>> import nltk\n",
      "  >>> nltk.download('punkt_tab')\n",
      "  \u001b[0m\n",
      "  For more information see: https://www.nltk.org/data.html\n",
      "\n",
      "  Attempted to load \u001b[93mtokenizers/punkt_tab/english/\u001b[0m\n",
      "\n",
      "  Searched in:\n",
      "    - '/Users/bhargav/nltk_data'\n",
      "    - '/Library/Frameworks/Python.framework/Versions/3.13/nltk_data'\n",
      "    - '/Library/Frameworks/Python.framework/Versions/3.13/share/nltk_data'\n",
      "    - '/Library/Frameworks/Python.framework/Versions/3.13/lib/nltk_data'\n",
      "    - '/usr/share/nltk_data'\n",
      "    - '/usr/local/share/nltk_data'\n",
      "    - '/usr/lib/nltk_data'\n",
      "    - '/usr/local/lib/nltk_data'\n",
      "**********************************************************************\n",
      "\n",
      "2025-05-12 21:52:37,931 - __main__ - ERROR - Error computing ROUGE scores: \n",
      "2025-05-12 21:52:37,931 - __main__ - ERROR - Error computing Levenshtein similarity: object of type 'float' has no len()\n",
      "2025-05-12 21:52:37,931 - __main__ - ERROR - Error computing Jaccard similarity: \n",
      "**********************************************************************\n",
      "  Resource \u001b[93mpunkt_tab\u001b[0m not found.\n",
      "  Please use the NLTK Downloader to obtain the resource:\n",
      "\n",
      "  \u001b[31m>>> import nltk\n",
      "  >>> nltk.download('punkt_tab')\n",
      "  \u001b[0m\n",
      "  For more information see: https://www.nltk.org/data.html\n",
      "\n",
      "  Attempted to load \u001b[93mtokenizers/punkt_tab/english/\u001b[0m\n",
      "\n",
      "  Searched in:\n",
      "    - '/Users/bhargav/nltk_data'\n",
      "    - '/Library/Frameworks/Python.framework/Versions/3.13/nltk_data'\n",
      "    - '/Library/Frameworks/Python.framework/Versions/3.13/share/nltk_data'\n",
      "    - '/Library/Frameworks/Python.framework/Versions/3.13/lib/nltk_data'\n",
      "    - '/usr/share/nltk_data'\n",
      "    - '/usr/local/share/nltk_data'\n",
      "    - '/usr/lib/nltk_data'\n",
      "    - '/usr/local/lib/nltk_data'\n",
      "**********************************************************************\n",
      "\n"
     ]
    },
    {
     "data": {
      "application/vnd.jupyter.widget-view+json": {
       "model_id": "790a6aa56ae44fc98c9e36ef31cd17cb",
       "version_major": 2,
       "version_minor": 0
      },
      "text/plain": [
       "Batches:   0%|          | 0/1 [00:00<?, ?it/s]"
      ]
     },
     "metadata": {},
     "output_type": "display_data"
    },
    {
     "data": {
      "application/vnd.jupyter.widget-view+json": {
       "model_id": "3d5943ba524d4bbe982926e50ad6cbb3",
       "version_major": 2,
       "version_minor": 0
      },
      "text/plain": [
       "Batches:   0%|          | 0/1 [00:00<?, ?it/s]"
      ]
     },
     "metadata": {},
     "output_type": "display_data"
    },
    {
     "name": "stderr",
     "output_type": "stream",
     "text": [
      "2025-05-12 21:52:38,002 - __main__ - ERROR - Error computing BERT similarity: 'float' object is not subscriptable\n",
      "2025-05-12 21:52:38,003 - __main__ - ERROR - Error computing BLEU score: \n",
      "**********************************************************************\n",
      "  Resource \u001b[93mpunkt_tab\u001b[0m not found.\n",
      "  Please use the NLTK Downloader to obtain the resource:\n",
      "\n",
      "  \u001b[31m>>> import nltk\n",
      "  >>> nltk.download('punkt_tab')\n",
      "  \u001b[0m\n",
      "  For more information see: https://www.nltk.org/data.html\n",
      "\n",
      "  Attempted to load \u001b[93mtokenizers/punkt_tab/english/\u001b[0m\n",
      "\n",
      "  Searched in:\n",
      "    - '/Users/bhargav/nltk_data'\n",
      "    - '/Library/Frameworks/Python.framework/Versions/3.13/nltk_data'\n",
      "    - '/Library/Frameworks/Python.framework/Versions/3.13/share/nltk_data'\n",
      "    - '/Library/Frameworks/Python.framework/Versions/3.13/lib/nltk_data'\n",
      "    - '/usr/share/nltk_data'\n",
      "    - '/usr/local/share/nltk_data'\n",
      "    - '/usr/lib/nltk_data'\n",
      "    - '/usr/local/lib/nltk_data'\n",
      "**********************************************************************\n",
      "\n",
      "2025-05-12 21:52:38,003 - __main__ - ERROR - Error computing ROUGE scores: \n",
      "2025-05-12 21:52:38,003 - __main__ - ERROR - Error computing Levenshtein similarity: object of type 'float' has no len()\n",
      "2025-05-12 21:52:38,004 - __main__ - ERROR - Error computing Jaccard similarity: \n",
      "**********************************************************************\n",
      "  Resource \u001b[93mpunkt_tab\u001b[0m not found.\n",
      "  Please use the NLTK Downloader to obtain the resource:\n",
      "\n",
      "  \u001b[31m>>> import nltk\n",
      "  >>> nltk.download('punkt_tab')\n",
      "  \u001b[0m\n",
      "  For more information see: https://www.nltk.org/data.html\n",
      "\n",
      "  Attempted to load \u001b[93mtokenizers/punkt_tab/english/\u001b[0m\n",
      "\n",
      "  Searched in:\n",
      "    - '/Users/bhargav/nltk_data'\n",
      "    - '/Library/Frameworks/Python.framework/Versions/3.13/nltk_data'\n",
      "    - '/Library/Frameworks/Python.framework/Versions/3.13/share/nltk_data'\n",
      "    - '/Library/Frameworks/Python.framework/Versions/3.13/lib/nltk_data'\n",
      "    - '/usr/share/nltk_data'\n",
      "    - '/usr/local/share/nltk_data'\n",
      "    - '/usr/lib/nltk_data'\n",
      "    - '/usr/local/lib/nltk_data'\n",
      "**********************************************************************\n",
      "\n"
     ]
    },
    {
     "data": {
      "application/vnd.jupyter.widget-view+json": {
       "model_id": "d4f45c60561e4719a3fe3050774ab9d5",
       "version_major": 2,
       "version_minor": 0
      },
      "text/plain": [
       "Batches:   0%|          | 0/1 [00:00<?, ?it/s]"
      ]
     },
     "metadata": {},
     "output_type": "display_data"
    },
    {
     "data": {
      "application/vnd.jupyter.widget-view+json": {
       "model_id": "904b7b37c2064ce99ad41016d25fba4f",
       "version_major": 2,
       "version_minor": 0
      },
      "text/plain": [
       "Batches:   0%|          | 0/1 [00:00<?, ?it/s]"
      ]
     },
     "metadata": {},
     "output_type": "display_data"
    },
    {
     "name": "stderr",
     "output_type": "stream",
     "text": [
      "2025-05-12 21:52:38,038 - __main__ - ERROR - Error computing BERT similarity: 'float' object is not subscriptable\n",
      "Computing mistral_similarities:  17%|█▋        | 20/115 [00:03<00:07, 12.62it/s]2025-05-12 21:52:38,039 - __main__ - ERROR - Error computing BLEU score: \n",
      "**********************************************************************\n",
      "  Resource \u001b[93mpunkt_tab\u001b[0m not found.\n",
      "  Please use the NLTK Downloader to obtain the resource:\n",
      "\n",
      "  \u001b[31m>>> import nltk\n",
      "  >>> nltk.download('punkt_tab')\n",
      "  \u001b[0m\n",
      "  For more information see: https://www.nltk.org/data.html\n",
      "\n",
      "  Attempted to load \u001b[93mtokenizers/punkt_tab/english/\u001b[0m\n",
      "\n",
      "  Searched in:\n",
      "    - '/Users/bhargav/nltk_data'\n",
      "    - '/Library/Frameworks/Python.framework/Versions/3.13/nltk_data'\n",
      "    - '/Library/Frameworks/Python.framework/Versions/3.13/share/nltk_data'\n",
      "    - '/Library/Frameworks/Python.framework/Versions/3.13/lib/nltk_data'\n",
      "    - '/usr/share/nltk_data'\n",
      "    - '/usr/local/share/nltk_data'\n",
      "    - '/usr/lib/nltk_data'\n",
      "    - '/usr/local/lib/nltk_data'\n",
      "**********************************************************************\n",
      "\n",
      "2025-05-12 21:52:38,039 - __main__ - ERROR - Error computing ROUGE scores: \n",
      "2025-05-12 21:52:38,040 - __main__ - ERROR - Error computing Levenshtein similarity: object of type 'float' has no len()\n",
      "2025-05-12 21:52:38,040 - __main__ - ERROR - Error computing Jaccard similarity: \n",
      "**********************************************************************\n",
      "  Resource \u001b[93mpunkt_tab\u001b[0m not found.\n",
      "  Please use the NLTK Downloader to obtain the resource:\n",
      "\n",
      "  \u001b[31m>>> import nltk\n",
      "  >>> nltk.download('punkt_tab')\n",
      "  \u001b[0m\n",
      "  For more information see: https://www.nltk.org/data.html\n",
      "\n",
      "  Attempted to load \u001b[93mtokenizers/punkt_tab/english/\u001b[0m\n",
      "\n",
      "  Searched in:\n",
      "    - '/Users/bhargav/nltk_data'\n",
      "    - '/Library/Frameworks/Python.framework/Versions/3.13/nltk_data'\n",
      "    - '/Library/Frameworks/Python.framework/Versions/3.13/share/nltk_data'\n",
      "    - '/Library/Frameworks/Python.framework/Versions/3.13/lib/nltk_data'\n",
      "    - '/usr/share/nltk_data'\n",
      "    - '/usr/local/share/nltk_data'\n",
      "    - '/usr/lib/nltk_data'\n",
      "    - '/usr/local/lib/nltk_data'\n",
      "**********************************************************************\n",
      "\n"
     ]
    },
    {
     "data": {
      "application/vnd.jupyter.widget-view+json": {
       "model_id": "6e924cf21a6e421398d730c29ba11b39",
       "version_major": 2,
       "version_minor": 0
      },
      "text/plain": [
       "Batches:   0%|          | 0/1 [00:00<?, ?it/s]"
      ]
     },
     "metadata": {},
     "output_type": "display_data"
    },
    {
     "data": {
      "application/vnd.jupyter.widget-view+json": {
       "model_id": "e69935cf293b440992ff6d870b3b5078",
       "version_major": 2,
       "version_minor": 0
      },
      "text/plain": [
       "Batches:   0%|          | 0/1 [00:00<?, ?it/s]"
      ]
     },
     "metadata": {},
     "output_type": "display_data"
    },
    {
     "name": "stderr",
     "output_type": "stream",
     "text": [
      "2025-05-12 21:52:38,073 - __main__ - ERROR - Error computing BERT similarity: 'float' object is not subscriptable\n",
      "2025-05-12 21:52:38,074 - __main__ - ERROR - Error computing BLEU score: \n",
      "**********************************************************************\n",
      "  Resource \u001b[93mpunkt_tab\u001b[0m not found.\n",
      "  Please use the NLTK Downloader to obtain the resource:\n",
      "\n",
      "  \u001b[31m>>> import nltk\n",
      "  >>> nltk.download('punkt_tab')\n",
      "  \u001b[0m\n",
      "  For more information see: https://www.nltk.org/data.html\n",
      "\n",
      "  Attempted to load \u001b[93mtokenizers/punkt_tab/english/\u001b[0m\n",
      "\n",
      "  Searched in:\n",
      "    - '/Users/bhargav/nltk_data'\n",
      "    - '/Library/Frameworks/Python.framework/Versions/3.13/nltk_data'\n",
      "    - '/Library/Frameworks/Python.framework/Versions/3.13/share/nltk_data'\n",
      "    - '/Library/Frameworks/Python.framework/Versions/3.13/lib/nltk_data'\n",
      "    - '/usr/share/nltk_data'\n",
      "    - '/usr/local/share/nltk_data'\n",
      "    - '/usr/lib/nltk_data'\n",
      "    - '/usr/local/lib/nltk_data'\n",
      "**********************************************************************\n",
      "\n",
      "2025-05-12 21:52:38,074 - __main__ - ERROR - Error computing ROUGE scores: \n",
      "2025-05-12 21:52:38,075 - __main__ - ERROR - Error computing Levenshtein similarity: object of type 'float' has no len()\n",
      "2025-05-12 21:52:38,075 - __main__ - ERROR - Error computing Jaccard similarity: \n",
      "**********************************************************************\n",
      "  Resource \u001b[93mpunkt_tab\u001b[0m not found.\n",
      "  Please use the NLTK Downloader to obtain the resource:\n",
      "\n",
      "  \u001b[31m>>> import nltk\n",
      "  >>> nltk.download('punkt_tab')\n",
      "  \u001b[0m\n",
      "  For more information see: https://www.nltk.org/data.html\n",
      "\n",
      "  Attempted to load \u001b[93mtokenizers/punkt_tab/english/\u001b[0m\n",
      "\n",
      "  Searched in:\n",
      "    - '/Users/bhargav/nltk_data'\n",
      "    - '/Library/Frameworks/Python.framework/Versions/3.13/nltk_data'\n",
      "    - '/Library/Frameworks/Python.framework/Versions/3.13/share/nltk_data'\n",
      "    - '/Library/Frameworks/Python.framework/Versions/3.13/lib/nltk_data'\n",
      "    - '/usr/share/nltk_data'\n",
      "    - '/usr/local/share/nltk_data'\n",
      "    - '/usr/lib/nltk_data'\n",
      "    - '/usr/local/lib/nltk_data'\n",
      "**********************************************************************\n",
      "\n"
     ]
    },
    {
     "data": {
      "application/vnd.jupyter.widget-view+json": {
       "model_id": "6804c96e13cf42efbef1cf14193c5ac4",
       "version_major": 2,
       "version_minor": 0
      },
      "text/plain": [
       "Batches:   0%|          | 0/1 [00:00<?, ?it/s]"
      ]
     },
     "metadata": {},
     "output_type": "display_data"
    },
    {
     "data": {
      "application/vnd.jupyter.widget-view+json": {
       "model_id": "6c9ad2afeeab4c03b0bc9598d5766476",
       "version_major": 2,
       "version_minor": 0
      },
      "text/plain": [
       "Batches:   0%|          | 0/1 [00:00<?, ?it/s]"
      ]
     },
     "metadata": {},
     "output_type": "display_data"
    },
    {
     "name": "stderr",
     "output_type": "stream",
     "text": [
      "2025-05-12 21:52:38,113 - __main__ - ERROR - Error computing BERT similarity: 'float' object is not subscriptable\n",
      "2025-05-12 21:52:38,114 - __main__ - ERROR - Error computing BLEU score: \n",
      "**********************************************************************\n",
      "  Resource \u001b[93mpunkt_tab\u001b[0m not found.\n",
      "  Please use the NLTK Downloader to obtain the resource:\n",
      "\n",
      "  \u001b[31m>>> import nltk\n",
      "  >>> nltk.download('punkt_tab')\n",
      "  \u001b[0m\n",
      "  For more information see: https://www.nltk.org/data.html\n",
      "\n",
      "  Attempted to load \u001b[93mtokenizers/punkt_tab/english/\u001b[0m\n",
      "\n",
      "  Searched in:\n",
      "    - '/Users/bhargav/nltk_data'\n",
      "    - '/Library/Frameworks/Python.framework/Versions/3.13/nltk_data'\n",
      "    - '/Library/Frameworks/Python.framework/Versions/3.13/share/nltk_data'\n",
      "    - '/Library/Frameworks/Python.framework/Versions/3.13/lib/nltk_data'\n",
      "    - '/usr/share/nltk_data'\n",
      "    - '/usr/local/share/nltk_data'\n",
      "    - '/usr/lib/nltk_data'\n",
      "    - '/usr/local/lib/nltk_data'\n",
      "**********************************************************************\n",
      "\n",
      "2025-05-12 21:52:38,114 - __main__ - ERROR - Error computing ROUGE scores: \n",
      "2025-05-12 21:52:38,114 - __main__ - ERROR - Error computing Levenshtein similarity: object of type 'float' has no len()\n",
      "2025-05-12 21:52:38,115 - __main__ - ERROR - Error computing Jaccard similarity: \n",
      "**********************************************************************\n",
      "  Resource \u001b[93mpunkt_tab\u001b[0m not found.\n",
      "  Please use the NLTK Downloader to obtain the resource:\n",
      "\n",
      "  \u001b[31m>>> import nltk\n",
      "  >>> nltk.download('punkt_tab')\n",
      "  \u001b[0m\n",
      "  For more information see: https://www.nltk.org/data.html\n",
      "\n",
      "  Attempted to load \u001b[93mtokenizers/punkt_tab/english/\u001b[0m\n",
      "\n",
      "  Searched in:\n",
      "    - '/Users/bhargav/nltk_data'\n",
      "    - '/Library/Frameworks/Python.framework/Versions/3.13/nltk_data'\n",
      "    - '/Library/Frameworks/Python.framework/Versions/3.13/share/nltk_data'\n",
      "    - '/Library/Frameworks/Python.framework/Versions/3.13/lib/nltk_data'\n",
      "    - '/usr/share/nltk_data'\n",
      "    - '/usr/local/share/nltk_data'\n",
      "    - '/usr/lib/nltk_data'\n",
      "    - '/usr/local/lib/nltk_data'\n",
      "**********************************************************************\n",
      "\n"
     ]
    },
    {
     "data": {
      "application/vnd.jupyter.widget-view+json": {
       "model_id": "1239cd6907464c378044efaa231c54ac",
       "version_major": 2,
       "version_minor": 0
      },
      "text/plain": [
       "Batches:   0%|          | 0/1 [00:00<?, ?it/s]"
      ]
     },
     "metadata": {},
     "output_type": "display_data"
    },
    {
     "data": {
      "application/vnd.jupyter.widget-view+json": {
       "model_id": "a8d41217ca8443b7a62c5c1ad09200e5",
       "version_major": 2,
       "version_minor": 0
      },
      "text/plain": [
       "Batches:   0%|          | 0/1 [00:00<?, ?it/s]"
      ]
     },
     "metadata": {},
     "output_type": "display_data"
    },
    {
     "name": "stderr",
     "output_type": "stream",
     "text": [
      "2025-05-12 21:52:38,155 - __main__ - ERROR - Error computing BERT similarity: 'float' object is not subscriptable\n",
      "Computing mistral_similarities:  20%|██        | 23/115 [00:03<00:05, 15.80it/s]2025-05-12 21:52:38,156 - __main__ - ERROR - Error computing BLEU score: \n",
      "**********************************************************************\n",
      "  Resource \u001b[93mpunkt_tab\u001b[0m not found.\n",
      "  Please use the NLTK Downloader to obtain the resource:\n",
      "\n",
      "  \u001b[31m>>> import nltk\n",
      "  >>> nltk.download('punkt_tab')\n",
      "  \u001b[0m\n",
      "  For more information see: https://www.nltk.org/data.html\n",
      "\n",
      "  Attempted to load \u001b[93mtokenizers/punkt_tab/english/\u001b[0m\n",
      "\n",
      "  Searched in:\n",
      "    - '/Users/bhargav/nltk_data'\n",
      "    - '/Library/Frameworks/Python.framework/Versions/3.13/nltk_data'\n",
      "    - '/Library/Frameworks/Python.framework/Versions/3.13/share/nltk_data'\n",
      "    - '/Library/Frameworks/Python.framework/Versions/3.13/lib/nltk_data'\n",
      "    - '/usr/share/nltk_data'\n",
      "    - '/usr/local/share/nltk_data'\n",
      "    - '/usr/lib/nltk_data'\n",
      "    - '/usr/local/lib/nltk_data'\n",
      "**********************************************************************\n",
      "\n",
      "2025-05-12 21:52:38,156 - __main__ - ERROR - Error computing ROUGE scores: \n",
      "2025-05-12 21:52:38,156 - __main__ - ERROR - Error computing Levenshtein similarity: object of type 'float' has no len()\n",
      "2025-05-12 21:52:38,157 - __main__ - ERROR - Error computing Jaccard similarity: \n",
      "**********************************************************************\n",
      "  Resource \u001b[93mpunkt_tab\u001b[0m not found.\n",
      "  Please use the NLTK Downloader to obtain the resource:\n",
      "\n",
      "  \u001b[31m>>> import nltk\n",
      "  >>> nltk.download('punkt_tab')\n",
      "  \u001b[0m\n",
      "  For more information see: https://www.nltk.org/data.html\n",
      "\n",
      "  Attempted to load \u001b[93mtokenizers/punkt_tab/english/\u001b[0m\n",
      "\n",
      "  Searched in:\n",
      "    - '/Users/bhargav/nltk_data'\n",
      "    - '/Library/Frameworks/Python.framework/Versions/3.13/nltk_data'\n",
      "    - '/Library/Frameworks/Python.framework/Versions/3.13/share/nltk_data'\n",
      "    - '/Library/Frameworks/Python.framework/Versions/3.13/lib/nltk_data'\n",
      "    - '/usr/share/nltk_data'\n",
      "    - '/usr/local/share/nltk_data'\n",
      "    - '/usr/lib/nltk_data'\n",
      "    - '/usr/local/lib/nltk_data'\n",
      "**********************************************************************\n",
      "\n"
     ]
    },
    {
     "data": {
      "application/vnd.jupyter.widget-view+json": {
       "model_id": "85d36e7db5fb4500b2fb3ece72d0f358",
       "version_major": 2,
       "version_minor": 0
      },
      "text/plain": [
       "Batches:   0%|          | 0/1 [00:00<?, ?it/s]"
      ]
     },
     "metadata": {},
     "output_type": "display_data"
    },
    {
     "data": {
      "application/vnd.jupyter.widget-view+json": {
       "model_id": "50c4198153274f8ca46df6125d2b255c",
       "version_major": 2,
       "version_minor": 0
      },
      "text/plain": [
       "Batches:   0%|          | 0/1 [00:00<?, ?it/s]"
      ]
     },
     "metadata": {},
     "output_type": "display_data"
    },
    {
     "name": "stderr",
     "output_type": "stream",
     "text": [
      "2025-05-12 21:52:38,199 - __main__ - ERROR - Error computing BERT similarity: 'float' object is not subscriptable\n",
      "2025-05-12 21:52:38,200 - __main__ - ERROR - Error computing BLEU score: \n",
      "**********************************************************************\n",
      "  Resource \u001b[93mpunkt_tab\u001b[0m not found.\n",
      "  Please use the NLTK Downloader to obtain the resource:\n",
      "\n",
      "  \u001b[31m>>> import nltk\n",
      "  >>> nltk.download('punkt_tab')\n",
      "  \u001b[0m\n",
      "  For more information see: https://www.nltk.org/data.html\n",
      "\n",
      "  Attempted to load \u001b[93mtokenizers/punkt_tab/english/\u001b[0m\n",
      "\n",
      "  Searched in:\n",
      "    - '/Users/bhargav/nltk_data'\n",
      "    - '/Library/Frameworks/Python.framework/Versions/3.13/nltk_data'\n",
      "    - '/Library/Frameworks/Python.framework/Versions/3.13/share/nltk_data'\n",
      "    - '/Library/Frameworks/Python.framework/Versions/3.13/lib/nltk_data'\n",
      "    - '/usr/share/nltk_data'\n",
      "    - '/usr/local/share/nltk_data'\n",
      "    - '/usr/lib/nltk_data'\n",
      "    - '/usr/local/lib/nltk_data'\n",
      "**********************************************************************\n",
      "\n",
      "2025-05-12 21:52:38,200 - __main__ - ERROR - Error computing ROUGE scores: \n",
      "2025-05-12 21:52:38,200 - __main__ - ERROR - Error computing Levenshtein similarity: object of type 'float' has no len()\n",
      "2025-05-12 21:52:38,201 - __main__ - ERROR - Error computing Jaccard similarity: \n",
      "**********************************************************************\n",
      "  Resource \u001b[93mpunkt_tab\u001b[0m not found.\n",
      "  Please use the NLTK Downloader to obtain the resource:\n",
      "\n",
      "  \u001b[31m>>> import nltk\n",
      "  >>> nltk.download('punkt_tab')\n",
      "  \u001b[0m\n",
      "  For more information see: https://www.nltk.org/data.html\n",
      "\n",
      "  Attempted to load \u001b[93mtokenizers/punkt_tab/english/\u001b[0m\n",
      "\n",
      "  Searched in:\n",
      "    - '/Users/bhargav/nltk_data'\n",
      "    - '/Library/Frameworks/Python.framework/Versions/3.13/nltk_data'\n",
      "    - '/Library/Frameworks/Python.framework/Versions/3.13/share/nltk_data'\n",
      "    - '/Library/Frameworks/Python.framework/Versions/3.13/lib/nltk_data'\n",
      "    - '/usr/share/nltk_data'\n",
      "    - '/usr/local/share/nltk_data'\n",
      "    - '/usr/lib/nltk_data'\n",
      "    - '/usr/local/lib/nltk_data'\n",
      "**********************************************************************\n",
      "\n"
     ]
    },
    {
     "data": {
      "application/vnd.jupyter.widget-view+json": {
       "model_id": "5ebbe46797ee470f9fbe0af4e77c1ccb",
       "version_major": 2,
       "version_minor": 0
      },
      "text/plain": [
       "Batches:   0%|          | 0/1 [00:00<?, ?it/s]"
      ]
     },
     "metadata": {},
     "output_type": "display_data"
    },
    {
     "data": {
      "application/vnd.jupyter.widget-view+json": {
       "model_id": "1c3ca7848d234f2fa9e1996bc5fe3c1b",
       "version_major": 2,
       "version_minor": 0
      },
      "text/plain": [
       "Batches:   0%|          | 0/1 [00:00<?, ?it/s]"
      ]
     },
     "metadata": {},
     "output_type": "display_data"
    },
    {
     "name": "stderr",
     "output_type": "stream",
     "text": [
      "2025-05-12 21:52:38,251 - __main__ - ERROR - Error computing BERT similarity: 'float' object is not subscriptable\n",
      "2025-05-12 21:52:38,253 - __main__ - ERROR - Error computing BLEU score: \n",
      "**********************************************************************\n",
      "  Resource \u001b[93mpunkt_tab\u001b[0m not found.\n",
      "  Please use the NLTK Downloader to obtain the resource:\n",
      "\n",
      "  \u001b[31m>>> import nltk\n",
      "  >>> nltk.download('punkt_tab')\n",
      "  \u001b[0m\n",
      "  For more information see: https://www.nltk.org/data.html\n",
      "\n",
      "  Attempted to load \u001b[93mtokenizers/punkt_tab/english/\u001b[0m\n",
      "\n",
      "  Searched in:\n",
      "    - '/Users/bhargav/nltk_data'\n",
      "    - '/Library/Frameworks/Python.framework/Versions/3.13/nltk_data'\n",
      "    - '/Library/Frameworks/Python.framework/Versions/3.13/share/nltk_data'\n",
      "    - '/Library/Frameworks/Python.framework/Versions/3.13/lib/nltk_data'\n",
      "    - '/usr/share/nltk_data'\n",
      "    - '/usr/local/share/nltk_data'\n",
      "    - '/usr/lib/nltk_data'\n",
      "    - '/usr/local/lib/nltk_data'\n",
      "**********************************************************************\n",
      "\n",
      "2025-05-12 21:52:38,253 - __main__ - ERROR - Error computing ROUGE scores: \n",
      "2025-05-12 21:52:38,253 - __main__ - ERROR - Error computing Levenshtein similarity: object of type 'float' has no len()\n",
      "2025-05-12 21:52:38,254 - __main__ - ERROR - Error computing Jaccard similarity: \n",
      "**********************************************************************\n",
      "  Resource \u001b[93mpunkt_tab\u001b[0m not found.\n",
      "  Please use the NLTK Downloader to obtain the resource:\n",
      "\n",
      "  \u001b[31m>>> import nltk\n",
      "  >>> nltk.download('punkt_tab')\n",
      "  \u001b[0m\n",
      "  For more information see: https://www.nltk.org/data.html\n",
      "\n",
      "  Attempted to load \u001b[93mtokenizers/punkt_tab/english/\u001b[0m\n",
      "\n",
      "  Searched in:\n",
      "    - '/Users/bhargav/nltk_data'\n",
      "    - '/Library/Frameworks/Python.framework/Versions/3.13/nltk_data'\n",
      "    - '/Library/Frameworks/Python.framework/Versions/3.13/share/nltk_data'\n",
      "    - '/Library/Frameworks/Python.framework/Versions/3.13/lib/nltk_data'\n",
      "    - '/usr/share/nltk_data'\n",
      "    - '/usr/local/share/nltk_data'\n",
      "    - '/usr/lib/nltk_data'\n",
      "    - '/usr/local/lib/nltk_data'\n",
      "**********************************************************************\n",
      "\n"
     ]
    },
    {
     "data": {
      "application/vnd.jupyter.widget-view+json": {
       "model_id": "0b9420e15eb445ca9774e011f17da23d",
       "version_major": 2,
       "version_minor": 0
      },
      "text/plain": [
       "Batches:   0%|          | 0/1 [00:00<?, ?it/s]"
      ]
     },
     "metadata": {},
     "output_type": "display_data"
    },
    {
     "data": {
      "application/vnd.jupyter.widget-view+json": {
       "model_id": "eda01507f5b145a4a4af628119608e28",
       "version_major": 2,
       "version_minor": 0
      },
      "text/plain": [
       "Batches:   0%|          | 0/1 [00:00<?, ?it/s]"
      ]
     },
     "metadata": {},
     "output_type": "display_data"
    },
    {
     "name": "stderr",
     "output_type": "stream",
     "text": [
      "2025-05-12 21:52:38,381 - __main__ - ERROR - Error computing BERT similarity: 'float' object is not subscriptable\n",
      "Computing mistral_similarities:  23%|██▎       | 26/115 [00:04<00:06, 14.78it/s]2025-05-12 21:52:38,383 - __main__ - ERROR - Error computing BLEU score: \n",
      "**********************************************************************\n",
      "  Resource \u001b[93mpunkt_tab\u001b[0m not found.\n",
      "  Please use the NLTK Downloader to obtain the resource:\n",
      "\n",
      "  \u001b[31m>>> import nltk\n",
      "  >>> nltk.download('punkt_tab')\n",
      "  \u001b[0m\n",
      "  For more information see: https://www.nltk.org/data.html\n",
      "\n",
      "  Attempted to load \u001b[93mtokenizers/punkt_tab/english/\u001b[0m\n",
      "\n",
      "  Searched in:\n",
      "    - '/Users/bhargav/nltk_data'\n",
      "    - '/Library/Frameworks/Python.framework/Versions/3.13/nltk_data'\n",
      "    - '/Library/Frameworks/Python.framework/Versions/3.13/share/nltk_data'\n",
      "    - '/Library/Frameworks/Python.framework/Versions/3.13/lib/nltk_data'\n",
      "    - '/usr/share/nltk_data'\n",
      "    - '/usr/local/share/nltk_data'\n",
      "    - '/usr/lib/nltk_data'\n",
      "    - '/usr/local/lib/nltk_data'\n",
      "**********************************************************************\n",
      "\n",
      "2025-05-12 21:52:38,383 - __main__ - ERROR - Error computing ROUGE scores: \n",
      "2025-05-12 21:52:38,383 - __main__ - ERROR - Error computing Levenshtein similarity: object of type 'float' has no len()\n",
      "2025-05-12 21:52:38,384 - __main__ - ERROR - Error computing Jaccard similarity: \n",
      "**********************************************************************\n",
      "  Resource \u001b[93mpunkt_tab\u001b[0m not found.\n",
      "  Please use the NLTK Downloader to obtain the resource:\n",
      "\n",
      "  \u001b[31m>>> import nltk\n",
      "  >>> nltk.download('punkt_tab')\n",
      "  \u001b[0m\n",
      "  For more information see: https://www.nltk.org/data.html\n",
      "\n",
      "  Attempted to load \u001b[93mtokenizers/punkt_tab/english/\u001b[0m\n",
      "\n",
      "  Searched in:\n",
      "    - '/Users/bhargav/nltk_data'\n",
      "    - '/Library/Frameworks/Python.framework/Versions/3.13/nltk_data'\n",
      "    - '/Library/Frameworks/Python.framework/Versions/3.13/share/nltk_data'\n",
      "    - '/Library/Frameworks/Python.framework/Versions/3.13/lib/nltk_data'\n",
      "    - '/usr/share/nltk_data'\n",
      "    - '/usr/local/share/nltk_data'\n",
      "    - '/usr/lib/nltk_data'\n",
      "    - '/usr/local/lib/nltk_data'\n",
      "**********************************************************************\n",
      "\n"
     ]
    },
    {
     "data": {
      "application/vnd.jupyter.widget-view+json": {
       "model_id": "735957b3aee44c6ca2505b48c15445e2",
       "version_major": 2,
       "version_minor": 0
      },
      "text/plain": [
       "Batches:   0%|          | 0/1 [00:00<?, ?it/s]"
      ]
     },
     "metadata": {},
     "output_type": "display_data"
    },
    {
     "data": {
      "application/vnd.jupyter.widget-view+json": {
       "model_id": "912f79828c0f4ee6aae02d289fea845f",
       "version_major": 2,
       "version_minor": 0
      },
      "text/plain": [
       "Batches:   0%|          | 0/1 [00:00<?, ?it/s]"
      ]
     },
     "metadata": {},
     "output_type": "display_data"
    },
    {
     "name": "stderr",
     "output_type": "stream",
     "text": [
      "2025-05-12 21:52:38,495 - __main__ - ERROR - Error computing BERT similarity: 'float' object is not subscriptable\n",
      "2025-05-12 21:52:38,496 - __main__ - ERROR - Error computing BLEU score: \n",
      "**********************************************************************\n",
      "  Resource \u001b[93mpunkt_tab\u001b[0m not found.\n",
      "  Please use the NLTK Downloader to obtain the resource:\n",
      "\n",
      "  \u001b[31m>>> import nltk\n",
      "  >>> nltk.download('punkt_tab')\n",
      "  \u001b[0m\n",
      "  For more information see: https://www.nltk.org/data.html\n",
      "\n",
      "  Attempted to load \u001b[93mtokenizers/punkt_tab/english/\u001b[0m\n",
      "\n",
      "  Searched in:\n",
      "    - '/Users/bhargav/nltk_data'\n",
      "    - '/Library/Frameworks/Python.framework/Versions/3.13/nltk_data'\n",
      "    - '/Library/Frameworks/Python.framework/Versions/3.13/share/nltk_data'\n",
      "    - '/Library/Frameworks/Python.framework/Versions/3.13/lib/nltk_data'\n",
      "    - '/usr/share/nltk_data'\n",
      "    - '/usr/local/share/nltk_data'\n",
      "    - '/usr/lib/nltk_data'\n",
      "    - '/usr/local/lib/nltk_data'\n",
      "**********************************************************************\n",
      "\n",
      "2025-05-12 21:52:38,496 - __main__ - ERROR - Error computing ROUGE scores: \n",
      "2025-05-12 21:52:38,497 - __main__ - ERROR - Error computing Levenshtein similarity: object of type 'float' has no len()\n",
      "2025-05-12 21:52:38,497 - __main__ - ERROR - Error computing Jaccard similarity: \n",
      "**********************************************************************\n",
      "  Resource \u001b[93mpunkt_tab\u001b[0m not found.\n",
      "  Please use the NLTK Downloader to obtain the resource:\n",
      "\n",
      "  \u001b[31m>>> import nltk\n",
      "  >>> nltk.download('punkt_tab')\n",
      "  \u001b[0m\n",
      "  For more information see: https://www.nltk.org/data.html\n",
      "\n",
      "  Attempted to load \u001b[93mtokenizers/punkt_tab/english/\u001b[0m\n",
      "\n",
      "  Searched in:\n",
      "    - '/Users/bhargav/nltk_data'\n",
      "    - '/Library/Frameworks/Python.framework/Versions/3.13/nltk_data'\n",
      "    - '/Library/Frameworks/Python.framework/Versions/3.13/share/nltk_data'\n",
      "    - '/Library/Frameworks/Python.framework/Versions/3.13/lib/nltk_data'\n",
      "    - '/usr/share/nltk_data'\n",
      "    - '/usr/local/share/nltk_data'\n",
      "    - '/usr/lib/nltk_data'\n",
      "    - '/usr/local/lib/nltk_data'\n",
      "**********************************************************************\n",
      "\n"
     ]
    },
    {
     "data": {
      "application/vnd.jupyter.widget-view+json": {
       "model_id": "f5f125b435e64aaa8057c0bc4a827a42",
       "version_major": 2,
       "version_minor": 0
      },
      "text/plain": [
       "Batches:   0%|          | 0/1 [00:00<?, ?it/s]"
      ]
     },
     "metadata": {},
     "output_type": "display_data"
    },
    {
     "data": {
      "application/vnd.jupyter.widget-view+json": {
       "model_id": "b579f7050cfb406aa7b0422b5360e4ae",
       "version_major": 2,
       "version_minor": 0
      },
      "text/plain": [
       "Batches:   0%|          | 0/1 [00:00<?, ?it/s]"
      ]
     },
     "metadata": {},
     "output_type": "display_data"
    },
    {
     "name": "stderr",
     "output_type": "stream",
     "text": [
      "2025-05-12 21:52:38,532 - __main__ - ERROR - Error computing BERT similarity: 'float' object is not subscriptable\n",
      "Computing mistral_similarities:  24%|██▍       | 28/115 [00:04<00:06, 14.37it/s]2025-05-12 21:52:38,533 - __main__ - ERROR - Error computing BLEU score: \n",
      "**********************************************************************\n",
      "  Resource \u001b[93mpunkt_tab\u001b[0m not found.\n",
      "  Please use the NLTK Downloader to obtain the resource:\n",
      "\n",
      "  \u001b[31m>>> import nltk\n",
      "  >>> nltk.download('punkt_tab')\n",
      "  \u001b[0m\n",
      "  For more information see: https://www.nltk.org/data.html\n",
      "\n",
      "  Attempted to load \u001b[93mtokenizers/punkt_tab/english/\u001b[0m\n",
      "\n",
      "  Searched in:\n",
      "    - '/Users/bhargav/nltk_data'\n",
      "    - '/Library/Frameworks/Python.framework/Versions/3.13/nltk_data'\n",
      "    - '/Library/Frameworks/Python.framework/Versions/3.13/share/nltk_data'\n",
      "    - '/Library/Frameworks/Python.framework/Versions/3.13/lib/nltk_data'\n",
      "    - '/usr/share/nltk_data'\n",
      "    - '/usr/local/share/nltk_data'\n",
      "    - '/usr/lib/nltk_data'\n",
      "    - '/usr/local/lib/nltk_data'\n",
      "**********************************************************************\n",
      "\n",
      "2025-05-12 21:52:38,533 - __main__ - ERROR - Error computing ROUGE scores: \n",
      "2025-05-12 21:52:38,533 - __main__ - ERROR - Error computing Levenshtein similarity: object of type 'float' has no len()\n",
      "2025-05-12 21:52:38,534 - __main__ - ERROR - Error computing Jaccard similarity: \n",
      "**********************************************************************\n",
      "  Resource \u001b[93mpunkt_tab\u001b[0m not found.\n",
      "  Please use the NLTK Downloader to obtain the resource:\n",
      "\n",
      "  \u001b[31m>>> import nltk\n",
      "  >>> nltk.download('punkt_tab')\n",
      "  \u001b[0m\n",
      "  For more information see: https://www.nltk.org/data.html\n",
      "\n",
      "  Attempted to load \u001b[93mtokenizers/punkt_tab/english/\u001b[0m\n",
      "\n",
      "  Searched in:\n",
      "    - '/Users/bhargav/nltk_data'\n",
      "    - '/Library/Frameworks/Python.framework/Versions/3.13/nltk_data'\n",
      "    - '/Library/Frameworks/Python.framework/Versions/3.13/share/nltk_data'\n",
      "    - '/Library/Frameworks/Python.framework/Versions/3.13/lib/nltk_data'\n",
      "    - '/usr/share/nltk_data'\n",
      "    - '/usr/local/share/nltk_data'\n",
      "    - '/usr/lib/nltk_data'\n",
      "    - '/usr/local/lib/nltk_data'\n",
      "**********************************************************************\n",
      "\n"
     ]
    },
    {
     "data": {
      "application/vnd.jupyter.widget-view+json": {
       "model_id": "1b9e875e983745dea6b0e87223b47d7d",
       "version_major": 2,
       "version_minor": 0
      },
      "text/plain": [
       "Batches:   0%|          | 0/1 [00:00<?, ?it/s]"
      ]
     },
     "metadata": {},
     "output_type": "display_data"
    },
    {
     "data": {
      "application/vnd.jupyter.widget-view+json": {
       "model_id": "84af0a4e9d0c4d81add4c78cc428108e",
       "version_major": 2,
       "version_minor": 0
      },
      "text/plain": [
       "Batches:   0%|          | 0/1 [00:00<?, ?it/s]"
      ]
     },
     "metadata": {},
     "output_type": "display_data"
    },
    {
     "name": "stderr",
     "output_type": "stream",
     "text": [
      "2025-05-12 21:52:38,546 - __main__ - ERROR - Error computing BERT similarity: 'float' object is not subscriptable\n",
      "2025-05-12 21:52:38,547 - __main__ - ERROR - Error computing BLEU score: \n",
      "**********************************************************************\n",
      "  Resource \u001b[93mpunkt_tab\u001b[0m not found.\n",
      "  Please use the NLTK Downloader to obtain the resource:\n",
      "\n",
      "  \u001b[31m>>> import nltk\n",
      "  >>> nltk.download('punkt_tab')\n",
      "  \u001b[0m\n",
      "  For more information see: https://www.nltk.org/data.html\n",
      "\n",
      "  Attempted to load \u001b[93mtokenizers/punkt_tab/english/\u001b[0m\n",
      "\n",
      "  Searched in:\n",
      "    - '/Users/bhargav/nltk_data'\n",
      "    - '/Library/Frameworks/Python.framework/Versions/3.13/nltk_data'\n",
      "    - '/Library/Frameworks/Python.framework/Versions/3.13/share/nltk_data'\n",
      "    - '/Library/Frameworks/Python.framework/Versions/3.13/lib/nltk_data'\n",
      "    - '/usr/share/nltk_data'\n",
      "    - '/usr/local/share/nltk_data'\n",
      "    - '/usr/lib/nltk_data'\n",
      "    - '/usr/local/lib/nltk_data'\n",
      "**********************************************************************\n",
      "\n",
      "2025-05-12 21:52:38,547 - __main__ - ERROR - Error computing ROUGE scores: \n",
      "2025-05-12 21:52:38,548 - __main__ - ERROR - Error computing Levenshtein similarity: object of type 'float' has no len()\n",
      "2025-05-12 21:52:38,548 - __main__ - ERROR - Error computing Jaccard similarity: \n",
      "**********************************************************************\n",
      "  Resource \u001b[93mpunkt_tab\u001b[0m not found.\n",
      "  Please use the NLTK Downloader to obtain the resource:\n",
      "\n",
      "  \u001b[31m>>> import nltk\n",
      "  >>> nltk.download('punkt_tab')\n",
      "  \u001b[0m\n",
      "  For more information see: https://www.nltk.org/data.html\n",
      "\n",
      "  Attempted to load \u001b[93mtokenizers/punkt_tab/english/\u001b[0m\n",
      "\n",
      "  Searched in:\n",
      "    - '/Users/bhargav/nltk_data'\n",
      "    - '/Library/Frameworks/Python.framework/Versions/3.13/nltk_data'\n",
      "    - '/Library/Frameworks/Python.framework/Versions/3.13/share/nltk_data'\n",
      "    - '/Library/Frameworks/Python.framework/Versions/3.13/lib/nltk_data'\n",
      "    - '/usr/share/nltk_data'\n",
      "    - '/usr/local/share/nltk_data'\n",
      "    - '/usr/lib/nltk_data'\n",
      "    - '/usr/local/lib/nltk_data'\n",
      "**********************************************************************\n",
      "\n"
     ]
    },
    {
     "data": {
      "application/vnd.jupyter.widget-view+json": {
       "model_id": "07bb8061b8d749d4abe495b5fc43ed88",
       "version_major": 2,
       "version_minor": 0
      },
      "text/plain": [
       "Batches:   0%|          | 0/1 [00:00<?, ?it/s]"
      ]
     },
     "metadata": {},
     "output_type": "display_data"
    },
    {
     "data": {
      "application/vnd.jupyter.widget-view+json": {
       "model_id": "940a2d542e484b8eb4f3a36867ef4239",
       "version_major": 2,
       "version_minor": 0
      },
      "text/plain": [
       "Batches:   0%|          | 0/1 [00:00<?, ?it/s]"
      ]
     },
     "metadata": {},
     "output_type": "display_data"
    },
    {
     "name": "stderr",
     "output_type": "stream",
     "text": [
      "2025-05-12 21:52:38,590 - __main__ - ERROR - Error computing BERT similarity: 'float' object is not subscriptable\n",
      "2025-05-12 21:52:38,591 - __main__ - ERROR - Error computing BLEU score: \n",
      "**********************************************************************\n",
      "  Resource \u001b[93mpunkt_tab\u001b[0m not found.\n",
      "  Please use the NLTK Downloader to obtain the resource:\n",
      "\n",
      "  \u001b[31m>>> import nltk\n",
      "  >>> nltk.download('punkt_tab')\n",
      "  \u001b[0m\n",
      "  For more information see: https://www.nltk.org/data.html\n",
      "\n",
      "  Attempted to load \u001b[93mtokenizers/punkt_tab/english/\u001b[0m\n",
      "\n",
      "  Searched in:\n",
      "    - '/Users/bhargav/nltk_data'\n",
      "    - '/Library/Frameworks/Python.framework/Versions/3.13/nltk_data'\n",
      "    - '/Library/Frameworks/Python.framework/Versions/3.13/share/nltk_data'\n",
      "    - '/Library/Frameworks/Python.framework/Versions/3.13/lib/nltk_data'\n",
      "    - '/usr/share/nltk_data'\n",
      "    - '/usr/local/share/nltk_data'\n",
      "    - '/usr/lib/nltk_data'\n",
      "    - '/usr/local/lib/nltk_data'\n",
      "**********************************************************************\n",
      "\n",
      "2025-05-12 21:52:38,591 - __main__ - ERROR - Error computing ROUGE scores: \n",
      "2025-05-12 21:52:38,591 - __main__ - ERROR - Error computing Levenshtein similarity: object of type 'float' has no len()\n",
      "2025-05-12 21:52:38,592 - __main__ - ERROR - Error computing Jaccard similarity: \n",
      "**********************************************************************\n",
      "  Resource \u001b[93mpunkt_tab\u001b[0m not found.\n",
      "  Please use the NLTK Downloader to obtain the resource:\n",
      "\n",
      "  \u001b[31m>>> import nltk\n",
      "  >>> nltk.download('punkt_tab')\n",
      "  \u001b[0m\n",
      "  For more information see: https://www.nltk.org/data.html\n",
      "\n",
      "  Attempted to load \u001b[93mtokenizers/punkt_tab/english/\u001b[0m\n",
      "\n",
      "  Searched in:\n",
      "    - '/Users/bhargav/nltk_data'\n",
      "    - '/Library/Frameworks/Python.framework/Versions/3.13/nltk_data'\n",
      "    - '/Library/Frameworks/Python.framework/Versions/3.13/share/nltk_data'\n",
      "    - '/Library/Frameworks/Python.framework/Versions/3.13/lib/nltk_data'\n",
      "    - '/usr/share/nltk_data'\n",
      "    - '/usr/local/share/nltk_data'\n",
      "    - '/usr/lib/nltk_data'\n",
      "    - '/usr/local/lib/nltk_data'\n",
      "**********************************************************************\n",
      "\n"
     ]
    },
    {
     "data": {
      "application/vnd.jupyter.widget-view+json": {
       "model_id": "b19722d1c26241f9a3536d04d138b40b",
       "version_major": 2,
       "version_minor": 0
      },
      "text/plain": [
       "Batches:   0%|          | 0/1 [00:00<?, ?it/s]"
      ]
     },
     "metadata": {},
     "output_type": "display_data"
    },
    {
     "data": {
      "application/vnd.jupyter.widget-view+json": {
       "model_id": "12acdc4aef0f49bd823ea2e220eb2ad9",
       "version_major": 2,
       "version_minor": 0
      },
      "text/plain": [
       "Batches:   0%|          | 0/1 [00:00<?, ?it/s]"
      ]
     },
     "metadata": {},
     "output_type": "display_data"
    },
    {
     "name": "stderr",
     "output_type": "stream",
     "text": [
      "2025-05-12 21:52:38,625 - __main__ - ERROR - Error computing BERT similarity: 'float' object is not subscriptable\n",
      "2025-05-12 21:52:38,626 - __main__ - ERROR - Error computing BLEU score: \n",
      "**********************************************************************\n",
      "  Resource \u001b[93mpunkt_tab\u001b[0m not found.\n",
      "  Please use the NLTK Downloader to obtain the resource:\n",
      "\n",
      "  \u001b[31m>>> import nltk\n",
      "  >>> nltk.download('punkt_tab')\n",
      "  \u001b[0m\n",
      "  For more information see: https://www.nltk.org/data.html\n",
      "\n",
      "  Attempted to load \u001b[93mtokenizers/punkt_tab/english/\u001b[0m\n",
      "\n",
      "  Searched in:\n",
      "    - '/Users/bhargav/nltk_data'\n",
      "    - '/Library/Frameworks/Python.framework/Versions/3.13/nltk_data'\n",
      "    - '/Library/Frameworks/Python.framework/Versions/3.13/share/nltk_data'\n",
      "    - '/Library/Frameworks/Python.framework/Versions/3.13/lib/nltk_data'\n",
      "    - '/usr/share/nltk_data'\n",
      "    - '/usr/local/share/nltk_data'\n",
      "    - '/usr/lib/nltk_data'\n",
      "    - '/usr/local/lib/nltk_data'\n",
      "**********************************************************************\n",
      "\n",
      "2025-05-12 21:52:38,626 - __main__ - ERROR - Error computing ROUGE scores: \n",
      "2025-05-12 21:52:38,626 - __main__ - ERROR - Error computing Levenshtein similarity: object of type 'float' has no len()\n",
      "2025-05-12 21:52:38,627 - __main__ - ERROR - Error computing Jaccard similarity: \n",
      "**********************************************************************\n",
      "  Resource \u001b[93mpunkt_tab\u001b[0m not found.\n",
      "  Please use the NLTK Downloader to obtain the resource:\n",
      "\n",
      "  \u001b[31m>>> import nltk\n",
      "  >>> nltk.download('punkt_tab')\n",
      "  \u001b[0m\n",
      "  For more information see: https://www.nltk.org/data.html\n",
      "\n",
      "  Attempted to load \u001b[93mtokenizers/punkt_tab/english/\u001b[0m\n",
      "\n",
      "  Searched in:\n",
      "    - '/Users/bhargav/nltk_data'\n",
      "    - '/Library/Frameworks/Python.framework/Versions/3.13/nltk_data'\n",
      "    - '/Library/Frameworks/Python.framework/Versions/3.13/share/nltk_data'\n",
      "    - '/Library/Frameworks/Python.framework/Versions/3.13/lib/nltk_data'\n",
      "    - '/usr/share/nltk_data'\n",
      "    - '/usr/local/share/nltk_data'\n",
      "    - '/usr/lib/nltk_data'\n",
      "    - '/usr/local/lib/nltk_data'\n",
      "**********************************************************************\n",
      "\n"
     ]
    },
    {
     "data": {
      "application/vnd.jupyter.widget-view+json": {
       "model_id": "dbe70aa99aab4591aed5f170c6e5cb1d",
       "version_major": 2,
       "version_minor": 0
      },
      "text/plain": [
       "Batches:   0%|          | 0/1 [00:00<?, ?it/s]"
      ]
     },
     "metadata": {},
     "output_type": "display_data"
    },
    {
     "data": {
      "application/vnd.jupyter.widget-view+json": {
       "model_id": "7fe3222bd2e749bd803ec0ae28cd5417",
       "version_major": 2,
       "version_minor": 0
      },
      "text/plain": [
       "Batches:   0%|          | 0/1 [00:00<?, ?it/s]"
      ]
     },
     "metadata": {},
     "output_type": "display_data"
    },
    {
     "name": "stderr",
     "output_type": "stream",
     "text": [
      "2025-05-12 21:52:38,661 - __main__ - ERROR - Error computing BERT similarity: 'float' object is not subscriptable\n",
      "Computing mistral_similarities:  28%|██▊       | 32/115 [00:04<00:04, 18.57it/s]2025-05-12 21:52:38,662 - __main__ - ERROR - Error computing BLEU score: \n",
      "**********************************************************************\n",
      "  Resource \u001b[93mpunkt_tab\u001b[0m not found.\n",
      "  Please use the NLTK Downloader to obtain the resource:\n",
      "\n",
      "  \u001b[31m>>> import nltk\n",
      "  >>> nltk.download('punkt_tab')\n",
      "  \u001b[0m\n",
      "  For more information see: https://www.nltk.org/data.html\n",
      "\n",
      "  Attempted to load \u001b[93mtokenizers/punkt_tab/english/\u001b[0m\n",
      "\n",
      "  Searched in:\n",
      "    - '/Users/bhargav/nltk_data'\n",
      "    - '/Library/Frameworks/Python.framework/Versions/3.13/nltk_data'\n",
      "    - '/Library/Frameworks/Python.framework/Versions/3.13/share/nltk_data'\n",
      "    - '/Library/Frameworks/Python.framework/Versions/3.13/lib/nltk_data'\n",
      "    - '/usr/share/nltk_data'\n",
      "    - '/usr/local/share/nltk_data'\n",
      "    - '/usr/lib/nltk_data'\n",
      "    - '/usr/local/lib/nltk_data'\n",
      "**********************************************************************\n",
      "\n",
      "2025-05-12 21:52:38,662 - __main__ - ERROR - Error computing ROUGE scores: \n",
      "2025-05-12 21:52:38,663 - __main__ - ERROR - Error computing Levenshtein similarity: object of type 'float' has no len()\n",
      "2025-05-12 21:52:38,663 - __main__ - ERROR - Error computing Jaccard similarity: \n",
      "**********************************************************************\n",
      "  Resource \u001b[93mpunkt_tab\u001b[0m not found.\n",
      "  Please use the NLTK Downloader to obtain the resource:\n",
      "\n",
      "  \u001b[31m>>> import nltk\n",
      "  >>> nltk.download('punkt_tab')\n",
      "  \u001b[0m\n",
      "  For more information see: https://www.nltk.org/data.html\n",
      "\n",
      "  Attempted to load \u001b[93mtokenizers/punkt_tab/english/\u001b[0m\n",
      "\n",
      "  Searched in:\n",
      "    - '/Users/bhargav/nltk_data'\n",
      "    - '/Library/Frameworks/Python.framework/Versions/3.13/nltk_data'\n",
      "    - '/Library/Frameworks/Python.framework/Versions/3.13/share/nltk_data'\n",
      "    - '/Library/Frameworks/Python.framework/Versions/3.13/lib/nltk_data'\n",
      "    - '/usr/share/nltk_data'\n",
      "    - '/usr/local/share/nltk_data'\n",
      "    - '/usr/lib/nltk_data'\n",
      "    - '/usr/local/lib/nltk_data'\n",
      "**********************************************************************\n",
      "\n"
     ]
    },
    {
     "data": {
      "application/vnd.jupyter.widget-view+json": {
       "model_id": "56da1250d43844568cf93c4518e87f5f",
       "version_major": 2,
       "version_minor": 0
      },
      "text/plain": [
       "Batches:   0%|          | 0/1 [00:00<?, ?it/s]"
      ]
     },
     "metadata": {},
     "output_type": "display_data"
    },
    {
     "data": {
      "application/vnd.jupyter.widget-view+json": {
       "model_id": "45acbb0395ec463cbeff944ba6ef18a4",
       "version_major": 2,
       "version_minor": 0
      },
      "text/plain": [
       "Batches:   0%|          | 0/1 [00:00<?, ?it/s]"
      ]
     },
     "metadata": {},
     "output_type": "display_data"
    },
    {
     "name": "stderr",
     "output_type": "stream",
     "text": [
      "2025-05-12 21:52:38,676 - __main__ - ERROR - Error computing BERT similarity: 'float' object is not subscriptable\n",
      "2025-05-12 21:52:38,677 - __main__ - ERROR - Error computing BLEU score: \n",
      "**********************************************************************\n",
      "  Resource \u001b[93mpunkt_tab\u001b[0m not found.\n",
      "  Please use the NLTK Downloader to obtain the resource:\n",
      "\n",
      "  \u001b[31m>>> import nltk\n",
      "  >>> nltk.download('punkt_tab')\n",
      "  \u001b[0m\n",
      "  For more information see: https://www.nltk.org/data.html\n",
      "\n",
      "  Attempted to load \u001b[93mtokenizers/punkt_tab/english/\u001b[0m\n",
      "\n",
      "  Searched in:\n",
      "    - '/Users/bhargav/nltk_data'\n",
      "    - '/Library/Frameworks/Python.framework/Versions/3.13/nltk_data'\n",
      "    - '/Library/Frameworks/Python.framework/Versions/3.13/share/nltk_data'\n",
      "    - '/Library/Frameworks/Python.framework/Versions/3.13/lib/nltk_data'\n",
      "    - '/usr/share/nltk_data'\n",
      "    - '/usr/local/share/nltk_data'\n",
      "    - '/usr/lib/nltk_data'\n",
      "    - '/usr/local/lib/nltk_data'\n",
      "**********************************************************************\n",
      "\n",
      "2025-05-12 21:52:38,678 - __main__ - ERROR - Error computing ROUGE scores: \n",
      "2025-05-12 21:52:38,678 - __main__ - ERROR - Error computing Levenshtein similarity: object of type 'float' has no len()\n",
      "2025-05-12 21:52:38,679 - __main__ - ERROR - Error computing Jaccard similarity: \n",
      "**********************************************************************\n",
      "  Resource \u001b[93mpunkt_tab\u001b[0m not found.\n",
      "  Please use the NLTK Downloader to obtain the resource:\n",
      "\n",
      "  \u001b[31m>>> import nltk\n",
      "  >>> nltk.download('punkt_tab')\n",
      "  \u001b[0m\n",
      "  For more information see: https://www.nltk.org/data.html\n",
      "\n",
      "  Attempted to load \u001b[93mtokenizers/punkt_tab/english/\u001b[0m\n",
      "\n",
      "  Searched in:\n",
      "    - '/Users/bhargav/nltk_data'\n",
      "    - '/Library/Frameworks/Python.framework/Versions/3.13/nltk_data'\n",
      "    - '/Library/Frameworks/Python.framework/Versions/3.13/share/nltk_data'\n",
      "    - '/Library/Frameworks/Python.framework/Versions/3.13/lib/nltk_data'\n",
      "    - '/usr/share/nltk_data'\n",
      "    - '/usr/local/share/nltk_data'\n",
      "    - '/usr/lib/nltk_data'\n",
      "    - '/usr/local/lib/nltk_data'\n",
      "**********************************************************************\n",
      "\n"
     ]
    },
    {
     "data": {
      "application/vnd.jupyter.widget-view+json": {
       "model_id": "d16cc20edc8e4894898ea258175a9a46",
       "version_major": 2,
       "version_minor": 0
      },
      "text/plain": [
       "Batches:   0%|          | 0/1 [00:00<?, ?it/s]"
      ]
     },
     "metadata": {},
     "output_type": "display_data"
    },
    {
     "data": {
      "application/vnd.jupyter.widget-view+json": {
       "model_id": "619e6f74fa91429db46c7b536a5fdb4c",
       "version_major": 2,
       "version_minor": 0
      },
      "text/plain": [
       "Batches:   0%|          | 0/1 [00:00<?, ?it/s]"
      ]
     },
     "metadata": {},
     "output_type": "display_data"
    },
    {
     "name": "stderr",
     "output_type": "stream",
     "text": [
      "2025-05-12 21:52:38,714 - __main__ - ERROR - Error computing BERT similarity: 'float' object is not subscriptable\n",
      "2025-05-12 21:52:38,715 - __main__ - ERROR - Error computing BLEU score: \n",
      "**********************************************************************\n",
      "  Resource \u001b[93mpunkt_tab\u001b[0m not found.\n",
      "  Please use the NLTK Downloader to obtain the resource:\n",
      "\n",
      "  \u001b[31m>>> import nltk\n",
      "  >>> nltk.download('punkt_tab')\n",
      "  \u001b[0m\n",
      "  For more information see: https://www.nltk.org/data.html\n",
      "\n",
      "  Attempted to load \u001b[93mtokenizers/punkt_tab/english/\u001b[0m\n",
      "\n",
      "  Searched in:\n",
      "    - '/Users/bhargav/nltk_data'\n",
      "    - '/Library/Frameworks/Python.framework/Versions/3.13/nltk_data'\n",
      "    - '/Library/Frameworks/Python.framework/Versions/3.13/share/nltk_data'\n",
      "    - '/Library/Frameworks/Python.framework/Versions/3.13/lib/nltk_data'\n",
      "    - '/usr/share/nltk_data'\n",
      "    - '/usr/local/share/nltk_data'\n",
      "    - '/usr/lib/nltk_data'\n",
      "    - '/usr/local/lib/nltk_data'\n",
      "**********************************************************************\n",
      "\n",
      "2025-05-12 21:52:38,715 - __main__ - ERROR - Error computing ROUGE scores: \n",
      "2025-05-12 21:52:38,716 - __main__ - ERROR - Error computing Levenshtein similarity: object of type 'float' has no len()\n",
      "2025-05-12 21:52:38,716 - __main__ - ERROR - Error computing Jaccard similarity: \n",
      "**********************************************************************\n",
      "  Resource \u001b[93mpunkt_tab\u001b[0m not found.\n",
      "  Please use the NLTK Downloader to obtain the resource:\n",
      "\n",
      "  \u001b[31m>>> import nltk\n",
      "  >>> nltk.download('punkt_tab')\n",
      "  \u001b[0m\n",
      "  For more information see: https://www.nltk.org/data.html\n",
      "\n",
      "  Attempted to load \u001b[93mtokenizers/punkt_tab/english/\u001b[0m\n",
      "\n",
      "  Searched in:\n",
      "    - '/Users/bhargav/nltk_data'\n",
      "    - '/Library/Frameworks/Python.framework/Versions/3.13/nltk_data'\n",
      "    - '/Library/Frameworks/Python.framework/Versions/3.13/share/nltk_data'\n",
      "    - '/Library/Frameworks/Python.framework/Versions/3.13/lib/nltk_data'\n",
      "    - '/usr/share/nltk_data'\n",
      "    - '/usr/local/share/nltk_data'\n",
      "    - '/usr/lib/nltk_data'\n",
      "    - '/usr/local/lib/nltk_data'\n",
      "**********************************************************************\n",
      "\n"
     ]
    },
    {
     "data": {
      "application/vnd.jupyter.widget-view+json": {
       "model_id": "67395646e0374abfa16c2c7a2cbf6e03",
       "version_major": 2,
       "version_minor": 0
      },
      "text/plain": [
       "Batches:   0%|          | 0/1 [00:00<?, ?it/s]"
      ]
     },
     "metadata": {},
     "output_type": "display_data"
    },
    {
     "data": {
      "application/vnd.jupyter.widget-view+json": {
       "model_id": "491f1985c2724c6884b85dbb3af17bb5",
       "version_major": 2,
       "version_minor": 0
      },
      "text/plain": [
       "Batches:   0%|          | 0/1 [00:00<?, ?it/s]"
      ]
     },
     "metadata": {},
     "output_type": "display_data"
    },
    {
     "name": "stderr",
     "output_type": "stream",
     "text": [
      "2025-05-12 21:52:38,729 - __main__ - ERROR - Error computing BERT similarity: 'float' object is not subscriptable\n",
      "2025-05-12 21:52:38,730 - __main__ - ERROR - Error computing BLEU score: \n",
      "**********************************************************************\n",
      "  Resource \u001b[93mpunkt_tab\u001b[0m not found.\n",
      "  Please use the NLTK Downloader to obtain the resource:\n",
      "\n",
      "  \u001b[31m>>> import nltk\n",
      "  >>> nltk.download('punkt_tab')\n",
      "  \u001b[0m\n",
      "  For more information see: https://www.nltk.org/data.html\n",
      "\n",
      "  Attempted to load \u001b[93mtokenizers/punkt_tab/english/\u001b[0m\n",
      "\n",
      "  Searched in:\n",
      "    - '/Users/bhargav/nltk_data'\n",
      "    - '/Library/Frameworks/Python.framework/Versions/3.13/nltk_data'\n",
      "    - '/Library/Frameworks/Python.framework/Versions/3.13/share/nltk_data'\n",
      "    - '/Library/Frameworks/Python.framework/Versions/3.13/lib/nltk_data'\n",
      "    - '/usr/share/nltk_data'\n",
      "    - '/usr/local/share/nltk_data'\n",
      "    - '/usr/lib/nltk_data'\n",
      "    - '/usr/local/lib/nltk_data'\n",
      "**********************************************************************\n",
      "\n",
      "2025-05-12 21:52:38,730 - __main__ - ERROR - Error computing ROUGE scores: \n",
      "2025-05-12 21:52:38,730 - __main__ - ERROR - Error computing Levenshtein similarity: object of type 'float' has no len()\n",
      "2025-05-12 21:52:38,731 - __main__ - ERROR - Error computing Jaccard similarity: \n",
      "**********************************************************************\n",
      "  Resource \u001b[93mpunkt_tab\u001b[0m not found.\n",
      "  Please use the NLTK Downloader to obtain the resource:\n",
      "\n",
      "  \u001b[31m>>> import nltk\n",
      "  >>> nltk.download('punkt_tab')\n",
      "  \u001b[0m\n",
      "  For more information see: https://www.nltk.org/data.html\n",
      "\n",
      "  Attempted to load \u001b[93mtokenizers/punkt_tab/english/\u001b[0m\n",
      "\n",
      "  Searched in:\n",
      "    - '/Users/bhargav/nltk_data'\n",
      "    - '/Library/Frameworks/Python.framework/Versions/3.13/nltk_data'\n",
      "    - '/Library/Frameworks/Python.framework/Versions/3.13/share/nltk_data'\n",
      "    - '/Library/Frameworks/Python.framework/Versions/3.13/lib/nltk_data'\n",
      "    - '/usr/share/nltk_data'\n",
      "    - '/usr/local/share/nltk_data'\n",
      "    - '/usr/lib/nltk_data'\n",
      "    - '/usr/local/lib/nltk_data'\n",
      "**********************************************************************\n",
      "\n"
     ]
    },
    {
     "data": {
      "application/vnd.jupyter.widget-view+json": {
       "model_id": "0bf089276d23438e9735dcc9b92f2ac6",
       "version_major": 2,
       "version_minor": 0
      },
      "text/plain": [
       "Batches:   0%|          | 0/1 [00:00<?, ?it/s]"
      ]
     },
     "metadata": {},
     "output_type": "display_data"
    },
    {
     "data": {
      "application/vnd.jupyter.widget-view+json": {
       "model_id": "d616d8131fee4b9895edd18f15884426",
       "version_major": 2,
       "version_minor": 0
      },
      "text/plain": [
       "Batches:   0%|          | 0/1 [00:00<?, ?it/s]"
      ]
     },
     "metadata": {},
     "output_type": "display_data"
    },
    {
     "name": "stderr",
     "output_type": "stream",
     "text": [
      "2025-05-12 21:52:38,744 - __main__ - ERROR - Error computing BERT similarity: 'float' object is not subscriptable\n",
      "2025-05-12 21:52:38,745 - __main__ - ERROR - Error computing BLEU score: \n",
      "**********************************************************************\n",
      "  Resource \u001b[93mpunkt_tab\u001b[0m not found.\n",
      "  Please use the NLTK Downloader to obtain the resource:\n",
      "\n",
      "  \u001b[31m>>> import nltk\n",
      "  >>> nltk.download('punkt_tab')\n",
      "  \u001b[0m\n",
      "  For more information see: https://www.nltk.org/data.html\n",
      "\n",
      "  Attempted to load \u001b[93mtokenizers/punkt_tab/english/\u001b[0m\n",
      "\n",
      "  Searched in:\n",
      "    - '/Users/bhargav/nltk_data'\n",
      "    - '/Library/Frameworks/Python.framework/Versions/3.13/nltk_data'\n",
      "    - '/Library/Frameworks/Python.framework/Versions/3.13/share/nltk_data'\n",
      "    - '/Library/Frameworks/Python.framework/Versions/3.13/lib/nltk_data'\n",
      "    - '/usr/share/nltk_data'\n",
      "    - '/usr/local/share/nltk_data'\n",
      "    - '/usr/lib/nltk_data'\n",
      "    - '/usr/local/lib/nltk_data'\n",
      "**********************************************************************\n",
      "\n",
      "2025-05-12 21:52:38,745 - __main__ - ERROR - Error computing ROUGE scores: \n",
      "2025-05-12 21:52:38,745 - __main__ - ERROR - Error computing Levenshtein similarity: object of type 'float' has no len()\n",
      "2025-05-12 21:52:38,746 - __main__ - ERROR - Error computing Jaccard similarity: \n",
      "**********************************************************************\n",
      "  Resource \u001b[93mpunkt_tab\u001b[0m not found.\n",
      "  Please use the NLTK Downloader to obtain the resource:\n",
      "\n",
      "  \u001b[31m>>> import nltk\n",
      "  >>> nltk.download('punkt_tab')\n",
      "  \u001b[0m\n",
      "  For more information see: https://www.nltk.org/data.html\n",
      "\n",
      "  Attempted to load \u001b[93mtokenizers/punkt_tab/english/\u001b[0m\n",
      "\n",
      "  Searched in:\n",
      "    - '/Users/bhargav/nltk_data'\n",
      "    - '/Library/Frameworks/Python.framework/Versions/3.13/nltk_data'\n",
      "    - '/Library/Frameworks/Python.framework/Versions/3.13/share/nltk_data'\n",
      "    - '/Library/Frameworks/Python.framework/Versions/3.13/lib/nltk_data'\n",
      "    - '/usr/share/nltk_data'\n",
      "    - '/usr/local/share/nltk_data'\n",
      "    - '/usr/lib/nltk_data'\n",
      "    - '/usr/local/lib/nltk_data'\n",
      "**********************************************************************\n",
      "\n"
     ]
    },
    {
     "data": {
      "application/vnd.jupyter.widget-view+json": {
       "model_id": "ea47d89fe5b545af8c7d2769e20a940c",
       "version_major": 2,
       "version_minor": 0
      },
      "text/plain": [
       "Batches:   0%|          | 0/1 [00:00<?, ?it/s]"
      ]
     },
     "metadata": {},
     "output_type": "display_data"
    },
    {
     "data": {
      "application/vnd.jupyter.widget-view+json": {
       "model_id": "51c3136d6c8e4bfe83570efc20ef539e",
       "version_major": 2,
       "version_minor": 0
      },
      "text/plain": [
       "Batches:   0%|          | 0/1 [00:00<?, ?it/s]"
      ]
     },
     "metadata": {},
     "output_type": "display_data"
    },
    {
     "name": "stderr",
     "output_type": "stream",
     "text": [
      "2025-05-12 21:52:38,758 - __main__ - ERROR - Error computing BERT similarity: 'float' object is not subscriptable\n",
      "2025-05-12 21:52:38,759 - __main__ - ERROR - Error computing BLEU score: \n",
      "**********************************************************************\n",
      "  Resource \u001b[93mpunkt_tab\u001b[0m not found.\n",
      "  Please use the NLTK Downloader to obtain the resource:\n",
      "\n",
      "  \u001b[31m>>> import nltk\n",
      "  >>> nltk.download('punkt_tab')\n",
      "  \u001b[0m\n",
      "  For more information see: https://www.nltk.org/data.html\n",
      "\n",
      "  Attempted to load \u001b[93mtokenizers/punkt_tab/english/\u001b[0m\n",
      "\n",
      "  Searched in:\n",
      "    - '/Users/bhargav/nltk_data'\n",
      "    - '/Library/Frameworks/Python.framework/Versions/3.13/nltk_data'\n",
      "    - '/Library/Frameworks/Python.framework/Versions/3.13/share/nltk_data'\n",
      "    - '/Library/Frameworks/Python.framework/Versions/3.13/lib/nltk_data'\n",
      "    - '/usr/share/nltk_data'\n",
      "    - '/usr/local/share/nltk_data'\n",
      "    - '/usr/lib/nltk_data'\n",
      "    - '/usr/local/lib/nltk_data'\n",
      "**********************************************************************\n",
      "\n",
      "2025-05-12 21:52:38,759 - __main__ - ERROR - Error computing ROUGE scores: \n",
      "2025-05-12 21:52:38,759 - __main__ - ERROR - Error computing Levenshtein similarity: object of type 'float' has no len()\n",
      "2025-05-12 21:52:38,760 - __main__ - ERROR - Error computing Jaccard similarity: \n",
      "**********************************************************************\n",
      "  Resource \u001b[93mpunkt_tab\u001b[0m not found.\n",
      "  Please use the NLTK Downloader to obtain the resource:\n",
      "\n",
      "  \u001b[31m>>> import nltk\n",
      "  >>> nltk.download('punkt_tab')\n",
      "  \u001b[0m\n",
      "  For more information see: https://www.nltk.org/data.html\n",
      "\n",
      "  Attempted to load \u001b[93mtokenizers/punkt_tab/english/\u001b[0m\n",
      "\n",
      "  Searched in:\n",
      "    - '/Users/bhargav/nltk_data'\n",
      "    - '/Library/Frameworks/Python.framework/Versions/3.13/nltk_data'\n",
      "    - '/Library/Frameworks/Python.framework/Versions/3.13/share/nltk_data'\n",
      "    - '/Library/Frameworks/Python.framework/Versions/3.13/lib/nltk_data'\n",
      "    - '/usr/share/nltk_data'\n",
      "    - '/usr/local/share/nltk_data'\n",
      "    - '/usr/lib/nltk_data'\n",
      "    - '/usr/local/lib/nltk_data'\n",
      "**********************************************************************\n",
      "\n"
     ]
    },
    {
     "data": {
      "application/vnd.jupyter.widget-view+json": {
       "model_id": "6c261cb53d7a479f9684c9348668a060",
       "version_major": 2,
       "version_minor": 0
      },
      "text/plain": [
       "Batches:   0%|          | 0/1 [00:00<?, ?it/s]"
      ]
     },
     "metadata": {},
     "output_type": "display_data"
    },
    {
     "data": {
      "application/vnd.jupyter.widget-view+json": {
       "model_id": "4e7099f3bd674f24a2f45d945aa29928",
       "version_major": 2,
       "version_minor": 0
      },
      "text/plain": [
       "Batches:   0%|          | 0/1 [00:00<?, ?it/s]"
      ]
     },
     "metadata": {},
     "output_type": "display_data"
    },
    {
     "name": "stderr",
     "output_type": "stream",
     "text": [
      "2025-05-12 21:52:38,797 - __main__ - ERROR - Error computing BERT similarity: 'float' object is not subscriptable\n",
      "Computing mistral_similarities:  33%|███▎      | 38/115 [00:04<00:03, 25.63it/s]2025-05-12 21:52:38,798 - __main__ - ERROR - Error computing BLEU score: \n",
      "**********************************************************************\n",
      "  Resource \u001b[93mpunkt_tab\u001b[0m not found.\n",
      "  Please use the NLTK Downloader to obtain the resource:\n",
      "\n",
      "  \u001b[31m>>> import nltk\n",
      "  >>> nltk.download('punkt_tab')\n",
      "  \u001b[0m\n",
      "  For more information see: https://www.nltk.org/data.html\n",
      "\n",
      "  Attempted to load \u001b[93mtokenizers/punkt_tab/english/\u001b[0m\n",
      "\n",
      "  Searched in:\n",
      "    - '/Users/bhargav/nltk_data'\n",
      "    - '/Library/Frameworks/Python.framework/Versions/3.13/nltk_data'\n",
      "    - '/Library/Frameworks/Python.framework/Versions/3.13/share/nltk_data'\n",
      "    - '/Library/Frameworks/Python.framework/Versions/3.13/lib/nltk_data'\n",
      "    - '/usr/share/nltk_data'\n",
      "    - '/usr/local/share/nltk_data'\n",
      "    - '/usr/lib/nltk_data'\n",
      "    - '/usr/local/lib/nltk_data'\n",
      "**********************************************************************\n",
      "\n",
      "2025-05-12 21:52:38,802 - __main__ - ERROR - Error computing Jaccard similarity: \n",
      "**********************************************************************\n",
      "  Resource \u001b[93mpunkt_tab\u001b[0m not found.\n",
      "  Please use the NLTK Downloader to obtain the resource:\n",
      "\n",
      "  \u001b[31m>>> import nltk\n",
      "  >>> nltk.download('punkt_tab')\n",
      "  \u001b[0m\n",
      "  For more information see: https://www.nltk.org/data.html\n",
      "\n",
      "  Attempted to load \u001b[93mtokenizers/punkt_tab/english/\u001b[0m\n",
      "\n",
      "  Searched in:\n",
      "    - '/Users/bhargav/nltk_data'\n",
      "    - '/Library/Frameworks/Python.framework/Versions/3.13/nltk_data'\n",
      "    - '/Library/Frameworks/Python.framework/Versions/3.13/share/nltk_data'\n",
      "    - '/Library/Frameworks/Python.framework/Versions/3.13/lib/nltk_data'\n",
      "    - '/usr/share/nltk_data'\n",
      "    - '/usr/local/share/nltk_data'\n",
      "    - '/usr/lib/nltk_data'\n",
      "    - '/usr/local/lib/nltk_data'\n",
      "**********************************************************************\n",
      "\n"
     ]
    },
    {
     "data": {
      "application/vnd.jupyter.widget-view+json": {
       "model_id": "0f7abacb89d348d5b740e7fde78e6655",
       "version_major": 2,
       "version_minor": 0
      },
      "text/plain": [
       "Batches:   0%|          | 0/1 [00:00<?, ?it/s]"
      ]
     },
     "metadata": {},
     "output_type": "display_data"
    },
    {
     "data": {
      "application/vnd.jupyter.widget-view+json": {
       "model_id": "50ab29ca711246d091ea30d2d056cd35",
       "version_major": 2,
       "version_minor": 0
      },
      "text/plain": [
       "Batches:   0%|          | 0/1 [00:00<?, ?it/s]"
      ]
     },
     "metadata": {},
     "output_type": "display_data"
    },
    {
     "name": "stderr",
     "output_type": "stream",
     "text": [
      "2025-05-12 21:52:38,846 - __main__ - ERROR - Error computing BLEU score: \n",
      "**********************************************************************\n",
      "  Resource \u001b[93mpunkt_tab\u001b[0m not found.\n",
      "  Please use the NLTK Downloader to obtain the resource:\n",
      "\n",
      "  \u001b[31m>>> import nltk\n",
      "  >>> nltk.download('punkt_tab')\n",
      "  \u001b[0m\n",
      "  For more information see: https://www.nltk.org/data.html\n",
      "\n",
      "  Attempted to load \u001b[93mtokenizers/punkt_tab/english/\u001b[0m\n",
      "\n",
      "  Searched in:\n",
      "    - '/Users/bhargav/nltk_data'\n",
      "    - '/Library/Frameworks/Python.framework/Versions/3.13/nltk_data'\n",
      "    - '/Library/Frameworks/Python.framework/Versions/3.13/share/nltk_data'\n",
      "    - '/Library/Frameworks/Python.framework/Versions/3.13/lib/nltk_data'\n",
      "    - '/usr/share/nltk_data'\n",
      "    - '/usr/local/share/nltk_data'\n",
      "    - '/usr/lib/nltk_data'\n",
      "    - '/usr/local/lib/nltk_data'\n",
      "**********************************************************************\n",
      "\n",
      "2025-05-12 21:52:38,847 - __main__ - ERROR - Error computing ROUGE scores: \n",
      "2025-05-12 21:52:38,847 - __main__ - ERROR - Error computing Levenshtein similarity: object of type 'float' has no len()\n",
      "2025-05-12 21:52:38,848 - __main__ - ERROR - Error computing Jaccard similarity: \n",
      "**********************************************************************\n",
      "  Resource \u001b[93mpunkt_tab\u001b[0m not found.\n",
      "  Please use the NLTK Downloader to obtain the resource:\n",
      "\n",
      "  \u001b[31m>>> import nltk\n",
      "  >>> nltk.download('punkt_tab')\n",
      "  \u001b[0m\n",
      "  For more information see: https://www.nltk.org/data.html\n",
      "\n",
      "  Attempted to load \u001b[93mtokenizers/punkt_tab/english/\u001b[0m\n",
      "\n",
      "  Searched in:\n",
      "    - '/Users/bhargav/nltk_data'\n",
      "    - '/Library/Frameworks/Python.framework/Versions/3.13/nltk_data'\n",
      "    - '/Library/Frameworks/Python.framework/Versions/3.13/share/nltk_data'\n",
      "    - '/Library/Frameworks/Python.framework/Versions/3.13/lib/nltk_data'\n",
      "    - '/usr/share/nltk_data'\n",
      "    - '/usr/local/share/nltk_data'\n",
      "    - '/usr/lib/nltk_data'\n",
      "    - '/usr/local/lib/nltk_data'\n",
      "**********************************************************************\n",
      "\n"
     ]
    },
    {
     "data": {
      "application/vnd.jupyter.widget-view+json": {
       "model_id": "3bd5cf906b754e9f8f6b9943b34ef6f8",
       "version_major": 2,
       "version_minor": 0
      },
      "text/plain": [
       "Batches:   0%|          | 0/1 [00:00<?, ?it/s]"
      ]
     },
     "metadata": {},
     "output_type": "display_data"
    },
    {
     "data": {
      "application/vnd.jupyter.widget-view+json": {
       "model_id": "1e6ff391662b414b88ac26f779b5514b",
       "version_major": 2,
       "version_minor": 0
      },
      "text/plain": [
       "Batches:   0%|          | 0/1 [00:00<?, ?it/s]"
      ]
     },
     "metadata": {},
     "output_type": "display_data"
    },
    {
     "name": "stderr",
     "output_type": "stream",
     "text": [
      "2025-05-12 21:52:38,859 - __main__ - ERROR - Error computing BERT similarity: 'float' object is not subscriptable\n",
      "2025-05-12 21:52:38,860 - __main__ - ERROR - Error computing BLEU score: \n",
      "**********************************************************************\n",
      "  Resource \u001b[93mpunkt_tab\u001b[0m not found.\n",
      "  Please use the NLTK Downloader to obtain the resource:\n",
      "\n",
      "  \u001b[31m>>> import nltk\n",
      "  >>> nltk.download('punkt_tab')\n",
      "  \u001b[0m\n",
      "  For more information see: https://www.nltk.org/data.html\n",
      "\n",
      "  Attempted to load \u001b[93mtokenizers/punkt_tab/english/\u001b[0m\n",
      "\n",
      "  Searched in:\n",
      "    - '/Users/bhargav/nltk_data'\n",
      "    - '/Library/Frameworks/Python.framework/Versions/3.13/nltk_data'\n",
      "    - '/Library/Frameworks/Python.framework/Versions/3.13/share/nltk_data'\n",
      "    - '/Library/Frameworks/Python.framework/Versions/3.13/lib/nltk_data'\n",
      "    - '/usr/share/nltk_data'\n",
      "    - '/usr/local/share/nltk_data'\n",
      "    - '/usr/lib/nltk_data'\n",
      "    - '/usr/local/lib/nltk_data'\n",
      "**********************************************************************\n",
      "\n",
      "2025-05-12 21:52:38,860 - __main__ - ERROR - Error computing ROUGE scores: \n",
      "2025-05-12 21:52:38,860 - __main__ - ERROR - Error computing Levenshtein similarity: object of type 'float' has no len()\n",
      "2025-05-12 21:52:38,861 - __main__ - ERROR - Error computing Jaccard similarity: \n",
      "**********************************************************************\n",
      "  Resource \u001b[93mpunkt_tab\u001b[0m not found.\n",
      "  Please use the NLTK Downloader to obtain the resource:\n",
      "\n",
      "  \u001b[31m>>> import nltk\n",
      "  >>> nltk.download('punkt_tab')\n",
      "  \u001b[0m\n",
      "  For more information see: https://www.nltk.org/data.html\n",
      "\n",
      "  Attempted to load \u001b[93mtokenizers/punkt_tab/english/\u001b[0m\n",
      "\n",
      "  Searched in:\n",
      "    - '/Users/bhargav/nltk_data'\n",
      "    - '/Library/Frameworks/Python.framework/Versions/3.13/nltk_data'\n",
      "    - '/Library/Frameworks/Python.framework/Versions/3.13/share/nltk_data'\n",
      "    - '/Library/Frameworks/Python.framework/Versions/3.13/lib/nltk_data'\n",
      "    - '/usr/share/nltk_data'\n",
      "    - '/usr/local/share/nltk_data'\n",
      "    - '/usr/lib/nltk_data'\n",
      "    - '/usr/local/lib/nltk_data'\n",
      "**********************************************************************\n",
      "\n"
     ]
    },
    {
     "data": {
      "application/vnd.jupyter.widget-view+json": {
       "model_id": "7920e5121cfc4fe5a3e4512d96369b2b",
       "version_major": 2,
       "version_minor": 0
      },
      "text/plain": [
       "Batches:   0%|          | 0/1 [00:00<?, ?it/s]"
      ]
     },
     "metadata": {},
     "output_type": "display_data"
    },
    {
     "data": {
      "application/vnd.jupyter.widget-view+json": {
       "model_id": "407aebd15b064084ad8fc1a7b2d3d668",
       "version_major": 2,
       "version_minor": 0
      },
      "text/plain": [
       "Batches:   0%|          | 0/1 [00:00<?, ?it/s]"
      ]
     },
     "metadata": {},
     "output_type": "display_data"
    },
    {
     "name": "stderr",
     "output_type": "stream",
     "text": [
      "2025-05-12 21:52:38,896 - __main__ - ERROR - Error computing BERT similarity: 'float' object is not subscriptable\n",
      "2025-05-12 21:52:38,897 - __main__ - ERROR - Error computing BLEU score: \n",
      "**********************************************************************\n",
      "  Resource \u001b[93mpunkt_tab\u001b[0m not found.\n",
      "  Please use the NLTK Downloader to obtain the resource:\n",
      "\n",
      "  \u001b[31m>>> import nltk\n",
      "  >>> nltk.download('punkt_tab')\n",
      "  \u001b[0m\n",
      "  For more information see: https://www.nltk.org/data.html\n",
      "\n",
      "  Attempted to load \u001b[93mtokenizers/punkt_tab/english/\u001b[0m\n",
      "\n",
      "  Searched in:\n",
      "    - '/Users/bhargav/nltk_data'\n",
      "    - '/Library/Frameworks/Python.framework/Versions/3.13/nltk_data'\n",
      "    - '/Library/Frameworks/Python.framework/Versions/3.13/share/nltk_data'\n",
      "    - '/Library/Frameworks/Python.framework/Versions/3.13/lib/nltk_data'\n",
      "    - '/usr/share/nltk_data'\n",
      "    - '/usr/local/share/nltk_data'\n",
      "    - '/usr/lib/nltk_data'\n",
      "    - '/usr/local/lib/nltk_data'\n",
      "**********************************************************************\n",
      "\n",
      "2025-05-12 21:52:38,898 - __main__ - ERROR - Error computing ROUGE scores: \n",
      "2025-05-12 21:52:38,898 - __main__ - ERROR - Error computing Levenshtein similarity: object of type 'float' has no len()\n",
      "2025-05-12 21:52:38,898 - __main__ - ERROR - Error computing Jaccard similarity: \n",
      "**********************************************************************\n",
      "  Resource \u001b[93mpunkt_tab\u001b[0m not found.\n",
      "  Please use the NLTK Downloader to obtain the resource:\n",
      "\n",
      "  \u001b[31m>>> import nltk\n",
      "  >>> nltk.download('punkt_tab')\n",
      "  \u001b[0m\n",
      "  For more information see: https://www.nltk.org/data.html\n",
      "\n",
      "  Attempted to load \u001b[93mtokenizers/punkt_tab/english/\u001b[0m\n",
      "\n",
      "  Searched in:\n",
      "    - '/Users/bhargav/nltk_data'\n",
      "    - '/Library/Frameworks/Python.framework/Versions/3.13/nltk_data'\n",
      "    - '/Library/Frameworks/Python.framework/Versions/3.13/share/nltk_data'\n",
      "    - '/Library/Frameworks/Python.framework/Versions/3.13/lib/nltk_data'\n",
      "    - '/usr/share/nltk_data'\n",
      "    - '/usr/local/share/nltk_data'\n",
      "    - '/usr/lib/nltk_data'\n",
      "    - '/usr/local/lib/nltk_data'\n",
      "**********************************************************************\n",
      "\n"
     ]
    },
    {
     "data": {
      "application/vnd.jupyter.widget-view+json": {
       "model_id": "9a36322148824d66b26c592401c4ef49",
       "version_major": 2,
       "version_minor": 0
      },
      "text/plain": [
       "Batches:   0%|          | 0/1 [00:00<?, ?it/s]"
      ]
     },
     "metadata": {},
     "output_type": "display_data"
    },
    {
     "data": {
      "application/vnd.jupyter.widget-view+json": {
       "model_id": "f4ced7d0c3524bcca0090b593e6f8042",
       "version_major": 2,
       "version_minor": 0
      },
      "text/plain": [
       "Batches:   0%|          | 0/1 [00:00<?, ?it/s]"
      ]
     },
     "metadata": {},
     "output_type": "display_data"
    },
    {
     "name": "stderr",
     "output_type": "stream",
     "text": [
      "2025-05-12 21:52:38,933 - __main__ - ERROR - Error computing BERT similarity: 'float' object is not subscriptable\n",
      "Computing mistral_similarities:  37%|███▋      | 42/115 [00:04<00:02, 26.68it/s]2025-05-12 21:52:38,934 - __main__ - ERROR - Error computing BLEU score: \n",
      "**********************************************************************\n",
      "  Resource \u001b[93mpunkt_tab\u001b[0m not found.\n",
      "  Please use the NLTK Downloader to obtain the resource:\n",
      "\n",
      "  \u001b[31m>>> import nltk\n",
      "  >>> nltk.download('punkt_tab')\n",
      "  \u001b[0m\n",
      "  For more information see: https://www.nltk.org/data.html\n",
      "\n",
      "  Attempted to load \u001b[93mtokenizers/punkt_tab/english/\u001b[0m\n",
      "\n",
      "  Searched in:\n",
      "    - '/Users/bhargav/nltk_data'\n",
      "    - '/Library/Frameworks/Python.framework/Versions/3.13/nltk_data'\n",
      "    - '/Library/Frameworks/Python.framework/Versions/3.13/share/nltk_data'\n",
      "    - '/Library/Frameworks/Python.framework/Versions/3.13/lib/nltk_data'\n",
      "    - '/usr/share/nltk_data'\n",
      "    - '/usr/local/share/nltk_data'\n",
      "    - '/usr/lib/nltk_data'\n",
      "    - '/usr/local/lib/nltk_data'\n",
      "**********************************************************************\n",
      "\n",
      "2025-05-12 21:52:38,934 - __main__ - ERROR - Error computing ROUGE scores: \n",
      "2025-05-12 21:52:38,935 - __main__ - ERROR - Error computing Levenshtein similarity: object of type 'float' has no len()\n",
      "2025-05-12 21:52:38,936 - __main__ - ERROR - Error computing Jaccard similarity: \n",
      "**********************************************************************\n",
      "  Resource \u001b[93mpunkt_tab\u001b[0m not found.\n",
      "  Please use the NLTK Downloader to obtain the resource:\n",
      "\n",
      "  \u001b[31m>>> import nltk\n",
      "  >>> nltk.download('punkt_tab')\n",
      "  \u001b[0m\n",
      "  For more information see: https://www.nltk.org/data.html\n",
      "\n",
      "  Attempted to load \u001b[93mtokenizers/punkt_tab/english/\u001b[0m\n",
      "\n",
      "  Searched in:\n",
      "    - '/Users/bhargav/nltk_data'\n",
      "    - '/Library/Frameworks/Python.framework/Versions/3.13/nltk_data'\n",
      "    - '/Library/Frameworks/Python.framework/Versions/3.13/share/nltk_data'\n",
      "    - '/Library/Frameworks/Python.framework/Versions/3.13/lib/nltk_data'\n",
      "    - '/usr/share/nltk_data'\n",
      "    - '/usr/local/share/nltk_data'\n",
      "    - '/usr/lib/nltk_data'\n",
      "    - '/usr/local/lib/nltk_data'\n",
      "**********************************************************************\n",
      "\n"
     ]
    },
    {
     "data": {
      "application/vnd.jupyter.widget-view+json": {
       "model_id": "4910c871401a4311ae7a100b223234b8",
       "version_major": 2,
       "version_minor": 0
      },
      "text/plain": [
       "Batches:   0%|          | 0/1 [00:00<?, ?it/s]"
      ]
     },
     "metadata": {},
     "output_type": "display_data"
    },
    {
     "data": {
      "application/vnd.jupyter.widget-view+json": {
       "model_id": "c2f170f371b34121afa20343cf70ed55",
       "version_major": 2,
       "version_minor": 0
      },
      "text/plain": [
       "Batches:   0%|          | 0/1 [00:00<?, ?it/s]"
      ]
     },
     "metadata": {},
     "output_type": "display_data"
    },
    {
     "name": "stderr",
     "output_type": "stream",
     "text": [
      "2025-05-12 21:52:38,975 - __main__ - ERROR - Error computing BERT similarity: 'float' object is not subscriptable\n",
      "2025-05-12 21:52:38,976 - __main__ - ERROR - Error computing BLEU score: \n",
      "**********************************************************************\n",
      "  Resource \u001b[93mpunkt_tab\u001b[0m not found.\n",
      "  Please use the NLTK Downloader to obtain the resource:\n",
      "\n",
      "  \u001b[31m>>> import nltk\n",
      "  >>> nltk.download('punkt_tab')\n",
      "  \u001b[0m\n",
      "  For more information see: https://www.nltk.org/data.html\n",
      "\n",
      "  Attempted to load \u001b[93mtokenizers/punkt_tab/english/\u001b[0m\n",
      "\n",
      "  Searched in:\n",
      "    - '/Users/bhargav/nltk_data'\n",
      "    - '/Library/Frameworks/Python.framework/Versions/3.13/nltk_data'\n",
      "    - '/Library/Frameworks/Python.framework/Versions/3.13/share/nltk_data'\n",
      "    - '/Library/Frameworks/Python.framework/Versions/3.13/lib/nltk_data'\n",
      "    - '/usr/share/nltk_data'\n",
      "    - '/usr/local/share/nltk_data'\n",
      "    - '/usr/lib/nltk_data'\n",
      "    - '/usr/local/lib/nltk_data'\n",
      "**********************************************************************\n",
      "\n",
      "2025-05-12 21:52:38,976 - __main__ - ERROR - Error computing ROUGE scores: \n",
      "2025-05-12 21:52:38,977 - __main__ - ERROR - Error computing Levenshtein similarity: object of type 'float' has no len()\n",
      "2025-05-12 21:52:38,977 - __main__ - ERROR - Error computing Jaccard similarity: \n",
      "**********************************************************************\n",
      "  Resource \u001b[93mpunkt_tab\u001b[0m not found.\n",
      "  Please use the NLTK Downloader to obtain the resource:\n",
      "\n",
      "  \u001b[31m>>> import nltk\n",
      "  >>> nltk.download('punkt_tab')\n",
      "  \u001b[0m\n",
      "  For more information see: https://www.nltk.org/data.html\n",
      "\n",
      "  Attempted to load \u001b[93mtokenizers/punkt_tab/english/\u001b[0m\n",
      "\n",
      "  Searched in:\n",
      "    - '/Users/bhargav/nltk_data'\n",
      "    - '/Library/Frameworks/Python.framework/Versions/3.13/nltk_data'\n",
      "    - '/Library/Frameworks/Python.framework/Versions/3.13/share/nltk_data'\n",
      "    - '/Library/Frameworks/Python.framework/Versions/3.13/lib/nltk_data'\n",
      "    - '/usr/share/nltk_data'\n",
      "    - '/usr/local/share/nltk_data'\n",
      "    - '/usr/lib/nltk_data'\n",
      "    - '/usr/local/lib/nltk_data'\n",
      "**********************************************************************\n",
      "\n"
     ]
    },
    {
     "data": {
      "application/vnd.jupyter.widget-view+json": {
       "model_id": "23a9268b9ed041d9a1185b9707093617",
       "version_major": 2,
       "version_minor": 0
      },
      "text/plain": [
       "Batches:   0%|          | 0/1 [00:00<?, ?it/s]"
      ]
     },
     "metadata": {},
     "output_type": "display_data"
    },
    {
     "data": {
      "application/vnd.jupyter.widget-view+json": {
       "model_id": "81982e8a72b4485096062c733ed51b93",
       "version_major": 2,
       "version_minor": 0
      },
      "text/plain": [
       "Batches:   0%|          | 0/1 [00:00<?, ?it/s]"
      ]
     },
     "metadata": {},
     "output_type": "display_data"
    },
    {
     "name": "stderr",
     "output_type": "stream",
     "text": [
      "2025-05-12 21:52:39,014 - __main__ - ERROR - Error computing BERT similarity: 'float' object is not subscriptable\n",
      "2025-05-12 21:52:39,015 - __main__ - ERROR - Error computing BLEU score: \n",
      "**********************************************************************\n",
      "  Resource \u001b[93mpunkt_tab\u001b[0m not found.\n",
      "  Please use the NLTK Downloader to obtain the resource:\n",
      "\n",
      "  \u001b[31m>>> import nltk\n",
      "  >>> nltk.download('punkt_tab')\n",
      "  \u001b[0m\n",
      "  For more information see: https://www.nltk.org/data.html\n",
      "\n",
      "  Attempted to load \u001b[93mtokenizers/punkt_tab/english/\u001b[0m\n",
      "\n",
      "  Searched in:\n",
      "    - '/Users/bhargav/nltk_data'\n",
      "    - '/Library/Frameworks/Python.framework/Versions/3.13/nltk_data'\n",
      "    - '/Library/Frameworks/Python.framework/Versions/3.13/share/nltk_data'\n",
      "    - '/Library/Frameworks/Python.framework/Versions/3.13/lib/nltk_data'\n",
      "    - '/usr/share/nltk_data'\n",
      "    - '/usr/local/share/nltk_data'\n",
      "    - '/usr/lib/nltk_data'\n",
      "    - '/usr/local/lib/nltk_data'\n",
      "**********************************************************************\n",
      "\n",
      "2025-05-12 21:52:39,015 - __main__ - ERROR - Error computing ROUGE scores: \n",
      "2025-05-12 21:52:39,015 - __main__ - ERROR - Error computing Levenshtein similarity: object of type 'float' has no len()\n",
      "2025-05-12 21:52:39,016 - __main__ - ERROR - Error computing Jaccard similarity: \n",
      "**********************************************************************\n",
      "  Resource \u001b[93mpunkt_tab\u001b[0m not found.\n",
      "  Please use the NLTK Downloader to obtain the resource:\n",
      "\n",
      "  \u001b[31m>>> import nltk\n",
      "  >>> nltk.download('punkt_tab')\n",
      "  \u001b[0m\n",
      "  For more information see: https://www.nltk.org/data.html\n",
      "\n",
      "  Attempted to load \u001b[93mtokenizers/punkt_tab/english/\u001b[0m\n",
      "\n",
      "  Searched in:\n",
      "    - '/Users/bhargav/nltk_data'\n",
      "    - '/Library/Frameworks/Python.framework/Versions/3.13/nltk_data'\n",
      "    - '/Library/Frameworks/Python.framework/Versions/3.13/share/nltk_data'\n",
      "    - '/Library/Frameworks/Python.framework/Versions/3.13/lib/nltk_data'\n",
      "    - '/usr/share/nltk_data'\n",
      "    - '/usr/local/share/nltk_data'\n",
      "    - '/usr/lib/nltk_data'\n",
      "    - '/usr/local/lib/nltk_data'\n",
      "**********************************************************************\n",
      "\n"
     ]
    },
    {
     "data": {
      "application/vnd.jupyter.widget-view+json": {
       "model_id": "f9588e559f5040f2848fac89773cf082",
       "version_major": 2,
       "version_minor": 0
      },
      "text/plain": [
       "Batches:   0%|          | 0/1 [00:00<?, ?it/s]"
      ]
     },
     "metadata": {},
     "output_type": "display_data"
    },
    {
     "data": {
      "application/vnd.jupyter.widget-view+json": {
       "model_id": "3ec6dd6f5cc44d5d814a0c5d7194944c",
       "version_major": 2,
       "version_minor": 0
      },
      "text/plain": [
       "Batches:   0%|          | 0/1 [00:00<?, ?it/s]"
      ]
     },
     "metadata": {},
     "output_type": "display_data"
    },
    {
     "name": "stderr",
     "output_type": "stream",
     "text": [
      "2025-05-12 21:52:39,052 - __main__ - ERROR - Error computing BERT similarity: 'float' object is not subscriptable\n",
      "Computing mistral_similarities:  39%|███▉      | 45/115 [00:04<00:02, 26.29it/s]2025-05-12 21:52:39,053 - __main__ - ERROR - Error computing BLEU score: \n",
      "**********************************************************************\n",
      "  Resource \u001b[93mpunkt_tab\u001b[0m not found.\n",
      "  Please use the NLTK Downloader to obtain the resource:\n",
      "\n",
      "  \u001b[31m>>> import nltk\n",
      "  >>> nltk.download('punkt_tab')\n",
      "  \u001b[0m\n",
      "  For more information see: https://www.nltk.org/data.html\n",
      "\n",
      "  Attempted to load \u001b[93mtokenizers/punkt_tab/english/\u001b[0m\n",
      "\n",
      "  Searched in:\n",
      "    - '/Users/bhargav/nltk_data'\n",
      "    - '/Library/Frameworks/Python.framework/Versions/3.13/nltk_data'\n",
      "    - '/Library/Frameworks/Python.framework/Versions/3.13/share/nltk_data'\n",
      "    - '/Library/Frameworks/Python.framework/Versions/3.13/lib/nltk_data'\n",
      "    - '/usr/share/nltk_data'\n",
      "    - '/usr/local/share/nltk_data'\n",
      "    - '/usr/lib/nltk_data'\n",
      "    - '/usr/local/lib/nltk_data'\n",
      "**********************************************************************\n",
      "\n",
      "2025-05-12 21:52:39,054 - __main__ - ERROR - Error computing ROUGE scores: \n",
      "2025-05-12 21:52:39,054 - __main__ - ERROR - Error computing Levenshtein similarity: object of type 'float' has no len()\n",
      "2025-05-12 21:52:39,054 - __main__ - ERROR - Error computing Jaccard similarity: \n",
      "**********************************************************************\n",
      "  Resource \u001b[93mpunkt_tab\u001b[0m not found.\n",
      "  Please use the NLTK Downloader to obtain the resource:\n",
      "\n",
      "  \u001b[31m>>> import nltk\n",
      "  >>> nltk.download('punkt_tab')\n",
      "  \u001b[0m\n",
      "  For more information see: https://www.nltk.org/data.html\n",
      "\n",
      "  Attempted to load \u001b[93mtokenizers/punkt_tab/english/\u001b[0m\n",
      "\n",
      "  Searched in:\n",
      "    - '/Users/bhargav/nltk_data'\n",
      "    - '/Library/Frameworks/Python.framework/Versions/3.13/nltk_data'\n",
      "    - '/Library/Frameworks/Python.framework/Versions/3.13/share/nltk_data'\n",
      "    - '/Library/Frameworks/Python.framework/Versions/3.13/lib/nltk_data'\n",
      "    - '/usr/share/nltk_data'\n",
      "    - '/usr/local/share/nltk_data'\n",
      "    - '/usr/lib/nltk_data'\n",
      "    - '/usr/local/lib/nltk_data'\n",
      "**********************************************************************\n",
      "\n"
     ]
    },
    {
     "data": {
      "application/vnd.jupyter.widget-view+json": {
       "model_id": "31544d43725846b4b17c300dc64374f0",
       "version_major": 2,
       "version_minor": 0
      },
      "text/plain": [
       "Batches:   0%|          | 0/1 [00:00<?, ?it/s]"
      ]
     },
     "metadata": {},
     "output_type": "display_data"
    },
    {
     "data": {
      "application/vnd.jupyter.widget-view+json": {
       "model_id": "3cdafc7583b04290a7494de3495bd82f",
       "version_major": 2,
       "version_minor": 0
      },
      "text/plain": [
       "Batches:   0%|          | 0/1 [00:00<?, ?it/s]"
      ]
     },
     "metadata": {},
     "output_type": "display_data"
    },
    {
     "name": "stderr",
     "output_type": "stream",
     "text": [
      "2025-05-12 21:52:39,066 - __main__ - ERROR - Error computing BERT similarity: 'float' object is not subscriptable\n",
      "2025-05-12 21:52:39,067 - __main__ - ERROR - Error computing BLEU score: \n",
      "**********************************************************************\n",
      "  Resource \u001b[93mpunkt_tab\u001b[0m not found.\n",
      "  Please use the NLTK Downloader to obtain the resource:\n",
      "\n",
      "  \u001b[31m>>> import nltk\n",
      "  >>> nltk.download('punkt_tab')\n",
      "  \u001b[0m\n",
      "  For more information see: https://www.nltk.org/data.html\n",
      "\n",
      "  Attempted to load \u001b[93mtokenizers/punkt_tab/english/\u001b[0m\n",
      "\n",
      "  Searched in:\n",
      "    - '/Users/bhargav/nltk_data'\n",
      "    - '/Library/Frameworks/Python.framework/Versions/3.13/nltk_data'\n",
      "    - '/Library/Frameworks/Python.framework/Versions/3.13/share/nltk_data'\n",
      "    - '/Library/Frameworks/Python.framework/Versions/3.13/lib/nltk_data'\n",
      "    - '/usr/share/nltk_data'\n",
      "    - '/usr/local/share/nltk_data'\n",
      "    - '/usr/lib/nltk_data'\n",
      "    - '/usr/local/lib/nltk_data'\n",
      "**********************************************************************\n",
      "\n",
      "2025-05-12 21:52:39,068 - __main__ - ERROR - Error computing ROUGE scores: \n",
      "2025-05-12 21:52:39,068 - __main__ - ERROR - Error computing Levenshtein similarity: object of type 'float' has no len()\n",
      "2025-05-12 21:52:39,068 - __main__ - ERROR - Error computing Jaccard similarity: \n",
      "**********************************************************************\n",
      "  Resource \u001b[93mpunkt_tab\u001b[0m not found.\n",
      "  Please use the NLTK Downloader to obtain the resource:\n",
      "\n",
      "  \u001b[31m>>> import nltk\n",
      "  >>> nltk.download('punkt_tab')\n",
      "  \u001b[0m\n",
      "  For more information see: https://www.nltk.org/data.html\n",
      "\n",
      "  Attempted to load \u001b[93mtokenizers/punkt_tab/english/\u001b[0m\n",
      "\n",
      "  Searched in:\n",
      "    - '/Users/bhargav/nltk_data'\n",
      "    - '/Library/Frameworks/Python.framework/Versions/3.13/nltk_data'\n",
      "    - '/Library/Frameworks/Python.framework/Versions/3.13/share/nltk_data'\n",
      "    - '/Library/Frameworks/Python.framework/Versions/3.13/lib/nltk_data'\n",
      "    - '/usr/share/nltk_data'\n",
      "    - '/usr/local/share/nltk_data'\n",
      "    - '/usr/lib/nltk_data'\n",
      "    - '/usr/local/lib/nltk_data'\n",
      "**********************************************************************\n",
      "\n"
     ]
    },
    {
     "data": {
      "application/vnd.jupyter.widget-view+json": {
       "model_id": "b8b49a8ccd5c41a98ea275fa966f25e6",
       "version_major": 2,
       "version_minor": 0
      },
      "text/plain": [
       "Batches:   0%|          | 0/1 [00:00<?, ?it/s]"
      ]
     },
     "metadata": {},
     "output_type": "display_data"
    },
    {
     "data": {
      "application/vnd.jupyter.widget-view+json": {
       "model_id": "18921f91d3704d8b81389dfa71046cdb",
       "version_major": 2,
       "version_minor": 0
      },
      "text/plain": [
       "Batches:   0%|          | 0/1 [00:00<?, ?it/s]"
      ]
     },
     "metadata": {},
     "output_type": "display_data"
    },
    {
     "name": "stderr",
     "output_type": "stream",
     "text": [
      "2025-05-12 21:52:39,090 - __main__ - ERROR - Error computing BERT similarity: 'float' object is not subscriptable\n",
      "2025-05-12 21:52:39,091 - __main__ - ERROR - Error computing BLEU score: \n",
      "**********************************************************************\n",
      "  Resource \u001b[93mpunkt_tab\u001b[0m not found.\n",
      "  Please use the NLTK Downloader to obtain the resource:\n",
      "\n",
      "  \u001b[31m>>> import nltk\n",
      "  >>> nltk.download('punkt_tab')\n",
      "  \u001b[0m\n",
      "  For more information see: https://www.nltk.org/data.html\n",
      "\n",
      "  Attempted to load \u001b[93mtokenizers/punkt_tab/english/\u001b[0m\n",
      "\n",
      "  Searched in:\n",
      "    - '/Users/bhargav/nltk_data'\n",
      "    - '/Library/Frameworks/Python.framework/Versions/3.13/nltk_data'\n",
      "    - '/Library/Frameworks/Python.framework/Versions/3.13/share/nltk_data'\n",
      "    - '/Library/Frameworks/Python.framework/Versions/3.13/lib/nltk_data'\n",
      "    - '/usr/share/nltk_data'\n",
      "    - '/usr/local/share/nltk_data'\n",
      "    - '/usr/lib/nltk_data'\n",
      "    - '/usr/local/lib/nltk_data'\n",
      "**********************************************************************\n",
      "\n",
      "2025-05-12 21:52:39,091 - __main__ - ERROR - Error computing ROUGE scores: \n",
      "2025-05-12 21:52:39,091 - __main__ - ERROR - Error computing Levenshtein similarity: object of type 'float' has no len()\n",
      "2025-05-12 21:52:39,092 - __main__ - ERROR - Error computing Jaccard similarity: \n",
      "**********************************************************************\n",
      "  Resource \u001b[93mpunkt_tab\u001b[0m not found.\n",
      "  Please use the NLTK Downloader to obtain the resource:\n",
      "\n",
      "  \u001b[31m>>> import nltk\n",
      "  >>> nltk.download('punkt_tab')\n",
      "  \u001b[0m\n",
      "  For more information see: https://www.nltk.org/data.html\n",
      "\n",
      "  Attempted to load \u001b[93mtokenizers/punkt_tab/english/\u001b[0m\n",
      "\n",
      "  Searched in:\n",
      "    - '/Users/bhargav/nltk_data'\n",
      "    - '/Library/Frameworks/Python.framework/Versions/3.13/nltk_data'\n",
      "    - '/Library/Frameworks/Python.framework/Versions/3.13/share/nltk_data'\n",
      "    - '/Library/Frameworks/Python.framework/Versions/3.13/lib/nltk_data'\n",
      "    - '/usr/share/nltk_data'\n",
      "    - '/usr/local/share/nltk_data'\n",
      "    - '/usr/lib/nltk_data'\n",
      "    - '/usr/local/lib/nltk_data'\n",
      "**********************************************************************\n",
      "\n"
     ]
    },
    {
     "data": {
      "application/vnd.jupyter.widget-view+json": {
       "model_id": "0dd7acb7fa244853b89213eb7d878cad",
       "version_major": 2,
       "version_minor": 0
      },
      "text/plain": [
       "Batches:   0%|          | 0/1 [00:00<?, ?it/s]"
      ]
     },
     "metadata": {},
     "output_type": "display_data"
    },
    {
     "data": {
      "application/vnd.jupyter.widget-view+json": {
       "model_id": "73a417977b294fe2b49170225efa2cb4",
       "version_major": 2,
       "version_minor": 0
      },
      "text/plain": [
       "Batches:   0%|          | 0/1 [00:00<?, ?it/s]"
      ]
     },
     "metadata": {},
     "output_type": "display_data"
    },
    {
     "name": "stderr",
     "output_type": "stream",
     "text": [
      "2025-05-12 21:52:39,131 - __main__ - ERROR - Error computing BERT similarity: 'float' object is not subscriptable\n",
      "2025-05-12 21:52:39,132 - __main__ - ERROR - Error computing BLEU score: \n",
      "**********************************************************************\n",
      "  Resource \u001b[93mpunkt_tab\u001b[0m not found.\n",
      "  Please use the NLTK Downloader to obtain the resource:\n",
      "\n",
      "  \u001b[31m>>> import nltk\n",
      "  >>> nltk.download('punkt_tab')\n",
      "  \u001b[0m\n",
      "  For more information see: https://www.nltk.org/data.html\n",
      "\n",
      "  Attempted to load \u001b[93mtokenizers/punkt_tab/english/\u001b[0m\n",
      "\n",
      "  Searched in:\n",
      "    - '/Users/bhargav/nltk_data'\n",
      "    - '/Library/Frameworks/Python.framework/Versions/3.13/nltk_data'\n",
      "    - '/Library/Frameworks/Python.framework/Versions/3.13/share/nltk_data'\n",
      "    - '/Library/Frameworks/Python.framework/Versions/3.13/lib/nltk_data'\n",
      "    - '/usr/share/nltk_data'\n",
      "    - '/usr/local/share/nltk_data'\n",
      "    - '/usr/lib/nltk_data'\n",
      "    - '/usr/local/lib/nltk_data'\n",
      "**********************************************************************\n",
      "\n",
      "2025-05-12 21:52:39,132 - __main__ - ERROR - Error computing ROUGE scores: \n",
      "2025-05-12 21:52:39,132 - __main__ - ERROR - Error computing Levenshtein similarity: object of type 'float' has no len()\n",
      "2025-05-12 21:52:39,133 - __main__ - ERROR - Error computing Jaccard similarity: \n",
      "**********************************************************************\n",
      "  Resource \u001b[93mpunkt_tab\u001b[0m not found.\n",
      "  Please use the NLTK Downloader to obtain the resource:\n",
      "\n",
      "  \u001b[31m>>> import nltk\n",
      "  >>> nltk.download('punkt_tab')\n",
      "  \u001b[0m\n",
      "  For more information see: https://www.nltk.org/data.html\n",
      "\n",
      "  Attempted to load \u001b[93mtokenizers/punkt_tab/english/\u001b[0m\n",
      "\n",
      "  Searched in:\n",
      "    - '/Users/bhargav/nltk_data'\n",
      "    - '/Library/Frameworks/Python.framework/Versions/3.13/nltk_data'\n",
      "    - '/Library/Frameworks/Python.framework/Versions/3.13/share/nltk_data'\n",
      "    - '/Library/Frameworks/Python.framework/Versions/3.13/lib/nltk_data'\n",
      "    - '/usr/share/nltk_data'\n",
      "    - '/usr/local/share/nltk_data'\n",
      "    - '/usr/lib/nltk_data'\n",
      "    - '/usr/local/lib/nltk_data'\n",
      "**********************************************************************\n",
      "\n"
     ]
    },
    {
     "data": {
      "application/vnd.jupyter.widget-view+json": {
       "model_id": "5b8d0c9d58f74d3d872482a40cd65ea2",
       "version_major": 2,
       "version_minor": 0
      },
      "text/plain": [
       "Batches:   0%|          | 0/1 [00:00<?, ?it/s]"
      ]
     },
     "metadata": {},
     "output_type": "display_data"
    },
    {
     "data": {
      "application/vnd.jupyter.widget-view+json": {
       "model_id": "22e129c17c08494caa4a0b09aec83f5c",
       "version_major": 2,
       "version_minor": 0
      },
      "text/plain": [
       "Batches:   0%|          | 0/1 [00:00<?, ?it/s]"
      ]
     },
     "metadata": {},
     "output_type": "display_data"
    },
    {
     "name": "stderr",
     "output_type": "stream",
     "text": [
      "2025-05-12 21:52:39,145 - __main__ - ERROR - Error computing BERT similarity: 'float' object is not subscriptable\n",
      "2025-05-12 21:52:39,146 - __main__ - ERROR - Error computing BLEU score: \n",
      "**********************************************************************\n",
      "  Resource \u001b[93mpunkt_tab\u001b[0m not found.\n",
      "  Please use the NLTK Downloader to obtain the resource:\n",
      "\n",
      "  \u001b[31m>>> import nltk\n",
      "  >>> nltk.download('punkt_tab')\n",
      "  \u001b[0m\n",
      "  For more information see: https://www.nltk.org/data.html\n",
      "\n",
      "  Attempted to load \u001b[93mtokenizers/punkt_tab/english/\u001b[0m\n",
      "\n",
      "  Searched in:\n",
      "    - '/Users/bhargav/nltk_data'\n",
      "    - '/Library/Frameworks/Python.framework/Versions/3.13/nltk_data'\n",
      "    - '/Library/Frameworks/Python.framework/Versions/3.13/share/nltk_data'\n",
      "    - '/Library/Frameworks/Python.framework/Versions/3.13/lib/nltk_data'\n",
      "    - '/usr/share/nltk_data'\n",
      "    - '/usr/local/share/nltk_data'\n",
      "    - '/usr/lib/nltk_data'\n",
      "    - '/usr/local/lib/nltk_data'\n",
      "**********************************************************************\n",
      "\n",
      "2025-05-12 21:52:39,146 - __main__ - ERROR - Error computing ROUGE scores: \n",
      "2025-05-12 21:52:39,147 - __main__ - ERROR - Error computing Levenshtein similarity: object of type 'float' has no len()\n",
      "2025-05-12 21:52:39,148 - __main__ - ERROR - Error computing Jaccard similarity: \n",
      "**********************************************************************\n",
      "  Resource \u001b[93mpunkt_tab\u001b[0m not found.\n",
      "  Please use the NLTK Downloader to obtain the resource:\n",
      "\n",
      "  \u001b[31m>>> import nltk\n",
      "  >>> nltk.download('punkt_tab')\n",
      "  \u001b[0m\n",
      "  For more information see: https://www.nltk.org/data.html\n",
      "\n",
      "  Attempted to load \u001b[93mtokenizers/punkt_tab/english/\u001b[0m\n",
      "\n",
      "  Searched in:\n",
      "    - '/Users/bhargav/nltk_data'\n",
      "    - '/Library/Frameworks/Python.framework/Versions/3.13/nltk_data'\n",
      "    - '/Library/Frameworks/Python.framework/Versions/3.13/share/nltk_data'\n",
      "    - '/Library/Frameworks/Python.framework/Versions/3.13/lib/nltk_data'\n",
      "    - '/usr/share/nltk_data'\n",
      "    - '/usr/local/share/nltk_data'\n",
      "    - '/usr/lib/nltk_data'\n",
      "    - '/usr/local/lib/nltk_data'\n",
      "**********************************************************************\n",
      "\n"
     ]
    },
    {
     "data": {
      "application/vnd.jupyter.widget-view+json": {
       "model_id": "b166365574274d5980d3d1f169ada867",
       "version_major": 2,
       "version_minor": 0
      },
      "text/plain": [
       "Batches:   0%|          | 0/1 [00:00<?, ?it/s]"
      ]
     },
     "metadata": {},
     "output_type": "display_data"
    },
    {
     "data": {
      "application/vnd.jupyter.widget-view+json": {
       "model_id": "8bbe3b16a07e4304b3bbce2968e487fc",
       "version_major": 2,
       "version_minor": 0
      },
      "text/plain": [
       "Batches:   0%|          | 0/1 [00:00<?, ?it/s]"
      ]
     },
     "metadata": {},
     "output_type": "display_data"
    },
    {
     "name": "stderr",
     "output_type": "stream",
     "text": [
      "2025-05-12 21:52:39,184 - __main__ - ERROR - Error computing BERT similarity: 'float' object is not subscriptable\n",
      "Computing mistral_similarities:  43%|████▎     | 50/115 [00:05<00:02, 29.70it/s]2025-05-12 21:52:39,185 - __main__ - ERROR - Error computing BLEU score: \n",
      "**********************************************************************\n",
      "  Resource \u001b[93mpunkt_tab\u001b[0m not found.\n",
      "  Please use the NLTK Downloader to obtain the resource:\n",
      "\n",
      "  \u001b[31m>>> import nltk\n",
      "  >>> nltk.download('punkt_tab')\n",
      "  \u001b[0m\n",
      "  For more information see: https://www.nltk.org/data.html\n",
      "\n",
      "  Attempted to load \u001b[93mtokenizers/punkt_tab/english/\u001b[0m\n",
      "\n",
      "  Searched in:\n",
      "    - '/Users/bhargav/nltk_data'\n",
      "    - '/Library/Frameworks/Python.framework/Versions/3.13/nltk_data'\n",
      "    - '/Library/Frameworks/Python.framework/Versions/3.13/share/nltk_data'\n",
      "    - '/Library/Frameworks/Python.framework/Versions/3.13/lib/nltk_data'\n",
      "    - '/usr/share/nltk_data'\n",
      "    - '/usr/local/share/nltk_data'\n",
      "    - '/usr/lib/nltk_data'\n",
      "    - '/usr/local/lib/nltk_data'\n",
      "**********************************************************************\n",
      "\n",
      "2025-05-12 21:52:39,188 - __main__ - ERROR - Error computing Jaccard similarity: \n",
      "**********************************************************************\n",
      "  Resource \u001b[93mpunkt_tab\u001b[0m not found.\n",
      "  Please use the NLTK Downloader to obtain the resource:\n",
      "\n",
      "  \u001b[31m>>> import nltk\n",
      "  >>> nltk.download('punkt_tab')\n",
      "  \u001b[0m\n",
      "  For more information see: https://www.nltk.org/data.html\n",
      "\n",
      "  Attempted to load \u001b[93mtokenizers/punkt_tab/english/\u001b[0m\n",
      "\n",
      "  Searched in:\n",
      "    - '/Users/bhargav/nltk_data'\n",
      "    - '/Library/Frameworks/Python.framework/Versions/3.13/nltk_data'\n",
      "    - '/Library/Frameworks/Python.framework/Versions/3.13/share/nltk_data'\n",
      "    - '/Library/Frameworks/Python.framework/Versions/3.13/lib/nltk_data'\n",
      "    - '/usr/share/nltk_data'\n",
      "    - '/usr/local/share/nltk_data'\n",
      "    - '/usr/lib/nltk_data'\n",
      "    - '/usr/local/lib/nltk_data'\n",
      "**********************************************************************\n",
      "\n"
     ]
    },
    {
     "data": {
      "application/vnd.jupyter.widget-view+json": {
       "model_id": "9282ccbae0484d51994c46606bfa8ea6",
       "version_major": 2,
       "version_minor": 0
      },
      "text/plain": [
       "Batches:   0%|          | 0/1 [00:00<?, ?it/s]"
      ]
     },
     "metadata": {},
     "output_type": "display_data"
    },
    {
     "data": {
      "application/vnd.jupyter.widget-view+json": {
       "model_id": "c39f59e0334449c4a976364f066831fa",
       "version_major": 2,
       "version_minor": 0
      },
      "text/plain": [
       "Batches:   0%|          | 0/1 [00:00<?, ?it/s]"
      ]
     },
     "metadata": {},
     "output_type": "display_data"
    },
    {
     "name": "stderr",
     "output_type": "stream",
     "text": [
      "2025-05-12 21:52:39,239 - __main__ - ERROR - Error computing BLEU score: \n",
      "**********************************************************************\n",
      "  Resource \u001b[93mpunkt_tab\u001b[0m not found.\n",
      "  Please use the NLTK Downloader to obtain the resource:\n",
      "\n",
      "  \u001b[31m>>> import nltk\n",
      "  >>> nltk.download('punkt_tab')\n",
      "  \u001b[0m\n",
      "  For more information see: https://www.nltk.org/data.html\n",
      "\n",
      "  Attempted to load \u001b[93mtokenizers/punkt_tab/english/\u001b[0m\n",
      "\n",
      "  Searched in:\n",
      "    - '/Users/bhargav/nltk_data'\n",
      "    - '/Library/Frameworks/Python.framework/Versions/3.13/nltk_data'\n",
      "    - '/Library/Frameworks/Python.framework/Versions/3.13/share/nltk_data'\n",
      "    - '/Library/Frameworks/Python.framework/Versions/3.13/lib/nltk_data'\n",
      "    - '/usr/share/nltk_data'\n",
      "    - '/usr/local/share/nltk_data'\n",
      "    - '/usr/lib/nltk_data'\n",
      "    - '/usr/local/lib/nltk_data'\n",
      "**********************************************************************\n",
      "\n",
      "2025-05-12 21:52:39,251 - __main__ - ERROR - Error computing Jaccard similarity: \n",
      "**********************************************************************\n",
      "  Resource \u001b[93mpunkt_tab\u001b[0m not found.\n",
      "  Please use the NLTK Downloader to obtain the resource:\n",
      "\n",
      "  \u001b[31m>>> import nltk\n",
      "  >>> nltk.download('punkt_tab')\n",
      "  \u001b[0m\n",
      "  For more information see: https://www.nltk.org/data.html\n",
      "\n",
      "  Attempted to load \u001b[93mtokenizers/punkt_tab/english/\u001b[0m\n",
      "\n",
      "  Searched in:\n",
      "    - '/Users/bhargav/nltk_data'\n",
      "    - '/Library/Frameworks/Python.framework/Versions/3.13/nltk_data'\n",
      "    - '/Library/Frameworks/Python.framework/Versions/3.13/share/nltk_data'\n",
      "    - '/Library/Frameworks/Python.framework/Versions/3.13/lib/nltk_data'\n",
      "    - '/usr/share/nltk_data'\n",
      "    - '/usr/local/share/nltk_data'\n",
      "    - '/usr/lib/nltk_data'\n",
      "    - '/usr/local/lib/nltk_data'\n",
      "**********************************************************************\n",
      "\n"
     ]
    },
    {
     "data": {
      "application/vnd.jupyter.widget-view+json": {
       "model_id": "483ebd7adc2e462b81776e0c9992623e",
       "version_major": 2,
       "version_minor": 0
      },
      "text/plain": [
       "Batches:   0%|          | 0/1 [00:00<?, ?it/s]"
      ]
     },
     "metadata": {},
     "output_type": "display_data"
    },
    {
     "data": {
      "application/vnd.jupyter.widget-view+json": {
       "model_id": "4c6202f913964fc7a610748f258d1467",
       "version_major": 2,
       "version_minor": 0
      },
      "text/plain": [
       "Batches:   0%|          | 0/1 [00:00<?, ?it/s]"
      ]
     },
     "metadata": {},
     "output_type": "display_data"
    },
    {
     "name": "stderr",
     "output_type": "stream",
     "text": [
      "2025-05-12 21:52:39,304 - __main__ - ERROR - Error computing BLEU score: \n",
      "**********************************************************************\n",
      "  Resource \u001b[93mpunkt_tab\u001b[0m not found.\n",
      "  Please use the NLTK Downloader to obtain the resource:\n",
      "\n",
      "  \u001b[31m>>> import nltk\n",
      "  >>> nltk.download('punkt_tab')\n",
      "  \u001b[0m\n",
      "  For more information see: https://www.nltk.org/data.html\n",
      "\n",
      "  Attempted to load \u001b[93mtokenizers/punkt_tab/english/\u001b[0m\n",
      "\n",
      "  Searched in:\n",
      "    - '/Users/bhargav/nltk_data'\n",
      "    - '/Library/Frameworks/Python.framework/Versions/3.13/nltk_data'\n",
      "    - '/Library/Frameworks/Python.framework/Versions/3.13/share/nltk_data'\n",
      "    - '/Library/Frameworks/Python.framework/Versions/3.13/lib/nltk_data'\n",
      "    - '/usr/share/nltk_data'\n",
      "    - '/usr/local/share/nltk_data'\n",
      "    - '/usr/lib/nltk_data'\n",
      "    - '/usr/local/lib/nltk_data'\n",
      "**********************************************************************\n",
      "\n",
      "2025-05-12 21:52:39,304 - __main__ - ERROR - Error computing ROUGE scores: \n",
      "2025-05-12 21:52:39,305 - __main__ - ERROR - Error computing Levenshtein similarity: object of type 'float' has no len()\n",
      "2025-05-12 21:52:39,305 - __main__ - ERROR - Error computing Jaccard similarity: \n",
      "**********************************************************************\n",
      "  Resource \u001b[93mpunkt_tab\u001b[0m not found.\n",
      "  Please use the NLTK Downloader to obtain the resource:\n",
      "\n",
      "  \u001b[31m>>> import nltk\n",
      "  >>> nltk.download('punkt_tab')\n",
      "  \u001b[0m\n",
      "  For more information see: https://www.nltk.org/data.html\n",
      "\n",
      "  Attempted to load \u001b[93mtokenizers/punkt_tab/english/\u001b[0m\n",
      "\n",
      "  Searched in:\n",
      "    - '/Users/bhargav/nltk_data'\n",
      "    - '/Library/Frameworks/Python.framework/Versions/3.13/nltk_data'\n",
      "    - '/Library/Frameworks/Python.framework/Versions/3.13/share/nltk_data'\n",
      "    - '/Library/Frameworks/Python.framework/Versions/3.13/lib/nltk_data'\n",
      "    - '/usr/share/nltk_data'\n",
      "    - '/usr/local/share/nltk_data'\n",
      "    - '/usr/lib/nltk_data'\n",
      "    - '/usr/local/lib/nltk_data'\n",
      "**********************************************************************\n",
      "\n"
     ]
    },
    {
     "data": {
      "application/vnd.jupyter.widget-view+json": {
       "model_id": "3401390b5ec045e999cc2ebb7dbfe299",
       "version_major": 2,
       "version_minor": 0
      },
      "text/plain": [
       "Batches:   0%|          | 0/1 [00:00<?, ?it/s]"
      ]
     },
     "metadata": {},
     "output_type": "display_data"
    },
    {
     "data": {
      "application/vnd.jupyter.widget-view+json": {
       "model_id": "f22a145282c44b40a15c7bd48469054d",
       "version_major": 2,
       "version_minor": 0
      },
      "text/plain": [
       "Batches:   0%|          | 0/1 [00:00<?, ?it/s]"
      ]
     },
     "metadata": {},
     "output_type": "display_data"
    },
    {
     "name": "stderr",
     "output_type": "stream",
     "text": [
      "2025-05-12 21:52:39,317 - __main__ - ERROR - Error computing BERT similarity: 'float' object is not subscriptable\n",
      "2025-05-12 21:52:39,318 - __main__ - ERROR - Error computing BLEU score: \n",
      "**********************************************************************\n",
      "  Resource \u001b[93mpunkt_tab\u001b[0m not found.\n",
      "  Please use the NLTK Downloader to obtain the resource:\n",
      "\n",
      "  \u001b[31m>>> import nltk\n",
      "  >>> nltk.download('punkt_tab')\n",
      "  \u001b[0m\n",
      "  For more information see: https://www.nltk.org/data.html\n",
      "\n",
      "  Attempted to load \u001b[93mtokenizers/punkt_tab/english/\u001b[0m\n",
      "\n",
      "  Searched in:\n",
      "    - '/Users/bhargav/nltk_data'\n",
      "    - '/Library/Frameworks/Python.framework/Versions/3.13/nltk_data'\n",
      "    - '/Library/Frameworks/Python.framework/Versions/3.13/share/nltk_data'\n",
      "    - '/Library/Frameworks/Python.framework/Versions/3.13/lib/nltk_data'\n",
      "    - '/usr/share/nltk_data'\n",
      "    - '/usr/local/share/nltk_data'\n",
      "    - '/usr/lib/nltk_data'\n",
      "    - '/usr/local/lib/nltk_data'\n",
      "**********************************************************************\n",
      "\n",
      "2025-05-12 21:52:39,318 - __main__ - ERROR - Error computing ROUGE scores: \n",
      "2025-05-12 21:52:39,318 - __main__ - ERROR - Error computing Levenshtein similarity: object of type 'float' has no len()\n",
      "2025-05-12 21:52:39,319 - __main__ - ERROR - Error computing Jaccard similarity: \n",
      "**********************************************************************\n",
      "  Resource \u001b[93mpunkt_tab\u001b[0m not found.\n",
      "  Please use the NLTK Downloader to obtain the resource:\n",
      "\n",
      "  \u001b[31m>>> import nltk\n",
      "  >>> nltk.download('punkt_tab')\n",
      "  \u001b[0m\n",
      "  For more information see: https://www.nltk.org/data.html\n",
      "\n",
      "  Attempted to load \u001b[93mtokenizers/punkt_tab/english/\u001b[0m\n",
      "\n",
      "  Searched in:\n",
      "    - '/Users/bhargav/nltk_data'\n",
      "    - '/Library/Frameworks/Python.framework/Versions/3.13/nltk_data'\n",
      "    - '/Library/Frameworks/Python.framework/Versions/3.13/share/nltk_data'\n",
      "    - '/Library/Frameworks/Python.framework/Versions/3.13/lib/nltk_data'\n",
      "    - '/usr/share/nltk_data'\n",
      "    - '/usr/local/share/nltk_data'\n",
      "    - '/usr/lib/nltk_data'\n",
      "    - '/usr/local/lib/nltk_data'\n",
      "**********************************************************************\n",
      "\n"
     ]
    },
    {
     "data": {
      "application/vnd.jupyter.widget-view+json": {
       "model_id": "4e4eeb3a0d7a4325baf7118af2db0c97",
       "version_major": 2,
       "version_minor": 0
      },
      "text/plain": [
       "Batches:   0%|          | 0/1 [00:00<?, ?it/s]"
      ]
     },
     "metadata": {},
     "output_type": "display_data"
    },
    {
     "data": {
      "application/vnd.jupyter.widget-view+json": {
       "model_id": "f439b2eff4cf4a5c9c07b4f302059777",
       "version_major": 2,
       "version_minor": 0
      },
      "text/plain": [
       "Batches:   0%|          | 0/1 [00:00<?, ?it/s]"
      ]
     },
     "metadata": {},
     "output_type": "display_data"
    },
    {
     "name": "stderr",
     "output_type": "stream",
     "text": [
      "2025-05-12 21:52:39,331 - __main__ - ERROR - Error computing BERT similarity: 'float' object is not subscriptable\n",
      "Computing mistral_similarities:  47%|████▋     | 54/115 [00:05<00:02, 28.88it/s]2025-05-12 21:52:39,333 - __main__ - ERROR - Error computing BLEU score: \n",
      "**********************************************************************\n",
      "  Resource \u001b[93mpunkt_tab\u001b[0m not found.\n",
      "  Please use the NLTK Downloader to obtain the resource:\n",
      "\n",
      "  \u001b[31m>>> import nltk\n",
      "  >>> nltk.download('punkt_tab')\n",
      "  \u001b[0m\n",
      "  For more information see: https://www.nltk.org/data.html\n",
      "\n",
      "  Attempted to load \u001b[93mtokenizers/punkt_tab/english/\u001b[0m\n",
      "\n",
      "  Searched in:\n",
      "    - '/Users/bhargav/nltk_data'\n",
      "    - '/Library/Frameworks/Python.framework/Versions/3.13/nltk_data'\n",
      "    - '/Library/Frameworks/Python.framework/Versions/3.13/share/nltk_data'\n",
      "    - '/Library/Frameworks/Python.framework/Versions/3.13/lib/nltk_data'\n",
      "    - '/usr/share/nltk_data'\n",
      "    - '/usr/local/share/nltk_data'\n",
      "    - '/usr/lib/nltk_data'\n",
      "    - '/usr/local/lib/nltk_data'\n",
      "**********************************************************************\n",
      "\n",
      "2025-05-12 21:52:39,333 - __main__ - ERROR - Error computing ROUGE scores: \n",
      "2025-05-12 21:52:39,333 - __main__ - ERROR - Error computing Levenshtein similarity: object of type 'float' has no len()\n",
      "2025-05-12 21:52:39,334 - __main__ - ERROR - Error computing Jaccard similarity: \n",
      "**********************************************************************\n",
      "  Resource \u001b[93mpunkt_tab\u001b[0m not found.\n",
      "  Please use the NLTK Downloader to obtain the resource:\n",
      "\n",
      "  \u001b[31m>>> import nltk\n",
      "  >>> nltk.download('punkt_tab')\n",
      "  \u001b[0m\n",
      "  For more information see: https://www.nltk.org/data.html\n",
      "\n",
      "  Attempted to load \u001b[93mtokenizers/punkt_tab/english/\u001b[0m\n",
      "\n",
      "  Searched in:\n",
      "    - '/Users/bhargav/nltk_data'\n",
      "    - '/Library/Frameworks/Python.framework/Versions/3.13/nltk_data'\n",
      "    - '/Library/Frameworks/Python.framework/Versions/3.13/share/nltk_data'\n",
      "    - '/Library/Frameworks/Python.framework/Versions/3.13/lib/nltk_data'\n",
      "    - '/usr/share/nltk_data'\n",
      "    - '/usr/local/share/nltk_data'\n",
      "    - '/usr/lib/nltk_data'\n",
      "    - '/usr/local/lib/nltk_data'\n",
      "**********************************************************************\n",
      "\n"
     ]
    },
    {
     "data": {
      "application/vnd.jupyter.widget-view+json": {
       "model_id": "a7c1455dd02a44a19169bf4b2a49b594",
       "version_major": 2,
       "version_minor": 0
      },
      "text/plain": [
       "Batches:   0%|          | 0/1 [00:00<?, ?it/s]"
      ]
     },
     "metadata": {},
     "output_type": "display_data"
    },
    {
     "data": {
      "application/vnd.jupyter.widget-view+json": {
       "model_id": "ffd7d07685b84b969fbe7d18590d401c",
       "version_major": 2,
       "version_minor": 0
      },
      "text/plain": [
       "Batches:   0%|          | 0/1 [00:00<?, ?it/s]"
      ]
     },
     "metadata": {},
     "output_type": "display_data"
    },
    {
     "name": "stderr",
     "output_type": "stream",
     "text": [
      "2025-05-12 21:52:39,370 - __main__ - ERROR - Error computing BERT similarity: 'float' object is not subscriptable\n",
      "2025-05-12 21:52:39,371 - __main__ - ERROR - Error computing BLEU score: \n",
      "**********************************************************************\n",
      "  Resource \u001b[93mpunkt_tab\u001b[0m not found.\n",
      "  Please use the NLTK Downloader to obtain the resource:\n",
      "\n",
      "  \u001b[31m>>> import nltk\n",
      "  >>> nltk.download('punkt_tab')\n",
      "  \u001b[0m\n",
      "  For more information see: https://www.nltk.org/data.html\n",
      "\n",
      "  Attempted to load \u001b[93mtokenizers/punkt_tab/english/\u001b[0m\n",
      "\n",
      "  Searched in:\n",
      "    - '/Users/bhargav/nltk_data'\n",
      "    - '/Library/Frameworks/Python.framework/Versions/3.13/nltk_data'\n",
      "    - '/Library/Frameworks/Python.framework/Versions/3.13/share/nltk_data'\n",
      "    - '/Library/Frameworks/Python.framework/Versions/3.13/lib/nltk_data'\n",
      "    - '/usr/share/nltk_data'\n",
      "    - '/usr/local/share/nltk_data'\n",
      "    - '/usr/lib/nltk_data'\n",
      "    - '/usr/local/lib/nltk_data'\n",
      "**********************************************************************\n",
      "\n",
      "2025-05-12 21:52:39,371 - __main__ - ERROR - Error computing ROUGE scores: \n",
      "2025-05-12 21:52:39,372 - __main__ - ERROR - Error computing Levenshtein similarity: object of type 'float' has no len()\n",
      "2025-05-12 21:52:39,372 - __main__ - ERROR - Error computing Jaccard similarity: \n",
      "**********************************************************************\n",
      "  Resource \u001b[93mpunkt_tab\u001b[0m not found.\n",
      "  Please use the NLTK Downloader to obtain the resource:\n",
      "\n",
      "  \u001b[31m>>> import nltk\n",
      "  >>> nltk.download('punkt_tab')\n",
      "  \u001b[0m\n",
      "  For more information see: https://www.nltk.org/data.html\n",
      "\n",
      "  Attempted to load \u001b[93mtokenizers/punkt_tab/english/\u001b[0m\n",
      "\n",
      "  Searched in:\n",
      "    - '/Users/bhargav/nltk_data'\n",
      "    - '/Library/Frameworks/Python.framework/Versions/3.13/nltk_data'\n",
      "    - '/Library/Frameworks/Python.framework/Versions/3.13/share/nltk_data'\n",
      "    - '/Library/Frameworks/Python.framework/Versions/3.13/lib/nltk_data'\n",
      "    - '/usr/share/nltk_data'\n",
      "    - '/usr/local/share/nltk_data'\n",
      "    - '/usr/lib/nltk_data'\n",
      "    - '/usr/local/lib/nltk_data'\n",
      "**********************************************************************\n",
      "\n"
     ]
    },
    {
     "data": {
      "application/vnd.jupyter.widget-view+json": {
       "model_id": "ae4277ab88f74f17b774e2d1c9802236",
       "version_major": 2,
       "version_minor": 0
      },
      "text/plain": [
       "Batches:   0%|          | 0/1 [00:00<?, ?it/s]"
      ]
     },
     "metadata": {},
     "output_type": "display_data"
    },
    {
     "data": {
      "application/vnd.jupyter.widget-view+json": {
       "model_id": "2fae177a7bed4f6c85e5af4817cd9eca",
       "version_major": 2,
       "version_minor": 0
      },
      "text/plain": [
       "Batches:   0%|          | 0/1 [00:00<?, ?it/s]"
      ]
     },
     "metadata": {},
     "output_type": "display_data"
    },
    {
     "name": "stderr",
     "output_type": "stream",
     "text": [
      "2025-05-12 21:52:39,384 - __main__ - ERROR - Error computing BERT similarity: 'float' object is not subscriptable\n",
      "2025-05-12 21:52:39,384 - __main__ - ERROR - Error computing BLEU score: \n",
      "**********************************************************************\n",
      "  Resource \u001b[93mpunkt_tab\u001b[0m not found.\n",
      "  Please use the NLTK Downloader to obtain the resource:\n",
      "\n",
      "  \u001b[31m>>> import nltk\n",
      "  >>> nltk.download('punkt_tab')\n",
      "  \u001b[0m\n",
      "  For more information see: https://www.nltk.org/data.html\n",
      "\n",
      "  Attempted to load \u001b[93mtokenizers/punkt_tab/english/\u001b[0m\n",
      "\n",
      "  Searched in:\n",
      "    - '/Users/bhargav/nltk_data'\n",
      "    - '/Library/Frameworks/Python.framework/Versions/3.13/nltk_data'\n",
      "    - '/Library/Frameworks/Python.framework/Versions/3.13/share/nltk_data'\n",
      "    - '/Library/Frameworks/Python.framework/Versions/3.13/lib/nltk_data'\n",
      "    - '/usr/share/nltk_data'\n",
      "    - '/usr/local/share/nltk_data'\n",
      "    - '/usr/lib/nltk_data'\n",
      "    - '/usr/local/lib/nltk_data'\n",
      "**********************************************************************\n",
      "\n",
      "2025-05-12 21:52:39,389 - __main__ - ERROR - Error computing Jaccard similarity: \n",
      "**********************************************************************\n",
      "  Resource \u001b[93mpunkt_tab\u001b[0m not found.\n",
      "  Please use the NLTK Downloader to obtain the resource:\n",
      "\n",
      "  \u001b[31m>>> import nltk\n",
      "  >>> nltk.download('punkt_tab')\n",
      "  \u001b[0m\n",
      "  For more information see: https://www.nltk.org/data.html\n",
      "\n",
      "  Attempted to load \u001b[93mtokenizers/punkt_tab/english/\u001b[0m\n",
      "\n",
      "  Searched in:\n",
      "    - '/Users/bhargav/nltk_data'\n",
      "    - '/Library/Frameworks/Python.framework/Versions/3.13/nltk_data'\n",
      "    - '/Library/Frameworks/Python.framework/Versions/3.13/share/nltk_data'\n",
      "    - '/Library/Frameworks/Python.framework/Versions/3.13/lib/nltk_data'\n",
      "    - '/usr/share/nltk_data'\n",
      "    - '/usr/local/share/nltk_data'\n",
      "    - '/usr/lib/nltk_data'\n",
      "    - '/usr/local/lib/nltk_data'\n",
      "**********************************************************************\n",
      "\n"
     ]
    },
    {
     "data": {
      "application/vnd.jupyter.widget-view+json": {
       "model_id": "da0b09a7cf274a409525357b3aeb6409",
       "version_major": 2,
       "version_minor": 0
      },
      "text/plain": [
       "Batches:   0%|          | 0/1 [00:00<?, ?it/s]"
      ]
     },
     "metadata": {},
     "output_type": "display_data"
    },
    {
     "data": {
      "application/vnd.jupyter.widget-view+json": {
       "model_id": "062e33de62134d3aa2a218e1289f2940",
       "version_major": 2,
       "version_minor": 0
      },
      "text/plain": [
       "Batches:   0%|          | 0/1 [00:00<?, ?it/s]"
      ]
     },
     "metadata": {},
     "output_type": "display_data"
    },
    {
     "name": "stderr",
     "output_type": "stream",
     "text": [
      "Computing mistral_similarities:  50%|████▉     | 57/115 [00:05<00:02, 27.46it/s]2025-05-12 21:52:39,458 - __main__ - ERROR - Error computing BLEU score: \n",
      "**********************************************************************\n",
      "  Resource \u001b[93mpunkt_tab\u001b[0m not found.\n",
      "  Please use the NLTK Downloader to obtain the resource:\n",
      "\n",
      "  \u001b[31m>>> import nltk\n",
      "  >>> nltk.download('punkt_tab')\n",
      "  \u001b[0m\n",
      "  For more information see: https://www.nltk.org/data.html\n",
      "\n",
      "  Attempted to load \u001b[93mtokenizers/punkt_tab/english/\u001b[0m\n",
      "\n",
      "  Searched in:\n",
      "    - '/Users/bhargav/nltk_data'\n",
      "    - '/Library/Frameworks/Python.framework/Versions/3.13/nltk_data'\n",
      "    - '/Library/Frameworks/Python.framework/Versions/3.13/share/nltk_data'\n",
      "    - '/Library/Frameworks/Python.framework/Versions/3.13/lib/nltk_data'\n",
      "    - '/usr/share/nltk_data'\n",
      "    - '/usr/local/share/nltk_data'\n",
      "    - '/usr/lib/nltk_data'\n",
      "    - '/usr/local/lib/nltk_data'\n",
      "**********************************************************************\n",
      "\n",
      "2025-05-12 21:52:39,458 - __main__ - ERROR - Error computing ROUGE scores: \n",
      "2025-05-12 21:52:39,459 - __main__ - ERROR - Error computing Levenshtein similarity: object of type 'float' has no len()\n",
      "2025-05-12 21:52:39,459 - __main__ - ERROR - Error computing Jaccard similarity: \n",
      "**********************************************************************\n",
      "  Resource \u001b[93mpunkt_tab\u001b[0m not found.\n",
      "  Please use the NLTK Downloader to obtain the resource:\n",
      "\n",
      "  \u001b[31m>>> import nltk\n",
      "  >>> nltk.download('punkt_tab')\n",
      "  \u001b[0m\n",
      "  For more information see: https://www.nltk.org/data.html\n",
      "\n",
      "  Attempted to load \u001b[93mtokenizers/punkt_tab/english/\u001b[0m\n",
      "\n",
      "  Searched in:\n",
      "    - '/Users/bhargav/nltk_data'\n",
      "    - '/Library/Frameworks/Python.framework/Versions/3.13/nltk_data'\n",
      "    - '/Library/Frameworks/Python.framework/Versions/3.13/share/nltk_data'\n",
      "    - '/Library/Frameworks/Python.framework/Versions/3.13/lib/nltk_data'\n",
      "    - '/usr/share/nltk_data'\n",
      "    - '/usr/local/share/nltk_data'\n",
      "    - '/usr/lib/nltk_data'\n",
      "    - '/usr/local/lib/nltk_data'\n",
      "**********************************************************************\n",
      "\n"
     ]
    },
    {
     "data": {
      "application/vnd.jupyter.widget-view+json": {
       "model_id": "5422ab53c0004b5194b9abaa2515b420",
       "version_major": 2,
       "version_minor": 0
      },
      "text/plain": [
       "Batches:   0%|          | 0/1 [00:00<?, ?it/s]"
      ]
     },
     "metadata": {},
     "output_type": "display_data"
    },
    {
     "data": {
      "application/vnd.jupyter.widget-view+json": {
       "model_id": "5f4560d7c72a4438a475e520618ac283",
       "version_major": 2,
       "version_minor": 0
      },
      "text/plain": [
       "Batches:   0%|          | 0/1 [00:00<?, ?it/s]"
      ]
     },
     "metadata": {},
     "output_type": "display_data"
    },
    {
     "name": "stderr",
     "output_type": "stream",
     "text": [
      "2025-05-12 21:52:39,534 - __main__ - ERROR - Error computing BERT similarity: 'float' object is not subscriptable\n",
      "2025-05-12 21:52:39,535 - __main__ - ERROR - Error computing BLEU score: \n",
      "**********************************************************************\n",
      "  Resource \u001b[93mpunkt_tab\u001b[0m not found.\n",
      "  Please use the NLTK Downloader to obtain the resource:\n",
      "\n",
      "  \u001b[31m>>> import nltk\n",
      "  >>> nltk.download('punkt_tab')\n",
      "  \u001b[0m\n",
      "  For more information see: https://www.nltk.org/data.html\n",
      "\n",
      "  Attempted to load \u001b[93mtokenizers/punkt_tab/english/\u001b[0m\n",
      "\n",
      "  Searched in:\n",
      "    - '/Users/bhargav/nltk_data'\n",
      "    - '/Library/Frameworks/Python.framework/Versions/3.13/nltk_data'\n",
      "    - '/Library/Frameworks/Python.framework/Versions/3.13/share/nltk_data'\n",
      "    - '/Library/Frameworks/Python.framework/Versions/3.13/lib/nltk_data'\n",
      "    - '/usr/share/nltk_data'\n",
      "    - '/usr/local/share/nltk_data'\n",
      "    - '/usr/lib/nltk_data'\n",
      "    - '/usr/local/lib/nltk_data'\n",
      "**********************************************************************\n",
      "\n",
      "2025-05-12 21:52:39,536 - __main__ - ERROR - Error computing ROUGE scores: \n",
      "2025-05-12 21:52:39,536 - __main__ - ERROR - Error computing Levenshtein similarity: object of type 'float' has no len()\n",
      "2025-05-12 21:52:39,537 - __main__ - ERROR - Error computing Jaccard similarity: \n",
      "**********************************************************************\n",
      "  Resource \u001b[93mpunkt_tab\u001b[0m not found.\n",
      "  Please use the NLTK Downloader to obtain the resource:\n",
      "\n",
      "  \u001b[31m>>> import nltk\n",
      "  >>> nltk.download('punkt_tab')\n",
      "  \u001b[0m\n",
      "  For more information see: https://www.nltk.org/data.html\n",
      "\n",
      "  Attempted to load \u001b[93mtokenizers/punkt_tab/english/\u001b[0m\n",
      "\n",
      "  Searched in:\n",
      "    - '/Users/bhargav/nltk_data'\n",
      "    - '/Library/Frameworks/Python.framework/Versions/3.13/nltk_data'\n",
      "    - '/Library/Frameworks/Python.framework/Versions/3.13/share/nltk_data'\n",
      "    - '/Library/Frameworks/Python.framework/Versions/3.13/lib/nltk_data'\n",
      "    - '/usr/share/nltk_data'\n",
      "    - '/usr/local/share/nltk_data'\n",
      "    - '/usr/lib/nltk_data'\n",
      "    - '/usr/local/lib/nltk_data'\n",
      "**********************************************************************\n",
      "\n"
     ]
    },
    {
     "data": {
      "application/vnd.jupyter.widget-view+json": {
       "model_id": "281f536fb525450ca546b81504f7df3d",
       "version_major": 2,
       "version_minor": 0
      },
      "text/plain": [
       "Batches:   0%|          | 0/1 [00:00<?, ?it/s]"
      ]
     },
     "metadata": {},
     "output_type": "display_data"
    },
    {
     "data": {
      "application/vnd.jupyter.widget-view+json": {
       "model_id": "60e62d39df204363b894d342e6e6f865",
       "version_major": 2,
       "version_minor": 0
      },
      "text/plain": [
       "Batches:   0%|          | 0/1 [00:00<?, ?it/s]"
      ]
     },
     "metadata": {},
     "output_type": "display_data"
    },
    {
     "name": "stderr",
     "output_type": "stream",
     "text": [
      "2025-05-12 21:52:39,550 - __main__ - ERROR - Error computing BERT similarity: 'float' object is not subscriptable\n",
      "2025-05-12 21:52:39,551 - __main__ - ERROR - Error computing BLEU score: \n",
      "**********************************************************************\n",
      "  Resource \u001b[93mpunkt_tab\u001b[0m not found.\n",
      "  Please use the NLTK Downloader to obtain the resource:\n",
      "\n",
      "  \u001b[31m>>> import nltk\n",
      "  >>> nltk.download('punkt_tab')\n",
      "  \u001b[0m\n",
      "  For more information see: https://www.nltk.org/data.html\n",
      "\n",
      "  Attempted to load \u001b[93mtokenizers/punkt_tab/english/\u001b[0m\n",
      "\n",
      "  Searched in:\n",
      "    - '/Users/bhargav/nltk_data'\n",
      "    - '/Library/Frameworks/Python.framework/Versions/3.13/nltk_data'\n",
      "    - '/Library/Frameworks/Python.framework/Versions/3.13/share/nltk_data'\n",
      "    - '/Library/Frameworks/Python.framework/Versions/3.13/lib/nltk_data'\n",
      "    - '/usr/share/nltk_data'\n",
      "    - '/usr/local/share/nltk_data'\n",
      "    - '/usr/lib/nltk_data'\n",
      "    - '/usr/local/lib/nltk_data'\n",
      "**********************************************************************\n",
      "\n",
      "2025-05-12 21:52:39,551 - __main__ - ERROR - Error computing ROUGE scores: \n",
      "2025-05-12 21:52:39,551 - __main__ - ERROR - Error computing Levenshtein similarity: object of type 'float' has no len()\n",
      "2025-05-12 21:52:39,552 - __main__ - ERROR - Error computing Jaccard similarity: \n",
      "**********************************************************************\n",
      "  Resource \u001b[93mpunkt_tab\u001b[0m not found.\n",
      "  Please use the NLTK Downloader to obtain the resource:\n",
      "\n",
      "  \u001b[31m>>> import nltk\n",
      "  >>> nltk.download('punkt_tab')\n",
      "  \u001b[0m\n",
      "  For more information see: https://www.nltk.org/data.html\n",
      "\n",
      "  Attempted to load \u001b[93mtokenizers/punkt_tab/english/\u001b[0m\n",
      "\n",
      "  Searched in:\n",
      "    - '/Users/bhargav/nltk_data'\n",
      "    - '/Library/Frameworks/Python.framework/Versions/3.13/nltk_data'\n",
      "    - '/Library/Frameworks/Python.framework/Versions/3.13/share/nltk_data'\n",
      "    - '/Library/Frameworks/Python.framework/Versions/3.13/lib/nltk_data'\n",
      "    - '/usr/share/nltk_data'\n",
      "    - '/usr/local/share/nltk_data'\n",
      "    - '/usr/lib/nltk_data'\n",
      "    - '/usr/local/lib/nltk_data'\n",
      "**********************************************************************\n",
      "\n"
     ]
    },
    {
     "data": {
      "application/vnd.jupyter.widget-view+json": {
       "model_id": "85a95439174a44efbf4167b63a795b14",
       "version_major": 2,
       "version_minor": 0
      },
      "text/plain": [
       "Batches:   0%|          | 0/1 [00:00<?, ?it/s]"
      ]
     },
     "metadata": {},
     "output_type": "display_data"
    },
    {
     "data": {
      "application/vnd.jupyter.widget-view+json": {
       "model_id": "63a74a888a5a4827bf1b311e0d737e7e",
       "version_major": 2,
       "version_minor": 0
      },
      "text/plain": [
       "Batches:   0%|          | 0/1 [00:00<?, ?it/s]"
      ]
     },
     "metadata": {},
     "output_type": "display_data"
    },
    {
     "name": "stderr",
     "output_type": "stream",
     "text": [
      "2025-05-12 21:52:39,644 - __main__ - ERROR - Error computing BERT similarity: 'float' object is not subscriptable\n",
      "Computing mistral_similarities:  52%|█████▏    | 60/115 [00:05<00:02, 23.22it/s]2025-05-12 21:52:39,645 - __main__ - ERROR - Error computing BLEU score: \n",
      "**********************************************************************\n",
      "  Resource \u001b[93mpunkt_tab\u001b[0m not found.\n",
      "  Please use the NLTK Downloader to obtain the resource:\n",
      "\n",
      "  \u001b[31m>>> import nltk\n",
      "  >>> nltk.download('punkt_tab')\n",
      "  \u001b[0m\n",
      "  For more information see: https://www.nltk.org/data.html\n",
      "\n",
      "  Attempted to load \u001b[93mtokenizers/punkt_tab/english/\u001b[0m\n",
      "\n",
      "  Searched in:\n",
      "    - '/Users/bhargav/nltk_data'\n",
      "    - '/Library/Frameworks/Python.framework/Versions/3.13/nltk_data'\n",
      "    - '/Library/Frameworks/Python.framework/Versions/3.13/share/nltk_data'\n",
      "    - '/Library/Frameworks/Python.framework/Versions/3.13/lib/nltk_data'\n",
      "    - '/usr/share/nltk_data'\n",
      "    - '/usr/local/share/nltk_data'\n",
      "    - '/usr/lib/nltk_data'\n",
      "    - '/usr/local/lib/nltk_data'\n",
      "**********************************************************************\n",
      "\n",
      "2025-05-12 21:52:39,665 - __main__ - ERROR - Error computing Jaccard similarity: \n",
      "**********************************************************************\n",
      "  Resource \u001b[93mpunkt_tab\u001b[0m not found.\n",
      "  Please use the NLTK Downloader to obtain the resource:\n",
      "\n",
      "  \u001b[31m>>> import nltk\n",
      "  >>> nltk.download('punkt_tab')\n",
      "  \u001b[0m\n",
      "  For more information see: https://www.nltk.org/data.html\n",
      "\n",
      "  Attempted to load \u001b[93mtokenizers/punkt_tab/english/\u001b[0m\n",
      "\n",
      "  Searched in:\n",
      "    - '/Users/bhargav/nltk_data'\n",
      "    - '/Library/Frameworks/Python.framework/Versions/3.13/nltk_data'\n",
      "    - '/Library/Frameworks/Python.framework/Versions/3.13/share/nltk_data'\n",
      "    - '/Library/Frameworks/Python.framework/Versions/3.13/lib/nltk_data'\n",
      "    - '/usr/share/nltk_data'\n",
      "    - '/usr/local/share/nltk_data'\n",
      "    - '/usr/lib/nltk_data'\n",
      "    - '/usr/local/lib/nltk_data'\n",
      "**********************************************************************\n",
      "\n"
     ]
    },
    {
     "data": {
      "application/vnd.jupyter.widget-view+json": {
       "model_id": "5799cff37531465e81f64bf646a0684e",
       "version_major": 2,
       "version_minor": 0
      },
      "text/plain": [
       "Batches:   0%|          | 0/1 [00:00<?, ?it/s]"
      ]
     },
     "metadata": {},
     "output_type": "display_data"
    },
    {
     "data": {
      "application/vnd.jupyter.widget-view+json": {
       "model_id": "ade51735c8e74c2c8a4e827b5c4ee862",
       "version_major": 2,
       "version_minor": 0
      },
      "text/plain": [
       "Batches:   0%|          | 0/1 [00:00<?, ?it/s]"
      ]
     },
     "metadata": {},
     "output_type": "display_data"
    },
    {
     "name": "stderr",
     "output_type": "stream",
     "text": [
      "2025-05-12 21:52:39,712 - __main__ - ERROR - Error computing BLEU score: \n",
      "**********************************************************************\n",
      "  Resource \u001b[93mpunkt_tab\u001b[0m not found.\n",
      "  Please use the NLTK Downloader to obtain the resource:\n",
      "\n",
      "  \u001b[31m>>> import nltk\n",
      "  >>> nltk.download('punkt_tab')\n",
      "  \u001b[0m\n",
      "  For more information see: https://www.nltk.org/data.html\n",
      "\n",
      "  Attempted to load \u001b[93mtokenizers/punkt_tab/english/\u001b[0m\n",
      "\n",
      "  Searched in:\n",
      "    - '/Users/bhargav/nltk_data'\n",
      "    - '/Library/Frameworks/Python.framework/Versions/3.13/nltk_data'\n",
      "    - '/Library/Frameworks/Python.framework/Versions/3.13/share/nltk_data'\n",
      "    - '/Library/Frameworks/Python.framework/Versions/3.13/lib/nltk_data'\n",
      "    - '/usr/share/nltk_data'\n",
      "    - '/usr/local/share/nltk_data'\n",
      "    - '/usr/lib/nltk_data'\n",
      "    - '/usr/local/lib/nltk_data'\n",
      "**********************************************************************\n",
      "\n",
      "2025-05-12 21:52:39,712 - __main__ - ERROR - Error computing ROUGE scores: \n",
      "2025-05-12 21:52:39,712 - __main__ - ERROR - Error computing Levenshtein similarity: object of type 'float' has no len()\n",
      "2025-05-12 21:52:39,713 - __main__ - ERROR - Error computing Jaccard similarity: \n",
      "**********************************************************************\n",
      "  Resource \u001b[93mpunkt_tab\u001b[0m not found.\n",
      "  Please use the NLTK Downloader to obtain the resource:\n",
      "\n",
      "  \u001b[31m>>> import nltk\n",
      "  >>> nltk.download('punkt_tab')\n",
      "  \u001b[0m\n",
      "  For more information see: https://www.nltk.org/data.html\n",
      "\n",
      "  Attempted to load \u001b[93mtokenizers/punkt_tab/english/\u001b[0m\n",
      "\n",
      "  Searched in:\n",
      "    - '/Users/bhargav/nltk_data'\n",
      "    - '/Library/Frameworks/Python.framework/Versions/3.13/nltk_data'\n",
      "    - '/Library/Frameworks/Python.framework/Versions/3.13/share/nltk_data'\n",
      "    - '/Library/Frameworks/Python.framework/Versions/3.13/lib/nltk_data'\n",
      "    - '/usr/share/nltk_data'\n",
      "    - '/usr/local/share/nltk_data'\n",
      "    - '/usr/lib/nltk_data'\n",
      "    - '/usr/local/lib/nltk_data'\n",
      "**********************************************************************\n",
      "\n"
     ]
    },
    {
     "data": {
      "application/vnd.jupyter.widget-view+json": {
       "model_id": "66044f9755644839b6b8b2f92b9c7f3b",
       "version_major": 2,
       "version_minor": 0
      },
      "text/plain": [
       "Batches:   0%|          | 0/1 [00:00<?, ?it/s]"
      ]
     },
     "metadata": {},
     "output_type": "display_data"
    },
    {
     "data": {
      "application/vnd.jupyter.widget-view+json": {
       "model_id": "af6882ad75324baba707615e0d4a0b88",
       "version_major": 2,
       "version_minor": 0
      },
      "text/plain": [
       "Batches:   0%|          | 0/1 [00:00<?, ?it/s]"
      ]
     },
     "metadata": {},
     "output_type": "display_data"
    },
    {
     "name": "stderr",
     "output_type": "stream",
     "text": [
      "2025-05-12 21:52:39,749 - __main__ - ERROR - Error computing BERT similarity: 'float' object is not subscriptable\n",
      "2025-05-12 21:52:39,750 - __main__ - ERROR - Error computing BLEU score: \n",
      "**********************************************************************\n",
      "  Resource \u001b[93mpunkt_tab\u001b[0m not found.\n",
      "  Please use the NLTK Downloader to obtain the resource:\n",
      "\n",
      "  \u001b[31m>>> import nltk\n",
      "  >>> nltk.download('punkt_tab')\n",
      "  \u001b[0m\n",
      "  For more information see: https://www.nltk.org/data.html\n",
      "\n",
      "  Attempted to load \u001b[93mtokenizers/punkt_tab/english/\u001b[0m\n",
      "\n",
      "  Searched in:\n",
      "    - '/Users/bhargav/nltk_data'\n",
      "    - '/Library/Frameworks/Python.framework/Versions/3.13/nltk_data'\n",
      "    - '/Library/Frameworks/Python.framework/Versions/3.13/share/nltk_data'\n",
      "    - '/Library/Frameworks/Python.framework/Versions/3.13/lib/nltk_data'\n",
      "    - '/usr/share/nltk_data'\n",
      "    - '/usr/local/share/nltk_data'\n",
      "    - '/usr/lib/nltk_data'\n",
      "    - '/usr/local/lib/nltk_data'\n",
      "**********************************************************************\n",
      "\n",
      "2025-05-12 21:52:39,751 - __main__ - ERROR - Error computing ROUGE scores: \n",
      "2025-05-12 21:52:39,751 - __main__ - ERROR - Error computing Levenshtein similarity: object of type 'float' has no len()\n",
      "2025-05-12 21:52:39,752 - __main__ - ERROR - Error computing Jaccard similarity: \n",
      "**********************************************************************\n",
      "  Resource \u001b[93mpunkt_tab\u001b[0m not found.\n",
      "  Please use the NLTK Downloader to obtain the resource:\n",
      "\n",
      "  \u001b[31m>>> import nltk\n",
      "  >>> nltk.download('punkt_tab')\n",
      "  \u001b[0m\n",
      "  For more information see: https://www.nltk.org/data.html\n",
      "\n",
      "  Attempted to load \u001b[93mtokenizers/punkt_tab/english/\u001b[0m\n",
      "\n",
      "  Searched in:\n",
      "    - '/Users/bhargav/nltk_data'\n",
      "    - '/Library/Frameworks/Python.framework/Versions/3.13/nltk_data'\n",
      "    - '/Library/Frameworks/Python.framework/Versions/3.13/share/nltk_data'\n",
      "    - '/Library/Frameworks/Python.framework/Versions/3.13/lib/nltk_data'\n",
      "    - '/usr/share/nltk_data'\n",
      "    - '/usr/local/share/nltk_data'\n",
      "    - '/usr/lib/nltk_data'\n",
      "    - '/usr/local/lib/nltk_data'\n",
      "**********************************************************************\n",
      "\n"
     ]
    },
    {
     "data": {
      "application/vnd.jupyter.widget-view+json": {
       "model_id": "beef5c45615f4413959f957384692bbc",
       "version_major": 2,
       "version_minor": 0
      },
      "text/plain": [
       "Batches:   0%|          | 0/1 [00:00<?, ?it/s]"
      ]
     },
     "metadata": {},
     "output_type": "display_data"
    },
    {
     "data": {
      "application/vnd.jupyter.widget-view+json": {
       "model_id": "4b6e9cba4c7b4d29b67139db2f0bf12c",
       "version_major": 2,
       "version_minor": 0
      },
      "text/plain": [
       "Batches:   0%|          | 0/1 [00:00<?, ?it/s]"
      ]
     },
     "metadata": {},
     "output_type": "display_data"
    },
    {
     "name": "stderr",
     "output_type": "stream",
     "text": [
      "2025-05-12 21:52:39,765 - __main__ - ERROR - Error computing BERT similarity: 'float' object is not subscriptable\n",
      "Computing mistral_similarities:  55%|█████▍    | 63/115 [00:05<00:02, 23.65it/s]2025-05-12 21:52:39,766 - __main__ - ERROR - Error computing BLEU score: \n",
      "**********************************************************************\n",
      "  Resource \u001b[93mpunkt_tab\u001b[0m not found.\n",
      "  Please use the NLTK Downloader to obtain the resource:\n",
      "\n",
      "  \u001b[31m>>> import nltk\n",
      "  >>> nltk.download('punkt_tab')\n",
      "  \u001b[0m\n",
      "  For more information see: https://www.nltk.org/data.html\n",
      "\n",
      "  Attempted to load \u001b[93mtokenizers/punkt_tab/english/\u001b[0m\n",
      "\n",
      "  Searched in:\n",
      "    - '/Users/bhargav/nltk_data'\n",
      "    - '/Library/Frameworks/Python.framework/Versions/3.13/nltk_data'\n",
      "    - '/Library/Frameworks/Python.framework/Versions/3.13/share/nltk_data'\n",
      "    - '/Library/Frameworks/Python.framework/Versions/3.13/lib/nltk_data'\n",
      "    - '/usr/share/nltk_data'\n",
      "    - '/usr/local/share/nltk_data'\n",
      "    - '/usr/lib/nltk_data'\n",
      "    - '/usr/local/lib/nltk_data'\n",
      "**********************************************************************\n",
      "\n",
      "2025-05-12 21:52:39,766 - __main__ - ERROR - Error computing ROUGE scores: \n",
      "2025-05-12 21:52:39,766 - __main__ - ERROR - Error computing Levenshtein similarity: object of type 'float' has no len()\n",
      "2025-05-12 21:52:39,767 - __main__ - ERROR - Error computing Jaccard similarity: \n",
      "**********************************************************************\n",
      "  Resource \u001b[93mpunkt_tab\u001b[0m not found.\n",
      "  Please use the NLTK Downloader to obtain the resource:\n",
      "\n",
      "  \u001b[31m>>> import nltk\n",
      "  >>> nltk.download('punkt_tab')\n",
      "  \u001b[0m\n",
      "  For more information see: https://www.nltk.org/data.html\n",
      "\n",
      "  Attempted to load \u001b[93mtokenizers/punkt_tab/english/\u001b[0m\n",
      "\n",
      "  Searched in:\n",
      "    - '/Users/bhargav/nltk_data'\n",
      "    - '/Library/Frameworks/Python.framework/Versions/3.13/nltk_data'\n",
      "    - '/Library/Frameworks/Python.framework/Versions/3.13/share/nltk_data'\n",
      "    - '/Library/Frameworks/Python.framework/Versions/3.13/lib/nltk_data'\n",
      "    - '/usr/share/nltk_data'\n",
      "    - '/usr/local/share/nltk_data'\n",
      "    - '/usr/lib/nltk_data'\n",
      "    - '/usr/local/lib/nltk_data'\n",
      "**********************************************************************\n",
      "\n"
     ]
    },
    {
     "data": {
      "application/vnd.jupyter.widget-view+json": {
       "model_id": "16ee7f3990224793bf1298c831643761",
       "version_major": 2,
       "version_minor": 0
      },
      "text/plain": [
       "Batches:   0%|          | 0/1 [00:00<?, ?it/s]"
      ]
     },
     "metadata": {},
     "output_type": "display_data"
    },
    {
     "data": {
      "application/vnd.jupyter.widget-view+json": {
       "model_id": "056a8ce391e14dd68d7c7ca7d7e04b43",
       "version_major": 2,
       "version_minor": 0
      },
      "text/plain": [
       "Batches:   0%|          | 0/1 [00:00<?, ?it/s]"
      ]
     },
     "metadata": {},
     "output_type": "display_data"
    },
    {
     "name": "stderr",
     "output_type": "stream",
     "text": [
      "2025-05-12 21:52:39,778 - __main__ - ERROR - Error computing BERT similarity: 'float' object is not subscriptable\n",
      "2025-05-12 21:52:39,779 - __main__ - ERROR - Error computing BLEU score: \n",
      "**********************************************************************\n",
      "  Resource \u001b[93mpunkt_tab\u001b[0m not found.\n",
      "  Please use the NLTK Downloader to obtain the resource:\n",
      "\n",
      "  \u001b[31m>>> import nltk\n",
      "  >>> nltk.download('punkt_tab')\n",
      "  \u001b[0m\n",
      "  For more information see: https://www.nltk.org/data.html\n",
      "\n",
      "  Attempted to load \u001b[93mtokenizers/punkt_tab/english/\u001b[0m\n",
      "\n",
      "  Searched in:\n",
      "    - '/Users/bhargav/nltk_data'\n",
      "    - '/Library/Frameworks/Python.framework/Versions/3.13/nltk_data'\n",
      "    - '/Library/Frameworks/Python.framework/Versions/3.13/share/nltk_data'\n",
      "    - '/Library/Frameworks/Python.framework/Versions/3.13/lib/nltk_data'\n",
      "    - '/usr/share/nltk_data'\n",
      "    - '/usr/local/share/nltk_data'\n",
      "    - '/usr/lib/nltk_data'\n",
      "    - '/usr/local/lib/nltk_data'\n",
      "**********************************************************************\n",
      "\n",
      "2025-05-12 21:52:39,779 - __main__ - ERROR - Error computing ROUGE scores: \n",
      "2025-05-12 21:52:39,779 - __main__ - ERROR - Error computing Levenshtein similarity: object of type 'float' has no len()\n",
      "2025-05-12 21:52:39,780 - __main__ - ERROR - Error computing Jaccard similarity: \n",
      "**********************************************************************\n",
      "  Resource \u001b[93mpunkt_tab\u001b[0m not found.\n",
      "  Please use the NLTK Downloader to obtain the resource:\n",
      "\n",
      "  \u001b[31m>>> import nltk\n",
      "  >>> nltk.download('punkt_tab')\n",
      "  \u001b[0m\n",
      "  For more information see: https://www.nltk.org/data.html\n",
      "\n",
      "  Attempted to load \u001b[93mtokenizers/punkt_tab/english/\u001b[0m\n",
      "\n",
      "  Searched in:\n",
      "    - '/Users/bhargav/nltk_data'\n",
      "    - '/Library/Frameworks/Python.framework/Versions/3.13/nltk_data'\n",
      "    - '/Library/Frameworks/Python.framework/Versions/3.13/share/nltk_data'\n",
      "    - '/Library/Frameworks/Python.framework/Versions/3.13/lib/nltk_data'\n",
      "    - '/usr/share/nltk_data'\n",
      "    - '/usr/local/share/nltk_data'\n",
      "    - '/usr/lib/nltk_data'\n",
      "    - '/usr/local/lib/nltk_data'\n",
      "**********************************************************************\n",
      "\n"
     ]
    },
    {
     "data": {
      "application/vnd.jupyter.widget-view+json": {
       "model_id": "b25d0cb397394f7b9fa2de6af54c0f96",
       "version_major": 2,
       "version_minor": 0
      },
      "text/plain": [
       "Batches:   0%|          | 0/1 [00:00<?, ?it/s]"
      ]
     },
     "metadata": {},
     "output_type": "display_data"
    },
    {
     "data": {
      "application/vnd.jupyter.widget-view+json": {
       "model_id": "5a72a68e97c14ceb91e2a8da2fe14545",
       "version_major": 2,
       "version_minor": 0
      },
      "text/plain": [
       "Batches:   0%|          | 0/1 [00:00<?, ?it/s]"
      ]
     },
     "metadata": {},
     "output_type": "display_data"
    },
    {
     "name": "stderr",
     "output_type": "stream",
     "text": [
      "2025-05-12 21:52:39,791 - __main__ - ERROR - Error computing BERT similarity: 'float' object is not subscriptable\n",
      "2025-05-12 21:52:39,793 - __main__ - ERROR - Error computing BLEU score: \n",
      "**********************************************************************\n",
      "  Resource \u001b[93mpunkt_tab\u001b[0m not found.\n",
      "  Please use the NLTK Downloader to obtain the resource:\n",
      "\n",
      "  \u001b[31m>>> import nltk\n",
      "  >>> nltk.download('punkt_tab')\n",
      "  \u001b[0m\n",
      "  For more information see: https://www.nltk.org/data.html\n",
      "\n",
      "  Attempted to load \u001b[93mtokenizers/punkt_tab/english/\u001b[0m\n",
      "\n",
      "  Searched in:\n",
      "    - '/Users/bhargav/nltk_data'\n",
      "    - '/Library/Frameworks/Python.framework/Versions/3.13/nltk_data'\n",
      "    - '/Library/Frameworks/Python.framework/Versions/3.13/share/nltk_data'\n",
      "    - '/Library/Frameworks/Python.framework/Versions/3.13/lib/nltk_data'\n",
      "    - '/usr/share/nltk_data'\n",
      "    - '/usr/local/share/nltk_data'\n",
      "    - '/usr/lib/nltk_data'\n",
      "    - '/usr/local/lib/nltk_data'\n",
      "**********************************************************************\n",
      "\n",
      "2025-05-12 21:52:39,793 - __main__ - ERROR - Error computing ROUGE scores: \n",
      "2025-05-12 21:52:39,793 - __main__ - ERROR - Error computing Levenshtein similarity: object of type 'float' has no len()\n",
      "2025-05-12 21:52:39,794 - __main__ - ERROR - Error computing Jaccard similarity: \n",
      "**********************************************************************\n",
      "  Resource \u001b[93mpunkt_tab\u001b[0m not found.\n",
      "  Please use the NLTK Downloader to obtain the resource:\n",
      "\n",
      "  \u001b[31m>>> import nltk\n",
      "  >>> nltk.download('punkt_tab')\n",
      "  \u001b[0m\n",
      "  For more information see: https://www.nltk.org/data.html\n",
      "\n",
      "  Attempted to load \u001b[93mtokenizers/punkt_tab/english/\u001b[0m\n",
      "\n",
      "  Searched in:\n",
      "    - '/Users/bhargav/nltk_data'\n",
      "    - '/Library/Frameworks/Python.framework/Versions/3.13/nltk_data'\n",
      "    - '/Library/Frameworks/Python.framework/Versions/3.13/share/nltk_data'\n",
      "    - '/Library/Frameworks/Python.framework/Versions/3.13/lib/nltk_data'\n",
      "    - '/usr/share/nltk_data'\n",
      "    - '/usr/local/share/nltk_data'\n",
      "    - '/usr/lib/nltk_data'\n",
      "    - '/usr/local/lib/nltk_data'\n",
      "**********************************************************************\n",
      "\n"
     ]
    },
    {
     "data": {
      "application/vnd.jupyter.widget-view+json": {
       "model_id": "a983ac7974f44254ac711a4a7f169585",
       "version_major": 2,
       "version_minor": 0
      },
      "text/plain": [
       "Batches:   0%|          | 0/1 [00:00<?, ?it/s]"
      ]
     },
     "metadata": {},
     "output_type": "display_data"
    },
    {
     "data": {
      "application/vnd.jupyter.widget-view+json": {
       "model_id": "3858677577114285a6e0c0863a94cafb",
       "version_major": 2,
       "version_minor": 0
      },
      "text/plain": [
       "Batches:   0%|          | 0/1 [00:00<?, ?it/s]"
      ]
     },
     "metadata": {},
     "output_type": "display_data"
    },
    {
     "name": "stderr",
     "output_type": "stream",
     "text": [
      "2025-05-12 21:52:39,835 - __main__ - ERROR - Error computing BERT similarity: 'float' object is not subscriptable\n",
      "2025-05-12 21:52:39,836 - __main__ - ERROR - Error computing BLEU score: \n",
      "**********************************************************************\n",
      "  Resource \u001b[93mpunkt_tab\u001b[0m not found.\n",
      "  Please use the NLTK Downloader to obtain the resource:\n",
      "\n",
      "  \u001b[31m>>> import nltk\n",
      "  >>> nltk.download('punkt_tab')\n",
      "  \u001b[0m\n",
      "  For more information see: https://www.nltk.org/data.html\n",
      "\n",
      "  Attempted to load \u001b[93mtokenizers/punkt_tab/english/\u001b[0m\n",
      "\n",
      "  Searched in:\n",
      "    - '/Users/bhargav/nltk_data'\n",
      "    - '/Library/Frameworks/Python.framework/Versions/3.13/nltk_data'\n",
      "    - '/Library/Frameworks/Python.framework/Versions/3.13/share/nltk_data'\n",
      "    - '/Library/Frameworks/Python.framework/Versions/3.13/lib/nltk_data'\n",
      "    - '/usr/share/nltk_data'\n",
      "    - '/usr/local/share/nltk_data'\n",
      "    - '/usr/lib/nltk_data'\n",
      "    - '/usr/local/lib/nltk_data'\n",
      "**********************************************************************\n",
      "\n",
      "2025-05-12 21:52:39,836 - __main__ - ERROR - Error computing ROUGE scores: \n",
      "2025-05-12 21:52:39,837 - __main__ - ERROR - Error computing Levenshtein similarity: object of type 'float' has no len()\n",
      "2025-05-12 21:52:39,838 - __main__ - ERROR - Error computing Jaccard similarity: \n",
      "**********************************************************************\n",
      "  Resource \u001b[93mpunkt_tab\u001b[0m not found.\n",
      "  Please use the NLTK Downloader to obtain the resource:\n",
      "\n",
      "  \u001b[31m>>> import nltk\n",
      "  >>> nltk.download('punkt_tab')\n",
      "  \u001b[0m\n",
      "  For more information see: https://www.nltk.org/data.html\n",
      "\n",
      "  Attempted to load \u001b[93mtokenizers/punkt_tab/english/\u001b[0m\n",
      "\n",
      "  Searched in:\n",
      "    - '/Users/bhargav/nltk_data'\n",
      "    - '/Library/Frameworks/Python.framework/Versions/3.13/nltk_data'\n",
      "    - '/Library/Frameworks/Python.framework/Versions/3.13/share/nltk_data'\n",
      "    - '/Library/Frameworks/Python.framework/Versions/3.13/lib/nltk_data'\n",
      "    - '/usr/share/nltk_data'\n",
      "    - '/usr/local/share/nltk_data'\n",
      "    - '/usr/lib/nltk_data'\n",
      "    - '/usr/local/lib/nltk_data'\n",
      "**********************************************************************\n",
      "\n"
     ]
    },
    {
     "data": {
      "application/vnd.jupyter.widget-view+json": {
       "model_id": "1598f939c2874d01818387dd601ff47c",
       "version_major": 2,
       "version_minor": 0
      },
      "text/plain": [
       "Batches:   0%|          | 0/1 [00:00<?, ?it/s]"
      ]
     },
     "metadata": {},
     "output_type": "display_data"
    },
    {
     "data": {
      "application/vnd.jupyter.widget-view+json": {
       "model_id": "00dba33425954af7a5b971d16cc2c526",
       "version_major": 2,
       "version_minor": 0
      },
      "text/plain": [
       "Batches:   0%|          | 0/1 [00:00<?, ?it/s]"
      ]
     },
     "metadata": {},
     "output_type": "display_data"
    },
    {
     "name": "stderr",
     "output_type": "stream",
     "text": [
      "2025-05-12 21:52:39,851 - __main__ - ERROR - Error computing BERT similarity: 'float' object is not subscriptable\n",
      "2025-05-12 21:52:39,852 - __main__ - ERROR - Error computing BLEU score: \n",
      "**********************************************************************\n",
      "  Resource \u001b[93mpunkt_tab\u001b[0m not found.\n",
      "  Please use the NLTK Downloader to obtain the resource:\n",
      "\n",
      "  \u001b[31m>>> import nltk\n",
      "  >>> nltk.download('punkt_tab')\n",
      "  \u001b[0m\n",
      "  For more information see: https://www.nltk.org/data.html\n",
      "\n",
      "  Attempted to load \u001b[93mtokenizers/punkt_tab/english/\u001b[0m\n",
      "\n",
      "  Searched in:\n",
      "    - '/Users/bhargav/nltk_data'\n",
      "    - '/Library/Frameworks/Python.framework/Versions/3.13/nltk_data'\n",
      "    - '/Library/Frameworks/Python.framework/Versions/3.13/share/nltk_data'\n",
      "    - '/Library/Frameworks/Python.framework/Versions/3.13/lib/nltk_data'\n",
      "    - '/usr/share/nltk_data'\n",
      "    - '/usr/local/share/nltk_data'\n",
      "    - '/usr/lib/nltk_data'\n",
      "    - '/usr/local/lib/nltk_data'\n",
      "**********************************************************************\n",
      "\n",
      "2025-05-12 21:52:39,852 - __main__ - ERROR - Error computing ROUGE scores: \n",
      "2025-05-12 21:52:39,853 - __main__ - ERROR - Error computing Levenshtein similarity: object of type 'float' has no len()\n",
      "2025-05-12 21:52:39,853 - __main__ - ERROR - Error computing Jaccard similarity: \n",
      "**********************************************************************\n",
      "  Resource \u001b[93mpunkt_tab\u001b[0m not found.\n",
      "  Please use the NLTK Downloader to obtain the resource:\n",
      "\n",
      "  \u001b[31m>>> import nltk\n",
      "  >>> nltk.download('punkt_tab')\n",
      "  \u001b[0m\n",
      "  For more information see: https://www.nltk.org/data.html\n",
      "\n",
      "  Attempted to load \u001b[93mtokenizers/punkt_tab/english/\u001b[0m\n",
      "\n",
      "  Searched in:\n",
      "    - '/Users/bhargav/nltk_data'\n",
      "    - '/Library/Frameworks/Python.framework/Versions/3.13/nltk_data'\n",
      "    - '/Library/Frameworks/Python.framework/Versions/3.13/share/nltk_data'\n",
      "    - '/Library/Frameworks/Python.framework/Versions/3.13/lib/nltk_data'\n",
      "    - '/usr/share/nltk_data'\n",
      "    - '/usr/local/share/nltk_data'\n",
      "    - '/usr/lib/nltk_data'\n",
      "    - '/usr/local/lib/nltk_data'\n",
      "**********************************************************************\n",
      "\n"
     ]
    },
    {
     "data": {
      "application/vnd.jupyter.widget-view+json": {
       "model_id": "6bf8b26613274fccb34fd1b284123725",
       "version_major": 2,
       "version_minor": 0
      },
      "text/plain": [
       "Batches:   0%|          | 0/1 [00:00<?, ?it/s]"
      ]
     },
     "metadata": {},
     "output_type": "display_data"
    },
    {
     "data": {
      "application/vnd.jupyter.widget-view+json": {
       "model_id": "5e41517c4eed4bb691ca60c00b14d84c",
       "version_major": 2,
       "version_minor": 0
      },
      "text/plain": [
       "Batches:   0%|          | 0/1 [00:00<?, ?it/s]"
      ]
     },
     "metadata": {},
     "output_type": "display_data"
    },
    {
     "name": "stderr",
     "output_type": "stream",
     "text": [
      "2025-05-12 21:52:39,865 - __main__ - ERROR - Error computing BERT similarity: 'float' object is not subscriptable\n",
      "Computing mistral_similarities:  59%|█████▉    | 68/115 [00:05<00:01, 29.72it/s]2025-05-12 21:52:39,867 - __main__ - ERROR - Error computing BLEU score: \n",
      "**********************************************************************\n",
      "  Resource \u001b[93mpunkt_tab\u001b[0m not found.\n",
      "  Please use the NLTK Downloader to obtain the resource:\n",
      "\n",
      "  \u001b[31m>>> import nltk\n",
      "  >>> nltk.download('punkt_tab')\n",
      "  \u001b[0m\n",
      "  For more information see: https://www.nltk.org/data.html\n",
      "\n",
      "  Attempted to load \u001b[93mtokenizers/punkt_tab/english/\u001b[0m\n",
      "\n",
      "  Searched in:\n",
      "    - '/Users/bhargav/nltk_data'\n",
      "    - '/Library/Frameworks/Python.framework/Versions/3.13/nltk_data'\n",
      "    - '/Library/Frameworks/Python.framework/Versions/3.13/share/nltk_data'\n",
      "    - '/Library/Frameworks/Python.framework/Versions/3.13/lib/nltk_data'\n",
      "    - '/usr/share/nltk_data'\n",
      "    - '/usr/local/share/nltk_data'\n",
      "    - '/usr/lib/nltk_data'\n",
      "    - '/usr/local/lib/nltk_data'\n",
      "**********************************************************************\n",
      "\n",
      "2025-05-12 21:52:39,867 - __main__ - ERROR - Error computing ROUGE scores: \n",
      "2025-05-12 21:52:39,867 - __main__ - ERROR - Error computing Levenshtein similarity: object of type 'float' has no len()\n",
      "2025-05-12 21:52:39,868 - __main__ - ERROR - Error computing Jaccard similarity: \n",
      "**********************************************************************\n",
      "  Resource \u001b[93mpunkt_tab\u001b[0m not found.\n",
      "  Please use the NLTK Downloader to obtain the resource:\n",
      "\n",
      "  \u001b[31m>>> import nltk\n",
      "  >>> nltk.download('punkt_tab')\n",
      "  \u001b[0m\n",
      "  For more information see: https://www.nltk.org/data.html\n",
      "\n",
      "  Attempted to load \u001b[93mtokenizers/punkt_tab/english/\u001b[0m\n",
      "\n",
      "  Searched in:\n",
      "    - '/Users/bhargav/nltk_data'\n",
      "    - '/Library/Frameworks/Python.framework/Versions/3.13/nltk_data'\n",
      "    - '/Library/Frameworks/Python.framework/Versions/3.13/share/nltk_data'\n",
      "    - '/Library/Frameworks/Python.framework/Versions/3.13/lib/nltk_data'\n",
      "    - '/usr/share/nltk_data'\n",
      "    - '/usr/local/share/nltk_data'\n",
      "    - '/usr/lib/nltk_data'\n",
      "    - '/usr/local/lib/nltk_data'\n",
      "**********************************************************************\n",
      "\n"
     ]
    },
    {
     "data": {
      "application/vnd.jupyter.widget-view+json": {
       "model_id": "06299f1067c04a7ea7e9b1c932f93025",
       "version_major": 2,
       "version_minor": 0
      },
      "text/plain": [
       "Batches:   0%|          | 0/1 [00:00<?, ?it/s]"
      ]
     },
     "metadata": {},
     "output_type": "display_data"
    },
    {
     "data": {
      "application/vnd.jupyter.widget-view+json": {
       "model_id": "45a31426fade457d819405261a87faa0",
       "version_major": 2,
       "version_minor": 0
      },
      "text/plain": [
       "Batches:   0%|          | 0/1 [00:00<?, ?it/s]"
      ]
     },
     "metadata": {},
     "output_type": "display_data"
    },
    {
     "name": "stderr",
     "output_type": "stream",
     "text": [
      "2025-05-12 21:52:39,907 - __main__ - ERROR - Error computing BERT similarity: 'float' object is not subscriptable\n",
      "2025-05-12 21:52:39,908 - __main__ - ERROR - Error computing BLEU score: \n",
      "**********************************************************************\n",
      "  Resource \u001b[93mpunkt_tab\u001b[0m not found.\n",
      "  Please use the NLTK Downloader to obtain the resource:\n",
      "\n",
      "  \u001b[31m>>> import nltk\n",
      "  >>> nltk.download('punkt_tab')\n",
      "  \u001b[0m\n",
      "  For more information see: https://www.nltk.org/data.html\n",
      "\n",
      "  Attempted to load \u001b[93mtokenizers/punkt_tab/english/\u001b[0m\n",
      "\n",
      "  Searched in:\n",
      "    - '/Users/bhargav/nltk_data'\n",
      "    - '/Library/Frameworks/Python.framework/Versions/3.13/nltk_data'\n",
      "    - '/Library/Frameworks/Python.framework/Versions/3.13/share/nltk_data'\n",
      "    - '/Library/Frameworks/Python.framework/Versions/3.13/lib/nltk_data'\n",
      "    - '/usr/share/nltk_data'\n",
      "    - '/usr/local/share/nltk_data'\n",
      "    - '/usr/lib/nltk_data'\n",
      "    - '/usr/local/lib/nltk_data'\n",
      "**********************************************************************\n",
      "\n",
      "2025-05-12 21:52:39,908 - __main__ - ERROR - Error computing ROUGE scores: \n",
      "2025-05-12 21:52:39,909 - __main__ - ERROR - Error computing Levenshtein similarity: object of type 'float' has no len()\n",
      "2025-05-12 21:52:39,909 - __main__ - ERROR - Error computing Jaccard similarity: \n",
      "**********************************************************************\n",
      "  Resource \u001b[93mpunkt_tab\u001b[0m not found.\n",
      "  Please use the NLTK Downloader to obtain the resource:\n",
      "\n",
      "  \u001b[31m>>> import nltk\n",
      "  >>> nltk.download('punkt_tab')\n",
      "  \u001b[0m\n",
      "  For more information see: https://www.nltk.org/data.html\n",
      "\n",
      "  Attempted to load \u001b[93mtokenizers/punkt_tab/english/\u001b[0m\n",
      "\n",
      "  Searched in:\n",
      "    - '/Users/bhargav/nltk_data'\n",
      "    - '/Library/Frameworks/Python.framework/Versions/3.13/nltk_data'\n",
      "    - '/Library/Frameworks/Python.framework/Versions/3.13/share/nltk_data'\n",
      "    - '/Library/Frameworks/Python.framework/Versions/3.13/lib/nltk_data'\n",
      "    - '/usr/share/nltk_data'\n",
      "    - '/usr/local/share/nltk_data'\n",
      "    - '/usr/lib/nltk_data'\n",
      "    - '/usr/local/lib/nltk_data'\n",
      "**********************************************************************\n",
      "\n"
     ]
    },
    {
     "data": {
      "application/vnd.jupyter.widget-view+json": {
       "model_id": "85b9f21d3d9d45d4bebb42606a3dcc1d",
       "version_major": 2,
       "version_minor": 0
      },
      "text/plain": [
       "Batches:   0%|          | 0/1 [00:00<?, ?it/s]"
      ]
     },
     "metadata": {},
     "output_type": "display_data"
    },
    {
     "data": {
      "application/vnd.jupyter.widget-view+json": {
       "model_id": "32bbf671039d431983921b2dd888abd5",
       "version_major": 2,
       "version_minor": 0
      },
      "text/plain": [
       "Batches:   0%|          | 0/1 [00:00<?, ?it/s]"
      ]
     },
     "metadata": {},
     "output_type": "display_data"
    },
    {
     "name": "stderr",
     "output_type": "stream",
     "text": [
      "2025-05-12 21:52:39,922 - __main__ - ERROR - Error computing BERT similarity: 'float' object is not subscriptable\n",
      "2025-05-12 21:52:39,923 - __main__ - ERROR - Error computing BLEU score: \n",
      "**********************************************************************\n",
      "  Resource \u001b[93mpunkt_tab\u001b[0m not found.\n",
      "  Please use the NLTK Downloader to obtain the resource:\n",
      "\n",
      "  \u001b[31m>>> import nltk\n",
      "  >>> nltk.download('punkt_tab')\n",
      "  \u001b[0m\n",
      "  For more information see: https://www.nltk.org/data.html\n",
      "\n",
      "  Attempted to load \u001b[93mtokenizers/punkt_tab/english/\u001b[0m\n",
      "\n",
      "  Searched in:\n",
      "    - '/Users/bhargav/nltk_data'\n",
      "    - '/Library/Frameworks/Python.framework/Versions/3.13/nltk_data'\n",
      "    - '/Library/Frameworks/Python.framework/Versions/3.13/share/nltk_data'\n",
      "    - '/Library/Frameworks/Python.framework/Versions/3.13/lib/nltk_data'\n",
      "    - '/usr/share/nltk_data'\n",
      "    - '/usr/local/share/nltk_data'\n",
      "    - '/usr/lib/nltk_data'\n",
      "    - '/usr/local/lib/nltk_data'\n",
      "**********************************************************************\n",
      "\n",
      "2025-05-12 21:52:39,923 - __main__ - ERROR - Error computing ROUGE scores: \n",
      "2025-05-12 21:52:39,923 - __main__ - ERROR - Error computing Levenshtein similarity: object of type 'float' has no len()\n",
      "2025-05-12 21:52:39,924 - __main__ - ERROR - Error computing Jaccard similarity: \n",
      "**********************************************************************\n",
      "  Resource \u001b[93mpunkt_tab\u001b[0m not found.\n",
      "  Please use the NLTK Downloader to obtain the resource:\n",
      "\n",
      "  \u001b[31m>>> import nltk\n",
      "  >>> nltk.download('punkt_tab')\n",
      "  \u001b[0m\n",
      "  For more information see: https://www.nltk.org/data.html\n",
      "\n",
      "  Attempted to load \u001b[93mtokenizers/punkt_tab/english/\u001b[0m\n",
      "\n",
      "  Searched in:\n",
      "    - '/Users/bhargav/nltk_data'\n",
      "    - '/Library/Frameworks/Python.framework/Versions/3.13/nltk_data'\n",
      "    - '/Library/Frameworks/Python.framework/Versions/3.13/share/nltk_data'\n",
      "    - '/Library/Frameworks/Python.framework/Versions/3.13/lib/nltk_data'\n",
      "    - '/usr/share/nltk_data'\n",
      "    - '/usr/local/share/nltk_data'\n",
      "    - '/usr/lib/nltk_data'\n",
      "    - '/usr/local/lib/nltk_data'\n",
      "**********************************************************************\n",
      "\n"
     ]
    },
    {
     "data": {
      "application/vnd.jupyter.widget-view+json": {
       "model_id": "ab6daa9a8d3e4e44b238a5f6409d7724",
       "version_major": 2,
       "version_minor": 0
      },
      "text/plain": [
       "Batches:   0%|          | 0/1 [00:00<?, ?it/s]"
      ]
     },
     "metadata": {},
     "output_type": "display_data"
    },
    {
     "data": {
      "application/vnd.jupyter.widget-view+json": {
       "model_id": "f38514d2067842e1908b8ea54c5022a9",
       "version_major": 2,
       "version_minor": 0
      },
      "text/plain": [
       "Batches:   0%|          | 0/1 [00:00<?, ?it/s]"
      ]
     },
     "metadata": {},
     "output_type": "display_data"
    },
    {
     "name": "stderr",
     "output_type": "stream",
     "text": [
      "2025-05-12 21:52:39,942 - __main__ - ERROR - Error computing BERT similarity: 'float' object is not subscriptable\n",
      "2025-05-12 21:52:39,943 - __main__ - ERROR - Error computing BLEU score: \n",
      "**********************************************************************\n",
      "  Resource \u001b[93mpunkt_tab\u001b[0m not found.\n",
      "  Please use the NLTK Downloader to obtain the resource:\n",
      "\n",
      "  \u001b[31m>>> import nltk\n",
      "  >>> nltk.download('punkt_tab')\n",
      "  \u001b[0m\n",
      "  For more information see: https://www.nltk.org/data.html\n",
      "\n",
      "  Attempted to load \u001b[93mtokenizers/punkt_tab/english/\u001b[0m\n",
      "\n",
      "  Searched in:\n",
      "    - '/Users/bhargav/nltk_data'\n",
      "    - '/Library/Frameworks/Python.framework/Versions/3.13/nltk_data'\n",
      "    - '/Library/Frameworks/Python.framework/Versions/3.13/share/nltk_data'\n",
      "    - '/Library/Frameworks/Python.framework/Versions/3.13/lib/nltk_data'\n",
      "    - '/usr/share/nltk_data'\n",
      "    - '/usr/local/share/nltk_data'\n",
      "    - '/usr/lib/nltk_data'\n",
      "    - '/usr/local/lib/nltk_data'\n",
      "**********************************************************************\n",
      "\n",
      "2025-05-12 21:52:39,944 - __main__ - ERROR - Error computing ROUGE scores: \n",
      "2025-05-12 21:52:39,944 - __main__ - ERROR - Error computing Levenshtein similarity: object of type 'float' has no len()\n",
      "2025-05-12 21:52:39,945 - __main__ - ERROR - Error computing Jaccard similarity: \n",
      "**********************************************************************\n",
      "  Resource \u001b[93mpunkt_tab\u001b[0m not found.\n",
      "  Please use the NLTK Downloader to obtain the resource:\n",
      "\n",
      "  \u001b[31m>>> import nltk\n",
      "  >>> nltk.download('punkt_tab')\n",
      "  \u001b[0m\n",
      "  For more information see: https://www.nltk.org/data.html\n",
      "\n",
      "  Attempted to load \u001b[93mtokenizers/punkt_tab/english/\u001b[0m\n",
      "\n",
      "  Searched in:\n",
      "    - '/Users/bhargav/nltk_data'\n",
      "    - '/Library/Frameworks/Python.framework/Versions/3.13/nltk_data'\n",
      "    - '/Library/Frameworks/Python.framework/Versions/3.13/share/nltk_data'\n",
      "    - '/Library/Frameworks/Python.framework/Versions/3.13/lib/nltk_data'\n",
      "    - '/usr/share/nltk_data'\n",
      "    - '/usr/local/share/nltk_data'\n",
      "    - '/usr/lib/nltk_data'\n",
      "    - '/usr/local/lib/nltk_data'\n",
      "**********************************************************************\n",
      "\n"
     ]
    },
    {
     "data": {
      "application/vnd.jupyter.widget-view+json": {
       "model_id": "7ab42ab179ca464c94bdafdfc3c2e445",
       "version_major": 2,
       "version_minor": 0
      },
      "text/plain": [
       "Batches:   0%|          | 0/1 [00:00<?, ?it/s]"
      ]
     },
     "metadata": {},
     "output_type": "display_data"
    },
    {
     "data": {
      "application/vnd.jupyter.widget-view+json": {
       "model_id": "b55940453f16456994f4c7481409358a",
       "version_major": 2,
       "version_minor": 0
      },
      "text/plain": [
       "Batches:   0%|          | 0/1 [00:00<?, ?it/s]"
      ]
     },
     "metadata": {},
     "output_type": "display_data"
    },
    {
     "name": "stderr",
     "output_type": "stream",
     "text": [
      "2025-05-12 21:52:39,957 - __main__ - ERROR - Error computing BERT similarity: 'float' object is not subscriptable\n",
      "2025-05-12 21:52:39,958 - __main__ - ERROR - Error computing BLEU score: \n",
      "**********************************************************************\n",
      "  Resource \u001b[93mpunkt_tab\u001b[0m not found.\n",
      "  Please use the NLTK Downloader to obtain the resource:\n",
      "\n",
      "  \u001b[31m>>> import nltk\n",
      "  >>> nltk.download('punkt_tab')\n",
      "  \u001b[0m\n",
      "  For more information see: https://www.nltk.org/data.html\n",
      "\n",
      "  Attempted to load \u001b[93mtokenizers/punkt_tab/english/\u001b[0m\n",
      "\n",
      "  Searched in:\n",
      "    - '/Users/bhargav/nltk_data'\n",
      "    - '/Library/Frameworks/Python.framework/Versions/3.13/nltk_data'\n",
      "    - '/Library/Frameworks/Python.framework/Versions/3.13/share/nltk_data'\n",
      "    - '/Library/Frameworks/Python.framework/Versions/3.13/lib/nltk_data'\n",
      "    - '/usr/share/nltk_data'\n",
      "    - '/usr/local/share/nltk_data'\n",
      "    - '/usr/lib/nltk_data'\n",
      "    - '/usr/local/lib/nltk_data'\n",
      "**********************************************************************\n",
      "\n",
      "2025-05-12 21:52:39,958 - __main__ - ERROR - Error computing ROUGE scores: \n",
      "2025-05-12 21:52:39,958 - __main__ - ERROR - Error computing Levenshtein similarity: object of type 'float' has no len()\n",
      "2025-05-12 21:52:39,959 - __main__ - ERROR - Error computing Jaccard similarity: \n",
      "**********************************************************************\n",
      "  Resource \u001b[93mpunkt_tab\u001b[0m not found.\n",
      "  Please use the NLTK Downloader to obtain the resource:\n",
      "\n",
      "  \u001b[31m>>> import nltk\n",
      "  >>> nltk.download('punkt_tab')\n",
      "  \u001b[0m\n",
      "  For more information see: https://www.nltk.org/data.html\n",
      "\n",
      "  Attempted to load \u001b[93mtokenizers/punkt_tab/english/\u001b[0m\n",
      "\n",
      "  Searched in:\n",
      "    - '/Users/bhargav/nltk_data'\n",
      "    - '/Library/Frameworks/Python.framework/Versions/3.13/nltk_data'\n",
      "    - '/Library/Frameworks/Python.framework/Versions/3.13/share/nltk_data'\n",
      "    - '/Library/Frameworks/Python.framework/Versions/3.13/lib/nltk_data'\n",
      "    - '/usr/share/nltk_data'\n",
      "    - '/usr/local/share/nltk_data'\n",
      "    - '/usr/lib/nltk_data'\n",
      "    - '/usr/local/lib/nltk_data'\n",
      "**********************************************************************\n",
      "\n"
     ]
    },
    {
     "data": {
      "application/vnd.jupyter.widget-view+json": {
       "model_id": "82ffafb831524998af9bdc88295b7925",
       "version_major": 2,
       "version_minor": 0
      },
      "text/plain": [
       "Batches:   0%|          | 0/1 [00:00<?, ?it/s]"
      ]
     },
     "metadata": {},
     "output_type": "display_data"
    },
    {
     "data": {
      "application/vnd.jupyter.widget-view+json": {
       "model_id": "76b81a44ed2f439aa2eac5aacb2b1bad",
       "version_major": 2,
       "version_minor": 0
      },
      "text/plain": [
       "Batches:   0%|          | 0/1 [00:00<?, ?it/s]"
      ]
     },
     "metadata": {},
     "output_type": "display_data"
    },
    {
     "name": "stderr",
     "output_type": "stream",
     "text": [
      "2025-05-12 21:52:39,971 - __main__ - ERROR - Error computing BERT similarity: 'float' object is not subscriptable\n",
      "Computing mistral_similarities:  63%|██████▎   | 73/115 [00:05<00:01, 34.31it/s]2025-05-12 21:52:39,972 - __main__ - ERROR - Error computing BLEU score: \n",
      "**********************************************************************\n",
      "  Resource \u001b[93mpunkt_tab\u001b[0m not found.\n",
      "  Please use the NLTK Downloader to obtain the resource:\n",
      "\n",
      "  \u001b[31m>>> import nltk\n",
      "  >>> nltk.download('punkt_tab')\n",
      "  \u001b[0m\n",
      "  For more information see: https://www.nltk.org/data.html\n",
      "\n",
      "  Attempted to load \u001b[93mtokenizers/punkt_tab/english/\u001b[0m\n",
      "\n",
      "  Searched in:\n",
      "    - '/Users/bhargav/nltk_data'\n",
      "    - '/Library/Frameworks/Python.framework/Versions/3.13/nltk_data'\n",
      "    - '/Library/Frameworks/Python.framework/Versions/3.13/share/nltk_data'\n",
      "    - '/Library/Frameworks/Python.framework/Versions/3.13/lib/nltk_data'\n",
      "    - '/usr/share/nltk_data'\n",
      "    - '/usr/local/share/nltk_data'\n",
      "    - '/usr/lib/nltk_data'\n",
      "    - '/usr/local/lib/nltk_data'\n",
      "**********************************************************************\n",
      "\n",
      "2025-05-12 21:52:39,972 - __main__ - ERROR - Error computing ROUGE scores: \n",
      "2025-05-12 21:52:39,972 - __main__ - ERROR - Error computing Levenshtein similarity: object of type 'float' has no len()\n",
      "2025-05-12 21:52:39,973 - __main__ - ERROR - Error computing Jaccard similarity: \n",
      "**********************************************************************\n",
      "  Resource \u001b[93mpunkt_tab\u001b[0m not found.\n",
      "  Please use the NLTK Downloader to obtain the resource:\n",
      "\n",
      "  \u001b[31m>>> import nltk\n",
      "  >>> nltk.download('punkt_tab')\n",
      "  \u001b[0m\n",
      "  For more information see: https://www.nltk.org/data.html\n",
      "\n",
      "  Attempted to load \u001b[93mtokenizers/punkt_tab/english/\u001b[0m\n",
      "\n",
      "  Searched in:\n",
      "    - '/Users/bhargav/nltk_data'\n",
      "    - '/Library/Frameworks/Python.framework/Versions/3.13/nltk_data'\n",
      "    - '/Library/Frameworks/Python.framework/Versions/3.13/share/nltk_data'\n",
      "    - '/Library/Frameworks/Python.framework/Versions/3.13/lib/nltk_data'\n",
      "    - '/usr/share/nltk_data'\n",
      "    - '/usr/local/share/nltk_data'\n",
      "    - '/usr/lib/nltk_data'\n",
      "    - '/usr/local/lib/nltk_data'\n",
      "**********************************************************************\n",
      "\n"
     ]
    },
    {
     "data": {
      "application/vnd.jupyter.widget-view+json": {
       "model_id": "5527456e077748e8aaba26ef97d190d0",
       "version_major": 2,
       "version_minor": 0
      },
      "text/plain": [
       "Batches:   0%|          | 0/1 [00:00<?, ?it/s]"
      ]
     },
     "metadata": {},
     "output_type": "display_data"
    },
    {
     "data": {
      "application/vnd.jupyter.widget-view+json": {
       "model_id": "bea4f3e482af4018b4ba37951a8fb975",
       "version_major": 2,
       "version_minor": 0
      },
      "text/plain": [
       "Batches:   0%|          | 0/1 [00:00<?, ?it/s]"
      ]
     },
     "metadata": {},
     "output_type": "display_data"
    },
    {
     "name": "stderr",
     "output_type": "stream",
     "text": [
      "2025-05-12 21:52:40,083 - __main__ - ERROR - Error computing BERT similarity: 'float' object is not subscriptable\n",
      "2025-05-12 21:52:40,084 - __main__ - ERROR - Error computing BLEU score: \n",
      "**********************************************************************\n",
      "  Resource \u001b[93mpunkt_tab\u001b[0m not found.\n",
      "  Please use the NLTK Downloader to obtain the resource:\n",
      "\n",
      "  \u001b[31m>>> import nltk\n",
      "  >>> nltk.download('punkt_tab')\n",
      "  \u001b[0m\n",
      "  For more information see: https://www.nltk.org/data.html\n",
      "\n",
      "  Attempted to load \u001b[93mtokenizers/punkt_tab/english/\u001b[0m\n",
      "\n",
      "  Searched in:\n",
      "    - '/Users/bhargav/nltk_data'\n",
      "    - '/Library/Frameworks/Python.framework/Versions/3.13/nltk_data'\n",
      "    - '/Library/Frameworks/Python.framework/Versions/3.13/share/nltk_data'\n",
      "    - '/Library/Frameworks/Python.framework/Versions/3.13/lib/nltk_data'\n",
      "    - '/usr/share/nltk_data'\n",
      "    - '/usr/local/share/nltk_data'\n",
      "    - '/usr/lib/nltk_data'\n",
      "    - '/usr/local/lib/nltk_data'\n",
      "**********************************************************************\n",
      "\n",
      "2025-05-12 21:52:40,084 - __main__ - ERROR - Error computing ROUGE scores: \n",
      "2025-05-12 21:52:40,084 - __main__ - ERROR - Error computing Levenshtein similarity: object of type 'float' has no len()\n",
      "2025-05-12 21:52:40,085 - __main__ - ERROR - Error computing Jaccard similarity: \n",
      "**********************************************************************\n",
      "  Resource \u001b[93mpunkt_tab\u001b[0m not found.\n",
      "  Please use the NLTK Downloader to obtain the resource:\n",
      "\n",
      "  \u001b[31m>>> import nltk\n",
      "  >>> nltk.download('punkt_tab')\n",
      "  \u001b[0m\n",
      "  For more information see: https://www.nltk.org/data.html\n",
      "\n",
      "  Attempted to load \u001b[93mtokenizers/punkt_tab/english/\u001b[0m\n",
      "\n",
      "  Searched in:\n",
      "    - '/Users/bhargav/nltk_data'\n",
      "    - '/Library/Frameworks/Python.framework/Versions/3.13/nltk_data'\n",
      "    - '/Library/Frameworks/Python.framework/Versions/3.13/share/nltk_data'\n",
      "    - '/Library/Frameworks/Python.framework/Versions/3.13/lib/nltk_data'\n",
      "    - '/usr/share/nltk_data'\n",
      "    - '/usr/local/share/nltk_data'\n",
      "    - '/usr/lib/nltk_data'\n",
      "    - '/usr/local/lib/nltk_data'\n",
      "**********************************************************************\n",
      "\n"
     ]
    },
    {
     "data": {
      "application/vnd.jupyter.widget-view+json": {
       "model_id": "5c9dd0e21238427d9c944fad5e73ba4f",
       "version_major": 2,
       "version_minor": 0
      },
      "text/plain": [
       "Batches:   0%|          | 0/1 [00:00<?, ?it/s]"
      ]
     },
     "metadata": {},
     "output_type": "display_data"
    },
    {
     "data": {
      "application/vnd.jupyter.widget-view+json": {
       "model_id": "5d88e2d4a72a4c6fbc6cf7020c71db84",
       "version_major": 2,
       "version_minor": 0
      },
      "text/plain": [
       "Batches:   0%|          | 0/1 [00:00<?, ?it/s]"
      ]
     },
     "metadata": {},
     "output_type": "display_data"
    },
    {
     "name": "stderr",
     "output_type": "stream",
     "text": [
      "2025-05-12 21:52:40,139 - __main__ - ERROR - Error computing BERT similarity: 'float' object is not subscriptable\n",
      "2025-05-12 21:52:40,140 - __main__ - ERROR - Error computing BLEU score: \n",
      "**********************************************************************\n",
      "  Resource \u001b[93mpunkt_tab\u001b[0m not found.\n",
      "  Please use the NLTK Downloader to obtain the resource:\n",
      "\n",
      "  \u001b[31m>>> import nltk\n",
      "  >>> nltk.download('punkt_tab')\n",
      "  \u001b[0m\n",
      "  For more information see: https://www.nltk.org/data.html\n",
      "\n",
      "  Attempted to load \u001b[93mtokenizers/punkt_tab/english/\u001b[0m\n",
      "\n",
      "  Searched in:\n",
      "    - '/Users/bhargav/nltk_data'\n",
      "    - '/Library/Frameworks/Python.framework/Versions/3.13/nltk_data'\n",
      "    - '/Library/Frameworks/Python.framework/Versions/3.13/share/nltk_data'\n",
      "    - '/Library/Frameworks/Python.framework/Versions/3.13/lib/nltk_data'\n",
      "    - '/usr/share/nltk_data'\n",
      "    - '/usr/local/share/nltk_data'\n",
      "    - '/usr/lib/nltk_data'\n",
      "    - '/usr/local/lib/nltk_data'\n",
      "**********************************************************************\n",
      "\n",
      "2025-05-12 21:52:40,140 - __main__ - ERROR - Error computing ROUGE scores: \n",
      "2025-05-12 21:52:40,140 - __main__ - ERROR - Error computing Levenshtein similarity: object of type 'float' has no len()\n",
      "2025-05-12 21:52:40,141 - __main__ - ERROR - Error computing Jaccard similarity: \n",
      "**********************************************************************\n",
      "  Resource \u001b[93mpunkt_tab\u001b[0m not found.\n",
      "  Please use the NLTK Downloader to obtain the resource:\n",
      "\n",
      "  \u001b[31m>>> import nltk\n",
      "  >>> nltk.download('punkt_tab')\n",
      "  \u001b[0m\n",
      "  For more information see: https://www.nltk.org/data.html\n",
      "\n",
      "  Attempted to load \u001b[93mtokenizers/punkt_tab/english/\u001b[0m\n",
      "\n",
      "  Searched in:\n",
      "    - '/Users/bhargav/nltk_data'\n",
      "    - '/Library/Frameworks/Python.framework/Versions/3.13/nltk_data'\n",
      "    - '/Library/Frameworks/Python.framework/Versions/3.13/share/nltk_data'\n",
      "    - '/Library/Frameworks/Python.framework/Versions/3.13/lib/nltk_data'\n",
      "    - '/usr/share/nltk_data'\n",
      "    - '/usr/local/share/nltk_data'\n",
      "    - '/usr/lib/nltk_data'\n",
      "    - '/usr/local/lib/nltk_data'\n",
      "**********************************************************************\n",
      "\n"
     ]
    },
    {
     "data": {
      "application/vnd.jupyter.widget-view+json": {
       "model_id": "832d1687b3d94890a349b36a271f3fb5",
       "version_major": 2,
       "version_minor": 0
      },
      "text/plain": [
       "Batches:   0%|          | 0/1 [00:00<?, ?it/s]"
      ]
     },
     "metadata": {},
     "output_type": "display_data"
    },
    {
     "data": {
      "application/vnd.jupyter.widget-view+json": {
       "model_id": "fadf5321991945d98d80aa53d72c1c09",
       "version_major": 2,
       "version_minor": 0
      },
      "text/plain": [
       "Batches:   0%|          | 0/1 [00:00<?, ?it/s]"
      ]
     },
     "metadata": {},
     "output_type": "display_data"
    },
    {
     "name": "stderr",
     "output_type": "stream",
     "text": [
      "2025-05-12 21:52:40,154 - __main__ - ERROR - Error computing BERT similarity: 'float' object is not subscriptable\n",
      "2025-05-12 21:52:40,155 - __main__ - ERROR - Error computing BLEU score: \n",
      "**********************************************************************\n",
      "  Resource \u001b[93mpunkt_tab\u001b[0m not found.\n",
      "  Please use the NLTK Downloader to obtain the resource:\n",
      "\n",
      "  \u001b[31m>>> import nltk\n",
      "  >>> nltk.download('punkt_tab')\n",
      "  \u001b[0m\n",
      "  For more information see: https://www.nltk.org/data.html\n",
      "\n",
      "  Attempted to load \u001b[93mtokenizers/punkt_tab/english/\u001b[0m\n",
      "\n",
      "  Searched in:\n",
      "    - '/Users/bhargav/nltk_data'\n",
      "    - '/Library/Frameworks/Python.framework/Versions/3.13/nltk_data'\n",
      "    - '/Library/Frameworks/Python.framework/Versions/3.13/share/nltk_data'\n",
      "    - '/Library/Frameworks/Python.framework/Versions/3.13/lib/nltk_data'\n",
      "    - '/usr/share/nltk_data'\n",
      "    - '/usr/local/share/nltk_data'\n",
      "    - '/usr/lib/nltk_data'\n",
      "    - '/usr/local/lib/nltk_data'\n",
      "**********************************************************************\n",
      "\n",
      "2025-05-12 21:52:40,156 - __main__ - ERROR - Error computing ROUGE scores: \n",
      "2025-05-12 21:52:40,156 - __main__ - ERROR - Error computing Levenshtein similarity: object of type 'float' has no len()\n",
      "2025-05-12 21:52:40,156 - __main__ - ERROR - Error computing Jaccard similarity: \n",
      "**********************************************************************\n",
      "  Resource \u001b[93mpunkt_tab\u001b[0m not found.\n",
      "  Please use the NLTK Downloader to obtain the resource:\n",
      "\n",
      "  \u001b[31m>>> import nltk\n",
      "  >>> nltk.download('punkt_tab')\n",
      "  \u001b[0m\n",
      "  For more information see: https://www.nltk.org/data.html\n",
      "\n",
      "  Attempted to load \u001b[93mtokenizers/punkt_tab/english/\u001b[0m\n",
      "\n",
      "  Searched in:\n",
      "    - '/Users/bhargav/nltk_data'\n",
      "    - '/Library/Frameworks/Python.framework/Versions/3.13/nltk_data'\n",
      "    - '/Library/Frameworks/Python.framework/Versions/3.13/share/nltk_data'\n",
      "    - '/Library/Frameworks/Python.framework/Versions/3.13/lib/nltk_data'\n",
      "    - '/usr/share/nltk_data'\n",
      "    - '/usr/local/share/nltk_data'\n",
      "    - '/usr/lib/nltk_data'\n",
      "    - '/usr/local/lib/nltk_data'\n",
      "**********************************************************************\n",
      "\n"
     ]
    },
    {
     "data": {
      "application/vnd.jupyter.widget-view+json": {
       "model_id": "d46a6503f48a4b4096e8b24719c96759",
       "version_major": 2,
       "version_minor": 0
      },
      "text/plain": [
       "Batches:   0%|          | 0/1 [00:00<?, ?it/s]"
      ]
     },
     "metadata": {},
     "output_type": "display_data"
    },
    {
     "data": {
      "application/vnd.jupyter.widget-view+json": {
       "model_id": "6b4fa21fd72d4c31a970ccf7fb2e4191",
       "version_major": 2,
       "version_minor": 0
      },
      "text/plain": [
       "Batches:   0%|          | 0/1 [00:00<?, ?it/s]"
      ]
     },
     "metadata": {},
     "output_type": "display_data"
    },
    {
     "name": "stderr",
     "output_type": "stream",
     "text": [
      "2025-05-12 21:52:40,168 - __main__ - ERROR - Error computing BERT similarity: 'float' object is not subscriptable\n",
      "Computing mistral_similarities:  67%|██████▋   | 77/115 [00:06<00:01, 28.54it/s]2025-05-12 21:52:40,170 - __main__ - ERROR - Error computing BLEU score: \n",
      "**********************************************************************\n",
      "  Resource \u001b[93mpunkt_tab\u001b[0m not found.\n",
      "  Please use the NLTK Downloader to obtain the resource:\n",
      "\n",
      "  \u001b[31m>>> import nltk\n",
      "  >>> nltk.download('punkt_tab')\n",
      "  \u001b[0m\n",
      "  For more information see: https://www.nltk.org/data.html\n",
      "\n",
      "  Attempted to load \u001b[93mtokenizers/punkt_tab/english/\u001b[0m\n",
      "\n",
      "  Searched in:\n",
      "    - '/Users/bhargav/nltk_data'\n",
      "    - '/Library/Frameworks/Python.framework/Versions/3.13/nltk_data'\n",
      "    - '/Library/Frameworks/Python.framework/Versions/3.13/share/nltk_data'\n",
      "    - '/Library/Frameworks/Python.framework/Versions/3.13/lib/nltk_data'\n",
      "    - '/usr/share/nltk_data'\n",
      "    - '/usr/local/share/nltk_data'\n",
      "    - '/usr/lib/nltk_data'\n",
      "    - '/usr/local/lib/nltk_data'\n",
      "**********************************************************************\n",
      "\n",
      "2025-05-12 21:52:40,170 - __main__ - ERROR - Error computing ROUGE scores: \n",
      "2025-05-12 21:52:40,170 - __main__ - ERROR - Error computing Levenshtein similarity: object of type 'float' has no len()\n",
      "2025-05-12 21:52:40,171 - __main__ - ERROR - Error computing Jaccard similarity: \n",
      "**********************************************************************\n",
      "  Resource \u001b[93mpunkt_tab\u001b[0m not found.\n",
      "  Please use the NLTK Downloader to obtain the resource:\n",
      "\n",
      "  \u001b[31m>>> import nltk\n",
      "  >>> nltk.download('punkt_tab')\n",
      "  \u001b[0m\n",
      "  For more information see: https://www.nltk.org/data.html\n",
      "\n",
      "  Attempted to load \u001b[93mtokenizers/punkt_tab/english/\u001b[0m\n",
      "\n",
      "  Searched in:\n",
      "    - '/Users/bhargav/nltk_data'\n",
      "    - '/Library/Frameworks/Python.framework/Versions/3.13/nltk_data'\n",
      "    - '/Library/Frameworks/Python.framework/Versions/3.13/share/nltk_data'\n",
      "    - '/Library/Frameworks/Python.framework/Versions/3.13/lib/nltk_data'\n",
      "    - '/usr/share/nltk_data'\n",
      "    - '/usr/local/share/nltk_data'\n",
      "    - '/usr/lib/nltk_data'\n",
      "    - '/usr/local/lib/nltk_data'\n",
      "**********************************************************************\n",
      "\n"
     ]
    },
    {
     "data": {
      "application/vnd.jupyter.widget-view+json": {
       "model_id": "cfe19fb9bdcb4714aafe73a0da2522d0",
       "version_major": 2,
       "version_minor": 0
      },
      "text/plain": [
       "Batches:   0%|          | 0/1 [00:00<?, ?it/s]"
      ]
     },
     "metadata": {},
     "output_type": "display_data"
    },
    {
     "data": {
      "application/vnd.jupyter.widget-view+json": {
       "model_id": "ff3a3839b6a44fb8bc37ff46f5ba5bb9",
       "version_major": 2,
       "version_minor": 0
      },
      "text/plain": [
       "Batches:   0%|          | 0/1 [00:00<?, ?it/s]"
      ]
     },
     "metadata": {},
     "output_type": "display_data"
    },
    {
     "name": "stderr",
     "output_type": "stream",
     "text": [
      "2025-05-12 21:52:40,182 - __main__ - ERROR - Error computing BERT similarity: 'float' object is not subscriptable\n",
      "2025-05-12 21:52:40,184 - __main__ - ERROR - Error computing BLEU score: \n",
      "**********************************************************************\n",
      "  Resource \u001b[93mpunkt_tab\u001b[0m not found.\n",
      "  Please use the NLTK Downloader to obtain the resource:\n",
      "\n",
      "  \u001b[31m>>> import nltk\n",
      "  >>> nltk.download('punkt_tab')\n",
      "  \u001b[0m\n",
      "  For more information see: https://www.nltk.org/data.html\n",
      "\n",
      "  Attempted to load \u001b[93mtokenizers/punkt_tab/english/\u001b[0m\n",
      "\n",
      "  Searched in:\n",
      "    - '/Users/bhargav/nltk_data'\n",
      "    - '/Library/Frameworks/Python.framework/Versions/3.13/nltk_data'\n",
      "    - '/Library/Frameworks/Python.framework/Versions/3.13/share/nltk_data'\n",
      "    - '/Library/Frameworks/Python.framework/Versions/3.13/lib/nltk_data'\n",
      "    - '/usr/share/nltk_data'\n",
      "    - '/usr/local/share/nltk_data'\n",
      "    - '/usr/lib/nltk_data'\n",
      "    - '/usr/local/lib/nltk_data'\n",
      "**********************************************************************\n",
      "\n",
      "2025-05-12 21:52:40,184 - __main__ - ERROR - Error computing ROUGE scores: \n",
      "2025-05-12 21:52:40,184 - __main__ - ERROR - Error computing Levenshtein similarity: object of type 'float' has no len()\n",
      "2025-05-12 21:52:40,185 - __main__ - ERROR - Error computing Jaccard similarity: \n",
      "**********************************************************************\n",
      "  Resource \u001b[93mpunkt_tab\u001b[0m not found.\n",
      "  Please use the NLTK Downloader to obtain the resource:\n",
      "\n",
      "  \u001b[31m>>> import nltk\n",
      "  >>> nltk.download('punkt_tab')\n",
      "  \u001b[0m\n",
      "  For more information see: https://www.nltk.org/data.html\n",
      "\n",
      "  Attempted to load \u001b[93mtokenizers/punkt_tab/english/\u001b[0m\n",
      "\n",
      "  Searched in:\n",
      "    - '/Users/bhargav/nltk_data'\n",
      "    - '/Library/Frameworks/Python.framework/Versions/3.13/nltk_data'\n",
      "    - '/Library/Frameworks/Python.framework/Versions/3.13/share/nltk_data'\n",
      "    - '/Library/Frameworks/Python.framework/Versions/3.13/lib/nltk_data'\n",
      "    - '/usr/share/nltk_data'\n",
      "    - '/usr/local/share/nltk_data'\n",
      "    - '/usr/lib/nltk_data'\n",
      "    - '/usr/local/lib/nltk_data'\n",
      "**********************************************************************\n",
      "\n"
     ]
    },
    {
     "data": {
      "application/vnd.jupyter.widget-view+json": {
       "model_id": "de0fb0efe66f48a492097067a3192ced",
       "version_major": 2,
       "version_minor": 0
      },
      "text/plain": [
       "Batches:   0%|          | 0/1 [00:00<?, ?it/s]"
      ]
     },
     "metadata": {},
     "output_type": "display_data"
    },
    {
     "data": {
      "application/vnd.jupyter.widget-view+json": {
       "model_id": "417df15dcdda4c4dbbf83235ff139102",
       "version_major": 2,
       "version_minor": 0
      },
      "text/plain": [
       "Batches:   0%|          | 0/1 [00:00<?, ?it/s]"
      ]
     },
     "metadata": {},
     "output_type": "display_data"
    },
    {
     "name": "stderr",
     "output_type": "stream",
     "text": [
      "2025-05-12 21:52:40,200 - __main__ - ERROR - Error computing BERT similarity: 'float' object is not subscriptable\n",
      "2025-05-12 21:52:40,201 - __main__ - ERROR - Error computing BLEU score: \n",
      "**********************************************************************\n",
      "  Resource \u001b[93mpunkt_tab\u001b[0m not found.\n",
      "  Please use the NLTK Downloader to obtain the resource:\n",
      "\n",
      "  \u001b[31m>>> import nltk\n",
      "  >>> nltk.download('punkt_tab')\n",
      "  \u001b[0m\n",
      "  For more information see: https://www.nltk.org/data.html\n",
      "\n",
      "  Attempted to load \u001b[93mtokenizers/punkt_tab/english/\u001b[0m\n",
      "\n",
      "  Searched in:\n",
      "    - '/Users/bhargav/nltk_data'\n",
      "    - '/Library/Frameworks/Python.framework/Versions/3.13/nltk_data'\n",
      "    - '/Library/Frameworks/Python.framework/Versions/3.13/share/nltk_data'\n",
      "    - '/Library/Frameworks/Python.framework/Versions/3.13/lib/nltk_data'\n",
      "    - '/usr/share/nltk_data'\n",
      "    - '/usr/local/share/nltk_data'\n",
      "    - '/usr/lib/nltk_data'\n",
      "    - '/usr/local/lib/nltk_data'\n",
      "**********************************************************************\n",
      "\n",
      "2025-05-12 21:52:40,211 - __main__ - ERROR - Error computing Jaccard similarity: \n",
      "**********************************************************************\n",
      "  Resource \u001b[93mpunkt_tab\u001b[0m not found.\n",
      "  Please use the NLTK Downloader to obtain the resource:\n",
      "\n",
      "  \u001b[31m>>> import nltk\n",
      "  >>> nltk.download('punkt_tab')\n",
      "  \u001b[0m\n",
      "  For more information see: https://www.nltk.org/data.html\n",
      "\n",
      "  Attempted to load \u001b[93mtokenizers/punkt_tab/english/\u001b[0m\n",
      "\n",
      "  Searched in:\n",
      "    - '/Users/bhargav/nltk_data'\n",
      "    - '/Library/Frameworks/Python.framework/Versions/3.13/nltk_data'\n",
      "    - '/Library/Frameworks/Python.framework/Versions/3.13/share/nltk_data'\n",
      "    - '/Library/Frameworks/Python.framework/Versions/3.13/lib/nltk_data'\n",
      "    - '/usr/share/nltk_data'\n",
      "    - '/usr/local/share/nltk_data'\n",
      "    - '/usr/lib/nltk_data'\n",
      "    - '/usr/local/lib/nltk_data'\n",
      "**********************************************************************\n",
      "\n"
     ]
    },
    {
     "data": {
      "application/vnd.jupyter.widget-view+json": {
       "model_id": "7a0cad31fb9340d78a6d16561b55f43d",
       "version_major": 2,
       "version_minor": 0
      },
      "text/plain": [
       "Batches:   0%|          | 0/1 [00:00<?, ?it/s]"
      ]
     },
     "metadata": {},
     "output_type": "display_data"
    },
    {
     "data": {
      "application/vnd.jupyter.widget-view+json": {
       "model_id": "948e1480db9c43129a990ed955332a28",
       "version_major": 2,
       "version_minor": 0
      },
      "text/plain": [
       "Batches:   0%|          | 0/1 [00:00<?, ?it/s]"
      ]
     },
     "metadata": {},
     "output_type": "display_data"
    },
    {
     "name": "stderr",
     "output_type": "stream",
     "text": [
      "2025-05-12 21:52:40,397 - __main__ - ERROR - Error computing BLEU score: \n",
      "**********************************************************************\n",
      "  Resource \u001b[93mpunkt_tab\u001b[0m not found.\n",
      "  Please use the NLTK Downloader to obtain the resource:\n",
      "\n",
      "  \u001b[31m>>> import nltk\n",
      "  >>> nltk.download('punkt_tab')\n",
      "  \u001b[0m\n",
      "  For more information see: https://www.nltk.org/data.html\n",
      "\n",
      "  Attempted to load \u001b[93mtokenizers/punkt_tab/english/\u001b[0m\n",
      "\n",
      "  Searched in:\n",
      "    - '/Users/bhargav/nltk_data'\n",
      "    - '/Library/Frameworks/Python.framework/Versions/3.13/nltk_data'\n",
      "    - '/Library/Frameworks/Python.framework/Versions/3.13/share/nltk_data'\n",
      "    - '/Library/Frameworks/Python.framework/Versions/3.13/lib/nltk_data'\n",
      "    - '/usr/share/nltk_data'\n",
      "    - '/usr/local/share/nltk_data'\n",
      "    - '/usr/lib/nltk_data'\n",
      "    - '/usr/local/lib/nltk_data'\n",
      "**********************************************************************\n",
      "\n",
      "2025-05-12 21:52:40,397 - __main__ - ERROR - Error computing ROUGE scores: \n",
      "2025-05-12 21:52:40,397 - __main__ - ERROR - Error computing Levenshtein similarity: object of type 'float' has no len()\n",
      "2025-05-12 21:52:40,398 - __main__ - ERROR - Error computing Jaccard similarity: \n",
      "**********************************************************************\n",
      "  Resource \u001b[93mpunkt_tab\u001b[0m not found.\n",
      "  Please use the NLTK Downloader to obtain the resource:\n",
      "\n",
      "  \u001b[31m>>> import nltk\n",
      "  >>> nltk.download('punkt_tab')\n",
      "  \u001b[0m\n",
      "  For more information see: https://www.nltk.org/data.html\n",
      "\n",
      "  Attempted to load \u001b[93mtokenizers/punkt_tab/english/\u001b[0m\n",
      "\n",
      "  Searched in:\n",
      "    - '/Users/bhargav/nltk_data'\n",
      "    - '/Library/Frameworks/Python.framework/Versions/3.13/nltk_data'\n",
      "    - '/Library/Frameworks/Python.framework/Versions/3.13/share/nltk_data'\n",
      "    - '/Library/Frameworks/Python.framework/Versions/3.13/lib/nltk_data'\n",
      "    - '/usr/share/nltk_data'\n",
      "    - '/usr/local/share/nltk_data'\n",
      "    - '/usr/lib/nltk_data'\n",
      "    - '/usr/local/lib/nltk_data'\n",
      "**********************************************************************\n",
      "\n"
     ]
    },
    {
     "data": {
      "application/vnd.jupyter.widget-view+json": {
       "model_id": "f66ee31143614f12bcd69d4861dd9fa3",
       "version_major": 2,
       "version_minor": 0
      },
      "text/plain": [
       "Batches:   0%|          | 0/1 [00:00<?, ?it/s]"
      ]
     },
     "metadata": {},
     "output_type": "display_data"
    },
    {
     "data": {
      "application/vnd.jupyter.widget-view+json": {
       "model_id": "4b9d16ba5f0348f0995449b76624afbd",
       "version_major": 2,
       "version_minor": 0
      },
      "text/plain": [
       "Batches:   0%|          | 0/1 [00:00<?, ?it/s]"
      ]
     },
     "metadata": {},
     "output_type": "display_data"
    },
    {
     "name": "stderr",
     "output_type": "stream",
     "text": [
      "2025-05-12 21:52:40,435 - __main__ - ERROR - Error computing BERT similarity: 'float' object is not subscriptable\n",
      "Computing mistral_similarities:  70%|███████   | 81/115 [00:06<00:01, 22.56it/s]2025-05-12 21:52:40,437 - __main__ - ERROR - Error computing BLEU score: \n",
      "**********************************************************************\n",
      "  Resource \u001b[93mpunkt_tab\u001b[0m not found.\n",
      "  Please use the NLTK Downloader to obtain the resource:\n",
      "\n",
      "  \u001b[31m>>> import nltk\n",
      "  >>> nltk.download('punkt_tab')\n",
      "  \u001b[0m\n",
      "  For more information see: https://www.nltk.org/data.html\n",
      "\n",
      "  Attempted to load \u001b[93mtokenizers/punkt_tab/english/\u001b[0m\n",
      "\n",
      "  Searched in:\n",
      "    - '/Users/bhargav/nltk_data'\n",
      "    - '/Library/Frameworks/Python.framework/Versions/3.13/nltk_data'\n",
      "    - '/Library/Frameworks/Python.framework/Versions/3.13/share/nltk_data'\n",
      "    - '/Library/Frameworks/Python.framework/Versions/3.13/lib/nltk_data'\n",
      "    - '/usr/share/nltk_data'\n",
      "    - '/usr/local/share/nltk_data'\n",
      "    - '/usr/lib/nltk_data'\n",
      "    - '/usr/local/lib/nltk_data'\n",
      "**********************************************************************\n",
      "\n",
      "2025-05-12 21:52:40,437 - __main__ - ERROR - Error computing ROUGE scores: \n",
      "2025-05-12 21:52:40,437 - __main__ - ERROR - Error computing Levenshtein similarity: object of type 'float' has no len()\n",
      "2025-05-12 21:52:40,438 - __main__ - ERROR - Error computing Jaccard similarity: \n",
      "**********************************************************************\n",
      "  Resource \u001b[93mpunkt_tab\u001b[0m not found.\n",
      "  Please use the NLTK Downloader to obtain the resource:\n",
      "\n",
      "  \u001b[31m>>> import nltk\n",
      "  >>> nltk.download('punkt_tab')\n",
      "  \u001b[0m\n",
      "  For more information see: https://www.nltk.org/data.html\n",
      "\n",
      "  Attempted to load \u001b[93mtokenizers/punkt_tab/english/\u001b[0m\n",
      "\n",
      "  Searched in:\n",
      "    - '/Users/bhargav/nltk_data'\n",
      "    - '/Library/Frameworks/Python.framework/Versions/3.13/nltk_data'\n",
      "    - '/Library/Frameworks/Python.framework/Versions/3.13/share/nltk_data'\n",
      "    - '/Library/Frameworks/Python.framework/Versions/3.13/lib/nltk_data'\n",
      "    - '/usr/share/nltk_data'\n",
      "    - '/usr/local/share/nltk_data'\n",
      "    - '/usr/lib/nltk_data'\n",
      "    - '/usr/local/lib/nltk_data'\n",
      "**********************************************************************\n",
      "\n"
     ]
    },
    {
     "data": {
      "application/vnd.jupyter.widget-view+json": {
       "model_id": "235288064c0f408b81a3827d962f9309",
       "version_major": 2,
       "version_minor": 0
      },
      "text/plain": [
       "Batches:   0%|          | 0/1 [00:00<?, ?it/s]"
      ]
     },
     "metadata": {},
     "output_type": "display_data"
    },
    {
     "data": {
      "application/vnd.jupyter.widget-view+json": {
       "model_id": "14647effd7f54655b4f05084d5c43c8a",
       "version_major": 2,
       "version_minor": 0
      },
      "text/plain": [
       "Batches:   0%|          | 0/1 [00:00<?, ?it/s]"
      ]
     },
     "metadata": {},
     "output_type": "display_data"
    },
    {
     "name": "stderr",
     "output_type": "stream",
     "text": [
      "2025-05-12 21:52:40,450 - __main__ - ERROR - Error computing BERT similarity: 'float' object is not subscriptable\n",
      "2025-05-12 21:52:40,451 - __main__ - ERROR - Error computing BLEU score: \n",
      "**********************************************************************\n",
      "  Resource \u001b[93mpunkt_tab\u001b[0m not found.\n",
      "  Please use the NLTK Downloader to obtain the resource:\n",
      "\n",
      "  \u001b[31m>>> import nltk\n",
      "  >>> nltk.download('punkt_tab')\n",
      "  \u001b[0m\n",
      "  For more information see: https://www.nltk.org/data.html\n",
      "\n",
      "  Attempted to load \u001b[93mtokenizers/punkt_tab/english/\u001b[0m\n",
      "\n",
      "  Searched in:\n",
      "    - '/Users/bhargav/nltk_data'\n",
      "    - '/Library/Frameworks/Python.framework/Versions/3.13/nltk_data'\n",
      "    - '/Library/Frameworks/Python.framework/Versions/3.13/share/nltk_data'\n",
      "    - '/Library/Frameworks/Python.framework/Versions/3.13/lib/nltk_data'\n",
      "    - '/usr/share/nltk_data'\n",
      "    - '/usr/local/share/nltk_data'\n",
      "    - '/usr/lib/nltk_data'\n",
      "    - '/usr/local/lib/nltk_data'\n",
      "**********************************************************************\n",
      "\n",
      "2025-05-12 21:52:40,451 - __main__ - ERROR - Error computing ROUGE scores: \n",
      "2025-05-12 21:52:40,451 - __main__ - ERROR - Error computing Levenshtein similarity: object of type 'float' has no len()\n",
      "2025-05-12 21:52:40,452 - __main__ - ERROR - Error computing Jaccard similarity: \n",
      "**********************************************************************\n",
      "  Resource \u001b[93mpunkt_tab\u001b[0m not found.\n",
      "  Please use the NLTK Downloader to obtain the resource:\n",
      "\n",
      "  \u001b[31m>>> import nltk\n",
      "  >>> nltk.download('punkt_tab')\n",
      "  \u001b[0m\n",
      "  For more information see: https://www.nltk.org/data.html\n",
      "\n",
      "  Attempted to load \u001b[93mtokenizers/punkt_tab/english/\u001b[0m\n",
      "\n",
      "  Searched in:\n",
      "    - '/Users/bhargav/nltk_data'\n",
      "    - '/Library/Frameworks/Python.framework/Versions/3.13/nltk_data'\n",
      "    - '/Library/Frameworks/Python.framework/Versions/3.13/share/nltk_data'\n",
      "    - '/Library/Frameworks/Python.framework/Versions/3.13/lib/nltk_data'\n",
      "    - '/usr/share/nltk_data'\n",
      "    - '/usr/local/share/nltk_data'\n",
      "    - '/usr/lib/nltk_data'\n",
      "    - '/usr/local/lib/nltk_data'\n",
      "**********************************************************************\n",
      "\n"
     ]
    },
    {
     "data": {
      "application/vnd.jupyter.widget-view+json": {
       "model_id": "da162e0ae44a48a0b711379b0fa53838",
       "version_major": 2,
       "version_minor": 0
      },
      "text/plain": [
       "Batches:   0%|          | 0/1 [00:00<?, ?it/s]"
      ]
     },
     "metadata": {},
     "output_type": "display_data"
    },
    {
     "data": {
      "application/vnd.jupyter.widget-view+json": {
       "model_id": "888a7885f50f4c87b3ea31a8771aea57",
       "version_major": 2,
       "version_minor": 0
      },
      "text/plain": [
       "Batches:   0%|          | 0/1 [00:00<?, ?it/s]"
      ]
     },
     "metadata": {},
     "output_type": "display_data"
    },
    {
     "name": "stderr",
     "output_type": "stream",
     "text": [
      "2025-05-12 21:52:40,463 - __main__ - ERROR - Error computing BERT similarity: 'float' object is not subscriptable\n",
      "2025-05-12 21:52:40,464 - __main__ - ERROR - Error computing BLEU score: \n",
      "**********************************************************************\n",
      "  Resource \u001b[93mpunkt_tab\u001b[0m not found.\n",
      "  Please use the NLTK Downloader to obtain the resource:\n",
      "\n",
      "  \u001b[31m>>> import nltk\n",
      "  >>> nltk.download('punkt_tab')\n",
      "  \u001b[0m\n",
      "  For more information see: https://www.nltk.org/data.html\n",
      "\n",
      "  Attempted to load \u001b[93mtokenizers/punkt_tab/english/\u001b[0m\n",
      "\n",
      "  Searched in:\n",
      "    - '/Users/bhargav/nltk_data'\n",
      "    - '/Library/Frameworks/Python.framework/Versions/3.13/nltk_data'\n",
      "    - '/Library/Frameworks/Python.framework/Versions/3.13/share/nltk_data'\n",
      "    - '/Library/Frameworks/Python.framework/Versions/3.13/lib/nltk_data'\n",
      "    - '/usr/share/nltk_data'\n",
      "    - '/usr/local/share/nltk_data'\n",
      "    - '/usr/lib/nltk_data'\n",
      "    - '/usr/local/lib/nltk_data'\n",
      "**********************************************************************\n",
      "\n",
      "2025-05-12 21:52:40,464 - __main__ - ERROR - Error computing ROUGE scores: \n",
      "2025-05-12 21:52:40,464 - __main__ - ERROR - Error computing Levenshtein similarity: object of type 'float' has no len()\n",
      "2025-05-12 21:52:40,465 - __main__ - ERROR - Error computing Jaccard similarity: \n",
      "**********************************************************************\n",
      "  Resource \u001b[93mpunkt_tab\u001b[0m not found.\n",
      "  Please use the NLTK Downloader to obtain the resource:\n",
      "\n",
      "  \u001b[31m>>> import nltk\n",
      "  >>> nltk.download('punkt_tab')\n",
      "  \u001b[0m\n",
      "  For more information see: https://www.nltk.org/data.html\n",
      "\n",
      "  Attempted to load \u001b[93mtokenizers/punkt_tab/english/\u001b[0m\n",
      "\n",
      "  Searched in:\n",
      "    - '/Users/bhargav/nltk_data'\n",
      "    - '/Library/Frameworks/Python.framework/Versions/3.13/nltk_data'\n",
      "    - '/Library/Frameworks/Python.framework/Versions/3.13/share/nltk_data'\n",
      "    - '/Library/Frameworks/Python.framework/Versions/3.13/lib/nltk_data'\n",
      "    - '/usr/share/nltk_data'\n",
      "    - '/usr/local/share/nltk_data'\n",
      "    - '/usr/lib/nltk_data'\n",
      "    - '/usr/local/lib/nltk_data'\n",
      "**********************************************************************\n",
      "\n"
     ]
    },
    {
     "data": {
      "application/vnd.jupyter.widget-view+json": {
       "model_id": "29f5e91d4a8d465b864c3a5f0ea45b23",
       "version_major": 2,
       "version_minor": 0
      },
      "text/plain": [
       "Batches:   0%|          | 0/1 [00:00<?, ?it/s]"
      ]
     },
     "metadata": {},
     "output_type": "display_data"
    },
    {
     "data": {
      "application/vnd.jupyter.widget-view+json": {
       "model_id": "f57ccb1db56845fd8491c74196a6252a",
       "version_major": 2,
       "version_minor": 0
      },
      "text/plain": [
       "Batches:   0%|          | 0/1 [00:00<?, ?it/s]"
      ]
     },
     "metadata": {},
     "output_type": "display_data"
    },
    {
     "name": "stderr",
     "output_type": "stream",
     "text": [
      "2025-05-12 21:52:40,503 - __main__ - ERROR - Error computing BERT similarity: 'float' object is not subscriptable\n",
      "2025-05-12 21:52:40,504 - __main__ - ERROR - Error computing BLEU score: \n",
      "**********************************************************************\n",
      "  Resource \u001b[93mpunkt_tab\u001b[0m not found.\n",
      "  Please use the NLTK Downloader to obtain the resource:\n",
      "\n",
      "  \u001b[31m>>> import nltk\n",
      "  >>> nltk.download('punkt_tab')\n",
      "  \u001b[0m\n",
      "  For more information see: https://www.nltk.org/data.html\n",
      "\n",
      "  Attempted to load \u001b[93mtokenizers/punkt_tab/english/\u001b[0m\n",
      "\n",
      "  Searched in:\n",
      "    - '/Users/bhargav/nltk_data'\n",
      "    - '/Library/Frameworks/Python.framework/Versions/3.13/nltk_data'\n",
      "    - '/Library/Frameworks/Python.framework/Versions/3.13/share/nltk_data'\n",
      "    - '/Library/Frameworks/Python.framework/Versions/3.13/lib/nltk_data'\n",
      "    - '/usr/share/nltk_data'\n",
      "    - '/usr/local/share/nltk_data'\n",
      "    - '/usr/lib/nltk_data'\n",
      "    - '/usr/local/lib/nltk_data'\n",
      "**********************************************************************\n",
      "\n",
      "2025-05-12 21:52:40,505 - __main__ - ERROR - Error computing ROUGE scores: \n",
      "2025-05-12 21:52:40,505 - __main__ - ERROR - Error computing Levenshtein similarity: object of type 'float' has no len()\n",
      "2025-05-12 21:52:40,505 - __main__ - ERROR - Error computing Jaccard similarity: \n",
      "**********************************************************************\n",
      "  Resource \u001b[93mpunkt_tab\u001b[0m not found.\n",
      "  Please use the NLTK Downloader to obtain the resource:\n",
      "\n",
      "  \u001b[31m>>> import nltk\n",
      "  >>> nltk.download('punkt_tab')\n",
      "  \u001b[0m\n",
      "  For more information see: https://www.nltk.org/data.html\n",
      "\n",
      "  Attempted to load \u001b[93mtokenizers/punkt_tab/english/\u001b[0m\n",
      "\n",
      "  Searched in:\n",
      "    - '/Users/bhargav/nltk_data'\n",
      "    - '/Library/Frameworks/Python.framework/Versions/3.13/nltk_data'\n",
      "    - '/Library/Frameworks/Python.framework/Versions/3.13/share/nltk_data'\n",
      "    - '/Library/Frameworks/Python.framework/Versions/3.13/lib/nltk_data'\n",
      "    - '/usr/share/nltk_data'\n",
      "    - '/usr/local/share/nltk_data'\n",
      "    - '/usr/lib/nltk_data'\n",
      "    - '/usr/local/lib/nltk_data'\n",
      "**********************************************************************\n",
      "\n"
     ]
    },
    {
     "data": {
      "application/vnd.jupyter.widget-view+json": {
       "model_id": "ed8c12ceda1b4d81b94e0b4a18c612df",
       "version_major": 2,
       "version_minor": 0
      },
      "text/plain": [
       "Batches:   0%|          | 0/1 [00:00<?, ?it/s]"
      ]
     },
     "metadata": {},
     "output_type": "display_data"
    },
    {
     "data": {
      "application/vnd.jupyter.widget-view+json": {
       "model_id": "fa24e5414d0541b88157da72a60f200d",
       "version_major": 2,
       "version_minor": 0
      },
      "text/plain": [
       "Batches:   0%|          | 0/1 [00:00<?, ?it/s]"
      ]
     },
     "metadata": {},
     "output_type": "display_data"
    },
    {
     "name": "stderr",
     "output_type": "stream",
     "text": [
      "2025-05-12 21:52:40,639 - __main__ - ERROR - Error computing BERT similarity: 'float' object is not subscriptable\n",
      "Computing mistral_similarities:  74%|███████▍  | 85/115 [00:06<00:01, 21.63it/s]2025-05-12 21:52:40,640 - __main__ - ERROR - Error computing BLEU score: \n",
      "**********************************************************************\n",
      "  Resource \u001b[93mpunkt_tab\u001b[0m not found.\n",
      "  Please use the NLTK Downloader to obtain the resource:\n",
      "\n",
      "  \u001b[31m>>> import nltk\n",
      "  >>> nltk.download('punkt_tab')\n",
      "  \u001b[0m\n",
      "  For more information see: https://www.nltk.org/data.html\n",
      "\n",
      "  Attempted to load \u001b[93mtokenizers/punkt_tab/english/\u001b[0m\n",
      "\n",
      "  Searched in:\n",
      "    - '/Users/bhargav/nltk_data'\n",
      "    - '/Library/Frameworks/Python.framework/Versions/3.13/nltk_data'\n",
      "    - '/Library/Frameworks/Python.framework/Versions/3.13/share/nltk_data'\n",
      "    - '/Library/Frameworks/Python.framework/Versions/3.13/lib/nltk_data'\n",
      "    - '/usr/share/nltk_data'\n",
      "    - '/usr/local/share/nltk_data'\n",
      "    - '/usr/lib/nltk_data'\n",
      "    - '/usr/local/lib/nltk_data'\n",
      "**********************************************************************\n",
      "\n",
      "2025-05-12 21:52:40,640 - __main__ - ERROR - Error computing ROUGE scores: \n",
      "2025-05-12 21:52:40,640 - __main__ - ERROR - Error computing Levenshtein similarity: object of type 'float' has no len()\n",
      "2025-05-12 21:52:40,641 - __main__ - ERROR - Error computing Jaccard similarity: \n",
      "**********************************************************************\n",
      "  Resource \u001b[93mpunkt_tab\u001b[0m not found.\n",
      "  Please use the NLTK Downloader to obtain the resource:\n",
      "\n",
      "  \u001b[31m>>> import nltk\n",
      "  >>> nltk.download('punkt_tab')\n",
      "  \u001b[0m\n",
      "  For more information see: https://www.nltk.org/data.html\n",
      "\n",
      "  Attempted to load \u001b[93mtokenizers/punkt_tab/english/\u001b[0m\n",
      "\n",
      "  Searched in:\n",
      "    - '/Users/bhargav/nltk_data'\n",
      "    - '/Library/Frameworks/Python.framework/Versions/3.13/nltk_data'\n",
      "    - '/Library/Frameworks/Python.framework/Versions/3.13/share/nltk_data'\n",
      "    - '/Library/Frameworks/Python.framework/Versions/3.13/lib/nltk_data'\n",
      "    - '/usr/share/nltk_data'\n",
      "    - '/usr/local/share/nltk_data'\n",
      "    - '/usr/lib/nltk_data'\n",
      "    - '/usr/local/lib/nltk_data'\n",
      "**********************************************************************\n",
      "\n"
     ]
    },
    {
     "data": {
      "application/vnd.jupyter.widget-view+json": {
       "model_id": "3ab96eca3b7c4cb79cfcd69a85688e49",
       "version_major": 2,
       "version_minor": 0
      },
      "text/plain": [
       "Batches:   0%|          | 0/1 [00:00<?, ?it/s]"
      ]
     },
     "metadata": {},
     "output_type": "display_data"
    },
    {
     "data": {
      "application/vnd.jupyter.widget-view+json": {
       "model_id": "87ca240eab6c47789b6fef492075f5e4",
       "version_major": 2,
       "version_minor": 0
      },
      "text/plain": [
       "Batches:   0%|          | 0/1 [00:00<?, ?it/s]"
      ]
     },
     "metadata": {},
     "output_type": "display_data"
    },
    {
     "name": "stderr",
     "output_type": "stream",
     "text": [
      "2025-05-12 21:52:40,679 - __main__ - ERROR - Error computing BERT similarity: 'float' object is not subscriptable\n",
      "2025-05-12 21:52:40,680 - __main__ - ERROR - Error computing BLEU score: \n",
      "**********************************************************************\n",
      "  Resource \u001b[93mpunkt_tab\u001b[0m not found.\n",
      "  Please use the NLTK Downloader to obtain the resource:\n",
      "\n",
      "  \u001b[31m>>> import nltk\n",
      "  >>> nltk.download('punkt_tab')\n",
      "  \u001b[0m\n",
      "  For more information see: https://www.nltk.org/data.html\n",
      "\n",
      "  Attempted to load \u001b[93mtokenizers/punkt_tab/english/\u001b[0m\n",
      "\n",
      "  Searched in:\n",
      "    - '/Users/bhargav/nltk_data'\n",
      "    - '/Library/Frameworks/Python.framework/Versions/3.13/nltk_data'\n",
      "    - '/Library/Frameworks/Python.framework/Versions/3.13/share/nltk_data'\n",
      "    - '/Library/Frameworks/Python.framework/Versions/3.13/lib/nltk_data'\n",
      "    - '/usr/share/nltk_data'\n",
      "    - '/usr/local/share/nltk_data'\n",
      "    - '/usr/lib/nltk_data'\n",
      "    - '/usr/local/lib/nltk_data'\n",
      "**********************************************************************\n",
      "\n",
      "2025-05-12 21:52:40,689 - __main__ - ERROR - Error computing Jaccard similarity: \n",
      "**********************************************************************\n",
      "  Resource \u001b[93mpunkt_tab\u001b[0m not found.\n",
      "  Please use the NLTK Downloader to obtain the resource:\n",
      "\n",
      "  \u001b[31m>>> import nltk\n",
      "  >>> nltk.download('punkt_tab')\n",
      "  \u001b[0m\n",
      "  For more information see: https://www.nltk.org/data.html\n",
      "\n",
      "  Attempted to load \u001b[93mtokenizers/punkt_tab/english/\u001b[0m\n",
      "\n",
      "  Searched in:\n",
      "    - '/Users/bhargav/nltk_data'\n",
      "    - '/Library/Frameworks/Python.framework/Versions/3.13/nltk_data'\n",
      "    - '/Library/Frameworks/Python.framework/Versions/3.13/share/nltk_data'\n",
      "    - '/Library/Frameworks/Python.framework/Versions/3.13/lib/nltk_data'\n",
      "    - '/usr/share/nltk_data'\n",
      "    - '/usr/local/share/nltk_data'\n",
      "    - '/usr/lib/nltk_data'\n",
      "    - '/usr/local/lib/nltk_data'\n",
      "**********************************************************************\n",
      "\n"
     ]
    },
    {
     "data": {
      "application/vnd.jupyter.widget-view+json": {
       "model_id": "7779e050c6ce4128bac050a07f97cb55",
       "version_major": 2,
       "version_minor": 0
      },
      "text/plain": [
       "Batches:   0%|          | 0/1 [00:00<?, ?it/s]"
      ]
     },
     "metadata": {},
     "output_type": "display_data"
    },
    {
     "data": {
      "application/vnd.jupyter.widget-view+json": {
       "model_id": "269ba9394f244b88b0122411a465520d",
       "version_major": 2,
       "version_minor": 0
      },
      "text/plain": [
       "Batches:   0%|          | 0/1 [00:00<?, ?it/s]"
      ]
     },
     "metadata": {},
     "output_type": "display_data"
    },
    {
     "name": "stderr",
     "output_type": "stream",
     "text": [
      "2025-05-12 21:52:40,753 - __main__ - ERROR - Error computing BLEU score: \n",
      "**********************************************************************\n",
      "  Resource \u001b[93mpunkt_tab\u001b[0m not found.\n",
      "  Please use the NLTK Downloader to obtain the resource:\n",
      "\n",
      "  \u001b[31m>>> import nltk\n",
      "  >>> nltk.download('punkt_tab')\n",
      "  \u001b[0m\n",
      "  For more information see: https://www.nltk.org/data.html\n",
      "\n",
      "  Attempted to load \u001b[93mtokenizers/punkt_tab/english/\u001b[0m\n",
      "\n",
      "  Searched in:\n",
      "    - '/Users/bhargav/nltk_data'\n",
      "    - '/Library/Frameworks/Python.framework/Versions/3.13/nltk_data'\n",
      "    - '/Library/Frameworks/Python.framework/Versions/3.13/share/nltk_data'\n",
      "    - '/Library/Frameworks/Python.framework/Versions/3.13/lib/nltk_data'\n",
      "    - '/usr/share/nltk_data'\n",
      "    - '/usr/local/share/nltk_data'\n",
      "    - '/usr/lib/nltk_data'\n",
      "    - '/usr/local/lib/nltk_data'\n",
      "**********************************************************************\n",
      "\n",
      "2025-05-12 21:52:40,753 - __main__ - ERROR - Error computing ROUGE scores: \n",
      "2025-05-12 21:52:40,754 - __main__ - ERROR - Error computing Levenshtein similarity: object of type 'float' has no len()\n",
      "2025-05-12 21:52:40,754 - __main__ - ERROR - Error computing Jaccard similarity: \n",
      "**********************************************************************\n",
      "  Resource \u001b[93mpunkt_tab\u001b[0m not found.\n",
      "  Please use the NLTK Downloader to obtain the resource:\n",
      "\n",
      "  \u001b[31m>>> import nltk\n",
      "  >>> nltk.download('punkt_tab')\n",
      "  \u001b[0m\n",
      "  For more information see: https://www.nltk.org/data.html\n",
      "\n",
      "  Attempted to load \u001b[93mtokenizers/punkt_tab/english/\u001b[0m\n",
      "\n",
      "  Searched in:\n",
      "    - '/Users/bhargav/nltk_data'\n",
      "    - '/Library/Frameworks/Python.framework/Versions/3.13/nltk_data'\n",
      "    - '/Library/Frameworks/Python.framework/Versions/3.13/share/nltk_data'\n",
      "    - '/Library/Frameworks/Python.framework/Versions/3.13/lib/nltk_data'\n",
      "    - '/usr/share/nltk_data'\n",
      "    - '/usr/local/share/nltk_data'\n",
      "    - '/usr/lib/nltk_data'\n",
      "    - '/usr/local/lib/nltk_data'\n",
      "**********************************************************************\n",
      "\n"
     ]
    },
    {
     "data": {
      "application/vnd.jupyter.widget-view+json": {
       "model_id": "a2fe6ac7d2494aa8b0da1f5cd51ef54f",
       "version_major": 2,
       "version_minor": 0
      },
      "text/plain": [
       "Batches:   0%|          | 0/1 [00:00<?, ?it/s]"
      ]
     },
     "metadata": {},
     "output_type": "display_data"
    },
    {
     "data": {
      "application/vnd.jupyter.widget-view+json": {
       "model_id": "1993acaf0d1640a482f08f64f5b8fc58",
       "version_major": 2,
       "version_minor": 0
      },
      "text/plain": [
       "Batches:   0%|          | 0/1 [00:00<?, ?it/s]"
      ]
     },
     "metadata": {},
     "output_type": "display_data"
    },
    {
     "name": "stderr",
     "output_type": "stream",
     "text": [
      "2025-05-12 21:52:40,766 - __main__ - ERROR - Error computing BERT similarity: 'float' object is not subscriptable\n",
      "Computing mistral_similarities:  77%|███████▋  | 88/115 [00:06<00:01, 22.07it/s]2025-05-12 21:52:40,767 - __main__ - ERROR - Error computing BLEU score: \n",
      "**********************************************************************\n",
      "  Resource \u001b[93mpunkt_tab\u001b[0m not found.\n",
      "  Please use the NLTK Downloader to obtain the resource:\n",
      "\n",
      "  \u001b[31m>>> import nltk\n",
      "  >>> nltk.download('punkt_tab')\n",
      "  \u001b[0m\n",
      "  For more information see: https://www.nltk.org/data.html\n",
      "\n",
      "  Attempted to load \u001b[93mtokenizers/punkt_tab/english/\u001b[0m\n",
      "\n",
      "  Searched in:\n",
      "    - '/Users/bhargav/nltk_data'\n",
      "    - '/Library/Frameworks/Python.framework/Versions/3.13/nltk_data'\n",
      "    - '/Library/Frameworks/Python.framework/Versions/3.13/share/nltk_data'\n",
      "    - '/Library/Frameworks/Python.framework/Versions/3.13/lib/nltk_data'\n",
      "    - '/usr/share/nltk_data'\n",
      "    - '/usr/local/share/nltk_data'\n",
      "    - '/usr/lib/nltk_data'\n",
      "    - '/usr/local/lib/nltk_data'\n",
      "**********************************************************************\n",
      "\n",
      "2025-05-12 21:52:40,767 - __main__ - ERROR - Error computing ROUGE scores: \n",
      "2025-05-12 21:52:40,767 - __main__ - ERROR - Error computing Levenshtein similarity: object of type 'float' has no len()\n",
      "2025-05-12 21:52:40,768 - __main__ - ERROR - Error computing Jaccard similarity: \n",
      "**********************************************************************\n",
      "  Resource \u001b[93mpunkt_tab\u001b[0m not found.\n",
      "  Please use the NLTK Downloader to obtain the resource:\n",
      "\n",
      "  \u001b[31m>>> import nltk\n",
      "  >>> nltk.download('punkt_tab')\n",
      "  \u001b[0m\n",
      "  For more information see: https://www.nltk.org/data.html\n",
      "\n",
      "  Attempted to load \u001b[93mtokenizers/punkt_tab/english/\u001b[0m\n",
      "\n",
      "  Searched in:\n",
      "    - '/Users/bhargav/nltk_data'\n",
      "    - '/Library/Frameworks/Python.framework/Versions/3.13/nltk_data'\n",
      "    - '/Library/Frameworks/Python.framework/Versions/3.13/share/nltk_data'\n",
      "    - '/Library/Frameworks/Python.framework/Versions/3.13/lib/nltk_data'\n",
      "    - '/usr/share/nltk_data'\n",
      "    - '/usr/local/share/nltk_data'\n",
      "    - '/usr/lib/nltk_data'\n",
      "    - '/usr/local/lib/nltk_data'\n",
      "**********************************************************************\n",
      "\n"
     ]
    },
    {
     "data": {
      "application/vnd.jupyter.widget-view+json": {
       "model_id": "3d5c6987ed214005af810702d2d80325",
       "version_major": 2,
       "version_minor": 0
      },
      "text/plain": [
       "Batches:   0%|          | 0/1 [00:00<?, ?it/s]"
      ]
     },
     "metadata": {},
     "output_type": "display_data"
    },
    {
     "data": {
      "application/vnd.jupyter.widget-view+json": {
       "model_id": "2668c78334394d8e8c9af0deeca785e5",
       "version_major": 2,
       "version_minor": 0
      },
      "text/plain": [
       "Batches:   0%|          | 0/1 [00:00<?, ?it/s]"
      ]
     },
     "metadata": {},
     "output_type": "display_data"
    },
    {
     "name": "stderr",
     "output_type": "stream",
     "text": [
      "2025-05-12 21:52:40,806 - __main__ - ERROR - Error computing BERT similarity: 'float' object is not subscriptable\n",
      "2025-05-12 21:52:40,807 - __main__ - ERROR - Error computing BLEU score: \n",
      "**********************************************************************\n",
      "  Resource \u001b[93mpunkt_tab\u001b[0m not found.\n",
      "  Please use the NLTK Downloader to obtain the resource:\n",
      "\n",
      "  \u001b[31m>>> import nltk\n",
      "  >>> nltk.download('punkt_tab')\n",
      "  \u001b[0m\n",
      "  For more information see: https://www.nltk.org/data.html\n",
      "\n",
      "  Attempted to load \u001b[93mtokenizers/punkt_tab/english/\u001b[0m\n",
      "\n",
      "  Searched in:\n",
      "    - '/Users/bhargav/nltk_data'\n",
      "    - '/Library/Frameworks/Python.framework/Versions/3.13/nltk_data'\n",
      "    - '/Library/Frameworks/Python.framework/Versions/3.13/share/nltk_data'\n",
      "    - '/Library/Frameworks/Python.framework/Versions/3.13/lib/nltk_data'\n",
      "    - '/usr/share/nltk_data'\n",
      "    - '/usr/local/share/nltk_data'\n",
      "    - '/usr/lib/nltk_data'\n",
      "    - '/usr/local/lib/nltk_data'\n",
      "**********************************************************************\n",
      "\n",
      "2025-05-12 21:52:40,807 - __main__ - ERROR - Error computing ROUGE scores: \n",
      "2025-05-12 21:52:40,807 - __main__ - ERROR - Error computing Levenshtein similarity: object of type 'float' has no len()\n",
      "2025-05-12 21:52:40,808 - __main__ - ERROR - Error computing Jaccard similarity: \n",
      "**********************************************************************\n",
      "  Resource \u001b[93mpunkt_tab\u001b[0m not found.\n",
      "  Please use the NLTK Downloader to obtain the resource:\n",
      "\n",
      "  \u001b[31m>>> import nltk\n",
      "  >>> nltk.download('punkt_tab')\n",
      "  \u001b[0m\n",
      "  For more information see: https://www.nltk.org/data.html\n",
      "\n",
      "  Attempted to load \u001b[93mtokenizers/punkt_tab/english/\u001b[0m\n",
      "\n",
      "  Searched in:\n",
      "    - '/Users/bhargav/nltk_data'\n",
      "    - '/Library/Frameworks/Python.framework/Versions/3.13/nltk_data'\n",
      "    - '/Library/Frameworks/Python.framework/Versions/3.13/share/nltk_data'\n",
      "    - '/Library/Frameworks/Python.framework/Versions/3.13/lib/nltk_data'\n",
      "    - '/usr/share/nltk_data'\n",
      "    - '/usr/local/share/nltk_data'\n",
      "    - '/usr/lib/nltk_data'\n",
      "    - '/usr/local/lib/nltk_data'\n",
      "**********************************************************************\n",
      "\n"
     ]
    },
    {
     "data": {
      "application/vnd.jupyter.widget-view+json": {
       "model_id": "fee7107e38114e12a094e2d101eec524",
       "version_major": 2,
       "version_minor": 0
      },
      "text/plain": [
       "Batches:   0%|          | 0/1 [00:00<?, ?it/s]"
      ]
     },
     "metadata": {},
     "output_type": "display_data"
    },
    {
     "data": {
      "application/vnd.jupyter.widget-view+json": {
       "model_id": "d058c4b129844642908470b34bd24323",
       "version_major": 2,
       "version_minor": 0
      },
      "text/plain": [
       "Batches:   0%|          | 0/1 [00:00<?, ?it/s]"
      ]
     },
     "metadata": {},
     "output_type": "display_data"
    },
    {
     "name": "stderr",
     "output_type": "stream",
     "text": [
      "2025-05-12 21:52:40,843 - __main__ - ERROR - Error computing BERT similarity: 'float' object is not subscriptable\n",
      "2025-05-12 21:52:40,845 - __main__ - ERROR - Error computing BLEU score: \n",
      "**********************************************************************\n",
      "  Resource \u001b[93mpunkt_tab\u001b[0m not found.\n",
      "  Please use the NLTK Downloader to obtain the resource:\n",
      "\n",
      "  \u001b[31m>>> import nltk\n",
      "  >>> nltk.download('punkt_tab')\n",
      "  \u001b[0m\n",
      "  For more information see: https://www.nltk.org/data.html\n",
      "\n",
      "  Attempted to load \u001b[93mtokenizers/punkt_tab/english/\u001b[0m\n",
      "\n",
      "  Searched in:\n",
      "    - '/Users/bhargav/nltk_data'\n",
      "    - '/Library/Frameworks/Python.framework/Versions/3.13/nltk_data'\n",
      "    - '/Library/Frameworks/Python.framework/Versions/3.13/share/nltk_data'\n",
      "    - '/Library/Frameworks/Python.framework/Versions/3.13/lib/nltk_data'\n",
      "    - '/usr/share/nltk_data'\n",
      "    - '/usr/local/share/nltk_data'\n",
      "    - '/usr/lib/nltk_data'\n",
      "    - '/usr/local/lib/nltk_data'\n",
      "**********************************************************************\n",
      "\n",
      "2025-05-12 21:52:40,845 - __main__ - ERROR - Error computing ROUGE scores: \n",
      "2025-05-12 21:52:40,845 - __main__ - ERROR - Error computing Levenshtein similarity: object of type 'float' has no len()\n",
      "2025-05-12 21:52:40,846 - __main__ - ERROR - Error computing Jaccard similarity: \n",
      "**********************************************************************\n",
      "  Resource \u001b[93mpunkt_tab\u001b[0m not found.\n",
      "  Please use the NLTK Downloader to obtain the resource:\n",
      "\n",
      "  \u001b[31m>>> import nltk\n",
      "  >>> nltk.download('punkt_tab')\n",
      "  \u001b[0m\n",
      "  For more information see: https://www.nltk.org/data.html\n",
      "\n",
      "  Attempted to load \u001b[93mtokenizers/punkt_tab/english/\u001b[0m\n",
      "\n",
      "  Searched in:\n",
      "    - '/Users/bhargav/nltk_data'\n",
      "    - '/Library/Frameworks/Python.framework/Versions/3.13/nltk_data'\n",
      "    - '/Library/Frameworks/Python.framework/Versions/3.13/share/nltk_data'\n",
      "    - '/Library/Frameworks/Python.framework/Versions/3.13/lib/nltk_data'\n",
      "    - '/usr/share/nltk_data'\n",
      "    - '/usr/local/share/nltk_data'\n",
      "    - '/usr/lib/nltk_data'\n",
      "    - '/usr/local/lib/nltk_data'\n",
      "**********************************************************************\n",
      "\n"
     ]
    },
    {
     "data": {
      "application/vnd.jupyter.widget-view+json": {
       "model_id": "8a55e89a642a4b58b10b1b17194ab0e5",
       "version_major": 2,
       "version_minor": 0
      },
      "text/plain": [
       "Batches:   0%|          | 0/1 [00:00<?, ?it/s]"
      ]
     },
     "metadata": {},
     "output_type": "display_data"
    },
    {
     "data": {
      "application/vnd.jupyter.widget-view+json": {
       "model_id": "1bb0f830c8b74cf5af617994d1479450",
       "version_major": 2,
       "version_minor": 0
      },
      "text/plain": [
       "Batches:   0%|          | 0/1 [00:00<?, ?it/s]"
      ]
     },
     "metadata": {},
     "output_type": "display_data"
    },
    {
     "name": "stderr",
     "output_type": "stream",
     "text": [
      "2025-05-12 21:52:40,882 - __main__ - ERROR - Error computing BERT similarity: 'float' object is not subscriptable\n",
      "Computing mistral_similarities:  79%|███████▉  | 91/115 [00:06<00:01, 22.89it/s]2025-05-12 21:52:40,884 - __main__ - ERROR - Error computing BLEU score: \n",
      "**********************************************************************\n",
      "  Resource \u001b[93mpunkt_tab\u001b[0m not found.\n",
      "  Please use the NLTK Downloader to obtain the resource:\n",
      "\n",
      "  \u001b[31m>>> import nltk\n",
      "  >>> nltk.download('punkt_tab')\n",
      "  \u001b[0m\n",
      "  For more information see: https://www.nltk.org/data.html\n",
      "\n",
      "  Attempted to load \u001b[93mtokenizers/punkt_tab/english/\u001b[0m\n",
      "\n",
      "  Searched in:\n",
      "    - '/Users/bhargav/nltk_data'\n",
      "    - '/Library/Frameworks/Python.framework/Versions/3.13/nltk_data'\n",
      "    - '/Library/Frameworks/Python.framework/Versions/3.13/share/nltk_data'\n",
      "    - '/Library/Frameworks/Python.framework/Versions/3.13/lib/nltk_data'\n",
      "    - '/usr/share/nltk_data'\n",
      "    - '/usr/local/share/nltk_data'\n",
      "    - '/usr/lib/nltk_data'\n",
      "    - '/usr/local/lib/nltk_data'\n",
      "**********************************************************************\n",
      "\n",
      "2025-05-12 21:52:40,884 - __main__ - ERROR - Error computing ROUGE scores: \n",
      "2025-05-12 21:52:40,884 - __main__ - ERROR - Error computing Levenshtein similarity: object of type 'float' has no len()\n",
      "2025-05-12 21:52:40,885 - __main__ - ERROR - Error computing Jaccard similarity: \n",
      "**********************************************************************\n",
      "  Resource \u001b[93mpunkt_tab\u001b[0m not found.\n",
      "  Please use the NLTK Downloader to obtain the resource:\n",
      "\n",
      "  \u001b[31m>>> import nltk\n",
      "  >>> nltk.download('punkt_tab')\n",
      "  \u001b[0m\n",
      "  For more information see: https://www.nltk.org/data.html\n",
      "\n",
      "  Attempted to load \u001b[93mtokenizers/punkt_tab/english/\u001b[0m\n",
      "\n",
      "  Searched in:\n",
      "    - '/Users/bhargav/nltk_data'\n",
      "    - '/Library/Frameworks/Python.framework/Versions/3.13/nltk_data'\n",
      "    - '/Library/Frameworks/Python.framework/Versions/3.13/share/nltk_data'\n",
      "    - '/Library/Frameworks/Python.framework/Versions/3.13/lib/nltk_data'\n",
      "    - '/usr/share/nltk_data'\n",
      "    - '/usr/local/share/nltk_data'\n",
      "    - '/usr/lib/nltk_data'\n",
      "    - '/usr/local/lib/nltk_data'\n",
      "**********************************************************************\n",
      "\n"
     ]
    },
    {
     "data": {
      "application/vnd.jupyter.widget-view+json": {
       "model_id": "b1a97c6036354c42a78094eb484224a1",
       "version_major": 2,
       "version_minor": 0
      },
      "text/plain": [
       "Batches:   0%|          | 0/1 [00:00<?, ?it/s]"
      ]
     },
     "metadata": {},
     "output_type": "display_data"
    },
    {
     "data": {
      "application/vnd.jupyter.widget-view+json": {
       "model_id": "14572cc248e64d339ff4a545f319495d",
       "version_major": 2,
       "version_minor": 0
      },
      "text/plain": [
       "Batches:   0%|          | 0/1 [00:00<?, ?it/s]"
      ]
     },
     "metadata": {},
     "output_type": "display_data"
    },
    {
     "name": "stderr",
     "output_type": "stream",
     "text": [
      "2025-05-12 21:52:40,897 - __main__ - ERROR - Error computing BERT similarity: 'float' object is not subscriptable\n",
      "2025-05-12 21:52:40,898 - __main__ - ERROR - Error computing BLEU score: \n",
      "**********************************************************************\n",
      "  Resource \u001b[93mpunkt_tab\u001b[0m not found.\n",
      "  Please use the NLTK Downloader to obtain the resource:\n",
      "\n",
      "  \u001b[31m>>> import nltk\n",
      "  >>> nltk.download('punkt_tab')\n",
      "  \u001b[0m\n",
      "  For more information see: https://www.nltk.org/data.html\n",
      "\n",
      "  Attempted to load \u001b[93mtokenizers/punkt_tab/english/\u001b[0m\n",
      "\n",
      "  Searched in:\n",
      "    - '/Users/bhargav/nltk_data'\n",
      "    - '/Library/Frameworks/Python.framework/Versions/3.13/nltk_data'\n",
      "    - '/Library/Frameworks/Python.framework/Versions/3.13/share/nltk_data'\n",
      "    - '/Library/Frameworks/Python.framework/Versions/3.13/lib/nltk_data'\n",
      "    - '/usr/share/nltk_data'\n",
      "    - '/usr/local/share/nltk_data'\n",
      "    - '/usr/lib/nltk_data'\n",
      "    - '/usr/local/lib/nltk_data'\n",
      "**********************************************************************\n",
      "\n",
      "2025-05-12 21:52:40,898 - __main__ - ERROR - Error computing ROUGE scores: \n",
      "2025-05-12 21:52:40,898 - __main__ - ERROR - Error computing Levenshtein similarity: object of type 'float' has no len()\n",
      "2025-05-12 21:52:40,899 - __main__ - ERROR - Error computing Jaccard similarity: \n",
      "**********************************************************************\n",
      "  Resource \u001b[93mpunkt_tab\u001b[0m not found.\n",
      "  Please use the NLTK Downloader to obtain the resource:\n",
      "\n",
      "  \u001b[31m>>> import nltk\n",
      "  >>> nltk.download('punkt_tab')\n",
      "  \u001b[0m\n",
      "  For more information see: https://www.nltk.org/data.html\n",
      "\n",
      "  Attempted to load \u001b[93mtokenizers/punkt_tab/english/\u001b[0m\n",
      "\n",
      "  Searched in:\n",
      "    - '/Users/bhargav/nltk_data'\n",
      "    - '/Library/Frameworks/Python.framework/Versions/3.13/nltk_data'\n",
      "    - '/Library/Frameworks/Python.framework/Versions/3.13/share/nltk_data'\n",
      "    - '/Library/Frameworks/Python.framework/Versions/3.13/lib/nltk_data'\n",
      "    - '/usr/share/nltk_data'\n",
      "    - '/usr/local/share/nltk_data'\n",
      "    - '/usr/lib/nltk_data'\n",
      "    - '/usr/local/lib/nltk_data'\n",
      "**********************************************************************\n",
      "\n"
     ]
    },
    {
     "data": {
      "application/vnd.jupyter.widget-view+json": {
       "model_id": "d3e592c0511046e9ad49bffffb34044c",
       "version_major": 2,
       "version_minor": 0
      },
      "text/plain": [
       "Batches:   0%|          | 0/1 [00:00<?, ?it/s]"
      ]
     },
     "metadata": {},
     "output_type": "display_data"
    },
    {
     "data": {
      "application/vnd.jupyter.widget-view+json": {
       "model_id": "434622d6dc014b94ae2792efb87e0a74",
       "version_major": 2,
       "version_minor": 0
      },
      "text/plain": [
       "Batches:   0%|          | 0/1 [00:00<?, ?it/s]"
      ]
     },
     "metadata": {},
     "output_type": "display_data"
    },
    {
     "name": "stderr",
     "output_type": "stream",
     "text": [
      "2025-05-12 21:52:40,910 - __main__ - ERROR - Error computing BERT similarity: 'float' object is not subscriptable\n",
      "2025-05-12 21:52:40,911 - __main__ - ERROR - Error computing BLEU score: \n",
      "**********************************************************************\n",
      "  Resource \u001b[93mpunkt_tab\u001b[0m not found.\n",
      "  Please use the NLTK Downloader to obtain the resource:\n",
      "\n",
      "  \u001b[31m>>> import nltk\n",
      "  >>> nltk.download('punkt_tab')\n",
      "  \u001b[0m\n",
      "  For more information see: https://www.nltk.org/data.html\n",
      "\n",
      "  Attempted to load \u001b[93mtokenizers/punkt_tab/english/\u001b[0m\n",
      "\n",
      "  Searched in:\n",
      "    - '/Users/bhargav/nltk_data'\n",
      "    - '/Library/Frameworks/Python.framework/Versions/3.13/nltk_data'\n",
      "    - '/Library/Frameworks/Python.framework/Versions/3.13/share/nltk_data'\n",
      "    - '/Library/Frameworks/Python.framework/Versions/3.13/lib/nltk_data'\n",
      "    - '/usr/share/nltk_data'\n",
      "    - '/usr/local/share/nltk_data'\n",
      "    - '/usr/lib/nltk_data'\n",
      "    - '/usr/local/lib/nltk_data'\n",
      "**********************************************************************\n",
      "\n",
      "2025-05-12 21:52:40,911 - __main__ - ERROR - Error computing ROUGE scores: \n",
      "2025-05-12 21:52:40,912 - __main__ - ERROR - Error computing Levenshtein similarity: object of type 'float' has no len()\n",
      "2025-05-12 21:52:40,912 - __main__ - ERROR - Error computing Jaccard similarity: \n",
      "**********************************************************************\n",
      "  Resource \u001b[93mpunkt_tab\u001b[0m not found.\n",
      "  Please use the NLTK Downloader to obtain the resource:\n",
      "\n",
      "  \u001b[31m>>> import nltk\n",
      "  >>> nltk.download('punkt_tab')\n",
      "  \u001b[0m\n",
      "  For more information see: https://www.nltk.org/data.html\n",
      "\n",
      "  Attempted to load \u001b[93mtokenizers/punkt_tab/english/\u001b[0m\n",
      "\n",
      "  Searched in:\n",
      "    - '/Users/bhargav/nltk_data'\n",
      "    - '/Library/Frameworks/Python.framework/Versions/3.13/nltk_data'\n",
      "    - '/Library/Frameworks/Python.framework/Versions/3.13/share/nltk_data'\n",
      "    - '/Library/Frameworks/Python.framework/Versions/3.13/lib/nltk_data'\n",
      "    - '/usr/share/nltk_data'\n",
      "    - '/usr/local/share/nltk_data'\n",
      "    - '/usr/lib/nltk_data'\n",
      "    - '/usr/local/lib/nltk_data'\n",
      "**********************************************************************\n",
      "\n"
     ]
    },
    {
     "data": {
      "application/vnd.jupyter.widget-view+json": {
       "model_id": "9ffe6b4c8f1b4e3686cc7581e2127737",
       "version_major": 2,
       "version_minor": 0
      },
      "text/plain": [
       "Batches:   0%|          | 0/1 [00:00<?, ?it/s]"
      ]
     },
     "metadata": {},
     "output_type": "display_data"
    },
    {
     "data": {
      "application/vnd.jupyter.widget-view+json": {
       "model_id": "3c7354b9dde742ee99ec873794d35b1f",
       "version_major": 2,
       "version_minor": 0
      },
      "text/plain": [
       "Batches:   0%|          | 0/1 [00:00<?, ?it/s]"
      ]
     },
     "metadata": {},
     "output_type": "display_data"
    },
    {
     "name": "stderr",
     "output_type": "stream",
     "text": [
      "2025-05-12 21:52:40,950 - __main__ - ERROR - Error computing BERT similarity: 'float' object is not subscriptable\n",
      "2025-05-12 21:52:40,951 - __main__ - ERROR - Error computing BLEU score: \n",
      "**********************************************************************\n",
      "  Resource \u001b[93mpunkt_tab\u001b[0m not found.\n",
      "  Please use the NLTK Downloader to obtain the resource:\n",
      "\n",
      "  \u001b[31m>>> import nltk\n",
      "  >>> nltk.download('punkt_tab')\n",
      "  \u001b[0m\n",
      "  For more information see: https://www.nltk.org/data.html\n",
      "\n",
      "  Attempted to load \u001b[93mtokenizers/punkt_tab/english/\u001b[0m\n",
      "\n",
      "  Searched in:\n",
      "    - '/Users/bhargav/nltk_data'\n",
      "    - '/Library/Frameworks/Python.framework/Versions/3.13/nltk_data'\n",
      "    - '/Library/Frameworks/Python.framework/Versions/3.13/share/nltk_data'\n",
      "    - '/Library/Frameworks/Python.framework/Versions/3.13/lib/nltk_data'\n",
      "    - '/usr/share/nltk_data'\n",
      "    - '/usr/local/share/nltk_data'\n",
      "    - '/usr/lib/nltk_data'\n",
      "    - '/usr/local/lib/nltk_data'\n",
      "**********************************************************************\n",
      "\n",
      "2025-05-12 21:52:40,951 - __main__ - ERROR - Error computing ROUGE scores: \n",
      "2025-05-12 21:52:40,952 - __main__ - ERROR - Error computing Levenshtein similarity: object of type 'float' has no len()\n",
      "2025-05-12 21:52:40,952 - __main__ - ERROR - Error computing Jaccard similarity: \n",
      "**********************************************************************\n",
      "  Resource \u001b[93mpunkt_tab\u001b[0m not found.\n",
      "  Please use the NLTK Downloader to obtain the resource:\n",
      "\n",
      "  \u001b[31m>>> import nltk\n",
      "  >>> nltk.download('punkt_tab')\n",
      "  \u001b[0m\n",
      "  For more information see: https://www.nltk.org/data.html\n",
      "\n",
      "  Attempted to load \u001b[93mtokenizers/punkt_tab/english/\u001b[0m\n",
      "\n",
      "  Searched in:\n",
      "    - '/Users/bhargav/nltk_data'\n",
      "    - '/Library/Frameworks/Python.framework/Versions/3.13/nltk_data'\n",
      "    - '/Library/Frameworks/Python.framework/Versions/3.13/share/nltk_data'\n",
      "    - '/Library/Frameworks/Python.framework/Versions/3.13/lib/nltk_data'\n",
      "    - '/usr/share/nltk_data'\n",
      "    - '/usr/local/share/nltk_data'\n",
      "    - '/usr/lib/nltk_data'\n",
      "    - '/usr/local/lib/nltk_data'\n",
      "**********************************************************************\n",
      "\n"
     ]
    },
    {
     "data": {
      "application/vnd.jupyter.widget-view+json": {
       "model_id": "0e71e4f89b3c4db693b60fb55ff4df66",
       "version_major": 2,
       "version_minor": 0
      },
      "text/plain": [
       "Batches:   0%|          | 0/1 [00:00<?, ?it/s]"
      ]
     },
     "metadata": {},
     "output_type": "display_data"
    },
    {
     "data": {
      "application/vnd.jupyter.widget-view+json": {
       "model_id": "336f446589874c97b09f36bc81bbf69f",
       "version_major": 2,
       "version_minor": 0
      },
      "text/plain": [
       "Batches:   0%|          | 0/1 [00:00<?, ?it/s]"
      ]
     },
     "metadata": {},
     "output_type": "display_data"
    },
    {
     "name": "stderr",
     "output_type": "stream",
     "text": [
      "2025-05-12 21:52:40,964 - __main__ - ERROR - Error computing BERT similarity: 'float' object is not subscriptable\n",
      "2025-05-12 21:52:40,965 - __main__ - ERROR - Error computing BLEU score: \n",
      "**********************************************************************\n",
      "  Resource \u001b[93mpunkt_tab\u001b[0m not found.\n",
      "  Please use the NLTK Downloader to obtain the resource:\n",
      "\n",
      "  \u001b[31m>>> import nltk\n",
      "  >>> nltk.download('punkt_tab')\n",
      "  \u001b[0m\n",
      "  For more information see: https://www.nltk.org/data.html\n",
      "\n",
      "  Attempted to load \u001b[93mtokenizers/punkt_tab/english/\u001b[0m\n",
      "\n",
      "  Searched in:\n",
      "    - '/Users/bhargav/nltk_data'\n",
      "    - '/Library/Frameworks/Python.framework/Versions/3.13/nltk_data'\n",
      "    - '/Library/Frameworks/Python.framework/Versions/3.13/share/nltk_data'\n",
      "    - '/Library/Frameworks/Python.framework/Versions/3.13/lib/nltk_data'\n",
      "    - '/usr/share/nltk_data'\n",
      "    - '/usr/local/share/nltk_data'\n",
      "    - '/usr/lib/nltk_data'\n",
      "    - '/usr/local/lib/nltk_data'\n",
      "**********************************************************************\n",
      "\n",
      "2025-05-12 21:52:40,965 - __main__ - ERROR - Error computing ROUGE scores: \n",
      "2025-05-12 21:52:40,965 - __main__ - ERROR - Error computing Levenshtein similarity: object of type 'float' has no len()\n",
      "2025-05-12 21:52:40,966 - __main__ - ERROR - Error computing Jaccard similarity: \n",
      "**********************************************************************\n",
      "  Resource \u001b[93mpunkt_tab\u001b[0m not found.\n",
      "  Please use the NLTK Downloader to obtain the resource:\n",
      "\n",
      "  \u001b[31m>>> import nltk\n",
      "  >>> nltk.download('punkt_tab')\n",
      "  \u001b[0m\n",
      "  For more information see: https://www.nltk.org/data.html\n",
      "\n",
      "  Attempted to load \u001b[93mtokenizers/punkt_tab/english/\u001b[0m\n",
      "\n",
      "  Searched in:\n",
      "    - '/Users/bhargav/nltk_data'\n",
      "    - '/Library/Frameworks/Python.framework/Versions/3.13/nltk_data'\n",
      "    - '/Library/Frameworks/Python.framework/Versions/3.13/share/nltk_data'\n",
      "    - '/Library/Frameworks/Python.framework/Versions/3.13/lib/nltk_data'\n",
      "    - '/usr/share/nltk_data'\n",
      "    - '/usr/local/share/nltk_data'\n",
      "    - '/usr/lib/nltk_data'\n",
      "    - '/usr/local/lib/nltk_data'\n",
      "**********************************************************************\n",
      "\n"
     ]
    },
    {
     "data": {
      "application/vnd.jupyter.widget-view+json": {
       "model_id": "2de89587693146c785308598d341a0ab",
       "version_major": 2,
       "version_minor": 0
      },
      "text/plain": [
       "Batches:   0%|          | 0/1 [00:00<?, ?it/s]"
      ]
     },
     "metadata": {},
     "output_type": "display_data"
    },
    {
     "data": {
      "application/vnd.jupyter.widget-view+json": {
       "model_id": "514d28d17e8b4bf0ad2459c1cc50cab3",
       "version_major": 2,
       "version_minor": 0
      },
      "text/plain": [
       "Batches:   0%|          | 0/1 [00:00<?, ?it/s]"
      ]
     },
     "metadata": {},
     "output_type": "display_data"
    },
    {
     "name": "stderr",
     "output_type": "stream",
     "text": [
      "2025-05-12 21:52:40,978 - __main__ - ERROR - Error computing BERT similarity: 'float' object is not subscriptable\n",
      "2025-05-12 21:52:40,979 - __main__ - ERROR - Error computing BLEU score: \n",
      "**********************************************************************\n",
      "  Resource \u001b[93mpunkt_tab\u001b[0m not found.\n",
      "  Please use the NLTK Downloader to obtain the resource:\n",
      "\n",
      "  \u001b[31m>>> import nltk\n",
      "  >>> nltk.download('punkt_tab')\n",
      "  \u001b[0m\n",
      "  For more information see: https://www.nltk.org/data.html\n",
      "\n",
      "  Attempted to load \u001b[93mtokenizers/punkt_tab/english/\u001b[0m\n",
      "\n",
      "  Searched in:\n",
      "    - '/Users/bhargav/nltk_data'\n",
      "    - '/Library/Frameworks/Python.framework/Versions/3.13/nltk_data'\n",
      "    - '/Library/Frameworks/Python.framework/Versions/3.13/share/nltk_data'\n",
      "    - '/Library/Frameworks/Python.framework/Versions/3.13/lib/nltk_data'\n",
      "    - '/usr/share/nltk_data'\n",
      "    - '/usr/local/share/nltk_data'\n",
      "    - '/usr/lib/nltk_data'\n",
      "    - '/usr/local/lib/nltk_data'\n",
      "**********************************************************************\n",
      "\n",
      "2025-05-12 21:52:40,979 - __main__ - ERROR - Error computing ROUGE scores: \n",
      "2025-05-12 21:52:40,979 - __main__ - ERROR - Error computing Levenshtein similarity: object of type 'float' has no len()\n",
      "2025-05-12 21:52:40,980 - __main__ - ERROR - Error computing Jaccard similarity: \n",
      "**********************************************************************\n",
      "  Resource \u001b[93mpunkt_tab\u001b[0m not found.\n",
      "  Please use the NLTK Downloader to obtain the resource:\n",
      "\n",
      "  \u001b[31m>>> import nltk\n",
      "  >>> nltk.download('punkt_tab')\n",
      "  \u001b[0m\n",
      "  For more information see: https://www.nltk.org/data.html\n",
      "\n",
      "  Attempted to load \u001b[93mtokenizers/punkt_tab/english/\u001b[0m\n",
      "\n",
      "  Searched in:\n",
      "    - '/Users/bhargav/nltk_data'\n",
      "    - '/Library/Frameworks/Python.framework/Versions/3.13/nltk_data'\n",
      "    - '/Library/Frameworks/Python.framework/Versions/3.13/share/nltk_data'\n",
      "    - '/Library/Frameworks/Python.framework/Versions/3.13/lib/nltk_data'\n",
      "    - '/usr/share/nltk_data'\n",
      "    - '/usr/local/share/nltk_data'\n",
      "    - '/usr/lib/nltk_data'\n",
      "    - '/usr/local/lib/nltk_data'\n",
      "**********************************************************************\n",
      "\n"
     ]
    },
    {
     "data": {
      "application/vnd.jupyter.widget-view+json": {
       "model_id": "b2c05f6864694288b0c00251297f46bc",
       "version_major": 2,
       "version_minor": 0
      },
      "text/plain": [
       "Batches:   0%|          | 0/1 [00:00<?, ?it/s]"
      ]
     },
     "metadata": {},
     "output_type": "display_data"
    },
    {
     "data": {
      "application/vnd.jupyter.widget-view+json": {
       "model_id": "a8592037f2b54a429b8aa80abb174998",
       "version_major": 2,
       "version_minor": 0
      },
      "text/plain": [
       "Batches:   0%|          | 0/1 [00:00<?, ?it/s]"
      ]
     },
     "metadata": {},
     "output_type": "display_data"
    },
    {
     "name": "stderr",
     "output_type": "stream",
     "text": [
      "2025-05-12 21:52:41,018 - __main__ - ERROR - Error computing BERT similarity: 'float' object is not subscriptable\n",
      "Computing mistral_similarities:  84%|████████▍ | 97/115 [00:06<00:00, 28.73it/s]2025-05-12 21:52:41,020 - __main__ - ERROR - Error computing BLEU score: \n",
      "**********************************************************************\n",
      "  Resource \u001b[93mpunkt_tab\u001b[0m not found.\n",
      "  Please use the NLTK Downloader to obtain the resource:\n",
      "\n",
      "  \u001b[31m>>> import nltk\n",
      "  >>> nltk.download('punkt_tab')\n",
      "  \u001b[0m\n",
      "  For more information see: https://www.nltk.org/data.html\n",
      "\n",
      "  Attempted to load \u001b[93mtokenizers/punkt_tab/english/\u001b[0m\n",
      "\n",
      "  Searched in:\n",
      "    - '/Users/bhargav/nltk_data'\n",
      "    - '/Library/Frameworks/Python.framework/Versions/3.13/nltk_data'\n",
      "    - '/Library/Frameworks/Python.framework/Versions/3.13/share/nltk_data'\n",
      "    - '/Library/Frameworks/Python.framework/Versions/3.13/lib/nltk_data'\n",
      "    - '/usr/share/nltk_data'\n",
      "    - '/usr/local/share/nltk_data'\n",
      "    - '/usr/lib/nltk_data'\n",
      "    - '/usr/local/lib/nltk_data'\n",
      "**********************************************************************\n",
      "\n",
      "2025-05-12 21:52:41,020 - __main__ - ERROR - Error computing ROUGE scores: \n",
      "2025-05-12 21:52:41,020 - __main__ - ERROR - Error computing Levenshtein similarity: object of type 'float' has no len()\n",
      "2025-05-12 21:52:41,021 - __main__ - ERROR - Error computing Jaccard similarity: \n",
      "**********************************************************************\n",
      "  Resource \u001b[93mpunkt_tab\u001b[0m not found.\n",
      "  Please use the NLTK Downloader to obtain the resource:\n",
      "\n",
      "  \u001b[31m>>> import nltk\n",
      "  >>> nltk.download('punkt_tab')\n",
      "  \u001b[0m\n",
      "  For more information see: https://www.nltk.org/data.html\n",
      "\n",
      "  Attempted to load \u001b[93mtokenizers/punkt_tab/english/\u001b[0m\n",
      "\n",
      "  Searched in:\n",
      "    - '/Users/bhargav/nltk_data'\n",
      "    - '/Library/Frameworks/Python.framework/Versions/3.13/nltk_data'\n",
      "    - '/Library/Frameworks/Python.framework/Versions/3.13/share/nltk_data'\n",
      "    - '/Library/Frameworks/Python.framework/Versions/3.13/lib/nltk_data'\n",
      "    - '/usr/share/nltk_data'\n",
      "    - '/usr/local/share/nltk_data'\n",
      "    - '/usr/lib/nltk_data'\n",
      "    - '/usr/local/lib/nltk_data'\n",
      "**********************************************************************\n",
      "\n"
     ]
    },
    {
     "data": {
      "application/vnd.jupyter.widget-view+json": {
       "model_id": "2ea0964ac1be46989642b2563fc8c3d2",
       "version_major": 2,
       "version_minor": 0
      },
      "text/plain": [
       "Batches:   0%|          | 0/1 [00:00<?, ?it/s]"
      ]
     },
     "metadata": {},
     "output_type": "display_data"
    },
    {
     "data": {
      "application/vnd.jupyter.widget-view+json": {
       "model_id": "afc32461850e47ebb807509f26f84089",
       "version_major": 2,
       "version_minor": 0
      },
      "text/plain": [
       "Batches:   0%|          | 0/1 [00:00<?, ?it/s]"
      ]
     },
     "metadata": {},
     "output_type": "display_data"
    },
    {
     "name": "stderr",
     "output_type": "stream",
     "text": [
      "2025-05-12 21:52:41,035 - __main__ - ERROR - Error computing BERT similarity: 'float' object is not subscriptable\n",
      "2025-05-12 21:52:41,036 - __main__ - ERROR - Error computing BLEU score: \n",
      "**********************************************************************\n",
      "  Resource \u001b[93mpunkt_tab\u001b[0m not found.\n",
      "  Please use the NLTK Downloader to obtain the resource:\n",
      "\n",
      "  \u001b[31m>>> import nltk\n",
      "  >>> nltk.download('punkt_tab')\n",
      "  \u001b[0m\n",
      "  For more information see: https://www.nltk.org/data.html\n",
      "\n",
      "  Attempted to load \u001b[93mtokenizers/punkt_tab/english/\u001b[0m\n",
      "\n",
      "  Searched in:\n",
      "    - '/Users/bhargav/nltk_data'\n",
      "    - '/Library/Frameworks/Python.framework/Versions/3.13/nltk_data'\n",
      "    - '/Library/Frameworks/Python.framework/Versions/3.13/share/nltk_data'\n",
      "    - '/Library/Frameworks/Python.framework/Versions/3.13/lib/nltk_data'\n",
      "    - '/usr/share/nltk_data'\n",
      "    - '/usr/local/share/nltk_data'\n",
      "    - '/usr/lib/nltk_data'\n",
      "    - '/usr/local/lib/nltk_data'\n",
      "**********************************************************************\n",
      "\n",
      "2025-05-12 21:52:41,036 - __main__ - ERROR - Error computing ROUGE scores: \n",
      "2025-05-12 21:52:41,036 - __main__ - ERROR - Error computing Levenshtein similarity: object of type 'float' has no len()\n",
      "2025-05-12 21:52:41,038 - __main__ - ERROR - Error computing Jaccard similarity: \n",
      "**********************************************************************\n",
      "  Resource \u001b[93mpunkt_tab\u001b[0m not found.\n",
      "  Please use the NLTK Downloader to obtain the resource:\n",
      "\n",
      "  \u001b[31m>>> import nltk\n",
      "  >>> nltk.download('punkt_tab')\n",
      "  \u001b[0m\n",
      "  For more information see: https://www.nltk.org/data.html\n",
      "\n",
      "  Attempted to load \u001b[93mtokenizers/punkt_tab/english/\u001b[0m\n",
      "\n",
      "  Searched in:\n",
      "    - '/Users/bhargav/nltk_data'\n",
      "    - '/Library/Frameworks/Python.framework/Versions/3.13/nltk_data'\n",
      "    - '/Library/Frameworks/Python.framework/Versions/3.13/share/nltk_data'\n",
      "    - '/Library/Frameworks/Python.framework/Versions/3.13/lib/nltk_data'\n",
      "    - '/usr/share/nltk_data'\n",
      "    - '/usr/local/share/nltk_data'\n",
      "    - '/usr/lib/nltk_data'\n",
      "    - '/usr/local/lib/nltk_data'\n",
      "**********************************************************************\n",
      "\n"
     ]
    },
    {
     "data": {
      "application/vnd.jupyter.widget-view+json": {
       "model_id": "4834383b61c84a45a48b8e7c0852ed08",
       "version_major": 2,
       "version_minor": 0
      },
      "text/plain": [
       "Batches:   0%|          | 0/1 [00:00<?, ?it/s]"
      ]
     },
     "metadata": {},
     "output_type": "display_data"
    },
    {
     "data": {
      "application/vnd.jupyter.widget-view+json": {
       "model_id": "870dd754133b45cc83acb9cd1d223278",
       "version_major": 2,
       "version_minor": 0
      },
      "text/plain": [
       "Batches:   0%|          | 0/1 [00:00<?, ?it/s]"
      ]
     },
     "metadata": {},
     "output_type": "display_data"
    },
    {
     "name": "stderr",
     "output_type": "stream",
     "text": [
      "2025-05-12 21:52:41,050 - __main__ - ERROR - Error computing BERT similarity: 'float' object is not subscriptable\n",
      "2025-05-12 21:52:41,052 - __main__ - ERROR - Error computing BLEU score: \n",
      "**********************************************************************\n",
      "  Resource \u001b[93mpunkt_tab\u001b[0m not found.\n",
      "  Please use the NLTK Downloader to obtain the resource:\n",
      "\n",
      "  \u001b[31m>>> import nltk\n",
      "  >>> nltk.download('punkt_tab')\n",
      "  \u001b[0m\n",
      "  For more information see: https://www.nltk.org/data.html\n",
      "\n",
      "  Attempted to load \u001b[93mtokenizers/punkt_tab/english/\u001b[0m\n",
      "\n",
      "  Searched in:\n",
      "    - '/Users/bhargav/nltk_data'\n",
      "    - '/Library/Frameworks/Python.framework/Versions/3.13/nltk_data'\n",
      "    - '/Library/Frameworks/Python.framework/Versions/3.13/share/nltk_data'\n",
      "    - '/Library/Frameworks/Python.framework/Versions/3.13/lib/nltk_data'\n",
      "    - '/usr/share/nltk_data'\n",
      "    - '/usr/local/share/nltk_data'\n",
      "    - '/usr/lib/nltk_data'\n",
      "    - '/usr/local/lib/nltk_data'\n",
      "**********************************************************************\n",
      "\n",
      "2025-05-12 21:52:41,052 - __main__ - ERROR - Error computing ROUGE scores: \n",
      "2025-05-12 21:52:41,052 - __main__ - ERROR - Error computing Levenshtein similarity: object of type 'float' has no len()\n",
      "2025-05-12 21:52:41,053 - __main__ - ERROR - Error computing Jaccard similarity: \n",
      "**********************************************************************\n",
      "  Resource \u001b[93mpunkt_tab\u001b[0m not found.\n",
      "  Please use the NLTK Downloader to obtain the resource:\n",
      "\n",
      "  \u001b[31m>>> import nltk\n",
      "  >>> nltk.download('punkt_tab')\n",
      "  \u001b[0m\n",
      "  For more information see: https://www.nltk.org/data.html\n",
      "\n",
      "  Attempted to load \u001b[93mtokenizers/punkt_tab/english/\u001b[0m\n",
      "\n",
      "  Searched in:\n",
      "    - '/Users/bhargav/nltk_data'\n",
      "    - '/Library/Frameworks/Python.framework/Versions/3.13/nltk_data'\n",
      "    - '/Library/Frameworks/Python.framework/Versions/3.13/share/nltk_data'\n",
      "    - '/Library/Frameworks/Python.framework/Versions/3.13/lib/nltk_data'\n",
      "    - '/usr/share/nltk_data'\n",
      "    - '/usr/local/share/nltk_data'\n",
      "    - '/usr/lib/nltk_data'\n",
      "    - '/usr/local/lib/nltk_data'\n",
      "**********************************************************************\n",
      "\n"
     ]
    },
    {
     "data": {
      "application/vnd.jupyter.widget-view+json": {
       "model_id": "630df53178ee4be894e4bb03d21b5b98",
       "version_major": 2,
       "version_minor": 0
      },
      "text/plain": [
       "Batches:   0%|          | 0/1 [00:00<?, ?it/s]"
      ]
     },
     "metadata": {},
     "output_type": "display_data"
    },
    {
     "data": {
      "application/vnd.jupyter.widget-view+json": {
       "model_id": "6c4e9a2f3ba444658961f2852ef20e95",
       "version_major": 2,
       "version_minor": 0
      },
      "text/plain": [
       "Batches:   0%|          | 0/1 [00:00<?, ?it/s]"
      ]
     },
     "metadata": {},
     "output_type": "display_data"
    },
    {
     "name": "stderr",
     "output_type": "stream",
     "text": [
      "2025-05-12 21:52:41,095 - __main__ - ERROR - Error computing BERT similarity: 'float' object is not subscriptable\n",
      "2025-05-12 21:52:41,097 - __main__ - ERROR - Error computing BLEU score: \n",
      "**********************************************************************\n",
      "  Resource \u001b[93mpunkt_tab\u001b[0m not found.\n",
      "  Please use the NLTK Downloader to obtain the resource:\n",
      "\n",
      "  \u001b[31m>>> import nltk\n",
      "  >>> nltk.download('punkt_tab')\n",
      "  \u001b[0m\n",
      "  For more information see: https://www.nltk.org/data.html\n",
      "\n",
      "  Attempted to load \u001b[93mtokenizers/punkt_tab/english/\u001b[0m\n",
      "\n",
      "  Searched in:\n",
      "    - '/Users/bhargav/nltk_data'\n",
      "    - '/Library/Frameworks/Python.framework/Versions/3.13/nltk_data'\n",
      "    - '/Library/Frameworks/Python.framework/Versions/3.13/share/nltk_data'\n",
      "    - '/Library/Frameworks/Python.framework/Versions/3.13/lib/nltk_data'\n",
      "    - '/usr/share/nltk_data'\n",
      "    - '/usr/local/share/nltk_data'\n",
      "    - '/usr/lib/nltk_data'\n",
      "    - '/usr/local/lib/nltk_data'\n",
      "**********************************************************************\n",
      "\n",
      "2025-05-12 21:52:41,097 - __main__ - ERROR - Error computing ROUGE scores: \n",
      "2025-05-12 21:52:41,097 - __main__ - ERROR - Error computing Levenshtein similarity: object of type 'float' has no len()\n",
      "2025-05-12 21:52:41,098 - __main__ - ERROR - Error computing Jaccard similarity: \n",
      "**********************************************************************\n",
      "  Resource \u001b[93mpunkt_tab\u001b[0m not found.\n",
      "  Please use the NLTK Downloader to obtain the resource:\n",
      "\n",
      "  \u001b[31m>>> import nltk\n",
      "  >>> nltk.download('punkt_tab')\n",
      "  \u001b[0m\n",
      "  For more information see: https://www.nltk.org/data.html\n",
      "\n",
      "  Attempted to load \u001b[93mtokenizers/punkt_tab/english/\u001b[0m\n",
      "\n",
      "  Searched in:\n",
      "    - '/Users/bhargav/nltk_data'\n",
      "    - '/Library/Frameworks/Python.framework/Versions/3.13/nltk_data'\n",
      "    - '/Library/Frameworks/Python.framework/Versions/3.13/share/nltk_data'\n",
      "    - '/Library/Frameworks/Python.framework/Versions/3.13/lib/nltk_data'\n",
      "    - '/usr/share/nltk_data'\n",
      "    - '/usr/local/share/nltk_data'\n",
      "    - '/usr/lib/nltk_data'\n",
      "    - '/usr/local/lib/nltk_data'\n",
      "**********************************************************************\n",
      "\n"
     ]
    },
    {
     "data": {
      "application/vnd.jupyter.widget-view+json": {
       "model_id": "43d53f71a2db4acf9ce345fbea210dd6",
       "version_major": 2,
       "version_minor": 0
      },
      "text/plain": [
       "Batches:   0%|          | 0/1 [00:00<?, ?it/s]"
      ]
     },
     "metadata": {},
     "output_type": "display_data"
    },
    {
     "data": {
      "application/vnd.jupyter.widget-view+json": {
       "model_id": "5e78786c6efa48938cca0d7e4ccafbab",
       "version_major": 2,
       "version_minor": 0
      },
      "text/plain": [
       "Batches:   0%|          | 0/1 [00:00<?, ?it/s]"
      ]
     },
     "metadata": {},
     "output_type": "display_data"
    },
    {
     "name": "stderr",
     "output_type": "stream",
     "text": [
      "2025-05-12 21:52:41,110 - __main__ - ERROR - Error computing BERT similarity: 'float' object is not subscriptable\n",
      "2025-05-12 21:52:41,111 - __main__ - ERROR - Error computing BLEU score: \n",
      "**********************************************************************\n",
      "  Resource \u001b[93mpunkt_tab\u001b[0m not found.\n",
      "  Please use the NLTK Downloader to obtain the resource:\n",
      "\n",
      "  \u001b[31m>>> import nltk\n",
      "  >>> nltk.download('punkt_tab')\n",
      "  \u001b[0m\n",
      "  For more information see: https://www.nltk.org/data.html\n",
      "\n",
      "  Attempted to load \u001b[93mtokenizers/punkt_tab/english/\u001b[0m\n",
      "\n",
      "  Searched in:\n",
      "    - '/Users/bhargav/nltk_data'\n",
      "    - '/Library/Frameworks/Python.framework/Versions/3.13/nltk_data'\n",
      "    - '/Library/Frameworks/Python.framework/Versions/3.13/share/nltk_data'\n",
      "    - '/Library/Frameworks/Python.framework/Versions/3.13/lib/nltk_data'\n",
      "    - '/usr/share/nltk_data'\n",
      "    - '/usr/local/share/nltk_data'\n",
      "    - '/usr/lib/nltk_data'\n",
      "    - '/usr/local/lib/nltk_data'\n",
      "**********************************************************************\n",
      "\n",
      "2025-05-12 21:52:41,112 - __main__ - ERROR - Error computing ROUGE scores: \n",
      "2025-05-12 21:52:41,112 - __main__ - ERROR - Error computing Levenshtein similarity: object of type 'float' has no len()\n",
      "2025-05-12 21:52:41,113 - __main__ - ERROR - Error computing Jaccard similarity: \n",
      "**********************************************************************\n",
      "  Resource \u001b[93mpunkt_tab\u001b[0m not found.\n",
      "  Please use the NLTK Downloader to obtain the resource:\n",
      "\n",
      "  \u001b[31m>>> import nltk\n",
      "  >>> nltk.download('punkt_tab')\n",
      "  \u001b[0m\n",
      "  For more information see: https://www.nltk.org/data.html\n",
      "\n",
      "  Attempted to load \u001b[93mtokenizers/punkt_tab/english/\u001b[0m\n",
      "\n",
      "  Searched in:\n",
      "    - '/Users/bhargav/nltk_data'\n",
      "    - '/Library/Frameworks/Python.framework/Versions/3.13/nltk_data'\n",
      "    - '/Library/Frameworks/Python.framework/Versions/3.13/share/nltk_data'\n",
      "    - '/Library/Frameworks/Python.framework/Versions/3.13/lib/nltk_data'\n",
      "    - '/usr/share/nltk_data'\n",
      "    - '/usr/local/share/nltk_data'\n",
      "    - '/usr/lib/nltk_data'\n",
      "    - '/usr/local/lib/nltk_data'\n",
      "**********************************************************************\n",
      "\n"
     ]
    },
    {
     "data": {
      "application/vnd.jupyter.widget-view+json": {
       "model_id": "31b58eba3b7840a7a033f59be9b17ce6",
       "version_major": 2,
       "version_minor": 0
      },
      "text/plain": [
       "Batches:   0%|          | 0/1 [00:00<?, ?it/s]"
      ]
     },
     "metadata": {},
     "output_type": "display_data"
    },
    {
     "data": {
      "application/vnd.jupyter.widget-view+json": {
       "model_id": "d009bc938cbb47e88c7a3319ee9a80df",
       "version_major": 2,
       "version_minor": 0
      },
      "text/plain": [
       "Batches:   0%|          | 0/1 [00:00<?, ?it/s]"
      ]
     },
     "metadata": {},
     "output_type": "display_data"
    },
    {
     "name": "stderr",
     "output_type": "stream",
     "text": [
      "2025-05-12 21:52:41,151 - __main__ - ERROR - Error computing BERT similarity: 'float' object is not subscriptable\n",
      "Computing mistral_similarities:  89%|███████▉ | 102/115 [00:06<00:00, 31.18it/s]2025-05-12 21:52:41,153 - __main__ - ERROR - Error computing BLEU score: \n",
      "**********************************************************************\n",
      "  Resource \u001b[93mpunkt_tab\u001b[0m not found.\n",
      "  Please use the NLTK Downloader to obtain the resource:\n",
      "\n",
      "  \u001b[31m>>> import nltk\n",
      "  >>> nltk.download('punkt_tab')\n",
      "  \u001b[0m\n",
      "  For more information see: https://www.nltk.org/data.html\n",
      "\n",
      "  Attempted to load \u001b[93mtokenizers/punkt_tab/english/\u001b[0m\n",
      "\n",
      "  Searched in:\n",
      "    - '/Users/bhargav/nltk_data'\n",
      "    - '/Library/Frameworks/Python.framework/Versions/3.13/nltk_data'\n",
      "    - '/Library/Frameworks/Python.framework/Versions/3.13/share/nltk_data'\n",
      "    - '/Library/Frameworks/Python.framework/Versions/3.13/lib/nltk_data'\n",
      "    - '/usr/share/nltk_data'\n",
      "    - '/usr/local/share/nltk_data'\n",
      "    - '/usr/lib/nltk_data'\n",
      "    - '/usr/local/lib/nltk_data'\n",
      "**********************************************************************\n",
      "\n",
      "2025-05-12 21:52:41,153 - __main__ - ERROR - Error computing ROUGE scores: \n",
      "2025-05-12 21:52:41,153 - __main__ - ERROR - Error computing Levenshtein similarity: object of type 'float' has no len()\n",
      "2025-05-12 21:52:41,154 - __main__ - ERROR - Error computing Jaccard similarity: \n",
      "**********************************************************************\n",
      "  Resource \u001b[93mpunkt_tab\u001b[0m not found.\n",
      "  Please use the NLTK Downloader to obtain the resource:\n",
      "\n",
      "  \u001b[31m>>> import nltk\n",
      "  >>> nltk.download('punkt_tab')\n",
      "  \u001b[0m\n",
      "  For more information see: https://www.nltk.org/data.html\n",
      "\n",
      "  Attempted to load \u001b[93mtokenizers/punkt_tab/english/\u001b[0m\n",
      "\n",
      "  Searched in:\n",
      "    - '/Users/bhargav/nltk_data'\n",
      "    - '/Library/Frameworks/Python.framework/Versions/3.13/nltk_data'\n",
      "    - '/Library/Frameworks/Python.framework/Versions/3.13/share/nltk_data'\n",
      "    - '/Library/Frameworks/Python.framework/Versions/3.13/lib/nltk_data'\n",
      "    - '/usr/share/nltk_data'\n",
      "    - '/usr/local/share/nltk_data'\n",
      "    - '/usr/lib/nltk_data'\n",
      "    - '/usr/local/lib/nltk_data'\n",
      "**********************************************************************\n",
      "\n"
     ]
    },
    {
     "data": {
      "application/vnd.jupyter.widget-view+json": {
       "model_id": "b6d1a4cec0164b69a30a73fc9278626b",
       "version_major": 2,
       "version_minor": 0
      },
      "text/plain": [
       "Batches:   0%|          | 0/1 [00:00<?, ?it/s]"
      ]
     },
     "metadata": {},
     "output_type": "display_data"
    },
    {
     "data": {
      "application/vnd.jupyter.widget-view+json": {
       "model_id": "e4c350499e6144acb70202b1caa2db1f",
       "version_major": 2,
       "version_minor": 0
      },
      "text/plain": [
       "Batches:   0%|          | 0/1 [00:00<?, ?it/s]"
      ]
     },
     "metadata": {},
     "output_type": "display_data"
    },
    {
     "name": "stderr",
     "output_type": "stream",
     "text": [
      "2025-05-12 21:52:41,192 - __main__ - ERROR - Error computing BERT similarity: 'float' object is not subscriptable\n",
      "2025-05-12 21:52:41,193 - __main__ - ERROR - Error computing BLEU score: \n",
      "**********************************************************************\n",
      "  Resource \u001b[93mpunkt_tab\u001b[0m not found.\n",
      "  Please use the NLTK Downloader to obtain the resource:\n",
      "\n",
      "  \u001b[31m>>> import nltk\n",
      "  >>> nltk.download('punkt_tab')\n",
      "  \u001b[0m\n",
      "  For more information see: https://www.nltk.org/data.html\n",
      "\n",
      "  Attempted to load \u001b[93mtokenizers/punkt_tab/english/\u001b[0m\n",
      "\n",
      "  Searched in:\n",
      "    - '/Users/bhargav/nltk_data'\n",
      "    - '/Library/Frameworks/Python.framework/Versions/3.13/nltk_data'\n",
      "    - '/Library/Frameworks/Python.framework/Versions/3.13/share/nltk_data'\n",
      "    - '/Library/Frameworks/Python.framework/Versions/3.13/lib/nltk_data'\n",
      "    - '/usr/share/nltk_data'\n",
      "    - '/usr/local/share/nltk_data'\n",
      "    - '/usr/lib/nltk_data'\n",
      "    - '/usr/local/lib/nltk_data'\n",
      "**********************************************************************\n",
      "\n",
      "2025-05-12 21:52:41,193 - __main__ - ERROR - Error computing ROUGE scores: \n",
      "2025-05-12 21:52:41,193 - __main__ - ERROR - Error computing Levenshtein similarity: object of type 'float' has no len()\n",
      "2025-05-12 21:52:41,194 - __main__ - ERROR - Error computing Jaccard similarity: \n",
      "**********************************************************************\n",
      "  Resource \u001b[93mpunkt_tab\u001b[0m not found.\n",
      "  Please use the NLTK Downloader to obtain the resource:\n",
      "\n",
      "  \u001b[31m>>> import nltk\n",
      "  >>> nltk.download('punkt_tab')\n",
      "  \u001b[0m\n",
      "  For more information see: https://www.nltk.org/data.html\n",
      "\n",
      "  Attempted to load \u001b[93mtokenizers/punkt_tab/english/\u001b[0m\n",
      "\n",
      "  Searched in:\n",
      "    - '/Users/bhargav/nltk_data'\n",
      "    - '/Library/Frameworks/Python.framework/Versions/3.13/nltk_data'\n",
      "    - '/Library/Frameworks/Python.framework/Versions/3.13/share/nltk_data'\n",
      "    - '/Library/Frameworks/Python.framework/Versions/3.13/lib/nltk_data'\n",
      "    - '/usr/share/nltk_data'\n",
      "    - '/usr/local/share/nltk_data'\n",
      "    - '/usr/lib/nltk_data'\n",
      "    - '/usr/local/lib/nltk_data'\n",
      "**********************************************************************\n",
      "\n"
     ]
    },
    {
     "data": {
      "application/vnd.jupyter.widget-view+json": {
       "model_id": "41cc2d2ee1cf4e0ab3c503e9d7eb1d73",
       "version_major": 2,
       "version_minor": 0
      },
      "text/plain": [
       "Batches:   0%|          | 0/1 [00:00<?, ?it/s]"
      ]
     },
     "metadata": {},
     "output_type": "display_data"
    },
    {
     "data": {
      "application/vnd.jupyter.widget-view+json": {
       "model_id": "188ba78bd88b4aefa6a64eac612d809e",
       "version_major": 2,
       "version_minor": 0
      },
      "text/plain": [
       "Batches:   0%|          | 0/1 [00:00<?, ?it/s]"
      ]
     },
     "metadata": {},
     "output_type": "display_data"
    },
    {
     "name": "stderr",
     "output_type": "stream",
     "text": [
      "2025-05-12 21:52:41,207 - __main__ - ERROR - Error computing BERT similarity: 'float' object is not subscriptable\n",
      "2025-05-12 21:52:41,209 - __main__ - ERROR - Error computing BLEU score: \n",
      "**********************************************************************\n",
      "  Resource \u001b[93mpunkt_tab\u001b[0m not found.\n",
      "  Please use the NLTK Downloader to obtain the resource:\n",
      "\n",
      "  \u001b[31m>>> import nltk\n",
      "  >>> nltk.download('punkt_tab')\n",
      "  \u001b[0m\n",
      "  For more information see: https://www.nltk.org/data.html\n",
      "\n",
      "  Attempted to load \u001b[93mtokenizers/punkt_tab/english/\u001b[0m\n",
      "\n",
      "  Searched in:\n",
      "    - '/Users/bhargav/nltk_data'\n",
      "    - '/Library/Frameworks/Python.framework/Versions/3.13/nltk_data'\n",
      "    - '/Library/Frameworks/Python.framework/Versions/3.13/share/nltk_data'\n",
      "    - '/Library/Frameworks/Python.framework/Versions/3.13/lib/nltk_data'\n",
      "    - '/usr/share/nltk_data'\n",
      "    - '/usr/local/share/nltk_data'\n",
      "    - '/usr/lib/nltk_data'\n",
      "    - '/usr/local/lib/nltk_data'\n",
      "**********************************************************************\n",
      "\n",
      "2025-05-12 21:52:41,209 - __main__ - ERROR - Error computing ROUGE scores: \n",
      "2025-05-12 21:52:41,209 - __main__ - ERROR - Error computing Levenshtein similarity: object of type 'float' has no len()\n",
      "2025-05-12 21:52:41,210 - __main__ - ERROR - Error computing Jaccard similarity: \n",
      "**********************************************************************\n",
      "  Resource \u001b[93mpunkt_tab\u001b[0m not found.\n",
      "  Please use the NLTK Downloader to obtain the resource:\n",
      "\n",
      "  \u001b[31m>>> import nltk\n",
      "  >>> nltk.download('punkt_tab')\n",
      "  \u001b[0m\n",
      "  For more information see: https://www.nltk.org/data.html\n",
      "\n",
      "  Attempted to load \u001b[93mtokenizers/punkt_tab/english/\u001b[0m\n",
      "\n",
      "  Searched in:\n",
      "    - '/Users/bhargav/nltk_data'\n",
      "    - '/Library/Frameworks/Python.framework/Versions/3.13/nltk_data'\n",
      "    - '/Library/Frameworks/Python.framework/Versions/3.13/share/nltk_data'\n",
      "    - '/Library/Frameworks/Python.framework/Versions/3.13/lib/nltk_data'\n",
      "    - '/usr/share/nltk_data'\n",
      "    - '/usr/local/share/nltk_data'\n",
      "    - '/usr/lib/nltk_data'\n",
      "    - '/usr/local/lib/nltk_data'\n",
      "**********************************************************************\n",
      "\n"
     ]
    },
    {
     "data": {
      "application/vnd.jupyter.widget-view+json": {
       "model_id": "709930661e4647fab92c955497265aff",
       "version_major": 2,
       "version_minor": 0
      },
      "text/plain": [
       "Batches:   0%|          | 0/1 [00:00<?, ?it/s]"
      ]
     },
     "metadata": {},
     "output_type": "display_data"
    },
    {
     "data": {
      "application/vnd.jupyter.widget-view+json": {
       "model_id": "8d453a68d79c4b4889c96cf492498aba",
       "version_major": 2,
       "version_minor": 0
      },
      "text/plain": [
       "Batches:   0%|          | 0/1 [00:00<?, ?it/s]"
      ]
     },
     "metadata": {},
     "output_type": "display_data"
    },
    {
     "name": "stderr",
     "output_type": "stream",
     "text": [
      "2025-05-12 21:52:41,220 - __main__ - ERROR - Error computing BERT similarity: 'float' object is not subscriptable\n",
      "2025-05-12 21:52:41,221 - __main__ - ERROR - Error computing BLEU score: \n",
      "**********************************************************************\n",
      "  Resource \u001b[93mpunkt_tab\u001b[0m not found.\n",
      "  Please use the NLTK Downloader to obtain the resource:\n",
      "\n",
      "  \u001b[31m>>> import nltk\n",
      "  >>> nltk.download('punkt_tab')\n",
      "  \u001b[0m\n",
      "  For more information see: https://www.nltk.org/data.html\n",
      "\n",
      "  Attempted to load \u001b[93mtokenizers/punkt_tab/english/\u001b[0m\n",
      "\n",
      "  Searched in:\n",
      "    - '/Users/bhargav/nltk_data'\n",
      "    - '/Library/Frameworks/Python.framework/Versions/3.13/nltk_data'\n",
      "    - '/Library/Frameworks/Python.framework/Versions/3.13/share/nltk_data'\n",
      "    - '/Library/Frameworks/Python.framework/Versions/3.13/lib/nltk_data'\n",
      "    - '/usr/share/nltk_data'\n",
      "    - '/usr/local/share/nltk_data'\n",
      "    - '/usr/lib/nltk_data'\n",
      "    - '/usr/local/lib/nltk_data'\n",
      "**********************************************************************\n",
      "\n",
      "2025-05-12 21:52:41,221 - __main__ - ERROR - Error computing ROUGE scores: \n",
      "2025-05-12 21:52:41,222 - __main__ - ERROR - Error computing Levenshtein similarity: object of type 'float' has no len()\n",
      "2025-05-12 21:52:41,222 - __main__ - ERROR - Error computing Jaccard similarity: \n",
      "**********************************************************************\n",
      "  Resource \u001b[93mpunkt_tab\u001b[0m not found.\n",
      "  Please use the NLTK Downloader to obtain the resource:\n",
      "\n",
      "  \u001b[31m>>> import nltk\n",
      "  >>> nltk.download('punkt_tab')\n",
      "  \u001b[0m\n",
      "  For more information see: https://www.nltk.org/data.html\n",
      "\n",
      "  Attempted to load \u001b[93mtokenizers/punkt_tab/english/\u001b[0m\n",
      "\n",
      "  Searched in:\n",
      "    - '/Users/bhargav/nltk_data'\n",
      "    - '/Library/Frameworks/Python.framework/Versions/3.13/nltk_data'\n",
      "    - '/Library/Frameworks/Python.framework/Versions/3.13/share/nltk_data'\n",
      "    - '/Library/Frameworks/Python.framework/Versions/3.13/lib/nltk_data'\n",
      "    - '/usr/share/nltk_data'\n",
      "    - '/usr/local/share/nltk_data'\n",
      "    - '/usr/lib/nltk_data'\n",
      "    - '/usr/local/lib/nltk_data'\n",
      "**********************************************************************\n",
      "\n"
     ]
    },
    {
     "data": {
      "application/vnd.jupyter.widget-view+json": {
       "model_id": "0e62374da1954c009a0fc2b8f78a6ddd",
       "version_major": 2,
       "version_minor": 0
      },
      "text/plain": [
       "Batches:   0%|          | 0/1 [00:00<?, ?it/s]"
      ]
     },
     "metadata": {},
     "output_type": "display_data"
    },
    {
     "data": {
      "application/vnd.jupyter.widget-view+json": {
       "model_id": "2d823dfee888498699c558dd21f6d18c",
       "version_major": 2,
       "version_minor": 0
      },
      "text/plain": [
       "Batches:   0%|          | 0/1 [00:00<?, ?it/s]"
      ]
     },
     "metadata": {},
     "output_type": "display_data"
    },
    {
     "name": "stderr",
     "output_type": "stream",
     "text": [
      "2025-05-12 21:52:41,263 - __main__ - ERROR - Error computing BERT similarity: 'float' object is not subscriptable\n",
      "Computing mistral_similarities:  92%|████████▎| 106/115 [00:07<00:00, 32.35it/s]2025-05-12 21:52:41,264 - __main__ - ERROR - Error computing BLEU score: \n",
      "**********************************************************************\n",
      "  Resource \u001b[93mpunkt_tab\u001b[0m not found.\n",
      "  Please use the NLTK Downloader to obtain the resource:\n",
      "\n",
      "  \u001b[31m>>> import nltk\n",
      "  >>> nltk.download('punkt_tab')\n",
      "  \u001b[0m\n",
      "  For more information see: https://www.nltk.org/data.html\n",
      "\n",
      "  Attempted to load \u001b[93mtokenizers/punkt_tab/english/\u001b[0m\n",
      "\n",
      "  Searched in:\n",
      "    - '/Users/bhargav/nltk_data'\n",
      "    - '/Library/Frameworks/Python.framework/Versions/3.13/nltk_data'\n",
      "    - '/Library/Frameworks/Python.framework/Versions/3.13/share/nltk_data'\n",
      "    - '/Library/Frameworks/Python.framework/Versions/3.13/lib/nltk_data'\n",
      "    - '/usr/share/nltk_data'\n",
      "    - '/usr/local/share/nltk_data'\n",
      "    - '/usr/lib/nltk_data'\n",
      "    - '/usr/local/lib/nltk_data'\n",
      "**********************************************************************\n",
      "\n",
      "2025-05-12 21:52:41,265 - __main__ - ERROR - Error computing ROUGE scores: \n",
      "2025-05-12 21:52:41,265 - __main__ - ERROR - Error computing Levenshtein similarity: object of type 'float' has no len()\n",
      "2025-05-12 21:52:41,266 - __main__ - ERROR - Error computing Jaccard similarity: \n",
      "**********************************************************************\n",
      "  Resource \u001b[93mpunkt_tab\u001b[0m not found.\n",
      "  Please use the NLTK Downloader to obtain the resource:\n",
      "\n",
      "  \u001b[31m>>> import nltk\n",
      "  >>> nltk.download('punkt_tab')\n",
      "  \u001b[0m\n",
      "  For more information see: https://www.nltk.org/data.html\n",
      "\n",
      "  Attempted to load \u001b[93mtokenizers/punkt_tab/english/\u001b[0m\n",
      "\n",
      "  Searched in:\n",
      "    - '/Users/bhargav/nltk_data'\n",
      "    - '/Library/Frameworks/Python.framework/Versions/3.13/nltk_data'\n",
      "    - '/Library/Frameworks/Python.framework/Versions/3.13/share/nltk_data'\n",
      "    - '/Library/Frameworks/Python.framework/Versions/3.13/lib/nltk_data'\n",
      "    - '/usr/share/nltk_data'\n",
      "    - '/usr/local/share/nltk_data'\n",
      "    - '/usr/lib/nltk_data'\n",
      "    - '/usr/local/lib/nltk_data'\n",
      "**********************************************************************\n",
      "\n"
     ]
    },
    {
     "data": {
      "application/vnd.jupyter.widget-view+json": {
       "model_id": "47213bd1d82a427fa277665f2357f07c",
       "version_major": 2,
       "version_minor": 0
      },
      "text/plain": [
       "Batches:   0%|          | 0/1 [00:00<?, ?it/s]"
      ]
     },
     "metadata": {},
     "output_type": "display_data"
    },
    {
     "data": {
      "application/vnd.jupyter.widget-view+json": {
       "model_id": "d110728780ab47cd85f9c917bab357e3",
       "version_major": 2,
       "version_minor": 0
      },
      "text/plain": [
       "Batches:   0%|          | 0/1 [00:00<?, ?it/s]"
      ]
     },
     "metadata": {},
     "output_type": "display_data"
    },
    {
     "name": "stderr",
     "output_type": "stream",
     "text": [
      "2025-05-12 21:52:41,278 - __main__ - ERROR - Error computing BERT similarity: 'float' object is not subscriptable\n",
      "2025-05-12 21:52:41,279 - __main__ - ERROR - Error computing BLEU score: \n",
      "**********************************************************************\n",
      "  Resource \u001b[93mpunkt_tab\u001b[0m not found.\n",
      "  Please use the NLTK Downloader to obtain the resource:\n",
      "\n",
      "  \u001b[31m>>> import nltk\n",
      "  >>> nltk.download('punkt_tab')\n",
      "  \u001b[0m\n",
      "  For more information see: https://www.nltk.org/data.html\n",
      "\n",
      "  Attempted to load \u001b[93mtokenizers/punkt_tab/english/\u001b[0m\n",
      "\n",
      "  Searched in:\n",
      "    - '/Users/bhargav/nltk_data'\n",
      "    - '/Library/Frameworks/Python.framework/Versions/3.13/nltk_data'\n",
      "    - '/Library/Frameworks/Python.framework/Versions/3.13/share/nltk_data'\n",
      "    - '/Library/Frameworks/Python.framework/Versions/3.13/lib/nltk_data'\n",
      "    - '/usr/share/nltk_data'\n",
      "    - '/usr/local/share/nltk_data'\n",
      "    - '/usr/lib/nltk_data'\n",
      "    - '/usr/local/lib/nltk_data'\n",
      "**********************************************************************\n",
      "\n",
      "2025-05-12 21:52:41,280 - __main__ - ERROR - Error computing ROUGE scores: \n",
      "2025-05-12 21:52:41,280 - __main__ - ERROR - Error computing Levenshtein similarity: object of type 'float' has no len()\n",
      "2025-05-12 21:52:41,280 - __main__ - ERROR - Error computing Jaccard similarity: \n",
      "**********************************************************************\n",
      "  Resource \u001b[93mpunkt_tab\u001b[0m not found.\n",
      "  Please use the NLTK Downloader to obtain the resource:\n",
      "\n",
      "  \u001b[31m>>> import nltk\n",
      "  >>> nltk.download('punkt_tab')\n",
      "  \u001b[0m\n",
      "  For more information see: https://www.nltk.org/data.html\n",
      "\n",
      "  Attempted to load \u001b[93mtokenizers/punkt_tab/english/\u001b[0m\n",
      "\n",
      "  Searched in:\n",
      "    - '/Users/bhargav/nltk_data'\n",
      "    - '/Library/Frameworks/Python.framework/Versions/3.13/nltk_data'\n",
      "    - '/Library/Frameworks/Python.framework/Versions/3.13/share/nltk_data'\n",
      "    - '/Library/Frameworks/Python.framework/Versions/3.13/lib/nltk_data'\n",
      "    - '/usr/share/nltk_data'\n",
      "    - '/usr/local/share/nltk_data'\n",
      "    - '/usr/lib/nltk_data'\n",
      "    - '/usr/local/lib/nltk_data'\n",
      "**********************************************************************\n",
      "\n"
     ]
    },
    {
     "data": {
      "application/vnd.jupyter.widget-view+json": {
       "model_id": "dd8be92c31e24f6a9f1179f3d3df3e9f",
       "version_major": 2,
       "version_minor": 0
      },
      "text/plain": [
       "Batches:   0%|          | 0/1 [00:00<?, ?it/s]"
      ]
     },
     "metadata": {},
     "output_type": "display_data"
    },
    {
     "data": {
      "application/vnd.jupyter.widget-view+json": {
       "model_id": "e8e49d038c85454ba15524378b172a71",
       "version_major": 2,
       "version_minor": 0
      },
      "text/plain": [
       "Batches:   0%|          | 0/1 [00:00<?, ?it/s]"
      ]
     },
     "metadata": {},
     "output_type": "display_data"
    },
    {
     "name": "stderr",
     "output_type": "stream",
     "text": [
      "2025-05-12 21:52:41,293 - __main__ - ERROR - Error computing BERT similarity: 'float' object is not subscriptable\n",
      "2025-05-12 21:52:41,294 - __main__ - ERROR - Error computing BLEU score: \n",
      "**********************************************************************\n",
      "  Resource \u001b[93mpunkt_tab\u001b[0m not found.\n",
      "  Please use the NLTK Downloader to obtain the resource:\n",
      "\n",
      "  \u001b[31m>>> import nltk\n",
      "  >>> nltk.download('punkt_tab')\n",
      "  \u001b[0m\n",
      "  For more information see: https://www.nltk.org/data.html\n",
      "\n",
      "  Attempted to load \u001b[93mtokenizers/punkt_tab/english/\u001b[0m\n",
      "\n",
      "  Searched in:\n",
      "    - '/Users/bhargav/nltk_data'\n",
      "    - '/Library/Frameworks/Python.framework/Versions/3.13/nltk_data'\n",
      "    - '/Library/Frameworks/Python.framework/Versions/3.13/share/nltk_data'\n",
      "    - '/Library/Frameworks/Python.framework/Versions/3.13/lib/nltk_data'\n",
      "    - '/usr/share/nltk_data'\n",
      "    - '/usr/local/share/nltk_data'\n",
      "    - '/usr/lib/nltk_data'\n",
      "    - '/usr/local/lib/nltk_data'\n",
      "**********************************************************************\n",
      "\n",
      "2025-05-12 21:52:41,294 - __main__ - ERROR - Error computing ROUGE scores: \n",
      "2025-05-12 21:52:41,295 - __main__ - ERROR - Error computing Levenshtein similarity: object of type 'float' has no len()\n",
      "2025-05-12 21:52:41,295 - __main__ - ERROR - Error computing Jaccard similarity: \n",
      "**********************************************************************\n",
      "  Resource \u001b[93mpunkt_tab\u001b[0m not found.\n",
      "  Please use the NLTK Downloader to obtain the resource:\n",
      "\n",
      "  \u001b[31m>>> import nltk\n",
      "  >>> nltk.download('punkt_tab')\n",
      "  \u001b[0m\n",
      "  For more information see: https://www.nltk.org/data.html\n",
      "\n",
      "  Attempted to load \u001b[93mtokenizers/punkt_tab/english/\u001b[0m\n",
      "\n",
      "  Searched in:\n",
      "    - '/Users/bhargav/nltk_data'\n",
      "    - '/Library/Frameworks/Python.framework/Versions/3.13/nltk_data'\n",
      "    - '/Library/Frameworks/Python.framework/Versions/3.13/share/nltk_data'\n",
      "    - '/Library/Frameworks/Python.framework/Versions/3.13/lib/nltk_data'\n",
      "    - '/usr/share/nltk_data'\n",
      "    - '/usr/local/share/nltk_data'\n",
      "    - '/usr/lib/nltk_data'\n",
      "    - '/usr/local/lib/nltk_data'\n",
      "**********************************************************************\n",
      "\n"
     ]
    },
    {
     "data": {
      "application/vnd.jupyter.widget-view+json": {
       "model_id": "7440e75a7d4e4a23848eeb53aa945f4b",
       "version_major": 2,
       "version_minor": 0
      },
      "text/plain": [
       "Batches:   0%|          | 0/1 [00:00<?, ?it/s]"
      ]
     },
     "metadata": {},
     "output_type": "display_data"
    },
    {
     "data": {
      "application/vnd.jupyter.widget-view+json": {
       "model_id": "4316058af4a4489a8b7202555168796d",
       "version_major": 2,
       "version_minor": 0
      },
      "text/plain": [
       "Batches:   0%|          | 0/1 [00:00<?, ?it/s]"
      ]
     },
     "metadata": {},
     "output_type": "display_data"
    },
    {
     "name": "stderr",
     "output_type": "stream",
     "text": [
      "2025-05-12 21:52:41,307 - __main__ - ERROR - Error computing BERT similarity: 'float' object is not subscriptable\n",
      "2025-05-12 21:52:41,308 - __main__ - ERROR - Error computing BLEU score: \n",
      "**********************************************************************\n",
      "  Resource \u001b[93mpunkt_tab\u001b[0m not found.\n",
      "  Please use the NLTK Downloader to obtain the resource:\n",
      "\n",
      "  \u001b[31m>>> import nltk\n",
      "  >>> nltk.download('punkt_tab')\n",
      "  \u001b[0m\n",
      "  For more information see: https://www.nltk.org/data.html\n",
      "\n",
      "  Attempted to load \u001b[93mtokenizers/punkt_tab/english/\u001b[0m\n",
      "\n",
      "  Searched in:\n",
      "    - '/Users/bhargav/nltk_data'\n",
      "    - '/Library/Frameworks/Python.framework/Versions/3.13/nltk_data'\n",
      "    - '/Library/Frameworks/Python.framework/Versions/3.13/share/nltk_data'\n",
      "    - '/Library/Frameworks/Python.framework/Versions/3.13/lib/nltk_data'\n",
      "    - '/usr/share/nltk_data'\n",
      "    - '/usr/local/share/nltk_data'\n",
      "    - '/usr/lib/nltk_data'\n",
      "    - '/usr/local/lib/nltk_data'\n",
      "**********************************************************************\n",
      "\n",
      "2025-05-12 21:52:41,309 - __main__ - ERROR - Error computing ROUGE scores: \n",
      "2025-05-12 21:52:41,309 - __main__ - ERROR - Error computing Levenshtein similarity: object of type 'float' has no len()\n",
      "2025-05-12 21:52:41,310 - __main__ - ERROR - Error computing Jaccard similarity: \n",
      "**********************************************************************\n",
      "  Resource \u001b[93mpunkt_tab\u001b[0m not found.\n",
      "  Please use the NLTK Downloader to obtain the resource:\n",
      "\n",
      "  \u001b[31m>>> import nltk\n",
      "  >>> nltk.download('punkt_tab')\n",
      "  \u001b[0m\n",
      "  For more information see: https://www.nltk.org/data.html\n",
      "\n",
      "  Attempted to load \u001b[93mtokenizers/punkt_tab/english/\u001b[0m\n",
      "\n",
      "  Searched in:\n",
      "    - '/Users/bhargav/nltk_data'\n",
      "    - '/Library/Frameworks/Python.framework/Versions/3.13/nltk_data'\n",
      "    - '/Library/Frameworks/Python.framework/Versions/3.13/share/nltk_data'\n",
      "    - '/Library/Frameworks/Python.framework/Versions/3.13/lib/nltk_data'\n",
      "    - '/usr/share/nltk_data'\n",
      "    - '/usr/local/share/nltk_data'\n",
      "    - '/usr/lib/nltk_data'\n",
      "    - '/usr/local/lib/nltk_data'\n",
      "**********************************************************************\n",
      "\n"
     ]
    },
    {
     "data": {
      "application/vnd.jupyter.widget-view+json": {
       "model_id": "40340c42bd604c13a59d3d0a652160df",
       "version_major": 2,
       "version_minor": 0
      },
      "text/plain": [
       "Batches:   0%|          | 0/1 [00:00<?, ?it/s]"
      ]
     },
     "metadata": {},
     "output_type": "display_data"
    },
    {
     "data": {
      "application/vnd.jupyter.widget-view+json": {
       "model_id": "d6ea9a2755c84cba82d63e186d9822ea",
       "version_major": 2,
       "version_minor": 0
      },
      "text/plain": [
       "Batches:   0%|          | 0/1 [00:00<?, ?it/s]"
      ]
     },
     "metadata": {},
     "output_type": "display_data"
    },
    {
     "name": "stderr",
     "output_type": "stream",
     "text": [
      "2025-05-12 21:52:41,322 - __main__ - ERROR - Error computing BERT similarity: 'float' object is not subscriptable\n",
      "2025-05-12 21:52:41,323 - __main__ - ERROR - Error computing BLEU score: \n",
      "**********************************************************************\n",
      "  Resource \u001b[93mpunkt_tab\u001b[0m not found.\n",
      "  Please use the NLTK Downloader to obtain the resource:\n",
      "\n",
      "  \u001b[31m>>> import nltk\n",
      "  >>> nltk.download('punkt_tab')\n",
      "  \u001b[0m\n",
      "  For more information see: https://www.nltk.org/data.html\n",
      "\n",
      "  Attempted to load \u001b[93mtokenizers/punkt_tab/english/\u001b[0m\n",
      "\n",
      "  Searched in:\n",
      "    - '/Users/bhargav/nltk_data'\n",
      "    - '/Library/Frameworks/Python.framework/Versions/3.13/nltk_data'\n",
      "    - '/Library/Frameworks/Python.framework/Versions/3.13/share/nltk_data'\n",
      "    - '/Library/Frameworks/Python.framework/Versions/3.13/lib/nltk_data'\n",
      "    - '/usr/share/nltk_data'\n",
      "    - '/usr/local/share/nltk_data'\n",
      "    - '/usr/lib/nltk_data'\n",
      "    - '/usr/local/lib/nltk_data'\n",
      "**********************************************************************\n",
      "\n",
      "2025-05-12 21:52:41,323 - __main__ - ERROR - Error computing ROUGE scores: \n",
      "2025-05-12 21:52:41,324 - __main__ - ERROR - Error computing Levenshtein similarity: object of type 'float' has no len()\n",
      "2025-05-12 21:52:41,324 - __main__ - ERROR - Error computing Jaccard similarity: \n",
      "**********************************************************************\n",
      "  Resource \u001b[93mpunkt_tab\u001b[0m not found.\n",
      "  Please use the NLTK Downloader to obtain the resource:\n",
      "\n",
      "  \u001b[31m>>> import nltk\n",
      "  >>> nltk.download('punkt_tab')\n",
      "  \u001b[0m\n",
      "  For more information see: https://www.nltk.org/data.html\n",
      "\n",
      "  Attempted to load \u001b[93mtokenizers/punkt_tab/english/\u001b[0m\n",
      "\n",
      "  Searched in:\n",
      "    - '/Users/bhargav/nltk_data'\n",
      "    - '/Library/Frameworks/Python.framework/Versions/3.13/nltk_data'\n",
      "    - '/Library/Frameworks/Python.framework/Versions/3.13/share/nltk_data'\n",
      "    - '/Library/Frameworks/Python.framework/Versions/3.13/lib/nltk_data'\n",
      "    - '/usr/share/nltk_data'\n",
      "    - '/usr/local/share/nltk_data'\n",
      "    - '/usr/lib/nltk_data'\n",
      "    - '/usr/local/lib/nltk_data'\n",
      "**********************************************************************\n",
      "\n"
     ]
    },
    {
     "data": {
      "application/vnd.jupyter.widget-view+json": {
       "model_id": "51b4a020203d4cf5bede5b9b3e4cb2f9",
       "version_major": 2,
       "version_minor": 0
      },
      "text/plain": [
       "Batches:   0%|          | 0/1 [00:00<?, ?it/s]"
      ]
     },
     "metadata": {},
     "output_type": "display_data"
    },
    {
     "data": {
      "application/vnd.jupyter.widget-view+json": {
       "model_id": "85b58caba37a4c628316e64e6b93a7c1",
       "version_major": 2,
       "version_minor": 0
      },
      "text/plain": [
       "Batches:   0%|          | 0/1 [00:00<?, ?it/s]"
      ]
     },
     "metadata": {},
     "output_type": "display_data"
    },
    {
     "name": "stderr",
     "output_type": "stream",
     "text": [
      "2025-05-12 21:52:41,337 - __main__ - ERROR - Error computing BERT similarity: 'float' object is not subscriptable\n",
      "2025-05-12 21:52:41,338 - __main__ - ERROR - Error computing BLEU score: \n",
      "**********************************************************************\n",
      "  Resource \u001b[93mpunkt_tab\u001b[0m not found.\n",
      "  Please use the NLTK Downloader to obtain the resource:\n",
      "\n",
      "  \u001b[31m>>> import nltk\n",
      "  >>> nltk.download('punkt_tab')\n",
      "  \u001b[0m\n",
      "  For more information see: https://www.nltk.org/data.html\n",
      "\n",
      "  Attempted to load \u001b[93mtokenizers/punkt_tab/english/\u001b[0m\n",
      "\n",
      "  Searched in:\n",
      "    - '/Users/bhargav/nltk_data'\n",
      "    - '/Library/Frameworks/Python.framework/Versions/3.13/nltk_data'\n",
      "    - '/Library/Frameworks/Python.framework/Versions/3.13/share/nltk_data'\n",
      "    - '/Library/Frameworks/Python.framework/Versions/3.13/lib/nltk_data'\n",
      "    - '/usr/share/nltk_data'\n",
      "    - '/usr/local/share/nltk_data'\n",
      "    - '/usr/lib/nltk_data'\n",
      "    - '/usr/local/lib/nltk_data'\n",
      "**********************************************************************\n",
      "\n",
      "2025-05-12 21:52:41,338 - __main__ - ERROR - Error computing ROUGE scores: \n",
      "2025-05-12 21:52:41,338 - __main__ - ERROR - Error computing Levenshtein similarity: object of type 'float' has no len()\n",
      "2025-05-12 21:52:41,339 - __main__ - ERROR - Error computing Jaccard similarity: \n",
      "**********************************************************************\n",
      "  Resource \u001b[93mpunkt_tab\u001b[0m not found.\n",
      "  Please use the NLTK Downloader to obtain the resource:\n",
      "\n",
      "  \u001b[31m>>> import nltk\n",
      "  >>> nltk.download('punkt_tab')\n",
      "  \u001b[0m\n",
      "  For more information see: https://www.nltk.org/data.html\n",
      "\n",
      "  Attempted to load \u001b[93mtokenizers/punkt_tab/english/\u001b[0m\n",
      "\n",
      "  Searched in:\n",
      "    - '/Users/bhargav/nltk_data'\n",
      "    - '/Library/Frameworks/Python.framework/Versions/3.13/nltk_data'\n",
      "    - '/Library/Frameworks/Python.framework/Versions/3.13/share/nltk_data'\n",
      "    - '/Library/Frameworks/Python.framework/Versions/3.13/lib/nltk_data'\n",
      "    - '/usr/share/nltk_data'\n",
      "    - '/usr/local/share/nltk_data'\n",
      "    - '/usr/lib/nltk_data'\n",
      "    - '/usr/local/lib/nltk_data'\n",
      "**********************************************************************\n",
      "\n"
     ]
    },
    {
     "data": {
      "application/vnd.jupyter.widget-view+json": {
       "model_id": "e6a1464f873b448b8edfe8748219c832",
       "version_major": 2,
       "version_minor": 0
      },
      "text/plain": [
       "Batches:   0%|          | 0/1 [00:00<?, ?it/s]"
      ]
     },
     "metadata": {},
     "output_type": "display_data"
    },
    {
     "data": {
      "application/vnd.jupyter.widget-view+json": {
       "model_id": "b5288d2f7d144b9e982f90d2b5c550c6",
       "version_major": 2,
       "version_minor": 0
      },
      "text/plain": [
       "Batches:   0%|          | 0/1 [00:00<?, ?it/s]"
      ]
     },
     "metadata": {},
     "output_type": "display_data"
    },
    {
     "name": "stderr",
     "output_type": "stream",
     "text": [
      "2025-05-12 21:52:41,352 - __main__ - ERROR - Error computing BERT similarity: 'float' object is not subscriptable\n",
      "2025-05-12 21:52:41,353 - __main__ - ERROR - Error computing BLEU score: \n",
      "**********************************************************************\n",
      "  Resource \u001b[93mpunkt_tab\u001b[0m not found.\n",
      "  Please use the NLTK Downloader to obtain the resource:\n",
      "\n",
      "  \u001b[31m>>> import nltk\n",
      "  >>> nltk.download('punkt_tab')\n",
      "  \u001b[0m\n",
      "  For more information see: https://www.nltk.org/data.html\n",
      "\n",
      "  Attempted to load \u001b[93mtokenizers/punkt_tab/english/\u001b[0m\n",
      "\n",
      "  Searched in:\n",
      "    - '/Users/bhargav/nltk_data'\n",
      "    - '/Library/Frameworks/Python.framework/Versions/3.13/nltk_data'\n",
      "    - '/Library/Frameworks/Python.framework/Versions/3.13/share/nltk_data'\n",
      "    - '/Library/Frameworks/Python.framework/Versions/3.13/lib/nltk_data'\n",
      "    - '/usr/share/nltk_data'\n",
      "    - '/usr/local/share/nltk_data'\n",
      "    - '/usr/lib/nltk_data'\n",
      "    - '/usr/local/lib/nltk_data'\n",
      "**********************************************************************\n",
      "\n",
      "2025-05-12 21:52:41,353 - __main__ - ERROR - Error computing ROUGE scores: \n",
      "2025-05-12 21:52:41,354 - __main__ - ERROR - Error computing Levenshtein similarity: object of type 'float' has no len()\n",
      "2025-05-12 21:52:41,355 - __main__ - ERROR - Error computing Jaccard similarity: \n",
      "**********************************************************************\n",
      "  Resource \u001b[93mpunkt_tab\u001b[0m not found.\n",
      "  Please use the NLTK Downloader to obtain the resource:\n",
      "\n",
      "  \u001b[31m>>> import nltk\n",
      "  >>> nltk.download('punkt_tab')\n",
      "  \u001b[0m\n",
      "  For more information see: https://www.nltk.org/data.html\n",
      "\n",
      "  Attempted to load \u001b[93mtokenizers/punkt_tab/english/\u001b[0m\n",
      "\n",
      "  Searched in:\n",
      "    - '/Users/bhargav/nltk_data'\n",
      "    - '/Library/Frameworks/Python.framework/Versions/3.13/nltk_data'\n",
      "    - '/Library/Frameworks/Python.framework/Versions/3.13/share/nltk_data'\n",
      "    - '/Library/Frameworks/Python.framework/Versions/3.13/lib/nltk_data'\n",
      "    - '/usr/share/nltk_data'\n",
      "    - '/usr/local/share/nltk_data'\n",
      "    - '/usr/lib/nltk_data'\n",
      "    - '/usr/local/lib/nltk_data'\n",
      "**********************************************************************\n",
      "\n"
     ]
    },
    {
     "data": {
      "application/vnd.jupyter.widget-view+json": {
       "model_id": "1c302b1af3fc4fcbb7cf2ca21d3291c3",
       "version_major": 2,
       "version_minor": 0
      },
      "text/plain": [
       "Batches:   0%|          | 0/1 [00:00<?, ?it/s]"
      ]
     },
     "metadata": {},
     "output_type": "display_data"
    },
    {
     "data": {
      "application/vnd.jupyter.widget-view+json": {
       "model_id": "72c14dfe072440c494201700db17bc1f",
       "version_major": 2,
       "version_minor": 0
      },
      "text/plain": [
       "Batches:   0%|          | 0/1 [00:00<?, ?it/s]"
      ]
     },
     "metadata": {},
     "output_type": "display_data"
    },
    {
     "name": "stderr",
     "output_type": "stream",
     "text": [
      "2025-05-12 21:52:41,371 - __main__ - ERROR - Error computing BERT similarity: 'float' object is not subscriptable\n",
      "Computing mistral_similarities:  98%|████████▊| 113/115 [00:07<00:00, 40.70it/s]2025-05-12 21:52:41,372 - __main__ - ERROR - Error computing BLEU score: \n",
      "**********************************************************************\n",
      "  Resource \u001b[93mpunkt_tab\u001b[0m not found.\n",
      "  Please use the NLTK Downloader to obtain the resource:\n",
      "\n",
      "  \u001b[31m>>> import nltk\n",
      "  >>> nltk.download('punkt_tab')\n",
      "  \u001b[0m\n",
      "  For more information see: https://www.nltk.org/data.html\n",
      "\n",
      "  Attempted to load \u001b[93mtokenizers/punkt_tab/english/\u001b[0m\n",
      "\n",
      "  Searched in:\n",
      "    - '/Users/bhargav/nltk_data'\n",
      "    - '/Library/Frameworks/Python.framework/Versions/3.13/nltk_data'\n",
      "    - '/Library/Frameworks/Python.framework/Versions/3.13/share/nltk_data'\n",
      "    - '/Library/Frameworks/Python.framework/Versions/3.13/lib/nltk_data'\n",
      "    - '/usr/share/nltk_data'\n",
      "    - '/usr/local/share/nltk_data'\n",
      "    - '/usr/lib/nltk_data'\n",
      "    - '/usr/local/lib/nltk_data'\n",
      "**********************************************************************\n",
      "\n",
      "2025-05-12 21:52:41,372 - __main__ - ERROR - Error computing ROUGE scores: \n",
      "2025-05-12 21:52:41,372 - __main__ - ERROR - Error computing Levenshtein similarity: object of type 'float' has no len()\n",
      "2025-05-12 21:52:41,373 - __main__ - ERROR - Error computing Jaccard similarity: \n",
      "**********************************************************************\n",
      "  Resource \u001b[93mpunkt_tab\u001b[0m not found.\n",
      "  Please use the NLTK Downloader to obtain the resource:\n",
      "\n",
      "  \u001b[31m>>> import nltk\n",
      "  >>> nltk.download('punkt_tab')\n",
      "  \u001b[0m\n",
      "  For more information see: https://www.nltk.org/data.html\n",
      "\n",
      "  Attempted to load \u001b[93mtokenizers/punkt_tab/english/\u001b[0m\n",
      "\n",
      "  Searched in:\n",
      "    - '/Users/bhargav/nltk_data'\n",
      "    - '/Library/Frameworks/Python.framework/Versions/3.13/nltk_data'\n",
      "    - '/Library/Frameworks/Python.framework/Versions/3.13/share/nltk_data'\n",
      "    - '/Library/Frameworks/Python.framework/Versions/3.13/lib/nltk_data'\n",
      "    - '/usr/share/nltk_data'\n",
      "    - '/usr/local/share/nltk_data'\n",
      "    - '/usr/lib/nltk_data'\n",
      "    - '/usr/local/lib/nltk_data'\n",
      "**********************************************************************\n",
      "\n"
     ]
    },
    {
     "data": {
      "application/vnd.jupyter.widget-view+json": {
       "model_id": "f4df8a7328d244e994f26adfa3fab0b0",
       "version_major": 2,
       "version_minor": 0
      },
      "text/plain": [
       "Batches:   0%|          | 0/1 [00:00<?, ?it/s]"
      ]
     },
     "metadata": {},
     "output_type": "display_data"
    },
    {
     "data": {
      "application/vnd.jupyter.widget-view+json": {
       "model_id": "8f064720ea3b4f5080a8493da6df11b2",
       "version_major": 2,
       "version_minor": 0
      },
      "text/plain": [
       "Batches:   0%|          | 0/1 [00:00<?, ?it/s]"
      ]
     },
     "metadata": {},
     "output_type": "display_data"
    },
    {
     "name": "stderr",
     "output_type": "stream",
     "text": [
      "2025-05-12 21:52:41,385 - __main__ - ERROR - Error computing BERT similarity: 'float' object is not subscriptable\n",
      "2025-05-12 21:52:41,386 - __main__ - ERROR - Error computing BLEU score: \n",
      "**********************************************************************\n",
      "  Resource \u001b[93mpunkt_tab\u001b[0m not found.\n",
      "  Please use the NLTK Downloader to obtain the resource:\n",
      "\n",
      "  \u001b[31m>>> import nltk\n",
      "  >>> nltk.download('punkt_tab')\n",
      "  \u001b[0m\n",
      "  For more information see: https://www.nltk.org/data.html\n",
      "\n",
      "  Attempted to load \u001b[93mtokenizers/punkt_tab/english/\u001b[0m\n",
      "\n",
      "  Searched in:\n",
      "    - '/Users/bhargav/nltk_data'\n",
      "    - '/Library/Frameworks/Python.framework/Versions/3.13/nltk_data'\n",
      "    - '/Library/Frameworks/Python.framework/Versions/3.13/share/nltk_data'\n",
      "    - '/Library/Frameworks/Python.framework/Versions/3.13/lib/nltk_data'\n",
      "    - '/usr/share/nltk_data'\n",
      "    - '/usr/local/share/nltk_data'\n",
      "    - '/usr/lib/nltk_data'\n",
      "    - '/usr/local/lib/nltk_data'\n",
      "**********************************************************************\n",
      "\n",
      "2025-05-12 21:52:41,386 - __main__ - ERROR - Error computing ROUGE scores: \n",
      "2025-05-12 21:52:41,386 - __main__ - ERROR - Error computing Levenshtein similarity: object of type 'float' has no len()\n",
      "2025-05-12 21:52:41,387 - __main__ - ERROR - Error computing Jaccard similarity: \n",
      "**********************************************************************\n",
      "  Resource \u001b[93mpunkt_tab\u001b[0m not found.\n",
      "  Please use the NLTK Downloader to obtain the resource:\n",
      "\n",
      "  \u001b[31m>>> import nltk\n",
      "  >>> nltk.download('punkt_tab')\n",
      "  \u001b[0m\n",
      "  For more information see: https://www.nltk.org/data.html\n",
      "\n",
      "  Attempted to load \u001b[93mtokenizers/punkt_tab/english/\u001b[0m\n",
      "\n",
      "  Searched in:\n",
      "    - '/Users/bhargav/nltk_data'\n",
      "    - '/Library/Frameworks/Python.framework/Versions/3.13/nltk_data'\n",
      "    - '/Library/Frameworks/Python.framework/Versions/3.13/share/nltk_data'\n",
      "    - '/Library/Frameworks/Python.framework/Versions/3.13/lib/nltk_data'\n",
      "    - '/usr/share/nltk_data'\n",
      "    - '/usr/local/share/nltk_data'\n",
      "    - '/usr/lib/nltk_data'\n",
      "    - '/usr/local/lib/nltk_data'\n",
      "**********************************************************************\n",
      "\n"
     ]
    },
    {
     "data": {
      "application/vnd.jupyter.widget-view+json": {
       "model_id": "1a12425575f646cfa42b67d3b21f594e",
       "version_major": 2,
       "version_minor": 0
      },
      "text/plain": [
       "Batches:   0%|          | 0/1 [00:00<?, ?it/s]"
      ]
     },
     "metadata": {},
     "output_type": "display_data"
    },
    {
     "data": {
      "application/vnd.jupyter.widget-view+json": {
       "model_id": "a3fb5f668e6d4e80b398d335d19ceede",
       "version_major": 2,
       "version_minor": 0
      },
      "text/plain": [
       "Batches:   0%|          | 0/1 [00:00<?, ?it/s]"
      ]
     },
     "metadata": {},
     "output_type": "display_data"
    },
    {
     "name": "stderr",
     "output_type": "stream",
     "text": [
      "2025-05-12 21:52:41,399 - __main__ - ERROR - Error computing BERT similarity: 'float' object is not subscriptable\n",
      "Computing mistral_similarities: 100%|█████████| 115/115 [00:07<00:00, 15.90it/s]\n",
      "2025-05-12 21:52:41,403 - __main__ - WARNING - Clean regeneration column 'regeneration_mistral_clean_clean_basic' not found. Using original column.\n",
      "2025-05-12 21:52:41,403 - __main__ - INFO - Computing similarities between 'text_clean_basic' and 'regeneration_mistral_clean'\n",
      "Computing mistral_clean_similarities:   0%|             | 0/115 [00:00<?, ?it/s]2025-05-12 21:52:41,406 - __main__ - ERROR - Error computing BLEU score: \n",
      "**********************************************************************\n",
      "  Resource \u001b[93mpunkt_tab\u001b[0m not found.\n",
      "  Please use the NLTK Downloader to obtain the resource:\n",
      "\n",
      "  \u001b[31m>>> import nltk\n",
      "  >>> nltk.download('punkt_tab')\n",
      "  \u001b[0m\n",
      "  For more information see: https://www.nltk.org/data.html\n",
      "\n",
      "  Attempted to load \u001b[93mtokenizers/punkt_tab/english/\u001b[0m\n",
      "\n",
      "  Searched in:\n",
      "    - '/Users/bhargav/nltk_data'\n",
      "    - '/Library/Frameworks/Python.framework/Versions/3.13/nltk_data'\n",
      "    - '/Library/Frameworks/Python.framework/Versions/3.13/share/nltk_data'\n",
      "    - '/Library/Frameworks/Python.framework/Versions/3.13/lib/nltk_data'\n",
      "    - '/usr/share/nltk_data'\n",
      "    - '/usr/local/share/nltk_data'\n",
      "    - '/usr/lib/nltk_data'\n",
      "    - '/usr/local/lib/nltk_data'\n",
      "**********************************************************************\n",
      "\n",
      "2025-05-12 21:52:41,406 - __main__ - ERROR - Error computing ROUGE scores: \n",
      "2025-05-12 21:52:41,406 - __main__ - ERROR - Error computing Levenshtein similarity: object of type 'float' has no len()\n",
      "2025-05-12 21:52:41,407 - __main__ - ERROR - Error computing Jaccard similarity: \n",
      "**********************************************************************\n",
      "  Resource \u001b[93mpunkt_tab\u001b[0m not found.\n",
      "  Please use the NLTK Downloader to obtain the resource:\n",
      "\n",
      "  \u001b[31m>>> import nltk\n",
      "  >>> nltk.download('punkt_tab')\n",
      "  \u001b[0m\n",
      "  For more information see: https://www.nltk.org/data.html\n",
      "\n",
      "  Attempted to load \u001b[93mtokenizers/punkt_tab/english/\u001b[0m\n",
      "\n",
      "  Searched in:\n",
      "    - '/Users/bhargav/nltk_data'\n",
      "    - '/Library/Frameworks/Python.framework/Versions/3.13/nltk_data'\n",
      "    - '/Library/Frameworks/Python.framework/Versions/3.13/share/nltk_data'\n",
      "    - '/Library/Frameworks/Python.framework/Versions/3.13/lib/nltk_data'\n",
      "    - '/usr/share/nltk_data'\n",
      "    - '/usr/local/share/nltk_data'\n",
      "    - '/usr/lib/nltk_data'\n",
      "    - '/usr/local/lib/nltk_data'\n",
      "**********************************************************************\n",
      "\n"
     ]
    },
    {
     "data": {
      "application/vnd.jupyter.widget-view+json": {
       "model_id": "e7e22734af8b4888a742e278c483f509",
       "version_major": 2,
       "version_minor": 0
      },
      "text/plain": [
       "Batches:   0%|          | 0/1 [00:00<?, ?it/s]"
      ]
     },
     "metadata": {},
     "output_type": "display_data"
    },
    {
     "data": {
      "application/vnd.jupyter.widget-view+json": {
       "model_id": "18a34216d47c45ae9b7dd11ac6adc65e",
       "version_major": 2,
       "version_minor": 0
      },
      "text/plain": [
       "Batches:   0%|          | 0/1 [00:00<?, ?it/s]"
      ]
     },
     "metadata": {},
     "output_type": "display_data"
    },
    {
     "name": "stderr",
     "output_type": "stream",
     "text": [
      "2025-05-12 21:52:41,419 - __main__ - ERROR - Error computing BERT similarity: 'float' object is not subscriptable\n",
      "2025-05-12 21:52:41,420 - __main__ - ERROR - Error computing BLEU score: \n",
      "**********************************************************************\n",
      "  Resource \u001b[93mpunkt_tab\u001b[0m not found.\n",
      "  Please use the NLTK Downloader to obtain the resource:\n",
      "\n",
      "  \u001b[31m>>> import nltk\n",
      "  >>> nltk.download('punkt_tab')\n",
      "  \u001b[0m\n",
      "  For more information see: https://www.nltk.org/data.html\n",
      "\n",
      "  Attempted to load \u001b[93mtokenizers/punkt_tab/english/\u001b[0m\n",
      "\n",
      "  Searched in:\n",
      "    - '/Users/bhargav/nltk_data'\n",
      "    - '/Library/Frameworks/Python.framework/Versions/3.13/nltk_data'\n",
      "    - '/Library/Frameworks/Python.framework/Versions/3.13/share/nltk_data'\n",
      "    - '/Library/Frameworks/Python.framework/Versions/3.13/lib/nltk_data'\n",
      "    - '/usr/share/nltk_data'\n",
      "    - '/usr/local/share/nltk_data'\n",
      "    - '/usr/lib/nltk_data'\n",
      "    - '/usr/local/lib/nltk_data'\n",
      "**********************************************************************\n",
      "\n",
      "2025-05-12 21:52:41,420 - __main__ - ERROR - Error computing ROUGE scores: \n",
      "2025-05-12 21:52:41,421 - __main__ - ERROR - Error computing Levenshtein similarity: object of type 'float' has no len()\n",
      "2025-05-12 21:52:41,421 - __main__ - ERROR - Error computing Jaccard similarity: \n",
      "**********************************************************************\n",
      "  Resource \u001b[93mpunkt_tab\u001b[0m not found.\n",
      "  Please use the NLTK Downloader to obtain the resource:\n",
      "\n",
      "  \u001b[31m>>> import nltk\n",
      "  >>> nltk.download('punkt_tab')\n",
      "  \u001b[0m\n",
      "  For more information see: https://www.nltk.org/data.html\n",
      "\n",
      "  Attempted to load \u001b[93mtokenizers/punkt_tab/english/\u001b[0m\n",
      "\n",
      "  Searched in:\n",
      "    - '/Users/bhargav/nltk_data'\n",
      "    - '/Library/Frameworks/Python.framework/Versions/3.13/nltk_data'\n",
      "    - '/Library/Frameworks/Python.framework/Versions/3.13/share/nltk_data'\n",
      "    - '/Library/Frameworks/Python.framework/Versions/3.13/lib/nltk_data'\n",
      "    - '/usr/share/nltk_data'\n",
      "    - '/usr/local/share/nltk_data'\n",
      "    - '/usr/lib/nltk_data'\n",
      "    - '/usr/local/lib/nltk_data'\n",
      "**********************************************************************\n",
      "\n"
     ]
    },
    {
     "data": {
      "application/vnd.jupyter.widget-view+json": {
       "model_id": "869903597d3b47e9ae10b1c2c7eb4073",
       "version_major": 2,
       "version_minor": 0
      },
      "text/plain": [
       "Batches:   0%|          | 0/1 [00:00<?, ?it/s]"
      ]
     },
     "metadata": {},
     "output_type": "display_data"
    },
    {
     "data": {
      "application/vnd.jupyter.widget-view+json": {
       "model_id": "f8224cf09e31493685a96c4d40535753",
       "version_major": 2,
       "version_minor": 0
      },
      "text/plain": [
       "Batches:   0%|          | 0/1 [00:00<?, ?it/s]"
      ]
     },
     "metadata": {},
     "output_type": "display_data"
    },
    {
     "name": "stderr",
     "output_type": "stream",
     "text": [
      "2025-05-12 21:52:41,433 - __main__ - ERROR - Error computing BERT similarity: 'float' object is not subscriptable\n",
      "2025-05-12 21:52:41,434 - __main__ - ERROR - Error computing BLEU score: \n",
      "**********************************************************************\n",
      "  Resource \u001b[93mpunkt_tab\u001b[0m not found.\n",
      "  Please use the NLTK Downloader to obtain the resource:\n",
      "\n",
      "  \u001b[31m>>> import nltk\n",
      "  >>> nltk.download('punkt_tab')\n",
      "  \u001b[0m\n",
      "  For more information see: https://www.nltk.org/data.html\n",
      "\n",
      "  Attempted to load \u001b[93mtokenizers/punkt_tab/english/\u001b[0m\n",
      "\n",
      "  Searched in:\n",
      "    - '/Users/bhargav/nltk_data'\n",
      "    - '/Library/Frameworks/Python.framework/Versions/3.13/nltk_data'\n",
      "    - '/Library/Frameworks/Python.framework/Versions/3.13/share/nltk_data'\n",
      "    - '/Library/Frameworks/Python.framework/Versions/3.13/lib/nltk_data'\n",
      "    - '/usr/share/nltk_data'\n",
      "    - '/usr/local/share/nltk_data'\n",
      "    - '/usr/lib/nltk_data'\n",
      "    - '/usr/local/lib/nltk_data'\n",
      "**********************************************************************\n",
      "\n",
      "2025-05-12 21:52:41,435 - __main__ - ERROR - Error computing ROUGE scores: \n",
      "2025-05-12 21:52:41,435 - __main__ - ERROR - Error computing Levenshtein similarity: object of type 'float' has no len()\n",
      "2025-05-12 21:52:41,436 - __main__ - ERROR - Error computing Jaccard similarity: \n",
      "**********************************************************************\n",
      "  Resource \u001b[93mpunkt_tab\u001b[0m not found.\n",
      "  Please use the NLTK Downloader to obtain the resource:\n",
      "\n",
      "  \u001b[31m>>> import nltk\n",
      "  >>> nltk.download('punkt_tab')\n",
      "  \u001b[0m\n",
      "  For more information see: https://www.nltk.org/data.html\n",
      "\n",
      "  Attempted to load \u001b[93mtokenizers/punkt_tab/english/\u001b[0m\n",
      "\n",
      "  Searched in:\n",
      "    - '/Users/bhargav/nltk_data'\n",
      "    - '/Library/Frameworks/Python.framework/Versions/3.13/nltk_data'\n",
      "    - '/Library/Frameworks/Python.framework/Versions/3.13/share/nltk_data'\n",
      "    - '/Library/Frameworks/Python.framework/Versions/3.13/lib/nltk_data'\n",
      "    - '/usr/share/nltk_data'\n",
      "    - '/usr/local/share/nltk_data'\n",
      "    - '/usr/lib/nltk_data'\n",
      "    - '/usr/local/lib/nltk_data'\n",
      "**********************************************************************\n",
      "\n"
     ]
    },
    {
     "data": {
      "application/vnd.jupyter.widget-view+json": {
       "model_id": "9e5f910e4e8d440e8fb726cfdab2520c",
       "version_major": 2,
       "version_minor": 0
      },
      "text/plain": [
       "Batches:   0%|          | 0/1 [00:00<?, ?it/s]"
      ]
     },
     "metadata": {},
     "output_type": "display_data"
    },
    {
     "data": {
      "application/vnd.jupyter.widget-view+json": {
       "model_id": "27cb8d128cf3407b82a18447dfab40e1",
       "version_major": 2,
       "version_minor": 0
      },
      "text/plain": [
       "Batches:   0%|          | 0/1 [00:00<?, ?it/s]"
      ]
     },
     "metadata": {},
     "output_type": "display_data"
    },
    {
     "name": "stderr",
     "output_type": "stream",
     "text": [
      "2025-05-12 21:52:41,448 - __main__ - ERROR - Error computing BERT similarity: 'float' object is not subscriptable\n",
      "2025-05-12 21:52:41,450 - __main__ - ERROR - Error computing BLEU score: \n",
      "**********************************************************************\n",
      "  Resource \u001b[93mpunkt_tab\u001b[0m not found.\n",
      "  Please use the NLTK Downloader to obtain the resource:\n",
      "\n",
      "  \u001b[31m>>> import nltk\n",
      "  >>> nltk.download('punkt_tab')\n",
      "  \u001b[0m\n",
      "  For more information see: https://www.nltk.org/data.html\n",
      "\n",
      "  Attempted to load \u001b[93mtokenizers/punkt_tab/english/\u001b[0m\n",
      "\n",
      "  Searched in:\n",
      "    - '/Users/bhargav/nltk_data'\n",
      "    - '/Library/Frameworks/Python.framework/Versions/3.13/nltk_data'\n",
      "    - '/Library/Frameworks/Python.framework/Versions/3.13/share/nltk_data'\n",
      "    - '/Library/Frameworks/Python.framework/Versions/3.13/lib/nltk_data'\n",
      "    - '/usr/share/nltk_data'\n",
      "    - '/usr/local/share/nltk_data'\n",
      "    - '/usr/lib/nltk_data'\n",
      "    - '/usr/local/lib/nltk_data'\n",
      "**********************************************************************\n",
      "\n",
      "2025-05-12 21:52:41,450 - __main__ - ERROR - Error computing ROUGE scores: \n",
      "2025-05-12 21:52:41,450 - __main__ - ERROR - Error computing Levenshtein similarity: object of type 'float' has no len()\n",
      "2025-05-12 21:52:41,451 - __main__ - ERROR - Error computing Jaccard similarity: \n",
      "**********************************************************************\n",
      "  Resource \u001b[93mpunkt_tab\u001b[0m not found.\n",
      "  Please use the NLTK Downloader to obtain the resource:\n",
      "\n",
      "  \u001b[31m>>> import nltk\n",
      "  >>> nltk.download('punkt_tab')\n",
      "  \u001b[0m\n",
      "  For more information see: https://www.nltk.org/data.html\n",
      "\n",
      "  Attempted to load \u001b[93mtokenizers/punkt_tab/english/\u001b[0m\n",
      "\n",
      "  Searched in:\n",
      "    - '/Users/bhargav/nltk_data'\n",
      "    - '/Library/Frameworks/Python.framework/Versions/3.13/nltk_data'\n",
      "    - '/Library/Frameworks/Python.framework/Versions/3.13/share/nltk_data'\n",
      "    - '/Library/Frameworks/Python.framework/Versions/3.13/lib/nltk_data'\n",
      "    - '/usr/share/nltk_data'\n",
      "    - '/usr/local/share/nltk_data'\n",
      "    - '/usr/lib/nltk_data'\n",
      "    - '/usr/local/lib/nltk_data'\n",
      "**********************************************************************\n",
      "\n"
     ]
    },
    {
     "data": {
      "application/vnd.jupyter.widget-view+json": {
       "model_id": "2fac64117df044fda37a74fdec632561",
       "version_major": 2,
       "version_minor": 0
      },
      "text/plain": [
       "Batches:   0%|          | 0/1 [00:00<?, ?it/s]"
      ]
     },
     "metadata": {},
     "output_type": "display_data"
    },
    {
     "data": {
      "application/vnd.jupyter.widget-view+json": {
       "model_id": "b18c51b7a8444734876e92ce62a23b3b",
       "version_major": 2,
       "version_minor": 0
      },
      "text/plain": [
       "Batches:   0%|          | 0/1 [00:00<?, ?it/s]"
      ]
     },
     "metadata": {},
     "output_type": "display_data"
    },
    {
     "name": "stderr",
     "output_type": "stream",
     "text": [
      "2025-05-12 21:52:41,464 - __main__ - ERROR - Error computing BERT similarity: 'float' object is not subscriptable\n",
      "2025-05-12 21:52:41,465 - __main__ - ERROR - Error computing BLEU score: \n",
      "**********************************************************************\n",
      "  Resource \u001b[93mpunkt_tab\u001b[0m not found.\n",
      "  Please use the NLTK Downloader to obtain the resource:\n",
      "\n",
      "  \u001b[31m>>> import nltk\n",
      "  >>> nltk.download('punkt_tab')\n",
      "  \u001b[0m\n",
      "  For more information see: https://www.nltk.org/data.html\n",
      "\n",
      "  Attempted to load \u001b[93mtokenizers/punkt_tab/english/\u001b[0m\n",
      "\n",
      "  Searched in:\n",
      "    - '/Users/bhargav/nltk_data'\n",
      "    - '/Library/Frameworks/Python.framework/Versions/3.13/nltk_data'\n",
      "    - '/Library/Frameworks/Python.framework/Versions/3.13/share/nltk_data'\n",
      "    - '/Library/Frameworks/Python.framework/Versions/3.13/lib/nltk_data'\n",
      "    - '/usr/share/nltk_data'\n",
      "    - '/usr/local/share/nltk_data'\n",
      "    - '/usr/lib/nltk_data'\n",
      "    - '/usr/local/lib/nltk_data'\n",
      "**********************************************************************\n",
      "\n",
      "2025-05-12 21:52:41,465 - __main__ - ERROR - Error computing ROUGE scores: \n",
      "2025-05-12 21:52:41,465 - __main__ - ERROR - Error computing Levenshtein similarity: object of type 'float' has no len()\n",
      "2025-05-12 21:52:41,466 - __main__ - ERROR - Error computing Jaccard similarity: \n",
      "**********************************************************************\n",
      "  Resource \u001b[93mpunkt_tab\u001b[0m not found.\n",
      "  Please use the NLTK Downloader to obtain the resource:\n",
      "\n",
      "  \u001b[31m>>> import nltk\n",
      "  >>> nltk.download('punkt_tab')\n",
      "  \u001b[0m\n",
      "  For more information see: https://www.nltk.org/data.html\n",
      "\n",
      "  Attempted to load \u001b[93mtokenizers/punkt_tab/english/\u001b[0m\n",
      "\n",
      "  Searched in:\n",
      "    - '/Users/bhargav/nltk_data'\n",
      "    - '/Library/Frameworks/Python.framework/Versions/3.13/nltk_data'\n",
      "    - '/Library/Frameworks/Python.framework/Versions/3.13/share/nltk_data'\n",
      "    - '/Library/Frameworks/Python.framework/Versions/3.13/lib/nltk_data'\n",
      "    - '/usr/share/nltk_data'\n",
      "    - '/usr/local/share/nltk_data'\n",
      "    - '/usr/lib/nltk_data'\n",
      "    - '/usr/local/lib/nltk_data'\n",
      "**********************************************************************\n",
      "\n"
     ]
    },
    {
     "data": {
      "application/vnd.jupyter.widget-view+json": {
       "model_id": "1bf3aa4c909046868e3dd5523afd6c96",
       "version_major": 2,
       "version_minor": 0
      },
      "text/plain": [
       "Batches:   0%|          | 0/1 [00:00<?, ?it/s]"
      ]
     },
     "metadata": {},
     "output_type": "display_data"
    },
    {
     "data": {
      "application/vnd.jupyter.widget-view+json": {
       "model_id": "4843b43d4a0a489ebaa58d06b587f438",
       "version_major": 2,
       "version_minor": 0
      },
      "text/plain": [
       "Batches:   0%|          | 0/1 [00:00<?, ?it/s]"
      ]
     },
     "metadata": {},
     "output_type": "display_data"
    },
    {
     "name": "stderr",
     "output_type": "stream",
     "text": [
      "2025-05-12 21:52:41,545 - __main__ - ERROR - Error computing BERT similarity: 'float' object is not subscriptable\n",
      "Computing mistral_clean_similarities:   4%|▏    | 5/115 [00:00<00:03, 35.12it/s]2025-05-12 21:52:41,547 - __main__ - ERROR - Error computing BLEU score: \n",
      "**********************************************************************\n",
      "  Resource \u001b[93mpunkt_tab\u001b[0m not found.\n",
      "  Please use the NLTK Downloader to obtain the resource:\n",
      "\n",
      "  \u001b[31m>>> import nltk\n",
      "  >>> nltk.download('punkt_tab')\n",
      "  \u001b[0m\n",
      "  For more information see: https://www.nltk.org/data.html\n",
      "\n",
      "  Attempted to load \u001b[93mtokenizers/punkt_tab/english/\u001b[0m\n",
      "\n",
      "  Searched in:\n",
      "    - '/Users/bhargav/nltk_data'\n",
      "    - '/Library/Frameworks/Python.framework/Versions/3.13/nltk_data'\n",
      "    - '/Library/Frameworks/Python.framework/Versions/3.13/share/nltk_data'\n",
      "    - '/Library/Frameworks/Python.framework/Versions/3.13/lib/nltk_data'\n",
      "    - '/usr/share/nltk_data'\n",
      "    - '/usr/local/share/nltk_data'\n",
      "    - '/usr/lib/nltk_data'\n",
      "    - '/usr/local/lib/nltk_data'\n",
      "**********************************************************************\n",
      "\n",
      "2025-05-12 21:52:41,547 - __main__ - ERROR - Error computing ROUGE scores: \n",
      "2025-05-12 21:52:41,548 - __main__ - ERROR - Error computing Levenshtein similarity: object of type 'float' has no len()\n",
      "2025-05-12 21:52:41,548 - __main__ - ERROR - Error computing Jaccard similarity: \n",
      "**********************************************************************\n",
      "  Resource \u001b[93mpunkt_tab\u001b[0m not found.\n",
      "  Please use the NLTK Downloader to obtain the resource:\n",
      "\n",
      "  \u001b[31m>>> import nltk\n",
      "  >>> nltk.download('punkt_tab')\n",
      "  \u001b[0m\n",
      "  For more information see: https://www.nltk.org/data.html\n",
      "\n",
      "  Attempted to load \u001b[93mtokenizers/punkt_tab/english/\u001b[0m\n",
      "\n",
      "  Searched in:\n",
      "    - '/Users/bhargav/nltk_data'\n",
      "    - '/Library/Frameworks/Python.framework/Versions/3.13/nltk_data'\n",
      "    - '/Library/Frameworks/Python.framework/Versions/3.13/share/nltk_data'\n",
      "    - '/Library/Frameworks/Python.framework/Versions/3.13/lib/nltk_data'\n",
      "    - '/usr/share/nltk_data'\n",
      "    - '/usr/local/share/nltk_data'\n",
      "    - '/usr/lib/nltk_data'\n",
      "    - '/usr/local/lib/nltk_data'\n",
      "**********************************************************************\n",
      "\n"
     ]
    },
    {
     "data": {
      "application/vnd.jupyter.widget-view+json": {
       "model_id": "b18db7ebd23e48a2aa3dd81f7fc72b0b",
       "version_major": 2,
       "version_minor": 0
      },
      "text/plain": [
       "Batches:   0%|          | 0/1 [00:00<?, ?it/s]"
      ]
     },
     "metadata": {},
     "output_type": "display_data"
    },
    {
     "data": {
      "application/vnd.jupyter.widget-view+json": {
       "model_id": "12450fe076e842d098dfc77873f96539",
       "version_major": 2,
       "version_minor": 0
      },
      "text/plain": [
       "Batches:   0%|          | 0/1 [00:00<?, ?it/s]"
      ]
     },
     "metadata": {},
     "output_type": "display_data"
    },
    {
     "name": "stderr",
     "output_type": "stream",
     "text": [
      "2025-05-12 21:52:41,561 - __main__ - ERROR - Error computing BERT similarity: 'float' object is not subscriptable\n",
      "2025-05-12 21:52:41,562 - __main__ - ERROR - Error computing BLEU score: \n",
      "**********************************************************************\n",
      "  Resource \u001b[93mpunkt_tab\u001b[0m not found.\n",
      "  Please use the NLTK Downloader to obtain the resource:\n",
      "\n",
      "  \u001b[31m>>> import nltk\n",
      "  >>> nltk.download('punkt_tab')\n",
      "  \u001b[0m\n",
      "  For more information see: https://www.nltk.org/data.html\n",
      "\n",
      "  Attempted to load \u001b[93mtokenizers/punkt_tab/english/\u001b[0m\n",
      "\n",
      "  Searched in:\n",
      "    - '/Users/bhargav/nltk_data'\n",
      "    - '/Library/Frameworks/Python.framework/Versions/3.13/nltk_data'\n",
      "    - '/Library/Frameworks/Python.framework/Versions/3.13/share/nltk_data'\n",
      "    - '/Library/Frameworks/Python.framework/Versions/3.13/lib/nltk_data'\n",
      "    - '/usr/share/nltk_data'\n",
      "    - '/usr/local/share/nltk_data'\n",
      "    - '/usr/lib/nltk_data'\n",
      "    - '/usr/local/lib/nltk_data'\n",
      "**********************************************************************\n",
      "\n",
      "2025-05-12 21:52:41,563 - __main__ - ERROR - Error computing ROUGE scores: \n",
      "2025-05-12 21:52:41,563 - __main__ - ERROR - Error computing Levenshtein similarity: object of type 'float' has no len()\n",
      "2025-05-12 21:52:41,563 - __main__ - ERROR - Error computing Jaccard similarity: \n",
      "**********************************************************************\n",
      "  Resource \u001b[93mpunkt_tab\u001b[0m not found.\n",
      "  Please use the NLTK Downloader to obtain the resource:\n",
      "\n",
      "  \u001b[31m>>> import nltk\n",
      "  >>> nltk.download('punkt_tab')\n",
      "  \u001b[0m\n",
      "  For more information see: https://www.nltk.org/data.html\n",
      "\n",
      "  Attempted to load \u001b[93mtokenizers/punkt_tab/english/\u001b[0m\n",
      "\n",
      "  Searched in:\n",
      "    - '/Users/bhargav/nltk_data'\n",
      "    - '/Library/Frameworks/Python.framework/Versions/3.13/nltk_data'\n",
      "    - '/Library/Frameworks/Python.framework/Versions/3.13/share/nltk_data'\n",
      "    - '/Library/Frameworks/Python.framework/Versions/3.13/lib/nltk_data'\n",
      "    - '/usr/share/nltk_data'\n",
      "    - '/usr/local/share/nltk_data'\n",
      "    - '/usr/lib/nltk_data'\n",
      "    - '/usr/local/lib/nltk_data'\n",
      "**********************************************************************\n",
      "\n"
     ]
    },
    {
     "data": {
      "application/vnd.jupyter.widget-view+json": {
       "model_id": "f66b2fb477fb479b8033e54894aa875f",
       "version_major": 2,
       "version_minor": 0
      },
      "text/plain": [
       "Batches:   0%|          | 0/1 [00:00<?, ?it/s]"
      ]
     },
     "metadata": {},
     "output_type": "display_data"
    },
    {
     "data": {
      "application/vnd.jupyter.widget-view+json": {
       "model_id": "9d53b020c9994dd5a9af165e96016471",
       "version_major": 2,
       "version_minor": 0
      },
      "text/plain": [
       "Batches:   0%|          | 0/1 [00:00<?, ?it/s]"
      ]
     },
     "metadata": {},
     "output_type": "display_data"
    },
    {
     "name": "stderr",
     "output_type": "stream",
     "text": [
      "2025-05-12 21:52:41,576 - __main__ - ERROR - Error computing BERT similarity: 'float' object is not subscriptable\n",
      "2025-05-12 21:52:41,577 - __main__ - ERROR - Error computing BLEU score: \n",
      "**********************************************************************\n",
      "  Resource \u001b[93mpunkt_tab\u001b[0m not found.\n",
      "  Please use the NLTK Downloader to obtain the resource:\n",
      "\n",
      "  \u001b[31m>>> import nltk\n",
      "  >>> nltk.download('punkt_tab')\n",
      "  \u001b[0m\n",
      "  For more information see: https://www.nltk.org/data.html\n",
      "\n",
      "  Attempted to load \u001b[93mtokenizers/punkt_tab/english/\u001b[0m\n",
      "\n",
      "  Searched in:\n",
      "    - '/Users/bhargav/nltk_data'\n",
      "    - '/Library/Frameworks/Python.framework/Versions/3.13/nltk_data'\n",
      "    - '/Library/Frameworks/Python.framework/Versions/3.13/share/nltk_data'\n",
      "    - '/Library/Frameworks/Python.framework/Versions/3.13/lib/nltk_data'\n",
      "    - '/usr/share/nltk_data'\n",
      "    - '/usr/local/share/nltk_data'\n",
      "    - '/usr/lib/nltk_data'\n",
      "    - '/usr/local/lib/nltk_data'\n",
      "**********************************************************************\n",
      "\n",
      "2025-05-12 21:52:41,577 - __main__ - ERROR - Error computing ROUGE scores: \n",
      "2025-05-12 21:52:41,577 - __main__ - ERROR - Error computing Levenshtein similarity: object of type 'float' has no len()\n",
      "2025-05-12 21:52:41,578 - __main__ - ERROR - Error computing Jaccard similarity: \n",
      "**********************************************************************\n",
      "  Resource \u001b[93mpunkt_tab\u001b[0m not found.\n",
      "  Please use the NLTK Downloader to obtain the resource:\n",
      "\n",
      "  \u001b[31m>>> import nltk\n",
      "  >>> nltk.download('punkt_tab')\n",
      "  \u001b[0m\n",
      "  For more information see: https://www.nltk.org/data.html\n",
      "\n",
      "  Attempted to load \u001b[93mtokenizers/punkt_tab/english/\u001b[0m\n",
      "\n",
      "  Searched in:\n",
      "    - '/Users/bhargav/nltk_data'\n",
      "    - '/Library/Frameworks/Python.framework/Versions/3.13/nltk_data'\n",
      "    - '/Library/Frameworks/Python.framework/Versions/3.13/share/nltk_data'\n",
      "    - '/Library/Frameworks/Python.framework/Versions/3.13/lib/nltk_data'\n",
      "    - '/usr/share/nltk_data'\n",
      "    - '/usr/local/share/nltk_data'\n",
      "    - '/usr/lib/nltk_data'\n",
      "    - '/usr/local/lib/nltk_data'\n",
      "**********************************************************************\n",
      "\n"
     ]
    },
    {
     "data": {
      "application/vnd.jupyter.widget-view+json": {
       "model_id": "b007c37be40a40e9b6d3261983938340",
       "version_major": 2,
       "version_minor": 0
      },
      "text/plain": [
       "Batches:   0%|          | 0/1 [00:00<?, ?it/s]"
      ]
     },
     "metadata": {},
     "output_type": "display_data"
    },
    {
     "data": {
      "application/vnd.jupyter.widget-view+json": {
       "model_id": "1cbdfabd442c46d1b76eed3165ab533e",
       "version_major": 2,
       "version_minor": 0
      },
      "text/plain": [
       "Batches:   0%|          | 0/1 [00:00<?, ?it/s]"
      ]
     },
     "metadata": {},
     "output_type": "display_data"
    },
    {
     "name": "stderr",
     "output_type": "stream",
     "text": [
      "2025-05-12 21:52:41,595 - __main__ - ERROR - Error computing BERT similarity: 'float' object is not subscriptable\n",
      "2025-05-12 21:52:41,596 - __main__ - ERROR - Error computing BLEU score: \n",
      "**********************************************************************\n",
      "  Resource \u001b[93mpunkt_tab\u001b[0m not found.\n",
      "  Please use the NLTK Downloader to obtain the resource:\n",
      "\n",
      "  \u001b[31m>>> import nltk\n",
      "  >>> nltk.download('punkt_tab')\n",
      "  \u001b[0m\n",
      "  For more information see: https://www.nltk.org/data.html\n",
      "\n",
      "  Attempted to load \u001b[93mtokenizers/punkt_tab/english/\u001b[0m\n",
      "\n",
      "  Searched in:\n",
      "    - '/Users/bhargav/nltk_data'\n",
      "    - '/Library/Frameworks/Python.framework/Versions/3.13/nltk_data'\n",
      "    - '/Library/Frameworks/Python.framework/Versions/3.13/share/nltk_data'\n",
      "    - '/Library/Frameworks/Python.framework/Versions/3.13/lib/nltk_data'\n",
      "    - '/usr/share/nltk_data'\n",
      "    - '/usr/local/share/nltk_data'\n",
      "    - '/usr/lib/nltk_data'\n",
      "    - '/usr/local/lib/nltk_data'\n",
      "**********************************************************************\n",
      "\n",
      "2025-05-12 21:52:41,596 - __main__ - ERROR - Error computing ROUGE scores: \n",
      "2025-05-12 21:52:41,597 - __main__ - ERROR - Error computing Levenshtein similarity: object of type 'float' has no len()\n",
      "2025-05-12 21:52:41,597 - __main__ - ERROR - Error computing Jaccard similarity: \n",
      "**********************************************************************\n",
      "  Resource \u001b[93mpunkt_tab\u001b[0m not found.\n",
      "  Please use the NLTK Downloader to obtain the resource:\n",
      "\n",
      "  \u001b[31m>>> import nltk\n",
      "  >>> nltk.download('punkt_tab')\n",
      "  \u001b[0m\n",
      "  For more information see: https://www.nltk.org/data.html\n",
      "\n",
      "  Attempted to load \u001b[93mtokenizers/punkt_tab/english/\u001b[0m\n",
      "\n",
      "  Searched in:\n",
      "    - '/Users/bhargav/nltk_data'\n",
      "    - '/Library/Frameworks/Python.framework/Versions/3.13/nltk_data'\n",
      "    - '/Library/Frameworks/Python.framework/Versions/3.13/share/nltk_data'\n",
      "    - '/Library/Frameworks/Python.framework/Versions/3.13/lib/nltk_data'\n",
      "    - '/usr/share/nltk_data'\n",
      "    - '/usr/local/share/nltk_data'\n",
      "    - '/usr/lib/nltk_data'\n",
      "    - '/usr/local/lib/nltk_data'\n",
      "**********************************************************************\n",
      "\n"
     ]
    },
    {
     "data": {
      "application/vnd.jupyter.widget-view+json": {
       "model_id": "a5a5261656aa49e79d66942a39011b8d",
       "version_major": 2,
       "version_minor": 0
      },
      "text/plain": [
       "Batches:   0%|          | 0/1 [00:00<?, ?it/s]"
      ]
     },
     "metadata": {},
     "output_type": "display_data"
    },
    {
     "data": {
      "application/vnd.jupyter.widget-view+json": {
       "model_id": "ed6376ae01a3486f976414a31fc08444",
       "version_major": 2,
       "version_minor": 0
      },
      "text/plain": [
       "Batches:   0%|          | 0/1 [00:00<?, ?it/s]"
      ]
     },
     "metadata": {},
     "output_type": "display_data"
    },
    {
     "name": "stderr",
     "output_type": "stream",
     "text": [
      "2025-05-12 21:52:41,609 - __main__ - ERROR - Error computing BERT similarity: 'float' object is not subscriptable\n",
      "2025-05-12 21:52:41,610 - __main__ - ERROR - Error computing BLEU score: \n",
      "**********************************************************************\n",
      "  Resource \u001b[93mpunkt_tab\u001b[0m not found.\n",
      "  Please use the NLTK Downloader to obtain the resource:\n",
      "\n",
      "  \u001b[31m>>> import nltk\n",
      "  >>> nltk.download('punkt_tab')\n",
      "  \u001b[0m\n",
      "  For more information see: https://www.nltk.org/data.html\n",
      "\n",
      "  Attempted to load \u001b[93mtokenizers/punkt_tab/english/\u001b[0m\n",
      "\n",
      "  Searched in:\n",
      "    - '/Users/bhargav/nltk_data'\n",
      "    - '/Library/Frameworks/Python.framework/Versions/3.13/nltk_data'\n",
      "    - '/Library/Frameworks/Python.framework/Versions/3.13/share/nltk_data'\n",
      "    - '/Library/Frameworks/Python.framework/Versions/3.13/lib/nltk_data'\n",
      "    - '/usr/share/nltk_data'\n",
      "    - '/usr/local/share/nltk_data'\n",
      "    - '/usr/lib/nltk_data'\n",
      "    - '/usr/local/lib/nltk_data'\n",
      "**********************************************************************\n",
      "\n",
      "2025-05-12 21:52:41,610 - __main__ - ERROR - Error computing ROUGE scores: \n",
      "2025-05-12 21:52:41,610 - __main__ - ERROR - Error computing Levenshtein similarity: object of type 'float' has no len()\n",
      "2025-05-12 21:52:41,611 - __main__ - ERROR - Error computing Jaccard similarity: \n",
      "**********************************************************************\n",
      "  Resource \u001b[93mpunkt_tab\u001b[0m not found.\n",
      "  Please use the NLTK Downloader to obtain the resource:\n",
      "\n",
      "  \u001b[31m>>> import nltk\n",
      "  >>> nltk.download('punkt_tab')\n",
      "  \u001b[0m\n",
      "  For more information see: https://www.nltk.org/data.html\n",
      "\n",
      "  Attempted to load \u001b[93mtokenizers/punkt_tab/english/\u001b[0m\n",
      "\n",
      "  Searched in:\n",
      "    - '/Users/bhargav/nltk_data'\n",
      "    - '/Library/Frameworks/Python.framework/Versions/3.13/nltk_data'\n",
      "    - '/Library/Frameworks/Python.framework/Versions/3.13/share/nltk_data'\n",
      "    - '/Library/Frameworks/Python.framework/Versions/3.13/lib/nltk_data'\n",
      "    - '/usr/share/nltk_data'\n",
      "    - '/usr/local/share/nltk_data'\n",
      "    - '/usr/lib/nltk_data'\n",
      "    - '/usr/local/lib/nltk_data'\n",
      "**********************************************************************\n",
      "\n"
     ]
    },
    {
     "data": {
      "application/vnd.jupyter.widget-view+json": {
       "model_id": "e2105c4d24a44c08940425867f9e2287",
       "version_major": 2,
       "version_minor": 0
      },
      "text/plain": [
       "Batches:   0%|          | 0/1 [00:00<?, ?it/s]"
      ]
     },
     "metadata": {},
     "output_type": "display_data"
    },
    {
     "data": {
      "application/vnd.jupyter.widget-view+json": {
       "model_id": "b198df04689346f182e024b1c0ce80ba",
       "version_major": 2,
       "version_minor": 0
      },
      "text/plain": [
       "Batches:   0%|          | 0/1 [00:00<?, ?it/s]"
      ]
     },
     "metadata": {},
     "output_type": "display_data"
    },
    {
     "name": "stderr",
     "output_type": "stream",
     "text": [
      "2025-05-12 21:52:41,623 - __main__ - ERROR - Error computing BERT similarity: 'float' object is not subscriptable\n",
      "2025-05-12 21:52:41,624 - __main__ - ERROR - Error computing BLEU score: \n",
      "**********************************************************************\n",
      "  Resource \u001b[93mpunkt_tab\u001b[0m not found.\n",
      "  Please use the NLTK Downloader to obtain the resource:\n",
      "\n",
      "  \u001b[31m>>> import nltk\n",
      "  >>> nltk.download('punkt_tab')\n",
      "  \u001b[0m\n",
      "  For more information see: https://www.nltk.org/data.html\n",
      "\n",
      "  Attempted to load \u001b[93mtokenizers/punkt_tab/english/\u001b[0m\n",
      "\n",
      "  Searched in:\n",
      "    - '/Users/bhargav/nltk_data'\n",
      "    - '/Library/Frameworks/Python.framework/Versions/3.13/nltk_data'\n",
      "    - '/Library/Frameworks/Python.framework/Versions/3.13/share/nltk_data'\n",
      "    - '/Library/Frameworks/Python.framework/Versions/3.13/lib/nltk_data'\n",
      "    - '/usr/share/nltk_data'\n",
      "    - '/usr/local/share/nltk_data'\n",
      "    - '/usr/lib/nltk_data'\n",
      "    - '/usr/local/lib/nltk_data'\n",
      "**********************************************************************\n",
      "\n",
      "2025-05-12 21:52:41,624 - __main__ - ERROR - Error computing ROUGE scores: \n",
      "2025-05-12 21:52:41,624 - __main__ - ERROR - Error computing Levenshtein similarity: object of type 'float' has no len()\n",
      "2025-05-12 21:52:41,625 - __main__ - ERROR - Error computing Jaccard similarity: \n",
      "**********************************************************************\n",
      "  Resource \u001b[93mpunkt_tab\u001b[0m not found.\n",
      "  Please use the NLTK Downloader to obtain the resource:\n",
      "\n",
      "  \u001b[31m>>> import nltk\n",
      "  >>> nltk.download('punkt_tab')\n",
      "  \u001b[0m\n",
      "  For more information see: https://www.nltk.org/data.html\n",
      "\n",
      "  Attempted to load \u001b[93mtokenizers/punkt_tab/english/\u001b[0m\n",
      "\n",
      "  Searched in:\n",
      "    - '/Users/bhargav/nltk_data'\n",
      "    - '/Library/Frameworks/Python.framework/Versions/3.13/nltk_data'\n",
      "    - '/Library/Frameworks/Python.framework/Versions/3.13/share/nltk_data'\n",
      "    - '/Library/Frameworks/Python.framework/Versions/3.13/lib/nltk_data'\n",
      "    - '/usr/share/nltk_data'\n",
      "    - '/usr/local/share/nltk_data'\n",
      "    - '/usr/lib/nltk_data'\n",
      "    - '/usr/local/lib/nltk_data'\n",
      "**********************************************************************\n",
      "\n"
     ]
    },
    {
     "data": {
      "application/vnd.jupyter.widget-view+json": {
       "model_id": "9d9186541ff24218a271da4af38960ab",
       "version_major": 2,
       "version_minor": 0
      },
      "text/plain": [
       "Batches:   0%|          | 0/1 [00:00<?, ?it/s]"
      ]
     },
     "metadata": {},
     "output_type": "display_data"
    },
    {
     "data": {
      "application/vnd.jupyter.widget-view+json": {
       "model_id": "292aaf8d7a0f448d963e5d0ac1f6f650",
       "version_major": 2,
       "version_minor": 0
      },
      "text/plain": [
       "Batches:   0%|          | 0/1 [00:00<?, ?it/s]"
      ]
     },
     "metadata": {},
     "output_type": "display_data"
    },
    {
     "name": "stderr",
     "output_type": "stream",
     "text": [
      "2025-05-12 21:52:41,641 - __main__ - ERROR - Error computing BERT similarity: 'float' object is not subscriptable\n",
      "2025-05-12 21:52:41,642 - __main__ - ERROR - Error computing BLEU score: \n",
      "**********************************************************************\n",
      "  Resource \u001b[93mpunkt_tab\u001b[0m not found.\n",
      "  Please use the NLTK Downloader to obtain the resource:\n",
      "\n",
      "  \u001b[31m>>> import nltk\n",
      "  >>> nltk.download('punkt_tab')\n",
      "  \u001b[0m\n",
      "  For more information see: https://www.nltk.org/data.html\n",
      "\n",
      "  Attempted to load \u001b[93mtokenizers/punkt_tab/english/\u001b[0m\n",
      "\n",
      "  Searched in:\n",
      "    - '/Users/bhargav/nltk_data'\n",
      "    - '/Library/Frameworks/Python.framework/Versions/3.13/nltk_data'\n",
      "    - '/Library/Frameworks/Python.framework/Versions/3.13/share/nltk_data'\n",
      "    - '/Library/Frameworks/Python.framework/Versions/3.13/lib/nltk_data'\n",
      "    - '/usr/share/nltk_data'\n",
      "    - '/usr/local/share/nltk_data'\n",
      "    - '/usr/lib/nltk_data'\n",
      "    - '/usr/local/lib/nltk_data'\n",
      "**********************************************************************\n",
      "\n",
      "2025-05-12 21:52:41,646 - __main__ - ERROR - Error computing Jaccard similarity: \n",
      "**********************************************************************\n",
      "  Resource \u001b[93mpunkt_tab\u001b[0m not found.\n",
      "  Please use the NLTK Downloader to obtain the resource:\n",
      "\n",
      "  \u001b[31m>>> import nltk\n",
      "  >>> nltk.download('punkt_tab')\n",
      "  \u001b[0m\n",
      "  For more information see: https://www.nltk.org/data.html\n",
      "\n",
      "  Attempted to load \u001b[93mtokenizers/punkt_tab/english/\u001b[0m\n",
      "\n",
      "  Searched in:\n",
      "    - '/Users/bhargav/nltk_data'\n",
      "    - '/Library/Frameworks/Python.framework/Versions/3.13/nltk_data'\n",
      "    - '/Library/Frameworks/Python.framework/Versions/3.13/share/nltk_data'\n",
      "    - '/Library/Frameworks/Python.framework/Versions/3.13/lib/nltk_data'\n",
      "    - '/usr/share/nltk_data'\n",
      "    - '/usr/local/share/nltk_data'\n",
      "    - '/usr/lib/nltk_data'\n",
      "    - '/usr/local/lib/nltk_data'\n",
      "**********************************************************************\n",
      "\n"
     ]
    },
    {
     "data": {
      "application/vnd.jupyter.widget-view+json": {
       "model_id": "a975707257074aafbedfc4ee0d7ec8e4",
       "version_major": 2,
       "version_minor": 0
      },
      "text/plain": [
       "Batches:   0%|          | 0/1 [00:00<?, ?it/s]"
      ]
     },
     "metadata": {},
     "output_type": "display_data"
    },
    {
     "data": {
      "application/vnd.jupyter.widget-view+json": {
       "model_id": "ce63eceaff48484386d1e02949a5d634",
       "version_major": 2,
       "version_minor": 0
      },
      "text/plain": [
       "Batches:   0%|          | 0/1 [00:00<?, ?it/s]"
      ]
     },
     "metadata": {},
     "output_type": "display_data"
    },
    {
     "name": "stderr",
     "output_type": "stream",
     "text": [
      "Computing mistral_clean_similarities:  10%|▍   | 12/115 [00:00<00:02, 47.56it/s]2025-05-12 21:52:41,668 - __main__ - ERROR - Error computing BLEU score: \n",
      "**********************************************************************\n",
      "  Resource \u001b[93mpunkt_tab\u001b[0m not found.\n",
      "  Please use the NLTK Downloader to obtain the resource:\n",
      "\n",
      "  \u001b[31m>>> import nltk\n",
      "  >>> nltk.download('punkt_tab')\n",
      "  \u001b[0m\n",
      "  For more information see: https://www.nltk.org/data.html\n",
      "\n",
      "  Attempted to load \u001b[93mtokenizers/punkt_tab/english/\u001b[0m\n",
      "\n",
      "  Searched in:\n",
      "    - '/Users/bhargav/nltk_data'\n",
      "    - '/Library/Frameworks/Python.framework/Versions/3.13/nltk_data'\n",
      "    - '/Library/Frameworks/Python.framework/Versions/3.13/share/nltk_data'\n",
      "    - '/Library/Frameworks/Python.framework/Versions/3.13/lib/nltk_data'\n",
      "    - '/usr/share/nltk_data'\n",
      "    - '/usr/local/share/nltk_data'\n",
      "    - '/usr/lib/nltk_data'\n",
      "    - '/usr/local/lib/nltk_data'\n",
      "**********************************************************************\n",
      "\n",
      "2025-05-12 21:52:41,677 - __main__ - ERROR - Error computing Jaccard similarity: \n",
      "**********************************************************************\n",
      "  Resource \u001b[93mpunkt_tab\u001b[0m not found.\n",
      "  Please use the NLTK Downloader to obtain the resource:\n",
      "\n",
      "  \u001b[31m>>> import nltk\n",
      "  >>> nltk.download('punkt_tab')\n",
      "  \u001b[0m\n",
      "  For more information see: https://www.nltk.org/data.html\n",
      "\n",
      "  Attempted to load \u001b[93mtokenizers/punkt_tab/english/\u001b[0m\n",
      "\n",
      "  Searched in:\n",
      "    - '/Users/bhargav/nltk_data'\n",
      "    - '/Library/Frameworks/Python.framework/Versions/3.13/nltk_data'\n",
      "    - '/Library/Frameworks/Python.framework/Versions/3.13/share/nltk_data'\n",
      "    - '/Library/Frameworks/Python.framework/Versions/3.13/lib/nltk_data'\n",
      "    - '/usr/share/nltk_data'\n",
      "    - '/usr/local/share/nltk_data'\n",
      "    - '/usr/lib/nltk_data'\n",
      "    - '/usr/local/lib/nltk_data'\n",
      "**********************************************************************\n",
      "\n"
     ]
    },
    {
     "data": {
      "application/vnd.jupyter.widget-view+json": {
       "model_id": "502f6b5ad86541be96c3ba64fee4b09c",
       "version_major": 2,
       "version_minor": 0
      },
      "text/plain": [
       "Batches:   0%|          | 0/1 [00:00<?, ?it/s]"
      ]
     },
     "metadata": {},
     "output_type": "display_data"
    },
    {
     "data": {
      "application/vnd.jupyter.widget-view+json": {
       "model_id": "0831eb7ae88b4b4a94490eb1daf18a73",
       "version_major": 2,
       "version_minor": 0
      },
      "text/plain": [
       "Batches:   0%|          | 0/1 [00:00<?, ?it/s]"
      ]
     },
     "metadata": {},
     "output_type": "display_data"
    },
    {
     "name": "stderr",
     "output_type": "stream",
     "text": [
      "2025-05-12 21:52:41,707 - __main__ - ERROR - Error computing BLEU score: \n",
      "**********************************************************************\n",
      "  Resource \u001b[93mpunkt_tab\u001b[0m not found.\n",
      "  Please use the NLTK Downloader to obtain the resource:\n",
      "\n",
      "  \u001b[31m>>> import nltk\n",
      "  >>> nltk.download('punkt_tab')\n",
      "  \u001b[0m\n",
      "  For more information see: https://www.nltk.org/data.html\n",
      "\n",
      "  Attempted to load \u001b[93mtokenizers/punkt_tab/english/\u001b[0m\n",
      "\n",
      "  Searched in:\n",
      "    - '/Users/bhargav/nltk_data'\n",
      "    - '/Library/Frameworks/Python.framework/Versions/3.13/nltk_data'\n",
      "    - '/Library/Frameworks/Python.framework/Versions/3.13/share/nltk_data'\n",
      "    - '/Library/Frameworks/Python.framework/Versions/3.13/lib/nltk_data'\n",
      "    - '/usr/share/nltk_data'\n",
      "    - '/usr/local/share/nltk_data'\n",
      "    - '/usr/lib/nltk_data'\n",
      "    - '/usr/local/lib/nltk_data'\n",
      "**********************************************************************\n",
      "\n",
      "2025-05-12 21:52:41,708 - __main__ - ERROR - Error computing ROUGE scores: \n",
      "2025-05-12 21:52:41,708 - __main__ - ERROR - Error computing Levenshtein similarity: object of type 'float' has no len()\n",
      "2025-05-12 21:52:41,708 - __main__ - ERROR - Error computing Jaccard similarity: \n",
      "**********************************************************************\n",
      "  Resource \u001b[93mpunkt_tab\u001b[0m not found.\n",
      "  Please use the NLTK Downloader to obtain the resource:\n",
      "\n",
      "  \u001b[31m>>> import nltk\n",
      "  >>> nltk.download('punkt_tab')\n",
      "  \u001b[0m\n",
      "  For more information see: https://www.nltk.org/data.html\n",
      "\n",
      "  Attempted to load \u001b[93mtokenizers/punkt_tab/english/\u001b[0m\n",
      "\n",
      "  Searched in:\n",
      "    - '/Users/bhargav/nltk_data'\n",
      "    - '/Library/Frameworks/Python.framework/Versions/3.13/nltk_data'\n",
      "    - '/Library/Frameworks/Python.framework/Versions/3.13/share/nltk_data'\n",
      "    - '/Library/Frameworks/Python.framework/Versions/3.13/lib/nltk_data'\n",
      "    - '/usr/share/nltk_data'\n",
      "    - '/usr/local/share/nltk_data'\n",
      "    - '/usr/lib/nltk_data'\n",
      "    - '/usr/local/lib/nltk_data'\n",
      "**********************************************************************\n",
      "\n"
     ]
    },
    {
     "data": {
      "application/vnd.jupyter.widget-view+json": {
       "model_id": "4cd2babbe69d4b6abe6b4980c7c3e287",
       "version_major": 2,
       "version_minor": 0
      },
      "text/plain": [
       "Batches:   0%|          | 0/1 [00:00<?, ?it/s]"
      ]
     },
     "metadata": {},
     "output_type": "display_data"
    },
    {
     "data": {
      "application/vnd.jupyter.widget-view+json": {
       "model_id": "18e101f3cd7347cfa77fc4b001a023de",
       "version_major": 2,
       "version_minor": 0
      },
      "text/plain": [
       "Batches:   0%|          | 0/1 [00:00<?, ?it/s]"
      ]
     },
     "metadata": {},
     "output_type": "display_data"
    },
    {
     "name": "stderr",
     "output_type": "stream",
     "text": [
      "2025-05-12 21:52:41,721 - __main__ - ERROR - Error computing BERT similarity: 'float' object is not subscriptable\n",
      "2025-05-12 21:52:41,722 - __main__ - ERROR - Error computing BLEU score: \n",
      "**********************************************************************\n",
      "  Resource \u001b[93mpunkt_tab\u001b[0m not found.\n",
      "  Please use the NLTK Downloader to obtain the resource:\n",
      "\n",
      "  \u001b[31m>>> import nltk\n",
      "  >>> nltk.download('punkt_tab')\n",
      "  \u001b[0m\n",
      "  For more information see: https://www.nltk.org/data.html\n",
      "\n",
      "  Attempted to load \u001b[93mtokenizers/punkt_tab/english/\u001b[0m\n",
      "\n",
      "  Searched in:\n",
      "    - '/Users/bhargav/nltk_data'\n",
      "    - '/Library/Frameworks/Python.framework/Versions/3.13/nltk_data'\n",
      "    - '/Library/Frameworks/Python.framework/Versions/3.13/share/nltk_data'\n",
      "    - '/Library/Frameworks/Python.framework/Versions/3.13/lib/nltk_data'\n",
      "    - '/usr/share/nltk_data'\n",
      "    - '/usr/local/share/nltk_data'\n",
      "    - '/usr/lib/nltk_data'\n",
      "    - '/usr/local/lib/nltk_data'\n",
      "**********************************************************************\n",
      "\n",
      "2025-05-12 21:52:41,725 - __main__ - ERROR - Error computing Jaccard similarity: \n",
      "**********************************************************************\n",
      "  Resource \u001b[93mpunkt_tab\u001b[0m not found.\n",
      "  Please use the NLTK Downloader to obtain the resource:\n",
      "\n",
      "  \u001b[31m>>> import nltk\n",
      "  >>> nltk.download('punkt_tab')\n",
      "  \u001b[0m\n",
      "  For more information see: https://www.nltk.org/data.html\n",
      "\n",
      "  Attempted to load \u001b[93mtokenizers/punkt_tab/english/\u001b[0m\n",
      "\n",
      "  Searched in:\n",
      "    - '/Users/bhargav/nltk_data'\n",
      "    - '/Library/Frameworks/Python.framework/Versions/3.13/nltk_data'\n",
      "    - '/Library/Frameworks/Python.framework/Versions/3.13/share/nltk_data'\n",
      "    - '/Library/Frameworks/Python.framework/Versions/3.13/lib/nltk_data'\n",
      "    - '/usr/share/nltk_data'\n",
      "    - '/usr/local/share/nltk_data'\n",
      "    - '/usr/lib/nltk_data'\n",
      "    - '/usr/local/lib/nltk_data'\n",
      "**********************************************************************\n",
      "\n"
     ]
    },
    {
     "data": {
      "application/vnd.jupyter.widget-view+json": {
       "model_id": "68e28eef7d3f42869b225436f2d8e068",
       "version_major": 2,
       "version_minor": 0
      },
      "text/plain": [
       "Batches:   0%|          | 0/1 [00:00<?, ?it/s]"
      ]
     },
     "metadata": {},
     "output_type": "display_data"
    },
    {
     "data": {
      "application/vnd.jupyter.widget-view+json": {
       "model_id": "c1c70d0746b74588b012b3273badada9",
       "version_major": 2,
       "version_minor": 0
      },
      "text/plain": [
       "Batches:   0%|          | 0/1 [00:00<?, ?it/s]"
      ]
     },
     "metadata": {},
     "output_type": "display_data"
    },
    {
     "name": "stderr",
     "output_type": "stream",
     "text": [
      "2025-05-12 21:52:41,746 - __main__ - ERROR - Error computing BLEU score: \n",
      "**********************************************************************\n",
      "  Resource \u001b[93mpunkt_tab\u001b[0m not found.\n",
      "  Please use the NLTK Downloader to obtain the resource:\n",
      "\n",
      "  \u001b[31m>>> import nltk\n",
      "  >>> nltk.download('punkt_tab')\n",
      "  \u001b[0m\n",
      "  For more information see: https://www.nltk.org/data.html\n",
      "\n",
      "  Attempted to load \u001b[93mtokenizers/punkt_tab/english/\u001b[0m\n",
      "\n",
      "  Searched in:\n",
      "    - '/Users/bhargav/nltk_data'\n",
      "    - '/Library/Frameworks/Python.framework/Versions/3.13/nltk_data'\n",
      "    - '/Library/Frameworks/Python.framework/Versions/3.13/share/nltk_data'\n",
      "    - '/Library/Frameworks/Python.framework/Versions/3.13/lib/nltk_data'\n",
      "    - '/usr/share/nltk_data'\n",
      "    - '/usr/local/share/nltk_data'\n",
      "    - '/usr/lib/nltk_data'\n",
      "    - '/usr/local/lib/nltk_data'\n",
      "**********************************************************************\n",
      "\n",
      "2025-05-12 21:52:41,747 - __main__ - ERROR - Error computing ROUGE scores: \n",
      "2025-05-12 21:52:41,747 - __main__ - ERROR - Error computing Levenshtein similarity: object of type 'float' has no len()\n",
      "2025-05-12 21:52:41,748 - __main__ - ERROR - Error computing Jaccard similarity: \n",
      "**********************************************************************\n",
      "  Resource \u001b[93mpunkt_tab\u001b[0m not found.\n",
      "  Please use the NLTK Downloader to obtain the resource:\n",
      "\n",
      "  \u001b[31m>>> import nltk\n",
      "  >>> nltk.download('punkt_tab')\n",
      "  \u001b[0m\n",
      "  For more information see: https://www.nltk.org/data.html\n",
      "\n",
      "  Attempted to load \u001b[93mtokenizers/punkt_tab/english/\u001b[0m\n",
      "\n",
      "  Searched in:\n",
      "    - '/Users/bhargav/nltk_data'\n",
      "    - '/Library/Frameworks/Python.framework/Versions/3.13/nltk_data'\n",
      "    - '/Library/Frameworks/Python.framework/Versions/3.13/share/nltk_data'\n",
      "    - '/Library/Frameworks/Python.framework/Versions/3.13/lib/nltk_data'\n",
      "    - '/usr/share/nltk_data'\n",
      "    - '/usr/local/share/nltk_data'\n",
      "    - '/usr/lib/nltk_data'\n",
      "    - '/usr/local/lib/nltk_data'\n",
      "**********************************************************************\n",
      "\n"
     ]
    },
    {
     "data": {
      "application/vnd.jupyter.widget-view+json": {
       "model_id": "861581c8d4ec40e18836d4f6a5116ab8",
       "version_major": 2,
       "version_minor": 0
      },
      "text/plain": [
       "Batches:   0%|          | 0/1 [00:00<?, ?it/s]"
      ]
     },
     "metadata": {},
     "output_type": "display_data"
    },
    {
     "data": {
      "application/vnd.jupyter.widget-view+json": {
       "model_id": "a0a7f43df5f04a33b0ace0a34d1baf08",
       "version_major": 2,
       "version_minor": 0
      },
      "text/plain": [
       "Batches:   0%|          | 0/1 [00:00<?, ?it/s]"
      ]
     },
     "metadata": {},
     "output_type": "display_data"
    },
    {
     "name": "stderr",
     "output_type": "stream",
     "text": [
      "2025-05-12 21:52:41,760 - __main__ - ERROR - Error computing BERT similarity: 'float' object is not subscriptable\n",
      "2025-05-12 21:52:41,761 - __main__ - ERROR - Error computing BLEU score: \n",
      "**********************************************************************\n",
      "  Resource \u001b[93mpunkt_tab\u001b[0m not found.\n",
      "  Please use the NLTK Downloader to obtain the resource:\n",
      "\n",
      "  \u001b[31m>>> import nltk\n",
      "  >>> nltk.download('punkt_tab')\n",
      "  \u001b[0m\n",
      "  For more information see: https://www.nltk.org/data.html\n",
      "\n",
      "  Attempted to load \u001b[93mtokenizers/punkt_tab/english/\u001b[0m\n",
      "\n",
      "  Searched in:\n",
      "    - '/Users/bhargav/nltk_data'\n",
      "    - '/Library/Frameworks/Python.framework/Versions/3.13/nltk_data'\n",
      "    - '/Library/Frameworks/Python.framework/Versions/3.13/share/nltk_data'\n",
      "    - '/Library/Frameworks/Python.framework/Versions/3.13/lib/nltk_data'\n",
      "    - '/usr/share/nltk_data'\n",
      "    - '/usr/local/share/nltk_data'\n",
      "    - '/usr/lib/nltk_data'\n",
      "    - '/usr/local/lib/nltk_data'\n",
      "**********************************************************************\n",
      "\n",
      "2025-05-12 21:52:41,761 - __main__ - ERROR - Error computing ROUGE scores: \n",
      "2025-05-12 21:52:41,761 - __main__ - ERROR - Error computing Levenshtein similarity: object of type 'float' has no len()\n",
      "2025-05-12 21:52:41,762 - __main__ - ERROR - Error computing Jaccard similarity: \n",
      "**********************************************************************\n",
      "  Resource \u001b[93mpunkt_tab\u001b[0m not found.\n",
      "  Please use the NLTK Downloader to obtain the resource:\n",
      "\n",
      "  \u001b[31m>>> import nltk\n",
      "  >>> nltk.download('punkt_tab')\n",
      "  \u001b[0m\n",
      "  For more information see: https://www.nltk.org/data.html\n",
      "\n",
      "  Attempted to load \u001b[93mtokenizers/punkt_tab/english/\u001b[0m\n",
      "\n",
      "  Searched in:\n",
      "    - '/Users/bhargav/nltk_data'\n",
      "    - '/Library/Frameworks/Python.framework/Versions/3.13/nltk_data'\n",
      "    - '/Library/Frameworks/Python.framework/Versions/3.13/share/nltk_data'\n",
      "    - '/Library/Frameworks/Python.framework/Versions/3.13/lib/nltk_data'\n",
      "    - '/usr/share/nltk_data'\n",
      "    - '/usr/local/share/nltk_data'\n",
      "    - '/usr/lib/nltk_data'\n",
      "    - '/usr/local/lib/nltk_data'\n",
      "**********************************************************************\n",
      "\n"
     ]
    },
    {
     "data": {
      "application/vnd.jupyter.widget-view+json": {
       "model_id": "3b7a8a47eab648089f016a3e896c7e2a",
       "version_major": 2,
       "version_minor": 0
      },
      "text/plain": [
       "Batches:   0%|          | 0/1 [00:00<?, ?it/s]"
      ]
     },
     "metadata": {},
     "output_type": "display_data"
    },
    {
     "data": {
      "application/vnd.jupyter.widget-view+json": {
       "model_id": "f8d365a149224b338bc8295d4a97cb9f",
       "version_major": 2,
       "version_minor": 0
      },
      "text/plain": [
       "Batches:   0%|          | 0/1 [00:00<?, ?it/s]"
      ]
     },
     "metadata": {},
     "output_type": "display_data"
    },
    {
     "name": "stderr",
     "output_type": "stream",
     "text": [
      "2025-05-12 21:52:41,774 - __main__ - ERROR - Error computing BERT similarity: 'float' object is not subscriptable\n",
      "Computing mistral_clean_similarities:  15%|▌   | 17/115 [00:00<00:02, 47.22it/s]2025-05-12 21:52:41,775 - __main__ - ERROR - Error computing BLEU score: \n",
      "**********************************************************************\n",
      "  Resource \u001b[93mpunkt_tab\u001b[0m not found.\n",
      "  Please use the NLTK Downloader to obtain the resource:\n",
      "\n",
      "  \u001b[31m>>> import nltk\n",
      "  >>> nltk.download('punkt_tab')\n",
      "  \u001b[0m\n",
      "  For more information see: https://www.nltk.org/data.html\n",
      "\n",
      "  Attempted to load \u001b[93mtokenizers/punkt_tab/english/\u001b[0m\n",
      "\n",
      "  Searched in:\n",
      "    - '/Users/bhargav/nltk_data'\n",
      "    - '/Library/Frameworks/Python.framework/Versions/3.13/nltk_data'\n",
      "    - '/Library/Frameworks/Python.framework/Versions/3.13/share/nltk_data'\n",
      "    - '/Library/Frameworks/Python.framework/Versions/3.13/lib/nltk_data'\n",
      "    - '/usr/share/nltk_data'\n",
      "    - '/usr/local/share/nltk_data'\n",
      "    - '/usr/lib/nltk_data'\n",
      "    - '/usr/local/lib/nltk_data'\n",
      "**********************************************************************\n",
      "\n",
      "2025-05-12 21:52:41,775 - __main__ - ERROR - Error computing ROUGE scores: \n",
      "2025-05-12 21:52:41,775 - __main__ - ERROR - Error computing Levenshtein similarity: object of type 'float' has no len()\n",
      "2025-05-12 21:52:41,776 - __main__ - ERROR - Error computing Jaccard similarity: \n",
      "**********************************************************************\n",
      "  Resource \u001b[93mpunkt_tab\u001b[0m not found.\n",
      "  Please use the NLTK Downloader to obtain the resource:\n",
      "\n",
      "  \u001b[31m>>> import nltk\n",
      "  >>> nltk.download('punkt_tab')\n",
      "  \u001b[0m\n",
      "  For more information see: https://www.nltk.org/data.html\n",
      "\n",
      "  Attempted to load \u001b[93mtokenizers/punkt_tab/english/\u001b[0m\n",
      "\n",
      "  Searched in:\n",
      "    - '/Users/bhargav/nltk_data'\n",
      "    - '/Library/Frameworks/Python.framework/Versions/3.13/nltk_data'\n",
      "    - '/Library/Frameworks/Python.framework/Versions/3.13/share/nltk_data'\n",
      "    - '/Library/Frameworks/Python.framework/Versions/3.13/lib/nltk_data'\n",
      "    - '/usr/share/nltk_data'\n",
      "    - '/usr/local/share/nltk_data'\n",
      "    - '/usr/lib/nltk_data'\n",
      "    - '/usr/local/lib/nltk_data'\n",
      "**********************************************************************\n",
      "\n"
     ]
    },
    {
     "data": {
      "application/vnd.jupyter.widget-view+json": {
       "model_id": "c4c94ab752434ebe8d4733d9c1364ff9",
       "version_major": 2,
       "version_minor": 0
      },
      "text/plain": [
       "Batches:   0%|          | 0/1 [00:00<?, ?it/s]"
      ]
     },
     "metadata": {},
     "output_type": "display_data"
    },
    {
     "data": {
      "application/vnd.jupyter.widget-view+json": {
       "model_id": "3788d888ed12403b837bb12eb1359c13",
       "version_major": 2,
       "version_minor": 0
      },
      "text/plain": [
       "Batches:   0%|          | 0/1 [00:00<?, ?it/s]"
      ]
     },
     "metadata": {},
     "output_type": "display_data"
    },
    {
     "name": "stderr",
     "output_type": "stream",
     "text": [
      "2025-05-12 21:52:41,789 - __main__ - ERROR - Error computing BERT similarity: 'float' object is not subscriptable\n",
      "2025-05-12 21:52:41,790 - __main__ - ERROR - Error computing BLEU score: \n",
      "**********************************************************************\n",
      "  Resource \u001b[93mpunkt_tab\u001b[0m not found.\n",
      "  Please use the NLTK Downloader to obtain the resource:\n",
      "\n",
      "  \u001b[31m>>> import nltk\n",
      "  >>> nltk.download('punkt_tab')\n",
      "  \u001b[0m\n",
      "  For more information see: https://www.nltk.org/data.html\n",
      "\n",
      "  Attempted to load \u001b[93mtokenizers/punkt_tab/english/\u001b[0m\n",
      "\n",
      "  Searched in:\n",
      "    - '/Users/bhargav/nltk_data'\n",
      "    - '/Library/Frameworks/Python.framework/Versions/3.13/nltk_data'\n",
      "    - '/Library/Frameworks/Python.framework/Versions/3.13/share/nltk_data'\n",
      "    - '/Library/Frameworks/Python.framework/Versions/3.13/lib/nltk_data'\n",
      "    - '/usr/share/nltk_data'\n",
      "    - '/usr/local/share/nltk_data'\n",
      "    - '/usr/lib/nltk_data'\n",
      "    - '/usr/local/lib/nltk_data'\n",
      "**********************************************************************\n",
      "\n",
      "2025-05-12 21:52:41,790 - __main__ - ERROR - Error computing ROUGE scores: \n",
      "2025-05-12 21:52:41,790 - __main__ - ERROR - Error computing Levenshtein similarity: object of type 'float' has no len()\n",
      "2025-05-12 21:52:41,791 - __main__ - ERROR - Error computing Jaccard similarity: \n",
      "**********************************************************************\n",
      "  Resource \u001b[93mpunkt_tab\u001b[0m not found.\n",
      "  Please use the NLTK Downloader to obtain the resource:\n",
      "\n",
      "  \u001b[31m>>> import nltk\n",
      "  >>> nltk.download('punkt_tab')\n",
      "  \u001b[0m\n",
      "  For more information see: https://www.nltk.org/data.html\n",
      "\n",
      "  Attempted to load \u001b[93mtokenizers/punkt_tab/english/\u001b[0m\n",
      "\n",
      "  Searched in:\n",
      "    - '/Users/bhargav/nltk_data'\n",
      "    - '/Library/Frameworks/Python.framework/Versions/3.13/nltk_data'\n",
      "    - '/Library/Frameworks/Python.framework/Versions/3.13/share/nltk_data'\n",
      "    - '/Library/Frameworks/Python.framework/Versions/3.13/lib/nltk_data'\n",
      "    - '/usr/share/nltk_data'\n",
      "    - '/usr/local/share/nltk_data'\n",
      "    - '/usr/lib/nltk_data'\n",
      "    - '/usr/local/lib/nltk_data'\n",
      "**********************************************************************\n",
      "\n"
     ]
    },
    {
     "data": {
      "application/vnd.jupyter.widget-view+json": {
       "model_id": "6a686510177245efb217d0301f21f1a9",
       "version_major": 2,
       "version_minor": 0
      },
      "text/plain": [
       "Batches:   0%|          | 0/1 [00:00<?, ?it/s]"
      ]
     },
     "metadata": {},
     "output_type": "display_data"
    },
    {
     "data": {
      "application/vnd.jupyter.widget-view+json": {
       "model_id": "a6f782621e3749869995a05e4ce9fac7",
       "version_major": 2,
       "version_minor": 0
      },
      "text/plain": [
       "Batches:   0%|          | 0/1 [00:00<?, ?it/s]"
      ]
     },
     "metadata": {},
     "output_type": "display_data"
    },
    {
     "name": "stderr",
     "output_type": "stream",
     "text": [
      "2025-05-12 21:52:41,803 - __main__ - ERROR - Error computing BERT similarity: 'float' object is not subscriptable\n",
      "2025-05-12 21:52:41,804 - __main__ - ERROR - Error computing BLEU score: \n",
      "**********************************************************************\n",
      "  Resource \u001b[93mpunkt_tab\u001b[0m not found.\n",
      "  Please use the NLTK Downloader to obtain the resource:\n",
      "\n",
      "  \u001b[31m>>> import nltk\n",
      "  >>> nltk.download('punkt_tab')\n",
      "  \u001b[0m\n",
      "  For more information see: https://www.nltk.org/data.html\n",
      "\n",
      "  Attempted to load \u001b[93mtokenizers/punkt_tab/english/\u001b[0m\n",
      "\n",
      "  Searched in:\n",
      "    - '/Users/bhargav/nltk_data'\n",
      "    - '/Library/Frameworks/Python.framework/Versions/3.13/nltk_data'\n",
      "    - '/Library/Frameworks/Python.framework/Versions/3.13/share/nltk_data'\n",
      "    - '/Library/Frameworks/Python.framework/Versions/3.13/lib/nltk_data'\n",
      "    - '/usr/share/nltk_data'\n",
      "    - '/usr/local/share/nltk_data'\n",
      "    - '/usr/lib/nltk_data'\n",
      "    - '/usr/local/lib/nltk_data'\n",
      "**********************************************************************\n",
      "\n",
      "2025-05-12 21:52:41,805 - __main__ - ERROR - Error computing ROUGE scores: \n",
      "2025-05-12 21:52:41,805 - __main__ - ERROR - Error computing Levenshtein similarity: object of type 'float' has no len()\n",
      "2025-05-12 21:52:41,806 - __main__ - ERROR - Error computing Jaccard similarity: \n",
      "**********************************************************************\n",
      "  Resource \u001b[93mpunkt_tab\u001b[0m not found.\n",
      "  Please use the NLTK Downloader to obtain the resource:\n",
      "\n",
      "  \u001b[31m>>> import nltk\n",
      "  >>> nltk.download('punkt_tab')\n",
      "  \u001b[0m\n",
      "  For more information see: https://www.nltk.org/data.html\n",
      "\n",
      "  Attempted to load \u001b[93mtokenizers/punkt_tab/english/\u001b[0m\n",
      "\n",
      "  Searched in:\n",
      "    - '/Users/bhargav/nltk_data'\n",
      "    - '/Library/Frameworks/Python.framework/Versions/3.13/nltk_data'\n",
      "    - '/Library/Frameworks/Python.framework/Versions/3.13/share/nltk_data'\n",
      "    - '/Library/Frameworks/Python.framework/Versions/3.13/lib/nltk_data'\n",
      "    - '/usr/share/nltk_data'\n",
      "    - '/usr/local/share/nltk_data'\n",
      "    - '/usr/lib/nltk_data'\n",
      "    - '/usr/local/lib/nltk_data'\n",
      "**********************************************************************\n",
      "\n"
     ]
    },
    {
     "data": {
      "application/vnd.jupyter.widget-view+json": {
       "model_id": "b3d6b985652e454dbef353bdb6a78666",
       "version_major": 2,
       "version_minor": 0
      },
      "text/plain": [
       "Batches:   0%|          | 0/1 [00:00<?, ?it/s]"
      ]
     },
     "metadata": {},
     "output_type": "display_data"
    },
    {
     "data": {
      "application/vnd.jupyter.widget-view+json": {
       "model_id": "b3128631ff264c989ebd66d63894b7a8",
       "version_major": 2,
       "version_minor": 0
      },
      "text/plain": [
       "Batches:   0%|          | 0/1 [00:00<?, ?it/s]"
      ]
     },
     "metadata": {},
     "output_type": "display_data"
    },
    {
     "name": "stderr",
     "output_type": "stream",
     "text": [
      "2025-05-12 21:52:41,819 - __main__ - ERROR - Error computing BERT similarity: 'float' object is not subscriptable\n",
      "2025-05-12 21:52:41,820 - __main__ - ERROR - Error computing BLEU score: \n",
      "**********************************************************************\n",
      "  Resource \u001b[93mpunkt_tab\u001b[0m not found.\n",
      "  Please use the NLTK Downloader to obtain the resource:\n",
      "\n",
      "  \u001b[31m>>> import nltk\n",
      "  >>> nltk.download('punkt_tab')\n",
      "  \u001b[0m\n",
      "  For more information see: https://www.nltk.org/data.html\n",
      "\n",
      "  Attempted to load \u001b[93mtokenizers/punkt_tab/english/\u001b[0m\n",
      "\n",
      "  Searched in:\n",
      "    - '/Users/bhargav/nltk_data'\n",
      "    - '/Library/Frameworks/Python.framework/Versions/3.13/nltk_data'\n",
      "    - '/Library/Frameworks/Python.framework/Versions/3.13/share/nltk_data'\n",
      "    - '/Library/Frameworks/Python.framework/Versions/3.13/lib/nltk_data'\n",
      "    - '/usr/share/nltk_data'\n",
      "    - '/usr/local/share/nltk_data'\n",
      "    - '/usr/lib/nltk_data'\n",
      "    - '/usr/local/lib/nltk_data'\n",
      "**********************************************************************\n",
      "\n",
      "2025-05-12 21:52:41,820 - __main__ - ERROR - Error computing ROUGE scores: \n",
      "2025-05-12 21:52:41,820 - __main__ - ERROR - Error computing Levenshtein similarity: object of type 'float' has no len()\n",
      "2025-05-12 21:52:41,821 - __main__ - ERROR - Error computing Jaccard similarity: \n",
      "**********************************************************************\n",
      "  Resource \u001b[93mpunkt_tab\u001b[0m not found.\n",
      "  Please use the NLTK Downloader to obtain the resource:\n",
      "\n",
      "  \u001b[31m>>> import nltk\n",
      "  >>> nltk.download('punkt_tab')\n",
      "  \u001b[0m\n",
      "  For more information see: https://www.nltk.org/data.html\n",
      "\n",
      "  Attempted to load \u001b[93mtokenizers/punkt_tab/english/\u001b[0m\n",
      "\n",
      "  Searched in:\n",
      "    - '/Users/bhargav/nltk_data'\n",
      "    - '/Library/Frameworks/Python.framework/Versions/3.13/nltk_data'\n",
      "    - '/Library/Frameworks/Python.framework/Versions/3.13/share/nltk_data'\n",
      "    - '/Library/Frameworks/Python.framework/Versions/3.13/lib/nltk_data'\n",
      "    - '/usr/share/nltk_data'\n",
      "    - '/usr/local/share/nltk_data'\n",
      "    - '/usr/lib/nltk_data'\n",
      "    - '/usr/local/lib/nltk_data'\n",
      "**********************************************************************\n",
      "\n"
     ]
    },
    {
     "data": {
      "application/vnd.jupyter.widget-view+json": {
       "model_id": "bc8a3b38e16144f88f72e4efb9aafbdd",
       "version_major": 2,
       "version_minor": 0
      },
      "text/plain": [
       "Batches:   0%|          | 0/1 [00:00<?, ?it/s]"
      ]
     },
     "metadata": {},
     "output_type": "display_data"
    },
    {
     "data": {
      "application/vnd.jupyter.widget-view+json": {
       "model_id": "af555afa01fb409cbed9811b99e395d6",
       "version_major": 2,
       "version_minor": 0
      },
      "text/plain": [
       "Batches:   0%|          | 0/1 [00:00<?, ?it/s]"
      ]
     },
     "metadata": {},
     "output_type": "display_data"
    },
    {
     "name": "stderr",
     "output_type": "stream",
     "text": [
      "2025-05-12 21:52:41,833 - __main__ - ERROR - Error computing BERT similarity: 'float' object is not subscriptable\n",
      "2025-05-12 21:52:41,834 - __main__ - ERROR - Error computing BLEU score: \n",
      "**********************************************************************\n",
      "  Resource \u001b[93mpunkt_tab\u001b[0m not found.\n",
      "  Please use the NLTK Downloader to obtain the resource:\n",
      "\n",
      "  \u001b[31m>>> import nltk\n",
      "  >>> nltk.download('punkt_tab')\n",
      "  \u001b[0m\n",
      "  For more information see: https://www.nltk.org/data.html\n",
      "\n",
      "  Attempted to load \u001b[93mtokenizers/punkt_tab/english/\u001b[0m\n",
      "\n",
      "  Searched in:\n",
      "    - '/Users/bhargav/nltk_data'\n",
      "    - '/Library/Frameworks/Python.framework/Versions/3.13/nltk_data'\n",
      "    - '/Library/Frameworks/Python.framework/Versions/3.13/share/nltk_data'\n",
      "    - '/Library/Frameworks/Python.framework/Versions/3.13/lib/nltk_data'\n",
      "    - '/usr/share/nltk_data'\n",
      "    - '/usr/local/share/nltk_data'\n",
      "    - '/usr/lib/nltk_data'\n",
      "    - '/usr/local/lib/nltk_data'\n",
      "**********************************************************************\n",
      "\n",
      "2025-05-12 21:52:41,834 - __main__ - ERROR - Error computing ROUGE scores: \n",
      "2025-05-12 21:52:41,834 - __main__ - ERROR - Error computing Levenshtein similarity: object of type 'float' has no len()\n",
      "2025-05-12 21:52:41,835 - __main__ - ERROR - Error computing Jaccard similarity: \n",
      "**********************************************************************\n",
      "  Resource \u001b[93mpunkt_tab\u001b[0m not found.\n",
      "  Please use the NLTK Downloader to obtain the resource:\n",
      "\n",
      "  \u001b[31m>>> import nltk\n",
      "  >>> nltk.download('punkt_tab')\n",
      "  \u001b[0m\n",
      "  For more information see: https://www.nltk.org/data.html\n",
      "\n",
      "  Attempted to load \u001b[93mtokenizers/punkt_tab/english/\u001b[0m\n",
      "\n",
      "  Searched in:\n",
      "    - '/Users/bhargav/nltk_data'\n",
      "    - '/Library/Frameworks/Python.framework/Versions/3.13/nltk_data'\n",
      "    - '/Library/Frameworks/Python.framework/Versions/3.13/share/nltk_data'\n",
      "    - '/Library/Frameworks/Python.framework/Versions/3.13/lib/nltk_data'\n",
      "    - '/usr/share/nltk_data'\n",
      "    - '/usr/local/share/nltk_data'\n",
      "    - '/usr/lib/nltk_data'\n",
      "    - '/usr/local/lib/nltk_data'\n",
      "**********************************************************************\n",
      "\n"
     ]
    },
    {
     "data": {
      "application/vnd.jupyter.widget-view+json": {
       "model_id": "54d7e5d8fbc84fe5806fbbbfc2985592",
       "version_major": 2,
       "version_minor": 0
      },
      "text/plain": [
       "Batches:   0%|          | 0/1 [00:00<?, ?it/s]"
      ]
     },
     "metadata": {},
     "output_type": "display_data"
    },
    {
     "data": {
      "application/vnd.jupyter.widget-view+json": {
       "model_id": "c76aaa06931a42b081ecfa8d8541d64a",
       "version_major": 2,
       "version_minor": 0
      },
      "text/plain": [
       "Batches:   0%|          | 0/1 [00:00<?, ?it/s]"
      ]
     },
     "metadata": {},
     "output_type": "display_data"
    },
    {
     "name": "stderr",
     "output_type": "stream",
     "text": [
      "2025-05-12 21:52:41,849 - __main__ - ERROR - Error computing BERT similarity: 'float' object is not subscriptable\n",
      "2025-05-12 21:52:41,850 - __main__ - ERROR - Error computing BLEU score: \n",
      "**********************************************************************\n",
      "  Resource \u001b[93mpunkt_tab\u001b[0m not found.\n",
      "  Please use the NLTK Downloader to obtain the resource:\n",
      "\n",
      "  \u001b[31m>>> import nltk\n",
      "  >>> nltk.download('punkt_tab')\n",
      "  \u001b[0m\n",
      "  For more information see: https://www.nltk.org/data.html\n",
      "\n",
      "  Attempted to load \u001b[93mtokenizers/punkt_tab/english/\u001b[0m\n",
      "\n",
      "  Searched in:\n",
      "    - '/Users/bhargav/nltk_data'\n",
      "    - '/Library/Frameworks/Python.framework/Versions/3.13/nltk_data'\n",
      "    - '/Library/Frameworks/Python.framework/Versions/3.13/share/nltk_data'\n",
      "    - '/Library/Frameworks/Python.framework/Versions/3.13/lib/nltk_data'\n",
      "    - '/usr/share/nltk_data'\n",
      "    - '/usr/local/share/nltk_data'\n",
      "    - '/usr/lib/nltk_data'\n",
      "    - '/usr/local/lib/nltk_data'\n",
      "**********************************************************************\n",
      "\n",
      "2025-05-12 21:52:41,850 - __main__ - ERROR - Error computing ROUGE scores: \n",
      "2025-05-12 21:52:41,850 - __main__ - ERROR - Error computing Levenshtein similarity: object of type 'float' has no len()\n",
      "2025-05-12 21:52:41,851 - __main__ - ERROR - Error computing Jaccard similarity: \n",
      "**********************************************************************\n",
      "  Resource \u001b[93mpunkt_tab\u001b[0m not found.\n",
      "  Please use the NLTK Downloader to obtain the resource:\n",
      "\n",
      "  \u001b[31m>>> import nltk\n",
      "  >>> nltk.download('punkt_tab')\n",
      "  \u001b[0m\n",
      "  For more information see: https://www.nltk.org/data.html\n",
      "\n",
      "  Attempted to load \u001b[93mtokenizers/punkt_tab/english/\u001b[0m\n",
      "\n",
      "  Searched in:\n",
      "    - '/Users/bhargav/nltk_data'\n",
      "    - '/Library/Frameworks/Python.framework/Versions/3.13/nltk_data'\n",
      "    - '/Library/Frameworks/Python.framework/Versions/3.13/share/nltk_data'\n",
      "    - '/Library/Frameworks/Python.framework/Versions/3.13/lib/nltk_data'\n",
      "    - '/usr/share/nltk_data'\n",
      "    - '/usr/local/share/nltk_data'\n",
      "    - '/usr/lib/nltk_data'\n",
      "    - '/usr/local/lib/nltk_data'\n",
      "**********************************************************************\n",
      "\n"
     ]
    },
    {
     "data": {
      "application/vnd.jupyter.widget-view+json": {
       "model_id": "dfbb591a224142019655a362f539e4a7",
       "version_major": 2,
       "version_minor": 0
      },
      "text/plain": [
       "Batches:   0%|          | 0/1 [00:00<?, ?it/s]"
      ]
     },
     "metadata": {},
     "output_type": "display_data"
    },
    {
     "data": {
      "application/vnd.jupyter.widget-view+json": {
       "model_id": "e040d912703240b1a3b0914281e9ad24",
       "version_major": 2,
       "version_minor": 0
      },
      "text/plain": [
       "Batches:   0%|          | 0/1 [00:00<?, ?it/s]"
      ]
     },
     "metadata": {},
     "output_type": "display_data"
    },
    {
     "name": "stderr",
     "output_type": "stream",
     "text": [
      "2025-05-12 21:52:41,863 - __main__ - ERROR - Error computing BERT similarity: 'float' object is not subscriptable\n",
      "2025-05-12 21:52:41,864 - __main__ - ERROR - Error computing BLEU score: \n",
      "**********************************************************************\n",
      "  Resource \u001b[93mpunkt_tab\u001b[0m not found.\n",
      "  Please use the NLTK Downloader to obtain the resource:\n",
      "\n",
      "  \u001b[31m>>> import nltk\n",
      "  >>> nltk.download('punkt_tab')\n",
      "  \u001b[0m\n",
      "  For more information see: https://www.nltk.org/data.html\n",
      "\n",
      "  Attempted to load \u001b[93mtokenizers/punkt_tab/english/\u001b[0m\n",
      "\n",
      "  Searched in:\n",
      "    - '/Users/bhargav/nltk_data'\n",
      "    - '/Library/Frameworks/Python.framework/Versions/3.13/nltk_data'\n",
      "    - '/Library/Frameworks/Python.framework/Versions/3.13/share/nltk_data'\n",
      "    - '/Library/Frameworks/Python.framework/Versions/3.13/lib/nltk_data'\n",
      "    - '/usr/share/nltk_data'\n",
      "    - '/usr/local/share/nltk_data'\n",
      "    - '/usr/lib/nltk_data'\n",
      "    - '/usr/local/lib/nltk_data'\n",
      "**********************************************************************\n",
      "\n",
      "2025-05-12 21:52:41,865 - __main__ - ERROR - Error computing ROUGE scores: \n",
      "2025-05-12 21:52:41,865 - __main__ - ERROR - Error computing Levenshtein similarity: object of type 'float' has no len()\n",
      "2025-05-12 21:52:41,866 - __main__ - ERROR - Error computing Jaccard similarity: \n",
      "**********************************************************************\n",
      "  Resource \u001b[93mpunkt_tab\u001b[0m not found.\n",
      "  Please use the NLTK Downloader to obtain the resource:\n",
      "\n",
      "  \u001b[31m>>> import nltk\n",
      "  >>> nltk.download('punkt_tab')\n",
      "  \u001b[0m\n",
      "  For more information see: https://www.nltk.org/data.html\n",
      "\n",
      "  Attempted to load \u001b[93mtokenizers/punkt_tab/english/\u001b[0m\n",
      "\n",
      "  Searched in:\n",
      "    - '/Users/bhargav/nltk_data'\n",
      "    - '/Library/Frameworks/Python.framework/Versions/3.13/nltk_data'\n",
      "    - '/Library/Frameworks/Python.framework/Versions/3.13/share/nltk_data'\n",
      "    - '/Library/Frameworks/Python.framework/Versions/3.13/lib/nltk_data'\n",
      "    - '/usr/share/nltk_data'\n",
      "    - '/usr/local/share/nltk_data'\n",
      "    - '/usr/lib/nltk_data'\n",
      "    - '/usr/local/lib/nltk_data'\n",
      "**********************************************************************\n",
      "\n"
     ]
    },
    {
     "data": {
      "application/vnd.jupyter.widget-view+json": {
       "model_id": "ef8fd41c66a4448ebb6ae6a2c3f497dc",
       "version_major": 2,
       "version_minor": 0
      },
      "text/plain": [
       "Batches:   0%|          | 0/1 [00:00<?, ?it/s]"
      ]
     },
     "metadata": {},
     "output_type": "display_data"
    },
    {
     "data": {
      "application/vnd.jupyter.widget-view+json": {
       "model_id": "41ce79d8376b41ac8f37dbe02a65ccec",
       "version_major": 2,
       "version_minor": 0
      },
      "text/plain": [
       "Batches:   0%|          | 0/1 [00:00<?, ?it/s]"
      ]
     },
     "metadata": {},
     "output_type": "display_data"
    },
    {
     "name": "stderr",
     "output_type": "stream",
     "text": [
      "2025-05-12 21:52:41,879 - __main__ - ERROR - Error computing BERT similarity: 'float' object is not subscriptable\n",
      "Computing mistral_clean_similarities:  21%|▊   | 24/115 [00:00<00:01, 54.30it/s]2025-05-12 21:52:41,880 - __main__ - ERROR - Error computing BLEU score: \n",
      "**********************************************************************\n",
      "  Resource \u001b[93mpunkt_tab\u001b[0m not found.\n",
      "  Please use the NLTK Downloader to obtain the resource:\n",
      "\n",
      "  \u001b[31m>>> import nltk\n",
      "  >>> nltk.download('punkt_tab')\n",
      "  \u001b[0m\n",
      "  For more information see: https://www.nltk.org/data.html\n",
      "\n",
      "  Attempted to load \u001b[93mtokenizers/punkt_tab/english/\u001b[0m\n",
      "\n",
      "  Searched in:\n",
      "    - '/Users/bhargav/nltk_data'\n",
      "    - '/Library/Frameworks/Python.framework/Versions/3.13/nltk_data'\n",
      "    - '/Library/Frameworks/Python.framework/Versions/3.13/share/nltk_data'\n",
      "    - '/Library/Frameworks/Python.framework/Versions/3.13/lib/nltk_data'\n",
      "    - '/usr/share/nltk_data'\n",
      "    - '/usr/local/share/nltk_data'\n",
      "    - '/usr/lib/nltk_data'\n",
      "    - '/usr/local/lib/nltk_data'\n",
      "**********************************************************************\n",
      "\n",
      "2025-05-12 21:52:41,880 - __main__ - ERROR - Error computing ROUGE scores: \n",
      "2025-05-12 21:52:41,880 - __main__ - ERROR - Error computing Levenshtein similarity: object of type 'float' has no len()\n",
      "2025-05-12 21:52:41,881 - __main__ - ERROR - Error computing Jaccard similarity: \n",
      "**********************************************************************\n",
      "  Resource \u001b[93mpunkt_tab\u001b[0m not found.\n",
      "  Please use the NLTK Downloader to obtain the resource:\n",
      "\n",
      "  \u001b[31m>>> import nltk\n",
      "  >>> nltk.download('punkt_tab')\n",
      "  \u001b[0m\n",
      "  For more information see: https://www.nltk.org/data.html\n",
      "\n",
      "  Attempted to load \u001b[93mtokenizers/punkt_tab/english/\u001b[0m\n",
      "\n",
      "  Searched in:\n",
      "    - '/Users/bhargav/nltk_data'\n",
      "    - '/Library/Frameworks/Python.framework/Versions/3.13/nltk_data'\n",
      "    - '/Library/Frameworks/Python.framework/Versions/3.13/share/nltk_data'\n",
      "    - '/Library/Frameworks/Python.framework/Versions/3.13/lib/nltk_data'\n",
      "    - '/usr/share/nltk_data'\n",
      "    - '/usr/local/share/nltk_data'\n",
      "    - '/usr/lib/nltk_data'\n",
      "    - '/usr/local/lib/nltk_data'\n",
      "**********************************************************************\n",
      "\n"
     ]
    },
    {
     "data": {
      "application/vnd.jupyter.widget-view+json": {
       "model_id": "754f8702eb64492db67a615cd4ef4e30",
       "version_major": 2,
       "version_minor": 0
      },
      "text/plain": [
       "Batches:   0%|          | 0/1 [00:00<?, ?it/s]"
      ]
     },
     "metadata": {},
     "output_type": "display_data"
    },
    {
     "data": {
      "application/vnd.jupyter.widget-view+json": {
       "model_id": "aaa55fd7bb5944a5957416aef39475ba",
       "version_major": 2,
       "version_minor": 0
      },
      "text/plain": [
       "Batches:   0%|          | 0/1 [00:00<?, ?it/s]"
      ]
     },
     "metadata": {},
     "output_type": "display_data"
    },
    {
     "name": "stderr",
     "output_type": "stream",
     "text": [
      "2025-05-12 21:52:41,893 - __main__ - ERROR - Error computing BERT similarity: 'float' object is not subscriptable\n",
      "2025-05-12 21:52:41,894 - __main__ - ERROR - Error computing BLEU score: \n",
      "**********************************************************************\n",
      "  Resource \u001b[93mpunkt_tab\u001b[0m not found.\n",
      "  Please use the NLTK Downloader to obtain the resource:\n",
      "\n",
      "  \u001b[31m>>> import nltk\n",
      "  >>> nltk.download('punkt_tab')\n",
      "  \u001b[0m\n",
      "  For more information see: https://www.nltk.org/data.html\n",
      "\n",
      "  Attempted to load \u001b[93mtokenizers/punkt_tab/english/\u001b[0m\n",
      "\n",
      "  Searched in:\n",
      "    - '/Users/bhargav/nltk_data'\n",
      "    - '/Library/Frameworks/Python.framework/Versions/3.13/nltk_data'\n",
      "    - '/Library/Frameworks/Python.framework/Versions/3.13/share/nltk_data'\n",
      "    - '/Library/Frameworks/Python.framework/Versions/3.13/lib/nltk_data'\n",
      "    - '/usr/share/nltk_data'\n",
      "    - '/usr/local/share/nltk_data'\n",
      "    - '/usr/lib/nltk_data'\n",
      "    - '/usr/local/lib/nltk_data'\n",
      "**********************************************************************\n",
      "\n",
      "2025-05-12 21:52:41,894 - __main__ - ERROR - Error computing ROUGE scores: \n",
      "2025-05-12 21:52:41,895 - __main__ - ERROR - Error computing Levenshtein similarity: object of type 'float' has no len()\n",
      "2025-05-12 21:52:41,896 - __main__ - ERROR - Error computing Jaccard similarity: \n",
      "**********************************************************************\n",
      "  Resource \u001b[93mpunkt_tab\u001b[0m not found.\n",
      "  Please use the NLTK Downloader to obtain the resource:\n",
      "\n",
      "  \u001b[31m>>> import nltk\n",
      "  >>> nltk.download('punkt_tab')\n",
      "  \u001b[0m\n",
      "  For more information see: https://www.nltk.org/data.html\n",
      "\n",
      "  Attempted to load \u001b[93mtokenizers/punkt_tab/english/\u001b[0m\n",
      "\n",
      "  Searched in:\n",
      "    - '/Users/bhargav/nltk_data'\n",
      "    - '/Library/Frameworks/Python.framework/Versions/3.13/nltk_data'\n",
      "    - '/Library/Frameworks/Python.framework/Versions/3.13/share/nltk_data'\n",
      "    - '/Library/Frameworks/Python.framework/Versions/3.13/lib/nltk_data'\n",
      "    - '/usr/share/nltk_data'\n",
      "    - '/usr/local/share/nltk_data'\n",
      "    - '/usr/lib/nltk_data'\n",
      "    - '/usr/local/lib/nltk_data'\n",
      "**********************************************************************\n",
      "\n"
     ]
    },
    {
     "data": {
      "application/vnd.jupyter.widget-view+json": {
       "model_id": "4d34a999360940a1946b8f0c4cfad601",
       "version_major": 2,
       "version_minor": 0
      },
      "text/plain": [
       "Batches:   0%|          | 0/1 [00:00<?, ?it/s]"
      ]
     },
     "metadata": {},
     "output_type": "display_data"
    },
    {
     "data": {
      "application/vnd.jupyter.widget-view+json": {
       "model_id": "5b8d28fcdbfb4fbc9a1c8a3aadf36c34",
       "version_major": 2,
       "version_minor": 0
      },
      "text/plain": [
       "Batches:   0%|          | 0/1 [00:00<?, ?it/s]"
      ]
     },
     "metadata": {},
     "output_type": "display_data"
    },
    {
     "name": "stderr",
     "output_type": "stream",
     "text": [
      "2025-05-12 21:52:41,911 - __main__ - ERROR - Error computing BERT similarity: 'float' object is not subscriptable\n",
      "2025-05-12 21:52:41,912 - __main__ - ERROR - Error computing BLEU score: \n",
      "**********************************************************************\n",
      "  Resource \u001b[93mpunkt_tab\u001b[0m not found.\n",
      "  Please use the NLTK Downloader to obtain the resource:\n",
      "\n",
      "  \u001b[31m>>> import nltk\n",
      "  >>> nltk.download('punkt_tab')\n",
      "  \u001b[0m\n",
      "  For more information see: https://www.nltk.org/data.html\n",
      "\n",
      "  Attempted to load \u001b[93mtokenizers/punkt_tab/english/\u001b[0m\n",
      "\n",
      "  Searched in:\n",
      "    - '/Users/bhargav/nltk_data'\n",
      "    - '/Library/Frameworks/Python.framework/Versions/3.13/nltk_data'\n",
      "    - '/Library/Frameworks/Python.framework/Versions/3.13/share/nltk_data'\n",
      "    - '/Library/Frameworks/Python.framework/Versions/3.13/lib/nltk_data'\n",
      "    - '/usr/share/nltk_data'\n",
      "    - '/usr/local/share/nltk_data'\n",
      "    - '/usr/lib/nltk_data'\n",
      "    - '/usr/local/lib/nltk_data'\n",
      "**********************************************************************\n",
      "\n",
      "2025-05-12 21:52:41,912 - __main__ - ERROR - Error computing ROUGE scores: \n",
      "2025-05-12 21:52:41,912 - __main__ - ERROR - Error computing Levenshtein similarity: object of type 'float' has no len()\n",
      "2025-05-12 21:52:41,913 - __main__ - ERROR - Error computing Jaccard similarity: \n",
      "**********************************************************************\n",
      "  Resource \u001b[93mpunkt_tab\u001b[0m not found.\n",
      "  Please use the NLTK Downloader to obtain the resource:\n",
      "\n",
      "  \u001b[31m>>> import nltk\n",
      "  >>> nltk.download('punkt_tab')\n",
      "  \u001b[0m\n",
      "  For more information see: https://www.nltk.org/data.html\n",
      "\n",
      "  Attempted to load \u001b[93mtokenizers/punkt_tab/english/\u001b[0m\n",
      "\n",
      "  Searched in:\n",
      "    - '/Users/bhargav/nltk_data'\n",
      "    - '/Library/Frameworks/Python.framework/Versions/3.13/nltk_data'\n",
      "    - '/Library/Frameworks/Python.framework/Versions/3.13/share/nltk_data'\n",
      "    - '/Library/Frameworks/Python.framework/Versions/3.13/lib/nltk_data'\n",
      "    - '/usr/share/nltk_data'\n",
      "    - '/usr/local/share/nltk_data'\n",
      "    - '/usr/lib/nltk_data'\n",
      "    - '/usr/local/lib/nltk_data'\n",
      "**********************************************************************\n",
      "\n"
     ]
    },
    {
     "data": {
      "application/vnd.jupyter.widget-view+json": {
       "model_id": "448525a4ce1f479abedbe2787643ecc4",
       "version_major": 2,
       "version_minor": 0
      },
      "text/plain": [
       "Batches:   0%|          | 0/1 [00:00<?, ?it/s]"
      ]
     },
     "metadata": {},
     "output_type": "display_data"
    },
    {
     "data": {
      "application/vnd.jupyter.widget-view+json": {
       "model_id": "5879d23655464cf08397492252d54ded",
       "version_major": 2,
       "version_minor": 0
      },
      "text/plain": [
       "Batches:   0%|          | 0/1 [00:00<?, ?it/s]"
      ]
     },
     "metadata": {},
     "output_type": "display_data"
    },
    {
     "name": "stderr",
     "output_type": "stream",
     "text": [
      "2025-05-12 21:52:41,926 - __main__ - ERROR - Error computing BERT similarity: 'float' object is not subscriptable\n",
      "2025-05-12 21:52:41,927 - __main__ - ERROR - Error computing BLEU score: \n",
      "**********************************************************************\n",
      "  Resource \u001b[93mpunkt_tab\u001b[0m not found.\n",
      "  Please use the NLTK Downloader to obtain the resource:\n",
      "\n",
      "  \u001b[31m>>> import nltk\n",
      "  >>> nltk.download('punkt_tab')\n",
      "  \u001b[0m\n",
      "  For more information see: https://www.nltk.org/data.html\n",
      "\n",
      "  Attempted to load \u001b[93mtokenizers/punkt_tab/english/\u001b[0m\n",
      "\n",
      "  Searched in:\n",
      "    - '/Users/bhargav/nltk_data'\n",
      "    - '/Library/Frameworks/Python.framework/Versions/3.13/nltk_data'\n",
      "    - '/Library/Frameworks/Python.framework/Versions/3.13/share/nltk_data'\n",
      "    - '/Library/Frameworks/Python.framework/Versions/3.13/lib/nltk_data'\n",
      "    - '/usr/share/nltk_data'\n",
      "    - '/usr/local/share/nltk_data'\n",
      "    - '/usr/lib/nltk_data'\n",
      "    - '/usr/local/lib/nltk_data'\n",
      "**********************************************************************\n",
      "\n",
      "2025-05-12 21:52:41,927 - __main__ - ERROR - Error computing ROUGE scores: \n",
      "2025-05-12 21:52:41,927 - __main__ - ERROR - Error computing Levenshtein similarity: object of type 'float' has no len()\n",
      "2025-05-12 21:52:41,928 - __main__ - ERROR - Error computing Jaccard similarity: \n",
      "**********************************************************************\n",
      "  Resource \u001b[93mpunkt_tab\u001b[0m not found.\n",
      "  Please use the NLTK Downloader to obtain the resource:\n",
      "\n",
      "  \u001b[31m>>> import nltk\n",
      "  >>> nltk.download('punkt_tab')\n",
      "  \u001b[0m\n",
      "  For more information see: https://www.nltk.org/data.html\n",
      "\n",
      "  Attempted to load \u001b[93mtokenizers/punkt_tab/english/\u001b[0m\n",
      "\n",
      "  Searched in:\n",
      "    - '/Users/bhargav/nltk_data'\n",
      "    - '/Library/Frameworks/Python.framework/Versions/3.13/nltk_data'\n",
      "    - '/Library/Frameworks/Python.framework/Versions/3.13/share/nltk_data'\n",
      "    - '/Library/Frameworks/Python.framework/Versions/3.13/lib/nltk_data'\n",
      "    - '/usr/share/nltk_data'\n",
      "    - '/usr/local/share/nltk_data'\n",
      "    - '/usr/lib/nltk_data'\n",
      "    - '/usr/local/lib/nltk_data'\n",
      "**********************************************************************\n",
      "\n"
     ]
    },
    {
     "data": {
      "application/vnd.jupyter.widget-view+json": {
       "model_id": "8f8f59ab0b37426f9c8582309d889572",
       "version_major": 2,
       "version_minor": 0
      },
      "text/plain": [
       "Batches:   0%|          | 0/1 [00:00<?, ?it/s]"
      ]
     },
     "metadata": {},
     "output_type": "display_data"
    },
    {
     "data": {
      "application/vnd.jupyter.widget-view+json": {
       "model_id": "390bbc9747404ac9aead70857f7d5292",
       "version_major": 2,
       "version_minor": 0
      },
      "text/plain": [
       "Batches:   0%|          | 0/1 [00:00<?, ?it/s]"
      ]
     },
     "metadata": {},
     "output_type": "display_data"
    },
    {
     "name": "stderr",
     "output_type": "stream",
     "text": [
      "2025-05-12 21:52:41,940 - __main__ - ERROR - Error computing BERT similarity: 'float' object is not subscriptable\n",
      "2025-05-12 21:52:41,941 - __main__ - ERROR - Error computing BLEU score: \n",
      "**********************************************************************\n",
      "  Resource \u001b[93mpunkt_tab\u001b[0m not found.\n",
      "  Please use the NLTK Downloader to obtain the resource:\n",
      "\n",
      "  \u001b[31m>>> import nltk\n",
      "  >>> nltk.download('punkt_tab')\n",
      "  \u001b[0m\n",
      "  For more information see: https://www.nltk.org/data.html\n",
      "\n",
      "  Attempted to load \u001b[93mtokenizers/punkt_tab/english/\u001b[0m\n",
      "\n",
      "  Searched in:\n",
      "    - '/Users/bhargav/nltk_data'\n",
      "    - '/Library/Frameworks/Python.framework/Versions/3.13/nltk_data'\n",
      "    - '/Library/Frameworks/Python.framework/Versions/3.13/share/nltk_data'\n",
      "    - '/Library/Frameworks/Python.framework/Versions/3.13/lib/nltk_data'\n",
      "    - '/usr/share/nltk_data'\n",
      "    - '/usr/local/share/nltk_data'\n",
      "    - '/usr/lib/nltk_data'\n",
      "    - '/usr/local/lib/nltk_data'\n",
      "**********************************************************************\n",
      "\n",
      "2025-05-12 21:52:41,941 - __main__ - ERROR - Error computing ROUGE scores: \n",
      "2025-05-12 21:52:41,941 - __main__ - ERROR - Error computing Levenshtein similarity: object of type 'float' has no len()\n",
      "2025-05-12 21:52:41,942 - __main__ - ERROR - Error computing Jaccard similarity: \n",
      "**********************************************************************\n",
      "  Resource \u001b[93mpunkt_tab\u001b[0m not found.\n",
      "  Please use the NLTK Downloader to obtain the resource:\n",
      "\n",
      "  \u001b[31m>>> import nltk\n",
      "  >>> nltk.download('punkt_tab')\n",
      "  \u001b[0m\n",
      "  For more information see: https://www.nltk.org/data.html\n",
      "\n",
      "  Attempted to load \u001b[93mtokenizers/punkt_tab/english/\u001b[0m\n",
      "\n",
      "  Searched in:\n",
      "    - '/Users/bhargav/nltk_data'\n",
      "    - '/Library/Frameworks/Python.framework/Versions/3.13/nltk_data'\n",
      "    - '/Library/Frameworks/Python.framework/Versions/3.13/share/nltk_data'\n",
      "    - '/Library/Frameworks/Python.framework/Versions/3.13/lib/nltk_data'\n",
      "    - '/usr/share/nltk_data'\n",
      "    - '/usr/local/share/nltk_data'\n",
      "    - '/usr/lib/nltk_data'\n",
      "    - '/usr/local/lib/nltk_data'\n",
      "**********************************************************************\n",
      "\n"
     ]
    },
    {
     "data": {
      "application/vnd.jupyter.widget-view+json": {
       "model_id": "4388dd94d03a4a9f9afa72fb188d20bf",
       "version_major": 2,
       "version_minor": 0
      },
      "text/plain": [
       "Batches:   0%|          | 0/1 [00:00<?, ?it/s]"
      ]
     },
     "metadata": {},
     "output_type": "display_data"
    },
    {
     "data": {
      "application/vnd.jupyter.widget-view+json": {
       "model_id": "f0b707b68e2342c6b526c74f6742046a",
       "version_major": 2,
       "version_minor": 0
      },
      "text/plain": [
       "Batches:   0%|          | 0/1 [00:00<?, ?it/s]"
      ]
     },
     "metadata": {},
     "output_type": "display_data"
    },
    {
     "name": "stderr",
     "output_type": "stream",
     "text": [
      "2025-05-12 21:52:41,954 - __main__ - ERROR - Error computing BERT similarity: 'float' object is not subscriptable\n",
      "2025-05-12 21:52:41,955 - __main__ - ERROR - Error computing BLEU score: \n",
      "**********************************************************************\n",
      "  Resource \u001b[93mpunkt_tab\u001b[0m not found.\n",
      "  Please use the NLTK Downloader to obtain the resource:\n",
      "\n",
      "  \u001b[31m>>> import nltk\n",
      "  >>> nltk.download('punkt_tab')\n",
      "  \u001b[0m\n",
      "  For more information see: https://www.nltk.org/data.html\n",
      "\n",
      "  Attempted to load \u001b[93mtokenizers/punkt_tab/english/\u001b[0m\n",
      "\n",
      "  Searched in:\n",
      "    - '/Users/bhargav/nltk_data'\n",
      "    - '/Library/Frameworks/Python.framework/Versions/3.13/nltk_data'\n",
      "    - '/Library/Frameworks/Python.framework/Versions/3.13/share/nltk_data'\n",
      "    - '/Library/Frameworks/Python.framework/Versions/3.13/lib/nltk_data'\n",
      "    - '/usr/share/nltk_data'\n",
      "    - '/usr/local/share/nltk_data'\n",
      "    - '/usr/lib/nltk_data'\n",
      "    - '/usr/local/lib/nltk_data'\n",
      "**********************************************************************\n",
      "\n",
      "2025-05-12 21:52:41,955 - __main__ - ERROR - Error computing ROUGE scores: \n",
      "2025-05-12 21:52:41,955 - __main__ - ERROR - Error computing Levenshtein similarity: object of type 'float' has no len()\n",
      "2025-05-12 21:52:41,956 - __main__ - ERROR - Error computing Jaccard similarity: \n",
      "**********************************************************************\n",
      "  Resource \u001b[93mpunkt_tab\u001b[0m not found.\n",
      "  Please use the NLTK Downloader to obtain the resource:\n",
      "\n",
      "  \u001b[31m>>> import nltk\n",
      "  >>> nltk.download('punkt_tab')\n",
      "  \u001b[0m\n",
      "  For more information see: https://www.nltk.org/data.html\n",
      "\n",
      "  Attempted to load \u001b[93mtokenizers/punkt_tab/english/\u001b[0m\n",
      "\n",
      "  Searched in:\n",
      "    - '/Users/bhargav/nltk_data'\n",
      "    - '/Library/Frameworks/Python.framework/Versions/3.13/nltk_data'\n",
      "    - '/Library/Frameworks/Python.framework/Versions/3.13/share/nltk_data'\n",
      "    - '/Library/Frameworks/Python.framework/Versions/3.13/lib/nltk_data'\n",
      "    - '/usr/share/nltk_data'\n",
      "    - '/usr/local/share/nltk_data'\n",
      "    - '/usr/lib/nltk_data'\n",
      "    - '/usr/local/lib/nltk_data'\n",
      "**********************************************************************\n",
      "\n"
     ]
    },
    {
     "data": {
      "application/vnd.jupyter.widget-view+json": {
       "model_id": "68a144fc0b044b2786a16c0e627c37cd",
       "version_major": 2,
       "version_minor": 0
      },
      "text/plain": [
       "Batches:   0%|          | 0/1 [00:00<?, ?it/s]"
      ]
     },
     "metadata": {},
     "output_type": "display_data"
    },
    {
     "data": {
      "application/vnd.jupyter.widget-view+json": {
       "model_id": "c05f1eec51004abd8ef5d2a30fdf9a85",
       "version_major": 2,
       "version_minor": 0
      },
      "text/plain": [
       "Batches:   0%|          | 0/1 [00:00<?, ?it/s]"
      ]
     },
     "metadata": {},
     "output_type": "display_data"
    },
    {
     "name": "stderr",
     "output_type": "stream",
     "text": [
      "2025-05-12 21:52:41,974 - __main__ - ERROR - Error computing BERT similarity: 'float' object is not subscriptable\n",
      "2025-05-12 21:52:41,975 - __main__ - ERROR - Error computing BLEU score: \n",
      "**********************************************************************\n",
      "  Resource \u001b[93mpunkt_tab\u001b[0m not found.\n",
      "  Please use the NLTK Downloader to obtain the resource:\n",
      "\n",
      "  \u001b[31m>>> import nltk\n",
      "  >>> nltk.download('punkt_tab')\n",
      "  \u001b[0m\n",
      "  For more information see: https://www.nltk.org/data.html\n",
      "\n",
      "  Attempted to load \u001b[93mtokenizers/punkt_tab/english/\u001b[0m\n",
      "\n",
      "  Searched in:\n",
      "    - '/Users/bhargav/nltk_data'\n",
      "    - '/Library/Frameworks/Python.framework/Versions/3.13/nltk_data'\n",
      "    - '/Library/Frameworks/Python.framework/Versions/3.13/share/nltk_data'\n",
      "    - '/Library/Frameworks/Python.framework/Versions/3.13/lib/nltk_data'\n",
      "    - '/usr/share/nltk_data'\n",
      "    - '/usr/local/share/nltk_data'\n",
      "    - '/usr/lib/nltk_data'\n",
      "    - '/usr/local/lib/nltk_data'\n",
      "**********************************************************************\n",
      "\n",
      "2025-05-12 21:52:41,975 - __main__ - ERROR - Error computing ROUGE scores: \n",
      "2025-05-12 21:52:41,976 - __main__ - ERROR - Error computing Levenshtein similarity: object of type 'float' has no len()\n",
      "2025-05-12 21:52:41,976 - __main__ - ERROR - Error computing Jaccard similarity: \n",
      "**********************************************************************\n",
      "  Resource \u001b[93mpunkt_tab\u001b[0m not found.\n",
      "  Please use the NLTK Downloader to obtain the resource:\n",
      "\n",
      "  \u001b[31m>>> import nltk\n",
      "  >>> nltk.download('punkt_tab')\n",
      "  \u001b[0m\n",
      "  For more information see: https://www.nltk.org/data.html\n",
      "\n",
      "  Attempted to load \u001b[93mtokenizers/punkt_tab/english/\u001b[0m\n",
      "\n",
      "  Searched in:\n",
      "    - '/Users/bhargav/nltk_data'\n",
      "    - '/Library/Frameworks/Python.framework/Versions/3.13/nltk_data'\n",
      "    - '/Library/Frameworks/Python.framework/Versions/3.13/share/nltk_data'\n",
      "    - '/Library/Frameworks/Python.framework/Versions/3.13/lib/nltk_data'\n",
      "    - '/usr/share/nltk_data'\n",
      "    - '/usr/local/share/nltk_data'\n",
      "    - '/usr/lib/nltk_data'\n",
      "    - '/usr/local/lib/nltk_data'\n",
      "**********************************************************************\n",
      "\n"
     ]
    },
    {
     "data": {
      "application/vnd.jupyter.widget-view+json": {
       "model_id": "4021a1200aa941b398e011d302dd6cae",
       "version_major": 2,
       "version_minor": 0
      },
      "text/plain": [
       "Batches:   0%|          | 0/1 [00:00<?, ?it/s]"
      ]
     },
     "metadata": {},
     "output_type": "display_data"
    },
    {
     "data": {
      "application/vnd.jupyter.widget-view+json": {
       "model_id": "61c2c1a655634f7ab4a0e01cf64a20cc",
       "version_major": 2,
       "version_minor": 0
      },
      "text/plain": [
       "Batches:   0%|          | 0/1 [00:00<?, ?it/s]"
      ]
     },
     "metadata": {},
     "output_type": "display_data"
    },
    {
     "name": "stderr",
     "output_type": "stream",
     "text": [
      "2025-05-12 21:52:41,988 - __main__ - ERROR - Error computing BERT similarity: 'float' object is not subscriptable\n",
      "Computing mistral_clean_similarities:  27%|█   | 31/115 [00:00<00:01, 57.78it/s]2025-05-12 21:52:41,989 - __main__ - ERROR - Error computing BLEU score: \n",
      "**********************************************************************\n",
      "  Resource \u001b[93mpunkt_tab\u001b[0m not found.\n",
      "  Please use the NLTK Downloader to obtain the resource:\n",
      "\n",
      "  \u001b[31m>>> import nltk\n",
      "  >>> nltk.download('punkt_tab')\n",
      "  \u001b[0m\n",
      "  For more information see: https://www.nltk.org/data.html\n",
      "\n",
      "  Attempted to load \u001b[93mtokenizers/punkt_tab/english/\u001b[0m\n",
      "\n",
      "  Searched in:\n",
      "    - '/Users/bhargav/nltk_data'\n",
      "    - '/Library/Frameworks/Python.framework/Versions/3.13/nltk_data'\n",
      "    - '/Library/Frameworks/Python.framework/Versions/3.13/share/nltk_data'\n",
      "    - '/Library/Frameworks/Python.framework/Versions/3.13/lib/nltk_data'\n",
      "    - '/usr/share/nltk_data'\n",
      "    - '/usr/local/share/nltk_data'\n",
      "    - '/usr/lib/nltk_data'\n",
      "    - '/usr/local/lib/nltk_data'\n",
      "**********************************************************************\n",
      "\n",
      "2025-05-12 21:52:41,989 - __main__ - ERROR - Error computing ROUGE scores: \n",
      "2025-05-12 21:52:41,989 - __main__ - ERROR - Error computing Levenshtein similarity: object of type 'float' has no len()\n",
      "2025-05-12 21:52:41,990 - __main__ - ERROR - Error computing Jaccard similarity: \n",
      "**********************************************************************\n",
      "  Resource \u001b[93mpunkt_tab\u001b[0m not found.\n",
      "  Please use the NLTK Downloader to obtain the resource:\n",
      "\n",
      "  \u001b[31m>>> import nltk\n",
      "  >>> nltk.download('punkt_tab')\n",
      "  \u001b[0m\n",
      "  For more information see: https://www.nltk.org/data.html\n",
      "\n",
      "  Attempted to load \u001b[93mtokenizers/punkt_tab/english/\u001b[0m\n",
      "\n",
      "  Searched in:\n",
      "    - '/Users/bhargav/nltk_data'\n",
      "    - '/Library/Frameworks/Python.framework/Versions/3.13/nltk_data'\n",
      "    - '/Library/Frameworks/Python.framework/Versions/3.13/share/nltk_data'\n",
      "    - '/Library/Frameworks/Python.framework/Versions/3.13/lib/nltk_data'\n",
      "    - '/usr/share/nltk_data'\n",
      "    - '/usr/local/share/nltk_data'\n",
      "    - '/usr/lib/nltk_data'\n",
      "    - '/usr/local/lib/nltk_data'\n",
      "**********************************************************************\n",
      "\n"
     ]
    },
    {
     "data": {
      "application/vnd.jupyter.widget-view+json": {
       "model_id": "92bd995e767f49f9bc109424de24f3a7",
       "version_major": 2,
       "version_minor": 0
      },
      "text/plain": [
       "Batches:   0%|          | 0/1 [00:00<?, ?it/s]"
      ]
     },
     "metadata": {},
     "output_type": "display_data"
    },
    {
     "data": {
      "application/vnd.jupyter.widget-view+json": {
       "model_id": "e9f677c7b49e4ef989ce2465754e971f",
       "version_major": 2,
       "version_minor": 0
      },
      "text/plain": [
       "Batches:   0%|          | 0/1 [00:00<?, ?it/s]"
      ]
     },
     "metadata": {},
     "output_type": "display_data"
    },
    {
     "name": "stderr",
     "output_type": "stream",
     "text": [
      "2025-05-12 21:52:42,002 - __main__ - ERROR - Error computing BERT similarity: 'float' object is not subscriptable\n",
      "2025-05-12 21:52:42,003 - __main__ - ERROR - Error computing BLEU score: \n",
      "**********************************************************************\n",
      "  Resource \u001b[93mpunkt_tab\u001b[0m not found.\n",
      "  Please use the NLTK Downloader to obtain the resource:\n",
      "\n",
      "  \u001b[31m>>> import nltk\n",
      "  >>> nltk.download('punkt_tab')\n",
      "  \u001b[0m\n",
      "  For more information see: https://www.nltk.org/data.html\n",
      "\n",
      "  Attempted to load \u001b[93mtokenizers/punkt_tab/english/\u001b[0m\n",
      "\n",
      "  Searched in:\n",
      "    - '/Users/bhargav/nltk_data'\n",
      "    - '/Library/Frameworks/Python.framework/Versions/3.13/nltk_data'\n",
      "    - '/Library/Frameworks/Python.framework/Versions/3.13/share/nltk_data'\n",
      "    - '/Library/Frameworks/Python.framework/Versions/3.13/lib/nltk_data'\n",
      "    - '/usr/share/nltk_data'\n",
      "    - '/usr/local/share/nltk_data'\n",
      "    - '/usr/lib/nltk_data'\n",
      "    - '/usr/local/lib/nltk_data'\n",
      "**********************************************************************\n",
      "\n",
      "2025-05-12 21:52:42,003 - __main__ - ERROR - Error computing ROUGE scores: \n",
      "2025-05-12 21:52:42,003 - __main__ - ERROR - Error computing Levenshtein similarity: object of type 'float' has no len()\n",
      "2025-05-12 21:52:42,004 - __main__ - ERROR - Error computing Jaccard similarity: \n",
      "**********************************************************************\n",
      "  Resource \u001b[93mpunkt_tab\u001b[0m not found.\n",
      "  Please use the NLTK Downloader to obtain the resource:\n",
      "\n",
      "  \u001b[31m>>> import nltk\n",
      "  >>> nltk.download('punkt_tab')\n",
      "  \u001b[0m\n",
      "  For more information see: https://www.nltk.org/data.html\n",
      "\n",
      "  Attempted to load \u001b[93mtokenizers/punkt_tab/english/\u001b[0m\n",
      "\n",
      "  Searched in:\n",
      "    - '/Users/bhargav/nltk_data'\n",
      "    - '/Library/Frameworks/Python.framework/Versions/3.13/nltk_data'\n",
      "    - '/Library/Frameworks/Python.framework/Versions/3.13/share/nltk_data'\n",
      "    - '/Library/Frameworks/Python.framework/Versions/3.13/lib/nltk_data'\n",
      "    - '/usr/share/nltk_data'\n",
      "    - '/usr/local/share/nltk_data'\n",
      "    - '/usr/lib/nltk_data'\n",
      "    - '/usr/local/lib/nltk_data'\n",
      "**********************************************************************\n",
      "\n"
     ]
    },
    {
     "data": {
      "application/vnd.jupyter.widget-view+json": {
       "model_id": "159541c4e9b64a348958c0fa405fc4a5",
       "version_major": 2,
       "version_minor": 0
      },
      "text/plain": [
       "Batches:   0%|          | 0/1 [00:00<?, ?it/s]"
      ]
     },
     "metadata": {},
     "output_type": "display_data"
    },
    {
     "data": {
      "application/vnd.jupyter.widget-view+json": {
       "model_id": "156922af44fc41eb9ba4f482a8d7e356",
       "version_major": 2,
       "version_minor": 0
      },
      "text/plain": [
       "Batches:   0%|          | 0/1 [00:00<?, ?it/s]"
      ]
     },
     "metadata": {},
     "output_type": "display_data"
    },
    {
     "name": "stderr",
     "output_type": "stream",
     "text": [
      "2025-05-12 21:52:42,016 - __main__ - ERROR - Error computing BERT similarity: 'float' object is not subscriptable\n",
      "2025-05-12 21:52:42,017 - __main__ - ERROR - Error computing BLEU score: \n",
      "**********************************************************************\n",
      "  Resource \u001b[93mpunkt_tab\u001b[0m not found.\n",
      "  Please use the NLTK Downloader to obtain the resource:\n",
      "\n",
      "  \u001b[31m>>> import nltk\n",
      "  >>> nltk.download('punkt_tab')\n",
      "  \u001b[0m\n",
      "  For more information see: https://www.nltk.org/data.html\n",
      "\n",
      "  Attempted to load \u001b[93mtokenizers/punkt_tab/english/\u001b[0m\n",
      "\n",
      "  Searched in:\n",
      "    - '/Users/bhargav/nltk_data'\n",
      "    - '/Library/Frameworks/Python.framework/Versions/3.13/nltk_data'\n",
      "    - '/Library/Frameworks/Python.framework/Versions/3.13/share/nltk_data'\n",
      "    - '/Library/Frameworks/Python.framework/Versions/3.13/lib/nltk_data'\n",
      "    - '/usr/share/nltk_data'\n",
      "    - '/usr/local/share/nltk_data'\n",
      "    - '/usr/lib/nltk_data'\n",
      "    - '/usr/local/lib/nltk_data'\n",
      "**********************************************************************\n",
      "\n",
      "2025-05-12 21:52:42,017 - __main__ - ERROR - Error computing ROUGE scores: \n",
      "2025-05-12 21:52:42,018 - __main__ - ERROR - Error computing Levenshtein similarity: object of type 'float' has no len()\n",
      "2025-05-12 21:52:42,018 - __main__ - ERROR - Error computing Jaccard similarity: \n",
      "**********************************************************************\n",
      "  Resource \u001b[93mpunkt_tab\u001b[0m not found.\n",
      "  Please use the NLTK Downloader to obtain the resource:\n",
      "\n",
      "  \u001b[31m>>> import nltk\n",
      "  >>> nltk.download('punkt_tab')\n",
      "  \u001b[0m\n",
      "  For more information see: https://www.nltk.org/data.html\n",
      "\n",
      "  Attempted to load \u001b[93mtokenizers/punkt_tab/english/\u001b[0m\n",
      "\n",
      "  Searched in:\n",
      "    - '/Users/bhargav/nltk_data'\n",
      "    - '/Library/Frameworks/Python.framework/Versions/3.13/nltk_data'\n",
      "    - '/Library/Frameworks/Python.framework/Versions/3.13/share/nltk_data'\n",
      "    - '/Library/Frameworks/Python.framework/Versions/3.13/lib/nltk_data'\n",
      "    - '/usr/share/nltk_data'\n",
      "    - '/usr/local/share/nltk_data'\n",
      "    - '/usr/lib/nltk_data'\n",
      "    - '/usr/local/lib/nltk_data'\n",
      "**********************************************************************\n",
      "\n"
     ]
    },
    {
     "data": {
      "application/vnd.jupyter.widget-view+json": {
       "model_id": "a8b754d0bd6c4a15b33865b1c7227b8c",
       "version_major": 2,
       "version_minor": 0
      },
      "text/plain": [
       "Batches:   0%|          | 0/1 [00:00<?, ?it/s]"
      ]
     },
     "metadata": {},
     "output_type": "display_data"
    },
    {
     "data": {
      "application/vnd.jupyter.widget-view+json": {
       "model_id": "dfbfa839747945c78e5b42264be77a20",
       "version_major": 2,
       "version_minor": 0
      },
      "text/plain": [
       "Batches:   0%|          | 0/1 [00:00<?, ?it/s]"
      ]
     },
     "metadata": {},
     "output_type": "display_data"
    },
    {
     "name": "stderr",
     "output_type": "stream",
     "text": [
      "2025-05-12 21:52:42,031 - __main__ - ERROR - Error computing BERT similarity: 'float' object is not subscriptable\n",
      "2025-05-12 21:52:42,032 - __main__ - ERROR - Error computing BLEU score: \n",
      "**********************************************************************\n",
      "  Resource \u001b[93mpunkt_tab\u001b[0m not found.\n",
      "  Please use the NLTK Downloader to obtain the resource:\n",
      "\n",
      "  \u001b[31m>>> import nltk\n",
      "  >>> nltk.download('punkt_tab')\n",
      "  \u001b[0m\n",
      "  For more information see: https://www.nltk.org/data.html\n",
      "\n",
      "  Attempted to load \u001b[93mtokenizers/punkt_tab/english/\u001b[0m\n",
      "\n",
      "  Searched in:\n",
      "    - '/Users/bhargav/nltk_data'\n",
      "    - '/Library/Frameworks/Python.framework/Versions/3.13/nltk_data'\n",
      "    - '/Library/Frameworks/Python.framework/Versions/3.13/share/nltk_data'\n",
      "    - '/Library/Frameworks/Python.framework/Versions/3.13/lib/nltk_data'\n",
      "    - '/usr/share/nltk_data'\n",
      "    - '/usr/local/share/nltk_data'\n",
      "    - '/usr/lib/nltk_data'\n",
      "    - '/usr/local/lib/nltk_data'\n",
      "**********************************************************************\n",
      "\n",
      "2025-05-12 21:52:42,032 - __main__ - ERROR - Error computing ROUGE scores: \n",
      "2025-05-12 21:52:42,032 - __main__ - ERROR - Error computing Levenshtein similarity: object of type 'float' has no len()\n",
      "2025-05-12 21:52:42,033 - __main__ - ERROR - Error computing Jaccard similarity: \n",
      "**********************************************************************\n",
      "  Resource \u001b[93mpunkt_tab\u001b[0m not found.\n",
      "  Please use the NLTK Downloader to obtain the resource:\n",
      "\n",
      "  \u001b[31m>>> import nltk\n",
      "  >>> nltk.download('punkt_tab')\n",
      "  \u001b[0m\n",
      "  For more information see: https://www.nltk.org/data.html\n",
      "\n",
      "  Attempted to load \u001b[93mtokenizers/punkt_tab/english/\u001b[0m\n",
      "\n",
      "  Searched in:\n",
      "    - '/Users/bhargav/nltk_data'\n",
      "    - '/Library/Frameworks/Python.framework/Versions/3.13/nltk_data'\n",
      "    - '/Library/Frameworks/Python.framework/Versions/3.13/share/nltk_data'\n",
      "    - '/Library/Frameworks/Python.framework/Versions/3.13/lib/nltk_data'\n",
      "    - '/usr/share/nltk_data'\n",
      "    - '/usr/local/share/nltk_data'\n",
      "    - '/usr/lib/nltk_data'\n",
      "    - '/usr/local/lib/nltk_data'\n",
      "**********************************************************************\n",
      "\n"
     ]
    },
    {
     "data": {
      "application/vnd.jupyter.widget-view+json": {
       "model_id": "84d608175f854811a13d95944b68a71b",
       "version_major": 2,
       "version_minor": 0
      },
      "text/plain": [
       "Batches:   0%|          | 0/1 [00:00<?, ?it/s]"
      ]
     },
     "metadata": {},
     "output_type": "display_data"
    },
    {
     "data": {
      "application/vnd.jupyter.widget-view+json": {
       "model_id": "800510c8e3e94ce1ae3096e4b7de203a",
       "version_major": 2,
       "version_minor": 0
      },
      "text/plain": [
       "Batches:   0%|          | 0/1 [00:00<?, ?it/s]"
      ]
     },
     "metadata": {},
     "output_type": "display_data"
    },
    {
     "name": "stderr",
     "output_type": "stream",
     "text": [
      "2025-05-12 21:52:42,044 - __main__ - ERROR - Error computing BERT similarity: 'float' object is not subscriptable\n",
      "2025-05-12 21:52:42,045 - __main__ - ERROR - Error computing BLEU score: \n",
      "**********************************************************************\n",
      "  Resource \u001b[93mpunkt_tab\u001b[0m not found.\n",
      "  Please use the NLTK Downloader to obtain the resource:\n",
      "\n",
      "  \u001b[31m>>> import nltk\n",
      "  >>> nltk.download('punkt_tab')\n",
      "  \u001b[0m\n",
      "  For more information see: https://www.nltk.org/data.html\n",
      "\n",
      "  Attempted to load \u001b[93mtokenizers/punkt_tab/english/\u001b[0m\n",
      "\n",
      "  Searched in:\n",
      "    - '/Users/bhargav/nltk_data'\n",
      "    - '/Library/Frameworks/Python.framework/Versions/3.13/nltk_data'\n",
      "    - '/Library/Frameworks/Python.framework/Versions/3.13/share/nltk_data'\n",
      "    - '/Library/Frameworks/Python.framework/Versions/3.13/lib/nltk_data'\n",
      "    - '/usr/share/nltk_data'\n",
      "    - '/usr/local/share/nltk_data'\n",
      "    - '/usr/lib/nltk_data'\n",
      "    - '/usr/local/lib/nltk_data'\n",
      "**********************************************************************\n",
      "\n",
      "2025-05-12 21:52:42,045 - __main__ - ERROR - Error computing ROUGE scores: \n",
      "2025-05-12 21:52:42,045 - __main__ - ERROR - Error computing Levenshtein similarity: object of type 'float' has no len()\n",
      "2025-05-12 21:52:42,046 - __main__ - ERROR - Error computing Jaccard similarity: \n",
      "**********************************************************************\n",
      "  Resource \u001b[93mpunkt_tab\u001b[0m not found.\n",
      "  Please use the NLTK Downloader to obtain the resource:\n",
      "\n",
      "  \u001b[31m>>> import nltk\n",
      "  >>> nltk.download('punkt_tab')\n",
      "  \u001b[0m\n",
      "  For more information see: https://www.nltk.org/data.html\n",
      "\n",
      "  Attempted to load \u001b[93mtokenizers/punkt_tab/english/\u001b[0m\n",
      "\n",
      "  Searched in:\n",
      "    - '/Users/bhargav/nltk_data'\n",
      "    - '/Library/Frameworks/Python.framework/Versions/3.13/nltk_data'\n",
      "    - '/Library/Frameworks/Python.framework/Versions/3.13/share/nltk_data'\n",
      "    - '/Library/Frameworks/Python.framework/Versions/3.13/lib/nltk_data'\n",
      "    - '/usr/share/nltk_data'\n",
      "    - '/usr/local/share/nltk_data'\n",
      "    - '/usr/lib/nltk_data'\n",
      "    - '/usr/local/lib/nltk_data'\n",
      "**********************************************************************\n",
      "\n"
     ]
    },
    {
     "data": {
      "application/vnd.jupyter.widget-view+json": {
       "model_id": "3ce44e13fadb44a3a532a30007122bcd",
       "version_major": 2,
       "version_minor": 0
      },
      "text/plain": [
       "Batches:   0%|          | 0/1 [00:00<?, ?it/s]"
      ]
     },
     "metadata": {},
     "output_type": "display_data"
    },
    {
     "data": {
      "application/vnd.jupyter.widget-view+json": {
       "model_id": "60b7c84d7ce647edafad31f97637e07d",
       "version_major": 2,
       "version_minor": 0
      },
      "text/plain": [
       "Batches:   0%|          | 0/1 [00:00<?, ?it/s]"
      ]
     },
     "metadata": {},
     "output_type": "display_data"
    },
    {
     "name": "stderr",
     "output_type": "stream",
     "text": [
      "2025-05-12 21:52:42,058 - __main__ - ERROR - Error computing BERT similarity: 'float' object is not subscriptable\n",
      "2025-05-12 21:52:42,060 - __main__ - ERROR - Error computing BLEU score: \n",
      "**********************************************************************\n",
      "  Resource \u001b[93mpunkt_tab\u001b[0m not found.\n",
      "  Please use the NLTK Downloader to obtain the resource:\n",
      "\n",
      "  \u001b[31m>>> import nltk\n",
      "  >>> nltk.download('punkt_tab')\n",
      "  \u001b[0m\n",
      "  For more information see: https://www.nltk.org/data.html\n",
      "\n",
      "  Attempted to load \u001b[93mtokenizers/punkt_tab/english/\u001b[0m\n",
      "\n",
      "  Searched in:\n",
      "    - '/Users/bhargav/nltk_data'\n",
      "    - '/Library/Frameworks/Python.framework/Versions/3.13/nltk_data'\n",
      "    - '/Library/Frameworks/Python.framework/Versions/3.13/share/nltk_data'\n",
      "    - '/Library/Frameworks/Python.framework/Versions/3.13/lib/nltk_data'\n",
      "    - '/usr/share/nltk_data'\n",
      "    - '/usr/local/share/nltk_data'\n",
      "    - '/usr/lib/nltk_data'\n",
      "    - '/usr/local/lib/nltk_data'\n",
      "**********************************************************************\n",
      "\n",
      "2025-05-12 21:52:42,060 - __main__ - ERROR - Error computing ROUGE scores: \n",
      "2025-05-12 21:52:42,060 - __main__ - ERROR - Error computing Levenshtein similarity: object of type 'float' has no len()\n",
      "2025-05-12 21:52:42,061 - __main__ - ERROR - Error computing Jaccard similarity: \n",
      "**********************************************************************\n",
      "  Resource \u001b[93mpunkt_tab\u001b[0m not found.\n",
      "  Please use the NLTK Downloader to obtain the resource:\n",
      "\n",
      "  \u001b[31m>>> import nltk\n",
      "  >>> nltk.download('punkt_tab')\n",
      "  \u001b[0m\n",
      "  For more information see: https://www.nltk.org/data.html\n",
      "\n",
      "  Attempted to load \u001b[93mtokenizers/punkt_tab/english/\u001b[0m\n",
      "\n",
      "  Searched in:\n",
      "    - '/Users/bhargav/nltk_data'\n",
      "    - '/Library/Frameworks/Python.framework/Versions/3.13/nltk_data'\n",
      "    - '/Library/Frameworks/Python.framework/Versions/3.13/share/nltk_data'\n",
      "    - '/Library/Frameworks/Python.framework/Versions/3.13/lib/nltk_data'\n",
      "    - '/usr/share/nltk_data'\n",
      "    - '/usr/local/share/nltk_data'\n",
      "    - '/usr/lib/nltk_data'\n",
      "    - '/usr/local/lib/nltk_data'\n",
      "**********************************************************************\n",
      "\n"
     ]
    },
    {
     "data": {
      "application/vnd.jupyter.widget-view+json": {
       "model_id": "c40a474efb824dbeacb4ae439f75ef5d",
       "version_major": 2,
       "version_minor": 0
      },
      "text/plain": [
       "Batches:   0%|          | 0/1 [00:00<?, ?it/s]"
      ]
     },
     "metadata": {},
     "output_type": "display_data"
    },
    {
     "data": {
      "application/vnd.jupyter.widget-view+json": {
       "model_id": "cbd027f87ade4f93b931c58b7ed7fe84",
       "version_major": 2,
       "version_minor": 0
      },
      "text/plain": [
       "Batches:   0%|          | 0/1 [00:00<?, ?it/s]"
      ]
     },
     "metadata": {},
     "output_type": "display_data"
    },
    {
     "name": "stderr",
     "output_type": "stream",
     "text": [
      "2025-05-12 21:52:42,073 - __main__ - ERROR - Error computing BERT similarity: 'float' object is not subscriptable\n",
      "2025-05-12 21:52:42,074 - __main__ - ERROR - Error computing BLEU score: \n",
      "**********************************************************************\n",
      "  Resource \u001b[93mpunkt_tab\u001b[0m not found.\n",
      "  Please use the NLTK Downloader to obtain the resource:\n",
      "\n",
      "  \u001b[31m>>> import nltk\n",
      "  >>> nltk.download('punkt_tab')\n",
      "  \u001b[0m\n",
      "  For more information see: https://www.nltk.org/data.html\n",
      "\n",
      "  Attempted to load \u001b[93mtokenizers/punkt_tab/english/\u001b[0m\n",
      "\n",
      "  Searched in:\n",
      "    - '/Users/bhargav/nltk_data'\n",
      "    - '/Library/Frameworks/Python.framework/Versions/3.13/nltk_data'\n",
      "    - '/Library/Frameworks/Python.framework/Versions/3.13/share/nltk_data'\n",
      "    - '/Library/Frameworks/Python.framework/Versions/3.13/lib/nltk_data'\n",
      "    - '/usr/share/nltk_data'\n",
      "    - '/usr/local/share/nltk_data'\n",
      "    - '/usr/lib/nltk_data'\n",
      "    - '/usr/local/lib/nltk_data'\n",
      "**********************************************************************\n",
      "\n",
      "2025-05-12 21:52:42,074 - __main__ - ERROR - Error computing ROUGE scores: \n",
      "2025-05-12 21:52:42,074 - __main__ - ERROR - Error computing Levenshtein similarity: object of type 'float' has no len()\n",
      "2025-05-12 21:52:42,075 - __main__ - ERROR - Error computing Jaccard similarity: \n",
      "**********************************************************************\n",
      "  Resource \u001b[93mpunkt_tab\u001b[0m not found.\n",
      "  Please use the NLTK Downloader to obtain the resource:\n",
      "\n",
      "  \u001b[31m>>> import nltk\n",
      "  >>> nltk.download('punkt_tab')\n",
      "  \u001b[0m\n",
      "  For more information see: https://www.nltk.org/data.html\n",
      "\n",
      "  Attempted to load \u001b[93mtokenizers/punkt_tab/english/\u001b[0m\n",
      "\n",
      "  Searched in:\n",
      "    - '/Users/bhargav/nltk_data'\n",
      "    - '/Library/Frameworks/Python.framework/Versions/3.13/nltk_data'\n",
      "    - '/Library/Frameworks/Python.framework/Versions/3.13/share/nltk_data'\n",
      "    - '/Library/Frameworks/Python.framework/Versions/3.13/lib/nltk_data'\n",
      "    - '/usr/share/nltk_data'\n",
      "    - '/usr/local/share/nltk_data'\n",
      "    - '/usr/lib/nltk_data'\n",
      "    - '/usr/local/lib/nltk_data'\n",
      "**********************************************************************\n",
      "\n"
     ]
    },
    {
     "data": {
      "application/vnd.jupyter.widget-view+json": {
       "model_id": "44e0b6dd7b8c460d98f0dcd6be53c20a",
       "version_major": 2,
       "version_minor": 0
      },
      "text/plain": [
       "Batches:   0%|          | 0/1 [00:00<?, ?it/s]"
      ]
     },
     "metadata": {},
     "output_type": "display_data"
    },
    {
     "data": {
      "application/vnd.jupyter.widget-view+json": {
       "model_id": "f389d4e0c04d4ee78bc52a9c740d6f24",
       "version_major": 2,
       "version_minor": 0
      },
      "text/plain": [
       "Batches:   0%|          | 0/1 [00:00<?, ?it/s]"
      ]
     },
     "metadata": {},
     "output_type": "display_data"
    },
    {
     "name": "stderr",
     "output_type": "stream",
     "text": [
      "2025-05-12 21:52:42,087 - __main__ - ERROR - Error computing BERT similarity: 'float' object is not subscriptable\n",
      "2025-05-12 21:52:42,088 - __main__ - ERROR - Error computing BLEU score: \n",
      "**********************************************************************\n",
      "  Resource \u001b[93mpunkt_tab\u001b[0m not found.\n",
      "  Please use the NLTK Downloader to obtain the resource:\n",
      "\n",
      "  \u001b[31m>>> import nltk\n",
      "  >>> nltk.download('punkt_tab')\n",
      "  \u001b[0m\n",
      "  For more information see: https://www.nltk.org/data.html\n",
      "\n",
      "  Attempted to load \u001b[93mtokenizers/punkt_tab/english/\u001b[0m\n",
      "\n",
      "  Searched in:\n",
      "    - '/Users/bhargav/nltk_data'\n",
      "    - '/Library/Frameworks/Python.framework/Versions/3.13/nltk_data'\n",
      "    - '/Library/Frameworks/Python.framework/Versions/3.13/share/nltk_data'\n",
      "    - '/Library/Frameworks/Python.framework/Versions/3.13/lib/nltk_data'\n",
      "    - '/usr/share/nltk_data'\n",
      "    - '/usr/local/share/nltk_data'\n",
      "    - '/usr/lib/nltk_data'\n",
      "    - '/usr/local/lib/nltk_data'\n",
      "**********************************************************************\n",
      "\n",
      "2025-05-12 21:52:42,092 - __main__ - ERROR - Error computing Jaccard similarity: \n",
      "**********************************************************************\n",
      "  Resource \u001b[93mpunkt_tab\u001b[0m not found.\n",
      "  Please use the NLTK Downloader to obtain the resource:\n",
      "\n",
      "  \u001b[31m>>> import nltk\n",
      "  >>> nltk.download('punkt_tab')\n",
      "  \u001b[0m\n",
      "  For more information see: https://www.nltk.org/data.html\n",
      "\n",
      "  Attempted to load \u001b[93mtokenizers/punkt_tab/english/\u001b[0m\n",
      "\n",
      "  Searched in:\n",
      "    - '/Users/bhargav/nltk_data'\n",
      "    - '/Library/Frameworks/Python.framework/Versions/3.13/nltk_data'\n",
      "    - '/Library/Frameworks/Python.framework/Versions/3.13/share/nltk_data'\n",
      "    - '/Library/Frameworks/Python.framework/Versions/3.13/lib/nltk_data'\n",
      "    - '/usr/share/nltk_data'\n",
      "    - '/usr/local/share/nltk_data'\n",
      "    - '/usr/lib/nltk_data'\n",
      "    - '/usr/local/lib/nltk_data'\n",
      "**********************************************************************\n",
      "\n"
     ]
    },
    {
     "data": {
      "application/vnd.jupyter.widget-view+json": {
       "model_id": "9b7c9e1b64fa437fa4211af976706286",
       "version_major": 2,
       "version_minor": 0
      },
      "text/plain": [
       "Batches:   0%|          | 0/1 [00:00<?, ?it/s]"
      ]
     },
     "metadata": {},
     "output_type": "display_data"
    },
    {
     "data": {
      "application/vnd.jupyter.widget-view+json": {
       "model_id": "f1241c39e0764e219db029d255546815",
       "version_major": 2,
       "version_minor": 0
      },
      "text/plain": [
       "Batches:   0%|          | 0/1 [00:00<?, ?it/s]"
      ]
     },
     "metadata": {},
     "output_type": "display_data"
    },
    {
     "name": "stderr",
     "output_type": "stream",
     "text": [
      "Computing mistral_clean_similarities:  34%|█▎  | 39/115 [00:00<00:01, 60.44it/s]2025-05-12 21:52:42,111 - __main__ - ERROR - Error computing BLEU score: \n",
      "**********************************************************************\n",
      "  Resource \u001b[93mpunkt_tab\u001b[0m not found.\n",
      "  Please use the NLTK Downloader to obtain the resource:\n",
      "\n",
      "  \u001b[31m>>> import nltk\n",
      "  >>> nltk.download('punkt_tab')\n",
      "  \u001b[0m\n",
      "  For more information see: https://www.nltk.org/data.html\n",
      "\n",
      "  Attempted to load \u001b[93mtokenizers/punkt_tab/english/\u001b[0m\n",
      "\n",
      "  Searched in:\n",
      "    - '/Users/bhargav/nltk_data'\n",
      "    - '/Library/Frameworks/Python.framework/Versions/3.13/nltk_data'\n",
      "    - '/Library/Frameworks/Python.framework/Versions/3.13/share/nltk_data'\n",
      "    - '/Library/Frameworks/Python.framework/Versions/3.13/lib/nltk_data'\n",
      "    - '/usr/share/nltk_data'\n",
      "    - '/usr/local/share/nltk_data'\n",
      "    - '/usr/lib/nltk_data'\n",
      "    - '/usr/local/lib/nltk_data'\n",
      "**********************************************************************\n",
      "\n",
      "2025-05-12 21:52:42,112 - __main__ - ERROR - Error computing ROUGE scores: \n",
      "2025-05-12 21:52:42,112 - __main__ - ERROR - Error computing Levenshtein similarity: object of type 'float' has no len()\n",
      "2025-05-12 21:52:42,112 - __main__ - ERROR - Error computing Jaccard similarity: \n",
      "**********************************************************************\n",
      "  Resource \u001b[93mpunkt_tab\u001b[0m not found.\n",
      "  Please use the NLTK Downloader to obtain the resource:\n",
      "\n",
      "  \u001b[31m>>> import nltk\n",
      "  >>> nltk.download('punkt_tab')\n",
      "  \u001b[0m\n",
      "  For more information see: https://www.nltk.org/data.html\n",
      "\n",
      "  Attempted to load \u001b[93mtokenizers/punkt_tab/english/\u001b[0m\n",
      "\n",
      "  Searched in:\n",
      "    - '/Users/bhargav/nltk_data'\n",
      "    - '/Library/Frameworks/Python.framework/Versions/3.13/nltk_data'\n",
      "    - '/Library/Frameworks/Python.framework/Versions/3.13/share/nltk_data'\n",
      "    - '/Library/Frameworks/Python.framework/Versions/3.13/lib/nltk_data'\n",
      "    - '/usr/share/nltk_data'\n",
      "    - '/usr/local/share/nltk_data'\n",
      "    - '/usr/lib/nltk_data'\n",
      "    - '/usr/local/lib/nltk_data'\n",
      "**********************************************************************\n",
      "\n"
     ]
    },
    {
     "data": {
      "application/vnd.jupyter.widget-view+json": {
       "model_id": "5241aba50add4d6f8fb8ac8a6ae6de82",
       "version_major": 2,
       "version_minor": 0
      },
      "text/plain": [
       "Batches:   0%|          | 0/1 [00:00<?, ?it/s]"
      ]
     },
     "metadata": {},
     "output_type": "display_data"
    },
    {
     "data": {
      "application/vnd.jupyter.widget-view+json": {
       "model_id": "0f9a52159a4749b79b777d1574d3f3ab",
       "version_major": 2,
       "version_minor": 0
      },
      "text/plain": [
       "Batches:   0%|          | 0/1 [00:00<?, ?it/s]"
      ]
     },
     "metadata": {},
     "output_type": "display_data"
    },
    {
     "name": "stderr",
     "output_type": "stream",
     "text": [
      "2025-05-12 21:52:42,124 - __main__ - ERROR - Error computing BERT similarity: 'float' object is not subscriptable\n",
      "2025-05-12 21:52:42,125 - __main__ - ERROR - Error computing BLEU score: \n",
      "**********************************************************************\n",
      "  Resource \u001b[93mpunkt_tab\u001b[0m not found.\n",
      "  Please use the NLTK Downloader to obtain the resource:\n",
      "\n",
      "  \u001b[31m>>> import nltk\n",
      "  >>> nltk.download('punkt_tab')\n",
      "  \u001b[0m\n",
      "  For more information see: https://www.nltk.org/data.html\n",
      "\n",
      "  Attempted to load \u001b[93mtokenizers/punkt_tab/english/\u001b[0m\n",
      "\n",
      "  Searched in:\n",
      "    - '/Users/bhargav/nltk_data'\n",
      "    - '/Library/Frameworks/Python.framework/Versions/3.13/nltk_data'\n",
      "    - '/Library/Frameworks/Python.framework/Versions/3.13/share/nltk_data'\n",
      "    - '/Library/Frameworks/Python.framework/Versions/3.13/lib/nltk_data'\n",
      "    - '/usr/share/nltk_data'\n",
      "    - '/usr/local/share/nltk_data'\n",
      "    - '/usr/lib/nltk_data'\n",
      "    - '/usr/local/lib/nltk_data'\n",
      "**********************************************************************\n",
      "\n",
      "2025-05-12 21:52:42,125 - __main__ - ERROR - Error computing ROUGE scores: \n",
      "2025-05-12 21:52:42,125 - __main__ - ERROR - Error computing Levenshtein similarity: object of type 'float' has no len()\n",
      "2025-05-12 21:52:42,126 - __main__ - ERROR - Error computing Jaccard similarity: \n",
      "**********************************************************************\n",
      "  Resource \u001b[93mpunkt_tab\u001b[0m not found.\n",
      "  Please use the NLTK Downloader to obtain the resource:\n",
      "\n",
      "  \u001b[31m>>> import nltk\n",
      "  >>> nltk.download('punkt_tab')\n",
      "  \u001b[0m\n",
      "  For more information see: https://www.nltk.org/data.html\n",
      "\n",
      "  Attempted to load \u001b[93mtokenizers/punkt_tab/english/\u001b[0m\n",
      "\n",
      "  Searched in:\n",
      "    - '/Users/bhargav/nltk_data'\n",
      "    - '/Library/Frameworks/Python.framework/Versions/3.13/nltk_data'\n",
      "    - '/Library/Frameworks/Python.framework/Versions/3.13/share/nltk_data'\n",
      "    - '/Library/Frameworks/Python.framework/Versions/3.13/lib/nltk_data'\n",
      "    - '/usr/share/nltk_data'\n",
      "    - '/usr/local/share/nltk_data'\n",
      "    - '/usr/lib/nltk_data'\n",
      "    - '/usr/local/lib/nltk_data'\n",
      "**********************************************************************\n",
      "\n"
     ]
    },
    {
     "data": {
      "application/vnd.jupyter.widget-view+json": {
       "model_id": "07ff434a4ba144ff8d372d2f446e7e52",
       "version_major": 2,
       "version_minor": 0
      },
      "text/plain": [
       "Batches:   0%|          | 0/1 [00:00<?, ?it/s]"
      ]
     },
     "metadata": {},
     "output_type": "display_data"
    },
    {
     "data": {
      "application/vnd.jupyter.widget-view+json": {
       "model_id": "52f2a1456cbe4430ae8bb8c0a7ce6be4",
       "version_major": 2,
       "version_minor": 0
      },
      "text/plain": [
       "Batches:   0%|          | 0/1 [00:00<?, ?it/s]"
      ]
     },
     "metadata": {},
     "output_type": "display_data"
    },
    {
     "name": "stderr",
     "output_type": "stream",
     "text": [
      "2025-05-12 21:52:42,140 - __main__ - ERROR - Error computing BERT similarity: 'float' object is not subscriptable\n",
      "2025-05-12 21:52:42,142 - __main__ - ERROR - Error computing BLEU score: \n",
      "**********************************************************************\n",
      "  Resource \u001b[93mpunkt_tab\u001b[0m not found.\n",
      "  Please use the NLTK Downloader to obtain the resource:\n",
      "\n",
      "  \u001b[31m>>> import nltk\n",
      "  >>> nltk.download('punkt_tab')\n",
      "  \u001b[0m\n",
      "  For more information see: https://www.nltk.org/data.html\n",
      "\n",
      "  Attempted to load \u001b[93mtokenizers/punkt_tab/english/\u001b[0m\n",
      "\n",
      "  Searched in:\n",
      "    - '/Users/bhargav/nltk_data'\n",
      "    - '/Library/Frameworks/Python.framework/Versions/3.13/nltk_data'\n",
      "    - '/Library/Frameworks/Python.framework/Versions/3.13/share/nltk_data'\n",
      "    - '/Library/Frameworks/Python.framework/Versions/3.13/lib/nltk_data'\n",
      "    - '/usr/share/nltk_data'\n",
      "    - '/usr/local/share/nltk_data'\n",
      "    - '/usr/lib/nltk_data'\n",
      "    - '/usr/local/lib/nltk_data'\n",
      "**********************************************************************\n",
      "\n",
      "2025-05-12 21:52:42,142 - __main__ - ERROR - Error computing ROUGE scores: \n",
      "2025-05-12 21:52:42,142 - __main__ - ERROR - Error computing Levenshtein similarity: object of type 'float' has no len()\n",
      "2025-05-12 21:52:42,143 - __main__ - ERROR - Error computing Jaccard similarity: \n",
      "**********************************************************************\n",
      "  Resource \u001b[93mpunkt_tab\u001b[0m not found.\n",
      "  Please use the NLTK Downloader to obtain the resource:\n",
      "\n",
      "  \u001b[31m>>> import nltk\n",
      "  >>> nltk.download('punkt_tab')\n",
      "  \u001b[0m\n",
      "  For more information see: https://www.nltk.org/data.html\n",
      "\n",
      "  Attempted to load \u001b[93mtokenizers/punkt_tab/english/\u001b[0m\n",
      "\n",
      "  Searched in:\n",
      "    - '/Users/bhargav/nltk_data'\n",
      "    - '/Library/Frameworks/Python.framework/Versions/3.13/nltk_data'\n",
      "    - '/Library/Frameworks/Python.framework/Versions/3.13/share/nltk_data'\n",
      "    - '/Library/Frameworks/Python.framework/Versions/3.13/lib/nltk_data'\n",
      "    - '/usr/share/nltk_data'\n",
      "    - '/usr/local/share/nltk_data'\n",
      "    - '/usr/lib/nltk_data'\n",
      "    - '/usr/local/lib/nltk_data'\n",
      "**********************************************************************\n",
      "\n"
     ]
    },
    {
     "data": {
      "application/vnd.jupyter.widget-view+json": {
       "model_id": "33b2059699544c2d83f61775354391cf",
       "version_major": 2,
       "version_minor": 0
      },
      "text/plain": [
       "Batches:   0%|          | 0/1 [00:00<?, ?it/s]"
      ]
     },
     "metadata": {},
     "output_type": "display_data"
    },
    {
     "data": {
      "application/vnd.jupyter.widget-view+json": {
       "model_id": "efa237595033447889cfab793fd6d8f5",
       "version_major": 2,
       "version_minor": 0
      },
      "text/plain": [
       "Batches:   0%|          | 0/1 [00:00<?, ?it/s]"
      ]
     },
     "metadata": {},
     "output_type": "display_data"
    },
    {
     "name": "stderr",
     "output_type": "stream",
     "text": [
      "2025-05-12 21:52:42,164 - __main__ - ERROR - Error computing BERT similarity: 'float' object is not subscriptable\n",
      "2025-05-12 21:52:42,165 - __main__ - ERROR - Error computing BLEU score: \n",
      "**********************************************************************\n",
      "  Resource \u001b[93mpunkt_tab\u001b[0m not found.\n",
      "  Please use the NLTK Downloader to obtain the resource:\n",
      "\n",
      "  \u001b[31m>>> import nltk\n",
      "  >>> nltk.download('punkt_tab')\n",
      "  \u001b[0m\n",
      "  For more information see: https://www.nltk.org/data.html\n",
      "\n",
      "  Attempted to load \u001b[93mtokenizers/punkt_tab/english/\u001b[0m\n",
      "\n",
      "  Searched in:\n",
      "    - '/Users/bhargav/nltk_data'\n",
      "    - '/Library/Frameworks/Python.framework/Versions/3.13/nltk_data'\n",
      "    - '/Library/Frameworks/Python.framework/Versions/3.13/share/nltk_data'\n",
      "    - '/Library/Frameworks/Python.framework/Versions/3.13/lib/nltk_data'\n",
      "    - '/usr/share/nltk_data'\n",
      "    - '/usr/local/share/nltk_data'\n",
      "    - '/usr/lib/nltk_data'\n",
      "    - '/usr/local/lib/nltk_data'\n",
      "**********************************************************************\n",
      "\n",
      "2025-05-12 21:52:42,166 - __main__ - ERROR - Error computing ROUGE scores: \n",
      "2025-05-12 21:52:42,166 - __main__ - ERROR - Error computing Levenshtein similarity: object of type 'float' has no len()\n",
      "2025-05-12 21:52:42,167 - __main__ - ERROR - Error computing Jaccard similarity: \n",
      "**********************************************************************\n",
      "  Resource \u001b[93mpunkt_tab\u001b[0m not found.\n",
      "  Please use the NLTK Downloader to obtain the resource:\n",
      "\n",
      "  \u001b[31m>>> import nltk\n",
      "  >>> nltk.download('punkt_tab')\n",
      "  \u001b[0m\n",
      "  For more information see: https://www.nltk.org/data.html\n",
      "\n",
      "  Attempted to load \u001b[93mtokenizers/punkt_tab/english/\u001b[0m\n",
      "\n",
      "  Searched in:\n",
      "    - '/Users/bhargav/nltk_data'\n",
      "    - '/Library/Frameworks/Python.framework/Versions/3.13/nltk_data'\n",
      "    - '/Library/Frameworks/Python.framework/Versions/3.13/share/nltk_data'\n",
      "    - '/Library/Frameworks/Python.framework/Versions/3.13/lib/nltk_data'\n",
      "    - '/usr/share/nltk_data'\n",
      "    - '/usr/local/share/nltk_data'\n",
      "    - '/usr/lib/nltk_data'\n",
      "    - '/usr/local/lib/nltk_data'\n",
      "**********************************************************************\n",
      "\n"
     ]
    },
    {
     "data": {
      "application/vnd.jupyter.widget-view+json": {
       "model_id": "c837ef765988484d81f38d8eb18a5c60",
       "version_major": 2,
       "version_minor": 0
      },
      "text/plain": [
       "Batches:   0%|          | 0/1 [00:00<?, ?it/s]"
      ]
     },
     "metadata": {},
     "output_type": "display_data"
    },
    {
     "data": {
      "application/vnd.jupyter.widget-view+json": {
       "model_id": "1b30bf1daa6643c9a24c9e4ed839e181",
       "version_major": 2,
       "version_minor": 0
      },
      "text/plain": [
       "Batches:   0%|          | 0/1 [00:00<?, ?it/s]"
      ]
     },
     "metadata": {},
     "output_type": "display_data"
    },
    {
     "name": "stderr",
     "output_type": "stream",
     "text": [
      "2025-05-12 21:52:42,180 - __main__ - ERROR - Error computing BERT similarity: 'float' object is not subscriptable\n",
      "2025-05-12 21:52:42,181 - __main__ - ERROR - Error computing BLEU score: \n",
      "**********************************************************************\n",
      "  Resource \u001b[93mpunkt_tab\u001b[0m not found.\n",
      "  Please use the NLTK Downloader to obtain the resource:\n",
      "\n",
      "  \u001b[31m>>> import nltk\n",
      "  >>> nltk.download('punkt_tab')\n",
      "  \u001b[0m\n",
      "  For more information see: https://www.nltk.org/data.html\n",
      "\n",
      "  Attempted to load \u001b[93mtokenizers/punkt_tab/english/\u001b[0m\n",
      "\n",
      "  Searched in:\n",
      "    - '/Users/bhargav/nltk_data'\n",
      "    - '/Library/Frameworks/Python.framework/Versions/3.13/nltk_data'\n",
      "    - '/Library/Frameworks/Python.framework/Versions/3.13/share/nltk_data'\n",
      "    - '/Library/Frameworks/Python.framework/Versions/3.13/lib/nltk_data'\n",
      "    - '/usr/share/nltk_data'\n",
      "    - '/usr/local/share/nltk_data'\n",
      "    - '/usr/lib/nltk_data'\n",
      "    - '/usr/local/lib/nltk_data'\n",
      "**********************************************************************\n",
      "\n",
      "2025-05-12 21:52:42,181 - __main__ - ERROR - Error computing ROUGE scores: \n",
      "2025-05-12 21:52:42,181 - __main__ - ERROR - Error computing Levenshtein similarity: object of type 'float' has no len()\n",
      "2025-05-12 21:52:42,182 - __main__ - ERROR - Error computing Jaccard similarity: \n",
      "**********************************************************************\n",
      "  Resource \u001b[93mpunkt_tab\u001b[0m not found.\n",
      "  Please use the NLTK Downloader to obtain the resource:\n",
      "\n",
      "  \u001b[31m>>> import nltk\n",
      "  >>> nltk.download('punkt_tab')\n",
      "  \u001b[0m\n",
      "  For more information see: https://www.nltk.org/data.html\n",
      "\n",
      "  Attempted to load \u001b[93mtokenizers/punkt_tab/english/\u001b[0m\n",
      "\n",
      "  Searched in:\n",
      "    - '/Users/bhargav/nltk_data'\n",
      "    - '/Library/Frameworks/Python.framework/Versions/3.13/nltk_data'\n",
      "    - '/Library/Frameworks/Python.framework/Versions/3.13/share/nltk_data'\n",
      "    - '/Library/Frameworks/Python.framework/Versions/3.13/lib/nltk_data'\n",
      "    - '/usr/share/nltk_data'\n",
      "    - '/usr/local/share/nltk_data'\n",
      "    - '/usr/lib/nltk_data'\n",
      "    - '/usr/local/lib/nltk_data'\n",
      "**********************************************************************\n",
      "\n"
     ]
    },
    {
     "data": {
      "application/vnd.jupyter.widget-view+json": {
       "model_id": "ee8803473af24917bd090aee03dba749",
       "version_major": 2,
       "version_minor": 0
      },
      "text/plain": [
       "Batches:   0%|          | 0/1 [00:00<?, ?it/s]"
      ]
     },
     "metadata": {},
     "output_type": "display_data"
    },
    {
     "data": {
      "application/vnd.jupyter.widget-view+json": {
       "model_id": "6183d3d699bf435dafa118781ea0bdd9",
       "version_major": 2,
       "version_minor": 0
      },
      "text/plain": [
       "Batches:   0%|          | 0/1 [00:00<?, ?it/s]"
      ]
     },
     "metadata": {},
     "output_type": "display_data"
    },
    {
     "name": "stderr",
     "output_type": "stream",
     "text": [
      "2025-05-12 21:52:42,195 - __main__ - ERROR - Error computing BERT similarity: 'float' object is not subscriptable\n",
      "2025-05-12 21:52:42,196 - __main__ - ERROR - Error computing BLEU score: \n",
      "**********************************************************************\n",
      "  Resource \u001b[93mpunkt_tab\u001b[0m not found.\n",
      "  Please use the NLTK Downloader to obtain the resource:\n",
      "\n",
      "  \u001b[31m>>> import nltk\n",
      "  >>> nltk.download('punkt_tab')\n",
      "  \u001b[0m\n",
      "  For more information see: https://www.nltk.org/data.html\n",
      "\n",
      "  Attempted to load \u001b[93mtokenizers/punkt_tab/english/\u001b[0m\n",
      "\n",
      "  Searched in:\n",
      "    - '/Users/bhargav/nltk_data'\n",
      "    - '/Library/Frameworks/Python.framework/Versions/3.13/nltk_data'\n",
      "    - '/Library/Frameworks/Python.framework/Versions/3.13/share/nltk_data'\n",
      "    - '/Library/Frameworks/Python.framework/Versions/3.13/lib/nltk_data'\n",
      "    - '/usr/share/nltk_data'\n",
      "    - '/usr/local/share/nltk_data'\n",
      "    - '/usr/lib/nltk_data'\n",
      "    - '/usr/local/lib/nltk_data'\n",
      "**********************************************************************\n",
      "\n",
      "2025-05-12 21:52:42,196 - __main__ - ERROR - Error computing ROUGE scores: \n",
      "2025-05-12 21:52:42,197 - __main__ - ERROR - Error computing Levenshtein similarity: object of type 'float' has no len()\n",
      "2025-05-12 21:52:42,197 - __main__ - ERROR - Error computing Jaccard similarity: \n",
      "**********************************************************************\n",
      "  Resource \u001b[93mpunkt_tab\u001b[0m not found.\n",
      "  Please use the NLTK Downloader to obtain the resource:\n",
      "\n",
      "  \u001b[31m>>> import nltk\n",
      "  >>> nltk.download('punkt_tab')\n",
      "  \u001b[0m\n",
      "  For more information see: https://www.nltk.org/data.html\n",
      "\n",
      "  Attempted to load \u001b[93mtokenizers/punkt_tab/english/\u001b[0m\n",
      "\n",
      "  Searched in:\n",
      "    - '/Users/bhargav/nltk_data'\n",
      "    - '/Library/Frameworks/Python.framework/Versions/3.13/nltk_data'\n",
      "    - '/Library/Frameworks/Python.framework/Versions/3.13/share/nltk_data'\n",
      "    - '/Library/Frameworks/Python.framework/Versions/3.13/lib/nltk_data'\n",
      "    - '/usr/share/nltk_data'\n",
      "    - '/usr/local/share/nltk_data'\n",
      "    - '/usr/lib/nltk_data'\n",
      "    - '/usr/local/lib/nltk_data'\n",
      "**********************************************************************\n",
      "\n"
     ]
    },
    {
     "data": {
      "application/vnd.jupyter.widget-view+json": {
       "model_id": "648d3c4e727a445c8ac1cf90c8498bf9",
       "version_major": 2,
       "version_minor": 0
      },
      "text/plain": [
       "Batches:   0%|          | 0/1 [00:00<?, ?it/s]"
      ]
     },
     "metadata": {},
     "output_type": "display_data"
    },
    {
     "data": {
      "application/vnd.jupyter.widget-view+json": {
       "model_id": "52ddf489e23d47239d994ebcc0e16264",
       "version_major": 2,
       "version_minor": 0
      },
      "text/plain": [
       "Batches:   0%|          | 0/1 [00:00<?, ?it/s]"
      ]
     },
     "metadata": {},
     "output_type": "display_data"
    },
    {
     "name": "stderr",
     "output_type": "stream",
     "text": [
      "2025-05-12 21:52:42,210 - __main__ - ERROR - Error computing BERT similarity: 'float' object is not subscriptable\n",
      "2025-05-12 21:52:42,211 - __main__ - ERROR - Error computing BLEU score: \n",
      "**********************************************************************\n",
      "  Resource \u001b[93mpunkt_tab\u001b[0m not found.\n",
      "  Please use the NLTK Downloader to obtain the resource:\n",
      "\n",
      "  \u001b[31m>>> import nltk\n",
      "  >>> nltk.download('punkt_tab')\n",
      "  \u001b[0m\n",
      "  For more information see: https://www.nltk.org/data.html\n",
      "\n",
      "  Attempted to load \u001b[93mtokenizers/punkt_tab/english/\u001b[0m\n",
      "\n",
      "  Searched in:\n",
      "    - '/Users/bhargav/nltk_data'\n",
      "    - '/Library/Frameworks/Python.framework/Versions/3.13/nltk_data'\n",
      "    - '/Library/Frameworks/Python.framework/Versions/3.13/share/nltk_data'\n",
      "    - '/Library/Frameworks/Python.framework/Versions/3.13/lib/nltk_data'\n",
      "    - '/usr/share/nltk_data'\n",
      "    - '/usr/local/share/nltk_data'\n",
      "    - '/usr/lib/nltk_data'\n",
      "    - '/usr/local/lib/nltk_data'\n",
      "**********************************************************************\n",
      "\n",
      "2025-05-12 21:52:42,211 - __main__ - ERROR - Error computing ROUGE scores: \n",
      "2025-05-12 21:52:42,212 - __main__ - ERROR - Error computing Levenshtein similarity: object of type 'float' has no len()\n",
      "2025-05-12 21:52:42,220 - __main__ - ERROR - Error computing Jaccard similarity: \n",
      "**********************************************************************\n",
      "  Resource \u001b[93mpunkt_tab\u001b[0m not found.\n",
      "  Please use the NLTK Downloader to obtain the resource:\n",
      "\n",
      "  \u001b[31m>>> import nltk\n",
      "  >>> nltk.download('punkt_tab')\n",
      "  \u001b[0m\n",
      "  For more information see: https://www.nltk.org/data.html\n",
      "\n",
      "  Attempted to load \u001b[93mtokenizers/punkt_tab/english/\u001b[0m\n",
      "\n",
      "  Searched in:\n",
      "    - '/Users/bhargav/nltk_data'\n",
      "    - '/Library/Frameworks/Python.framework/Versions/3.13/nltk_data'\n",
      "    - '/Library/Frameworks/Python.framework/Versions/3.13/share/nltk_data'\n",
      "    - '/Library/Frameworks/Python.framework/Versions/3.13/lib/nltk_data'\n",
      "    - '/usr/share/nltk_data'\n",
      "    - '/usr/local/share/nltk_data'\n",
      "    - '/usr/lib/nltk_data'\n",
      "    - '/usr/local/lib/nltk_data'\n",
      "**********************************************************************\n",
      "\n"
     ]
    },
    {
     "data": {
      "application/vnd.jupyter.widget-view+json": {
       "model_id": "c79679a171e6478297339efdde476cd6",
       "version_major": 2,
       "version_minor": 0
      },
      "text/plain": [
       "Batches:   0%|          | 0/1 [00:00<?, ?it/s]"
      ]
     },
     "metadata": {},
     "output_type": "display_data"
    },
    {
     "data": {
      "application/vnd.jupyter.widget-view+json": {
       "model_id": "6bbe91579b684b80961b37e1926e4932",
       "version_major": 2,
       "version_minor": 0
      },
      "text/plain": [
       "Batches:   0%|          | 0/1 [00:00<?, ?it/s]"
      ]
     },
     "metadata": {},
     "output_type": "display_data"
    },
    {
     "name": "stderr",
     "output_type": "stream",
     "text": [
      "2025-05-12 21:52:42,245 - __main__ - ERROR - Error computing BERT similarity: 'float' object is not subscriptable\n",
      "Computing mistral_clean_similarities:  40%|█▌  | 46/115 [00:00<00:01, 57.40it/s]2025-05-12 21:52:42,247 - __main__ - ERROR - Error computing BLEU score: \n",
      "**********************************************************************\n",
      "  Resource \u001b[93mpunkt_tab\u001b[0m not found.\n",
      "  Please use the NLTK Downloader to obtain the resource:\n",
      "\n",
      "  \u001b[31m>>> import nltk\n",
      "  >>> nltk.download('punkt_tab')\n",
      "  \u001b[0m\n",
      "  For more information see: https://www.nltk.org/data.html\n",
      "\n",
      "  Attempted to load \u001b[93mtokenizers/punkt_tab/english/\u001b[0m\n",
      "\n",
      "  Searched in:\n",
      "    - '/Users/bhargav/nltk_data'\n",
      "    - '/Library/Frameworks/Python.framework/Versions/3.13/nltk_data'\n",
      "    - '/Library/Frameworks/Python.framework/Versions/3.13/share/nltk_data'\n",
      "    - '/Library/Frameworks/Python.framework/Versions/3.13/lib/nltk_data'\n",
      "    - '/usr/share/nltk_data'\n",
      "    - '/usr/local/share/nltk_data'\n",
      "    - '/usr/lib/nltk_data'\n",
      "    - '/usr/local/lib/nltk_data'\n",
      "**********************************************************************\n",
      "\n",
      "2025-05-12 21:52:42,247 - __main__ - ERROR - Error computing ROUGE scores: \n",
      "2025-05-12 21:52:42,247 - __main__ - ERROR - Error computing Levenshtein similarity: object of type 'float' has no len()\n",
      "2025-05-12 21:52:42,248 - __main__ - ERROR - Error computing Jaccard similarity: \n",
      "**********************************************************************\n",
      "  Resource \u001b[93mpunkt_tab\u001b[0m not found.\n",
      "  Please use the NLTK Downloader to obtain the resource:\n",
      "\n",
      "  \u001b[31m>>> import nltk\n",
      "  >>> nltk.download('punkt_tab')\n",
      "  \u001b[0m\n",
      "  For more information see: https://www.nltk.org/data.html\n",
      "\n",
      "  Attempted to load \u001b[93mtokenizers/punkt_tab/english/\u001b[0m\n",
      "\n",
      "  Searched in:\n",
      "    - '/Users/bhargav/nltk_data'\n",
      "    - '/Library/Frameworks/Python.framework/Versions/3.13/nltk_data'\n",
      "    - '/Library/Frameworks/Python.framework/Versions/3.13/share/nltk_data'\n",
      "    - '/Library/Frameworks/Python.framework/Versions/3.13/lib/nltk_data'\n",
      "    - '/usr/share/nltk_data'\n",
      "    - '/usr/local/share/nltk_data'\n",
      "    - '/usr/lib/nltk_data'\n",
      "    - '/usr/local/lib/nltk_data'\n",
      "**********************************************************************\n",
      "\n"
     ]
    },
    {
     "data": {
      "application/vnd.jupyter.widget-view+json": {
       "model_id": "61fccc5e00e64c08b52026d233827915",
       "version_major": 2,
       "version_minor": 0
      },
      "text/plain": [
       "Batches:   0%|          | 0/1 [00:00<?, ?it/s]"
      ]
     },
     "metadata": {},
     "output_type": "display_data"
    },
    {
     "data": {
      "application/vnd.jupyter.widget-view+json": {
       "model_id": "f75ed265d70049f4a634274b69dfc67f",
       "version_major": 2,
       "version_minor": 0
      },
      "text/plain": [
       "Batches:   0%|          | 0/1 [00:00<?, ?it/s]"
      ]
     },
     "metadata": {},
     "output_type": "display_data"
    },
    {
     "name": "stderr",
     "output_type": "stream",
     "text": [
      "2025-05-12 21:52:42,260 - __main__ - ERROR - Error computing BERT similarity: 'float' object is not subscriptable\n",
      "2025-05-12 21:52:42,261 - __main__ - ERROR - Error computing BLEU score: \n",
      "**********************************************************************\n",
      "  Resource \u001b[93mpunkt_tab\u001b[0m not found.\n",
      "  Please use the NLTK Downloader to obtain the resource:\n",
      "\n",
      "  \u001b[31m>>> import nltk\n",
      "  >>> nltk.download('punkt_tab')\n",
      "  \u001b[0m\n",
      "  For more information see: https://www.nltk.org/data.html\n",
      "\n",
      "  Attempted to load \u001b[93mtokenizers/punkt_tab/english/\u001b[0m\n",
      "\n",
      "  Searched in:\n",
      "    - '/Users/bhargav/nltk_data'\n",
      "    - '/Library/Frameworks/Python.framework/Versions/3.13/nltk_data'\n",
      "    - '/Library/Frameworks/Python.framework/Versions/3.13/share/nltk_data'\n",
      "    - '/Library/Frameworks/Python.framework/Versions/3.13/lib/nltk_data'\n",
      "    - '/usr/share/nltk_data'\n",
      "    - '/usr/local/share/nltk_data'\n",
      "    - '/usr/lib/nltk_data'\n",
      "    - '/usr/local/lib/nltk_data'\n",
      "**********************************************************************\n",
      "\n",
      "2025-05-12 21:52:42,261 - __main__ - ERROR - Error computing ROUGE scores: \n",
      "2025-05-12 21:52:42,261 - __main__ - ERROR - Error computing Levenshtein similarity: object of type 'float' has no len()\n",
      "2025-05-12 21:52:42,262 - __main__ - ERROR - Error computing Jaccard similarity: \n",
      "**********************************************************************\n",
      "  Resource \u001b[93mpunkt_tab\u001b[0m not found.\n",
      "  Please use the NLTK Downloader to obtain the resource:\n",
      "\n",
      "  \u001b[31m>>> import nltk\n",
      "  >>> nltk.download('punkt_tab')\n",
      "  \u001b[0m\n",
      "  For more information see: https://www.nltk.org/data.html\n",
      "\n",
      "  Attempted to load \u001b[93mtokenizers/punkt_tab/english/\u001b[0m\n",
      "\n",
      "  Searched in:\n",
      "    - '/Users/bhargav/nltk_data'\n",
      "    - '/Library/Frameworks/Python.framework/Versions/3.13/nltk_data'\n",
      "    - '/Library/Frameworks/Python.framework/Versions/3.13/share/nltk_data'\n",
      "    - '/Library/Frameworks/Python.framework/Versions/3.13/lib/nltk_data'\n",
      "    - '/usr/share/nltk_data'\n",
      "    - '/usr/local/share/nltk_data'\n",
      "    - '/usr/lib/nltk_data'\n",
      "    - '/usr/local/lib/nltk_data'\n",
      "**********************************************************************\n",
      "\n"
     ]
    },
    {
     "data": {
      "application/vnd.jupyter.widget-view+json": {
       "model_id": "7376f05c51e6494e8cb97795005c645c",
       "version_major": 2,
       "version_minor": 0
      },
      "text/plain": [
       "Batches:   0%|          | 0/1 [00:00<?, ?it/s]"
      ]
     },
     "metadata": {},
     "output_type": "display_data"
    },
    {
     "data": {
      "application/vnd.jupyter.widget-view+json": {
       "model_id": "768a051d09954021b008896e2ad5ca77",
       "version_major": 2,
       "version_minor": 0
      },
      "text/plain": [
       "Batches:   0%|          | 0/1 [00:00<?, ?it/s]"
      ]
     },
     "metadata": {},
     "output_type": "display_data"
    },
    {
     "name": "stderr",
     "output_type": "stream",
     "text": [
      "2025-05-12 21:52:42,275 - __main__ - ERROR - Error computing BERT similarity: 'float' object is not subscriptable\n",
      "2025-05-12 21:52:42,276 - __main__ - ERROR - Error computing BLEU score: \n",
      "**********************************************************************\n",
      "  Resource \u001b[93mpunkt_tab\u001b[0m not found.\n",
      "  Please use the NLTK Downloader to obtain the resource:\n",
      "\n",
      "  \u001b[31m>>> import nltk\n",
      "  >>> nltk.download('punkt_tab')\n",
      "  \u001b[0m\n",
      "  For more information see: https://www.nltk.org/data.html\n",
      "\n",
      "  Attempted to load \u001b[93mtokenizers/punkt_tab/english/\u001b[0m\n",
      "\n",
      "  Searched in:\n",
      "    - '/Users/bhargav/nltk_data'\n",
      "    - '/Library/Frameworks/Python.framework/Versions/3.13/nltk_data'\n",
      "    - '/Library/Frameworks/Python.framework/Versions/3.13/share/nltk_data'\n",
      "    - '/Library/Frameworks/Python.framework/Versions/3.13/lib/nltk_data'\n",
      "    - '/usr/share/nltk_data'\n",
      "    - '/usr/local/share/nltk_data'\n",
      "    - '/usr/lib/nltk_data'\n",
      "    - '/usr/local/lib/nltk_data'\n",
      "**********************************************************************\n",
      "\n",
      "2025-05-12 21:52:42,276 - __main__ - ERROR - Error computing ROUGE scores: \n",
      "2025-05-12 21:52:42,277 - __main__ - ERROR - Error computing Levenshtein similarity: object of type 'float' has no len()\n",
      "2025-05-12 21:52:42,277 - __main__ - ERROR - Error computing Jaccard similarity: \n",
      "**********************************************************************\n",
      "  Resource \u001b[93mpunkt_tab\u001b[0m not found.\n",
      "  Please use the NLTK Downloader to obtain the resource:\n",
      "\n",
      "  \u001b[31m>>> import nltk\n",
      "  >>> nltk.download('punkt_tab')\n",
      "  \u001b[0m\n",
      "  For more information see: https://www.nltk.org/data.html\n",
      "\n",
      "  Attempted to load \u001b[93mtokenizers/punkt_tab/english/\u001b[0m\n",
      "\n",
      "  Searched in:\n",
      "    - '/Users/bhargav/nltk_data'\n",
      "    - '/Library/Frameworks/Python.framework/Versions/3.13/nltk_data'\n",
      "    - '/Library/Frameworks/Python.framework/Versions/3.13/share/nltk_data'\n",
      "    - '/Library/Frameworks/Python.framework/Versions/3.13/lib/nltk_data'\n",
      "    - '/usr/share/nltk_data'\n",
      "    - '/usr/local/share/nltk_data'\n",
      "    - '/usr/lib/nltk_data'\n",
      "    - '/usr/local/lib/nltk_data'\n",
      "**********************************************************************\n",
      "\n"
     ]
    },
    {
     "data": {
      "application/vnd.jupyter.widget-view+json": {
       "model_id": "1f0e51dff3b646a68f0b494f94255d7f",
       "version_major": 2,
       "version_minor": 0
      },
      "text/plain": [
       "Batches:   0%|          | 0/1 [00:00<?, ?it/s]"
      ]
     },
     "metadata": {},
     "output_type": "display_data"
    },
    {
     "data": {
      "application/vnd.jupyter.widget-view+json": {
       "model_id": "b52ad6d6253341aa81fc2da6d0c502ba",
       "version_major": 2,
       "version_minor": 0
      },
      "text/plain": [
       "Batches:   0%|          | 0/1 [00:00<?, ?it/s]"
      ]
     },
     "metadata": {},
     "output_type": "display_data"
    },
    {
     "name": "stderr",
     "output_type": "stream",
     "text": [
      "2025-05-12 21:52:42,289 - __main__ - ERROR - Error computing BERT similarity: 'float' object is not subscriptable\n",
      "2025-05-12 21:52:42,290 - __main__ - ERROR - Error computing BLEU score: \n",
      "**********************************************************************\n",
      "  Resource \u001b[93mpunkt_tab\u001b[0m not found.\n",
      "  Please use the NLTK Downloader to obtain the resource:\n",
      "\n",
      "  \u001b[31m>>> import nltk\n",
      "  >>> nltk.download('punkt_tab')\n",
      "  \u001b[0m\n",
      "  For more information see: https://www.nltk.org/data.html\n",
      "\n",
      "  Attempted to load \u001b[93mtokenizers/punkt_tab/english/\u001b[0m\n",
      "\n",
      "  Searched in:\n",
      "    - '/Users/bhargav/nltk_data'\n",
      "    - '/Library/Frameworks/Python.framework/Versions/3.13/nltk_data'\n",
      "    - '/Library/Frameworks/Python.framework/Versions/3.13/share/nltk_data'\n",
      "    - '/Library/Frameworks/Python.framework/Versions/3.13/lib/nltk_data'\n",
      "    - '/usr/share/nltk_data'\n",
      "    - '/usr/local/share/nltk_data'\n",
      "    - '/usr/lib/nltk_data'\n",
      "    - '/usr/local/lib/nltk_data'\n",
      "**********************************************************************\n",
      "\n",
      "2025-05-12 21:52:42,290 - __main__ - ERROR - Error computing ROUGE scores: \n",
      "2025-05-12 21:52:42,290 - __main__ - ERROR - Error computing Levenshtein similarity: object of type 'float' has no len()\n",
      "2025-05-12 21:52:42,291 - __main__ - ERROR - Error computing Jaccard similarity: \n",
      "**********************************************************************\n",
      "  Resource \u001b[93mpunkt_tab\u001b[0m not found.\n",
      "  Please use the NLTK Downloader to obtain the resource:\n",
      "\n",
      "  \u001b[31m>>> import nltk\n",
      "  >>> nltk.download('punkt_tab')\n",
      "  \u001b[0m\n",
      "  For more information see: https://www.nltk.org/data.html\n",
      "\n",
      "  Attempted to load \u001b[93mtokenizers/punkt_tab/english/\u001b[0m\n",
      "\n",
      "  Searched in:\n",
      "    - '/Users/bhargav/nltk_data'\n",
      "    - '/Library/Frameworks/Python.framework/Versions/3.13/nltk_data'\n",
      "    - '/Library/Frameworks/Python.framework/Versions/3.13/share/nltk_data'\n",
      "    - '/Library/Frameworks/Python.framework/Versions/3.13/lib/nltk_data'\n",
      "    - '/usr/share/nltk_data'\n",
      "    - '/usr/local/share/nltk_data'\n",
      "    - '/usr/lib/nltk_data'\n",
      "    - '/usr/local/lib/nltk_data'\n",
      "**********************************************************************\n",
      "\n"
     ]
    },
    {
     "data": {
      "application/vnd.jupyter.widget-view+json": {
       "model_id": "d8f0c3630fe44678b74a234159b745fe",
       "version_major": 2,
       "version_minor": 0
      },
      "text/plain": [
       "Batches:   0%|          | 0/1 [00:00<?, ?it/s]"
      ]
     },
     "metadata": {},
     "output_type": "display_data"
    },
    {
     "data": {
      "application/vnd.jupyter.widget-view+json": {
       "model_id": "759430e6e71946e0b50fd83d370b53c5",
       "version_major": 2,
       "version_minor": 0
      },
      "text/plain": [
       "Batches:   0%|          | 0/1 [00:00<?, ?it/s]"
      ]
     },
     "metadata": {},
     "output_type": "display_data"
    },
    {
     "name": "stderr",
     "output_type": "stream",
     "text": [
      "2025-05-12 21:52:42,304 - __main__ - ERROR - Error computing BERT similarity: 'float' object is not subscriptable\n",
      "2025-05-12 21:52:42,305 - __main__ - ERROR - Error computing BLEU score: \n",
      "**********************************************************************\n",
      "  Resource \u001b[93mpunkt_tab\u001b[0m not found.\n",
      "  Please use the NLTK Downloader to obtain the resource:\n",
      "\n",
      "  \u001b[31m>>> import nltk\n",
      "  >>> nltk.download('punkt_tab')\n",
      "  \u001b[0m\n",
      "  For more information see: https://www.nltk.org/data.html\n",
      "\n",
      "  Attempted to load \u001b[93mtokenizers/punkt_tab/english/\u001b[0m\n",
      "\n",
      "  Searched in:\n",
      "    - '/Users/bhargav/nltk_data'\n",
      "    - '/Library/Frameworks/Python.framework/Versions/3.13/nltk_data'\n",
      "    - '/Library/Frameworks/Python.framework/Versions/3.13/share/nltk_data'\n",
      "    - '/Library/Frameworks/Python.framework/Versions/3.13/lib/nltk_data'\n",
      "    - '/usr/share/nltk_data'\n",
      "    - '/usr/local/share/nltk_data'\n",
      "    - '/usr/lib/nltk_data'\n",
      "    - '/usr/local/lib/nltk_data'\n",
      "**********************************************************************\n",
      "\n",
      "2025-05-12 21:52:42,308 - __main__ - ERROR - Error computing Jaccard similarity: \n",
      "**********************************************************************\n",
      "  Resource \u001b[93mpunkt_tab\u001b[0m not found.\n",
      "  Please use the NLTK Downloader to obtain the resource:\n",
      "\n",
      "  \u001b[31m>>> import nltk\n",
      "  >>> nltk.download('punkt_tab')\n",
      "  \u001b[0m\n",
      "  For more information see: https://www.nltk.org/data.html\n",
      "\n",
      "  Attempted to load \u001b[93mtokenizers/punkt_tab/english/\u001b[0m\n",
      "\n",
      "  Searched in:\n",
      "    - '/Users/bhargav/nltk_data'\n",
      "    - '/Library/Frameworks/Python.framework/Versions/3.13/nltk_data'\n",
      "    - '/Library/Frameworks/Python.framework/Versions/3.13/share/nltk_data'\n",
      "    - '/Library/Frameworks/Python.framework/Versions/3.13/lib/nltk_data'\n",
      "    - '/usr/share/nltk_data'\n",
      "    - '/usr/local/share/nltk_data'\n",
      "    - '/usr/lib/nltk_data'\n",
      "    - '/usr/local/lib/nltk_data'\n",
      "**********************************************************************\n",
      "\n"
     ]
    },
    {
     "data": {
      "application/vnd.jupyter.widget-view+json": {
       "model_id": "eb80c8d096d44377af870000ae286a59",
       "version_major": 2,
       "version_minor": 0
      },
      "text/plain": [
       "Batches:   0%|          | 0/1 [00:00<?, ?it/s]"
      ]
     },
     "metadata": {},
     "output_type": "display_data"
    },
    {
     "data": {
      "application/vnd.jupyter.widget-view+json": {
       "model_id": "e3425d349bbf458894e865dc017a09d3",
       "version_major": 2,
       "version_minor": 0
      },
      "text/plain": [
       "Batches:   0%|          | 0/1 [00:00<?, ?it/s]"
      ]
     },
     "metadata": {},
     "output_type": "display_data"
    },
    {
     "name": "stderr",
     "output_type": "stream",
     "text": [
      "2025-05-12 21:52:42,339 - __main__ - ERROR - Error computing BLEU score: \n",
      "**********************************************************************\n",
      "  Resource \u001b[93mpunkt_tab\u001b[0m not found.\n",
      "  Please use the NLTK Downloader to obtain the resource:\n",
      "\n",
      "  \u001b[31m>>> import nltk\n",
      "  >>> nltk.download('punkt_tab')\n",
      "  \u001b[0m\n",
      "  For more information see: https://www.nltk.org/data.html\n",
      "\n",
      "  Attempted to load \u001b[93mtokenizers/punkt_tab/english/\u001b[0m\n",
      "\n",
      "  Searched in:\n",
      "    - '/Users/bhargav/nltk_data'\n",
      "    - '/Library/Frameworks/Python.framework/Versions/3.13/nltk_data'\n",
      "    - '/Library/Frameworks/Python.framework/Versions/3.13/share/nltk_data'\n",
      "    - '/Library/Frameworks/Python.framework/Versions/3.13/lib/nltk_data'\n",
      "    - '/usr/share/nltk_data'\n",
      "    - '/usr/local/share/nltk_data'\n",
      "    - '/usr/lib/nltk_data'\n",
      "    - '/usr/local/lib/nltk_data'\n",
      "**********************************************************************\n",
      "\n",
      "2025-05-12 21:52:42,352 - __main__ - ERROR - Error computing Jaccard similarity: \n",
      "**********************************************************************\n",
      "  Resource \u001b[93mpunkt_tab\u001b[0m not found.\n",
      "  Please use the NLTK Downloader to obtain the resource:\n",
      "\n",
      "  \u001b[31m>>> import nltk\n",
      "  >>> nltk.download('punkt_tab')\n",
      "  \u001b[0m\n",
      "  For more information see: https://www.nltk.org/data.html\n",
      "\n",
      "  Attempted to load \u001b[93mtokenizers/punkt_tab/english/\u001b[0m\n",
      "\n",
      "  Searched in:\n",
      "    - '/Users/bhargav/nltk_data'\n",
      "    - '/Library/Frameworks/Python.framework/Versions/3.13/nltk_data'\n",
      "    - '/Library/Frameworks/Python.framework/Versions/3.13/share/nltk_data'\n",
      "    - '/Library/Frameworks/Python.framework/Versions/3.13/lib/nltk_data'\n",
      "    - '/usr/share/nltk_data'\n",
      "    - '/usr/local/share/nltk_data'\n",
      "    - '/usr/lib/nltk_data'\n",
      "    - '/usr/local/lib/nltk_data'\n",
      "**********************************************************************\n",
      "\n"
     ]
    },
    {
     "data": {
      "application/vnd.jupyter.widget-view+json": {
       "model_id": "6aa8f8c236c74becb9be058727cedbcf",
       "version_major": 2,
       "version_minor": 0
      },
      "text/plain": [
       "Batches:   0%|          | 0/1 [00:00<?, ?it/s]"
      ]
     },
     "metadata": {},
     "output_type": "display_data"
    },
    {
     "data": {
      "application/vnd.jupyter.widget-view+json": {
       "model_id": "104e5f6e1feb42ad8d16a1561c5a661e",
       "version_major": 2,
       "version_minor": 0
      },
      "text/plain": [
       "Batches:   0%|          | 0/1 [00:00<?, ?it/s]"
      ]
     },
     "metadata": {},
     "output_type": "display_data"
    },
    {
     "name": "stderr",
     "output_type": "stream",
     "text": [
      "Computing mistral_clean_similarities:  45%|█▊  | 52/115 [00:00<00:01, 51.74it/s]2025-05-12 21:52:42,390 - __main__ - ERROR - Error computing BLEU score: \n",
      "**********************************************************************\n",
      "  Resource \u001b[93mpunkt_tab\u001b[0m not found.\n",
      "  Please use the NLTK Downloader to obtain the resource:\n",
      "\n",
      "  \u001b[31m>>> import nltk\n",
      "  >>> nltk.download('punkt_tab')\n",
      "  \u001b[0m\n",
      "  For more information see: https://www.nltk.org/data.html\n",
      "\n",
      "  Attempted to load \u001b[93mtokenizers/punkt_tab/english/\u001b[0m\n",
      "\n",
      "  Searched in:\n",
      "    - '/Users/bhargav/nltk_data'\n",
      "    - '/Library/Frameworks/Python.framework/Versions/3.13/nltk_data'\n",
      "    - '/Library/Frameworks/Python.framework/Versions/3.13/share/nltk_data'\n",
      "    - '/Library/Frameworks/Python.framework/Versions/3.13/lib/nltk_data'\n",
      "    - '/usr/share/nltk_data'\n",
      "    - '/usr/local/share/nltk_data'\n",
      "    - '/usr/lib/nltk_data'\n",
      "    - '/usr/local/lib/nltk_data'\n",
      "**********************************************************************\n",
      "\n",
      "2025-05-12 21:52:42,391 - __main__ - ERROR - Error computing ROUGE scores: \n",
      "2025-05-12 21:52:42,391 - __main__ - ERROR - Error computing Levenshtein similarity: object of type 'float' has no len()\n",
      "2025-05-12 21:52:42,392 - __main__ - ERROR - Error computing Jaccard similarity: \n",
      "**********************************************************************\n",
      "  Resource \u001b[93mpunkt_tab\u001b[0m not found.\n",
      "  Please use the NLTK Downloader to obtain the resource:\n",
      "\n",
      "  \u001b[31m>>> import nltk\n",
      "  >>> nltk.download('punkt_tab')\n",
      "  \u001b[0m\n",
      "  For more information see: https://www.nltk.org/data.html\n",
      "\n",
      "  Attempted to load \u001b[93mtokenizers/punkt_tab/english/\u001b[0m\n",
      "\n",
      "  Searched in:\n",
      "    - '/Users/bhargav/nltk_data'\n",
      "    - '/Library/Frameworks/Python.framework/Versions/3.13/nltk_data'\n",
      "    - '/Library/Frameworks/Python.framework/Versions/3.13/share/nltk_data'\n",
      "    - '/Library/Frameworks/Python.framework/Versions/3.13/lib/nltk_data'\n",
      "    - '/usr/share/nltk_data'\n",
      "    - '/usr/local/share/nltk_data'\n",
      "    - '/usr/lib/nltk_data'\n",
      "    - '/usr/local/lib/nltk_data'\n",
      "**********************************************************************\n",
      "\n"
     ]
    },
    {
     "data": {
      "application/vnd.jupyter.widget-view+json": {
       "model_id": "074a3a8936b84cbfbaef4d522b6004e9",
       "version_major": 2,
       "version_minor": 0
      },
      "text/plain": [
       "Batches:   0%|          | 0/1 [00:00<?, ?it/s]"
      ]
     },
     "metadata": {},
     "output_type": "display_data"
    },
    {
     "data": {
      "application/vnd.jupyter.widget-view+json": {
       "model_id": "a5c90f9122d44d8c84ec239c21bc8ff6",
       "version_major": 2,
       "version_minor": 0
      },
      "text/plain": [
       "Batches:   0%|          | 0/1 [00:00<?, ?it/s]"
      ]
     },
     "metadata": {},
     "output_type": "display_data"
    },
    {
     "name": "stderr",
     "output_type": "stream",
     "text": [
      "2025-05-12 21:52:42,403 - __main__ - ERROR - Error computing BERT similarity: 'float' object is not subscriptable\n",
      "2025-05-12 21:52:42,404 - __main__ - ERROR - Error computing BLEU score: \n",
      "**********************************************************************\n",
      "  Resource \u001b[93mpunkt_tab\u001b[0m not found.\n",
      "  Please use the NLTK Downloader to obtain the resource:\n",
      "\n",
      "  \u001b[31m>>> import nltk\n",
      "  >>> nltk.download('punkt_tab')\n",
      "  \u001b[0m\n",
      "  For more information see: https://www.nltk.org/data.html\n",
      "\n",
      "  Attempted to load \u001b[93mtokenizers/punkt_tab/english/\u001b[0m\n",
      "\n",
      "  Searched in:\n",
      "    - '/Users/bhargav/nltk_data'\n",
      "    - '/Library/Frameworks/Python.framework/Versions/3.13/nltk_data'\n",
      "    - '/Library/Frameworks/Python.framework/Versions/3.13/share/nltk_data'\n",
      "    - '/Library/Frameworks/Python.framework/Versions/3.13/lib/nltk_data'\n",
      "    - '/usr/share/nltk_data'\n",
      "    - '/usr/local/share/nltk_data'\n",
      "    - '/usr/lib/nltk_data'\n",
      "    - '/usr/local/lib/nltk_data'\n",
      "**********************************************************************\n",
      "\n",
      "2025-05-12 21:52:42,404 - __main__ - ERROR - Error computing ROUGE scores: \n",
      "2025-05-12 21:52:42,404 - __main__ - ERROR - Error computing Levenshtein similarity: object of type 'float' has no len()\n",
      "2025-05-12 21:52:42,405 - __main__ - ERROR - Error computing Jaccard similarity: \n",
      "**********************************************************************\n",
      "  Resource \u001b[93mpunkt_tab\u001b[0m not found.\n",
      "  Please use the NLTK Downloader to obtain the resource:\n",
      "\n",
      "  \u001b[31m>>> import nltk\n",
      "  >>> nltk.download('punkt_tab')\n",
      "  \u001b[0m\n",
      "  For more information see: https://www.nltk.org/data.html\n",
      "\n",
      "  Attempted to load \u001b[93mtokenizers/punkt_tab/english/\u001b[0m\n",
      "\n",
      "  Searched in:\n",
      "    - '/Users/bhargav/nltk_data'\n",
      "    - '/Library/Frameworks/Python.framework/Versions/3.13/nltk_data'\n",
      "    - '/Library/Frameworks/Python.framework/Versions/3.13/share/nltk_data'\n",
      "    - '/Library/Frameworks/Python.framework/Versions/3.13/lib/nltk_data'\n",
      "    - '/usr/share/nltk_data'\n",
      "    - '/usr/local/share/nltk_data'\n",
      "    - '/usr/lib/nltk_data'\n",
      "    - '/usr/local/lib/nltk_data'\n",
      "**********************************************************************\n",
      "\n"
     ]
    },
    {
     "data": {
      "application/vnd.jupyter.widget-view+json": {
       "model_id": "30e4104d9f044ef5ae19fe81b9a6f51c",
       "version_major": 2,
       "version_minor": 0
      },
      "text/plain": [
       "Batches:   0%|          | 0/1 [00:00<?, ?it/s]"
      ]
     },
     "metadata": {},
     "output_type": "display_data"
    },
    {
     "data": {
      "application/vnd.jupyter.widget-view+json": {
       "model_id": "e1a1f4ad0ec44de6992c6809df25296b",
       "version_major": 2,
       "version_minor": 0
      },
      "text/plain": [
       "Batches:   0%|          | 0/1 [00:00<?, ?it/s]"
      ]
     },
     "metadata": {},
     "output_type": "display_data"
    },
    {
     "name": "stderr",
     "output_type": "stream",
     "text": [
      "2025-05-12 21:52:42,417 - __main__ - ERROR - Error computing BERT similarity: 'float' object is not subscriptable\n",
      "2025-05-12 21:52:42,418 - __main__ - ERROR - Error computing BLEU score: \n",
      "**********************************************************************\n",
      "  Resource \u001b[93mpunkt_tab\u001b[0m not found.\n",
      "  Please use the NLTK Downloader to obtain the resource:\n",
      "\n",
      "  \u001b[31m>>> import nltk\n",
      "  >>> nltk.download('punkt_tab')\n",
      "  \u001b[0m\n",
      "  For more information see: https://www.nltk.org/data.html\n",
      "\n",
      "  Attempted to load \u001b[93mtokenizers/punkt_tab/english/\u001b[0m\n",
      "\n",
      "  Searched in:\n",
      "    - '/Users/bhargav/nltk_data'\n",
      "    - '/Library/Frameworks/Python.framework/Versions/3.13/nltk_data'\n",
      "    - '/Library/Frameworks/Python.framework/Versions/3.13/share/nltk_data'\n",
      "    - '/Library/Frameworks/Python.framework/Versions/3.13/lib/nltk_data'\n",
      "    - '/usr/share/nltk_data'\n",
      "    - '/usr/local/share/nltk_data'\n",
      "    - '/usr/lib/nltk_data'\n",
      "    - '/usr/local/lib/nltk_data'\n",
      "**********************************************************************\n",
      "\n",
      "2025-05-12 21:52:42,418 - __main__ - ERROR - Error computing ROUGE scores: \n",
      "2025-05-12 21:52:42,418 - __main__ - ERROR - Error computing Levenshtein similarity: object of type 'float' has no len()\n",
      "2025-05-12 21:52:42,419 - __main__ - ERROR - Error computing Jaccard similarity: \n",
      "**********************************************************************\n",
      "  Resource \u001b[93mpunkt_tab\u001b[0m not found.\n",
      "  Please use the NLTK Downloader to obtain the resource:\n",
      "\n",
      "  \u001b[31m>>> import nltk\n",
      "  >>> nltk.download('punkt_tab')\n",
      "  \u001b[0m\n",
      "  For more information see: https://www.nltk.org/data.html\n",
      "\n",
      "  Attempted to load \u001b[93mtokenizers/punkt_tab/english/\u001b[0m\n",
      "\n",
      "  Searched in:\n",
      "    - '/Users/bhargav/nltk_data'\n",
      "    - '/Library/Frameworks/Python.framework/Versions/3.13/nltk_data'\n",
      "    - '/Library/Frameworks/Python.framework/Versions/3.13/share/nltk_data'\n",
      "    - '/Library/Frameworks/Python.framework/Versions/3.13/lib/nltk_data'\n",
      "    - '/usr/share/nltk_data'\n",
      "    - '/usr/local/share/nltk_data'\n",
      "    - '/usr/lib/nltk_data'\n",
      "    - '/usr/local/lib/nltk_data'\n",
      "**********************************************************************\n",
      "\n"
     ]
    },
    {
     "data": {
      "application/vnd.jupyter.widget-view+json": {
       "model_id": "b60e310e518f42c8872af015a5f89145",
       "version_major": 2,
       "version_minor": 0
      },
      "text/plain": [
       "Batches:   0%|          | 0/1 [00:00<?, ?it/s]"
      ]
     },
     "metadata": {},
     "output_type": "display_data"
    },
    {
     "data": {
      "application/vnd.jupyter.widget-view+json": {
       "model_id": "b117e24b208e4c24a972f612fa922e86",
       "version_major": 2,
       "version_minor": 0
      },
      "text/plain": [
       "Batches:   0%|          | 0/1 [00:00<?, ?it/s]"
      ]
     },
     "metadata": {},
     "output_type": "display_data"
    },
    {
     "name": "stderr",
     "output_type": "stream",
     "text": [
      "2025-05-12 21:52:42,431 - __main__ - ERROR - Error computing BERT similarity: 'float' object is not subscriptable\n",
      "2025-05-12 21:52:42,432 - __main__ - ERROR - Error computing BLEU score: \n",
      "**********************************************************************\n",
      "  Resource \u001b[93mpunkt_tab\u001b[0m not found.\n",
      "  Please use the NLTK Downloader to obtain the resource:\n",
      "\n",
      "  \u001b[31m>>> import nltk\n",
      "  >>> nltk.download('punkt_tab')\n",
      "  \u001b[0m\n",
      "  For more information see: https://www.nltk.org/data.html\n",
      "\n",
      "  Attempted to load \u001b[93mtokenizers/punkt_tab/english/\u001b[0m\n",
      "\n",
      "  Searched in:\n",
      "    - '/Users/bhargav/nltk_data'\n",
      "    - '/Library/Frameworks/Python.framework/Versions/3.13/nltk_data'\n",
      "    - '/Library/Frameworks/Python.framework/Versions/3.13/share/nltk_data'\n",
      "    - '/Library/Frameworks/Python.framework/Versions/3.13/lib/nltk_data'\n",
      "    - '/usr/share/nltk_data'\n",
      "    - '/usr/local/share/nltk_data'\n",
      "    - '/usr/lib/nltk_data'\n",
      "    - '/usr/local/lib/nltk_data'\n",
      "**********************************************************************\n",
      "\n",
      "2025-05-12 21:52:42,432 - __main__ - ERROR - Error computing ROUGE scores: \n",
      "2025-05-12 21:52:42,432 - __main__ - ERROR - Error computing Levenshtein similarity: object of type 'float' has no len()\n",
      "2025-05-12 21:52:42,433 - __main__ - ERROR - Error computing Jaccard similarity: \n",
      "**********************************************************************\n",
      "  Resource \u001b[93mpunkt_tab\u001b[0m not found.\n",
      "  Please use the NLTK Downloader to obtain the resource:\n",
      "\n",
      "  \u001b[31m>>> import nltk\n",
      "  >>> nltk.download('punkt_tab')\n",
      "  \u001b[0m\n",
      "  For more information see: https://www.nltk.org/data.html\n",
      "\n",
      "  Attempted to load \u001b[93mtokenizers/punkt_tab/english/\u001b[0m\n",
      "\n",
      "  Searched in:\n",
      "    - '/Users/bhargav/nltk_data'\n",
      "    - '/Library/Frameworks/Python.framework/Versions/3.13/nltk_data'\n",
      "    - '/Library/Frameworks/Python.framework/Versions/3.13/share/nltk_data'\n",
      "    - '/Library/Frameworks/Python.framework/Versions/3.13/lib/nltk_data'\n",
      "    - '/usr/share/nltk_data'\n",
      "    - '/usr/local/share/nltk_data'\n",
      "    - '/usr/lib/nltk_data'\n",
      "    - '/usr/local/lib/nltk_data'\n",
      "**********************************************************************\n",
      "\n"
     ]
    },
    {
     "data": {
      "application/vnd.jupyter.widget-view+json": {
       "model_id": "b281a57940124c9b9b22490953277ea0",
       "version_major": 2,
       "version_minor": 0
      },
      "text/plain": [
       "Batches:   0%|          | 0/1 [00:00<?, ?it/s]"
      ]
     },
     "metadata": {},
     "output_type": "display_data"
    },
    {
     "data": {
      "application/vnd.jupyter.widget-view+json": {
       "model_id": "45c8ee8aa20a470c884f185e8161130b",
       "version_major": 2,
       "version_minor": 0
      },
      "text/plain": [
       "Batches:   0%|          | 0/1 [00:00<?, ?it/s]"
      ]
     },
     "metadata": {},
     "output_type": "display_data"
    },
    {
     "name": "stderr",
     "output_type": "stream",
     "text": [
      "2025-05-12 21:52:42,445 - __main__ - ERROR - Error computing BERT similarity: 'float' object is not subscriptable\n",
      "2025-05-12 21:52:42,446 - __main__ - ERROR - Error computing BLEU score: \n",
      "**********************************************************************\n",
      "  Resource \u001b[93mpunkt_tab\u001b[0m not found.\n",
      "  Please use the NLTK Downloader to obtain the resource:\n",
      "\n",
      "  \u001b[31m>>> import nltk\n",
      "  >>> nltk.download('punkt_tab')\n",
      "  \u001b[0m\n",
      "  For more information see: https://www.nltk.org/data.html\n",
      "\n",
      "  Attempted to load \u001b[93mtokenizers/punkt_tab/english/\u001b[0m\n",
      "\n",
      "  Searched in:\n",
      "    - '/Users/bhargav/nltk_data'\n",
      "    - '/Library/Frameworks/Python.framework/Versions/3.13/nltk_data'\n",
      "    - '/Library/Frameworks/Python.framework/Versions/3.13/share/nltk_data'\n",
      "    - '/Library/Frameworks/Python.framework/Versions/3.13/lib/nltk_data'\n",
      "    - '/usr/share/nltk_data'\n",
      "    - '/usr/local/share/nltk_data'\n",
      "    - '/usr/lib/nltk_data'\n",
      "    - '/usr/local/lib/nltk_data'\n",
      "**********************************************************************\n",
      "\n",
      "2025-05-12 21:52:42,451 - __main__ - ERROR - Error computing Jaccard similarity: \n",
      "**********************************************************************\n",
      "  Resource \u001b[93mpunkt_tab\u001b[0m not found.\n",
      "  Please use the NLTK Downloader to obtain the resource:\n",
      "\n",
      "  \u001b[31m>>> import nltk\n",
      "  >>> nltk.download('punkt_tab')\n",
      "  \u001b[0m\n",
      "  For more information see: https://www.nltk.org/data.html\n",
      "\n",
      "  Attempted to load \u001b[93mtokenizers/punkt_tab/english/\u001b[0m\n",
      "\n",
      "  Searched in:\n",
      "    - '/Users/bhargav/nltk_data'\n",
      "    - '/Library/Frameworks/Python.framework/Versions/3.13/nltk_data'\n",
      "    - '/Library/Frameworks/Python.framework/Versions/3.13/share/nltk_data'\n",
      "    - '/Library/Frameworks/Python.framework/Versions/3.13/lib/nltk_data'\n",
      "    - '/usr/share/nltk_data'\n",
      "    - '/usr/local/share/nltk_data'\n",
      "    - '/usr/lib/nltk_data'\n",
      "    - '/usr/local/lib/nltk_data'\n",
      "**********************************************************************\n",
      "\n"
     ]
    },
    {
     "data": {
      "application/vnd.jupyter.widget-view+json": {
       "model_id": "787cf8af10e64df4be27452369e68c61",
       "version_major": 2,
       "version_minor": 0
      },
      "text/plain": [
       "Batches:   0%|          | 0/1 [00:00<?, ?it/s]"
      ]
     },
     "metadata": {},
     "output_type": "display_data"
    },
    {
     "data": {
      "application/vnd.jupyter.widget-view+json": {
       "model_id": "c7d1dab45d67416fb5f7897c03a8138b",
       "version_major": 2,
       "version_minor": 0
      },
      "text/plain": [
       "Batches:   0%|          | 0/1 [00:00<?, ?it/s]"
      ]
     },
     "metadata": {},
     "output_type": "display_data"
    },
    {
     "name": "stderr",
     "output_type": "stream",
     "text": [
      "2025-05-12 21:52:42,479 - __main__ - ERROR - Error computing BLEU score: \n",
      "**********************************************************************\n",
      "  Resource \u001b[93mpunkt_tab\u001b[0m not found.\n",
      "  Please use the NLTK Downloader to obtain the resource:\n",
      "\n",
      "  \u001b[31m>>> import nltk\n",
      "  >>> nltk.download('punkt_tab')\n",
      "  \u001b[0m\n",
      "  For more information see: https://www.nltk.org/data.html\n",
      "\n",
      "  Attempted to load \u001b[93mtokenizers/punkt_tab/english/\u001b[0m\n",
      "\n",
      "  Searched in:\n",
      "    - '/Users/bhargav/nltk_data'\n",
      "    - '/Library/Frameworks/Python.framework/Versions/3.13/nltk_data'\n",
      "    - '/Library/Frameworks/Python.framework/Versions/3.13/share/nltk_data'\n",
      "    - '/Library/Frameworks/Python.framework/Versions/3.13/lib/nltk_data'\n",
      "    - '/usr/share/nltk_data'\n",
      "    - '/usr/local/share/nltk_data'\n",
      "    - '/usr/lib/nltk_data'\n",
      "    - '/usr/local/lib/nltk_data'\n",
      "**********************************************************************\n",
      "\n",
      "2025-05-12 21:52:42,479 - __main__ - ERROR - Error computing ROUGE scores: \n",
      "2025-05-12 21:52:42,479 - __main__ - ERROR - Error computing Levenshtein similarity: object of type 'float' has no len()\n",
      "2025-05-12 21:52:42,480 - __main__ - ERROR - Error computing Jaccard similarity: \n",
      "**********************************************************************\n",
      "  Resource \u001b[93mpunkt_tab\u001b[0m not found.\n",
      "  Please use the NLTK Downloader to obtain the resource:\n",
      "\n",
      "  \u001b[31m>>> import nltk\n",
      "  >>> nltk.download('punkt_tab')\n",
      "  \u001b[0m\n",
      "  For more information see: https://www.nltk.org/data.html\n",
      "\n",
      "  Attempted to load \u001b[93mtokenizers/punkt_tab/english/\u001b[0m\n",
      "\n",
      "  Searched in:\n",
      "    - '/Users/bhargav/nltk_data'\n",
      "    - '/Library/Frameworks/Python.framework/Versions/3.13/nltk_data'\n",
      "    - '/Library/Frameworks/Python.framework/Versions/3.13/share/nltk_data'\n",
      "    - '/Library/Frameworks/Python.framework/Versions/3.13/lib/nltk_data'\n",
      "    - '/usr/share/nltk_data'\n",
      "    - '/usr/local/share/nltk_data'\n",
      "    - '/usr/lib/nltk_data'\n",
      "    - '/usr/local/lib/nltk_data'\n",
      "**********************************************************************\n",
      "\n"
     ]
    },
    {
     "data": {
      "application/vnd.jupyter.widget-view+json": {
       "model_id": "314a6aec943b42cc8f504e589eb57f79",
       "version_major": 2,
       "version_minor": 0
      },
      "text/plain": [
       "Batches:   0%|          | 0/1 [00:00<?, ?it/s]"
      ]
     },
     "metadata": {},
     "output_type": "display_data"
    },
    {
     "data": {
      "application/vnd.jupyter.widget-view+json": {
       "model_id": "4f8a0da895174e8ba798955039e8b334",
       "version_major": 2,
       "version_minor": 0
      },
      "text/plain": [
       "Batches:   0%|          | 0/1 [00:00<?, ?it/s]"
      ]
     },
     "metadata": {},
     "output_type": "display_data"
    },
    {
     "name": "stderr",
     "output_type": "stream",
     "text": [
      "2025-05-12 21:52:42,493 - __main__ - ERROR - Error computing BERT similarity: 'float' object is not subscriptable\n",
      "Computing mistral_clean_similarities:  50%|██  | 58/115 [00:01<00:01, 53.45it/s]2025-05-12 21:52:42,494 - __main__ - ERROR - Error computing BLEU score: \n",
      "**********************************************************************\n",
      "  Resource \u001b[93mpunkt_tab\u001b[0m not found.\n",
      "  Please use the NLTK Downloader to obtain the resource:\n",
      "\n",
      "  \u001b[31m>>> import nltk\n",
      "  >>> nltk.download('punkt_tab')\n",
      "  \u001b[0m\n",
      "  For more information see: https://www.nltk.org/data.html\n",
      "\n",
      "  Attempted to load \u001b[93mtokenizers/punkt_tab/english/\u001b[0m\n",
      "\n",
      "  Searched in:\n",
      "    - '/Users/bhargav/nltk_data'\n",
      "    - '/Library/Frameworks/Python.framework/Versions/3.13/nltk_data'\n",
      "    - '/Library/Frameworks/Python.framework/Versions/3.13/share/nltk_data'\n",
      "    - '/Library/Frameworks/Python.framework/Versions/3.13/lib/nltk_data'\n",
      "    - '/usr/share/nltk_data'\n",
      "    - '/usr/local/share/nltk_data'\n",
      "    - '/usr/lib/nltk_data'\n",
      "    - '/usr/local/lib/nltk_data'\n",
      "**********************************************************************\n",
      "\n",
      "2025-05-12 21:52:42,494 - __main__ - ERROR - Error computing ROUGE scores: \n",
      "2025-05-12 21:52:42,495 - __main__ - ERROR - Error computing Levenshtein similarity: object of type 'float' has no len()\n",
      "2025-05-12 21:52:42,495 - __main__ - ERROR - Error computing Jaccard similarity: \n",
      "**********************************************************************\n",
      "  Resource \u001b[93mpunkt_tab\u001b[0m not found.\n",
      "  Please use the NLTK Downloader to obtain the resource:\n",
      "\n",
      "  \u001b[31m>>> import nltk\n",
      "  >>> nltk.download('punkt_tab')\n",
      "  \u001b[0m\n",
      "  For more information see: https://www.nltk.org/data.html\n",
      "\n",
      "  Attempted to load \u001b[93mtokenizers/punkt_tab/english/\u001b[0m\n",
      "\n",
      "  Searched in:\n",
      "    - '/Users/bhargav/nltk_data'\n",
      "    - '/Library/Frameworks/Python.framework/Versions/3.13/nltk_data'\n",
      "    - '/Library/Frameworks/Python.framework/Versions/3.13/share/nltk_data'\n",
      "    - '/Library/Frameworks/Python.framework/Versions/3.13/lib/nltk_data'\n",
      "    - '/usr/share/nltk_data'\n",
      "    - '/usr/local/share/nltk_data'\n",
      "    - '/usr/lib/nltk_data'\n",
      "    - '/usr/local/lib/nltk_data'\n",
      "**********************************************************************\n",
      "\n"
     ]
    },
    {
     "data": {
      "application/vnd.jupyter.widget-view+json": {
       "model_id": "d688d6f403724d9fa14d5be883246786",
       "version_major": 2,
       "version_minor": 0
      },
      "text/plain": [
       "Batches:   0%|          | 0/1 [00:00<?, ?it/s]"
      ]
     },
     "metadata": {},
     "output_type": "display_data"
    },
    {
     "data": {
      "application/vnd.jupyter.widget-view+json": {
       "model_id": "000491aa0f9b4941a40463c211065c1b",
       "version_major": 2,
       "version_minor": 0
      },
      "text/plain": [
       "Batches:   0%|          | 0/1 [00:00<?, ?it/s]"
      ]
     },
     "metadata": {},
     "output_type": "display_data"
    },
    {
     "name": "stderr",
     "output_type": "stream",
     "text": [
      "2025-05-12 21:52:42,507 - __main__ - ERROR - Error computing BERT similarity: 'float' object is not subscriptable\n",
      "2025-05-12 21:52:42,508 - __main__ - ERROR - Error computing BLEU score: \n",
      "**********************************************************************\n",
      "  Resource \u001b[93mpunkt_tab\u001b[0m not found.\n",
      "  Please use the NLTK Downloader to obtain the resource:\n",
      "\n",
      "  \u001b[31m>>> import nltk\n",
      "  >>> nltk.download('punkt_tab')\n",
      "  \u001b[0m\n",
      "  For more information see: https://www.nltk.org/data.html\n",
      "\n",
      "  Attempted to load \u001b[93mtokenizers/punkt_tab/english/\u001b[0m\n",
      "\n",
      "  Searched in:\n",
      "    - '/Users/bhargav/nltk_data'\n",
      "    - '/Library/Frameworks/Python.framework/Versions/3.13/nltk_data'\n",
      "    - '/Library/Frameworks/Python.framework/Versions/3.13/share/nltk_data'\n",
      "    - '/Library/Frameworks/Python.framework/Versions/3.13/lib/nltk_data'\n",
      "    - '/usr/share/nltk_data'\n",
      "    - '/usr/local/share/nltk_data'\n",
      "    - '/usr/lib/nltk_data'\n",
      "    - '/usr/local/lib/nltk_data'\n",
      "**********************************************************************\n",
      "\n",
      "2025-05-12 21:52:42,508 - __main__ - ERROR - Error computing ROUGE scores: \n",
      "2025-05-12 21:52:42,508 - __main__ - ERROR - Error computing Levenshtein similarity: object of type 'float' has no len()\n",
      "2025-05-12 21:52:42,509 - __main__ - ERROR - Error computing Jaccard similarity: \n",
      "**********************************************************************\n",
      "  Resource \u001b[93mpunkt_tab\u001b[0m not found.\n",
      "  Please use the NLTK Downloader to obtain the resource:\n",
      "\n",
      "  \u001b[31m>>> import nltk\n",
      "  >>> nltk.download('punkt_tab')\n",
      "  \u001b[0m\n",
      "  For more information see: https://www.nltk.org/data.html\n",
      "\n",
      "  Attempted to load \u001b[93mtokenizers/punkt_tab/english/\u001b[0m\n",
      "\n",
      "  Searched in:\n",
      "    - '/Users/bhargav/nltk_data'\n",
      "    - '/Library/Frameworks/Python.framework/Versions/3.13/nltk_data'\n",
      "    - '/Library/Frameworks/Python.framework/Versions/3.13/share/nltk_data'\n",
      "    - '/Library/Frameworks/Python.framework/Versions/3.13/lib/nltk_data'\n",
      "    - '/usr/share/nltk_data'\n",
      "    - '/usr/local/share/nltk_data'\n",
      "    - '/usr/lib/nltk_data'\n",
      "    - '/usr/local/lib/nltk_data'\n",
      "**********************************************************************\n",
      "\n"
     ]
    },
    {
     "data": {
      "application/vnd.jupyter.widget-view+json": {
       "model_id": "370b118fe5be4305809ddaeff7761262",
       "version_major": 2,
       "version_minor": 0
      },
      "text/plain": [
       "Batches:   0%|          | 0/1 [00:00<?, ?it/s]"
      ]
     },
     "metadata": {},
     "output_type": "display_data"
    },
    {
     "data": {
      "application/vnd.jupyter.widget-view+json": {
       "model_id": "00ecee07c27c42c09983b964a0e06411",
       "version_major": 2,
       "version_minor": 0
      },
      "text/plain": [
       "Batches:   0%|          | 0/1 [00:00<?, ?it/s]"
      ]
     },
     "metadata": {},
     "output_type": "display_data"
    },
    {
     "name": "stderr",
     "output_type": "stream",
     "text": [
      "2025-05-12 21:52:42,523 - __main__ - ERROR - Error computing BERT similarity: 'float' object is not subscriptable\n",
      "2025-05-12 21:52:42,524 - __main__ - ERROR - Error computing BLEU score: \n",
      "**********************************************************************\n",
      "  Resource \u001b[93mpunkt_tab\u001b[0m not found.\n",
      "  Please use the NLTK Downloader to obtain the resource:\n",
      "\n",
      "  \u001b[31m>>> import nltk\n",
      "  >>> nltk.download('punkt_tab')\n",
      "  \u001b[0m\n",
      "  For more information see: https://www.nltk.org/data.html\n",
      "\n",
      "  Attempted to load \u001b[93mtokenizers/punkt_tab/english/\u001b[0m\n",
      "\n",
      "  Searched in:\n",
      "    - '/Users/bhargav/nltk_data'\n",
      "    - '/Library/Frameworks/Python.framework/Versions/3.13/nltk_data'\n",
      "    - '/Library/Frameworks/Python.framework/Versions/3.13/share/nltk_data'\n",
      "    - '/Library/Frameworks/Python.framework/Versions/3.13/lib/nltk_data'\n",
      "    - '/usr/share/nltk_data'\n",
      "    - '/usr/local/share/nltk_data'\n",
      "    - '/usr/lib/nltk_data'\n",
      "    - '/usr/local/lib/nltk_data'\n",
      "**********************************************************************\n",
      "\n",
      "2025-05-12 21:52:42,541 - __main__ - ERROR - Error computing Jaccard similarity: \n",
      "**********************************************************************\n",
      "  Resource \u001b[93mpunkt_tab\u001b[0m not found.\n",
      "  Please use the NLTK Downloader to obtain the resource:\n",
      "\n",
      "  \u001b[31m>>> import nltk\n",
      "  >>> nltk.download('punkt_tab')\n",
      "  \u001b[0m\n",
      "  For more information see: https://www.nltk.org/data.html\n",
      "\n",
      "  Attempted to load \u001b[93mtokenizers/punkt_tab/english/\u001b[0m\n",
      "\n",
      "  Searched in:\n",
      "    - '/Users/bhargav/nltk_data'\n",
      "    - '/Library/Frameworks/Python.framework/Versions/3.13/nltk_data'\n",
      "    - '/Library/Frameworks/Python.framework/Versions/3.13/share/nltk_data'\n",
      "    - '/Library/Frameworks/Python.framework/Versions/3.13/lib/nltk_data'\n",
      "    - '/usr/share/nltk_data'\n",
      "    - '/usr/local/share/nltk_data'\n",
      "    - '/usr/lib/nltk_data'\n",
      "    - '/usr/local/lib/nltk_data'\n",
      "**********************************************************************\n",
      "\n"
     ]
    },
    {
     "data": {
      "application/vnd.jupyter.widget-view+json": {
       "model_id": "8d465bf5973349298e250e8c6b255b21",
       "version_major": 2,
       "version_minor": 0
      },
      "text/plain": [
       "Batches:   0%|          | 0/1 [00:00<?, ?it/s]"
      ]
     },
     "metadata": {},
     "output_type": "display_data"
    },
    {
     "data": {
      "application/vnd.jupyter.widget-view+json": {
       "model_id": "09dc542a79f946e3b0d546631ff93e83",
       "version_major": 2,
       "version_minor": 0
      },
      "text/plain": [
       "Batches:   0%|          | 0/1 [00:00<?, ?it/s]"
      ]
     },
     "metadata": {},
     "output_type": "display_data"
    },
    {
     "name": "stderr",
     "output_type": "stream",
     "text": [
      "2025-05-12 21:52:42,569 - __main__ - ERROR - Error computing BLEU score: \n",
      "**********************************************************************\n",
      "  Resource \u001b[93mpunkt_tab\u001b[0m not found.\n",
      "  Please use the NLTK Downloader to obtain the resource:\n",
      "\n",
      "  \u001b[31m>>> import nltk\n",
      "  >>> nltk.download('punkt_tab')\n",
      "  \u001b[0m\n",
      "  For more information see: https://www.nltk.org/data.html\n",
      "\n",
      "  Attempted to load \u001b[93mtokenizers/punkt_tab/english/\u001b[0m\n",
      "\n",
      "  Searched in:\n",
      "    - '/Users/bhargav/nltk_data'\n",
      "    - '/Library/Frameworks/Python.framework/Versions/3.13/nltk_data'\n",
      "    - '/Library/Frameworks/Python.framework/Versions/3.13/share/nltk_data'\n",
      "    - '/Library/Frameworks/Python.framework/Versions/3.13/lib/nltk_data'\n",
      "    - '/usr/share/nltk_data'\n",
      "    - '/usr/local/share/nltk_data'\n",
      "    - '/usr/lib/nltk_data'\n",
      "    - '/usr/local/lib/nltk_data'\n",
      "**********************************************************************\n",
      "\n",
      "2025-05-12 21:52:42,570 - __main__ - ERROR - Error computing ROUGE scores: \n",
      "2025-05-12 21:52:42,570 - __main__ - ERROR - Error computing Levenshtein similarity: object of type 'float' has no len()\n",
      "2025-05-12 21:52:42,571 - __main__ - ERROR - Error computing Jaccard similarity: \n",
      "**********************************************************************\n",
      "  Resource \u001b[93mpunkt_tab\u001b[0m not found.\n",
      "  Please use the NLTK Downloader to obtain the resource:\n",
      "\n",
      "  \u001b[31m>>> import nltk\n",
      "  >>> nltk.download('punkt_tab')\n",
      "  \u001b[0m\n",
      "  For more information see: https://www.nltk.org/data.html\n",
      "\n",
      "  Attempted to load \u001b[93mtokenizers/punkt_tab/english/\u001b[0m\n",
      "\n",
      "  Searched in:\n",
      "    - '/Users/bhargav/nltk_data'\n",
      "    - '/Library/Frameworks/Python.framework/Versions/3.13/nltk_data'\n",
      "    - '/Library/Frameworks/Python.framework/Versions/3.13/share/nltk_data'\n",
      "    - '/Library/Frameworks/Python.framework/Versions/3.13/lib/nltk_data'\n",
      "    - '/usr/share/nltk_data'\n",
      "    - '/usr/local/share/nltk_data'\n",
      "    - '/usr/lib/nltk_data'\n",
      "    - '/usr/local/lib/nltk_data'\n",
      "**********************************************************************\n",
      "\n"
     ]
    },
    {
     "data": {
      "application/vnd.jupyter.widget-view+json": {
       "model_id": "731e876cc09746b188540a4c236e6a2b",
       "version_major": 2,
       "version_minor": 0
      },
      "text/plain": [
       "Batches:   0%|          | 0/1 [00:00<?, ?it/s]"
      ]
     },
     "metadata": {},
     "output_type": "display_data"
    },
    {
     "data": {
      "application/vnd.jupyter.widget-view+json": {
       "model_id": "24c737b690c0446a90e7d32bce4263f7",
       "version_major": 2,
       "version_minor": 0
      },
      "text/plain": [
       "Batches:   0%|          | 0/1 [00:00<?, ?it/s]"
      ]
     },
     "metadata": {},
     "output_type": "display_data"
    },
    {
     "name": "stderr",
     "output_type": "stream",
     "text": [
      "2025-05-12 21:52:42,583 - __main__ - ERROR - Error computing BERT similarity: 'float' object is not subscriptable\n",
      "2025-05-12 21:52:42,584 - __main__ - ERROR - Error computing BLEU score: \n",
      "**********************************************************************\n",
      "  Resource \u001b[93mpunkt_tab\u001b[0m not found.\n",
      "  Please use the NLTK Downloader to obtain the resource:\n",
      "\n",
      "  \u001b[31m>>> import nltk\n",
      "  >>> nltk.download('punkt_tab')\n",
      "  \u001b[0m\n",
      "  For more information see: https://www.nltk.org/data.html\n",
      "\n",
      "  Attempted to load \u001b[93mtokenizers/punkt_tab/english/\u001b[0m\n",
      "\n",
      "  Searched in:\n",
      "    - '/Users/bhargav/nltk_data'\n",
      "    - '/Library/Frameworks/Python.framework/Versions/3.13/nltk_data'\n",
      "    - '/Library/Frameworks/Python.framework/Versions/3.13/share/nltk_data'\n",
      "    - '/Library/Frameworks/Python.framework/Versions/3.13/lib/nltk_data'\n",
      "    - '/usr/share/nltk_data'\n",
      "    - '/usr/local/share/nltk_data'\n",
      "    - '/usr/lib/nltk_data'\n",
      "    - '/usr/local/lib/nltk_data'\n",
      "**********************************************************************\n",
      "\n",
      "2025-05-12 21:52:42,584 - __main__ - ERROR - Error computing ROUGE scores: \n",
      "2025-05-12 21:52:42,584 - __main__ - ERROR - Error computing Levenshtein similarity: object of type 'float' has no len()\n",
      "2025-05-12 21:52:42,585 - __main__ - ERROR - Error computing Jaccard similarity: \n",
      "**********************************************************************\n",
      "  Resource \u001b[93mpunkt_tab\u001b[0m not found.\n",
      "  Please use the NLTK Downloader to obtain the resource:\n",
      "\n",
      "  \u001b[31m>>> import nltk\n",
      "  >>> nltk.download('punkt_tab')\n",
      "  \u001b[0m\n",
      "  For more information see: https://www.nltk.org/data.html\n",
      "\n",
      "  Attempted to load \u001b[93mtokenizers/punkt_tab/english/\u001b[0m\n",
      "\n",
      "  Searched in:\n",
      "    - '/Users/bhargav/nltk_data'\n",
      "    - '/Library/Frameworks/Python.framework/Versions/3.13/nltk_data'\n",
      "    - '/Library/Frameworks/Python.framework/Versions/3.13/share/nltk_data'\n",
      "    - '/Library/Frameworks/Python.framework/Versions/3.13/lib/nltk_data'\n",
      "    - '/usr/share/nltk_data'\n",
      "    - '/usr/local/share/nltk_data'\n",
      "    - '/usr/lib/nltk_data'\n",
      "    - '/usr/local/lib/nltk_data'\n",
      "**********************************************************************\n",
      "\n"
     ]
    },
    {
     "data": {
      "application/vnd.jupyter.widget-view+json": {
       "model_id": "aa592f2effda4dc290c30be819b3ac1f",
       "version_major": 2,
       "version_minor": 0
      },
      "text/plain": [
       "Batches:   0%|          | 0/1 [00:00<?, ?it/s]"
      ]
     },
     "metadata": {},
     "output_type": "display_data"
    },
    {
     "data": {
      "application/vnd.jupyter.widget-view+json": {
       "model_id": "ea68a3ee1aa54ce4ad08ba6ea97cb577",
       "version_major": 2,
       "version_minor": 0
      },
      "text/plain": [
       "Batches:   0%|          | 0/1 [00:00<?, ?it/s]"
      ]
     },
     "metadata": {},
     "output_type": "display_data"
    },
    {
     "name": "stderr",
     "output_type": "stream",
     "text": [
      "2025-05-12 21:52:42,598 - __main__ - ERROR - Error computing BERT similarity: 'float' object is not subscriptable\n",
      "2025-05-12 21:52:42,599 - __main__ - ERROR - Error computing BLEU score: \n",
      "**********************************************************************\n",
      "  Resource \u001b[93mpunkt_tab\u001b[0m not found.\n",
      "  Please use the NLTK Downloader to obtain the resource:\n",
      "\n",
      "  \u001b[31m>>> import nltk\n",
      "  >>> nltk.download('punkt_tab')\n",
      "  \u001b[0m\n",
      "  For more information see: https://www.nltk.org/data.html\n",
      "\n",
      "  Attempted to load \u001b[93mtokenizers/punkt_tab/english/\u001b[0m\n",
      "\n",
      "  Searched in:\n",
      "    - '/Users/bhargav/nltk_data'\n",
      "    - '/Library/Frameworks/Python.framework/Versions/3.13/nltk_data'\n",
      "    - '/Library/Frameworks/Python.framework/Versions/3.13/share/nltk_data'\n",
      "    - '/Library/Frameworks/Python.framework/Versions/3.13/lib/nltk_data'\n",
      "    - '/usr/share/nltk_data'\n",
      "    - '/usr/local/share/nltk_data'\n",
      "    - '/usr/lib/nltk_data'\n",
      "    - '/usr/local/lib/nltk_data'\n",
      "**********************************************************************\n",
      "\n",
      "2025-05-12 21:52:42,599 - __main__ - ERROR - Error computing ROUGE scores: \n",
      "2025-05-12 21:52:42,599 - __main__ - ERROR - Error computing Levenshtein similarity: object of type 'float' has no len()\n",
      "2025-05-12 21:52:42,600 - __main__ - ERROR - Error computing Jaccard similarity: \n",
      "**********************************************************************\n",
      "  Resource \u001b[93mpunkt_tab\u001b[0m not found.\n",
      "  Please use the NLTK Downloader to obtain the resource:\n",
      "\n",
      "  \u001b[31m>>> import nltk\n",
      "  >>> nltk.download('punkt_tab')\n",
      "  \u001b[0m\n",
      "  For more information see: https://www.nltk.org/data.html\n",
      "\n",
      "  Attempted to load \u001b[93mtokenizers/punkt_tab/english/\u001b[0m\n",
      "\n",
      "  Searched in:\n",
      "    - '/Users/bhargav/nltk_data'\n",
      "    - '/Library/Frameworks/Python.framework/Versions/3.13/nltk_data'\n",
      "    - '/Library/Frameworks/Python.framework/Versions/3.13/share/nltk_data'\n",
      "    - '/Library/Frameworks/Python.framework/Versions/3.13/lib/nltk_data'\n",
      "    - '/usr/share/nltk_data'\n",
      "    - '/usr/local/share/nltk_data'\n",
      "    - '/usr/lib/nltk_data'\n",
      "    - '/usr/local/lib/nltk_data'\n",
      "**********************************************************************\n",
      "\n"
     ]
    },
    {
     "data": {
      "application/vnd.jupyter.widget-view+json": {
       "model_id": "5136fa4ec53547b5b8cee84a32ca6e96",
       "version_major": 2,
       "version_minor": 0
      },
      "text/plain": [
       "Batches:   0%|          | 0/1 [00:00<?, ?it/s]"
      ]
     },
     "metadata": {},
     "output_type": "display_data"
    },
    {
     "data": {
      "application/vnd.jupyter.widget-view+json": {
       "model_id": "2adc1fa36ca944b380bfe54f3b9790a8",
       "version_major": 2,
       "version_minor": 0
      },
      "text/plain": [
       "Batches:   0%|          | 0/1 [00:00<?, ?it/s]"
      ]
     },
     "metadata": {},
     "output_type": "display_data"
    },
    {
     "name": "stderr",
     "output_type": "stream",
     "text": [
      "2025-05-12 21:52:42,612 - __main__ - ERROR - Error computing BERT similarity: 'float' object is not subscriptable\n",
      "Computing mistral_clean_similarities:  56%|██▏ | 64/115 [00:01<00:00, 52.52it/s]2025-05-12 21:52:42,613 - __main__ - ERROR - Error computing BLEU score: \n",
      "**********************************************************************\n",
      "  Resource \u001b[93mpunkt_tab\u001b[0m not found.\n",
      "  Please use the NLTK Downloader to obtain the resource:\n",
      "\n",
      "  \u001b[31m>>> import nltk\n",
      "  >>> nltk.download('punkt_tab')\n",
      "  \u001b[0m\n",
      "  For more information see: https://www.nltk.org/data.html\n",
      "\n",
      "  Attempted to load \u001b[93mtokenizers/punkt_tab/english/\u001b[0m\n",
      "\n",
      "  Searched in:\n",
      "    - '/Users/bhargav/nltk_data'\n",
      "    - '/Library/Frameworks/Python.framework/Versions/3.13/nltk_data'\n",
      "    - '/Library/Frameworks/Python.framework/Versions/3.13/share/nltk_data'\n",
      "    - '/Library/Frameworks/Python.framework/Versions/3.13/lib/nltk_data'\n",
      "    - '/usr/share/nltk_data'\n",
      "    - '/usr/local/share/nltk_data'\n",
      "    - '/usr/lib/nltk_data'\n",
      "    - '/usr/local/lib/nltk_data'\n",
      "**********************************************************************\n",
      "\n",
      "2025-05-12 21:52:42,613 - __main__ - ERROR - Error computing ROUGE scores: \n",
      "2025-05-12 21:52:42,613 - __main__ - ERROR - Error computing Levenshtein similarity: object of type 'float' has no len()\n",
      "2025-05-12 21:52:42,614 - __main__ - ERROR - Error computing Jaccard similarity: \n",
      "**********************************************************************\n",
      "  Resource \u001b[93mpunkt_tab\u001b[0m not found.\n",
      "  Please use the NLTK Downloader to obtain the resource:\n",
      "\n",
      "  \u001b[31m>>> import nltk\n",
      "  >>> nltk.download('punkt_tab')\n",
      "  \u001b[0m\n",
      "  For more information see: https://www.nltk.org/data.html\n",
      "\n",
      "  Attempted to load \u001b[93mtokenizers/punkt_tab/english/\u001b[0m\n",
      "\n",
      "  Searched in:\n",
      "    - '/Users/bhargav/nltk_data'\n",
      "    - '/Library/Frameworks/Python.framework/Versions/3.13/nltk_data'\n",
      "    - '/Library/Frameworks/Python.framework/Versions/3.13/share/nltk_data'\n",
      "    - '/Library/Frameworks/Python.framework/Versions/3.13/lib/nltk_data'\n",
      "    - '/usr/share/nltk_data'\n",
      "    - '/usr/local/share/nltk_data'\n",
      "    - '/usr/lib/nltk_data'\n",
      "    - '/usr/local/lib/nltk_data'\n",
      "**********************************************************************\n",
      "\n"
     ]
    },
    {
     "data": {
      "application/vnd.jupyter.widget-view+json": {
       "model_id": "a51db2bed97445e8a6ca315578f2664c",
       "version_major": 2,
       "version_minor": 0
      },
      "text/plain": [
       "Batches:   0%|          | 0/1 [00:00<?, ?it/s]"
      ]
     },
     "metadata": {},
     "output_type": "display_data"
    },
    {
     "data": {
      "application/vnd.jupyter.widget-view+json": {
       "model_id": "02b517f0282a43758262003fdc2cb5fc",
       "version_major": 2,
       "version_minor": 0
      },
      "text/plain": [
       "Batches:   0%|          | 0/1 [00:00<?, ?it/s]"
      ]
     },
     "metadata": {},
     "output_type": "display_data"
    },
    {
     "name": "stderr",
     "output_type": "stream",
     "text": [
      "2025-05-12 21:52:42,626 - __main__ - ERROR - Error computing BERT similarity: 'float' object is not subscriptable\n",
      "2025-05-12 21:52:42,627 - __main__ - ERROR - Error computing BLEU score: \n",
      "**********************************************************************\n",
      "  Resource \u001b[93mpunkt_tab\u001b[0m not found.\n",
      "  Please use the NLTK Downloader to obtain the resource:\n",
      "\n",
      "  \u001b[31m>>> import nltk\n",
      "  >>> nltk.download('punkt_tab')\n",
      "  \u001b[0m\n",
      "  For more information see: https://www.nltk.org/data.html\n",
      "\n",
      "  Attempted to load \u001b[93mtokenizers/punkt_tab/english/\u001b[0m\n",
      "\n",
      "  Searched in:\n",
      "    - '/Users/bhargav/nltk_data'\n",
      "    - '/Library/Frameworks/Python.framework/Versions/3.13/nltk_data'\n",
      "    - '/Library/Frameworks/Python.framework/Versions/3.13/share/nltk_data'\n",
      "    - '/Library/Frameworks/Python.framework/Versions/3.13/lib/nltk_data'\n",
      "    - '/usr/share/nltk_data'\n",
      "    - '/usr/local/share/nltk_data'\n",
      "    - '/usr/lib/nltk_data'\n",
      "    - '/usr/local/lib/nltk_data'\n",
      "**********************************************************************\n",
      "\n",
      "2025-05-12 21:52:42,627 - __main__ - ERROR - Error computing ROUGE scores: \n",
      "2025-05-12 21:52:42,627 - __main__ - ERROR - Error computing Levenshtein similarity: object of type 'float' has no len()\n",
      "2025-05-12 21:52:42,628 - __main__ - ERROR - Error computing Jaccard similarity: \n",
      "**********************************************************************\n",
      "  Resource \u001b[93mpunkt_tab\u001b[0m not found.\n",
      "  Please use the NLTK Downloader to obtain the resource:\n",
      "\n",
      "  \u001b[31m>>> import nltk\n",
      "  >>> nltk.download('punkt_tab')\n",
      "  \u001b[0m\n",
      "  For more information see: https://www.nltk.org/data.html\n",
      "\n",
      "  Attempted to load \u001b[93mtokenizers/punkt_tab/english/\u001b[0m\n",
      "\n",
      "  Searched in:\n",
      "    - '/Users/bhargav/nltk_data'\n",
      "    - '/Library/Frameworks/Python.framework/Versions/3.13/nltk_data'\n",
      "    - '/Library/Frameworks/Python.framework/Versions/3.13/share/nltk_data'\n",
      "    - '/Library/Frameworks/Python.framework/Versions/3.13/lib/nltk_data'\n",
      "    - '/usr/share/nltk_data'\n",
      "    - '/usr/local/share/nltk_data'\n",
      "    - '/usr/lib/nltk_data'\n",
      "    - '/usr/local/lib/nltk_data'\n",
      "**********************************************************************\n",
      "\n"
     ]
    },
    {
     "data": {
      "application/vnd.jupyter.widget-view+json": {
       "model_id": "9e4b74ab436942f09702e10d87fa7544",
       "version_major": 2,
       "version_minor": 0
      },
      "text/plain": [
       "Batches:   0%|          | 0/1 [00:00<?, ?it/s]"
      ]
     },
     "metadata": {},
     "output_type": "display_data"
    },
    {
     "data": {
      "application/vnd.jupyter.widget-view+json": {
       "model_id": "c6322d9edb5c4bbb8acad0b15fa759d4",
       "version_major": 2,
       "version_minor": 0
      },
      "text/plain": [
       "Batches:   0%|          | 0/1 [00:00<?, ?it/s]"
      ]
     },
     "metadata": {},
     "output_type": "display_data"
    },
    {
     "name": "stderr",
     "output_type": "stream",
     "text": [
      "2025-05-12 21:52:42,642 - __main__ - ERROR - Error computing BERT similarity: 'float' object is not subscriptable\n",
      "2025-05-12 21:52:42,642 - __main__ - ERROR - Error computing BLEU score: \n",
      "**********************************************************************\n",
      "  Resource \u001b[93mpunkt_tab\u001b[0m not found.\n",
      "  Please use the NLTK Downloader to obtain the resource:\n",
      "\n",
      "  \u001b[31m>>> import nltk\n",
      "  >>> nltk.download('punkt_tab')\n",
      "  \u001b[0m\n",
      "  For more information see: https://www.nltk.org/data.html\n",
      "\n",
      "  Attempted to load \u001b[93mtokenizers/punkt_tab/english/\u001b[0m\n",
      "\n",
      "  Searched in:\n",
      "    - '/Users/bhargav/nltk_data'\n",
      "    - '/Library/Frameworks/Python.framework/Versions/3.13/nltk_data'\n",
      "    - '/Library/Frameworks/Python.framework/Versions/3.13/share/nltk_data'\n",
      "    - '/Library/Frameworks/Python.framework/Versions/3.13/lib/nltk_data'\n",
      "    - '/usr/share/nltk_data'\n",
      "    - '/usr/local/share/nltk_data'\n",
      "    - '/usr/lib/nltk_data'\n",
      "    - '/usr/local/lib/nltk_data'\n",
      "**********************************************************************\n",
      "\n",
      "2025-05-12 21:52:42,643 - __main__ - ERROR - Error computing ROUGE scores: \n",
      "2025-05-12 21:52:42,643 - __main__ - ERROR - Error computing Levenshtein similarity: object of type 'float' has no len()\n",
      "2025-05-12 21:52:42,644 - __main__ - ERROR - Error computing Jaccard similarity: \n",
      "**********************************************************************\n",
      "  Resource \u001b[93mpunkt_tab\u001b[0m not found.\n",
      "  Please use the NLTK Downloader to obtain the resource:\n",
      "\n",
      "  \u001b[31m>>> import nltk\n",
      "  >>> nltk.download('punkt_tab')\n",
      "  \u001b[0m\n",
      "  For more information see: https://www.nltk.org/data.html\n",
      "\n",
      "  Attempted to load \u001b[93mtokenizers/punkt_tab/english/\u001b[0m\n",
      "\n",
      "  Searched in:\n",
      "    - '/Users/bhargav/nltk_data'\n",
      "    - '/Library/Frameworks/Python.framework/Versions/3.13/nltk_data'\n",
      "    - '/Library/Frameworks/Python.framework/Versions/3.13/share/nltk_data'\n",
      "    - '/Library/Frameworks/Python.framework/Versions/3.13/lib/nltk_data'\n",
      "    - '/usr/share/nltk_data'\n",
      "    - '/usr/local/share/nltk_data'\n",
      "    - '/usr/lib/nltk_data'\n",
      "    - '/usr/local/lib/nltk_data'\n",
      "**********************************************************************\n",
      "\n"
     ]
    },
    {
     "data": {
      "application/vnd.jupyter.widget-view+json": {
       "model_id": "a728ed9e54bf43d1badc9f17a7e94304",
       "version_major": 2,
       "version_minor": 0
      },
      "text/plain": [
       "Batches:   0%|          | 0/1 [00:00<?, ?it/s]"
      ]
     },
     "metadata": {},
     "output_type": "display_data"
    },
    {
     "data": {
      "application/vnd.jupyter.widget-view+json": {
       "model_id": "02e2f0805b1a46ac980065624f3902c2",
       "version_major": 2,
       "version_minor": 0
      },
      "text/plain": [
       "Batches:   0%|          | 0/1 [00:00<?, ?it/s]"
      ]
     },
     "metadata": {},
     "output_type": "display_data"
    },
    {
     "name": "stderr",
     "output_type": "stream",
     "text": [
      "2025-05-12 21:52:42,660 - __main__ - ERROR - Error computing BERT similarity: 'float' object is not subscriptable\n",
      "2025-05-12 21:52:42,661 - __main__ - ERROR - Error computing BLEU score: \n",
      "**********************************************************************\n",
      "  Resource \u001b[93mpunkt_tab\u001b[0m not found.\n",
      "  Please use the NLTK Downloader to obtain the resource:\n",
      "\n",
      "  \u001b[31m>>> import nltk\n",
      "  >>> nltk.download('punkt_tab')\n",
      "  \u001b[0m\n",
      "  For more information see: https://www.nltk.org/data.html\n",
      "\n",
      "  Attempted to load \u001b[93mtokenizers/punkt_tab/english/\u001b[0m\n",
      "\n",
      "  Searched in:\n",
      "    - '/Users/bhargav/nltk_data'\n",
      "    - '/Library/Frameworks/Python.framework/Versions/3.13/nltk_data'\n",
      "    - '/Library/Frameworks/Python.framework/Versions/3.13/share/nltk_data'\n",
      "    - '/Library/Frameworks/Python.framework/Versions/3.13/lib/nltk_data'\n",
      "    - '/usr/share/nltk_data'\n",
      "    - '/usr/local/share/nltk_data'\n",
      "    - '/usr/lib/nltk_data'\n",
      "    - '/usr/local/lib/nltk_data'\n",
      "**********************************************************************\n",
      "\n",
      "2025-05-12 21:52:42,661 - __main__ - ERROR - Error computing ROUGE scores: \n",
      "2025-05-12 21:52:42,661 - __main__ - ERROR - Error computing Levenshtein similarity: object of type 'float' has no len()\n",
      "2025-05-12 21:52:42,662 - __main__ - ERROR - Error computing Jaccard similarity: \n",
      "**********************************************************************\n",
      "  Resource \u001b[93mpunkt_tab\u001b[0m not found.\n",
      "  Please use the NLTK Downloader to obtain the resource:\n",
      "\n",
      "  \u001b[31m>>> import nltk\n",
      "  >>> nltk.download('punkt_tab')\n",
      "  \u001b[0m\n",
      "  For more information see: https://www.nltk.org/data.html\n",
      "\n",
      "  Attempted to load \u001b[93mtokenizers/punkt_tab/english/\u001b[0m\n",
      "\n",
      "  Searched in:\n",
      "    - '/Users/bhargav/nltk_data'\n",
      "    - '/Library/Frameworks/Python.framework/Versions/3.13/nltk_data'\n",
      "    - '/Library/Frameworks/Python.framework/Versions/3.13/share/nltk_data'\n",
      "    - '/Library/Frameworks/Python.framework/Versions/3.13/lib/nltk_data'\n",
      "    - '/usr/share/nltk_data'\n",
      "    - '/usr/local/share/nltk_data'\n",
      "    - '/usr/lib/nltk_data'\n",
      "    - '/usr/local/lib/nltk_data'\n",
      "**********************************************************************\n",
      "\n"
     ]
    },
    {
     "data": {
      "application/vnd.jupyter.widget-view+json": {
       "model_id": "cc93e16b6ddd4feda1d610dc37857832",
       "version_major": 2,
       "version_minor": 0
      },
      "text/plain": [
       "Batches:   0%|          | 0/1 [00:00<?, ?it/s]"
      ]
     },
     "metadata": {},
     "output_type": "display_data"
    },
    {
     "data": {
      "application/vnd.jupyter.widget-view+json": {
       "model_id": "1348f6352c284274883af057690dd6e8",
       "version_major": 2,
       "version_minor": 0
      },
      "text/plain": [
       "Batches:   0%|          | 0/1 [00:00<?, ?it/s]"
      ]
     },
     "metadata": {},
     "output_type": "display_data"
    },
    {
     "name": "stderr",
     "output_type": "stream",
     "text": [
      "2025-05-12 21:52:42,674 - __main__ - ERROR - Error computing BERT similarity: 'float' object is not subscriptable\n",
      "2025-05-12 21:52:42,675 - __main__ - ERROR - Error computing BLEU score: \n",
      "**********************************************************************\n",
      "  Resource \u001b[93mpunkt_tab\u001b[0m not found.\n",
      "  Please use the NLTK Downloader to obtain the resource:\n",
      "\n",
      "  \u001b[31m>>> import nltk\n",
      "  >>> nltk.download('punkt_tab')\n",
      "  \u001b[0m\n",
      "  For more information see: https://www.nltk.org/data.html\n",
      "\n",
      "  Attempted to load \u001b[93mtokenizers/punkt_tab/english/\u001b[0m\n",
      "\n",
      "  Searched in:\n",
      "    - '/Users/bhargav/nltk_data'\n",
      "    - '/Library/Frameworks/Python.framework/Versions/3.13/nltk_data'\n",
      "    - '/Library/Frameworks/Python.framework/Versions/3.13/share/nltk_data'\n",
      "    - '/Library/Frameworks/Python.framework/Versions/3.13/lib/nltk_data'\n",
      "    - '/usr/share/nltk_data'\n",
      "    - '/usr/local/share/nltk_data'\n",
      "    - '/usr/lib/nltk_data'\n",
      "    - '/usr/local/lib/nltk_data'\n",
      "**********************************************************************\n",
      "\n",
      "2025-05-12 21:52:42,675 - __main__ - ERROR - Error computing ROUGE scores: \n",
      "2025-05-12 21:52:42,676 - __main__ - ERROR - Error computing Levenshtein similarity: object of type 'float' has no len()\n",
      "2025-05-12 21:52:42,676 - __main__ - ERROR - Error computing Jaccard similarity: \n",
      "**********************************************************************\n",
      "  Resource \u001b[93mpunkt_tab\u001b[0m not found.\n",
      "  Please use the NLTK Downloader to obtain the resource:\n",
      "\n",
      "  \u001b[31m>>> import nltk\n",
      "  >>> nltk.download('punkt_tab')\n",
      "  \u001b[0m\n",
      "  For more information see: https://www.nltk.org/data.html\n",
      "\n",
      "  Attempted to load \u001b[93mtokenizers/punkt_tab/english/\u001b[0m\n",
      "\n",
      "  Searched in:\n",
      "    - '/Users/bhargav/nltk_data'\n",
      "    - '/Library/Frameworks/Python.framework/Versions/3.13/nltk_data'\n",
      "    - '/Library/Frameworks/Python.framework/Versions/3.13/share/nltk_data'\n",
      "    - '/Library/Frameworks/Python.framework/Versions/3.13/lib/nltk_data'\n",
      "    - '/usr/share/nltk_data'\n",
      "    - '/usr/local/share/nltk_data'\n",
      "    - '/usr/lib/nltk_data'\n",
      "    - '/usr/local/lib/nltk_data'\n",
      "**********************************************************************\n",
      "\n"
     ]
    },
    {
     "data": {
      "application/vnd.jupyter.widget-view+json": {
       "model_id": "b57192d590424ac192b7056e5a67555d",
       "version_major": 2,
       "version_minor": 0
      },
      "text/plain": [
       "Batches:   0%|          | 0/1 [00:00<?, ?it/s]"
      ]
     },
     "metadata": {},
     "output_type": "display_data"
    },
    {
     "data": {
      "application/vnd.jupyter.widget-view+json": {
       "model_id": "086bf9c950b54b1880fe208e13a7ede9",
       "version_major": 2,
       "version_minor": 0
      },
      "text/plain": [
       "Batches:   0%|          | 0/1 [00:00<?, ?it/s]"
      ]
     },
     "metadata": {},
     "output_type": "display_data"
    },
    {
     "name": "stderr",
     "output_type": "stream",
     "text": [
      "2025-05-12 21:52:42,690 - __main__ - ERROR - Error computing BERT similarity: 'float' object is not subscriptable\n",
      "2025-05-12 21:52:42,691 - __main__ - ERROR - Error computing BLEU score: \n",
      "**********************************************************************\n",
      "  Resource \u001b[93mpunkt_tab\u001b[0m not found.\n",
      "  Please use the NLTK Downloader to obtain the resource:\n",
      "\n",
      "  \u001b[31m>>> import nltk\n",
      "  >>> nltk.download('punkt_tab')\n",
      "  \u001b[0m\n",
      "  For more information see: https://www.nltk.org/data.html\n",
      "\n",
      "  Attempted to load \u001b[93mtokenizers/punkt_tab/english/\u001b[0m\n",
      "\n",
      "  Searched in:\n",
      "    - '/Users/bhargav/nltk_data'\n",
      "    - '/Library/Frameworks/Python.framework/Versions/3.13/nltk_data'\n",
      "    - '/Library/Frameworks/Python.framework/Versions/3.13/share/nltk_data'\n",
      "    - '/Library/Frameworks/Python.framework/Versions/3.13/lib/nltk_data'\n",
      "    - '/usr/share/nltk_data'\n",
      "    - '/usr/local/share/nltk_data'\n",
      "    - '/usr/lib/nltk_data'\n",
      "    - '/usr/local/lib/nltk_data'\n",
      "**********************************************************************\n",
      "\n",
      "2025-05-12 21:52:42,691 - __main__ - ERROR - Error computing ROUGE scores: \n",
      "2025-05-12 21:52:42,691 - __main__ - ERROR - Error computing Levenshtein similarity: object of type 'float' has no len()\n",
      "2025-05-12 21:52:42,692 - __main__ - ERROR - Error computing Jaccard similarity: \n",
      "**********************************************************************\n",
      "  Resource \u001b[93mpunkt_tab\u001b[0m not found.\n",
      "  Please use the NLTK Downloader to obtain the resource:\n",
      "\n",
      "  \u001b[31m>>> import nltk\n",
      "  >>> nltk.download('punkt_tab')\n",
      "  \u001b[0m\n",
      "  For more information see: https://www.nltk.org/data.html\n",
      "\n",
      "  Attempted to load \u001b[93mtokenizers/punkt_tab/english/\u001b[0m\n",
      "\n",
      "  Searched in:\n",
      "    - '/Users/bhargav/nltk_data'\n",
      "    - '/Library/Frameworks/Python.framework/Versions/3.13/nltk_data'\n",
      "    - '/Library/Frameworks/Python.framework/Versions/3.13/share/nltk_data'\n",
      "    - '/Library/Frameworks/Python.framework/Versions/3.13/lib/nltk_data'\n",
      "    - '/usr/share/nltk_data'\n",
      "    - '/usr/local/share/nltk_data'\n",
      "    - '/usr/lib/nltk_data'\n",
      "    - '/usr/local/lib/nltk_data'\n",
      "**********************************************************************\n",
      "\n"
     ]
    },
    {
     "data": {
      "application/vnd.jupyter.widget-view+json": {
       "model_id": "10147b5cc239417a87185c16b4ae3077",
       "version_major": 2,
       "version_minor": 0
      },
      "text/plain": [
       "Batches:   0%|          | 0/1 [00:00<?, ?it/s]"
      ]
     },
     "metadata": {},
     "output_type": "display_data"
    },
    {
     "data": {
      "application/vnd.jupyter.widget-view+json": {
       "model_id": "63a78d73e9054c6d8cfb4cdfdcadc88e",
       "version_major": 2,
       "version_minor": 0
      },
      "text/plain": [
       "Batches:   0%|          | 0/1 [00:00<?, ?it/s]"
      ]
     },
     "metadata": {},
     "output_type": "display_data"
    },
    {
     "name": "stderr",
     "output_type": "stream",
     "text": [
      "2025-05-12 21:52:42,704 - __main__ - ERROR - Error computing BERT similarity: 'float' object is not subscriptable\n",
      "2025-05-12 21:52:42,705 - __main__ - ERROR - Error computing BLEU score: \n",
      "**********************************************************************\n",
      "  Resource \u001b[93mpunkt_tab\u001b[0m not found.\n",
      "  Please use the NLTK Downloader to obtain the resource:\n",
      "\n",
      "  \u001b[31m>>> import nltk\n",
      "  >>> nltk.download('punkt_tab')\n",
      "  \u001b[0m\n",
      "  For more information see: https://www.nltk.org/data.html\n",
      "\n",
      "  Attempted to load \u001b[93mtokenizers/punkt_tab/english/\u001b[0m\n",
      "\n",
      "  Searched in:\n",
      "    - '/Users/bhargav/nltk_data'\n",
      "    - '/Library/Frameworks/Python.framework/Versions/3.13/nltk_data'\n",
      "    - '/Library/Frameworks/Python.framework/Versions/3.13/share/nltk_data'\n",
      "    - '/Library/Frameworks/Python.framework/Versions/3.13/lib/nltk_data'\n",
      "    - '/usr/share/nltk_data'\n",
      "    - '/usr/local/share/nltk_data'\n",
      "    - '/usr/lib/nltk_data'\n",
      "    - '/usr/local/lib/nltk_data'\n",
      "**********************************************************************\n",
      "\n",
      "2025-05-12 21:52:42,705 - __main__ - ERROR - Error computing ROUGE scores: \n",
      "2025-05-12 21:52:42,705 - __main__ - ERROR - Error computing Levenshtein similarity: object of type 'float' has no len()\n",
      "2025-05-12 21:52:42,706 - __main__ - ERROR - Error computing Jaccard similarity: \n",
      "**********************************************************************\n",
      "  Resource \u001b[93mpunkt_tab\u001b[0m not found.\n",
      "  Please use the NLTK Downloader to obtain the resource:\n",
      "\n",
      "  \u001b[31m>>> import nltk\n",
      "  >>> nltk.download('punkt_tab')\n",
      "  \u001b[0m\n",
      "  For more information see: https://www.nltk.org/data.html\n",
      "\n",
      "  Attempted to load \u001b[93mtokenizers/punkt_tab/english/\u001b[0m\n",
      "\n",
      "  Searched in:\n",
      "    - '/Users/bhargav/nltk_data'\n",
      "    - '/Library/Frameworks/Python.framework/Versions/3.13/nltk_data'\n",
      "    - '/Library/Frameworks/Python.framework/Versions/3.13/share/nltk_data'\n",
      "    - '/Library/Frameworks/Python.framework/Versions/3.13/lib/nltk_data'\n",
      "    - '/usr/share/nltk_data'\n",
      "    - '/usr/local/share/nltk_data'\n",
      "    - '/usr/lib/nltk_data'\n",
      "    - '/usr/local/lib/nltk_data'\n",
      "**********************************************************************\n",
      "\n"
     ]
    },
    {
     "data": {
      "application/vnd.jupyter.widget-view+json": {
       "model_id": "1688a3b116e0485eb9b099b76e6ba134",
       "version_major": 2,
       "version_minor": 0
      },
      "text/plain": [
       "Batches:   0%|          | 0/1 [00:00<?, ?it/s]"
      ]
     },
     "metadata": {},
     "output_type": "display_data"
    },
    {
     "data": {
      "application/vnd.jupyter.widget-view+json": {
       "model_id": "ef46fd28111046cfab5e277a7a0b2ee4",
       "version_major": 2,
       "version_minor": 0
      },
      "text/plain": [
       "Batches:   0%|          | 0/1 [00:00<?, ?it/s]"
      ]
     },
     "metadata": {},
     "output_type": "display_data"
    },
    {
     "name": "stderr",
     "output_type": "stream",
     "text": [
      "2025-05-12 21:52:42,722 - __main__ - ERROR - Error computing BERT similarity: 'float' object is not subscriptable\n",
      "Computing mistral_clean_similarities:  62%|██▍ | 71/115 [00:01<00:00, 55.62it/s]2025-05-12 21:52:42,724 - __main__ - ERROR - Error computing BLEU score: \n",
      "**********************************************************************\n",
      "  Resource \u001b[93mpunkt_tab\u001b[0m not found.\n",
      "  Please use the NLTK Downloader to obtain the resource:\n",
      "\n",
      "  \u001b[31m>>> import nltk\n",
      "  >>> nltk.download('punkt_tab')\n",
      "  \u001b[0m\n",
      "  For more information see: https://www.nltk.org/data.html\n",
      "\n",
      "  Attempted to load \u001b[93mtokenizers/punkt_tab/english/\u001b[0m\n",
      "\n",
      "  Searched in:\n",
      "    - '/Users/bhargav/nltk_data'\n",
      "    - '/Library/Frameworks/Python.framework/Versions/3.13/nltk_data'\n",
      "    - '/Library/Frameworks/Python.framework/Versions/3.13/share/nltk_data'\n",
      "    - '/Library/Frameworks/Python.framework/Versions/3.13/lib/nltk_data'\n",
      "    - '/usr/share/nltk_data'\n",
      "    - '/usr/local/share/nltk_data'\n",
      "    - '/usr/lib/nltk_data'\n",
      "    - '/usr/local/lib/nltk_data'\n",
      "**********************************************************************\n",
      "\n",
      "2025-05-12 21:52:42,724 - __main__ - ERROR - Error computing ROUGE scores: \n",
      "2025-05-12 21:52:42,724 - __main__ - ERROR - Error computing Levenshtein similarity: object of type 'float' has no len()\n",
      "2025-05-12 21:52:42,725 - __main__ - ERROR - Error computing Jaccard similarity: \n",
      "**********************************************************************\n",
      "  Resource \u001b[93mpunkt_tab\u001b[0m not found.\n",
      "  Please use the NLTK Downloader to obtain the resource:\n",
      "\n",
      "  \u001b[31m>>> import nltk\n",
      "  >>> nltk.download('punkt_tab')\n",
      "  \u001b[0m\n",
      "  For more information see: https://www.nltk.org/data.html\n",
      "\n",
      "  Attempted to load \u001b[93mtokenizers/punkt_tab/english/\u001b[0m\n",
      "\n",
      "  Searched in:\n",
      "    - '/Users/bhargav/nltk_data'\n",
      "    - '/Library/Frameworks/Python.framework/Versions/3.13/nltk_data'\n",
      "    - '/Library/Frameworks/Python.framework/Versions/3.13/share/nltk_data'\n",
      "    - '/Library/Frameworks/Python.framework/Versions/3.13/lib/nltk_data'\n",
      "    - '/usr/share/nltk_data'\n",
      "    - '/usr/local/share/nltk_data'\n",
      "    - '/usr/lib/nltk_data'\n",
      "    - '/usr/local/lib/nltk_data'\n",
      "**********************************************************************\n",
      "\n"
     ]
    },
    {
     "data": {
      "application/vnd.jupyter.widget-view+json": {
       "model_id": "020ed3ec829642fc9756b6a765d8e18c",
       "version_major": 2,
       "version_minor": 0
      },
      "text/plain": [
       "Batches:   0%|          | 0/1 [00:00<?, ?it/s]"
      ]
     },
     "metadata": {},
     "output_type": "display_data"
    },
    {
     "data": {
      "application/vnd.jupyter.widget-view+json": {
       "model_id": "e9329bca1fdd4e17b9ac96dc0957f3f7",
       "version_major": 2,
       "version_minor": 0
      },
      "text/plain": [
       "Batches:   0%|          | 0/1 [00:00<?, ?it/s]"
      ]
     },
     "metadata": {},
     "output_type": "display_data"
    },
    {
     "name": "stderr",
     "output_type": "stream",
     "text": [
      "2025-05-12 21:52:42,740 - __main__ - ERROR - Error computing BERT similarity: 'float' object is not subscriptable\n",
      "2025-05-12 21:52:42,741 - __main__ - ERROR - Error computing BLEU score: \n",
      "**********************************************************************\n",
      "  Resource \u001b[93mpunkt_tab\u001b[0m not found.\n",
      "  Please use the NLTK Downloader to obtain the resource:\n",
      "\n",
      "  \u001b[31m>>> import nltk\n",
      "  >>> nltk.download('punkt_tab')\n",
      "  \u001b[0m\n",
      "  For more information see: https://www.nltk.org/data.html\n",
      "\n",
      "  Attempted to load \u001b[93mtokenizers/punkt_tab/english/\u001b[0m\n",
      "\n",
      "  Searched in:\n",
      "    - '/Users/bhargav/nltk_data'\n",
      "    - '/Library/Frameworks/Python.framework/Versions/3.13/nltk_data'\n",
      "    - '/Library/Frameworks/Python.framework/Versions/3.13/share/nltk_data'\n",
      "    - '/Library/Frameworks/Python.framework/Versions/3.13/lib/nltk_data'\n",
      "    - '/usr/share/nltk_data'\n",
      "    - '/usr/local/share/nltk_data'\n",
      "    - '/usr/lib/nltk_data'\n",
      "    - '/usr/local/lib/nltk_data'\n",
      "**********************************************************************\n",
      "\n",
      "2025-05-12 21:52:42,742 - __main__ - ERROR - Error computing ROUGE scores: \n",
      "2025-05-12 21:52:42,742 - __main__ - ERROR - Error computing Levenshtein similarity: object of type 'float' has no len()\n",
      "2025-05-12 21:52:42,743 - __main__ - ERROR - Error computing Jaccard similarity: \n",
      "**********************************************************************\n",
      "  Resource \u001b[93mpunkt_tab\u001b[0m not found.\n",
      "  Please use the NLTK Downloader to obtain the resource:\n",
      "\n",
      "  \u001b[31m>>> import nltk\n",
      "  >>> nltk.download('punkt_tab')\n",
      "  \u001b[0m\n",
      "  For more information see: https://www.nltk.org/data.html\n",
      "\n",
      "  Attempted to load \u001b[93mtokenizers/punkt_tab/english/\u001b[0m\n",
      "\n",
      "  Searched in:\n",
      "    - '/Users/bhargav/nltk_data'\n",
      "    - '/Library/Frameworks/Python.framework/Versions/3.13/nltk_data'\n",
      "    - '/Library/Frameworks/Python.framework/Versions/3.13/share/nltk_data'\n",
      "    - '/Library/Frameworks/Python.framework/Versions/3.13/lib/nltk_data'\n",
      "    - '/usr/share/nltk_data'\n",
      "    - '/usr/local/share/nltk_data'\n",
      "    - '/usr/lib/nltk_data'\n",
      "    - '/usr/local/lib/nltk_data'\n",
      "**********************************************************************\n",
      "\n"
     ]
    },
    {
     "data": {
      "application/vnd.jupyter.widget-view+json": {
       "model_id": "c6d187d6a1364cfa82207b464c1387a6",
       "version_major": 2,
       "version_minor": 0
      },
      "text/plain": [
       "Batches:   0%|          | 0/1 [00:00<?, ?it/s]"
      ]
     },
     "metadata": {},
     "output_type": "display_data"
    },
    {
     "data": {
      "application/vnd.jupyter.widget-view+json": {
       "model_id": "03dd5d269594446988d372f315c05233",
       "version_major": 2,
       "version_minor": 0
      },
      "text/plain": [
       "Batches:   0%|          | 0/1 [00:00<?, ?it/s]"
      ]
     },
     "metadata": {},
     "output_type": "display_data"
    },
    {
     "name": "stderr",
     "output_type": "stream",
     "text": [
      "2025-05-12 21:52:42,755 - __main__ - ERROR - Error computing BERT similarity: 'float' object is not subscriptable\n",
      "2025-05-12 21:52:42,756 - __main__ - ERROR - Error computing BLEU score: \n",
      "**********************************************************************\n",
      "  Resource \u001b[93mpunkt_tab\u001b[0m not found.\n",
      "  Please use the NLTK Downloader to obtain the resource:\n",
      "\n",
      "  \u001b[31m>>> import nltk\n",
      "  >>> nltk.download('punkt_tab')\n",
      "  \u001b[0m\n",
      "  For more information see: https://www.nltk.org/data.html\n",
      "\n",
      "  Attempted to load \u001b[93mtokenizers/punkt_tab/english/\u001b[0m\n",
      "\n",
      "  Searched in:\n",
      "    - '/Users/bhargav/nltk_data'\n",
      "    - '/Library/Frameworks/Python.framework/Versions/3.13/nltk_data'\n",
      "    - '/Library/Frameworks/Python.framework/Versions/3.13/share/nltk_data'\n",
      "    - '/Library/Frameworks/Python.framework/Versions/3.13/lib/nltk_data'\n",
      "    - '/usr/share/nltk_data'\n",
      "    - '/usr/local/share/nltk_data'\n",
      "    - '/usr/lib/nltk_data'\n",
      "    - '/usr/local/lib/nltk_data'\n",
      "**********************************************************************\n",
      "\n",
      "2025-05-12 21:52:42,756 - __main__ - ERROR - Error computing ROUGE scores: \n",
      "2025-05-12 21:52:42,756 - __main__ - ERROR - Error computing Levenshtein similarity: object of type 'float' has no len()\n",
      "2025-05-12 21:52:42,757 - __main__ - ERROR - Error computing Jaccard similarity: \n",
      "**********************************************************************\n",
      "  Resource \u001b[93mpunkt_tab\u001b[0m not found.\n",
      "  Please use the NLTK Downloader to obtain the resource:\n",
      "\n",
      "  \u001b[31m>>> import nltk\n",
      "  >>> nltk.download('punkt_tab')\n",
      "  \u001b[0m\n",
      "  For more information see: https://www.nltk.org/data.html\n",
      "\n",
      "  Attempted to load \u001b[93mtokenizers/punkt_tab/english/\u001b[0m\n",
      "\n",
      "  Searched in:\n",
      "    - '/Users/bhargav/nltk_data'\n",
      "    - '/Library/Frameworks/Python.framework/Versions/3.13/nltk_data'\n",
      "    - '/Library/Frameworks/Python.framework/Versions/3.13/share/nltk_data'\n",
      "    - '/Library/Frameworks/Python.framework/Versions/3.13/lib/nltk_data'\n",
      "    - '/usr/share/nltk_data'\n",
      "    - '/usr/local/share/nltk_data'\n",
      "    - '/usr/lib/nltk_data'\n",
      "    - '/usr/local/lib/nltk_data'\n",
      "**********************************************************************\n",
      "\n"
     ]
    },
    {
     "data": {
      "application/vnd.jupyter.widget-view+json": {
       "model_id": "bde9d98fa3e3454087e7f956e38db7cd",
       "version_major": 2,
       "version_minor": 0
      },
      "text/plain": [
       "Batches:   0%|          | 0/1 [00:00<?, ?it/s]"
      ]
     },
     "metadata": {},
     "output_type": "display_data"
    },
    {
     "data": {
      "application/vnd.jupyter.widget-view+json": {
       "model_id": "dff15ea2db554fdc8a82d620efc41bf0",
       "version_major": 2,
       "version_minor": 0
      },
      "text/plain": [
       "Batches:   0%|          | 0/1 [00:00<?, ?it/s]"
      ]
     },
     "metadata": {},
     "output_type": "display_data"
    },
    {
     "name": "stderr",
     "output_type": "stream",
     "text": [
      "2025-05-12 21:52:42,769 - __main__ - ERROR - Error computing BERT similarity: 'float' object is not subscriptable\n",
      "2025-05-12 21:52:42,770 - __main__ - ERROR - Error computing BLEU score: \n",
      "**********************************************************************\n",
      "  Resource \u001b[93mpunkt_tab\u001b[0m not found.\n",
      "  Please use the NLTK Downloader to obtain the resource:\n",
      "\n",
      "  \u001b[31m>>> import nltk\n",
      "  >>> nltk.download('punkt_tab')\n",
      "  \u001b[0m\n",
      "  For more information see: https://www.nltk.org/data.html\n",
      "\n",
      "  Attempted to load \u001b[93mtokenizers/punkt_tab/english/\u001b[0m\n",
      "\n",
      "  Searched in:\n",
      "    - '/Users/bhargav/nltk_data'\n",
      "    - '/Library/Frameworks/Python.framework/Versions/3.13/nltk_data'\n",
      "    - '/Library/Frameworks/Python.framework/Versions/3.13/share/nltk_data'\n",
      "    - '/Library/Frameworks/Python.framework/Versions/3.13/lib/nltk_data'\n",
      "    - '/usr/share/nltk_data'\n",
      "    - '/usr/local/share/nltk_data'\n",
      "    - '/usr/lib/nltk_data'\n",
      "    - '/usr/local/lib/nltk_data'\n",
      "**********************************************************************\n",
      "\n",
      "2025-05-12 21:52:42,770 - __main__ - ERROR - Error computing ROUGE scores: \n",
      "2025-05-12 21:52:42,770 - __main__ - ERROR - Error computing Levenshtein similarity: object of type 'float' has no len()\n",
      "2025-05-12 21:52:42,771 - __main__ - ERROR - Error computing Jaccard similarity: \n",
      "**********************************************************************\n",
      "  Resource \u001b[93mpunkt_tab\u001b[0m not found.\n",
      "  Please use the NLTK Downloader to obtain the resource:\n",
      "\n",
      "  \u001b[31m>>> import nltk\n",
      "  >>> nltk.download('punkt_tab')\n",
      "  \u001b[0m\n",
      "  For more information see: https://www.nltk.org/data.html\n",
      "\n",
      "  Attempted to load \u001b[93mtokenizers/punkt_tab/english/\u001b[0m\n",
      "\n",
      "  Searched in:\n",
      "    - '/Users/bhargav/nltk_data'\n",
      "    - '/Library/Frameworks/Python.framework/Versions/3.13/nltk_data'\n",
      "    - '/Library/Frameworks/Python.framework/Versions/3.13/share/nltk_data'\n",
      "    - '/Library/Frameworks/Python.framework/Versions/3.13/lib/nltk_data'\n",
      "    - '/usr/share/nltk_data'\n",
      "    - '/usr/local/share/nltk_data'\n",
      "    - '/usr/lib/nltk_data'\n",
      "    - '/usr/local/lib/nltk_data'\n",
      "**********************************************************************\n",
      "\n"
     ]
    },
    {
     "data": {
      "application/vnd.jupyter.widget-view+json": {
       "model_id": "1b6f751d8e9441368921935c2c197016",
       "version_major": 2,
       "version_minor": 0
      },
      "text/plain": [
       "Batches:   0%|          | 0/1 [00:00<?, ?it/s]"
      ]
     },
     "metadata": {},
     "output_type": "display_data"
    },
    {
     "data": {
      "application/vnd.jupyter.widget-view+json": {
       "model_id": "7a74c0bc9d53489e8c30a5ab7d0c8019",
       "version_major": 2,
       "version_minor": 0
      },
      "text/plain": [
       "Batches:   0%|          | 0/1 [00:00<?, ?it/s]"
      ]
     },
     "metadata": {},
     "output_type": "display_data"
    },
    {
     "name": "stderr",
     "output_type": "stream",
     "text": [
      "2025-05-12 21:52:42,783 - __main__ - ERROR - Error computing BERT similarity: 'float' object is not subscriptable\n",
      "2025-05-12 21:52:42,784 - __main__ - ERROR - Error computing BLEU score: \n",
      "**********************************************************************\n",
      "  Resource \u001b[93mpunkt_tab\u001b[0m not found.\n",
      "  Please use the NLTK Downloader to obtain the resource:\n",
      "\n",
      "  \u001b[31m>>> import nltk\n",
      "  >>> nltk.download('punkt_tab')\n",
      "  \u001b[0m\n",
      "  For more information see: https://www.nltk.org/data.html\n",
      "\n",
      "  Attempted to load \u001b[93mtokenizers/punkt_tab/english/\u001b[0m\n",
      "\n",
      "  Searched in:\n",
      "    - '/Users/bhargav/nltk_data'\n",
      "    - '/Library/Frameworks/Python.framework/Versions/3.13/nltk_data'\n",
      "    - '/Library/Frameworks/Python.framework/Versions/3.13/share/nltk_data'\n",
      "    - '/Library/Frameworks/Python.framework/Versions/3.13/lib/nltk_data'\n",
      "    - '/usr/share/nltk_data'\n",
      "    - '/usr/local/share/nltk_data'\n",
      "    - '/usr/lib/nltk_data'\n",
      "    - '/usr/local/lib/nltk_data'\n",
      "**********************************************************************\n",
      "\n",
      "2025-05-12 21:52:42,785 - __main__ - ERROR - Error computing ROUGE scores: \n",
      "2025-05-12 21:52:42,785 - __main__ - ERROR - Error computing Levenshtein similarity: object of type 'float' has no len()\n",
      "2025-05-12 21:52:42,785 - __main__ - ERROR - Error computing Jaccard similarity: \n",
      "**********************************************************************\n",
      "  Resource \u001b[93mpunkt_tab\u001b[0m not found.\n",
      "  Please use the NLTK Downloader to obtain the resource:\n",
      "\n",
      "  \u001b[31m>>> import nltk\n",
      "  >>> nltk.download('punkt_tab')\n",
      "  \u001b[0m\n",
      "  For more information see: https://www.nltk.org/data.html\n",
      "\n",
      "  Attempted to load \u001b[93mtokenizers/punkt_tab/english/\u001b[0m\n",
      "\n",
      "  Searched in:\n",
      "    - '/Users/bhargav/nltk_data'\n",
      "    - '/Library/Frameworks/Python.framework/Versions/3.13/nltk_data'\n",
      "    - '/Library/Frameworks/Python.framework/Versions/3.13/share/nltk_data'\n",
      "    - '/Library/Frameworks/Python.framework/Versions/3.13/lib/nltk_data'\n",
      "    - '/usr/share/nltk_data'\n",
      "    - '/usr/local/share/nltk_data'\n",
      "    - '/usr/lib/nltk_data'\n",
      "    - '/usr/local/lib/nltk_data'\n",
      "**********************************************************************\n",
      "\n"
     ]
    },
    {
     "data": {
      "application/vnd.jupyter.widget-view+json": {
       "model_id": "578f940c6c6e425ab8921a23587d0443",
       "version_major": 2,
       "version_minor": 0
      },
      "text/plain": [
       "Batches:   0%|          | 0/1 [00:00<?, ?it/s]"
      ]
     },
     "metadata": {},
     "output_type": "display_data"
    },
    {
     "data": {
      "application/vnd.jupyter.widget-view+json": {
       "model_id": "6219b64898a14551a283457c79c54d6f",
       "version_major": 2,
       "version_minor": 0
      },
      "text/plain": [
       "Batches:   0%|          | 0/1 [00:00<?, ?it/s]"
      ]
     },
     "metadata": {},
     "output_type": "display_data"
    },
    {
     "name": "stderr",
     "output_type": "stream",
     "text": [
      "2025-05-12 21:52:42,797 - __main__ - ERROR - Error computing BERT similarity: 'float' object is not subscriptable\n",
      "2025-05-12 21:52:42,798 - __main__ - ERROR - Error computing BLEU score: \n",
      "**********************************************************************\n",
      "  Resource \u001b[93mpunkt_tab\u001b[0m not found.\n",
      "  Please use the NLTK Downloader to obtain the resource:\n",
      "\n",
      "  \u001b[31m>>> import nltk\n",
      "  >>> nltk.download('punkt_tab')\n",
      "  \u001b[0m\n",
      "  For more information see: https://www.nltk.org/data.html\n",
      "\n",
      "  Attempted to load \u001b[93mtokenizers/punkt_tab/english/\u001b[0m\n",
      "\n",
      "  Searched in:\n",
      "    - '/Users/bhargav/nltk_data'\n",
      "    - '/Library/Frameworks/Python.framework/Versions/3.13/nltk_data'\n",
      "    - '/Library/Frameworks/Python.framework/Versions/3.13/share/nltk_data'\n",
      "    - '/Library/Frameworks/Python.framework/Versions/3.13/lib/nltk_data'\n",
      "    - '/usr/share/nltk_data'\n",
      "    - '/usr/local/share/nltk_data'\n",
      "    - '/usr/lib/nltk_data'\n",
      "    - '/usr/local/lib/nltk_data'\n",
      "**********************************************************************\n",
      "\n",
      "2025-05-12 21:52:42,798 - __main__ - ERROR - Error computing ROUGE scores: \n",
      "2025-05-12 21:52:42,798 - __main__ - ERROR - Error computing Levenshtein similarity: object of type 'float' has no len()\n",
      "2025-05-12 21:52:42,799 - __main__ - ERROR - Error computing Jaccard similarity: \n",
      "**********************************************************************\n",
      "  Resource \u001b[93mpunkt_tab\u001b[0m not found.\n",
      "  Please use the NLTK Downloader to obtain the resource:\n",
      "\n",
      "  \u001b[31m>>> import nltk\n",
      "  >>> nltk.download('punkt_tab')\n",
      "  \u001b[0m\n",
      "  For more information see: https://www.nltk.org/data.html\n",
      "\n",
      "  Attempted to load \u001b[93mtokenizers/punkt_tab/english/\u001b[0m\n",
      "\n",
      "  Searched in:\n",
      "    - '/Users/bhargav/nltk_data'\n",
      "    - '/Library/Frameworks/Python.framework/Versions/3.13/nltk_data'\n",
      "    - '/Library/Frameworks/Python.framework/Versions/3.13/share/nltk_data'\n",
      "    - '/Library/Frameworks/Python.framework/Versions/3.13/lib/nltk_data'\n",
      "    - '/usr/share/nltk_data'\n",
      "    - '/usr/local/share/nltk_data'\n",
      "    - '/usr/lib/nltk_data'\n",
      "    - '/usr/local/lib/nltk_data'\n",
      "**********************************************************************\n",
      "\n"
     ]
    },
    {
     "data": {
      "application/vnd.jupyter.widget-view+json": {
       "model_id": "d4626e2d1995456cac000d00bc5a8347",
       "version_major": 2,
       "version_minor": 0
      },
      "text/plain": [
       "Batches:   0%|          | 0/1 [00:00<?, ?it/s]"
      ]
     },
     "metadata": {},
     "output_type": "display_data"
    },
    {
     "data": {
      "application/vnd.jupyter.widget-view+json": {
       "model_id": "50ccef656c2c45e8b1d3ed3a18b75aeb",
       "version_major": 2,
       "version_minor": 0
      },
      "text/plain": [
       "Batches:   0%|          | 0/1 [00:00<?, ?it/s]"
      ]
     },
     "metadata": {},
     "output_type": "display_data"
    },
    {
     "name": "stderr",
     "output_type": "stream",
     "text": [
      "2025-05-12 21:52:42,811 - __main__ - ERROR - Error computing BERT similarity: 'float' object is not subscriptable\n",
      "2025-05-12 21:52:42,812 - __main__ - ERROR - Error computing BLEU score: \n",
      "**********************************************************************\n",
      "  Resource \u001b[93mpunkt_tab\u001b[0m not found.\n",
      "  Please use the NLTK Downloader to obtain the resource:\n",
      "\n",
      "  \u001b[31m>>> import nltk\n",
      "  >>> nltk.download('punkt_tab')\n",
      "  \u001b[0m\n",
      "  For more information see: https://www.nltk.org/data.html\n",
      "\n",
      "  Attempted to load \u001b[93mtokenizers/punkt_tab/english/\u001b[0m\n",
      "\n",
      "  Searched in:\n",
      "    - '/Users/bhargav/nltk_data'\n",
      "    - '/Library/Frameworks/Python.framework/Versions/3.13/nltk_data'\n",
      "    - '/Library/Frameworks/Python.framework/Versions/3.13/share/nltk_data'\n",
      "    - '/Library/Frameworks/Python.framework/Versions/3.13/lib/nltk_data'\n",
      "    - '/usr/share/nltk_data'\n",
      "    - '/usr/local/share/nltk_data'\n",
      "    - '/usr/lib/nltk_data'\n",
      "    - '/usr/local/lib/nltk_data'\n",
      "**********************************************************************\n",
      "\n",
      "2025-05-12 21:52:42,812 - __main__ - ERROR - Error computing ROUGE scores: \n",
      "2025-05-12 21:52:42,812 - __main__ - ERROR - Error computing Levenshtein similarity: object of type 'float' has no len()\n",
      "2025-05-12 21:52:42,814 - __main__ - ERROR - Error computing Jaccard similarity: \n",
      "**********************************************************************\n",
      "  Resource \u001b[93mpunkt_tab\u001b[0m not found.\n",
      "  Please use the NLTK Downloader to obtain the resource:\n",
      "\n",
      "  \u001b[31m>>> import nltk\n",
      "  >>> nltk.download('punkt_tab')\n",
      "  \u001b[0m\n",
      "  For more information see: https://www.nltk.org/data.html\n",
      "\n",
      "  Attempted to load \u001b[93mtokenizers/punkt_tab/english/\u001b[0m\n",
      "\n",
      "  Searched in:\n",
      "    - '/Users/bhargav/nltk_data'\n",
      "    - '/Library/Frameworks/Python.framework/Versions/3.13/nltk_data'\n",
      "    - '/Library/Frameworks/Python.framework/Versions/3.13/share/nltk_data'\n",
      "    - '/Library/Frameworks/Python.framework/Versions/3.13/lib/nltk_data'\n",
      "    - '/usr/share/nltk_data'\n",
      "    - '/usr/local/share/nltk_data'\n",
      "    - '/usr/lib/nltk_data'\n",
      "    - '/usr/local/lib/nltk_data'\n",
      "**********************************************************************\n",
      "\n"
     ]
    },
    {
     "data": {
      "application/vnd.jupyter.widget-view+json": {
       "model_id": "709e611fae814791a3b8f8ce2544e59d",
       "version_major": 2,
       "version_minor": 0
      },
      "text/plain": [
       "Batches:   0%|          | 0/1 [00:00<?, ?it/s]"
      ]
     },
     "metadata": {},
     "output_type": "display_data"
    },
    {
     "data": {
      "application/vnd.jupyter.widget-view+json": {
       "model_id": "c025a8375e8249a2a5080e22e5c570df",
       "version_major": 2,
       "version_minor": 0
      },
      "text/plain": [
       "Batches:   0%|          | 0/1 [00:00<?, ?it/s]"
      ]
     },
     "metadata": {},
     "output_type": "display_data"
    },
    {
     "name": "stderr",
     "output_type": "stream",
     "text": [
      "2025-05-12 21:52:42,825 - __main__ - ERROR - Error computing BERT similarity: 'float' object is not subscriptable\n",
      "Computing mistral_clean_similarities:  68%|██▋ | 78/115 [00:01<00:00, 59.04it/s]2025-05-12 21:52:42,827 - __main__ - ERROR - Error computing BLEU score: \n",
      "**********************************************************************\n",
      "  Resource \u001b[93mpunkt_tab\u001b[0m not found.\n",
      "  Please use the NLTK Downloader to obtain the resource:\n",
      "\n",
      "  \u001b[31m>>> import nltk\n",
      "  >>> nltk.download('punkt_tab')\n",
      "  \u001b[0m\n",
      "  For more information see: https://www.nltk.org/data.html\n",
      "\n",
      "  Attempted to load \u001b[93mtokenizers/punkt_tab/english/\u001b[0m\n",
      "\n",
      "  Searched in:\n",
      "    - '/Users/bhargav/nltk_data'\n",
      "    - '/Library/Frameworks/Python.framework/Versions/3.13/nltk_data'\n",
      "    - '/Library/Frameworks/Python.framework/Versions/3.13/share/nltk_data'\n",
      "    - '/Library/Frameworks/Python.framework/Versions/3.13/lib/nltk_data'\n",
      "    - '/usr/share/nltk_data'\n",
      "    - '/usr/local/share/nltk_data'\n",
      "    - '/usr/lib/nltk_data'\n",
      "    - '/usr/local/lib/nltk_data'\n",
      "**********************************************************************\n",
      "\n",
      "2025-05-12 21:52:42,827 - __main__ - ERROR - Error computing ROUGE scores: \n",
      "2025-05-12 21:52:42,827 - __main__ - ERROR - Error computing Levenshtein similarity: object of type 'float' has no len()\n",
      "2025-05-12 21:52:42,828 - __main__ - ERROR - Error computing Jaccard similarity: \n",
      "**********************************************************************\n",
      "  Resource \u001b[93mpunkt_tab\u001b[0m not found.\n",
      "  Please use the NLTK Downloader to obtain the resource:\n",
      "\n",
      "  \u001b[31m>>> import nltk\n",
      "  >>> nltk.download('punkt_tab')\n",
      "  \u001b[0m\n",
      "  For more information see: https://www.nltk.org/data.html\n",
      "\n",
      "  Attempted to load \u001b[93mtokenizers/punkt_tab/english/\u001b[0m\n",
      "\n",
      "  Searched in:\n",
      "    - '/Users/bhargav/nltk_data'\n",
      "    - '/Library/Frameworks/Python.framework/Versions/3.13/nltk_data'\n",
      "    - '/Library/Frameworks/Python.framework/Versions/3.13/share/nltk_data'\n",
      "    - '/Library/Frameworks/Python.framework/Versions/3.13/lib/nltk_data'\n",
      "    - '/usr/share/nltk_data'\n",
      "    - '/usr/local/share/nltk_data'\n",
      "    - '/usr/lib/nltk_data'\n",
      "    - '/usr/local/lib/nltk_data'\n",
      "**********************************************************************\n",
      "\n"
     ]
    },
    {
     "data": {
      "application/vnd.jupyter.widget-view+json": {
       "model_id": "cc7c9439ed3f4ed39f9bfd220d850a21",
       "version_major": 2,
       "version_minor": 0
      },
      "text/plain": [
       "Batches:   0%|          | 0/1 [00:00<?, ?it/s]"
      ]
     },
     "metadata": {},
     "output_type": "display_data"
    },
    {
     "data": {
      "application/vnd.jupyter.widget-view+json": {
       "model_id": "cb55097cd82b4ce5bf32a7f6aa085a82",
       "version_major": 2,
       "version_minor": 0
      },
      "text/plain": [
       "Batches:   0%|          | 0/1 [00:00<?, ?it/s]"
      ]
     },
     "metadata": {},
     "output_type": "display_data"
    },
    {
     "name": "stderr",
     "output_type": "stream",
     "text": [
      "2025-05-12 21:52:42,843 - __main__ - ERROR - Error computing BERT similarity: 'float' object is not subscriptable\n",
      "2025-05-12 21:52:42,844 - __main__ - ERROR - Error computing BLEU score: \n",
      "**********************************************************************\n",
      "  Resource \u001b[93mpunkt_tab\u001b[0m not found.\n",
      "  Please use the NLTK Downloader to obtain the resource:\n",
      "\n",
      "  \u001b[31m>>> import nltk\n",
      "  >>> nltk.download('punkt_tab')\n",
      "  \u001b[0m\n",
      "  For more information see: https://www.nltk.org/data.html\n",
      "\n",
      "  Attempted to load \u001b[93mtokenizers/punkt_tab/english/\u001b[0m\n",
      "\n",
      "  Searched in:\n",
      "    - '/Users/bhargav/nltk_data'\n",
      "    - '/Library/Frameworks/Python.framework/Versions/3.13/nltk_data'\n",
      "    - '/Library/Frameworks/Python.framework/Versions/3.13/share/nltk_data'\n",
      "    - '/Library/Frameworks/Python.framework/Versions/3.13/lib/nltk_data'\n",
      "    - '/usr/share/nltk_data'\n",
      "    - '/usr/local/share/nltk_data'\n",
      "    - '/usr/lib/nltk_data'\n",
      "    - '/usr/local/lib/nltk_data'\n",
      "**********************************************************************\n",
      "\n",
      "2025-05-12 21:52:43,198 - __main__ - ERROR - Error computing Jaccard similarity: \n",
      "**********************************************************************\n",
      "  Resource \u001b[93mpunkt_tab\u001b[0m not found.\n",
      "  Please use the NLTK Downloader to obtain the resource:\n",
      "\n",
      "  \u001b[31m>>> import nltk\n",
      "  >>> nltk.download('punkt_tab')\n",
      "  \u001b[0m\n",
      "  For more information see: https://www.nltk.org/data.html\n",
      "\n",
      "  Attempted to load \u001b[93mtokenizers/punkt_tab/english/\u001b[0m\n",
      "\n",
      "  Searched in:\n",
      "    - '/Users/bhargav/nltk_data'\n",
      "    - '/Library/Frameworks/Python.framework/Versions/3.13/nltk_data'\n",
      "    - '/Library/Frameworks/Python.framework/Versions/3.13/share/nltk_data'\n",
      "    - '/Library/Frameworks/Python.framework/Versions/3.13/lib/nltk_data'\n",
      "    - '/usr/share/nltk_data'\n",
      "    - '/usr/local/share/nltk_data'\n",
      "    - '/usr/lib/nltk_data'\n",
      "    - '/usr/local/lib/nltk_data'\n",
      "**********************************************************************\n",
      "\n"
     ]
    },
    {
     "data": {
      "application/vnd.jupyter.widget-view+json": {
       "model_id": "f6b25206d705403bbf593e0dcc380b57",
       "version_major": 2,
       "version_minor": 0
      },
      "text/plain": [
       "Batches:   0%|          | 0/1 [00:00<?, ?it/s]"
      ]
     },
     "metadata": {},
     "output_type": "display_data"
    },
    {
     "data": {
      "application/vnd.jupyter.widget-view+json": {
       "model_id": "e31b3090a3284c39aa44e05ba3694c14",
       "version_major": 2,
       "version_minor": 0
      },
      "text/plain": [
       "Batches:   0%|          | 0/1 [00:00<?, ?it/s]"
      ]
     },
     "metadata": {},
     "output_type": "display_data"
    },
    {
     "name": "stderr",
     "output_type": "stream",
     "text": [
      "2025-05-12 21:52:43,240 - __main__ - ERROR - Error computing BLEU score: \n",
      "**********************************************************************\n",
      "  Resource \u001b[93mpunkt_tab\u001b[0m not found.\n",
      "  Please use the NLTK Downloader to obtain the resource:\n",
      "\n",
      "  \u001b[31m>>> import nltk\n",
      "  >>> nltk.download('punkt_tab')\n",
      "  \u001b[0m\n",
      "  For more information see: https://www.nltk.org/data.html\n",
      "\n",
      "  Attempted to load \u001b[93mtokenizers/punkt_tab/english/\u001b[0m\n",
      "\n",
      "  Searched in:\n",
      "    - '/Users/bhargav/nltk_data'\n",
      "    - '/Library/Frameworks/Python.framework/Versions/3.13/nltk_data'\n",
      "    - '/Library/Frameworks/Python.framework/Versions/3.13/share/nltk_data'\n",
      "    - '/Library/Frameworks/Python.framework/Versions/3.13/lib/nltk_data'\n",
      "    - '/usr/share/nltk_data'\n",
      "    - '/usr/local/share/nltk_data'\n",
      "    - '/usr/lib/nltk_data'\n",
      "    - '/usr/local/lib/nltk_data'\n",
      "**********************************************************************\n",
      "\n",
      "2025-05-12 21:52:43,240 - __main__ - ERROR - Error computing ROUGE scores: \n",
      "2025-05-12 21:52:43,240 - __main__ - ERROR - Error computing Levenshtein similarity: object of type 'float' has no len()\n",
      "2025-05-12 21:52:43,241 - __main__ - ERROR - Error computing Jaccard similarity: \n",
      "**********************************************************************\n",
      "  Resource \u001b[93mpunkt_tab\u001b[0m not found.\n",
      "  Please use the NLTK Downloader to obtain the resource:\n",
      "\n",
      "  \u001b[31m>>> import nltk\n",
      "  >>> nltk.download('punkt_tab')\n",
      "  \u001b[0m\n",
      "  For more information see: https://www.nltk.org/data.html\n",
      "\n",
      "  Attempted to load \u001b[93mtokenizers/punkt_tab/english/\u001b[0m\n",
      "\n",
      "  Searched in:\n",
      "    - '/Users/bhargav/nltk_data'\n",
      "    - '/Library/Frameworks/Python.framework/Versions/3.13/nltk_data'\n",
      "    - '/Library/Frameworks/Python.framework/Versions/3.13/share/nltk_data'\n",
      "    - '/Library/Frameworks/Python.framework/Versions/3.13/lib/nltk_data'\n",
      "    - '/usr/share/nltk_data'\n",
      "    - '/usr/local/share/nltk_data'\n",
      "    - '/usr/lib/nltk_data'\n",
      "    - '/usr/local/lib/nltk_data'\n",
      "**********************************************************************\n",
      "\n"
     ]
    },
    {
     "data": {
      "application/vnd.jupyter.widget-view+json": {
       "model_id": "7b53aa09a95749be85f63b58bbf63985",
       "version_major": 2,
       "version_minor": 0
      },
      "text/plain": [
       "Batches:   0%|          | 0/1 [00:00<?, ?it/s]"
      ]
     },
     "metadata": {},
     "output_type": "display_data"
    },
    {
     "data": {
      "application/vnd.jupyter.widget-view+json": {
       "model_id": "c4daa0c57b634d898ab5efdd0b95af27",
       "version_major": 2,
       "version_minor": 0
      },
      "text/plain": [
       "Batches:   0%|          | 0/1 [00:00<?, ?it/s]"
      ]
     },
     "metadata": {},
     "output_type": "display_data"
    },
    {
     "name": "stderr",
     "output_type": "stream",
     "text": [
      "2025-05-12 21:52:43,253 - __main__ - ERROR - Error computing BERT similarity: 'float' object is not subscriptable\n",
      "2025-05-12 21:52:43,253 - __main__ - ERROR - Error computing BLEU score: \n",
      "**********************************************************************\n",
      "  Resource \u001b[93mpunkt_tab\u001b[0m not found.\n",
      "  Please use the NLTK Downloader to obtain the resource:\n",
      "\n",
      "  \u001b[31m>>> import nltk\n",
      "  >>> nltk.download('punkt_tab')\n",
      "  \u001b[0m\n",
      "  For more information see: https://www.nltk.org/data.html\n",
      "\n",
      "  Attempted to load \u001b[93mtokenizers/punkt_tab/english/\u001b[0m\n",
      "\n",
      "  Searched in:\n",
      "    - '/Users/bhargav/nltk_data'\n",
      "    - '/Library/Frameworks/Python.framework/Versions/3.13/nltk_data'\n",
      "    - '/Library/Frameworks/Python.framework/Versions/3.13/share/nltk_data'\n",
      "    - '/Library/Frameworks/Python.framework/Versions/3.13/lib/nltk_data'\n",
      "    - '/usr/share/nltk_data'\n",
      "    - '/usr/local/share/nltk_data'\n",
      "    - '/usr/lib/nltk_data'\n",
      "    - '/usr/local/lib/nltk_data'\n",
      "**********************************************************************\n",
      "\n",
      "2025-05-12 21:52:43,254 - __main__ - ERROR - Error computing ROUGE scores: \n",
      "2025-05-12 21:52:43,254 - __main__ - ERROR - Error computing Levenshtein similarity: object of type 'float' has no len()\n",
      "2025-05-12 21:52:43,255 - __main__ - ERROR - Error computing Jaccard similarity: \n",
      "**********************************************************************\n",
      "  Resource \u001b[93mpunkt_tab\u001b[0m not found.\n",
      "  Please use the NLTK Downloader to obtain the resource:\n",
      "\n",
      "  \u001b[31m>>> import nltk\n",
      "  >>> nltk.download('punkt_tab')\n",
      "  \u001b[0m\n",
      "  For more information see: https://www.nltk.org/data.html\n",
      "\n",
      "  Attempted to load \u001b[93mtokenizers/punkt_tab/english/\u001b[0m\n",
      "\n",
      "  Searched in:\n",
      "    - '/Users/bhargav/nltk_data'\n",
      "    - '/Library/Frameworks/Python.framework/Versions/3.13/nltk_data'\n",
      "    - '/Library/Frameworks/Python.framework/Versions/3.13/share/nltk_data'\n",
      "    - '/Library/Frameworks/Python.framework/Versions/3.13/lib/nltk_data'\n",
      "    - '/usr/share/nltk_data'\n",
      "    - '/usr/local/share/nltk_data'\n",
      "    - '/usr/lib/nltk_data'\n",
      "    - '/usr/local/lib/nltk_data'\n",
      "**********************************************************************\n",
      "\n"
     ]
    },
    {
     "data": {
      "application/vnd.jupyter.widget-view+json": {
       "model_id": "153dcf5a4b3d4281b6483f902bf1b3e2",
       "version_major": 2,
       "version_minor": 0
      },
      "text/plain": [
       "Batches:   0%|          | 0/1 [00:00<?, ?it/s]"
      ]
     },
     "metadata": {},
     "output_type": "display_data"
    },
    {
     "data": {
      "application/vnd.jupyter.widget-view+json": {
       "model_id": "409d40ccf5904aa6b4ddc28df1953b04",
       "version_major": 2,
       "version_minor": 0
      },
      "text/plain": [
       "Batches:   0%|          | 0/1 [00:00<?, ?it/s]"
      ]
     },
     "metadata": {},
     "output_type": "display_data"
    },
    {
     "name": "stderr",
     "output_type": "stream",
     "text": [
      "2025-05-12 21:52:43,265 - __main__ - ERROR - Error computing BERT similarity: 'float' object is not subscriptable\n",
      "2025-05-12 21:52:43,266 - __main__ - ERROR - Error computing BLEU score: \n",
      "**********************************************************************\n",
      "  Resource \u001b[93mpunkt_tab\u001b[0m not found.\n",
      "  Please use the NLTK Downloader to obtain the resource:\n",
      "\n",
      "  \u001b[31m>>> import nltk\n",
      "  >>> nltk.download('punkt_tab')\n",
      "  \u001b[0m\n",
      "  For more information see: https://www.nltk.org/data.html\n",
      "\n",
      "  Attempted to load \u001b[93mtokenizers/punkt_tab/english/\u001b[0m\n",
      "\n",
      "  Searched in:\n",
      "    - '/Users/bhargav/nltk_data'\n",
      "    - '/Library/Frameworks/Python.framework/Versions/3.13/nltk_data'\n",
      "    - '/Library/Frameworks/Python.framework/Versions/3.13/share/nltk_data'\n",
      "    - '/Library/Frameworks/Python.framework/Versions/3.13/lib/nltk_data'\n",
      "    - '/usr/share/nltk_data'\n",
      "    - '/usr/local/share/nltk_data'\n",
      "    - '/usr/lib/nltk_data'\n",
      "    - '/usr/local/lib/nltk_data'\n",
      "**********************************************************************\n",
      "\n",
      "2025-05-12 21:52:43,266 - __main__ - ERROR - Error computing ROUGE scores: \n",
      "2025-05-12 21:52:43,267 - __main__ - ERROR - Error computing Levenshtein similarity: object of type 'float' has no len()\n",
      "2025-05-12 21:52:43,267 - __main__ - ERROR - Error computing Jaccard similarity: \n",
      "**********************************************************************\n",
      "  Resource \u001b[93mpunkt_tab\u001b[0m not found.\n",
      "  Please use the NLTK Downloader to obtain the resource:\n",
      "\n",
      "  \u001b[31m>>> import nltk\n",
      "  >>> nltk.download('punkt_tab')\n",
      "  \u001b[0m\n",
      "  For more information see: https://www.nltk.org/data.html\n",
      "\n",
      "  Attempted to load \u001b[93mtokenizers/punkt_tab/english/\u001b[0m\n",
      "\n",
      "  Searched in:\n",
      "    - '/Users/bhargav/nltk_data'\n",
      "    - '/Library/Frameworks/Python.framework/Versions/3.13/nltk_data'\n",
      "    - '/Library/Frameworks/Python.framework/Versions/3.13/share/nltk_data'\n",
      "    - '/Library/Frameworks/Python.framework/Versions/3.13/lib/nltk_data'\n",
      "    - '/usr/share/nltk_data'\n",
      "    - '/usr/local/share/nltk_data'\n",
      "    - '/usr/lib/nltk_data'\n",
      "    - '/usr/local/lib/nltk_data'\n",
      "**********************************************************************\n",
      "\n"
     ]
    },
    {
     "data": {
      "application/vnd.jupyter.widget-view+json": {
       "model_id": "5c255866ace54f488660e754051450c5",
       "version_major": 2,
       "version_minor": 0
      },
      "text/plain": [
       "Batches:   0%|          | 0/1 [00:00<?, ?it/s]"
      ]
     },
     "metadata": {},
     "output_type": "display_data"
    },
    {
     "data": {
      "application/vnd.jupyter.widget-view+json": {
       "model_id": "0f042e2d0a3945ffbbc0fb243f34b73d",
       "version_major": 2,
       "version_minor": 0
      },
      "text/plain": [
       "Batches:   0%|          | 0/1 [00:00<?, ?it/s]"
      ]
     },
     "metadata": {},
     "output_type": "display_data"
    },
    {
     "name": "stderr",
     "output_type": "stream",
     "text": [
      "2025-05-12 21:52:43,279 - __main__ - ERROR - Error computing BERT similarity: 'float' object is not subscriptable\n",
      "2025-05-12 21:52:43,280 - __main__ - ERROR - Error computing BLEU score: \n",
      "**********************************************************************\n",
      "  Resource \u001b[93mpunkt_tab\u001b[0m not found.\n",
      "  Please use the NLTK Downloader to obtain the resource:\n",
      "\n",
      "  \u001b[31m>>> import nltk\n",
      "  >>> nltk.download('punkt_tab')\n",
      "  \u001b[0m\n",
      "  For more information see: https://www.nltk.org/data.html\n",
      "\n",
      "  Attempted to load \u001b[93mtokenizers/punkt_tab/english/\u001b[0m\n",
      "\n",
      "  Searched in:\n",
      "    - '/Users/bhargav/nltk_data'\n",
      "    - '/Library/Frameworks/Python.framework/Versions/3.13/nltk_data'\n",
      "    - '/Library/Frameworks/Python.framework/Versions/3.13/share/nltk_data'\n",
      "    - '/Library/Frameworks/Python.framework/Versions/3.13/lib/nltk_data'\n",
      "    - '/usr/share/nltk_data'\n",
      "    - '/usr/local/share/nltk_data'\n",
      "    - '/usr/lib/nltk_data'\n",
      "    - '/usr/local/lib/nltk_data'\n",
      "**********************************************************************\n",
      "\n",
      "2025-05-12 21:52:43,280 - __main__ - ERROR - Error computing ROUGE scores: \n",
      "2025-05-12 21:52:43,280 - __main__ - ERROR - Error computing Levenshtein similarity: object of type 'float' has no len()\n",
      "2025-05-12 21:52:43,281 - __main__ - ERROR - Error computing Jaccard similarity: \n",
      "**********************************************************************\n",
      "  Resource \u001b[93mpunkt_tab\u001b[0m not found.\n",
      "  Please use the NLTK Downloader to obtain the resource:\n",
      "\n",
      "  \u001b[31m>>> import nltk\n",
      "  >>> nltk.download('punkt_tab')\n",
      "  \u001b[0m\n",
      "  For more information see: https://www.nltk.org/data.html\n",
      "\n",
      "  Attempted to load \u001b[93mtokenizers/punkt_tab/english/\u001b[0m\n",
      "\n",
      "  Searched in:\n",
      "    - '/Users/bhargav/nltk_data'\n",
      "    - '/Library/Frameworks/Python.framework/Versions/3.13/nltk_data'\n",
      "    - '/Library/Frameworks/Python.framework/Versions/3.13/share/nltk_data'\n",
      "    - '/Library/Frameworks/Python.framework/Versions/3.13/lib/nltk_data'\n",
      "    - '/usr/share/nltk_data'\n",
      "    - '/usr/local/share/nltk_data'\n",
      "    - '/usr/lib/nltk_data'\n",
      "    - '/usr/local/lib/nltk_data'\n",
      "**********************************************************************\n",
      "\n"
     ]
    },
    {
     "data": {
      "application/vnd.jupyter.widget-view+json": {
       "model_id": "89a79aaab44241ff9bd63cbd54aecab9",
       "version_major": 2,
       "version_minor": 0
      },
      "text/plain": [
       "Batches:   0%|          | 0/1 [00:00<?, ?it/s]"
      ]
     },
     "metadata": {},
     "output_type": "display_data"
    },
    {
     "data": {
      "application/vnd.jupyter.widget-view+json": {
       "model_id": "9daacf4e6ec44066be496b11c76a5ac6",
       "version_major": 2,
       "version_minor": 0
      },
      "text/plain": [
       "Batches:   0%|          | 0/1 [00:00<?, ?it/s]"
      ]
     },
     "metadata": {},
     "output_type": "display_data"
    },
    {
     "name": "stderr",
     "output_type": "stream",
     "text": [
      "2025-05-12 21:52:43,336 - __main__ - ERROR - Error computing BERT similarity: 'float' object is not subscriptable\n",
      "Computing mistral_clean_similarities:  73%|██▉ | 84/115 [00:01<00:01, 27.65it/s]2025-05-12 21:52:43,349 - __main__ - ERROR - Error computing BLEU score: \n",
      "**********************************************************************\n",
      "  Resource \u001b[93mpunkt_tab\u001b[0m not found.\n",
      "  Please use the NLTK Downloader to obtain the resource:\n",
      "\n",
      "  \u001b[31m>>> import nltk\n",
      "  >>> nltk.download('punkt_tab')\n",
      "  \u001b[0m\n",
      "  For more information see: https://www.nltk.org/data.html\n",
      "\n",
      "  Attempted to load \u001b[93mtokenizers/punkt_tab/english/\u001b[0m\n",
      "\n",
      "  Searched in:\n",
      "    - '/Users/bhargav/nltk_data'\n",
      "    - '/Library/Frameworks/Python.framework/Versions/3.13/nltk_data'\n",
      "    - '/Library/Frameworks/Python.framework/Versions/3.13/share/nltk_data'\n",
      "    - '/Library/Frameworks/Python.framework/Versions/3.13/lib/nltk_data'\n",
      "    - '/usr/share/nltk_data'\n",
      "    - '/usr/local/share/nltk_data'\n",
      "    - '/usr/lib/nltk_data'\n",
      "    - '/usr/local/lib/nltk_data'\n",
      "**********************************************************************\n",
      "\n",
      "2025-05-12 21:52:43,364 - __main__ - ERROR - Error computing ROUGE scores: \n",
      "2025-05-12 21:52:43,372 - __main__ - ERROR - Error computing Levenshtein similarity: object of type 'float' has no len()\n",
      "2025-05-12 21:52:43,376 - __main__ - ERROR - Error computing Jaccard similarity: \n",
      "**********************************************************************\n",
      "  Resource \u001b[93mpunkt_tab\u001b[0m not found.\n",
      "  Please use the NLTK Downloader to obtain the resource:\n",
      "\n",
      "  \u001b[31m>>> import nltk\n",
      "  >>> nltk.download('punkt_tab')\n",
      "  \u001b[0m\n",
      "  For more information see: https://www.nltk.org/data.html\n",
      "\n",
      "  Attempted to load \u001b[93mtokenizers/punkt_tab/english/\u001b[0m\n",
      "\n",
      "  Searched in:\n",
      "    - '/Users/bhargav/nltk_data'\n",
      "    - '/Library/Frameworks/Python.framework/Versions/3.13/nltk_data'\n",
      "    - '/Library/Frameworks/Python.framework/Versions/3.13/share/nltk_data'\n",
      "    - '/Library/Frameworks/Python.framework/Versions/3.13/lib/nltk_data'\n",
      "    - '/usr/share/nltk_data'\n",
      "    - '/usr/local/share/nltk_data'\n",
      "    - '/usr/lib/nltk_data'\n",
      "    - '/usr/local/lib/nltk_data'\n",
      "**********************************************************************\n",
      "\n"
     ]
    },
    {
     "data": {
      "application/vnd.jupyter.widget-view+json": {
       "model_id": "dc1404bf0cf24d368273fddcd12056ce",
       "version_major": 2,
       "version_minor": 0
      },
      "text/plain": [
       "Batches:   0%|          | 0/1 [00:00<?, ?it/s]"
      ]
     },
     "metadata": {},
     "output_type": "display_data"
    },
    {
     "data": {
      "application/vnd.jupyter.widget-view+json": {
       "model_id": "ed97fbb4d3a24499943bc569cb30cf13",
       "version_major": 2,
       "version_minor": 0
      },
      "text/plain": [
       "Batches:   0%|          | 0/1 [00:00<?, ?it/s]"
      ]
     },
     "metadata": {},
     "output_type": "display_data"
    },
    {
     "name": "stderr",
     "output_type": "stream",
     "text": [
      "2025-05-12 21:52:43,402 - __main__ - ERROR - Error computing BERT similarity: 'float' object is not subscriptable\n",
      "2025-05-12 21:52:43,403 - __main__ - ERROR - Error computing BLEU score: \n",
      "**********************************************************************\n",
      "  Resource \u001b[93mpunkt_tab\u001b[0m not found.\n",
      "  Please use the NLTK Downloader to obtain the resource:\n",
      "\n",
      "  \u001b[31m>>> import nltk\n",
      "  >>> nltk.download('punkt_tab')\n",
      "  \u001b[0m\n",
      "  For more information see: https://www.nltk.org/data.html\n",
      "\n",
      "  Attempted to load \u001b[93mtokenizers/punkt_tab/english/\u001b[0m\n",
      "\n",
      "  Searched in:\n",
      "    - '/Users/bhargav/nltk_data'\n",
      "    - '/Library/Frameworks/Python.framework/Versions/3.13/nltk_data'\n",
      "    - '/Library/Frameworks/Python.framework/Versions/3.13/share/nltk_data'\n",
      "    - '/Library/Frameworks/Python.framework/Versions/3.13/lib/nltk_data'\n",
      "    - '/usr/share/nltk_data'\n",
      "    - '/usr/local/share/nltk_data'\n",
      "    - '/usr/lib/nltk_data'\n",
      "    - '/usr/local/lib/nltk_data'\n",
      "**********************************************************************\n",
      "\n",
      "2025-05-12 21:52:43,404 - __main__ - ERROR - Error computing ROUGE scores: \n",
      "2025-05-12 21:52:43,404 - __main__ - ERROR - Error computing Levenshtein similarity: object of type 'float' has no len()\n",
      "2025-05-12 21:52:43,405 - __main__ - ERROR - Error computing Jaccard similarity: \n",
      "**********************************************************************\n",
      "  Resource \u001b[93mpunkt_tab\u001b[0m not found.\n",
      "  Please use the NLTK Downloader to obtain the resource:\n",
      "\n",
      "  \u001b[31m>>> import nltk\n",
      "  >>> nltk.download('punkt_tab')\n",
      "  \u001b[0m\n",
      "  For more information see: https://www.nltk.org/data.html\n",
      "\n",
      "  Attempted to load \u001b[93mtokenizers/punkt_tab/english/\u001b[0m\n",
      "\n",
      "  Searched in:\n",
      "    - '/Users/bhargav/nltk_data'\n",
      "    - '/Library/Frameworks/Python.framework/Versions/3.13/nltk_data'\n",
      "    - '/Library/Frameworks/Python.framework/Versions/3.13/share/nltk_data'\n",
      "    - '/Library/Frameworks/Python.framework/Versions/3.13/lib/nltk_data'\n",
      "    - '/usr/share/nltk_data'\n",
      "    - '/usr/local/share/nltk_data'\n",
      "    - '/usr/lib/nltk_data'\n",
      "    - '/usr/local/lib/nltk_data'\n",
      "**********************************************************************\n",
      "\n"
     ]
    },
    {
     "data": {
      "application/vnd.jupyter.widget-view+json": {
       "model_id": "5f9b34702a5c4289b4af9972649eff32",
       "version_major": 2,
       "version_minor": 0
      },
      "text/plain": [
       "Batches:   0%|          | 0/1 [00:00<?, ?it/s]"
      ]
     },
     "metadata": {},
     "output_type": "display_data"
    },
    {
     "data": {
      "application/vnd.jupyter.widget-view+json": {
       "model_id": "e1383efedfa74aa3bcc6a7ea8e848396",
       "version_major": 2,
       "version_minor": 0
      },
      "text/plain": [
       "Batches:   0%|          | 0/1 [00:00<?, ?it/s]"
      ]
     },
     "metadata": {},
     "output_type": "display_data"
    },
    {
     "name": "stderr",
     "output_type": "stream",
     "text": [
      "2025-05-12 21:52:43,421 - __main__ - ERROR - Error computing BERT similarity: 'float' object is not subscriptable\n",
      "2025-05-12 21:52:43,422 - __main__ - ERROR - Error computing BLEU score: \n",
      "**********************************************************************\n",
      "  Resource \u001b[93mpunkt_tab\u001b[0m not found.\n",
      "  Please use the NLTK Downloader to obtain the resource:\n",
      "\n",
      "  \u001b[31m>>> import nltk\n",
      "  >>> nltk.download('punkt_tab')\n",
      "  \u001b[0m\n",
      "  For more information see: https://www.nltk.org/data.html\n",
      "\n",
      "  Attempted to load \u001b[93mtokenizers/punkt_tab/english/\u001b[0m\n",
      "\n",
      "  Searched in:\n",
      "    - '/Users/bhargav/nltk_data'\n",
      "    - '/Library/Frameworks/Python.framework/Versions/3.13/nltk_data'\n",
      "    - '/Library/Frameworks/Python.framework/Versions/3.13/share/nltk_data'\n",
      "    - '/Library/Frameworks/Python.framework/Versions/3.13/lib/nltk_data'\n",
      "    - '/usr/share/nltk_data'\n",
      "    - '/usr/local/share/nltk_data'\n",
      "    - '/usr/lib/nltk_data'\n",
      "    - '/usr/local/lib/nltk_data'\n",
      "**********************************************************************\n",
      "\n",
      "2025-05-12 21:52:43,433 - __main__ - ERROR - Error computing Jaccard similarity: \n",
      "**********************************************************************\n",
      "  Resource \u001b[93mpunkt_tab\u001b[0m not found.\n",
      "  Please use the NLTK Downloader to obtain the resource:\n",
      "\n",
      "  \u001b[31m>>> import nltk\n",
      "  >>> nltk.download('punkt_tab')\n",
      "  \u001b[0m\n",
      "  For more information see: https://www.nltk.org/data.html\n",
      "\n",
      "  Attempted to load \u001b[93mtokenizers/punkt_tab/english/\u001b[0m\n",
      "\n",
      "  Searched in:\n",
      "    - '/Users/bhargav/nltk_data'\n",
      "    - '/Library/Frameworks/Python.framework/Versions/3.13/nltk_data'\n",
      "    - '/Library/Frameworks/Python.framework/Versions/3.13/share/nltk_data'\n",
      "    - '/Library/Frameworks/Python.framework/Versions/3.13/lib/nltk_data'\n",
      "    - '/usr/share/nltk_data'\n",
      "    - '/usr/local/share/nltk_data'\n",
      "    - '/usr/lib/nltk_data'\n",
      "    - '/usr/local/lib/nltk_data'\n",
      "**********************************************************************\n",
      "\n"
     ]
    },
    {
     "data": {
      "application/vnd.jupyter.widget-view+json": {
       "model_id": "78a79aa9bef24518a578ead07930e085",
       "version_major": 2,
       "version_minor": 0
      },
      "text/plain": [
       "Batches:   0%|          | 0/1 [00:00<?, ?it/s]"
      ]
     },
     "metadata": {},
     "output_type": "display_data"
    },
    {
     "data": {
      "application/vnd.jupyter.widget-view+json": {
       "model_id": "95728e08a2704e4984810e55c7b1a14e",
       "version_major": 2,
       "version_minor": 0
      },
      "text/plain": [
       "Batches:   0%|          | 0/1 [00:00<?, ?it/s]"
      ]
     },
     "metadata": {},
     "output_type": "display_data"
    },
    {
     "name": "stderr",
     "output_type": "stream",
     "text": [
      "2025-05-12 21:52:43,458 - __main__ - ERROR - Error computing BLEU score: \n",
      "**********************************************************************\n",
      "  Resource \u001b[93mpunkt_tab\u001b[0m not found.\n",
      "  Please use the NLTK Downloader to obtain the resource:\n",
      "\n",
      "  \u001b[31m>>> import nltk\n",
      "  >>> nltk.download('punkt_tab')\n",
      "  \u001b[0m\n",
      "  For more information see: https://www.nltk.org/data.html\n",
      "\n",
      "  Attempted to load \u001b[93mtokenizers/punkt_tab/english/\u001b[0m\n",
      "\n",
      "  Searched in:\n",
      "    - '/Users/bhargav/nltk_data'\n",
      "    - '/Library/Frameworks/Python.framework/Versions/3.13/nltk_data'\n",
      "    - '/Library/Frameworks/Python.framework/Versions/3.13/share/nltk_data'\n",
      "    - '/Library/Frameworks/Python.framework/Versions/3.13/lib/nltk_data'\n",
      "    - '/usr/share/nltk_data'\n",
      "    - '/usr/local/share/nltk_data'\n",
      "    - '/usr/lib/nltk_data'\n",
      "    - '/usr/local/lib/nltk_data'\n",
      "**********************************************************************\n",
      "\n",
      "2025-05-12 21:52:43,458 - __main__ - ERROR - Error computing ROUGE scores: \n",
      "2025-05-12 21:52:43,458 - __main__ - ERROR - Error computing Levenshtein similarity: object of type 'float' has no len()\n",
      "2025-05-12 21:52:43,459 - __main__ - ERROR - Error computing Jaccard similarity: \n",
      "**********************************************************************\n",
      "  Resource \u001b[93mpunkt_tab\u001b[0m not found.\n",
      "  Please use the NLTK Downloader to obtain the resource:\n",
      "\n",
      "  \u001b[31m>>> import nltk\n",
      "  >>> nltk.download('punkt_tab')\n",
      "  \u001b[0m\n",
      "  For more information see: https://www.nltk.org/data.html\n",
      "\n",
      "  Attempted to load \u001b[93mtokenizers/punkt_tab/english/\u001b[0m\n",
      "\n",
      "  Searched in:\n",
      "    - '/Users/bhargav/nltk_data'\n",
      "    - '/Library/Frameworks/Python.framework/Versions/3.13/nltk_data'\n",
      "    - '/Library/Frameworks/Python.framework/Versions/3.13/share/nltk_data'\n",
      "    - '/Library/Frameworks/Python.framework/Versions/3.13/lib/nltk_data'\n",
      "    - '/usr/share/nltk_data'\n",
      "    - '/usr/local/share/nltk_data'\n",
      "    - '/usr/lib/nltk_data'\n",
      "    - '/usr/local/lib/nltk_data'\n",
      "**********************************************************************\n",
      "\n"
     ]
    },
    {
     "data": {
      "application/vnd.jupyter.widget-view+json": {
       "model_id": "d14915cbe4ab426abf31cbd01a413ee0",
       "version_major": 2,
       "version_minor": 0
      },
      "text/plain": [
       "Batches:   0%|          | 0/1 [00:00<?, ?it/s]"
      ]
     },
     "metadata": {},
     "output_type": "display_data"
    },
    {
     "data": {
      "application/vnd.jupyter.widget-view+json": {
       "model_id": "4a30c3f3e5fb492c97d279e71d9eefc6",
       "version_major": 2,
       "version_minor": 0
      },
      "text/plain": [
       "Batches:   0%|          | 0/1 [00:00<?, ?it/s]"
      ]
     },
     "metadata": {},
     "output_type": "display_data"
    },
    {
     "name": "stderr",
     "output_type": "stream",
     "text": [
      "2025-05-12 21:52:43,471 - __main__ - ERROR - Error computing BERT similarity: 'float' object is not subscriptable\n",
      "2025-05-12 21:52:43,472 - __main__ - ERROR - Error computing BLEU score: \n",
      "**********************************************************************\n",
      "  Resource \u001b[93mpunkt_tab\u001b[0m not found.\n",
      "  Please use the NLTK Downloader to obtain the resource:\n",
      "\n",
      "  \u001b[31m>>> import nltk\n",
      "  >>> nltk.download('punkt_tab')\n",
      "  \u001b[0m\n",
      "  For more information see: https://www.nltk.org/data.html\n",
      "\n",
      "  Attempted to load \u001b[93mtokenizers/punkt_tab/english/\u001b[0m\n",
      "\n",
      "  Searched in:\n",
      "    - '/Users/bhargav/nltk_data'\n",
      "    - '/Library/Frameworks/Python.framework/Versions/3.13/nltk_data'\n",
      "    - '/Library/Frameworks/Python.framework/Versions/3.13/share/nltk_data'\n",
      "    - '/Library/Frameworks/Python.framework/Versions/3.13/lib/nltk_data'\n",
      "    - '/usr/share/nltk_data'\n",
      "    - '/usr/local/share/nltk_data'\n",
      "    - '/usr/lib/nltk_data'\n",
      "    - '/usr/local/lib/nltk_data'\n",
      "**********************************************************************\n",
      "\n",
      "2025-05-12 21:52:43,472 - __main__ - ERROR - Error computing ROUGE scores: \n",
      "2025-05-12 21:52:43,472 - __main__ - ERROR - Error computing Levenshtein similarity: object of type 'float' has no len()\n",
      "2025-05-12 21:52:43,473 - __main__ - ERROR - Error computing Jaccard similarity: \n",
      "**********************************************************************\n",
      "  Resource \u001b[93mpunkt_tab\u001b[0m not found.\n",
      "  Please use the NLTK Downloader to obtain the resource:\n",
      "\n",
      "  \u001b[31m>>> import nltk\n",
      "  >>> nltk.download('punkt_tab')\n",
      "  \u001b[0m\n",
      "  For more information see: https://www.nltk.org/data.html\n",
      "\n",
      "  Attempted to load \u001b[93mtokenizers/punkt_tab/english/\u001b[0m\n",
      "\n",
      "  Searched in:\n",
      "    - '/Users/bhargav/nltk_data'\n",
      "    - '/Library/Frameworks/Python.framework/Versions/3.13/nltk_data'\n",
      "    - '/Library/Frameworks/Python.framework/Versions/3.13/share/nltk_data'\n",
      "    - '/Library/Frameworks/Python.framework/Versions/3.13/lib/nltk_data'\n",
      "    - '/usr/share/nltk_data'\n",
      "    - '/usr/local/share/nltk_data'\n",
      "    - '/usr/lib/nltk_data'\n",
      "    - '/usr/local/lib/nltk_data'\n",
      "**********************************************************************\n",
      "\n"
     ]
    },
    {
     "data": {
      "application/vnd.jupyter.widget-view+json": {
       "model_id": "ccb3ec7869f24cc1bff2b3930d1e0d29",
       "version_major": 2,
       "version_minor": 0
      },
      "text/plain": [
       "Batches:   0%|          | 0/1 [00:00<?, ?it/s]"
      ]
     },
     "metadata": {},
     "output_type": "display_data"
    },
    {
     "data": {
      "application/vnd.jupyter.widget-view+json": {
       "model_id": "ae88e2172c2f4156b8fab567f3e73c71",
       "version_major": 2,
       "version_minor": 0
      },
      "text/plain": [
       "Batches:   0%|          | 0/1 [00:00<?, ?it/s]"
      ]
     },
     "metadata": {},
     "output_type": "display_data"
    },
    {
     "name": "stderr",
     "output_type": "stream",
     "text": [
      "2025-05-12 21:52:43,486 - __main__ - ERROR - Error computing BERT similarity: 'float' object is not subscriptable\n",
      "Computing mistral_clean_similarities:  77%|███ | 89/115 [00:02<00:00, 28.94it/s]2025-05-12 21:52:43,488 - __main__ - ERROR - Error computing BLEU score: \n",
      "**********************************************************************\n",
      "  Resource \u001b[93mpunkt_tab\u001b[0m not found.\n",
      "  Please use the NLTK Downloader to obtain the resource:\n",
      "\n",
      "  \u001b[31m>>> import nltk\n",
      "  >>> nltk.download('punkt_tab')\n",
      "  \u001b[0m\n",
      "  For more information see: https://www.nltk.org/data.html\n",
      "\n",
      "  Attempted to load \u001b[93mtokenizers/punkt_tab/english/\u001b[0m\n",
      "\n",
      "  Searched in:\n",
      "    - '/Users/bhargav/nltk_data'\n",
      "    - '/Library/Frameworks/Python.framework/Versions/3.13/nltk_data'\n",
      "    - '/Library/Frameworks/Python.framework/Versions/3.13/share/nltk_data'\n",
      "    - '/Library/Frameworks/Python.framework/Versions/3.13/lib/nltk_data'\n",
      "    - '/usr/share/nltk_data'\n",
      "    - '/usr/local/share/nltk_data'\n",
      "    - '/usr/lib/nltk_data'\n",
      "    - '/usr/local/lib/nltk_data'\n",
      "**********************************************************************\n",
      "\n",
      "2025-05-12 21:52:43,488 - __main__ - ERROR - Error computing ROUGE scores: \n",
      "2025-05-12 21:52:43,488 - __main__ - ERROR - Error computing Levenshtein similarity: object of type 'float' has no len()\n",
      "2025-05-12 21:52:43,489 - __main__ - ERROR - Error computing Jaccard similarity: \n",
      "**********************************************************************\n",
      "  Resource \u001b[93mpunkt_tab\u001b[0m not found.\n",
      "  Please use the NLTK Downloader to obtain the resource:\n",
      "\n",
      "  \u001b[31m>>> import nltk\n",
      "  >>> nltk.download('punkt_tab')\n",
      "  \u001b[0m\n",
      "  For more information see: https://www.nltk.org/data.html\n",
      "\n",
      "  Attempted to load \u001b[93mtokenizers/punkt_tab/english/\u001b[0m\n",
      "\n",
      "  Searched in:\n",
      "    - '/Users/bhargav/nltk_data'\n",
      "    - '/Library/Frameworks/Python.framework/Versions/3.13/nltk_data'\n",
      "    - '/Library/Frameworks/Python.framework/Versions/3.13/share/nltk_data'\n",
      "    - '/Library/Frameworks/Python.framework/Versions/3.13/lib/nltk_data'\n",
      "    - '/usr/share/nltk_data'\n",
      "    - '/usr/local/share/nltk_data'\n",
      "    - '/usr/lib/nltk_data'\n",
      "    - '/usr/local/lib/nltk_data'\n",
      "**********************************************************************\n",
      "\n"
     ]
    },
    {
     "data": {
      "application/vnd.jupyter.widget-view+json": {
       "model_id": "b72d0a04605a445cb2a8e6bdd54fe31c",
       "version_major": 2,
       "version_minor": 0
      },
      "text/plain": [
       "Batches:   0%|          | 0/1 [00:00<?, ?it/s]"
      ]
     },
     "metadata": {},
     "output_type": "display_data"
    },
    {
     "data": {
      "application/vnd.jupyter.widget-view+json": {
       "model_id": "ec6e0645b763495892d3820b71778dce",
       "version_major": 2,
       "version_minor": 0
      },
      "text/plain": [
       "Batches:   0%|          | 0/1 [00:00<?, ?it/s]"
      ]
     },
     "metadata": {},
     "output_type": "display_data"
    },
    {
     "name": "stderr",
     "output_type": "stream",
     "text": [
      "2025-05-12 21:52:43,501 - __main__ - ERROR - Error computing BERT similarity: 'float' object is not subscriptable\n",
      "2025-05-12 21:52:43,502 - __main__ - ERROR - Error computing BLEU score: \n",
      "**********************************************************************\n",
      "  Resource \u001b[93mpunkt_tab\u001b[0m not found.\n",
      "  Please use the NLTK Downloader to obtain the resource:\n",
      "\n",
      "  \u001b[31m>>> import nltk\n",
      "  >>> nltk.download('punkt_tab')\n",
      "  \u001b[0m\n",
      "  For more information see: https://www.nltk.org/data.html\n",
      "\n",
      "  Attempted to load \u001b[93mtokenizers/punkt_tab/english/\u001b[0m\n",
      "\n",
      "  Searched in:\n",
      "    - '/Users/bhargav/nltk_data'\n",
      "    - '/Library/Frameworks/Python.framework/Versions/3.13/nltk_data'\n",
      "    - '/Library/Frameworks/Python.framework/Versions/3.13/share/nltk_data'\n",
      "    - '/Library/Frameworks/Python.framework/Versions/3.13/lib/nltk_data'\n",
      "    - '/usr/share/nltk_data'\n",
      "    - '/usr/local/share/nltk_data'\n",
      "    - '/usr/lib/nltk_data'\n",
      "    - '/usr/local/lib/nltk_data'\n",
      "**********************************************************************\n",
      "\n",
      "2025-05-12 21:52:43,503 - __main__ - ERROR - Error computing ROUGE scores: \n",
      "2025-05-12 21:52:43,503 - __main__ - ERROR - Error computing Levenshtein similarity: object of type 'float' has no len()\n",
      "2025-05-12 21:52:43,503 - __main__ - ERROR - Error computing Jaccard similarity: \n",
      "**********************************************************************\n",
      "  Resource \u001b[93mpunkt_tab\u001b[0m not found.\n",
      "  Please use the NLTK Downloader to obtain the resource:\n",
      "\n",
      "  \u001b[31m>>> import nltk\n",
      "  >>> nltk.download('punkt_tab')\n",
      "  \u001b[0m\n",
      "  For more information see: https://www.nltk.org/data.html\n",
      "\n",
      "  Attempted to load \u001b[93mtokenizers/punkt_tab/english/\u001b[0m\n",
      "\n",
      "  Searched in:\n",
      "    - '/Users/bhargav/nltk_data'\n",
      "    - '/Library/Frameworks/Python.framework/Versions/3.13/nltk_data'\n",
      "    - '/Library/Frameworks/Python.framework/Versions/3.13/share/nltk_data'\n",
      "    - '/Library/Frameworks/Python.framework/Versions/3.13/lib/nltk_data'\n",
      "    - '/usr/share/nltk_data'\n",
      "    - '/usr/local/share/nltk_data'\n",
      "    - '/usr/lib/nltk_data'\n",
      "    - '/usr/local/lib/nltk_data'\n",
      "**********************************************************************\n",
      "\n"
     ]
    },
    {
     "data": {
      "application/vnd.jupyter.widget-view+json": {
       "model_id": "445d7ef774834aa1be4f3eb06e08cff2",
       "version_major": 2,
       "version_minor": 0
      },
      "text/plain": [
       "Batches:   0%|          | 0/1 [00:00<?, ?it/s]"
      ]
     },
     "metadata": {},
     "output_type": "display_data"
    },
    {
     "data": {
      "application/vnd.jupyter.widget-view+json": {
       "model_id": "00277cf1c28d44398396b2c4970c9eee",
       "version_major": 2,
       "version_minor": 0
      },
      "text/plain": [
       "Batches:   0%|          | 0/1 [00:00<?, ?it/s]"
      ]
     },
     "metadata": {},
     "output_type": "display_data"
    },
    {
     "name": "stderr",
     "output_type": "stream",
     "text": [
      "2025-05-12 21:52:43,516 - __main__ - ERROR - Error computing BERT similarity: 'float' object is not subscriptable\n",
      "2025-05-12 21:52:43,517 - __main__ - ERROR - Error computing BLEU score: \n",
      "**********************************************************************\n",
      "  Resource \u001b[93mpunkt_tab\u001b[0m not found.\n",
      "  Please use the NLTK Downloader to obtain the resource:\n",
      "\n",
      "  \u001b[31m>>> import nltk\n",
      "  >>> nltk.download('punkt_tab')\n",
      "  \u001b[0m\n",
      "  For more information see: https://www.nltk.org/data.html\n",
      "\n",
      "  Attempted to load \u001b[93mtokenizers/punkt_tab/english/\u001b[0m\n",
      "\n",
      "  Searched in:\n",
      "    - '/Users/bhargav/nltk_data'\n",
      "    - '/Library/Frameworks/Python.framework/Versions/3.13/nltk_data'\n",
      "    - '/Library/Frameworks/Python.framework/Versions/3.13/share/nltk_data'\n",
      "    - '/Library/Frameworks/Python.framework/Versions/3.13/lib/nltk_data'\n",
      "    - '/usr/share/nltk_data'\n",
      "    - '/usr/local/share/nltk_data'\n",
      "    - '/usr/lib/nltk_data'\n",
      "    - '/usr/local/lib/nltk_data'\n",
      "**********************************************************************\n",
      "\n",
      "2025-05-12 21:52:43,517 - __main__ - ERROR - Error computing ROUGE scores: \n",
      "2025-05-12 21:52:43,517 - __main__ - ERROR - Error computing Levenshtein similarity: object of type 'float' has no len()\n",
      "2025-05-12 21:52:43,518 - __main__ - ERROR - Error computing Jaccard similarity: \n",
      "**********************************************************************\n",
      "  Resource \u001b[93mpunkt_tab\u001b[0m not found.\n",
      "  Please use the NLTK Downloader to obtain the resource:\n",
      "\n",
      "  \u001b[31m>>> import nltk\n",
      "  >>> nltk.download('punkt_tab')\n",
      "  \u001b[0m\n",
      "  For more information see: https://www.nltk.org/data.html\n",
      "\n",
      "  Attempted to load \u001b[93mtokenizers/punkt_tab/english/\u001b[0m\n",
      "\n",
      "  Searched in:\n",
      "    - '/Users/bhargav/nltk_data'\n",
      "    - '/Library/Frameworks/Python.framework/Versions/3.13/nltk_data'\n",
      "    - '/Library/Frameworks/Python.framework/Versions/3.13/share/nltk_data'\n",
      "    - '/Library/Frameworks/Python.framework/Versions/3.13/lib/nltk_data'\n",
      "    - '/usr/share/nltk_data'\n",
      "    - '/usr/local/share/nltk_data'\n",
      "    - '/usr/lib/nltk_data'\n",
      "    - '/usr/local/lib/nltk_data'\n",
      "**********************************************************************\n",
      "\n"
     ]
    },
    {
     "data": {
      "application/vnd.jupyter.widget-view+json": {
       "model_id": "a2ed08c79a3f47a4917229212d5a09a7",
       "version_major": 2,
       "version_minor": 0
      },
      "text/plain": [
       "Batches:   0%|          | 0/1 [00:00<?, ?it/s]"
      ]
     },
     "metadata": {},
     "output_type": "display_data"
    },
    {
     "data": {
      "application/vnd.jupyter.widget-view+json": {
       "model_id": "8d2748f2fb4c45e8bce42a3cb58a9f73",
       "version_major": 2,
       "version_minor": 0
      },
      "text/plain": [
       "Batches:   0%|          | 0/1 [00:00<?, ?it/s]"
      ]
     },
     "metadata": {},
     "output_type": "display_data"
    },
    {
     "name": "stderr",
     "output_type": "stream",
     "text": [
      "2025-05-12 21:52:43,530 - __main__ - ERROR - Error computing BERT similarity: 'float' object is not subscriptable\n",
      "2025-05-12 21:52:43,531 - __main__ - ERROR - Error computing BLEU score: \n",
      "**********************************************************************\n",
      "  Resource \u001b[93mpunkt_tab\u001b[0m not found.\n",
      "  Please use the NLTK Downloader to obtain the resource:\n",
      "\n",
      "  \u001b[31m>>> import nltk\n",
      "  >>> nltk.download('punkt_tab')\n",
      "  \u001b[0m\n",
      "  For more information see: https://www.nltk.org/data.html\n",
      "\n",
      "  Attempted to load \u001b[93mtokenizers/punkt_tab/english/\u001b[0m\n",
      "\n",
      "  Searched in:\n",
      "    - '/Users/bhargav/nltk_data'\n",
      "    - '/Library/Frameworks/Python.framework/Versions/3.13/nltk_data'\n",
      "    - '/Library/Frameworks/Python.framework/Versions/3.13/share/nltk_data'\n",
      "    - '/Library/Frameworks/Python.framework/Versions/3.13/lib/nltk_data'\n",
      "    - '/usr/share/nltk_data'\n",
      "    - '/usr/local/share/nltk_data'\n",
      "    - '/usr/lib/nltk_data'\n",
      "    - '/usr/local/lib/nltk_data'\n",
      "**********************************************************************\n",
      "\n",
      "2025-05-12 21:52:43,531 - __main__ - ERROR - Error computing ROUGE scores: \n",
      "2025-05-12 21:52:43,532 - __main__ - ERROR - Error computing Levenshtein similarity: object of type 'float' has no len()\n",
      "2025-05-12 21:52:43,532 - __main__ - ERROR - Error computing Jaccard similarity: \n",
      "**********************************************************************\n",
      "  Resource \u001b[93mpunkt_tab\u001b[0m not found.\n",
      "  Please use the NLTK Downloader to obtain the resource:\n",
      "\n",
      "  \u001b[31m>>> import nltk\n",
      "  >>> nltk.download('punkt_tab')\n",
      "  \u001b[0m\n",
      "  For more information see: https://www.nltk.org/data.html\n",
      "\n",
      "  Attempted to load \u001b[93mtokenizers/punkt_tab/english/\u001b[0m\n",
      "\n",
      "  Searched in:\n",
      "    - '/Users/bhargav/nltk_data'\n",
      "    - '/Library/Frameworks/Python.framework/Versions/3.13/nltk_data'\n",
      "    - '/Library/Frameworks/Python.framework/Versions/3.13/share/nltk_data'\n",
      "    - '/Library/Frameworks/Python.framework/Versions/3.13/lib/nltk_data'\n",
      "    - '/usr/share/nltk_data'\n",
      "    - '/usr/local/share/nltk_data'\n",
      "    - '/usr/lib/nltk_data'\n",
      "    - '/usr/local/lib/nltk_data'\n",
      "**********************************************************************\n",
      "\n"
     ]
    },
    {
     "data": {
      "application/vnd.jupyter.widget-view+json": {
       "model_id": "c222dfc186a547738bbc58887f1a352b",
       "version_major": 2,
       "version_minor": 0
      },
      "text/plain": [
       "Batches:   0%|          | 0/1 [00:00<?, ?it/s]"
      ]
     },
     "metadata": {},
     "output_type": "display_data"
    },
    {
     "data": {
      "application/vnd.jupyter.widget-view+json": {
       "model_id": "d2fac63b784843b4a495f9316c28e92f",
       "version_major": 2,
       "version_minor": 0
      },
      "text/plain": [
       "Batches:   0%|          | 0/1 [00:00<?, ?it/s]"
      ]
     },
     "metadata": {},
     "output_type": "display_data"
    },
    {
     "name": "stderr",
     "output_type": "stream",
     "text": [
      "2025-05-12 21:52:43,544 - __main__ - ERROR - Error computing BERT similarity: 'float' object is not subscriptable\n",
      "2025-05-12 21:52:43,546 - __main__ - ERROR - Error computing BLEU score: \n",
      "**********************************************************************\n",
      "  Resource \u001b[93mpunkt_tab\u001b[0m not found.\n",
      "  Please use the NLTK Downloader to obtain the resource:\n",
      "\n",
      "  \u001b[31m>>> import nltk\n",
      "  >>> nltk.download('punkt_tab')\n",
      "  \u001b[0m\n",
      "  For more information see: https://www.nltk.org/data.html\n",
      "\n",
      "  Attempted to load \u001b[93mtokenizers/punkt_tab/english/\u001b[0m\n",
      "\n",
      "  Searched in:\n",
      "    - '/Users/bhargav/nltk_data'\n",
      "    - '/Library/Frameworks/Python.framework/Versions/3.13/nltk_data'\n",
      "    - '/Library/Frameworks/Python.framework/Versions/3.13/share/nltk_data'\n",
      "    - '/Library/Frameworks/Python.framework/Versions/3.13/lib/nltk_data'\n",
      "    - '/usr/share/nltk_data'\n",
      "    - '/usr/local/share/nltk_data'\n",
      "    - '/usr/lib/nltk_data'\n",
      "    - '/usr/local/lib/nltk_data'\n",
      "**********************************************************************\n",
      "\n",
      "2025-05-12 21:52:43,546 - __main__ - ERROR - Error computing ROUGE scores: \n",
      "2025-05-12 21:52:43,546 - __main__ - ERROR - Error computing Levenshtein similarity: object of type 'float' has no len()\n",
      "2025-05-12 21:52:43,547 - __main__ - ERROR - Error computing Jaccard similarity: \n",
      "**********************************************************************\n",
      "  Resource \u001b[93mpunkt_tab\u001b[0m not found.\n",
      "  Please use the NLTK Downloader to obtain the resource:\n",
      "\n",
      "  \u001b[31m>>> import nltk\n",
      "  >>> nltk.download('punkt_tab')\n",
      "  \u001b[0m\n",
      "  For more information see: https://www.nltk.org/data.html\n",
      "\n",
      "  Attempted to load \u001b[93mtokenizers/punkt_tab/english/\u001b[0m\n",
      "\n",
      "  Searched in:\n",
      "    - '/Users/bhargav/nltk_data'\n",
      "    - '/Library/Frameworks/Python.framework/Versions/3.13/nltk_data'\n",
      "    - '/Library/Frameworks/Python.framework/Versions/3.13/share/nltk_data'\n",
      "    - '/Library/Frameworks/Python.framework/Versions/3.13/lib/nltk_data'\n",
      "    - '/usr/share/nltk_data'\n",
      "    - '/usr/local/share/nltk_data'\n",
      "    - '/usr/lib/nltk_data'\n",
      "    - '/usr/local/lib/nltk_data'\n",
      "**********************************************************************\n",
      "\n"
     ]
    },
    {
     "data": {
      "application/vnd.jupyter.widget-view+json": {
       "model_id": "dba51ad7c41c48e18772bfae9dacb6bc",
       "version_major": 2,
       "version_minor": 0
      },
      "text/plain": [
       "Batches:   0%|          | 0/1 [00:00<?, ?it/s]"
      ]
     },
     "metadata": {},
     "output_type": "display_data"
    },
    {
     "data": {
      "application/vnd.jupyter.widget-view+json": {
       "model_id": "d07720a600744c309f024fc60d654437",
       "version_major": 2,
       "version_minor": 0
      },
      "text/plain": [
       "Batches:   0%|          | 0/1 [00:00<?, ?it/s]"
      ]
     },
     "metadata": {},
     "output_type": "display_data"
    },
    {
     "name": "stderr",
     "output_type": "stream",
     "text": [
      "2025-05-12 21:52:43,559 - __main__ - ERROR - Error computing BERT similarity: 'float' object is not subscriptable\n",
      "2025-05-12 21:52:43,561 - __main__ - ERROR - Error computing BLEU score: \n",
      "**********************************************************************\n",
      "  Resource \u001b[93mpunkt_tab\u001b[0m not found.\n",
      "  Please use the NLTK Downloader to obtain the resource:\n",
      "\n",
      "  \u001b[31m>>> import nltk\n",
      "  >>> nltk.download('punkt_tab')\n",
      "  \u001b[0m\n",
      "  For more information see: https://www.nltk.org/data.html\n",
      "\n",
      "  Attempted to load \u001b[93mtokenizers/punkt_tab/english/\u001b[0m\n",
      "\n",
      "  Searched in:\n",
      "    - '/Users/bhargav/nltk_data'\n",
      "    - '/Library/Frameworks/Python.framework/Versions/3.13/nltk_data'\n",
      "    - '/Library/Frameworks/Python.framework/Versions/3.13/share/nltk_data'\n",
      "    - '/Library/Frameworks/Python.framework/Versions/3.13/lib/nltk_data'\n",
      "    - '/usr/share/nltk_data'\n",
      "    - '/usr/local/share/nltk_data'\n",
      "    - '/usr/lib/nltk_data'\n",
      "    - '/usr/local/lib/nltk_data'\n",
      "**********************************************************************\n",
      "\n",
      "2025-05-12 21:52:43,561 - __main__ - ERROR - Error computing ROUGE scores: \n",
      "2025-05-12 21:52:43,561 - __main__ - ERROR - Error computing Levenshtein similarity: object of type 'float' has no len()\n",
      "2025-05-12 21:52:43,562 - __main__ - ERROR - Error computing Jaccard similarity: \n",
      "**********************************************************************\n",
      "  Resource \u001b[93mpunkt_tab\u001b[0m not found.\n",
      "  Please use the NLTK Downloader to obtain the resource:\n",
      "\n",
      "  \u001b[31m>>> import nltk\n",
      "  >>> nltk.download('punkt_tab')\n",
      "  \u001b[0m\n",
      "  For more information see: https://www.nltk.org/data.html\n",
      "\n",
      "  Attempted to load \u001b[93mtokenizers/punkt_tab/english/\u001b[0m\n",
      "\n",
      "  Searched in:\n",
      "    - '/Users/bhargav/nltk_data'\n",
      "    - '/Library/Frameworks/Python.framework/Versions/3.13/nltk_data'\n",
      "    - '/Library/Frameworks/Python.framework/Versions/3.13/share/nltk_data'\n",
      "    - '/Library/Frameworks/Python.framework/Versions/3.13/lib/nltk_data'\n",
      "    - '/usr/share/nltk_data'\n",
      "    - '/usr/local/share/nltk_data'\n",
      "    - '/usr/lib/nltk_data'\n",
      "    - '/usr/local/lib/nltk_data'\n",
      "**********************************************************************\n",
      "\n"
     ]
    },
    {
     "data": {
      "application/vnd.jupyter.widget-view+json": {
       "model_id": "86bdc8be74364439b312318244403a3d",
       "version_major": 2,
       "version_minor": 0
      },
      "text/plain": [
       "Batches:   0%|          | 0/1 [00:00<?, ?it/s]"
      ]
     },
     "metadata": {},
     "output_type": "display_data"
    },
    {
     "data": {
      "application/vnd.jupyter.widget-view+json": {
       "model_id": "916708d0539e4765b0f1fe72322787eb",
       "version_major": 2,
       "version_minor": 0
      },
      "text/plain": [
       "Batches:   0%|          | 0/1 [00:00<?, ?it/s]"
      ]
     },
     "metadata": {},
     "output_type": "display_data"
    },
    {
     "name": "stderr",
     "output_type": "stream",
     "text": [
      "2025-05-12 21:52:43,573 - __main__ - ERROR - Error computing BERT similarity: 'float' object is not subscriptable\n",
      "2025-05-12 21:52:43,574 - __main__ - ERROR - Error computing BLEU score: \n",
      "**********************************************************************\n",
      "  Resource \u001b[93mpunkt_tab\u001b[0m not found.\n",
      "  Please use the NLTK Downloader to obtain the resource:\n",
      "\n",
      "  \u001b[31m>>> import nltk\n",
      "  >>> nltk.download('punkt_tab')\n",
      "  \u001b[0m\n",
      "  For more information see: https://www.nltk.org/data.html\n",
      "\n",
      "  Attempted to load \u001b[93mtokenizers/punkt_tab/english/\u001b[0m\n",
      "\n",
      "  Searched in:\n",
      "    - '/Users/bhargav/nltk_data'\n",
      "    - '/Library/Frameworks/Python.framework/Versions/3.13/nltk_data'\n",
      "    - '/Library/Frameworks/Python.framework/Versions/3.13/share/nltk_data'\n",
      "    - '/Library/Frameworks/Python.framework/Versions/3.13/lib/nltk_data'\n",
      "    - '/usr/share/nltk_data'\n",
      "    - '/usr/local/share/nltk_data'\n",
      "    - '/usr/lib/nltk_data'\n",
      "    - '/usr/local/lib/nltk_data'\n",
      "**********************************************************************\n",
      "\n",
      "2025-05-12 21:52:43,575 - __main__ - ERROR - Error computing ROUGE scores: \n",
      "2025-05-12 21:52:43,575 - __main__ - ERROR - Error computing Levenshtein similarity: object of type 'float' has no len()\n",
      "2025-05-12 21:52:43,576 - __main__ - ERROR - Error computing Jaccard similarity: \n",
      "**********************************************************************\n",
      "  Resource \u001b[93mpunkt_tab\u001b[0m not found.\n",
      "  Please use the NLTK Downloader to obtain the resource:\n",
      "\n",
      "  \u001b[31m>>> import nltk\n",
      "  >>> nltk.download('punkt_tab')\n",
      "  \u001b[0m\n",
      "  For more information see: https://www.nltk.org/data.html\n",
      "\n",
      "  Attempted to load \u001b[93mtokenizers/punkt_tab/english/\u001b[0m\n",
      "\n",
      "  Searched in:\n",
      "    - '/Users/bhargav/nltk_data'\n",
      "    - '/Library/Frameworks/Python.framework/Versions/3.13/nltk_data'\n",
      "    - '/Library/Frameworks/Python.framework/Versions/3.13/share/nltk_data'\n",
      "    - '/Library/Frameworks/Python.framework/Versions/3.13/lib/nltk_data'\n",
      "    - '/usr/share/nltk_data'\n",
      "    - '/usr/local/share/nltk_data'\n",
      "    - '/usr/lib/nltk_data'\n",
      "    - '/usr/local/lib/nltk_data'\n",
      "**********************************************************************\n",
      "\n"
     ]
    },
    {
     "data": {
      "application/vnd.jupyter.widget-view+json": {
       "model_id": "96b6d7adfb5e49d3ac0bbf2984d32d58",
       "version_major": 2,
       "version_minor": 0
      },
      "text/plain": [
       "Batches:   0%|          | 0/1 [00:00<?, ?it/s]"
      ]
     },
     "metadata": {},
     "output_type": "display_data"
    },
    {
     "data": {
      "application/vnd.jupyter.widget-view+json": {
       "model_id": "285aed13cf1348fe80954b34cfb73bbb",
       "version_major": 2,
       "version_minor": 0
      },
      "text/plain": [
       "Batches:   0%|          | 0/1 [00:00<?, ?it/s]"
      ]
     },
     "metadata": {},
     "output_type": "display_data"
    },
    {
     "name": "stderr",
     "output_type": "stream",
     "text": [
      "2025-05-12 21:52:43,589 - __main__ - ERROR - Error computing BERT similarity: 'float' object is not subscriptable\n",
      "Computing mistral_clean_similarities:  83%|███▎| 96/115 [00:02<00:00, 35.85it/s]2025-05-12 21:52:43,590 - __main__ - ERROR - Error computing BLEU score: \n",
      "**********************************************************************\n",
      "  Resource \u001b[93mpunkt_tab\u001b[0m not found.\n",
      "  Please use the NLTK Downloader to obtain the resource:\n",
      "\n",
      "  \u001b[31m>>> import nltk\n",
      "  >>> nltk.download('punkt_tab')\n",
      "  \u001b[0m\n",
      "  For more information see: https://www.nltk.org/data.html\n",
      "\n",
      "  Attempted to load \u001b[93mtokenizers/punkt_tab/english/\u001b[0m\n",
      "\n",
      "  Searched in:\n",
      "    - '/Users/bhargav/nltk_data'\n",
      "    - '/Library/Frameworks/Python.framework/Versions/3.13/nltk_data'\n",
      "    - '/Library/Frameworks/Python.framework/Versions/3.13/share/nltk_data'\n",
      "    - '/Library/Frameworks/Python.framework/Versions/3.13/lib/nltk_data'\n",
      "    - '/usr/share/nltk_data'\n",
      "    - '/usr/local/share/nltk_data'\n",
      "    - '/usr/lib/nltk_data'\n",
      "    - '/usr/local/lib/nltk_data'\n",
      "**********************************************************************\n",
      "\n",
      "2025-05-12 21:52:43,590 - __main__ - ERROR - Error computing ROUGE scores: \n",
      "2025-05-12 21:52:43,590 - __main__ - ERROR - Error computing Levenshtein similarity: object of type 'float' has no len()\n",
      "2025-05-12 21:52:43,591 - __main__ - ERROR - Error computing Jaccard similarity: \n",
      "**********************************************************************\n",
      "  Resource \u001b[93mpunkt_tab\u001b[0m not found.\n",
      "  Please use the NLTK Downloader to obtain the resource:\n",
      "\n",
      "  \u001b[31m>>> import nltk\n",
      "  >>> nltk.download('punkt_tab')\n",
      "  \u001b[0m\n",
      "  For more information see: https://www.nltk.org/data.html\n",
      "\n",
      "  Attempted to load \u001b[93mtokenizers/punkt_tab/english/\u001b[0m\n",
      "\n",
      "  Searched in:\n",
      "    - '/Users/bhargav/nltk_data'\n",
      "    - '/Library/Frameworks/Python.framework/Versions/3.13/nltk_data'\n",
      "    - '/Library/Frameworks/Python.framework/Versions/3.13/share/nltk_data'\n",
      "    - '/Library/Frameworks/Python.framework/Versions/3.13/lib/nltk_data'\n",
      "    - '/usr/share/nltk_data'\n",
      "    - '/usr/local/share/nltk_data'\n",
      "    - '/usr/lib/nltk_data'\n",
      "    - '/usr/local/lib/nltk_data'\n",
      "**********************************************************************\n",
      "\n"
     ]
    },
    {
     "data": {
      "application/vnd.jupyter.widget-view+json": {
       "model_id": "d04c3b9a224242338869c3a065b8817c",
       "version_major": 2,
       "version_minor": 0
      },
      "text/plain": [
       "Batches:   0%|          | 0/1 [00:00<?, ?it/s]"
      ]
     },
     "metadata": {},
     "output_type": "display_data"
    },
    {
     "data": {
      "application/vnd.jupyter.widget-view+json": {
       "model_id": "4608d81c917040d9a4152b79d39a0ac0",
       "version_major": 2,
       "version_minor": 0
      },
      "text/plain": [
       "Batches:   0%|          | 0/1 [00:00<?, ?it/s]"
      ]
     },
     "metadata": {},
     "output_type": "display_data"
    },
    {
     "name": "stderr",
     "output_type": "stream",
     "text": [
      "2025-05-12 21:52:43,606 - __main__ - ERROR - Error computing BERT similarity: 'float' object is not subscriptable\n",
      "2025-05-12 21:52:43,607 - __main__ - ERROR - Error computing BLEU score: \n",
      "**********************************************************************\n",
      "  Resource \u001b[93mpunkt_tab\u001b[0m not found.\n",
      "  Please use the NLTK Downloader to obtain the resource:\n",
      "\n",
      "  \u001b[31m>>> import nltk\n",
      "  >>> nltk.download('punkt_tab')\n",
      "  \u001b[0m\n",
      "  For more information see: https://www.nltk.org/data.html\n",
      "\n",
      "  Attempted to load \u001b[93mtokenizers/punkt_tab/english/\u001b[0m\n",
      "\n",
      "  Searched in:\n",
      "    - '/Users/bhargav/nltk_data'\n",
      "    - '/Library/Frameworks/Python.framework/Versions/3.13/nltk_data'\n",
      "    - '/Library/Frameworks/Python.framework/Versions/3.13/share/nltk_data'\n",
      "    - '/Library/Frameworks/Python.framework/Versions/3.13/lib/nltk_data'\n",
      "    - '/usr/share/nltk_data'\n",
      "    - '/usr/local/share/nltk_data'\n",
      "    - '/usr/lib/nltk_data'\n",
      "    - '/usr/local/lib/nltk_data'\n",
      "**********************************************************************\n",
      "\n",
      "2025-05-12 21:52:43,607 - __main__ - ERROR - Error computing ROUGE scores: \n",
      "2025-05-12 21:52:43,608 - __main__ - ERROR - Error computing Levenshtein similarity: object of type 'float' has no len()\n",
      "2025-05-12 21:52:43,608 - __main__ - ERROR - Error computing Jaccard similarity: \n",
      "**********************************************************************\n",
      "  Resource \u001b[93mpunkt_tab\u001b[0m not found.\n",
      "  Please use the NLTK Downloader to obtain the resource:\n",
      "\n",
      "  \u001b[31m>>> import nltk\n",
      "  >>> nltk.download('punkt_tab')\n",
      "  \u001b[0m\n",
      "  For more information see: https://www.nltk.org/data.html\n",
      "\n",
      "  Attempted to load \u001b[93mtokenizers/punkt_tab/english/\u001b[0m\n",
      "\n",
      "  Searched in:\n",
      "    - '/Users/bhargav/nltk_data'\n",
      "    - '/Library/Frameworks/Python.framework/Versions/3.13/nltk_data'\n",
      "    - '/Library/Frameworks/Python.framework/Versions/3.13/share/nltk_data'\n",
      "    - '/Library/Frameworks/Python.framework/Versions/3.13/lib/nltk_data'\n",
      "    - '/usr/share/nltk_data'\n",
      "    - '/usr/local/share/nltk_data'\n",
      "    - '/usr/lib/nltk_data'\n",
      "    - '/usr/local/lib/nltk_data'\n",
      "**********************************************************************\n",
      "\n"
     ]
    },
    {
     "data": {
      "application/vnd.jupyter.widget-view+json": {
       "model_id": "dccaa0dbf52744ba9380bb3908ca9912",
       "version_major": 2,
       "version_minor": 0
      },
      "text/plain": [
       "Batches:   0%|          | 0/1 [00:00<?, ?it/s]"
      ]
     },
     "metadata": {},
     "output_type": "display_data"
    },
    {
     "data": {
      "application/vnd.jupyter.widget-view+json": {
       "model_id": "1a228bc317c64597abfb52a23cedc1ef",
       "version_major": 2,
       "version_minor": 0
      },
      "text/plain": [
       "Batches:   0%|          | 0/1 [00:00<?, ?it/s]"
      ]
     },
     "metadata": {},
     "output_type": "display_data"
    },
    {
     "name": "stderr",
     "output_type": "stream",
     "text": [
      "2025-05-12 21:52:43,619 - __main__ - ERROR - Error computing BERT similarity: 'float' object is not subscriptable\n",
      "2025-05-12 21:52:43,621 - __main__ - ERROR - Error computing BLEU score: \n",
      "**********************************************************************\n",
      "  Resource \u001b[93mpunkt_tab\u001b[0m not found.\n",
      "  Please use the NLTK Downloader to obtain the resource:\n",
      "\n",
      "  \u001b[31m>>> import nltk\n",
      "  >>> nltk.download('punkt_tab')\n",
      "  \u001b[0m\n",
      "  For more information see: https://www.nltk.org/data.html\n",
      "\n",
      "  Attempted to load \u001b[93mtokenizers/punkt_tab/english/\u001b[0m\n",
      "\n",
      "  Searched in:\n",
      "    - '/Users/bhargav/nltk_data'\n",
      "    - '/Library/Frameworks/Python.framework/Versions/3.13/nltk_data'\n",
      "    - '/Library/Frameworks/Python.framework/Versions/3.13/share/nltk_data'\n",
      "    - '/Library/Frameworks/Python.framework/Versions/3.13/lib/nltk_data'\n",
      "    - '/usr/share/nltk_data'\n",
      "    - '/usr/local/share/nltk_data'\n",
      "    - '/usr/lib/nltk_data'\n",
      "    - '/usr/local/lib/nltk_data'\n",
      "**********************************************************************\n",
      "\n",
      "2025-05-12 21:52:43,621 - __main__ - ERROR - Error computing ROUGE scores: \n",
      "2025-05-12 21:52:43,621 - __main__ - ERROR - Error computing Levenshtein similarity: object of type 'float' has no len()\n",
      "2025-05-12 21:52:43,622 - __main__ - ERROR - Error computing Jaccard similarity: \n",
      "**********************************************************************\n",
      "  Resource \u001b[93mpunkt_tab\u001b[0m not found.\n",
      "  Please use the NLTK Downloader to obtain the resource:\n",
      "\n",
      "  \u001b[31m>>> import nltk\n",
      "  >>> nltk.download('punkt_tab')\n",
      "  \u001b[0m\n",
      "  For more information see: https://www.nltk.org/data.html\n",
      "\n",
      "  Attempted to load \u001b[93mtokenizers/punkt_tab/english/\u001b[0m\n",
      "\n",
      "  Searched in:\n",
      "    - '/Users/bhargav/nltk_data'\n",
      "    - '/Library/Frameworks/Python.framework/Versions/3.13/nltk_data'\n",
      "    - '/Library/Frameworks/Python.framework/Versions/3.13/share/nltk_data'\n",
      "    - '/Library/Frameworks/Python.framework/Versions/3.13/lib/nltk_data'\n",
      "    - '/usr/share/nltk_data'\n",
      "    - '/usr/local/share/nltk_data'\n",
      "    - '/usr/lib/nltk_data'\n",
      "    - '/usr/local/lib/nltk_data'\n",
      "**********************************************************************\n",
      "\n"
     ]
    },
    {
     "data": {
      "application/vnd.jupyter.widget-view+json": {
       "model_id": "e9e8e3059a5a48cb95a38b3b76f74c26",
       "version_major": 2,
       "version_minor": 0
      },
      "text/plain": [
       "Batches:   0%|          | 0/1 [00:00<?, ?it/s]"
      ]
     },
     "metadata": {},
     "output_type": "display_data"
    },
    {
     "data": {
      "application/vnd.jupyter.widget-view+json": {
       "model_id": "94a0ce79a3c24559a6afd04b2cee770e",
       "version_major": 2,
       "version_minor": 0
      },
      "text/plain": [
       "Batches:   0%|          | 0/1 [00:00<?, ?it/s]"
      ]
     },
     "metadata": {},
     "output_type": "display_data"
    },
    {
     "name": "stderr",
     "output_type": "stream",
     "text": [
      "2025-05-12 21:52:43,635 - __main__ - ERROR - Error computing BERT similarity: 'float' object is not subscriptable\n",
      "2025-05-12 21:52:43,636 - __main__ - ERROR - Error computing BLEU score: \n",
      "**********************************************************************\n",
      "  Resource \u001b[93mpunkt_tab\u001b[0m not found.\n",
      "  Please use the NLTK Downloader to obtain the resource:\n",
      "\n",
      "  \u001b[31m>>> import nltk\n",
      "  >>> nltk.download('punkt_tab')\n",
      "  \u001b[0m\n",
      "  For more information see: https://www.nltk.org/data.html\n",
      "\n",
      "  Attempted to load \u001b[93mtokenizers/punkt_tab/english/\u001b[0m\n",
      "\n",
      "  Searched in:\n",
      "    - '/Users/bhargav/nltk_data'\n",
      "    - '/Library/Frameworks/Python.framework/Versions/3.13/nltk_data'\n",
      "    - '/Library/Frameworks/Python.framework/Versions/3.13/share/nltk_data'\n",
      "    - '/Library/Frameworks/Python.framework/Versions/3.13/lib/nltk_data'\n",
      "    - '/usr/share/nltk_data'\n",
      "    - '/usr/local/share/nltk_data'\n",
      "    - '/usr/lib/nltk_data'\n",
      "    - '/usr/local/lib/nltk_data'\n",
      "**********************************************************************\n",
      "\n",
      "2025-05-12 21:52:43,636 - __main__ - ERROR - Error computing ROUGE scores: \n",
      "2025-05-12 21:52:43,636 - __main__ - ERROR - Error computing Levenshtein similarity: object of type 'float' has no len()\n",
      "2025-05-12 21:52:43,637 - __main__ - ERROR - Error computing Jaccard similarity: \n",
      "**********************************************************************\n",
      "  Resource \u001b[93mpunkt_tab\u001b[0m not found.\n",
      "  Please use the NLTK Downloader to obtain the resource:\n",
      "\n",
      "  \u001b[31m>>> import nltk\n",
      "  >>> nltk.download('punkt_tab')\n",
      "  \u001b[0m\n",
      "  For more information see: https://www.nltk.org/data.html\n",
      "\n",
      "  Attempted to load \u001b[93mtokenizers/punkt_tab/english/\u001b[0m\n",
      "\n",
      "  Searched in:\n",
      "    - '/Users/bhargav/nltk_data'\n",
      "    - '/Library/Frameworks/Python.framework/Versions/3.13/nltk_data'\n",
      "    - '/Library/Frameworks/Python.framework/Versions/3.13/share/nltk_data'\n",
      "    - '/Library/Frameworks/Python.framework/Versions/3.13/lib/nltk_data'\n",
      "    - '/usr/share/nltk_data'\n",
      "    - '/usr/local/share/nltk_data'\n",
      "    - '/usr/lib/nltk_data'\n",
      "    - '/usr/local/lib/nltk_data'\n",
      "**********************************************************************\n",
      "\n"
     ]
    },
    {
     "data": {
      "application/vnd.jupyter.widget-view+json": {
       "model_id": "928ae225476243189c99599fd5de86cb",
       "version_major": 2,
       "version_minor": 0
      },
      "text/plain": [
       "Batches:   0%|          | 0/1 [00:00<?, ?it/s]"
      ]
     },
     "metadata": {},
     "output_type": "display_data"
    },
    {
     "data": {
      "application/vnd.jupyter.widget-view+json": {
       "model_id": "5319a24a142842ce81caf1a7384c9d6e",
       "version_major": 2,
       "version_minor": 0
      },
      "text/plain": [
       "Batches:   0%|          | 0/1 [00:00<?, ?it/s]"
      ]
     },
     "metadata": {},
     "output_type": "display_data"
    },
    {
     "name": "stderr",
     "output_type": "stream",
     "text": [
      "2025-05-12 21:52:43,652 - __main__ - ERROR - Error computing BERT similarity: 'float' object is not subscriptable\n",
      "2025-05-12 21:52:43,654 - __main__ - ERROR - Error computing BLEU score: \n",
      "**********************************************************************\n",
      "  Resource \u001b[93mpunkt_tab\u001b[0m not found.\n",
      "  Please use the NLTK Downloader to obtain the resource:\n",
      "\n",
      "  \u001b[31m>>> import nltk\n",
      "  >>> nltk.download('punkt_tab')\n",
      "  \u001b[0m\n",
      "  For more information see: https://www.nltk.org/data.html\n",
      "\n",
      "  Attempted to load \u001b[93mtokenizers/punkt_tab/english/\u001b[0m\n",
      "\n",
      "  Searched in:\n",
      "    - '/Users/bhargav/nltk_data'\n",
      "    - '/Library/Frameworks/Python.framework/Versions/3.13/nltk_data'\n",
      "    - '/Library/Frameworks/Python.framework/Versions/3.13/share/nltk_data'\n",
      "    - '/Library/Frameworks/Python.framework/Versions/3.13/lib/nltk_data'\n",
      "    - '/usr/share/nltk_data'\n",
      "    - '/usr/local/share/nltk_data'\n",
      "    - '/usr/lib/nltk_data'\n",
      "    - '/usr/local/lib/nltk_data'\n",
      "**********************************************************************\n",
      "\n",
      "2025-05-12 21:52:43,654 - __main__ - ERROR - Error computing ROUGE scores: \n",
      "2025-05-12 21:52:43,654 - __main__ - ERROR - Error computing Levenshtein similarity: object of type 'float' has no len()\n",
      "2025-05-12 21:52:43,655 - __main__ - ERROR - Error computing Jaccard similarity: \n",
      "**********************************************************************\n",
      "  Resource \u001b[93mpunkt_tab\u001b[0m not found.\n",
      "  Please use the NLTK Downloader to obtain the resource:\n",
      "\n",
      "  \u001b[31m>>> import nltk\n",
      "  >>> nltk.download('punkt_tab')\n",
      "  \u001b[0m\n",
      "  For more information see: https://www.nltk.org/data.html\n",
      "\n",
      "  Attempted to load \u001b[93mtokenizers/punkt_tab/english/\u001b[0m\n",
      "\n",
      "  Searched in:\n",
      "    - '/Users/bhargav/nltk_data'\n",
      "    - '/Library/Frameworks/Python.framework/Versions/3.13/nltk_data'\n",
      "    - '/Library/Frameworks/Python.framework/Versions/3.13/share/nltk_data'\n",
      "    - '/Library/Frameworks/Python.framework/Versions/3.13/lib/nltk_data'\n",
      "    - '/usr/share/nltk_data'\n",
      "    - '/usr/local/share/nltk_data'\n",
      "    - '/usr/lib/nltk_data'\n",
      "    - '/usr/local/lib/nltk_data'\n",
      "**********************************************************************\n",
      "\n"
     ]
    },
    {
     "data": {
      "application/vnd.jupyter.widget-view+json": {
       "model_id": "6886cb1c0d074b97858b801189a91054",
       "version_major": 2,
       "version_minor": 0
      },
      "text/plain": [
       "Batches:   0%|          | 0/1 [00:00<?, ?it/s]"
      ]
     },
     "metadata": {},
     "output_type": "display_data"
    },
    {
     "data": {
      "application/vnd.jupyter.widget-view+json": {
       "model_id": "8cd355df7b694314932dcc9b464a5c53",
       "version_major": 2,
       "version_minor": 0
      },
      "text/plain": [
       "Batches:   0%|          | 0/1 [00:00<?, ?it/s]"
      ]
     },
     "metadata": {},
     "output_type": "display_data"
    },
    {
     "name": "stderr",
     "output_type": "stream",
     "text": [
      "2025-05-12 21:52:43,666 - __main__ - ERROR - Error computing BERT similarity: 'float' object is not subscriptable\n",
      "2025-05-12 21:52:43,667 - __main__ - ERROR - Error computing BLEU score: \n",
      "**********************************************************************\n",
      "  Resource \u001b[93mpunkt_tab\u001b[0m not found.\n",
      "  Please use the NLTK Downloader to obtain the resource:\n",
      "\n",
      "  \u001b[31m>>> import nltk\n",
      "  >>> nltk.download('punkt_tab')\n",
      "  \u001b[0m\n",
      "  For more information see: https://www.nltk.org/data.html\n",
      "\n",
      "  Attempted to load \u001b[93mtokenizers/punkt_tab/english/\u001b[0m\n",
      "\n",
      "  Searched in:\n",
      "    - '/Users/bhargav/nltk_data'\n",
      "    - '/Library/Frameworks/Python.framework/Versions/3.13/nltk_data'\n",
      "    - '/Library/Frameworks/Python.framework/Versions/3.13/share/nltk_data'\n",
      "    - '/Library/Frameworks/Python.framework/Versions/3.13/lib/nltk_data'\n",
      "    - '/usr/share/nltk_data'\n",
      "    - '/usr/local/share/nltk_data'\n",
      "    - '/usr/lib/nltk_data'\n",
      "    - '/usr/local/lib/nltk_data'\n",
      "**********************************************************************\n",
      "\n",
      "2025-05-12 21:52:43,668 - __main__ - ERROR - Error computing ROUGE scores: \n",
      "2025-05-12 21:52:43,668 - __main__ - ERROR - Error computing Levenshtein similarity: object of type 'float' has no len()\n",
      "2025-05-12 21:52:43,669 - __main__ - ERROR - Error computing Jaccard similarity: \n",
      "**********************************************************************\n",
      "  Resource \u001b[93mpunkt_tab\u001b[0m not found.\n",
      "  Please use the NLTK Downloader to obtain the resource:\n",
      "\n",
      "  \u001b[31m>>> import nltk\n",
      "  >>> nltk.download('punkt_tab')\n",
      "  \u001b[0m\n",
      "  For more information see: https://www.nltk.org/data.html\n",
      "\n",
      "  Attempted to load \u001b[93mtokenizers/punkt_tab/english/\u001b[0m\n",
      "\n",
      "  Searched in:\n",
      "    - '/Users/bhargav/nltk_data'\n",
      "    - '/Library/Frameworks/Python.framework/Versions/3.13/nltk_data'\n",
      "    - '/Library/Frameworks/Python.framework/Versions/3.13/share/nltk_data'\n",
      "    - '/Library/Frameworks/Python.framework/Versions/3.13/lib/nltk_data'\n",
      "    - '/usr/share/nltk_data'\n",
      "    - '/usr/local/share/nltk_data'\n",
      "    - '/usr/lib/nltk_data'\n",
      "    - '/usr/local/lib/nltk_data'\n",
      "**********************************************************************\n",
      "\n"
     ]
    },
    {
     "data": {
      "application/vnd.jupyter.widget-view+json": {
       "model_id": "450983e1bd0942d99ab0b4d90c5ac3e2",
       "version_major": 2,
       "version_minor": 0
      },
      "text/plain": [
       "Batches:   0%|          | 0/1 [00:00<?, ?it/s]"
      ]
     },
     "metadata": {},
     "output_type": "display_data"
    },
    {
     "data": {
      "application/vnd.jupyter.widget-view+json": {
       "model_id": "ff7ee8f24f004fadb006814f72c042fb",
       "version_major": 2,
       "version_minor": 0
      },
      "text/plain": [
       "Batches:   0%|          | 0/1 [00:00<?, ?it/s]"
      ]
     },
     "metadata": {},
     "output_type": "display_data"
    },
    {
     "name": "stderr",
     "output_type": "stream",
     "text": [
      "2025-05-12 21:52:43,681 - __main__ - ERROR - Error computing BERT similarity: 'float' object is not subscriptable\n",
      "2025-05-12 21:52:43,682 - __main__ - ERROR - Error computing BLEU score: \n",
      "**********************************************************************\n",
      "  Resource \u001b[93mpunkt_tab\u001b[0m not found.\n",
      "  Please use the NLTK Downloader to obtain the resource:\n",
      "\n",
      "  \u001b[31m>>> import nltk\n",
      "  >>> nltk.download('punkt_tab')\n",
      "  \u001b[0m\n",
      "  For more information see: https://www.nltk.org/data.html\n",
      "\n",
      "  Attempted to load \u001b[93mtokenizers/punkt_tab/english/\u001b[0m\n",
      "\n",
      "  Searched in:\n",
      "    - '/Users/bhargav/nltk_data'\n",
      "    - '/Library/Frameworks/Python.framework/Versions/3.13/nltk_data'\n",
      "    - '/Library/Frameworks/Python.framework/Versions/3.13/share/nltk_data'\n",
      "    - '/Library/Frameworks/Python.framework/Versions/3.13/lib/nltk_data'\n",
      "    - '/usr/share/nltk_data'\n",
      "    - '/usr/local/share/nltk_data'\n",
      "    - '/usr/lib/nltk_data'\n",
      "    - '/usr/local/lib/nltk_data'\n",
      "**********************************************************************\n",
      "\n",
      "2025-05-12 21:52:43,682 - __main__ - ERROR - Error computing ROUGE scores: \n",
      "2025-05-12 21:52:43,682 - __main__ - ERROR - Error computing Levenshtein similarity: object of type 'float' has no len()\n",
      "2025-05-12 21:52:43,683 - __main__ - ERROR - Error computing Jaccard similarity: \n",
      "**********************************************************************\n",
      "  Resource \u001b[93mpunkt_tab\u001b[0m not found.\n",
      "  Please use the NLTK Downloader to obtain the resource:\n",
      "\n",
      "  \u001b[31m>>> import nltk\n",
      "  >>> nltk.download('punkt_tab')\n",
      "  \u001b[0m\n",
      "  For more information see: https://www.nltk.org/data.html\n",
      "\n",
      "  Attempted to load \u001b[93mtokenizers/punkt_tab/english/\u001b[0m\n",
      "\n",
      "  Searched in:\n",
      "    - '/Users/bhargav/nltk_data'\n",
      "    - '/Library/Frameworks/Python.framework/Versions/3.13/nltk_data'\n",
      "    - '/Library/Frameworks/Python.framework/Versions/3.13/share/nltk_data'\n",
      "    - '/Library/Frameworks/Python.framework/Versions/3.13/lib/nltk_data'\n",
      "    - '/usr/share/nltk_data'\n",
      "    - '/usr/local/share/nltk_data'\n",
      "    - '/usr/lib/nltk_data'\n",
      "    - '/usr/local/lib/nltk_data'\n",
      "**********************************************************************\n",
      "\n"
     ]
    },
    {
     "data": {
      "application/vnd.jupyter.widget-view+json": {
       "model_id": "ee1cd46f613e4f0387b015b736cb5387",
       "version_major": 2,
       "version_minor": 0
      },
      "text/plain": [
       "Batches:   0%|          | 0/1 [00:00<?, ?it/s]"
      ]
     },
     "metadata": {},
     "output_type": "display_data"
    },
    {
     "data": {
      "application/vnd.jupyter.widget-view+json": {
       "model_id": "d8f0030755974f16ae68cc2df3d8872f",
       "version_major": 2,
       "version_minor": 0
      },
      "text/plain": [
       "Batches:   0%|          | 0/1 [00:00<?, ?it/s]"
      ]
     },
     "metadata": {},
     "output_type": "display_data"
    },
    {
     "name": "stderr",
     "output_type": "stream",
     "text": [
      "2025-05-12 21:52:43,698 - __main__ - ERROR - Error computing BERT similarity: 'float' object is not subscriptable\n",
      "Computing mistral_clean_similarities:  90%|██▋| 103/115 [00:02<00:00, 41.74it/s]2025-05-12 21:52:43,700 - __main__ - ERROR - Error computing BLEU score: \n",
      "**********************************************************************\n",
      "  Resource \u001b[93mpunkt_tab\u001b[0m not found.\n",
      "  Please use the NLTK Downloader to obtain the resource:\n",
      "\n",
      "  \u001b[31m>>> import nltk\n",
      "  >>> nltk.download('punkt_tab')\n",
      "  \u001b[0m\n",
      "  For more information see: https://www.nltk.org/data.html\n",
      "\n",
      "  Attempted to load \u001b[93mtokenizers/punkt_tab/english/\u001b[0m\n",
      "\n",
      "  Searched in:\n",
      "    - '/Users/bhargav/nltk_data'\n",
      "    - '/Library/Frameworks/Python.framework/Versions/3.13/nltk_data'\n",
      "    - '/Library/Frameworks/Python.framework/Versions/3.13/share/nltk_data'\n",
      "    - '/Library/Frameworks/Python.framework/Versions/3.13/lib/nltk_data'\n",
      "    - '/usr/share/nltk_data'\n",
      "    - '/usr/local/share/nltk_data'\n",
      "    - '/usr/lib/nltk_data'\n",
      "    - '/usr/local/lib/nltk_data'\n",
      "**********************************************************************\n",
      "\n",
      "2025-05-12 21:52:43,700 - __main__ - ERROR - Error computing ROUGE scores: \n",
      "2025-05-12 21:52:43,700 - __main__ - ERROR - Error computing Levenshtein similarity: object of type 'float' has no len()\n",
      "2025-05-12 21:52:43,701 - __main__ - ERROR - Error computing Jaccard similarity: \n",
      "**********************************************************************\n",
      "  Resource \u001b[93mpunkt_tab\u001b[0m not found.\n",
      "  Please use the NLTK Downloader to obtain the resource:\n",
      "\n",
      "  \u001b[31m>>> import nltk\n",
      "  >>> nltk.download('punkt_tab')\n",
      "  \u001b[0m\n",
      "  For more information see: https://www.nltk.org/data.html\n",
      "\n",
      "  Attempted to load \u001b[93mtokenizers/punkt_tab/english/\u001b[0m\n",
      "\n",
      "  Searched in:\n",
      "    - '/Users/bhargav/nltk_data'\n",
      "    - '/Library/Frameworks/Python.framework/Versions/3.13/nltk_data'\n",
      "    - '/Library/Frameworks/Python.framework/Versions/3.13/share/nltk_data'\n",
      "    - '/Library/Frameworks/Python.framework/Versions/3.13/lib/nltk_data'\n",
      "    - '/usr/share/nltk_data'\n",
      "    - '/usr/local/share/nltk_data'\n",
      "    - '/usr/lib/nltk_data'\n",
      "    - '/usr/local/lib/nltk_data'\n",
      "**********************************************************************\n",
      "\n"
     ]
    },
    {
     "data": {
      "application/vnd.jupyter.widget-view+json": {
       "model_id": "0affbf931bdc45309a5ce1001764ea2f",
       "version_major": 2,
       "version_minor": 0
      },
      "text/plain": [
       "Batches:   0%|          | 0/1 [00:00<?, ?it/s]"
      ]
     },
     "metadata": {},
     "output_type": "display_data"
    },
    {
     "data": {
      "application/vnd.jupyter.widget-view+json": {
       "model_id": "a81b5db58ac64ff48845bd7d31db1c68",
       "version_major": 2,
       "version_minor": 0
      },
      "text/plain": [
       "Batches:   0%|          | 0/1 [00:00<?, ?it/s]"
      ]
     },
     "metadata": {},
     "output_type": "display_data"
    },
    {
     "name": "stderr",
     "output_type": "stream",
     "text": [
      "2025-05-12 21:52:43,716 - __main__ - ERROR - Error computing BERT similarity: 'float' object is not subscriptable\n",
      "2025-05-12 21:52:43,718 - __main__ - ERROR - Error computing BLEU score: \n",
      "**********************************************************************\n",
      "  Resource \u001b[93mpunkt_tab\u001b[0m not found.\n",
      "  Please use the NLTK Downloader to obtain the resource:\n",
      "\n",
      "  \u001b[31m>>> import nltk\n",
      "  >>> nltk.download('punkt_tab')\n",
      "  \u001b[0m\n",
      "  For more information see: https://www.nltk.org/data.html\n",
      "\n",
      "  Attempted to load \u001b[93mtokenizers/punkt_tab/english/\u001b[0m\n",
      "\n",
      "  Searched in:\n",
      "    - '/Users/bhargav/nltk_data'\n",
      "    - '/Library/Frameworks/Python.framework/Versions/3.13/nltk_data'\n",
      "    - '/Library/Frameworks/Python.framework/Versions/3.13/share/nltk_data'\n",
      "    - '/Library/Frameworks/Python.framework/Versions/3.13/lib/nltk_data'\n",
      "    - '/usr/share/nltk_data'\n",
      "    - '/usr/local/share/nltk_data'\n",
      "    - '/usr/lib/nltk_data'\n",
      "    - '/usr/local/lib/nltk_data'\n",
      "**********************************************************************\n",
      "\n",
      "2025-05-12 21:52:43,718 - __main__ - ERROR - Error computing ROUGE scores: \n",
      "2025-05-12 21:52:43,719 - __main__ - ERROR - Error computing Levenshtein similarity: object of type 'float' has no len()\n",
      "2025-05-12 21:52:43,720 - __main__ - ERROR - Error computing Jaccard similarity: \n",
      "**********************************************************************\n",
      "  Resource \u001b[93mpunkt_tab\u001b[0m not found.\n",
      "  Please use the NLTK Downloader to obtain the resource:\n",
      "\n",
      "  \u001b[31m>>> import nltk\n",
      "  >>> nltk.download('punkt_tab')\n",
      "  \u001b[0m\n",
      "  For more information see: https://www.nltk.org/data.html\n",
      "\n",
      "  Attempted to load \u001b[93mtokenizers/punkt_tab/english/\u001b[0m\n",
      "\n",
      "  Searched in:\n",
      "    - '/Users/bhargav/nltk_data'\n",
      "    - '/Library/Frameworks/Python.framework/Versions/3.13/nltk_data'\n",
      "    - '/Library/Frameworks/Python.framework/Versions/3.13/share/nltk_data'\n",
      "    - '/Library/Frameworks/Python.framework/Versions/3.13/lib/nltk_data'\n",
      "    - '/usr/share/nltk_data'\n",
      "    - '/usr/local/share/nltk_data'\n",
      "    - '/usr/lib/nltk_data'\n",
      "    - '/usr/local/lib/nltk_data'\n",
      "**********************************************************************\n",
      "\n"
     ]
    },
    {
     "data": {
      "application/vnd.jupyter.widget-view+json": {
       "model_id": "93db505fa50240ae81a086ce432880e9",
       "version_major": 2,
       "version_minor": 0
      },
      "text/plain": [
       "Batches:   0%|          | 0/1 [00:00<?, ?it/s]"
      ]
     },
     "metadata": {},
     "output_type": "display_data"
    },
    {
     "data": {
      "application/vnd.jupyter.widget-view+json": {
       "model_id": "9c90231205da43d5bc3d1df0f67d7137",
       "version_major": 2,
       "version_minor": 0
      },
      "text/plain": [
       "Batches:   0%|          | 0/1 [00:00<?, ?it/s]"
      ]
     },
     "metadata": {},
     "output_type": "display_data"
    },
    {
     "name": "stderr",
     "output_type": "stream",
     "text": [
      "2025-05-12 21:52:43,744 - __main__ - ERROR - Error computing BERT similarity: 'float' object is not subscriptable\n",
      "2025-05-12 21:52:43,745 - __main__ - ERROR - Error computing BLEU score: \n",
      "**********************************************************************\n",
      "  Resource \u001b[93mpunkt_tab\u001b[0m not found.\n",
      "  Please use the NLTK Downloader to obtain the resource:\n",
      "\n",
      "  \u001b[31m>>> import nltk\n",
      "  >>> nltk.download('punkt_tab')\n",
      "  \u001b[0m\n",
      "  For more information see: https://www.nltk.org/data.html\n",
      "\n",
      "  Attempted to load \u001b[93mtokenizers/punkt_tab/english/\u001b[0m\n",
      "\n",
      "  Searched in:\n",
      "    - '/Users/bhargav/nltk_data'\n",
      "    - '/Library/Frameworks/Python.framework/Versions/3.13/nltk_data'\n",
      "    - '/Library/Frameworks/Python.framework/Versions/3.13/share/nltk_data'\n",
      "    - '/Library/Frameworks/Python.framework/Versions/3.13/lib/nltk_data'\n",
      "    - '/usr/share/nltk_data'\n",
      "    - '/usr/local/share/nltk_data'\n",
      "    - '/usr/lib/nltk_data'\n",
      "    - '/usr/local/lib/nltk_data'\n",
      "**********************************************************************\n",
      "\n",
      "2025-05-12 21:52:43,745 - __main__ - ERROR - Error computing ROUGE scores: \n",
      "2025-05-12 21:52:43,746 - __main__ - ERROR - Error computing Levenshtein similarity: object of type 'float' has no len()\n",
      "2025-05-12 21:52:43,747 - __main__ - ERROR - Error computing Jaccard similarity: \n",
      "**********************************************************************\n",
      "  Resource \u001b[93mpunkt_tab\u001b[0m not found.\n",
      "  Please use the NLTK Downloader to obtain the resource:\n",
      "\n",
      "  \u001b[31m>>> import nltk\n",
      "  >>> nltk.download('punkt_tab')\n",
      "  \u001b[0m\n",
      "  For more information see: https://www.nltk.org/data.html\n",
      "\n",
      "  Attempted to load \u001b[93mtokenizers/punkt_tab/english/\u001b[0m\n",
      "\n",
      "  Searched in:\n",
      "    - '/Users/bhargav/nltk_data'\n",
      "    - '/Library/Frameworks/Python.framework/Versions/3.13/nltk_data'\n",
      "    - '/Library/Frameworks/Python.framework/Versions/3.13/share/nltk_data'\n",
      "    - '/Library/Frameworks/Python.framework/Versions/3.13/lib/nltk_data'\n",
      "    - '/usr/share/nltk_data'\n",
      "    - '/usr/local/share/nltk_data'\n",
      "    - '/usr/lib/nltk_data'\n",
      "    - '/usr/local/lib/nltk_data'\n",
      "**********************************************************************\n",
      "\n"
     ]
    },
    {
     "data": {
      "application/vnd.jupyter.widget-view+json": {
       "model_id": "03149c3df72f4ca7a173ff07035e51f0",
       "version_major": 2,
       "version_minor": 0
      },
      "text/plain": [
       "Batches:   0%|          | 0/1 [00:00<?, ?it/s]"
      ]
     },
     "metadata": {},
     "output_type": "display_data"
    },
    {
     "data": {
      "application/vnd.jupyter.widget-view+json": {
       "model_id": "7025417657c344d9a1ebd09cfd0c27bd",
       "version_major": 2,
       "version_minor": 0
      },
      "text/plain": [
       "Batches:   0%|          | 0/1 [00:00<?, ?it/s]"
      ]
     },
     "metadata": {},
     "output_type": "display_data"
    },
    {
     "name": "stderr",
     "output_type": "stream",
     "text": [
      "2025-05-12 21:52:43,763 - __main__ - ERROR - Error computing BERT similarity: 'float' object is not subscriptable\n",
      "2025-05-12 21:52:43,765 - __main__ - ERROR - Error computing BLEU score: \n",
      "**********************************************************************\n",
      "  Resource \u001b[93mpunkt_tab\u001b[0m not found.\n",
      "  Please use the NLTK Downloader to obtain the resource:\n",
      "\n",
      "  \u001b[31m>>> import nltk\n",
      "  >>> nltk.download('punkt_tab')\n",
      "  \u001b[0m\n",
      "  For more information see: https://www.nltk.org/data.html\n",
      "\n",
      "  Attempted to load \u001b[93mtokenizers/punkt_tab/english/\u001b[0m\n",
      "\n",
      "  Searched in:\n",
      "    - '/Users/bhargav/nltk_data'\n",
      "    - '/Library/Frameworks/Python.framework/Versions/3.13/nltk_data'\n",
      "    - '/Library/Frameworks/Python.framework/Versions/3.13/share/nltk_data'\n",
      "    - '/Library/Frameworks/Python.framework/Versions/3.13/lib/nltk_data'\n",
      "    - '/usr/share/nltk_data'\n",
      "    - '/usr/local/share/nltk_data'\n",
      "    - '/usr/lib/nltk_data'\n",
      "    - '/usr/local/lib/nltk_data'\n",
      "**********************************************************************\n",
      "\n",
      "2025-05-12 21:52:43,765 - __main__ - ERROR - Error computing ROUGE scores: \n",
      "2025-05-12 21:52:43,765 - __main__ - ERROR - Error computing Levenshtein similarity: object of type 'float' has no len()\n",
      "2025-05-12 21:52:43,766 - __main__ - ERROR - Error computing Jaccard similarity: \n",
      "**********************************************************************\n",
      "  Resource \u001b[93mpunkt_tab\u001b[0m not found.\n",
      "  Please use the NLTK Downloader to obtain the resource:\n",
      "\n",
      "  \u001b[31m>>> import nltk\n",
      "  >>> nltk.download('punkt_tab')\n",
      "  \u001b[0m\n",
      "  For more information see: https://www.nltk.org/data.html\n",
      "\n",
      "  Attempted to load \u001b[93mtokenizers/punkt_tab/english/\u001b[0m\n",
      "\n",
      "  Searched in:\n",
      "    - '/Users/bhargav/nltk_data'\n",
      "    - '/Library/Frameworks/Python.framework/Versions/3.13/nltk_data'\n",
      "    - '/Library/Frameworks/Python.framework/Versions/3.13/share/nltk_data'\n",
      "    - '/Library/Frameworks/Python.framework/Versions/3.13/lib/nltk_data'\n",
      "    - '/usr/share/nltk_data'\n",
      "    - '/usr/local/share/nltk_data'\n",
      "    - '/usr/lib/nltk_data'\n",
      "    - '/usr/local/lib/nltk_data'\n",
      "**********************************************************************\n",
      "\n"
     ]
    },
    {
     "data": {
      "application/vnd.jupyter.widget-view+json": {
       "model_id": "7ebaecae9e0943f5aaeee9c6ff3c1b76",
       "version_major": 2,
       "version_minor": 0
      },
      "text/plain": [
       "Batches:   0%|          | 0/1 [00:00<?, ?it/s]"
      ]
     },
     "metadata": {},
     "output_type": "display_data"
    },
    {
     "data": {
      "application/vnd.jupyter.widget-view+json": {
       "model_id": "c8975412e0254f968120a7250868fdd3",
       "version_major": 2,
       "version_minor": 0
      },
      "text/plain": [
       "Batches:   0%|          | 0/1 [00:00<?, ?it/s]"
      ]
     },
     "metadata": {},
     "output_type": "display_data"
    },
    {
     "name": "stderr",
     "output_type": "stream",
     "text": [
      "2025-05-12 21:52:43,779 - __main__ - ERROR - Error computing BERT similarity: 'float' object is not subscriptable\n",
      "2025-05-12 21:52:43,780 - __main__ - ERROR - Error computing BLEU score: \n",
      "**********************************************************************\n",
      "  Resource \u001b[93mpunkt_tab\u001b[0m not found.\n",
      "  Please use the NLTK Downloader to obtain the resource:\n",
      "\n",
      "  \u001b[31m>>> import nltk\n",
      "  >>> nltk.download('punkt_tab')\n",
      "  \u001b[0m\n",
      "  For more information see: https://www.nltk.org/data.html\n",
      "\n",
      "  Attempted to load \u001b[93mtokenizers/punkt_tab/english/\u001b[0m\n",
      "\n",
      "  Searched in:\n",
      "    - '/Users/bhargav/nltk_data'\n",
      "    - '/Library/Frameworks/Python.framework/Versions/3.13/nltk_data'\n",
      "    - '/Library/Frameworks/Python.framework/Versions/3.13/share/nltk_data'\n",
      "    - '/Library/Frameworks/Python.framework/Versions/3.13/lib/nltk_data'\n",
      "    - '/usr/share/nltk_data'\n",
      "    - '/usr/local/share/nltk_data'\n",
      "    - '/usr/lib/nltk_data'\n",
      "    - '/usr/local/lib/nltk_data'\n",
      "**********************************************************************\n",
      "\n",
      "2025-05-12 21:52:43,780 - __main__ - ERROR - Error computing ROUGE scores: \n",
      "2025-05-12 21:52:43,780 - __main__ - ERROR - Error computing Levenshtein similarity: object of type 'float' has no len()\n",
      "2025-05-12 21:52:43,781 - __main__ - ERROR - Error computing Jaccard similarity: \n",
      "**********************************************************************\n",
      "  Resource \u001b[93mpunkt_tab\u001b[0m not found.\n",
      "  Please use the NLTK Downloader to obtain the resource:\n",
      "\n",
      "  \u001b[31m>>> import nltk\n",
      "  >>> nltk.download('punkt_tab')\n",
      "  \u001b[0m\n",
      "  For more information see: https://www.nltk.org/data.html\n",
      "\n",
      "  Attempted to load \u001b[93mtokenizers/punkt_tab/english/\u001b[0m\n",
      "\n",
      "  Searched in:\n",
      "    - '/Users/bhargav/nltk_data'\n",
      "    - '/Library/Frameworks/Python.framework/Versions/3.13/nltk_data'\n",
      "    - '/Library/Frameworks/Python.framework/Versions/3.13/share/nltk_data'\n",
      "    - '/Library/Frameworks/Python.framework/Versions/3.13/lib/nltk_data'\n",
      "    - '/usr/share/nltk_data'\n",
      "    - '/usr/local/share/nltk_data'\n",
      "    - '/usr/lib/nltk_data'\n",
      "    - '/usr/local/lib/nltk_data'\n",
      "**********************************************************************\n",
      "\n"
     ]
    },
    {
     "data": {
      "application/vnd.jupyter.widget-view+json": {
       "model_id": "72ce3a56efbf415b8fd1d0018c96a64a",
       "version_major": 2,
       "version_minor": 0
      },
      "text/plain": [
       "Batches:   0%|          | 0/1 [00:00<?, ?it/s]"
      ]
     },
     "metadata": {},
     "output_type": "display_data"
    },
    {
     "data": {
      "application/vnd.jupyter.widget-view+json": {
       "model_id": "8fa3bfe57e2a41fcbf56221397499692",
       "version_major": 2,
       "version_minor": 0
      },
      "text/plain": [
       "Batches:   0%|          | 0/1 [00:00<?, ?it/s]"
      ]
     },
     "metadata": {},
     "output_type": "display_data"
    },
    {
     "name": "stderr",
     "output_type": "stream",
     "text": [
      "2025-05-12 21:52:43,799 - __main__ - ERROR - Error computing BERT similarity: 'float' object is not subscriptable\n",
      "2025-05-12 21:52:43,801 - __main__ - ERROR - Error computing BLEU score: \n",
      "**********************************************************************\n",
      "  Resource \u001b[93mpunkt_tab\u001b[0m not found.\n",
      "  Please use the NLTK Downloader to obtain the resource:\n",
      "\n",
      "  \u001b[31m>>> import nltk\n",
      "  >>> nltk.download('punkt_tab')\n",
      "  \u001b[0m\n",
      "  For more information see: https://www.nltk.org/data.html\n",
      "\n",
      "  Attempted to load \u001b[93mtokenizers/punkt_tab/english/\u001b[0m\n",
      "\n",
      "  Searched in:\n",
      "    - '/Users/bhargav/nltk_data'\n",
      "    - '/Library/Frameworks/Python.framework/Versions/3.13/nltk_data'\n",
      "    - '/Library/Frameworks/Python.framework/Versions/3.13/share/nltk_data'\n",
      "    - '/Library/Frameworks/Python.framework/Versions/3.13/lib/nltk_data'\n",
      "    - '/usr/share/nltk_data'\n",
      "    - '/usr/local/share/nltk_data'\n",
      "    - '/usr/lib/nltk_data'\n",
      "    - '/usr/local/lib/nltk_data'\n",
      "**********************************************************************\n",
      "\n",
      "2025-05-12 21:52:43,801 - __main__ - ERROR - Error computing ROUGE scores: \n",
      "2025-05-12 21:52:43,801 - __main__ - ERROR - Error computing Levenshtein similarity: object of type 'float' has no len()\n",
      "2025-05-12 21:52:43,802 - __main__ - ERROR - Error computing Jaccard similarity: \n",
      "**********************************************************************\n",
      "  Resource \u001b[93mpunkt_tab\u001b[0m not found.\n",
      "  Please use the NLTK Downloader to obtain the resource:\n",
      "\n",
      "  \u001b[31m>>> import nltk\n",
      "  >>> nltk.download('punkt_tab')\n",
      "  \u001b[0m\n",
      "  For more information see: https://www.nltk.org/data.html\n",
      "\n",
      "  Attempted to load \u001b[93mtokenizers/punkt_tab/english/\u001b[0m\n",
      "\n",
      "  Searched in:\n",
      "    - '/Users/bhargav/nltk_data'\n",
      "    - '/Library/Frameworks/Python.framework/Versions/3.13/nltk_data'\n",
      "    - '/Library/Frameworks/Python.framework/Versions/3.13/share/nltk_data'\n",
      "    - '/Library/Frameworks/Python.framework/Versions/3.13/lib/nltk_data'\n",
      "    - '/usr/share/nltk_data'\n",
      "    - '/usr/local/share/nltk_data'\n",
      "    - '/usr/lib/nltk_data'\n",
      "    - '/usr/local/lib/nltk_data'\n",
      "**********************************************************************\n",
      "\n"
     ]
    },
    {
     "data": {
      "application/vnd.jupyter.widget-view+json": {
       "model_id": "fe96166c37ce4a7dbf87cfa72b354f02",
       "version_major": 2,
       "version_minor": 0
      },
      "text/plain": [
       "Batches:   0%|          | 0/1 [00:00<?, ?it/s]"
      ]
     },
     "metadata": {},
     "output_type": "display_data"
    },
    {
     "data": {
      "application/vnd.jupyter.widget-view+json": {
       "model_id": "ceae9bea3aad415087935ea3dc73a761",
       "version_major": 2,
       "version_minor": 0
      },
      "text/plain": [
       "Batches:   0%|          | 0/1 [00:00<?, ?it/s]"
      ]
     },
     "metadata": {},
     "output_type": "display_data"
    },
    {
     "name": "stderr",
     "output_type": "stream",
     "text": [
      "2025-05-12 21:52:43,814 - __main__ - ERROR - Error computing BERT similarity: 'float' object is not subscriptable\n",
      "Computing mistral_clean_similarities:  95%|██▊| 109/115 [00:02<00:00, 44.18it/s]2025-05-12 21:52:43,815 - __main__ - ERROR - Error computing BLEU score: \n",
      "**********************************************************************\n",
      "  Resource \u001b[93mpunkt_tab\u001b[0m not found.\n",
      "  Please use the NLTK Downloader to obtain the resource:\n",
      "\n",
      "  \u001b[31m>>> import nltk\n",
      "  >>> nltk.download('punkt_tab')\n",
      "  \u001b[0m\n",
      "  For more information see: https://www.nltk.org/data.html\n",
      "\n",
      "  Attempted to load \u001b[93mtokenizers/punkt_tab/english/\u001b[0m\n",
      "\n",
      "  Searched in:\n",
      "    - '/Users/bhargav/nltk_data'\n",
      "    - '/Library/Frameworks/Python.framework/Versions/3.13/nltk_data'\n",
      "    - '/Library/Frameworks/Python.framework/Versions/3.13/share/nltk_data'\n",
      "    - '/Library/Frameworks/Python.framework/Versions/3.13/lib/nltk_data'\n",
      "    - '/usr/share/nltk_data'\n",
      "    - '/usr/local/share/nltk_data'\n",
      "    - '/usr/lib/nltk_data'\n",
      "    - '/usr/local/lib/nltk_data'\n",
      "**********************************************************************\n",
      "\n",
      "2025-05-12 21:52:43,815 - __main__ - ERROR - Error computing ROUGE scores: \n",
      "2025-05-12 21:52:43,816 - __main__ - ERROR - Error computing Levenshtein similarity: object of type 'float' has no len()\n",
      "2025-05-12 21:52:43,816 - __main__ - ERROR - Error computing Jaccard similarity: \n",
      "**********************************************************************\n",
      "  Resource \u001b[93mpunkt_tab\u001b[0m not found.\n",
      "  Please use the NLTK Downloader to obtain the resource:\n",
      "\n",
      "  \u001b[31m>>> import nltk\n",
      "  >>> nltk.download('punkt_tab')\n",
      "  \u001b[0m\n",
      "  For more information see: https://www.nltk.org/data.html\n",
      "\n",
      "  Attempted to load \u001b[93mtokenizers/punkt_tab/english/\u001b[0m\n",
      "\n",
      "  Searched in:\n",
      "    - '/Users/bhargav/nltk_data'\n",
      "    - '/Library/Frameworks/Python.framework/Versions/3.13/nltk_data'\n",
      "    - '/Library/Frameworks/Python.framework/Versions/3.13/share/nltk_data'\n",
      "    - '/Library/Frameworks/Python.framework/Versions/3.13/lib/nltk_data'\n",
      "    - '/usr/share/nltk_data'\n",
      "    - '/usr/local/share/nltk_data'\n",
      "    - '/usr/lib/nltk_data'\n",
      "    - '/usr/local/lib/nltk_data'\n",
      "**********************************************************************\n",
      "\n"
     ]
    },
    {
     "data": {
      "application/vnd.jupyter.widget-view+json": {
       "model_id": "3a43405629bc403882858e6232b43827",
       "version_major": 2,
       "version_minor": 0
      },
      "text/plain": [
       "Batches:   0%|          | 0/1 [00:00<?, ?it/s]"
      ]
     },
     "metadata": {},
     "output_type": "display_data"
    },
    {
     "data": {
      "application/vnd.jupyter.widget-view+json": {
       "model_id": "a801fb37b06247b39e314c969c28720d",
       "version_major": 2,
       "version_minor": 0
      },
      "text/plain": [
       "Batches:   0%|          | 0/1 [00:00<?, ?it/s]"
      ]
     },
     "metadata": {},
     "output_type": "display_data"
    },
    {
     "name": "stderr",
     "output_type": "stream",
     "text": [
      "2025-05-12 21:52:43,832 - __main__ - ERROR - Error computing BERT similarity: 'float' object is not subscriptable\n",
      "2025-05-12 21:52:43,834 - __main__ - ERROR - Error computing BLEU score: \n",
      "**********************************************************************\n",
      "  Resource \u001b[93mpunkt_tab\u001b[0m not found.\n",
      "  Please use the NLTK Downloader to obtain the resource:\n",
      "\n",
      "  \u001b[31m>>> import nltk\n",
      "  >>> nltk.download('punkt_tab')\n",
      "  \u001b[0m\n",
      "  For more information see: https://www.nltk.org/data.html\n",
      "\n",
      "  Attempted to load \u001b[93mtokenizers/punkt_tab/english/\u001b[0m\n",
      "\n",
      "  Searched in:\n",
      "    - '/Users/bhargav/nltk_data'\n",
      "    - '/Library/Frameworks/Python.framework/Versions/3.13/nltk_data'\n",
      "    - '/Library/Frameworks/Python.framework/Versions/3.13/share/nltk_data'\n",
      "    - '/Library/Frameworks/Python.framework/Versions/3.13/lib/nltk_data'\n",
      "    - '/usr/share/nltk_data'\n",
      "    - '/usr/local/share/nltk_data'\n",
      "    - '/usr/lib/nltk_data'\n",
      "    - '/usr/local/lib/nltk_data'\n",
      "**********************************************************************\n",
      "\n",
      "2025-05-12 21:52:43,834 - __main__ - ERROR - Error computing ROUGE scores: \n",
      "2025-05-12 21:52:43,834 - __main__ - ERROR - Error computing Levenshtein similarity: object of type 'float' has no len()\n",
      "2025-05-12 21:52:43,835 - __main__ - ERROR - Error computing Jaccard similarity: \n",
      "**********************************************************************\n",
      "  Resource \u001b[93mpunkt_tab\u001b[0m not found.\n",
      "  Please use the NLTK Downloader to obtain the resource:\n",
      "\n",
      "  \u001b[31m>>> import nltk\n",
      "  >>> nltk.download('punkt_tab')\n",
      "  \u001b[0m\n",
      "  For more information see: https://www.nltk.org/data.html\n",
      "\n",
      "  Attempted to load \u001b[93mtokenizers/punkt_tab/english/\u001b[0m\n",
      "\n",
      "  Searched in:\n",
      "    - '/Users/bhargav/nltk_data'\n",
      "    - '/Library/Frameworks/Python.framework/Versions/3.13/nltk_data'\n",
      "    - '/Library/Frameworks/Python.framework/Versions/3.13/share/nltk_data'\n",
      "    - '/Library/Frameworks/Python.framework/Versions/3.13/lib/nltk_data'\n",
      "    - '/usr/share/nltk_data'\n",
      "    - '/usr/local/share/nltk_data'\n",
      "    - '/usr/lib/nltk_data'\n",
      "    - '/usr/local/lib/nltk_data'\n",
      "**********************************************************************\n",
      "\n"
     ]
    },
    {
     "data": {
      "application/vnd.jupyter.widget-view+json": {
       "model_id": "b18243970c9c4e94a8d500ba2e6351eb",
       "version_major": 2,
       "version_minor": 0
      },
      "text/plain": [
       "Batches:   0%|          | 0/1 [00:00<?, ?it/s]"
      ]
     },
     "metadata": {},
     "output_type": "display_data"
    },
    {
     "data": {
      "application/vnd.jupyter.widget-view+json": {
       "model_id": "873e99603df9463bbcbbee300646988f",
       "version_major": 2,
       "version_minor": 0
      },
      "text/plain": [
       "Batches:   0%|          | 0/1 [00:00<?, ?it/s]"
      ]
     },
     "metadata": {},
     "output_type": "display_data"
    },
    {
     "name": "stderr",
     "output_type": "stream",
     "text": [
      "2025-05-12 21:52:43,850 - __main__ - ERROR - Error computing BERT similarity: 'float' object is not subscriptable\n",
      "2025-05-12 21:52:43,851 - __main__ - ERROR - Error computing BLEU score: \n",
      "**********************************************************************\n",
      "  Resource \u001b[93mpunkt_tab\u001b[0m not found.\n",
      "  Please use the NLTK Downloader to obtain the resource:\n",
      "\n",
      "  \u001b[31m>>> import nltk\n",
      "  >>> nltk.download('punkt_tab')\n",
      "  \u001b[0m\n",
      "  For more information see: https://www.nltk.org/data.html\n",
      "\n",
      "  Attempted to load \u001b[93mtokenizers/punkt_tab/english/\u001b[0m\n",
      "\n",
      "  Searched in:\n",
      "    - '/Users/bhargav/nltk_data'\n",
      "    - '/Library/Frameworks/Python.framework/Versions/3.13/nltk_data'\n",
      "    - '/Library/Frameworks/Python.framework/Versions/3.13/share/nltk_data'\n",
      "    - '/Library/Frameworks/Python.framework/Versions/3.13/lib/nltk_data'\n",
      "    - '/usr/share/nltk_data'\n",
      "    - '/usr/local/share/nltk_data'\n",
      "    - '/usr/lib/nltk_data'\n",
      "    - '/usr/local/lib/nltk_data'\n",
      "**********************************************************************\n",
      "\n",
      "2025-05-12 21:52:43,851 - __main__ - ERROR - Error computing ROUGE scores: \n",
      "2025-05-12 21:52:43,851 - __main__ - ERROR - Error computing Levenshtein similarity: object of type 'float' has no len()\n",
      "2025-05-12 21:52:43,852 - __main__ - ERROR - Error computing Jaccard similarity: \n",
      "**********************************************************************\n",
      "  Resource \u001b[93mpunkt_tab\u001b[0m not found.\n",
      "  Please use the NLTK Downloader to obtain the resource:\n",
      "\n",
      "  \u001b[31m>>> import nltk\n",
      "  >>> nltk.download('punkt_tab')\n",
      "  \u001b[0m\n",
      "  For more information see: https://www.nltk.org/data.html\n",
      "\n",
      "  Attempted to load \u001b[93mtokenizers/punkt_tab/english/\u001b[0m\n",
      "\n",
      "  Searched in:\n",
      "    - '/Users/bhargav/nltk_data'\n",
      "    - '/Library/Frameworks/Python.framework/Versions/3.13/nltk_data'\n",
      "    - '/Library/Frameworks/Python.framework/Versions/3.13/share/nltk_data'\n",
      "    - '/Library/Frameworks/Python.framework/Versions/3.13/lib/nltk_data'\n",
      "    - '/usr/share/nltk_data'\n",
      "    - '/usr/local/share/nltk_data'\n",
      "    - '/usr/lib/nltk_data'\n",
      "    - '/usr/local/lib/nltk_data'\n",
      "**********************************************************************\n",
      "\n"
     ]
    },
    {
     "data": {
      "application/vnd.jupyter.widget-view+json": {
       "model_id": "20b2dd2fbd164cacbacd0a50bf2d654b",
       "version_major": 2,
       "version_minor": 0
      },
      "text/plain": [
       "Batches:   0%|          | 0/1 [00:00<?, ?it/s]"
      ]
     },
     "metadata": {},
     "output_type": "display_data"
    },
    {
     "data": {
      "application/vnd.jupyter.widget-view+json": {
       "model_id": "159ced86c8824cf7beb4060c5520348f",
       "version_major": 2,
       "version_minor": 0
      },
      "text/plain": [
       "Batches:   0%|          | 0/1 [00:00<?, ?it/s]"
      ]
     },
     "metadata": {},
     "output_type": "display_data"
    },
    {
     "name": "stderr",
     "output_type": "stream",
     "text": [
      "2025-05-12 21:52:43,866 - __main__ - ERROR - Error computing BERT similarity: 'float' object is not subscriptable\n",
      "2025-05-12 21:52:43,867 - __main__ - ERROR - Error computing BLEU score: \n",
      "**********************************************************************\n",
      "  Resource \u001b[93mpunkt_tab\u001b[0m not found.\n",
      "  Please use the NLTK Downloader to obtain the resource:\n",
      "\n",
      "  \u001b[31m>>> import nltk\n",
      "  >>> nltk.download('punkt_tab')\n",
      "  \u001b[0m\n",
      "  For more information see: https://www.nltk.org/data.html\n",
      "\n",
      "  Attempted to load \u001b[93mtokenizers/punkt_tab/english/\u001b[0m\n",
      "\n",
      "  Searched in:\n",
      "    - '/Users/bhargav/nltk_data'\n",
      "    - '/Library/Frameworks/Python.framework/Versions/3.13/nltk_data'\n",
      "    - '/Library/Frameworks/Python.framework/Versions/3.13/share/nltk_data'\n",
      "    - '/Library/Frameworks/Python.framework/Versions/3.13/lib/nltk_data'\n",
      "    - '/usr/share/nltk_data'\n",
      "    - '/usr/local/share/nltk_data'\n",
      "    - '/usr/lib/nltk_data'\n",
      "    - '/usr/local/lib/nltk_data'\n",
      "**********************************************************************\n",
      "\n",
      "2025-05-12 21:52:43,867 - __main__ - ERROR - Error computing ROUGE scores: \n",
      "2025-05-12 21:52:43,868 - __main__ - ERROR - Error computing Levenshtein similarity: object of type 'float' has no len()\n",
      "2025-05-12 21:52:43,869 - __main__ - ERROR - Error computing Jaccard similarity: \n",
      "**********************************************************************\n",
      "  Resource \u001b[93mpunkt_tab\u001b[0m not found.\n",
      "  Please use the NLTK Downloader to obtain the resource:\n",
      "\n",
      "  \u001b[31m>>> import nltk\n",
      "  >>> nltk.download('punkt_tab')\n",
      "  \u001b[0m\n",
      "  For more information see: https://www.nltk.org/data.html\n",
      "\n",
      "  Attempted to load \u001b[93mtokenizers/punkt_tab/english/\u001b[0m\n",
      "\n",
      "  Searched in:\n",
      "    - '/Users/bhargav/nltk_data'\n",
      "    - '/Library/Frameworks/Python.framework/Versions/3.13/nltk_data'\n",
      "    - '/Library/Frameworks/Python.framework/Versions/3.13/share/nltk_data'\n",
      "    - '/Library/Frameworks/Python.framework/Versions/3.13/lib/nltk_data'\n",
      "    - '/usr/share/nltk_data'\n",
      "    - '/usr/local/share/nltk_data'\n",
      "    - '/usr/lib/nltk_data'\n",
      "    - '/usr/local/lib/nltk_data'\n",
      "**********************************************************************\n",
      "\n"
     ]
    },
    {
     "data": {
      "application/vnd.jupyter.widget-view+json": {
       "model_id": "12da51c60ed142deb8a696bb3829dc98",
       "version_major": 2,
       "version_minor": 0
      },
      "text/plain": [
       "Batches:   0%|          | 0/1 [00:00<?, ?it/s]"
      ]
     },
     "metadata": {},
     "output_type": "display_data"
    },
    {
     "data": {
      "application/vnd.jupyter.widget-view+json": {
       "model_id": "cc50f454177248059623bf20b46f46c5",
       "version_major": 2,
       "version_minor": 0
      },
      "text/plain": [
       "Batches:   0%|          | 0/1 [00:00<?, ?it/s]"
      ]
     },
     "metadata": {},
     "output_type": "display_data"
    },
    {
     "name": "stderr",
     "output_type": "stream",
     "text": [
      "2025-05-12 21:52:43,886 - __main__ - ERROR - Error computing BERT similarity: 'float' object is not subscriptable\n",
      "2025-05-12 21:52:43,888 - __main__ - ERROR - Error computing BLEU score: \n",
      "**********************************************************************\n",
      "  Resource \u001b[93mpunkt_tab\u001b[0m not found.\n",
      "  Please use the NLTK Downloader to obtain the resource:\n",
      "\n",
      "  \u001b[31m>>> import nltk\n",
      "  >>> nltk.download('punkt_tab')\n",
      "  \u001b[0m\n",
      "  For more information see: https://www.nltk.org/data.html\n",
      "\n",
      "  Attempted to load \u001b[93mtokenizers/punkt_tab/english/\u001b[0m\n",
      "\n",
      "  Searched in:\n",
      "    - '/Users/bhargav/nltk_data'\n",
      "    - '/Library/Frameworks/Python.framework/Versions/3.13/nltk_data'\n",
      "    - '/Library/Frameworks/Python.framework/Versions/3.13/share/nltk_data'\n",
      "    - '/Library/Frameworks/Python.framework/Versions/3.13/lib/nltk_data'\n",
      "    - '/usr/share/nltk_data'\n",
      "    - '/usr/local/share/nltk_data'\n",
      "    - '/usr/lib/nltk_data'\n",
      "    - '/usr/local/lib/nltk_data'\n",
      "**********************************************************************\n",
      "\n",
      "2025-05-12 21:52:43,888 - __main__ - ERROR - Error computing ROUGE scores: \n",
      "2025-05-12 21:52:43,888 - __main__ - ERROR - Error computing Levenshtein similarity: object of type 'float' has no len()\n",
      "2025-05-12 21:52:43,889 - __main__ - ERROR - Error computing Jaccard similarity: \n",
      "**********************************************************************\n",
      "  Resource \u001b[93mpunkt_tab\u001b[0m not found.\n",
      "  Please use the NLTK Downloader to obtain the resource:\n",
      "\n",
      "  \u001b[31m>>> import nltk\n",
      "  >>> nltk.download('punkt_tab')\n",
      "  \u001b[0m\n",
      "  For more information see: https://www.nltk.org/data.html\n",
      "\n",
      "  Attempted to load \u001b[93mtokenizers/punkt_tab/english/\u001b[0m\n",
      "\n",
      "  Searched in:\n",
      "    - '/Users/bhargav/nltk_data'\n",
      "    - '/Library/Frameworks/Python.framework/Versions/3.13/nltk_data'\n",
      "    - '/Library/Frameworks/Python.framework/Versions/3.13/share/nltk_data'\n",
      "    - '/Library/Frameworks/Python.framework/Versions/3.13/lib/nltk_data'\n",
      "    - '/usr/share/nltk_data'\n",
      "    - '/usr/local/share/nltk_data'\n",
      "    - '/usr/lib/nltk_data'\n",
      "    - '/usr/local/lib/nltk_data'\n",
      "**********************************************************************\n",
      "\n"
     ]
    },
    {
     "data": {
      "application/vnd.jupyter.widget-view+json": {
       "model_id": "6609d76dda7d4605b5a404e748a9c7b4",
       "version_major": 2,
       "version_minor": 0
      },
      "text/plain": [
       "Batches:   0%|          | 0/1 [00:00<?, ?it/s]"
      ]
     },
     "metadata": {},
     "output_type": "display_data"
    },
    {
     "data": {
      "application/vnd.jupyter.widget-view+json": {
       "model_id": "b52929326e0c40018298f6956d6f1e0a",
       "version_major": 2,
       "version_minor": 0
      },
      "text/plain": [
       "Batches:   0%|          | 0/1 [00:00<?, ?it/s]"
      ]
     },
     "metadata": {},
     "output_type": "display_data"
    },
    {
     "name": "stderr",
     "output_type": "stream",
     "text": [
      "2025-05-12 21:52:43,902 - __main__ - ERROR - Error computing BERT similarity: 'float' object is not subscriptable\n",
      "2025-05-12 21:52:43,903 - __main__ - ERROR - Error computing BLEU score: \n",
      "**********************************************************************\n",
      "  Resource \u001b[93mpunkt_tab\u001b[0m not found.\n",
      "  Please use the NLTK Downloader to obtain the resource:\n",
      "\n",
      "  \u001b[31m>>> import nltk\n",
      "  >>> nltk.download('punkt_tab')\n",
      "  \u001b[0m\n",
      "  For more information see: https://www.nltk.org/data.html\n",
      "\n",
      "  Attempted to load \u001b[93mtokenizers/punkt_tab/english/\u001b[0m\n",
      "\n",
      "  Searched in:\n",
      "    - '/Users/bhargav/nltk_data'\n",
      "    - '/Library/Frameworks/Python.framework/Versions/3.13/nltk_data'\n",
      "    - '/Library/Frameworks/Python.framework/Versions/3.13/share/nltk_data'\n",
      "    - '/Library/Frameworks/Python.framework/Versions/3.13/lib/nltk_data'\n",
      "    - '/usr/share/nltk_data'\n",
      "    - '/usr/local/share/nltk_data'\n",
      "    - '/usr/lib/nltk_data'\n",
      "    - '/usr/local/lib/nltk_data'\n",
      "**********************************************************************\n",
      "\n",
      "2025-05-12 21:52:43,903 - __main__ - ERROR - Error computing ROUGE scores: \n",
      "2025-05-12 21:52:43,903 - __main__ - ERROR - Error computing Levenshtein similarity: object of type 'float' has no len()\n",
      "2025-05-12 21:52:43,904 - __main__ - ERROR - Error computing Jaccard similarity: \n",
      "**********************************************************************\n",
      "  Resource \u001b[93mpunkt_tab\u001b[0m not found.\n",
      "  Please use the NLTK Downloader to obtain the resource:\n",
      "\n",
      "  \u001b[31m>>> import nltk\n",
      "  >>> nltk.download('punkt_tab')\n",
      "  \u001b[0m\n",
      "  For more information see: https://www.nltk.org/data.html\n",
      "\n",
      "  Attempted to load \u001b[93mtokenizers/punkt_tab/english/\u001b[0m\n",
      "\n",
      "  Searched in:\n",
      "    - '/Users/bhargav/nltk_data'\n",
      "    - '/Library/Frameworks/Python.framework/Versions/3.13/nltk_data'\n",
      "    - '/Library/Frameworks/Python.framework/Versions/3.13/share/nltk_data'\n",
      "    - '/Library/Frameworks/Python.framework/Versions/3.13/lib/nltk_data'\n",
      "    - '/usr/share/nltk_data'\n",
      "    - '/usr/local/share/nltk_data'\n",
      "    - '/usr/lib/nltk_data'\n",
      "    - '/usr/local/lib/nltk_data'\n",
      "**********************************************************************\n",
      "\n"
     ]
    },
    {
     "data": {
      "application/vnd.jupyter.widget-view+json": {
       "model_id": "a0037c3c9be242e2bec6441fd0dabb8f",
       "version_major": 2,
       "version_minor": 0
      },
      "text/plain": [
       "Batches:   0%|          | 0/1 [00:00<?, ?it/s]"
      ]
     },
     "metadata": {},
     "output_type": "display_data"
    },
    {
     "data": {
      "application/vnd.jupyter.widget-view+json": {
       "model_id": "6e92ea02c69d4ac9af3fc38a1d46b53c",
       "version_major": 2,
       "version_minor": 0
      },
      "text/plain": [
       "Batches:   0%|          | 0/1 [00:00<?, ?it/s]"
      ]
     },
     "metadata": {},
     "output_type": "display_data"
    },
    {
     "name": "stderr",
     "output_type": "stream",
     "text": [
      "2025-05-12 21:52:43,917 - __main__ - ERROR - Error computing BERT similarity: 'float' object is not subscriptable\n",
      "Computing mistral_clean_similarities: 100%|███| 115/115 [00:02<00:00, 45.75it/s]\n",
      "2025-05-12 21:52:43,931 - __main__ - INFO - Similarity features saved to data/processed/similarity_features.csv\n"
     ]
    },
    {
     "name": "stdout",
     "output_type": "stream",
     "text": [
      "\n",
      "Sample of similarity features:\n",
      "                                                text  label  mistral_bleu  \\\n",
      "0  Although all of Germany's stated demands had b...  human           0.0   \n",
      "1  The Renaissance began in times of religious tu...  human           0.0   \n",
      "2  During the Renaissance, two more areas appeare...  human           0.0   \n",
      "\n",
      "   mistral_clean_bleu  mistral_bert_sim  mistral_clean_bert_sim  \n",
      "0                 0.0               0.0                     0.0  \n",
      "1                 0.0               0.0                     0.0  \n",
      "2                 0.0               0.0                     0.0  \n"
     ]
    }
   ],
   "source": [
    "import numpy as np\n",
    "import pandas as pd\n",
    "import nltk\n",
    "from nltk.translate.bleu_score import sentence_bleu, SmoothingFunction\n",
    "from nltk.translate.meteor_score import meteor_score\n",
    "from rouge import Rouge\n",
    "from Levenshtein import distance as levenshtein_distance\n",
    "#import spacy\n",
    "from sklearn.metrics.pairwise import cosine_similarity\n",
    "from sentence_transformers import SentenceTransformer\n",
    "from nltk.tokenize import word_tokenize\n",
    "import torch\n",
    "import logging\n",
    "import warnings\n",
    "from tqdm import tqdm\n",
    "\n",
    "# Suppress specific warnings\n",
    "warnings.filterwarnings(\"ignore\", message=\".*The 'nopython' keyword.*\")\n",
    "\n",
    "# Set up logging\n",
    "logging.basicConfig(\n",
    "    level=logging.INFO,\n",
    "    format='%(asctime)s - %(name)s - %(levelname)s - %(message)s'\n",
    ")\n",
    "logger = logging.getLogger(__name__)\n",
    "\n",
    "class SimilarityMetrics:\n",
    "    \"\"\"Class for computing similarity metrics between original and regenerated texts.\"\"\"\n",
    "    \n",
    "    def __init__(self, use_gpu=False):\n",
    "        \"\"\"\n",
    "        Initialize the similarity metrics calculator.\n",
    "        \n",
    "        Args:\n",
    "            use_gpu (bool): Whether to use GPU for embedding models if available\n",
    "        \"\"\"\n",
    "        # Download necessary NLTK resources\n",
    "        try:\n",
    "            nltk.download('punkt', quiet=True)\n",
    "            nltk.download('wordnet', quiet=True)\n",
    "            nltk.download('omw-1.4', quiet=True)\n",
    "        except Exception as e:\n",
    "            logger.error(f\"Error downloading NLTK resources: {e}\")\n",
    "        \n",
    "        self.smoothing = SmoothingFunction()\n",
    "        self.rouge = Rouge()\n",
    "        \n",
    "        # Initialize sentence transformer model\n",
    "        try:\n",
    "            self.sentence_model = SentenceTransformer('all-MiniLM-L6-v2')\n",
    "            \n",
    "            # Set device\n",
    "            if use_gpu and torch.cuda.is_available():\n",
    "                self.device = torch.device('cuda')\n",
    "                self.sentence_model = self.sentence_model.to(self.device)\n",
    "                logger.info(\"Using GPU for embeddings\")\n",
    "            else:\n",
    "                self.device = torch.device('cpu')\n",
    "                logger.info(\"Using CPU for embeddings\")\n",
    "                \n",
    "        except Exception as e:\n",
    "            logger.error(f\"Error loading sentence transformer model: {e}\")\n",
    "            self.sentence_model = None\n",
    "        \n",
    "            \n",
    "    def compute_bleu_score(self, reference, candidate):\n",
    "        \"\"\"\n",
    "        Compute BLEU score between reference and candidate texts.\n",
    "        \n",
    "        Args:\n",
    "            reference (str): Reference text\n",
    "            candidate (str): Candidate text\n",
    "            \n",
    "        Returns:\n",
    "            float: BLEU score\n",
    "        \"\"\"\n",
    "        if not reference or not candidate:\n",
    "            return 0.0\n",
    "        \n",
    "        try:\n",
    "            reference_tokens = [word_tokenize(reference.lower())]\n",
    "            candidate_tokens = word_tokenize(candidate.lower())\n",
    "            \n",
    "            # Calculate BLEU with smoothing\n",
    "            bleu_score = sentence_bleu(\n",
    "                reference_tokens, \n",
    "                candidate_tokens,\n",
    "                smoothing_function=self.smoothing.method1\n",
    "            )\n",
    "            \n",
    "            return bleu_score\n",
    "        except Exception as e:\n",
    "            logger.error(f\"Error computing BLEU score: {e}\")\n",
    "            return 0.0\n",
    "\n",
    "    def compute_rouge_scores(self, reference, candidate):\n",
    "        \"\"\"\n",
    "        Compute ROUGE scores between reference and candidate texts.\n",
    "        \n",
    "        Args:\n",
    "            reference (str): Reference text\n",
    "            candidate (str): Candidate text\n",
    "            \n",
    "        Returns:\n",
    "            dict: Dictionary containing ROUGE-1, ROUGE-2, ROUGE-L precision, recall, and F1 scores\n",
    "        \"\"\"\n",
    "        if not reference or not candidate:\n",
    "            return {\n",
    "                \"rouge-1\": {\"f\": 0.0, \"p\": 0.0, \"r\": 0.0},\n",
    "                \"rouge-2\": {\"f\": 0.0, \"p\": 0.0, \"r\": 0.0},\n",
    "                \"rouge-l\": {\"f\": 0.0, \"p\": 0.0, \"r\": 0.0}\n",
    "            }\n",
    "        \n",
    "        try:\n",
    "            scores = self.rouge.get_scores(candidate, reference)[0]\n",
    "            return scores\n",
    "        except Exception as e:\n",
    "            logger.error(f\"Error computing ROUGE scores: {e}\")\n",
    "            return {\n",
    "                \"rouge-1\": {\"f\": 0.0, \"p\": 0.0, \"r\": 0.0},\n",
    "                \"rouge-2\": {\"f\": 0.0, \"p\": 0.0, \"r\": 0.0},\n",
    "                \"rouge-l\": {\"f\": 0.0, \"p\": 0.0, \"r\": 0.0}\n",
    "            }\n",
    "    \n",
    "    def compute_meteor_score(self, reference, candidate):\n",
    "        \"\"\"\n",
    "        Compute METEOR score between reference and candidate texts.\n",
    "        \n",
    "        Args:\n",
    "            reference (str): Reference text\n",
    "            candidate (str): Candidate text\n",
    "            \n",
    "        Returns:\n",
    "            float: METEOR score\n",
    "        \"\"\"\n",
    "        if not reference or not candidate:\n",
    "            return 0.0\n",
    "        \n",
    "        try:\n",
    "            reference_tokens = word_tokenize(reference.lower())\n",
    "            candidate_tokens = word_tokenize(candidate.lower())\n",
    "            \n",
    "            # Calculate METEOR score\n",
    "            meteor = meteor_score([reference_tokens], candidate_tokens)\n",
    "            return meteor\n",
    "        except Exception as e:\n",
    "            logger.error(f\"Error computing METEOR score: {e}\")\n",
    "            return 0.0\n",
    "    \n",
    "    def compute_levenshtein_similarity(self, text1, text2):\n",
    "        \"\"\"\n",
    "        Compute normalized Levenshtein similarity between two texts.\n",
    "        \n",
    "        Args:\n",
    "            text1 (str): First text\n",
    "            text2 (str): Second text\n",
    "            \n",
    "        Returns:\n",
    "            float: Normalized Levenshtein similarity (1 - normalized distance)\n",
    "        \"\"\"\n",
    "        if not text1 or not text2:\n",
    "            return 0.0\n",
    "        \n",
    "        try:\n",
    "            # Calculate Levenshtein distance\n",
    "            lev_dist = levenshtein_distance(text1, text2)\n",
    "            \n",
    "            # Normalize by the length of the longer string\n",
    "            max_len = max(len(text1), len(text2))\n",
    "            \n",
    "            if max_len == 0:\n",
    "                return 1.0  # Both strings are empty, consider them identical\n",
    "            \n",
    "            # Convert distance to similarity (1 - normalized distance)\n",
    "            similarity = 1.0 - (lev_dist / max_len)\n",
    "            \n",
    "            return similarity\n",
    "        except Exception as e:\n",
    "            logger.error(f\"Error computing Levenshtein similarity: {e}\")\n",
    "            return 0.0\n",
    "    \n",
    "    \n",
    "    def compute_bert_similarity(self, text1, text2):\n",
    "        \"\"\"\n",
    "        Compute semantic similarity between texts using BERT embeddings.\n",
    "        \n",
    "        Args:\n",
    "            text1 (str): First text\n",
    "            text2 (str): Second text\n",
    "            \n",
    "        Returns:\n",
    "            float: Cosine similarity between BERT embeddings\n",
    "        \"\"\"\n",
    "        if not self.sentence_model or not text1 or not text2:\n",
    "            return 0.0\n",
    "        \n",
    "        try:\n",
    "            # Generate embeddings\n",
    "            embedding1 = self.sentence_model.encode(text1, convert_to_tensor=True)\n",
    "            embedding2 = self.sentence_model.encode(text2, convert_to_tensor=True)\n",
    "            \n",
    "            # Calculate cosine similarity\n",
    "            similarity = torch.nn.functional.cosine_similarity(embedding1, embedding2, dim=0).item()\n",
    "            \n",
    "            return similarity\n",
    "        except Exception as e:\n",
    "            logger.error(f\"Error computing BERT similarity: {e}\")\n",
    "            return 0.0\n",
    "    \n",
    "    def compute_jaccard_similarity(self, text1, text2):\n",
    "        \"\"\"\n",
    "        Compute Jaccard similarity coefficient between two texts.\n",
    "        \n",
    "        Args:\n",
    "            text1 (str): First text\n",
    "            text2 (str): Second text\n",
    "            \n",
    "        Returns:\n",
    "            float: Jaccard similarity coefficient\n",
    "        \"\"\"\n",
    "        if not text1 or not text2:\n",
    "            return 0.0\n",
    "        \n",
    "        try:\n",
    "            # Tokenize texts\n",
    "            set1 = set(word_tokenize(text1.lower()))\n",
    "            set2 = set(word_tokenize(text2.lower()))\n",
    "            \n",
    "            # Calculate Jaccard similarity\n",
    "            intersection = len(set1.intersection(set2))\n",
    "            union = len(set1.union(set2))\n",
    "            \n",
    "            if union == 0:\n",
    "                return 0.0\n",
    "                \n",
    "            similarity = intersection / union\n",
    "            \n",
    "            return similarity\n",
    "        except Exception as e:\n",
    "            logger.error(f\"Error computing Jaccard similarity: {e}\")\n",
    "            return 0.0\n",
    "    \n",
    "    def compute_all_similarities(self, text1, text2):\n",
    "        \"\"\"\n",
    "        Compute all similarity metrics between two texts.\n",
    "        \n",
    "        Args:\n",
    "            text1 (str): First text\n",
    "            text2 (str): Second text\n",
    "            \n",
    "        Returns:\n",
    "            dict: Dictionary containing all similarity metrics\n",
    "        \"\"\"\n",
    "        results = {}\n",
    "        \n",
    "        # Skip if either text is missing\n",
    "        if not text1 or not text2:\n",
    "            logger.warning(\"Missing text data for similarity computation\")\n",
    "            return {\n",
    "                'bleu': 0.0,\n",
    "                'rouge_1_f': 0.0,\n",
    "                'rouge_2_f': 0.0,\n",
    "                'rouge_l_f': 0.0,\n",
    "                'levenshtein_sim': 0.0,\n",
    "                'bert_sim': 0.0,\n",
    "                'jaccard_sim': 0.0\n",
    "            }\n",
    "        \n",
    "        # Lexical similarities\n",
    "        results['bleu'] = self.compute_bleu_score(text1, text2)\n",
    "        \n",
    "        rouge_scores = self.compute_rouge_scores(text1, text2)\n",
    "        results['rouge_1_f'] = rouge_scores['rouge-1']['f']\n",
    "        results['rouge_2_f'] = rouge_scores['rouge-2']['f']\n",
    "        results['rouge_l_f'] = rouge_scores['rouge-l']['f']\n",
    "        \n",
    "        results['levenshtein_sim'] = self.compute_levenshtein_similarity(text1, text2)\n",
    "        results['jaccard_sim'] = self.compute_jaccard_similarity(text1, text2)\n",
    "        \n",
    "        # Semantic similarities\n",
    "        results['bert_sim'] = self.compute_bert_similarity(text1, text2)\n",
    "        \n",
    "        return results\n",
    "    \n",
    "    def compute_dataset_similarities(self, df, text_col, regen_cols, clean_suffix='_clean'):\n",
    "        \"\"\"\n",
    "        Compute all similarity metrics for each row in a dataset.\n",
    "        \n",
    "        Args:\n",
    "            df (pd.DataFrame): DataFrame containing text data\n",
    "            text_col (str): Name of column containing original text\n",
    "            regen_cols (list): List of column names containing regenerated texts\n",
    "            clean_suffix (str): Suffix for clean text columns\n",
    "            \n",
    "        Returns:\n",
    "            pd.DataFrame: DataFrame with added similarity features\n",
    "        \"\"\"\n",
    "        result_df = df.copy()\n",
    "        \n",
    "        # Extract cleaned column names\n",
    "        orig_clean_col = f\"{text_col}{clean_suffix}\"\n",
    "        \n",
    "        if orig_clean_col not in result_df.columns:\n",
    "            logger.warning(f\"Clean text column '{orig_clean_col}' not found. Using original column.\")\n",
    "            orig_clean_col = text_col\n",
    "        \n",
    "        # Process each regeneration column\n",
    "        for regen_col in regen_cols:\n",
    "            if regen_col not in result_df.columns:\n",
    "                logger.warning(f\"Regeneration column '{regen_col}' not found in DataFrame\")\n",
    "                continue\n",
    "                \n",
    "            regen_clean_col = f\"{regen_col}{clean_suffix}\"\n",
    "            \n",
    "            if regen_clean_col not in result_df.columns:\n",
    "                logger.warning(f\"Clean regeneration column '{regen_clean_col}' not found. Using original column.\")\n",
    "                regen_clean_col = regen_col\n",
    "            \n",
    "            logger.info(f\"Computing similarities between '{orig_clean_col}' and '{regen_clean_col}'\")\n",
    "            \n",
    "            # Create prefix for feature columns\n",
    "            prefix = f\"{regen_col.replace('regeneration_', '')}_\"\n",
    "            \n",
    "            # Compute similarities for each row\n",
    "            similarities = []\n",
    "            \n",
    "            for _, row in tqdm(result_df.iterrows(), total=len(result_df), desc=f\"Computing {prefix}similarities\"):\n",
    "                orig_text = row[orig_clean_col]\n",
    "                regen_text = row[regen_clean_col]\n",
    "                \n",
    "                # Compute similarities and add to list\n",
    "                sim_metrics = self.compute_all_similarities(orig_text, regen_text)\n",
    "                similarities.append(sim_metrics)\n",
    "            \n",
    "            # Add similarity metrics to DataFrame\n",
    "            for metric, values in zip(similarities[0].keys(), zip(*[d.values() for d in similarities])):\n",
    "                result_df[f\"{prefix}{metric}\"] = list(values)\n",
    "        \n",
    "        return result_df\n",
    "\n",
    "def main():\n",
    "    \"\"\"Demonstrate the similarity metrics functionality.\"\"\"\n",
    "    try:\n",
    "        # Load preprocessed data\n",
    "        df = pd.read_csv('data/processed/preprocessed_dataset.csv')\n",
    "        logger.info(f\"Loaded preprocessed dataset with {len(df)} rows\")\n",
    "        \n",
    "        # Initialize similarity metrics calculator\n",
    "        sim_calc = SimilarityMetrics()\n",
    "        \n",
    "        # Compute similarities for all regeneration columns\n",
    "        regen_cols = [col for col in df.columns if col.startswith('regeneration_')]\n",
    "        \n",
    "        if not regen_cols:\n",
    "            logger.warning(\"No regeneration columns found in the dataset\")\n",
    "            # Create a sample for demonstration\n",
    "            df['regeneration_sample'] = df['text'].apply(lambda x: x[::-1])  # Reverse text as dummy regeneration\n",
    "            df['regeneration_sample_clean'] = df['text_clean_basic']  # Use cleaned text\n",
    "            regen_cols = ['regeneration_sample']\n",
    "        \n",
    "        # Compute similarities\n",
    "        result_df = sim_calc.compute_dataset_similarities(\n",
    "            df, 'text', regen_cols, clean_suffix='_clean_basic'\n",
    "        )\n",
    "        \n",
    "        # Save results\n",
    "        output_file = 'data/processed/similarity_features.csv'\n",
    "        result_df.to_csv(output_file, index=False)\n",
    "        logger.info(f\"Similarity features saved to {output_file}\")\n",
    "        \n",
    "        # Display sample of similarity features\n",
    "        sample_cols = ['text', 'label'] + [f\"{col.replace('regeneration_', '')}_bleu\" for col in regen_cols]\n",
    "        sample_cols += [f\"{col.replace('regeneration_', '')}_bert_sim\" for col in regen_cols]\n",
    "        \n",
    "        # Make sure all columns exist\n",
    "        sample_cols = [col for col in sample_cols if col in result_df.columns]\n",
    "        \n",
    "        print(\"\\nSample of similarity features:\")\n",
    "        print(result_df[sample_cols].head(3))\n",
    "        \n",
    "    except Exception as e:\n",
    "        logger.error(f\"Error in similarity metrics demonstration: {e}\")\n",
    "        raise\n",
    "\n",
    "if __name__ == \"__main__\":\n",
    "    main()"
   ]
  },
  {
   "cell_type": "code",
   "execution_count": null,
   "id": "755ef3c6-6129-4695-9d47-5e4244a5f623",
   "metadata": {},
   "outputs": [],
   "source": []
  }
 ],
 "metadata": {
  "kernelspec": {
   "display_name": "Python 3 (ipykernel)",
   "language": "python",
   "name": "python3"
  },
  "language_info": {
   "codemirror_mode": {
    "name": "ipython",
    "version": 3
   },
   "file_extension": ".py",
   "mimetype": "text/x-python",
   "name": "python",
   "nbconvert_exporter": "python",
   "pygments_lexer": "ipython3",
   "version": "3.13.2"
  }
 },
 "nbformat": 4,
 "nbformat_minor": 5
}
